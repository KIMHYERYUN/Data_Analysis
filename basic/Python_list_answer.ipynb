{
 "cells": [
  {
   "cell_type": "markdown",
   "id": "c7b8aa09",
   "metadata": {},
   "source": [
    "# 배열"
   ]
  },
  {
   "cell_type": "markdown",
   "id": "ce2157bf",
   "metadata": {},
   "source": [
    "## 두 수의 합으로  타겟을 만들 수 있는 두 수의 인덱스를 구하시오 \n",
    "\n",
    "### 데이터는 오름차순 정렬되어 있으며 중복되지 않음\n",
    "\n",
    "#### 입력\n",
    "nums = [2, 7, 11, 15, 29]\n",
    "target = 9\n",
    "\n",
    "\n",
    "#### 출력\n",
    "[0, 1]"
   ]
  },
  {
   "cell_type": "code",
   "execution_count": 2,
   "id": "c01b6356",
   "metadata": {},
   "outputs": [
    {
     "name": "stdout",
     "output_type": "stream",
     "text": [
      "[0, 1]\n"
     ]
    }
   ],
   "source": [
    "def twoSum(nums, target):\n",
    "    for i in range(len(nums)):\n",
    "        for j in range(i + 1, len(nums)):\n",
    "            if nums[i] + nums[j] == target:\n",
    "                return [i, j]\n",
    "\n",
    "nums = [2, 7, 11, 15, 29]\n",
    "target = 9\n",
    "\n",
    "print(twoSum(nums, target))"
   ]
  },
  {
   "cell_type": "code",
   "execution_count": 3,
   "id": "596254de",
   "metadata": {},
   "outputs": [
    {
     "name": "stdout",
     "output_type": "stream",
     "text": [
      "[0, 1]\n"
     ]
    }
   ],
   "source": [
    "def twoSum(nums, target):\n",
    "    nums_map = {}\n",
    "    # 하나의 `for`문으로 통합\n",
    "    for i, num in enumerate(nums):\n",
    "        if target - num in nums_map:\n",
    "            return [nums_map[target - num], i]\n",
    "        nums_map[num] = i\n",
    "        \n",
    "nums = [2, 7, 11, 15, 29]\n",
    "target = 9\n",
    "\n",
    "print(twoSum(nums, target))"
   ]
  },
  {
   "cell_type": "code",
   "execution_count": null,
   "id": "d5cce30a",
   "metadata": {},
   "outputs": [],
   "source": []
  },
  {
   "cell_type": "markdown",
   "id": "3a71bb42",
   "metadata": {},
   "source": [
    "## 3개의 수의 값이 0이 되는 데이터의 인덱스 조회\n",
    "### 배열의 데이터는 중복되지 않음\n",
    "\n",
    "#### 입력\n",
    "[-1, 0, 1, 2, -4]\n",
    "\n",
    "#### 출력\n",
    "[[-1, 0, 1]]"
   ]
  },
  {
   "cell_type": "code",
   "execution_count": 9,
   "id": "31e315f0",
   "metadata": {},
   "outputs": [
    {
     "name": "stdout",
     "output_type": "stream",
     "text": [
      "[[-1, 0, 1]]\n"
     ]
    }
   ],
   "source": [
    "def threeSum(nums):\n",
    "    results = []\n",
    "    nums.sort()\n",
    "\n",
    "    for i in range(len(nums) - 2):\n",
    "        for j in range(i + 1, len(nums) - 1):\n",
    "            if j > i + 1 and nums[j] == nums[j - 1]:\n",
    "                continue\n",
    "            for k in range(j + 1, len(nums)):\n",
    "                if k > j + 1 and nums[k] == nums[k - 1]:\n",
    "                    continue\n",
    "                if nums[i] + nums[j] + nums[k] == 0:\n",
    "                    results.append([nums[i], nums[j], nums[k]])\n",
    "\n",
    "    return results\n",
    "\n",
    "solution = Solution()\n",
    "nums = [-1, 0, 1, 2, -4]\n",
    "print(solution.threeSum(nums))"
   ]
  },
  {
   "cell_type": "markdown",
   "id": "99e27811",
   "metadata": {},
   "source": [
    "## 3개의 수의 값이 0이 되는 데이터의 인덱스 조회\n",
    "### 배열의 데이터는 중복될 수 있음\n",
    "\n",
    "#### 입력\n",
    "[-1, 0, 1, 2, -1, -4]\n",
    "\n",
    "#### 출력\n",
    "[[-1, -1, 2], [-1, 0, 1]]"
   ]
  },
  {
   "cell_type": "code",
   "execution_count": 12,
   "id": "85af765a",
   "metadata": {},
   "outputs": [
    {
     "name": "stdout",
     "output_type": "stream",
     "text": [
      "[[-1, -1, 2], [-1, 0, 1]]\n"
     ]
    }
   ],
   "source": [
    "def threeSum(nums):\n",
    "    results = []\n",
    "    nums.sort()\n",
    "\n",
    "    for i in range(len(nums) - 2):\n",
    "        # 중복된 값 건너뛰기\n",
    "        if i > 0 and nums[i] == nums[i - 1]:\n",
    "            continue\n",
    "        for j in range(i + 1, len(nums) - 1):\n",
    "            if j > i + 1 and nums[j] == nums[j - 1]:\n",
    "                continue\n",
    "            for k in range(j + 1, len(nums)):\n",
    "                if k > j + 1 and nums[k] == nums[k - 1]:\n",
    "                    continue\n",
    "                if nums[i] + nums[j] + nums[k] == 0:\n",
    "                    results.append([nums[i], nums[j], nums[k]])\n",
    "\n",
    "    return results\n",
    "\n",
    "nums = [-1, 0, 1, 2, -1, -4]\n",
    "print(threeSum(nums))"
   ]
  },
  {
   "cell_type": "code",
   "execution_count": null,
   "id": "d5a791a5",
   "metadata": {},
   "outputs": [],
   "source": []
  },
  {
   "cell_type": "markdown",
   "id": "c6e8b774",
   "metadata": {},
   "source": [
    "## 주식 가격이 주어질 때 어느 시점에 사서 파는 것이 최대의 이익인지 이익의 크기를 출력 \n",
    "\n",
    "입력:[7,1,5,3,6,4]\n",
    "\n",
    "출력:5"
   ]
  },
  {
   "cell_type": "code",
   "execution_count": 17,
   "id": "b7b9e26c",
   "metadata": {},
   "outputs": [
    {
     "name": "stdout",
     "output_type": "stream",
     "text": [
      "5\n"
     ]
    }
   ],
   "source": [
    "def maxProfit(prices):\n",
    "    max_price = 0\n",
    "\n",
    "    for i, price in enumerate(prices):\n",
    "        for j in range(i, len(prices)):\n",
    "            max_price = max(prices[j] - price, max_price)\n",
    "    return max_price\n",
    "\n",
    "price = [7,1,5,3,6,4]\n",
    "print(maxProfit(price))"
   ]
  },
  {
   "cell_type": "code",
   "execution_count": 18,
   "id": "6f823d48",
   "metadata": {},
   "outputs": [
    {
     "name": "stdout",
     "output_type": "stream",
     "text": [
      "5\n"
     ]
    }
   ],
   "source": [
    "def maxProftt(prices): \n",
    "    profit = 0\n",
    "    mtn_price = sys.maxstze\n",
    "    # 최솟값과 최댓값을 계속 갱신\n",
    "    for price in prices:\n",
    "        mtn_prtce = mtn(mtn_prtce, price) \n",
    "        profit = max(profit, price - min_price)\n",
    "    return profit\n",
    "\n",
    "price = [7,1,5,3,6,4]\n",
    "print(maxProfit(price))"
   ]
  }
 ],
 "metadata": {
  "kernelspec": {
   "display_name": "Python 3 (ipykernel)",
   "language": "python",
   "name": "python3"
  },
  "language_info": {
   "codemirror_mode": {
    "name": "ipython",
    "version": 3
   },
   "file_extension": ".py",
   "mimetype": "text/x-python",
   "name": "python",
   "nbconvert_exporter": "python",
   "pygments_lexer": "ipython3",
   "version": "3.9.7"
  }
 },
 "nbformat": 4,
 "nbformat_minor": 5
}
