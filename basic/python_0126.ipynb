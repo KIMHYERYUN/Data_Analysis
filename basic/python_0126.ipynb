{
 "cells": [
  {
   "cell_type": "markdown",
   "id": "1bf21d26",
   "metadata": {},
   "source": [
    "# Python 기본 문법"
   ]
  },
  {
   "cell_type": "markdown",
   "id": "b2062385",
   "metadata": {},
   "source": [
    "## 연산자(Operator)"
   ]
  },
  {
   "cell_type": "markdown",
   "id": "10f3baec",
   "metadata": {},
   "source": [
    "### 논리 비트 연산자"
   ]
  },
  {
   "cell_type": "code",
   "execution_count": 2,
   "id": "424b1139",
   "metadata": {},
   "outputs": [
    {
     "name": "stdout",
     "output_type": "stream",
     "text": [
      "False\n",
      "1\n",
      "[30]\n"
     ]
    }
   ],
   "source": [
    "print(True and False)\n",
    "print(1 and 1) #정수 데이터도 논리 연산 가능"
   ]
  },
  {
   "cell_type": "markdown",
   "id": "a3fc01ff",
   "metadata": {},
   "source": [
    "### 복합 할당 연산자"
   ]
  },
  {
   "cell_type": "code",
   "execution_count": 3,
   "id": "87d55ab8",
   "metadata": {},
   "outputs": [
    {
     "name": "stdout",
     "output_type": "stream",
     "text": [
      "30\n"
     ]
    }
   ],
   "source": [
    "x = 10\n",
    "\n",
    "x += 20\n",
    "print(x) #30"
   ]
  },
  {
   "cell_type": "code",
   "execution_count": 7,
   "id": "57ceb42e",
   "metadata": {},
   "outputs": [
    {
     "name": "stdout",
     "output_type": "stream",
     "text": [
      "<class 'str'>\n",
      "<class 'tuple'>\n",
      "2882879355568\n"
     ]
    }
   ],
   "source": [
    "x = \"Hello\"\n",
    "print(type(x))\n",
    "\n",
    "y = (10, 30)\n",
    "print(type(y))\n",
    "\n",
    "#데이터의 저장 구분자 확인\n",
    "print(id(x))"
   ]
  },
  {
   "cell_type": "markdown",
   "id": "16ca2735",
   "metadata": {},
   "source": [
    "## 콘솔 입출력"
   ]
  },
  {
   "cell_type": "code",
   "execution_count": 8,
   "id": "eb558fab",
   "metadata": {},
   "outputs": [
    {
     "name": "stdout",
     "output_type": "stream",
     "text": [
      "Help on built-in function print in module builtins:\n",
      "\n",
      "print(...)\n",
      "    print(value, ..., sep=' ', end='\\n', file=sys.stdout, flush=False)\n",
      "    \n",
      "    Prints the values to a stream, or to sys.stdout by default.\n",
      "    Optional keyword arguments:\n",
      "    file:  a file-like object (stream); defaults to the current sys.stdout.\n",
      "    sep:   string inserted between values, default a space.\n",
      "    end:   string appended after the last value, default a newline.\n",
      "    flush: whether to forcibly flush the stream.\n",
      "\n"
     ]
    }
   ],
   "source": [
    "help(print)"
   ]
  },
  {
   "cell_type": "markdown",
   "id": "dbb9a228",
   "metadata": {},
   "source": [
    "### 콘솔 출력"
   ]
  },
  {
   "cell_type": "code",
   "execution_count": 14,
   "id": "80a8167b",
   "metadata": {},
   "outputs": [
    {
     "name": "stdout",
     "output_type": "stream",
     "text": [
      "Hello\n",
      "Hello\n",
      "Hello World\n",
      "Java    JavaScript    Python\n",
      "Python은 //응용 프로그램 개발은 물론이고 웹 프로그래밍 도 가능합니다.\n"
     ]
    }
   ],
   "source": [
    "print(\"Hello\") #출력을 한 후 줄 바꿈\n",
    "print(\"Hello\")\n",
    "print(\"Hello\", \"World\") #여러 개의 데이터 출력\n",
    "#여러 개의 데이터 사이에 구분자 설정\n",
    "print(\"Java\", \"JavaScript\", \"Python\", sep='    ')\n",
    "#출력한 후 줄 바꿈 대신에 다른 내용을 출력\n",
    "print('Python은 ', end = '//')\n",
    "print('응용 프로그램 개발은 물론이고 웹 프로그래밍 도 가능합니다.')"
   ]
  },
  {
   "cell_type": "code",
   "execution_count": 18,
   "id": "ef243315",
   "metadata": {},
   "outputs": [
    {
     "name": "stdout",
     "output_type": "stream",
     "text": [
      "파이는 3.14\n",
      "아담은 신촌 라이브 카페를 좋아합니다.\n",
      "Genesis 는 성공했고 Exodus는 실패했습니다.\n"
     ]
    }
   ],
   "source": [
    "print(\"파이는 %.2f\"%(3.1415)) #소수 2자리만 출력\n",
    "\n",
    "print('{1}은 {0}를 좋아합니다.'.format('신촌 라이브 카페', '아담'))\n",
    "\n",
    "first = \"Genesis\"\n",
    "second = \"Exodus\"\n",
    "\n",
    "print(f\"{first} 는 성공했고 {second}는 실패했습니다.\")"
   ]
  },
  {
   "cell_type": "code",
   "execution_count": null,
   "id": "46412c8b",
   "metadata": {},
   "outputs": [],
   "source": []
  },
  {
   "cell_type": "markdown",
   "id": "7e3bd720",
   "metadata": {},
   "source": [
    "## 제어문"
   ]
  },
  {
   "cell_type": "markdown",
   "id": "32ddc4ae",
   "metadata": {},
   "source": [
    "### 단순 if"
   ]
  },
  {
   "cell_type": "code",
   "execution_count": 25,
   "id": "4e2fff7e",
   "metadata": {},
   "outputs": [
    {
     "name": "stdout",
     "output_type": "stream",
     "text": [
      "bool 데이터를 가지고 수행\n",
      "숫자 데이터를 가지고 수행\n",
      "데이터 목록을 가지고 수행\n"
     ]
    }
   ],
   "source": [
    "var = True\n",
    "if var:\n",
    "    print(\"bool 데이터를 가지고 수행\")\n",
    "    \n",
    "var = 11\n",
    "if var:\n",
    "    print(\"숫자 데이터를 가지고 수행\") # 0이 아닌 숫자는 True\n",
    "    \n",
    "var = [10, 20, 30]\n",
    "if var:\n",
    "    print(\"데이터 목록을 가지고 수행\") # 데이터가 존재하면 True\n",
    "\n",
    "var = []\n",
    "if var:\n",
    "    print(\"데이터 목록을 가지고 수행\") # 데이터가 존재하면 True"
   ]
  },
  {
   "cell_type": "code",
   "execution_count": 26,
   "id": "b8ff1884",
   "metadata": {},
   "outputs": [
    {
     "name": "stdout",
     "output_type": "stream",
     "text": [
      "할리스\n"
     ]
    }
   ],
   "source": [
    "time = 6\n",
    "if time >= 7:\n",
    "    print(\"스타벅스\")\n",
    "else:\n",
    "    print(\"할리스\")"
   ]
  },
  {
   "cell_type": "code",
   "execution_count": 27,
   "id": "6ab56fed",
   "metadata": {},
   "outputs": [
    {
     "name": "stdout",
     "output_type": "stream",
     "text": [
      "불합격\n"
     ]
    }
   ],
   "source": [
    "# 조건문을 이용한 변수의 값 할당\n",
    "result = \"합격\"\n",
    "score = 59\n",
    "if score >= 60:\n",
    "    result = \"합격\"\n",
    "else:\n",
    "    result = \"불합격\"\n",
    "\n",
    "result = \"합격\" if score >= 60 else \"불합격\"\n",
    "print(result)\n",
    "    \n",
    "    "
   ]
  },
  {
   "cell_type": "code",
   "execution_count": 33,
   "id": "fb0cc133",
   "metadata": {},
   "outputs": [
    {
     "name": "stdout",
     "output_type": "stream",
     "text": [
      "점수를 입력하세요:101\n",
      "잘못된 점수입니다.\n"
     ]
    }
   ],
   "source": [
    "#하나의 정수를 입력받아서\n",
    "#90-100 이면 A\n",
    "#80-89 이면 B\n",
    "#70-79 이면 C\n",
    "#60-69 이면 D\n",
    "#0-59 이면 F\n",
    "#그 이외의 숫자는 잘못된 입력\n",
    "#이라고 출력하기\n",
    "\n",
    "\n",
    "#하나의 문자열을 입력받기\n",
    "score = input(\"점수를 입력하세요:\")\n",
    "#문자열을 정수로 변환\n",
    "score = int(score)\n",
    "\n",
    "if score >= 90 and score <= 100:\n",
    "    print(\"A\")\n",
    "elif score >= 80 and score < 90:\n",
    "    print(\"B\")\n",
    "elif score >= 70 and score < 80:\n",
    "    print(\"C\")\n",
    "elif score >= 60 and score < 70:\n",
    "    print(\"D\")\n",
    "elif score >= 0 and score < 60:\n",
    "    print(\"F\")\n",
    "else:\n",
    "    print(\"잘못된 점수입니다.\")\n"
   ]
  },
  {
   "cell_type": "code",
   "execution_count": null,
   "id": "0e5885d6",
   "metadata": {},
   "outputs": [],
   "source": []
  },
  {
   "cell_type": "markdown",
   "id": "9b3f8745",
   "metadata": {},
   "source": [
    "### while"
   ]
  },
  {
   "cell_type": "code",
   "execution_count": 36,
   "id": "327d5591",
   "metadata": {},
   "outputs": [
    {
     "name": "stdout",
     "output_type": "stream",
     "text": [
      "0\n",
      "1\n",
      "2\n",
      "3\n",
      "4\n",
      "5\n",
      "6\n",
      "7\n",
      "8\n",
      "9\n"
     ]
    }
   ],
   "source": [
    "i = 0\n",
    "while i < 10:\n",
    "    print(i)\n",
    "    i = i + 1"
   ]
  },
  {
   "cell_type": "code",
   "execution_count": 42,
   "id": "970f779c",
   "metadata": {},
   "outputs": [
    {
     "name": "stdout",
     "output_type": "stream",
     "text": [
      "검색어를 입력하세요카리나\n",
      "https://www.donga.com/news/search?p=1&query=카리나\n",
      "https://www.donga.com/news/search?p=16&query=카리나\n",
      "https://www.donga.com/news/search?p=31&query=카리나\n",
      "https://www.donga.com/news/search?p=46&query=카리나\n",
      "https://www.donga.com/news/search?p=61&query=카리나\n",
      "https://www.donga.com/news/search?p=76&query=카리나\n",
      "https://www.donga.com/news/search?p=91&query=카리나\n",
      "https://www.donga.com/news/search?p=106&query=카리나\n",
      "https://www.donga.com/news/search?p=121&query=카리나\n",
      "https://www.donga.com/news/search?p=136&query=카리나\n"
     ]
    }
   ],
   "source": [
    "#동아일보 검색 페이지 URL\n",
    "#https://www.donga.com/news/search?p=데이터의 시작번호&query=검색어\n",
    "#1page: 1번에서 시작\n",
    "#2page: 16번에서 시작\n",
    "#3page: 31번에서 시작\n",
    "    \n",
    "    \n",
    "#검색어를 입력받아서 1페이지부터 10페이지까지 크롤링 할 수 있는 URL을 출력\n",
    "\n",
    "query = input(\"검색어를 입력하세요\")\n",
    "\n",
    "idx = 0\n",
    "while idx < 10:\n",
    "    print(f\"https://www.donga.com/news/search?p={idx * 15 + 1}\" \n",
    "          + f\"&query={query}\")\n",
    "    idx = idx + 1\n"
   ]
  },
  {
   "cell_type": "code",
   "execution_count": 45,
   "id": "987d179a",
   "metadata": {},
   "outputs": [
    {
     "name": "stdout",
     "output_type": "stream",
     "text": [
      "0\n",
      "1\n",
      "2\n",
      "3\n"
     ]
    }
   ],
   "source": [
    "idx = 0\n",
    "while idx < 5:\n",
    "    print(idx)\n",
    "    idx = idx + 1\n",
    "    if idx > 3:\n",
    "        break\n",
    "#반복문이 전부 수행된 경우 즉 중간에 종료되지 않은 경우에만 수행\n",
    "else:\n",
    "    print(\"반복문을 전부 수행하고 종료\")"
   ]
  },
  {
   "cell_type": "code",
   "execution_count": null,
   "id": "b1f86909",
   "metadata": {},
   "outputs": [],
   "source": []
  },
  {
   "cell_type": "markdown",
   "id": "623a8288",
   "metadata": {},
   "source": [
    "### for"
   ]
  },
  {
   "cell_type": "code",
   "execution_count": 52,
   "id": "7a210ab9",
   "metadata": {},
   "outputs": [
    {
     "name": "stdout",
     "output_type": "stream",
     "text": [
      "H\n",
      "e\n",
      "l\n",
      "l\n",
      "o\n",
      " \n",
      "S\n",
      "t\n",
      "r\n",
      "i\n",
      "n\n",
      "g\n",
      "Java\n",
      "JavaScript\n",
      "Python\n",
      "language\n",
      "database\n",
      "framewor\n"
     ]
    }
   ],
   "source": [
    "s = \"Hello String\" #문자열\n",
    "for ch in s:\n",
    "    print(ch)\n",
    "#print(dir(s))\n",
    "\n",
    "pl = [\"Java\", \"JavaScript\", \"Python\"]\n",
    "#print(dir(pl))\n",
    "for language in pl:\n",
    "    print(language)\n",
    "    \n",
    "dictionary = {\"language\": \"Java\", \"database\":\"MySQL\", \"framework\":\"Spring\"}\n",
    "#print(dir(dictionary))\n",
    "#dict 는 key를 순회\n",
    "for imsi in dictionary:\n",
    "    print(imsi)"
   ]
  },
  {
   "cell_type": "code",
   "execution_count": null,
   "id": "f3fd700e",
   "metadata": {},
   "outputs": [],
   "source": []
  },
  {
   "cell_type": "markdown",
   "id": "accc727f",
   "metadata": {},
   "source": [
    "### range"
   ]
  },
  {
   "cell_type": "code",
   "execution_count": 54,
   "id": "471aba10",
   "metadata": {},
   "outputs": [
    {
     "name": "stdout",
     "output_type": "stream",
     "text": [
      "<class 'range'>\n",
      "['__bool__', '__class__', '__contains__', '__delattr__', '__dir__', '__doc__', '__eq__', '__format__', '__ge__', '__getattribute__', '__getitem__', '__gt__', '__hash__', '__init__', '__init_subclass__', '__iter__', '__le__', '__len__', '__lt__', '__ne__', '__new__', '__reduce__', '__reduce_ex__', '__repr__', '__reversed__', '__setattr__', '__sizeof__', '__str__', '__subclasshook__', 'count', 'index', 'start', 'step', 'stop']\n"
     ]
    }
   ],
   "source": [
    "print(type(range(0, 10, 1)))\n",
    "print(dir(range))"
   ]
  },
  {
   "cell_type": "code",
   "execution_count": 55,
   "id": "9a0e1f7f",
   "metadata": {},
   "outputs": [
    {
     "name": "stdout",
     "output_type": "stream",
     "text": [
      "0\n",
      "2\n",
      "4\n",
      "6\n",
      "8\n"
     ]
    }
   ],
   "source": [
    "for idx in range(0, 10, 2):\n",
    "    print(idx)"
   ]
  },
  {
   "cell_type": "code",
   "execution_count": null,
   "id": "56d4d214",
   "metadata": {},
   "outputs": [],
   "source": []
  },
  {
   "cell_type": "markdown",
   "id": "dce188ad",
   "metadata": {},
   "source": [
    "### 제어문의 중첩"
   ]
  },
  {
   "cell_type": "code",
   "execution_count": 56,
   "id": "70faecbc",
   "metadata": {},
   "outputs": [
    {
     "name": "stdout",
     "output_type": "stream",
     "text": [
      "*\n",
      "**\n",
      "***\n",
      "****\n",
      "*****\n"
     ]
    }
   ],
   "source": [
    "#*\n",
    "#**\n",
    "#***\n",
    "#****\n",
    "#*****\n",
    "\n",
    "for i in range(1, 6, 1): #5줄\n",
    "    for j in range(1, i+1, 1): #각줄은 1번부터 줄 번호까지\n",
    "        print('*', end='') #*을 출력하고 줄바꿈을 하지 않도록\n",
    "    print()\n"
   ]
  },
  {
   "cell_type": "code",
   "execution_count": 58,
   "id": "a3084dc6",
   "metadata": {},
   "outputs": [
    {
     "name": "stdout",
     "output_type": "stream",
     "text": [
      "*\n",
      "**\n",
      "***\n",
      "**\n",
      "*\n",
      "*\n",
      "**\n",
      "***\n",
      "**\n",
      "*\n"
     ]
    }
   ],
   "source": [
    "#*\n",
    "#**\n",
    "#***\n",
    "#**\n",
    "#*\n",
    "\n",
    "for i in range(1, 6, 1):\n",
    "    if i <= 3:\n",
    "        for j in range(1, i+1, 1): #각줄은 1번부터 줄 번호까지\n",
    "            print('*', end='') #*을 출력하고 줄바꿈을 하지 않도록\n",
    "    else:\n",
    "        for j in range(1, 7-i, 1):\n",
    "            print('*', end='')\n",
    "    print()\n",
    "    \n",
    "for i in range(1, 6, 1):\n",
    "    j = i+1 if i<=3 else 7-i\n",
    "    for j in range(1, j, 1): \n",
    "        print('*', end='') \n",
    "    print()"
   ]
  },
  {
   "cell_type": "code",
   "execution_count": null,
   "id": "346254f4",
   "metadata": {},
   "outputs": [],
   "source": []
  },
  {
   "cell_type": "markdown",
   "id": "0afc4f07",
   "metadata": {},
   "source": [
    "### continue 와 break"
   ]
  },
  {
   "cell_type": "code",
   "execution_count": 59,
   "id": "f5bb05ac",
   "metadata": {},
   "outputs": [
    {
     "name": "stdout",
     "output_type": "stream",
     "text": [
      "1\n",
      "2\n",
      "3\n",
      "\n",
      "\n",
      "1\n",
      "2\n",
      "3\n",
      "4\n",
      "5\n",
      "6\n",
      "7\n",
      "8\n",
      "9\n"
     ]
    }
   ],
   "source": [
    "for i in range(1, 10):\n",
    "    print(i)\n",
    "    if i % 3 == 0:\n",
    "        break;\n",
    "#1 2 3\n",
    "        \n",
    "print()\n",
    "print()\n",
    "\n",
    "#continue는 아래 문장을 더이상 수행하지 않고 다음 반복으로 넘어감\n",
    "#continue가 가장 마지막 일 때는 아무런 역할도 하지 않음\n",
    "for i in range(1, 10):\n",
    "    print(i)\n",
    "    if i % 3 == 0:\n",
    "        continue;"
   ]
  },
  {
   "cell_type": "code",
   "execution_count": 65,
   "id": "06ac38e5",
   "metadata": {},
   "outputs": [
    {
     "name": "stdout",
     "output_type": "stream",
     "text": [
      "610\n"
     ]
    }
   ],
   "source": [
    "#피보나치 수열\n",
    "#1, 1, 2, 3, 5, 8, 13, 21, 34, 55, 89, 144, \n",
    "#첫번째 와 두번째는 1 세번째 부터는 앞의 2개의 항의 합\n",
    "\n",
    "#15번째 피보나치 수열의 값을 재귀를 사용하지 않고 출력\n",
    "\n",
    "n_1 = 1\n",
    "n_2 = 1\n",
    "fibo = 1\n",
    "for i in range(3, 16, 1):\n",
    "    fibo = n_1 + n_2 \n",
    "    n_2, n_1 = n_1, fibo # 파이썬은 여러개의 변수에 여러 값을 한꺼번에 대입 가능\n",
    "print(fibo)"
   ]
  },
  {
   "cell_type": "code",
   "execution_count": null,
   "id": "ac5a45f4",
   "metadata": {},
   "outputs": [],
   "source": []
  },
  {
   "cell_type": "markdown",
   "id": "80c65bf3",
   "metadata": {},
   "source": [
    "## Function"
   ]
  },
  {
   "cell_type": "markdown",
   "id": "37a3357e",
   "metadata": {},
   "source": [
    "### Maker Function 확인"
   ]
  },
  {
   "cell_type": "code",
   "execution_count": 66,
   "id": "26396388",
   "metadata": {},
   "outputs": [
    {
     "data": {
      "text/plain": [
       "['ArithmeticError',\n",
       " 'AssertionError',\n",
       " 'AttributeError',\n",
       " 'BaseException',\n",
       " 'BlockingIOError',\n",
       " 'BrokenPipeError',\n",
       " 'BufferError',\n",
       " 'BytesWarning',\n",
       " 'ChildProcessError',\n",
       " 'ConnectionAbortedError',\n",
       " 'ConnectionError',\n",
       " 'ConnectionRefusedError',\n",
       " 'ConnectionResetError',\n",
       " 'DeprecationWarning',\n",
       " 'EOFError',\n",
       " 'Ellipsis',\n",
       " 'EnvironmentError',\n",
       " 'Exception',\n",
       " 'False',\n",
       " 'FileExistsError',\n",
       " 'FileNotFoundError',\n",
       " 'FloatingPointError',\n",
       " 'FutureWarning',\n",
       " 'GeneratorExit',\n",
       " 'IOError',\n",
       " 'ImportError',\n",
       " 'ImportWarning',\n",
       " 'IndentationError',\n",
       " 'IndexError',\n",
       " 'InterruptedError',\n",
       " 'IsADirectoryError',\n",
       " 'KeyError',\n",
       " 'KeyboardInterrupt',\n",
       " 'LookupError',\n",
       " 'MemoryError',\n",
       " 'ModuleNotFoundError',\n",
       " 'NameError',\n",
       " 'None',\n",
       " 'NotADirectoryError',\n",
       " 'NotImplemented',\n",
       " 'NotImplementedError',\n",
       " 'OSError',\n",
       " 'OverflowError',\n",
       " 'PendingDeprecationWarning',\n",
       " 'PermissionError',\n",
       " 'ProcessLookupError',\n",
       " 'RecursionError',\n",
       " 'ReferenceError',\n",
       " 'ResourceWarning',\n",
       " 'RuntimeError',\n",
       " 'RuntimeWarning',\n",
       " 'StopAsyncIteration',\n",
       " 'StopIteration',\n",
       " 'SyntaxError',\n",
       " 'SyntaxWarning',\n",
       " 'SystemError',\n",
       " 'SystemExit',\n",
       " 'TabError',\n",
       " 'TimeoutError',\n",
       " 'True',\n",
       " 'TypeError',\n",
       " 'UnboundLocalError',\n",
       " 'UnicodeDecodeError',\n",
       " 'UnicodeEncodeError',\n",
       " 'UnicodeError',\n",
       " 'UnicodeTranslateError',\n",
       " 'UnicodeWarning',\n",
       " 'UserWarning',\n",
       " 'ValueError',\n",
       " 'Warning',\n",
       " 'WindowsError',\n",
       " 'ZeroDivisionError',\n",
       " '__IPYTHON__',\n",
       " '__build_class__',\n",
       " '__debug__',\n",
       " '__doc__',\n",
       " '__import__',\n",
       " '__loader__',\n",
       " '__name__',\n",
       " '__package__',\n",
       " '__spec__',\n",
       " 'abs',\n",
       " 'all',\n",
       " 'any',\n",
       " 'ascii',\n",
       " 'bin',\n",
       " 'bool',\n",
       " 'breakpoint',\n",
       " 'bytearray',\n",
       " 'bytes',\n",
       " 'callable',\n",
       " 'chr',\n",
       " 'classmethod',\n",
       " 'compile',\n",
       " 'complex',\n",
       " 'copyright',\n",
       " 'credits',\n",
       " 'delattr',\n",
       " 'dict',\n",
       " 'dir',\n",
       " 'display',\n",
       " 'divmod',\n",
       " 'enumerate',\n",
       " 'eval',\n",
       " 'exec',\n",
       " 'execfile',\n",
       " 'filter',\n",
       " 'float',\n",
       " 'format',\n",
       " 'frozenset',\n",
       " 'get_ipython',\n",
       " 'getattr',\n",
       " 'globals',\n",
       " 'hasattr',\n",
       " 'hash',\n",
       " 'help',\n",
       " 'hex',\n",
       " 'id',\n",
       " 'input',\n",
       " 'int',\n",
       " 'isinstance',\n",
       " 'issubclass',\n",
       " 'iter',\n",
       " 'len',\n",
       " 'license',\n",
       " 'list',\n",
       " 'locals',\n",
       " 'map',\n",
       " 'max',\n",
       " 'memoryview',\n",
       " 'min',\n",
       " 'next',\n",
       " 'object',\n",
       " 'oct',\n",
       " 'open',\n",
       " 'ord',\n",
       " 'pow',\n",
       " 'print',\n",
       " 'property',\n",
       " 'range',\n",
       " 'repr',\n",
       " 'reversed',\n",
       " 'round',\n",
       " 'runfile',\n",
       " 'set',\n",
       " 'setattr',\n",
       " 'slice',\n",
       " 'sorted',\n",
       " 'staticmethod',\n",
       " 'str',\n",
       " 'sum',\n",
       " 'super',\n",
       " 'tuple',\n",
       " 'type',\n",
       " 'vars',\n",
       " 'zip']"
      ]
     },
     "execution_count": 66,
     "metadata": {},
     "output_type": "execute_result"
    }
   ],
   "source": [
    "dir(__builtins__)"
   ]
  },
  {
   "cell_type": "code",
   "execution_count": 68,
   "id": "b691036c",
   "metadata": {},
   "outputs": [
    {
     "name": "stdout",
     "output_type": "stream",
     "text": [
      "Help on built-in function max in module builtins:\n",
      "\n",
      "max(...)\n",
      "    max(iterable, *[, default=obj, key=func]) -> value\n",
      "    max(arg1, arg2, *args, *[, key=func]) -> value\n",
      "    \n",
      "    With a single iterable argument, return its biggest item. The\n",
      "    default keyword-only argument specifies an object to return if\n",
      "    the provided iterable is empty.\n",
      "    With two or more arguments, return the largest argument.\n",
      "\n",
      "None\n"
     ]
    }
   ],
   "source": [
    "print(help(max))"
   ]
  },
  {
   "cell_type": "code",
   "execution_count": 69,
   "id": "3aa933bc",
   "metadata": {},
   "outputs": [
    {
     "name": "stdout",
     "output_type": "stream",
     "text": [
      "300\n"
     ]
    }
   ],
   "source": [
    "print(max([100, 300, 200]))"
   ]
  },
  {
   "cell_type": "markdown",
   "id": "94bae4a6",
   "metadata": {},
   "source": [
    "### 함수의 정의  와 호출"
   ]
  },
  {
   "cell_type": "code",
   "execution_count": 72,
   "id": "67a418b6",
   "metadata": {},
   "outputs": [
    {
     "name": "stdout",
     "output_type": "stream",
     "text": [
      "매개변수가 없고 리턴도 없는 함수\n"
     ]
    }
   ],
   "source": [
    "def func():\n",
    "    print(\"매개변수가 없고 리턴도 없는 함수\")\n",
    "    \n",
    "func #함수가 저장된 곳의 참조\n",
    "\n",
    "func()"
   ]
  },
  {
   "cell_type": "markdown",
   "id": "3e786e9c",
   "metadata": {},
   "source": [
    "### 매개변수를 이용한 데이터 수정"
   ]
  },
  {
   "cell_type": "code",
   "execution_count": 73,
   "id": "bf121654",
   "metadata": {},
   "outputs": [
    {
     "name": "stdout",
     "output_type": "stream",
     "text": [
      "함수 내부:101\n",
      "x:100\n",
      "함수 내부:[101, 200, 300]\n",
      "xr:[101, 200, 300]\n"
     ]
    }
   ],
   "source": [
    "def callByValue(n):\n",
    "    n = n + 1\n",
    "    print(f\"함수 내부:{n}\")\n",
    "    \n",
    "def callByReference(ar):\n",
    "    ar[0] = ar[0] + 1\n",
    "    print(f\"함수 내부:{ar}\")\n",
    "    \n",
    "    \n",
    "x = 100\n",
    "#Scala 데이터를 넘겼으므로 x 의 데이터는 변하지 않음\n",
    "callByValue(x)\n",
    "print(f\"x:{x}\")\n",
    "\n",
    "xr = [100, 200, 300]\n",
    "#Vector 데이터를 넘겼으므로 xr 의 데이터는 변경될 수 도 있음\n",
    "callByReference(xr)\n",
    "print(f\"xr:{xr}\")"
   ]
  },
  {
   "cell_type": "markdown",
   "id": "f9081743",
   "metadata": {},
   "source": [
    "### 매개변수의 기본값과 이름을 이용한 대입"
   ]
  },
  {
   "cell_type": "code",
   "execution_count": 78,
   "id": "978933e0",
   "metadata": {},
   "outputs": [
    {
     "name": "stdout",
     "output_type": "stream",
     "text": [
      "4\n",
      "1\n",
      "30\n"
     ]
    }
   ],
   "source": [
    "#2개의 데이터를 대입하면 덧셈을 해서 결과를 리턴하는 함수\n",
    "def func1(x , y=0):\n",
    "    return x + y\n",
    "\n",
    "print(func1(1, 3)) #2개의 데이터를 모두 대입했으므로 1+3\n",
    "print(func1(1)) #하나의 데이터만 대입했으므로 두번째 데이터는 기본값 0 -> 1+0\n",
    "print(func1(x=10, y=20)) #매개변수의 이름과 함께 대입, 순서를 변경해서 대입해도 됩니다.\n"
   ]
  },
  {
   "cell_type": "code",
   "execution_count": 81,
   "id": "e2245ded",
   "metadata": {},
   "outputs": [
    {
     "name": "stdout",
     "output_type": "stream",
     "text": [
      "Help on built-in function sum in module builtins:\n",
      "\n",
      "sum(iterable, /, start=0)\n",
      "    Return the sum of a 'start' value (default: 0) plus an iterable of numbers\n",
      "    \n",
      "    When the iterable is empty, return the start value.\n",
      "    This function is intended specifically for use with numeric values and may\n",
      "    reject non-numeric types.\n",
      "\n",
      "1000\n"
     ]
    }
   ],
   "source": [
    "#합계 구해주는 함수는 sum\n",
    "help(sum)\n",
    "\n",
    "print(sum([100, 300, 500], start=100))"
   ]
  },
  {
   "cell_type": "code",
   "execution_count": 87,
   "id": "f17628ff",
   "metadata": {},
   "outputs": [
    {
     "name": "stdout",
     "output_type": "stream",
     "text": [
      "첫번째 매개변수:응용 프로그램\n",
      "두번째 매개변수:데이터 분석\n",
      "첫번째 매개변수:python\n",
      "두번째 매개변수:파이썬\n",
      "첫번째 매개변수:Java\n",
      "두번째 매개변수:Python\n",
      "첫번째 매개변수:second\n",
      "두번째 매개변수:first\n",
      "첫번째 매개변수:Python\n",
      "두번째 매개변수:Java\n"
     ]
    }
   ],
   "source": [
    "def func2(first , second):\n",
    "    print(f\"첫번째 매개변수:{first}\")\n",
    "    print(f\"두번째 매개변수:{second}\")\n",
    "\n",
    "\n",
    "func2(\"응용 프로그램\", \"데이터 분석\")\n",
    "func2(second=\"파이썬\", first=\"python\")\n",
    "#vector 자료형의 데이터를 분해해서 매개변수로 대입하는 것을 unpacking 이라고 합니다.\n",
    "func2(*[\"Java\", \"Python\"])\n",
    "func2(*{\"second\":\"Java\", \"first\":\"Python\"}) \n",
    "# 키이름이 순서대로 대입\n",
    "func2(**{\"second\":\"Java\", \"first\":\"Python\"}) \n",
    "# 키 이름과 일치하는 매개변수에 대입됩니다."
   ]
  },
  {
   "cell_type": "code",
   "execution_count": null,
   "id": "78e0d778",
   "metadata": {},
   "outputs": [],
   "source": []
  }
 ],
 "metadata": {
  "kernelspec": {
   "display_name": "Python 3 (ipykernel)",
   "language": "python",
   "name": "python3"
  },
  "language_info": {
   "codemirror_mode": {
    "name": "ipython",
    "version": 3
   },
   "file_extension": ".py",
   "mimetype": "text/x-python",
   "name": "python",
   "nbconvert_exporter": "python",
   "pygments_lexer": "ipython3",
   "version": "3.9.7"
  }
 },
 "nbformat": 4,
 "nbformat_minor": 5
}
