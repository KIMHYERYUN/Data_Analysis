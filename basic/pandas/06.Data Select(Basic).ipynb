{
 "cells": [
  {
   "cell_type": "markdown",
   "id": "741fedd2",
   "metadata": {},
   "source": [
    "# 6.데이터 선택"
   ]
  },
  {
   "cell_type": "code",
   "execution_count": 2,
   "id": "96b3ffbe",
   "metadata": {},
   "outputs": [
    {
     "data": {
      "text/html": [
       "<div>\n",
       "<style scoped>\n",
       "    .dataframe tbody tr th:only-of-type {\n",
       "        vertical-align: middle;\n",
       "    }\n",
       "\n",
       "    .dataframe tbody tr th {\n",
       "        vertical-align: top;\n",
       "    }\n",
       "\n",
       "    .dataframe thead th {\n",
       "        text-align: right;\n",
       "    }\n",
       "</style>\n",
       "<table border=\"1\" class=\"dataframe\">\n",
       "  <thead>\n",
       "    <tr style=\"text-align: right;\">\n",
       "      <th></th>\n",
       "      <th>이름</th>\n",
       "      <th>학교</th>\n",
       "      <th>키</th>\n",
       "      <th>국어</th>\n",
       "      <th>수학</th>\n",
       "      <th>영어</th>\n",
       "      <th>과학</th>\n",
       "      <th>사회</th>\n",
       "      <th>특기</th>\n",
       "    </tr>\n",
       "    <tr>\n",
       "      <th>지원번호</th>\n",
       "      <th></th>\n",
       "      <th></th>\n",
       "      <th></th>\n",
       "      <th></th>\n",
       "      <th></th>\n",
       "      <th></th>\n",
       "      <th></th>\n",
       "      <th></th>\n",
       "      <th></th>\n",
       "    </tr>\n",
       "  </thead>\n",
       "  <tbody>\n",
       "    <tr>\n",
       "      <th>1번</th>\n",
       "      <td>kim</td>\n",
       "      <td>덕원여고</td>\n",
       "      <td>167</td>\n",
       "      <td>85</td>\n",
       "      <td>95</td>\n",
       "      <td>90</td>\n",
       "      <td>88</td>\n",
       "      <td>80</td>\n",
       "      <td>python</td>\n",
       "    </tr>\n",
       "    <tr>\n",
       "      <th>2번</th>\n",
       "      <td>hur</td>\n",
       "      <td>덕원여고</td>\n",
       "      <td>165</td>\n",
       "      <td>90</td>\n",
       "      <td>81</td>\n",
       "      <td>95</td>\n",
       "      <td>79</td>\n",
       "      <td>93</td>\n",
       "      <td>java</td>\n",
       "    </tr>\n",
       "    <tr>\n",
       "      <th>3번</th>\n",
       "      <td>park</td>\n",
       "      <td>덕원여고</td>\n",
       "      <td>180</td>\n",
       "      <td>70</td>\n",
       "      <td>73</td>\n",
       "      <td>89</td>\n",
       "      <td>60</td>\n",
       "      <td>91</td>\n",
       "      <td>c</td>\n",
       "    </tr>\n",
       "    <tr>\n",
       "      <th>4번</th>\n",
       "      <td>jung</td>\n",
       "      <td>화곡고</td>\n",
       "      <td>172</td>\n",
       "      <td>89</td>\n",
       "      <td>86</td>\n",
       "      <td>61</td>\n",
       "      <td>95</td>\n",
       "      <td>80</td>\n",
       "      <td>c</td>\n",
       "    </tr>\n",
       "    <tr>\n",
       "      <th>5번</th>\n",
       "      <td>lee</td>\n",
       "      <td>광영여고</td>\n",
       "      <td>176</td>\n",
       "      <td>100</td>\n",
       "      <td>91</td>\n",
       "      <td>70</td>\n",
       "      <td>86</td>\n",
       "      <td>94</td>\n",
       "      <td>java</td>\n",
       "    </tr>\n",
       "    <tr>\n",
       "      <th>6번</th>\n",
       "      <td>choi</td>\n",
       "      <td>덕원여고</td>\n",
       "      <td>161</td>\n",
       "      <td>61</td>\n",
       "      <td>40</td>\n",
       "      <td>80</td>\n",
       "      <td>54</td>\n",
       "      <td>79</td>\n",
       "      <td>javascript</td>\n",
       "    </tr>\n",
       "    <tr>\n",
       "      <th>7번</th>\n",
       "      <td>han</td>\n",
       "      <td>화곡고</td>\n",
       "      <td>159</td>\n",
       "      <td>50</td>\n",
       "      <td>80</td>\n",
       "      <td>86</td>\n",
       "      <td>75</td>\n",
       "      <td>81</td>\n",
       "      <td>python</td>\n",
       "    </tr>\n",
       "  </tbody>\n",
       "</table>\n",
       "</div>"
      ],
      "text/plain": [
       "        이름    학교    키   국어  수학  영어  과학  사회          특기\n",
       "지원번호                                                  \n",
       "1번     kim  덕원여고  167   85  95  90  88  80      python\n",
       "2번     hur  덕원여고  165   90  81  95  79  93        java\n",
       "3번    park  덕원여고  180   70  73  89  60  91           c\n",
       "4번    jung   화곡고  172   89  86  61  95  80           c\n",
       "5번     lee  광영여고  176  100  91  70  86  94        java\n",
       "6번    choi  덕원여고  161   61  40  80  54  79  javascript\n",
       "7번     han   화곡고  159   50  80  86  75  81      python"
      ]
     },
     "execution_count": 2,
     "metadata": {},
     "output_type": "execute_result"
    }
   ],
   "source": [
    "import pandas as pd\n",
    "df = pd.read_excel('score.xlsx', index_col='지원번호')\n",
    "df"
   ]
  },
  {
   "cell_type": "markdown",
   "id": "3b4c13bf",
   "metadata": {},
   "source": [
    "## Column 선택 => label"
   ]
  },
  {
   "cell_type": "code",
   "execution_count": 4,
   "id": "827c5029",
   "metadata": {},
   "outputs": [
    {
     "data": {
      "text/plain": [
       "지원번호\n",
       "1번     kim\n",
       "2번     hur\n",
       "3번    park\n",
       "4번    jung\n",
       "5번     lee\n",
       "6번    choi\n",
       "7번     han\n",
       "Name: 이름, dtype: object"
      ]
     },
     "execution_count": 4,
     "metadata": {},
     "output_type": "execute_result"
    }
   ],
   "source": [
    "df['이름'] "
   ]
  },
  {
   "cell_type": "code",
   "execution_count": 7,
   "id": "5ec2e444",
   "metadata": {},
   "outputs": [
    {
     "data": {
      "text/html": [
       "<div>\n",
       "<style scoped>\n",
       "    .dataframe tbody tr th:only-of-type {\n",
       "        vertical-align: middle;\n",
       "    }\n",
       "\n",
       "    .dataframe tbody tr th {\n",
       "        vertical-align: top;\n",
       "    }\n",
       "\n",
       "    .dataframe thead th {\n",
       "        text-align: right;\n",
       "    }\n",
       "</style>\n",
       "<table border=\"1\" class=\"dataframe\">\n",
       "  <thead>\n",
       "    <tr style=\"text-align: right;\">\n",
       "      <th></th>\n",
       "      <th>이름</th>\n",
       "      <th>키</th>\n",
       "    </tr>\n",
       "    <tr>\n",
       "      <th>지원번호</th>\n",
       "      <th></th>\n",
       "      <th></th>\n",
       "    </tr>\n",
       "  </thead>\n",
       "  <tbody>\n",
       "    <tr>\n",
       "      <th>1번</th>\n",
       "      <td>kim</td>\n",
       "      <td>167</td>\n",
       "    </tr>\n",
       "    <tr>\n",
       "      <th>2번</th>\n",
       "      <td>hur</td>\n",
       "      <td>165</td>\n",
       "    </tr>\n",
       "    <tr>\n",
       "      <th>3번</th>\n",
       "      <td>park</td>\n",
       "      <td>180</td>\n",
       "    </tr>\n",
       "    <tr>\n",
       "      <th>4번</th>\n",
       "      <td>jung</td>\n",
       "      <td>172</td>\n",
       "    </tr>\n",
       "    <tr>\n",
       "      <th>5번</th>\n",
       "      <td>lee</td>\n",
       "      <td>176</td>\n",
       "    </tr>\n",
       "    <tr>\n",
       "      <th>6번</th>\n",
       "      <td>choi</td>\n",
       "      <td>161</td>\n",
       "    </tr>\n",
       "    <tr>\n",
       "      <th>7번</th>\n",
       "      <td>han</td>\n",
       "      <td>159</td>\n",
       "    </tr>\n",
       "  </tbody>\n",
       "</table>\n",
       "</div>"
      ],
      "text/plain": [
       "        이름    키\n",
       "지원번호           \n",
       "1번     kim  167\n",
       "2번     hur  165\n",
       "3번    park  180\n",
       "4번    jung  172\n",
       "5번     lee  176\n",
       "6번    choi  161\n",
       "7번     han  159"
      ]
     },
     "execution_count": 7,
     "metadata": {},
     "output_type": "execute_result"
    }
   ],
   "source": [
    "# 일부 선택된 열 가져오기 - 단 df[[가져올 column 명]], [] 2개\n",
    "df[['이름', '키']]"
   ]
  },
  {
   "cell_type": "markdown",
   "id": "77b2bf0e",
   "metadata": {},
   "source": [
    "## Column 선택(정수 index)"
   ]
  },
  {
   "cell_type": "code",
   "execution_count": 9,
   "id": "02f92015",
   "metadata": {},
   "outputs": [
    {
     "data": {
      "text/plain": [
       "Index(['이름', '학교', '키', '국어', '수학', '영어', '과학', '사회', '특기'], dtype='object')"
      ]
     },
     "execution_count": 9,
     "metadata": {},
     "output_type": "execute_result"
    }
   ],
   "source": [
    "df.columns"
   ]
  },
  {
   "cell_type": "code",
   "execution_count": 10,
   "id": "21023184",
   "metadata": {},
   "outputs": [
    {
     "data": {
      "text/plain": [
       "'이름'"
      ]
     },
     "execution_count": 10,
     "metadata": {},
     "output_type": "execute_result"
    }
   ],
   "source": [
    "df.columns[0]"
   ]
  },
  {
   "cell_type": "code",
   "execution_count": 11,
   "id": "daf830a8",
   "metadata": {},
   "outputs": [
    {
     "data": {
      "text/plain": [
       "지원번호\n",
       "1번     kim\n",
       "2번     hur\n",
       "3번    park\n",
       "4번    jung\n",
       "5번     lee\n",
       "6번    choi\n",
       "7번     han\n",
       "Name: 이름, dtype: object"
      ]
     },
     "execution_count": 11,
     "metadata": {},
     "output_type": "execute_result"
    }
   ],
   "source": [
    "#열의 이름을 모를경우 / 위치만 알 경우\n",
    "df[df.columns[0]]  "
   ]
  },
  {
   "cell_type": "code",
   "execution_count": 12,
   "id": "3aeebcd8",
   "metadata": {},
   "outputs": [
    {
     "data": {
      "text/plain": [
       "지원번호\n",
       "1번        python\n",
       "2번          java\n",
       "3번             c\n",
       "4번             c\n",
       "5번          java\n",
       "6번    javascript\n",
       "7번        python\n",
       "Name: 특기, dtype: object"
      ]
     },
     "execution_count": 12,
     "metadata": {},
     "output_type": "execute_result"
    }
   ],
   "source": [
    "#맨 끝의 열 가져오기\n",
    "df[df.columns[-1]]"
   ]
  },
  {
   "cell_type": "markdown",
   "id": "b636c20d",
   "metadata": {},
   "source": [
    "## 슬라이싱"
   ]
  },
  {
   "cell_type": "code",
   "execution_count": 13,
   "id": "c1b729a4",
   "metadata": {},
   "outputs": [
    {
     "data": {
      "text/plain": [
       "지원번호\n",
       "1번    90\n",
       "2번    95\n",
       "3번    89\n",
       "4번    61\n",
       "5번    70\n",
       "Name: 영어, dtype: int64"
      ]
     },
     "execution_count": 13,
     "metadata": {},
     "output_type": "execute_result"
    }
   ],
   "source": [
    "#특정 열의 부분만 가져오기\n",
    "df['영어'][0:5]"
   ]
  },
  {
   "cell_type": "code",
   "execution_count": 14,
   "id": "e83be740",
   "metadata": {},
   "outputs": [
    {
     "data": {
      "text/html": [
       "<div>\n",
       "<style scoped>\n",
       "    .dataframe tbody tr th:only-of-type {\n",
       "        vertical-align: middle;\n",
       "    }\n",
       "\n",
       "    .dataframe tbody tr th {\n",
       "        vertical-align: top;\n",
       "    }\n",
       "\n",
       "    .dataframe thead th {\n",
       "        text-align: right;\n",
       "    }\n",
       "</style>\n",
       "<table border=\"1\" class=\"dataframe\">\n",
       "  <thead>\n",
       "    <tr style=\"text-align: right;\">\n",
       "      <th></th>\n",
       "      <th>이름</th>\n",
       "      <th>키</th>\n",
       "    </tr>\n",
       "    <tr>\n",
       "      <th>지원번호</th>\n",
       "      <th></th>\n",
       "      <th></th>\n",
       "    </tr>\n",
       "  </thead>\n",
       "  <tbody>\n",
       "    <tr>\n",
       "      <th>1번</th>\n",
       "      <td>kim</td>\n",
       "      <td>167</td>\n",
       "    </tr>\n",
       "    <tr>\n",
       "      <th>2번</th>\n",
       "      <td>hur</td>\n",
       "      <td>165</td>\n",
       "    </tr>\n",
       "    <tr>\n",
       "      <th>3번</th>\n",
       "      <td>park</td>\n",
       "      <td>180</td>\n",
       "    </tr>\n",
       "  </tbody>\n",
       "</table>\n",
       "</div>"
      ],
      "text/plain": [
       "        이름    키\n",
       "지원번호           \n",
       "1번     kim  167\n",
       "2번     hur  165\n",
       "3번    park  180"
      ]
     },
     "execution_count": 14,
     "metadata": {},
     "output_type": "execute_result"
    }
   ],
   "source": [
    "df[['이름', '키']][:3]"
   ]
  },
  {
   "cell_type": "code",
   "execution_count": 18,
   "id": "01881005",
   "metadata": {},
   "outputs": [
    {
     "data": {
      "text/html": [
       "<div>\n",
       "<style scoped>\n",
       "    .dataframe tbody tr th:only-of-type {\n",
       "        vertical-align: middle;\n",
       "    }\n",
       "\n",
       "    .dataframe tbody tr th {\n",
       "        vertical-align: top;\n",
       "    }\n",
       "\n",
       "    .dataframe thead th {\n",
       "        text-align: right;\n",
       "    }\n",
       "</style>\n",
       "<table border=\"1\" class=\"dataframe\">\n",
       "  <thead>\n",
       "    <tr style=\"text-align: right;\">\n",
       "      <th></th>\n",
       "      <th>이름</th>\n",
       "      <th>학교</th>\n",
       "      <th>키</th>\n",
       "      <th>국어</th>\n",
       "      <th>수학</th>\n",
       "      <th>영어</th>\n",
       "      <th>과학</th>\n",
       "      <th>사회</th>\n",
       "      <th>특기</th>\n",
       "    </tr>\n",
       "    <tr>\n",
       "      <th>지원번호</th>\n",
       "      <th></th>\n",
       "      <th></th>\n",
       "      <th></th>\n",
       "      <th></th>\n",
       "      <th></th>\n",
       "      <th></th>\n",
       "      <th></th>\n",
       "      <th></th>\n",
       "      <th></th>\n",
       "    </tr>\n",
       "  </thead>\n",
       "  <tbody>\n",
       "    <tr>\n",
       "      <th>4번</th>\n",
       "      <td>jung</td>\n",
       "      <td>화곡고</td>\n",
       "      <td>172</td>\n",
       "      <td>89</td>\n",
       "      <td>86</td>\n",
       "      <td>61</td>\n",
       "      <td>95</td>\n",
       "      <td>80</td>\n",
       "      <td>c</td>\n",
       "    </tr>\n",
       "    <tr>\n",
       "      <th>5번</th>\n",
       "      <td>lee</td>\n",
       "      <td>광영여고</td>\n",
       "      <td>176</td>\n",
       "      <td>100</td>\n",
       "      <td>91</td>\n",
       "      <td>70</td>\n",
       "      <td>86</td>\n",
       "      <td>94</td>\n",
       "      <td>java</td>\n",
       "    </tr>\n",
       "    <tr>\n",
       "      <th>6번</th>\n",
       "      <td>choi</td>\n",
       "      <td>덕원여고</td>\n",
       "      <td>161</td>\n",
       "      <td>61</td>\n",
       "      <td>40</td>\n",
       "      <td>80</td>\n",
       "      <td>54</td>\n",
       "      <td>79</td>\n",
       "      <td>javascript</td>\n",
       "    </tr>\n",
       "    <tr>\n",
       "      <th>7번</th>\n",
       "      <td>han</td>\n",
       "      <td>화곡고</td>\n",
       "      <td>159</td>\n",
       "      <td>50</td>\n",
       "      <td>80</td>\n",
       "      <td>86</td>\n",
       "      <td>75</td>\n",
       "      <td>81</td>\n",
       "      <td>python</td>\n",
       "    </tr>\n",
       "  </tbody>\n",
       "</table>\n",
       "</div>"
      ],
      "text/plain": [
       "        이름    학교    키   국어  수학  영어  과학  사회          특기\n",
       "지원번호                                                  \n",
       "4번    jung   화곡고  172   89  86  61  95  80           c\n",
       "5번     lee  광영여고  176  100  91  70  86  94        java\n",
       "6번    choi  덕원여고  161   61  40  80  54  79  javascript\n",
       "7번     han   화곡고  159   50  80  86  75  81      python"
      ]
     },
     "execution_count": 18,
     "metadata": {},
     "output_type": "execute_result"
    }
   ],
   "source": [
    "df[3:]"
   ]
  }
 ],
 "metadata": {
  "kernelspec": {
   "display_name": "Python 3 (ipykernel)",
   "language": "python",
   "name": "python3"
  },
  "language_info": {
   "codemirror_mode": {
    "name": "ipython",
    "version": 3
   },
   "file_extension": ".py",
   "mimetype": "text/x-python",
   "name": "python",
   "nbconvert_exporter": "python",
   "pygments_lexer": "ipython3",
   "version": "3.9.7"
  }
 },
 "nbformat": 4,
 "nbformat_minor": 5
}
