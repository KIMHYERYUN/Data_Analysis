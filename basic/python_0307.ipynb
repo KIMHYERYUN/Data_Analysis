{
 "cells": [
  {
   "cell_type": "markdown",
   "id": "76bad469",
   "metadata": {},
   "source": [
    "# 추론 통계"
   ]
  },
  {
   "cell_type": "code",
   "execution_count": 1,
   "id": "0a3cab99",
   "metadata": {},
   "outputs": [],
   "source": [
    "import numpy as np\n",
    "import pandas as pd\n",
    "\n",
    "#시각화 패키지\n",
    "import matplotlib.pyplot as plt\n",
    "import seaborn as sns\n",
    "\n",
    "#통계 관련 패키지\n",
    "import scipy as sp\n",
    "import scipy.stats\n",
    "\n",
    "#시각화에서 한글을 사용하기 위한 설정\n",
    "import platform\n",
    "from matplotlib import font_manager, rc\n",
    "\n",
    "if platform.system() == 'Darwin':\n",
    "    rc('font', family='AppleGothic')\n",
    "#윈도우의 경우\n",
    "elif platform.system() == 'Windows':\n",
    "    font_name = font_manager.FontProperties(fname=\"c:/Windows/Fonts/malgun.ttf\").get_name()\n",
    "    rc('font', family=font_name)\n",
    "    \n",
    "#시각화에서 음수를 표현하기 위한 설정\n",
    "import matplotlib\n",
    "matplotlib.rcParams['axes.unicode_minus'] = False \n",
    "\n",
    "# Jupyter Notebook의 출력을 소수점 이하 3자리로 제한 \n",
    "%precision 3\n",
    "# DataFrame의 출력을 소수점 이하 3자리로 제한 \n",
    "pd.set_option('precision', 3)"
   ]
  },
  {
   "cell_type": "markdown",
   "id": "3f558a77",
   "metadata": {},
   "source": [
    "## 통계적 유의성"
   ]
  },
  {
   "cell_type": "code",
   "execution_count": 5,
   "id": "d3cb5a27",
   "metadata": {},
   "outputs": [
    {
     "name": "stdout",
     "output_type": "stream",
     "text": [
      "전환율 차이: 0.03675791182059275 %\n",
      "0.322\n"
     ]
    }
   ],
   "source": [
    "import random\n",
    "# 유의 확률(p-value)을 계산해주는 사용자 정의 함수\n",
    "# 대부부의 경우는 이 함수를 직접 생성하지 않습니다. \n",
    "\n",
    "#재표본 추출을 이용해서 새로 추출된 데이터의 평균의 차를 구해주는 함수\n",
    "def perm_fun(x, nA, nB):\n",
    "    #2개의 시행 횟수를 전부 합침\n",
    "    n = nA + nB\n",
    "    \n",
    "    idx_B = set(random.sample(range(n), nB))\n",
    "    idx_A = set(range(n)) - idx_B\n",
    "    \n",
    "    return x.loc[idx_B].mean() - x.loc[idx_A].mean()\n",
    "\n",
    "#전환율의 차이를 계산\n",
    "obs_pct_diff = 100 * (200 / 23739 - 182 / 22588)\n",
    "print('전환율 차이:', obs_pct_diff, '%')\n",
    "\n",
    "#부트스트래핑을 위한 작업\n",
    "conversion = [0] * 45945  #전환되지 않은 경우\n",
    "conversion.extend([1] * 382) #전환한 경우\n",
    "\n",
    "conversion = pd.Series(conversion) #앞의 list를 Series로 변환\n",
    "\n",
    "#여러번 샘플링 해서 평균의 차이를 계산\n",
    "random.seed(42)\n",
    "perm_diffs = [100 * perm_fun(conversion, 23739, 22588) for _ in range(1000)]\n",
    "\n",
    "print(np.mean([diff > obs_pct_diff for diff in perm_diffs]))\n",
    "\n",
    "# 32% 정도가 극단적인 결과임 - 이부분은 카이 제곱 검정을 통해서 수행 가능"
   ]
  },
  {
   "cell_type": "code",
   "execution_count": null,
   "id": "3ebd20b6",
   "metadata": {},
   "outputs": [],
   "source": []
  },
  {
   "cell_type": "markdown",
   "id": "9e22014f",
   "metadata": {},
   "source": [
    "## 동전을 15번 던졌을 때 12번 나온 경우에 대한 검정"
   ]
  },
  {
   "cell_type": "code",
   "execution_count": 9,
   "id": "edf5e9c1",
   "metadata": {},
   "outputs": [
    {
     "data": {
      "image/png": "[encoded data removed]",
      "text/plain": [
       "<Figure size 432x288 with 2 Axes>"
      ]
     },
     "metadata": {
      "needs_background": "light"
     },
     "output_type": "display_data"
    },
    {
     "name": "stdout",
     "output_type": "stream",
     "text": [
      "0.03515625\n",
      "0.017578125\n"
     ]
    }
   ],
   "source": [
    "# 시행 횟수\n",
    "N = 15\n",
    "\n",
    "#이 동전이 공정하다면 각각의 확률은 0.5\n",
    "#1이 나올 확률\n",
    "mu = 0.5\n",
    "\n",
    "#이항 분포 객체를 생성\n",
    "rv = sp.stats.binom(N, mu)\n",
    "\n",
    "#시뮬레이션을 위한 범위를 설정\n",
    "xx = np.arange(N+1)\n",
    "\n",
    "\n",
    "#확률 질량 함수 그리기 - 이산 확률 변수에서 각각의 값이 나올 확률\n",
    "plt.subplot(211)\n",
    "plt.stem(xx, rv.pmf(xx))\n",
    "plt.ylabel(\"pmf\")\n",
    "plt.title(\"검정 통계량 분포(N=15 인 이항 분포)의 확률 질량 함수\")\n",
    "plt.annotate(\"검정 통계량 t=12\", xy=(12, 0.02), xytext=(12, 0.1),\n",
    "            arrowprops={\"facecolor\":\"black\"})\n",
    "\n",
    "\n",
    "#누적 분포 함수 그리기 - 현재값까지 나올 확률\n",
    "plt.subplot(212)\n",
    "plt.stem(xx, rv.cdf(xx))\n",
    "plt.ylabel(\"cdf\")\n",
    "plt.title(\"검정 통계량 분포(N=15 인 이항 분포)의 누적 분포 함수\")\n",
    "\n",
    "plt.show()\n",
    "\n",
    "\n",
    "#귀무 가설은 이 동전은 공정하다 - 1이 나올 확률은 0.5\n",
    "#대립 가설은 이 동전은 공정하지 않다. - 1이 나올 확률이 0.5 가 아니다\n",
    "#유의 확률 - 15번 던졌을 때 12번 이상이 나올 확률\n",
    "#양측 검정\n",
    "print(2 * (1 - rv.cdf(11))) # 11번 나올 때 까지의 누적 확률을 1에서 뺌\n",
    "# 결과는 0.03515625\n",
    "\n",
    "# 유의 수준이 5% 라면 유의 확률이 유의 수준보다 작기 때문에 귀무 가설을 기각\n",
    "# 이 동전은 공정하지 않다.\n",
    "\n",
    "# 유의 수준이 1% 라면 유의 확률이 유의 수준보다 크기 때문에 귀무 가설을 기각할 수 없음\n",
    "# 이 동전은 공정하고 이런 결과가 나올 수 도 있다.\n",
    "\n",
    "\n",
    "#단측 검정\n",
    "#이 동전은 앞면이 나올 가능성이 높다.\n",
    "print(1 - rv.cdf(11))\n",
    "#유의 확률: 0.017578125"
   ]
  },
  {
   "cell_type": "code",
   "execution_count": null,
   "id": "8e57911a",
   "metadata": {},
   "outputs": [],
   "source": []
  },
  {
   "cell_type": "markdown",
   "id": "55b85cce",
   "metadata": {},
   "source": [
    "## 이항 검정 - 총 시도 횟수 10번 중 1이 7번 나왔을 때 유의 확률"
   ]
  },
  {
   "cell_type": "code",
   "execution_count": 11,
   "id": "fd02a01e",
   "metadata": {},
   "outputs": [
    {
     "name": "stdout",
     "output_type": "stream",
     "text": [
      "0.34375\n"
     ]
    }
   ],
   "source": [
    "np.random.seed(42)\n",
    "x = sp.stats.binom_test(7, 10)\n",
    "print(x)\n",
    "#유의 확률이 34.375 %\n",
    "\n",
    "#유의 수준을 얼마로 잡던 유의 확률이 크기 때문에 귀무 가설을 기각할 수 없음\n",
    "#이런 경우가 발생할 수 도 있음\n"
   ]
  },
  {
   "cell_type": "markdown",
   "id": "6cc59c3d",
   "metadata": {},
   "source": [
    "## 이항 검정\n",
    "### tips 데이터에서 여자 손님 중 비흡연자가 흡연자보다 많다고 할 수 있는지 유의 수준 10%로 검정"
   ]
  },
  {
   "cell_type": "code",
   "execution_count": 22,
   "id": "3e88872c",
   "metadata": {},
   "outputs": [
    {
     "name": "stdout",
     "output_type": "stream",
     "text": [
      "귀무 가설 기각\n",
      "비흡연자의 비율이 높습니다.\n"
     ]
    }
   ],
   "source": [
    "# 데이터 가져오기\n",
    "tips = sns.load_dataset('tips')\n",
    "#tips.info()\n",
    "\n",
    "#여자 손님 - sex 가 Female\n",
    "female = tips[tips['sex'] == 'Female']\n",
    "#female\n",
    "\n",
    "female_cnt = female['sex'].count()\n",
    "#female_cnt\n",
    "\n",
    "#흡연여부  - smoker 속성이 No 이면 비흡연 그렇지 않으면 흡연\n",
    "non_smoke_cnt = female[female['smoker'] == 'No'].count()\n",
    "non_smoke_cnt[0]\n",
    "\n",
    "#여자 손님의 수 그리고 여자 손님 중 흡연자 와 비흡연자의 수를 알아야 함\n",
    "\n",
    "x = sp.stats.binom_test(non_smoke_cnt[0], female_cnt)\n",
    "#print(x)\n",
    "\n",
    "if x < 0.1 :\n",
    "    print(\"귀무 가설 기각\")\n",
    "    if non_smoke_cnt[0] > (female_cnt/2):\n",
    "        print(\"비흡연자의 비율이 높습니다.\")\n",
    "    else:\n",
    "        print(\"비흡연자의 비율이 낮습니다.\")\n",
    "else:\n",
    "    print(\"귀무 가설 채택\")"
   ]
  },
  {
   "cell_type": "code",
   "execution_count": null,
   "id": "5dce5b3c",
   "metadata": {},
   "outputs": [],
   "source": []
  },
  {
   "cell_type": "markdown",
   "id": "bfe0070e",
   "metadata": {},
   "source": [
    "## t 검정"
   ]
  },
  {
   "cell_type": "markdown",
   "id": "3a2a5be3",
   "metadata": {},
   "source": [
    "### 단일 표본 t-검정"
   ]
  },
  {
   "cell_type": "code",
   "execution_count": 28,
   "id": "e674b1fc",
   "metadata": {},
   "outputs": [
    {
     "name": "stdout",
     "output_type": "stream",
     "text": [
      "[ 1.764  0.4    0.979  2.241  1.868 -0.977  0.95  -0.151 -0.103  0.411]\n",
      "Ttest_1sampResult(statistic=2.28943967238967, pvalue=0.04781846490857058)\n",
      "Ttest_1sampResult(statistic=0.17790267778528734, pvalue=0.8591629200406918)\n"
     ]
    }
   ],
   "source": [
    "#평균이 0인 정규 분포를 가진 확률 변수의 데이터 10개 생성\n",
    "np.random.seed(0)\n",
    "x = sp.stats.norm(0).rvs(10)\n",
    "print(x)\n",
    "\n",
    "#유의 수준을 5%를 적용하게 되면 귀무 가설 기각 - 평균은 0이 아니다\n",
    "print(sp.stats.ttest_1samp(x, popmean=0))\n",
    "\n",
    "#샘플의 개수를 늘리면 유의 확률이 높아집니다.\n",
    "x = sp.stats.norm(0).rvs(100)\n",
    "print(sp.stats.ttest_1samp(x, popmean=0))"
   ]
  },
  {
   "cell_type": "code",
   "execution_count": 33,
   "id": "0fcc61fc",
   "metadata": {},
   "outputs": [
    {
     "name": "stdout",
     "output_type": "stream",
     "text": [
      "귀무 가설을 채택해서 평균이 75라고 할 수 있습니다.\n"
     ]
    }
   ],
   "source": [
    "#tdata.csv 파일을 읽어서 성적의 평균이 75점이라고 할 수 있는지\n",
    "#유의 수준 5%로 양측 검정\n",
    "\n",
    "tdata = pd.read_csv('./data/tdata.csv', encoding='cp949')\n",
    "#tdata.info()\n",
    "\n",
    "result = sp.stats.ttest_1samp(tdata['성적'], popmean=75).pvalue\n",
    "\n",
    "if result > 0.05:\n",
    "    print(\"귀무 가설을 채택해서 평균이 75라고 할 수 있습니다.\")\n",
    "else:\n",
    "    print(\"귀무 가설을 기각해서 평균이 75라고 할 수 없습니다.\")"
   ]
  },
  {
   "cell_type": "code",
   "execution_count": null,
   "id": "ff2750a9",
   "metadata": {},
   "outputs": [],
   "source": []
  },
  {
   "cell_type": "markdown",
   "id": "51843591",
   "metadata": {},
   "source": [
    "### 독립 표본 t 검정"
   ]
  },
  {
   "cell_type": "code",
   "execution_count": 38,
   "id": "f92cf41f",
   "metadata": {},
   "outputs": [
    {
     "name": "stdout",
     "output_type": "stream",
     "text": [
      "2.8805\n",
      "4.002266666666666\n",
      "귀무 가설을 기각할 수 없어서 2개 데이터의 평균은 같다.\n"
     ]
    }
   ],
   "source": [
    "#서로 다른 10명의 사람에게 수면제 1을 복용했을 때 의 수면 증가 시간과 \n",
    "#수면제 2를 복용했을 때의 수면 증가 시간이 같은지 비교\n",
    "#유의 확률 5%로 검정\n",
    "\n",
    "x1 = np.array([0.7, -1.6, -0.2, -1.2, -0.1, 3.4, 3.7, 0.8, 0.0, 2.0])\n",
    "x2 = np.array([1.9, 0.8, 1.1, 0.1, -0.1, 4.4, 5.5, 1/6, 4.6, 3.4])\n",
    "\n",
    "# 2개 데이터의 분산 확인\n",
    "print(np.var(x1))\n",
    "print(np.var(x2))\n",
    "\n",
    "r = sp.stats.ttest_ind(x1, x2, equal_var = False)\n",
    "if r.pvalue >= 0.05:\n",
    "    print(\"귀무 가설을 기각할 수 없어서 2개 데이터의 평균은 같다.\")\n",
    "else:\n",
    "    print(\"귀무 가설을 기각해서 2개 데이터의 평균은 다르다.\")"
   ]
  },
  {
   "cell_type": "code",
   "execution_count": null,
   "id": "345dfbb8",
   "metadata": {},
   "outputs": [],
   "source": []
  },
  {
   "cell_type": "code",
   "execution_count": 39,
   "id": "3e9f6c8e",
   "metadata": {},
   "outputs": [
    {
     "name": "stdout",
     "output_type": "stream",
     "text": [
      "귀무 가설을 기각해서 2개 데이터의 평균은 다르다.\n"
     ]
    }
   ],
   "source": [
    "### 대응 표본 t 검정\n",
    "#동일한 10명의 사람에게 수면제 1을 복용했을 때 의 수면 증가 시간과 \n",
    "#수면제 2를 복용했을 때의 수면 증가 시간이 같은지 비교\n",
    "#유의 확률 5%로 검정\n",
    "\n",
    "x1 = np.array([0.7, -1.6, -0.2, -1.2, -0.1, 3.4, 3.7, 0.8, 0.0, 2.0])\n",
    "x2 = np.array([1.9, 0.8, 1.1, 0.1, -0.1, 4.4, 5.5, 1/6, 4.6, 3.4])\n",
    "\n",
    "r = sp.stats.ttest_rel(x1, x2)\n",
    "if r.pvalue >= 0.05:\n",
    "    print(\"귀무 가설을 기각할 수 없어서 2개 데이터의 평균은 같다.\")\n",
    "else:\n",
    "    print(\"귀무 가설을 기각해서 2개 데이터의 평균은 다르다.\")"
   ]
  },
  {
   "cell_type": "code",
   "execution_count": null,
   "id": "441cef84",
   "metadata": {},
   "outputs": [],
   "source": []
  },
  {
   "cell_type": "markdown",
   "id": "c79c2f25",
   "metadata": {},
   "source": [
    "## 윌콕슨의 부호 순위 검정"
   ]
  },
  {
   "cell_type": "code",
   "execution_count": 40,
   "id": "b6c2bf3c",
   "metadata": {},
   "outputs": [
    {
     "data": {
      "text/html": [
       "<div>\n",
       "<style scoped>\n",
       "    .dataframe tbody tr th:only-of-type {\n",
       "        vertical-align: middle;\n",
       "    }\n",
       "\n",
       "    .dataframe tbody tr th {\n",
       "        vertical-align: top;\n",
       "    }\n",
       "\n",
       "    .dataframe thead th {\n",
       "        text-align: right;\n",
       "    }\n",
       "</style>\n",
       "<table border=\"1\" class=\"dataframe\">\n",
       "  <thead>\n",
       "    <tr style=\"text-align: right;\">\n",
       "      <th></th>\n",
       "      <th>전</th>\n",
       "      <th>후</th>\n",
       "    </tr>\n",
       "  </thead>\n",
       "  <tbody>\n",
       "    <tr>\n",
       "      <th>0</th>\n",
       "      <td>59</td>\n",
       "      <td>41</td>\n",
       "    </tr>\n",
       "    <tr>\n",
       "      <th>1</th>\n",
       "      <td>52</td>\n",
       "      <td>63</td>\n",
       "    </tr>\n",
       "    <tr>\n",
       "      <th>2</th>\n",
       "      <td>55</td>\n",
       "      <td>68</td>\n",
       "    </tr>\n",
       "    <tr>\n",
       "      <th>3</th>\n",
       "      <td>61</td>\n",
       "      <td>59</td>\n",
       "    </tr>\n",
       "    <tr>\n",
       "      <th>4</th>\n",
       "      <td>59</td>\n",
       "      <td>84</td>\n",
       "    </tr>\n",
       "    <tr>\n",
       "      <th>5</th>\n",
       "      <td>45</td>\n",
       "      <td>37</td>\n",
       "    </tr>\n",
       "  </tbody>\n",
       "</table>\n",
       "</div>"
      ],
      "text/plain": [
       "    전   후\n",
       "0  59  41\n",
       "1  52  63\n",
       "2  55  68\n",
       "3  61  59\n",
       "4  59  84\n",
       "5  45  37"
      ]
     },
     "execution_count": 40,
     "metadata": {},
     "output_type": "execute_result"
    }
   ],
   "source": [
    "### 데이터 가져오기\n",
    "training_rel = pd.read_csv('./data/training_rel.csv')\n",
    "toy_df = training_rel[:6].copy()\n",
    "toy_df"
   ]
  },
  {
   "cell_type": "code",
   "execution_count": 41,
   "id": "0252e490",
   "metadata": {},
   "outputs": [
    {
     "data": {
      "text/html": [
       "<div>\n",
       "<style scoped>\n",
       "    .dataframe tbody tr th:only-of-type {\n",
       "        vertical-align: middle;\n",
       "    }\n",
       "\n",
       "    .dataframe tbody tr th {\n",
       "        vertical-align: top;\n",
       "    }\n",
       "\n",
       "    .dataframe thead th {\n",
       "        text-align: right;\n",
       "    }\n",
       "</style>\n",
       "<table border=\"1\" class=\"dataframe\">\n",
       "  <thead>\n",
       "    <tr style=\"text-align: right;\">\n",
       "      <th></th>\n",
       "      <th>전</th>\n",
       "      <th>후</th>\n",
       "      <th>차</th>\n",
       "    </tr>\n",
       "  </thead>\n",
       "  <tbody>\n",
       "    <tr>\n",
       "      <th>0</th>\n",
       "      <td>59</td>\n",
       "      <td>41</td>\n",
       "      <td>-18</td>\n",
       "    </tr>\n",
       "    <tr>\n",
       "      <th>1</th>\n",
       "      <td>52</td>\n",
       "      <td>63</td>\n",
       "      <td>11</td>\n",
       "    </tr>\n",
       "    <tr>\n",
       "      <th>2</th>\n",
       "      <td>55</td>\n",
       "      <td>68</td>\n",
       "      <td>13</td>\n",
       "    </tr>\n",
       "    <tr>\n",
       "      <th>3</th>\n",
       "      <td>61</td>\n",
       "      <td>59</td>\n",
       "      <td>-2</td>\n",
       "    </tr>\n",
       "    <tr>\n",
       "      <th>4</th>\n",
       "      <td>59</td>\n",
       "      <td>84</td>\n",
       "      <td>25</td>\n",
       "    </tr>\n",
       "    <tr>\n",
       "      <th>5</th>\n",
       "      <td>45</td>\n",
       "      <td>37</td>\n",
       "      <td>-8</td>\n",
       "    </tr>\n",
       "  </tbody>\n",
       "</table>\n",
       "</div>"
      ],
      "text/plain": [
       "    전   후   차\n",
       "0  59  41 -18\n",
       "1  52  63  11\n",
       "2  55  68  13\n",
       "3  61  59  -2\n",
       "4  59  84  25\n",
       "5  45  37  -8"
      ]
     },
     "execution_count": 41,
     "metadata": {},
     "output_type": "execute_result"
    }
   ],
   "source": [
    "### 데이터의 차이 확인\n",
    "diff = toy_df['후'] - toy_df['전']\n",
    "toy_df['차'] = diff\n",
    "toy_df"
   ]
  },
  {
   "cell_type": "code",
   "execution_count": 42,
   "id": "7626e124",
   "metadata": {},
   "outputs": [
    {
     "data": {
      "text/html": [
       "<div>\n",
       "<style scoped>\n",
       "    .dataframe tbody tr th:only-of-type {\n",
       "        vertical-align: middle;\n",
       "    }\n",
       "\n",
       "    .dataframe tbody tr th {\n",
       "        vertical-align: top;\n",
       "    }\n",
       "\n",
       "    .dataframe thead th {\n",
       "        text-align: right;\n",
       "    }\n",
       "</style>\n",
       "<table border=\"1\" class=\"dataframe\">\n",
       "  <thead>\n",
       "    <tr style=\"text-align: right;\">\n",
       "      <th></th>\n",
       "      <th>전</th>\n",
       "      <th>후</th>\n",
       "      <th>차</th>\n",
       "      <th>순위</th>\n",
       "    </tr>\n",
       "  </thead>\n",
       "  <tbody>\n",
       "    <tr>\n",
       "      <th>0</th>\n",
       "      <td>59</td>\n",
       "      <td>41</td>\n",
       "      <td>-18</td>\n",
       "      <td>5</td>\n",
       "    </tr>\n",
       "    <tr>\n",
       "      <th>1</th>\n",
       "      <td>52</td>\n",
       "      <td>63</td>\n",
       "      <td>11</td>\n",
       "      <td>3</td>\n",
       "    </tr>\n",
       "    <tr>\n",
       "      <th>2</th>\n",
       "      <td>55</td>\n",
       "      <td>68</td>\n",
       "      <td>13</td>\n",
       "      <td>4</td>\n",
       "    </tr>\n",
       "    <tr>\n",
       "      <th>3</th>\n",
       "      <td>61</td>\n",
       "      <td>59</td>\n",
       "      <td>-2</td>\n",
       "      <td>1</td>\n",
       "    </tr>\n",
       "    <tr>\n",
       "      <th>4</th>\n",
       "      <td>59</td>\n",
       "      <td>84</td>\n",
       "      <td>25</td>\n",
       "      <td>6</td>\n",
       "    </tr>\n",
       "    <tr>\n",
       "      <th>5</th>\n",
       "      <td>45</td>\n",
       "      <td>37</td>\n",
       "      <td>-8</td>\n",
       "      <td>2</td>\n",
       "    </tr>\n",
       "  </tbody>\n",
       "</table>\n",
       "</div>"
      ],
      "text/plain": [
       "    전   후   차  순위\n",
       "0  59  41 -18   5\n",
       "1  52  63  11   3\n",
       "2  55  68  13   4\n",
       "3  61  59  -2   1\n",
       "4  59  84  25   6\n",
       "5  45  37  -8   2"
      ]
     },
     "execution_count": 42,
     "metadata": {},
     "output_type": "execute_result"
    }
   ],
   "source": [
    "### 차아의 절대값을 가지고 순위를 생성\n",
    "rank = sp.stats.rankdata(abs(diff)).astype(int)\n",
    "toy_df['순위'] = rank\n",
    "toy_df"
   ]
  },
  {
   "cell_type": "code",
   "execution_count": 44,
   "id": "33d24c18",
   "metadata": {},
   "outputs": [
    {
     "name": "stdout",
     "output_type": "stream",
     "text": [
      "8 13\n"
     ]
    }
   ],
   "source": [
    "### 차이가 음수 일 때 와 양수 일 때의 순위합을 구함\n",
    "r_minus = np.sum((diff<0) * rank)\n",
    "r_plus = np.sum((diff>0) * rank)\n",
    "print(r_minus, r_plus)"
   ]
  },
  {
   "cell_type": "code",
   "execution_count": 48,
   "id": "a5eeef83",
   "metadata": {},
   "outputs": [
    {
     "name": "stdout",
     "output_type": "stream",
     "text": [
      "0 21\n"
     ]
    }
   ],
   "source": [
    "### 데이터에 변화가 발생한 경우에 순위 합을 확인\n",
    "toy_df['후'] = toy_df['전'] + np.arange(1, 7)\n",
    "\n",
    "#차이 구하기\n",
    "diff = toy_df['후'] - toy_df['전']\n",
    "\n",
    "#차이의 절대값을 가지고 순위 구하기\n",
    "rank = sp.stats.rankdata(abs(diff)).astype(int)\n",
    "\n",
    "#차이가 음수 일 때 와 양수 일 때의 순위 합을 구하기\n",
    "r_minus = np.sum((diff<0) * rank)\n",
    "r_plus = np.sum((diff>0) * rank)\n",
    "\n",
    "#음의 순위 합 과 양의 순위 합이 차이가 많이 남 - 중앙값이 증가했을 가능성이 높음\n",
    "print(r_minus, r_plus)"
   ]
  },
  {
   "cell_type": "code",
   "execution_count": 49,
   "id": "33abfcd2",
   "metadata": {},
   "outputs": [
    {
     "name": "stdout",
     "output_type": "stream",
     "text": [
      "12 9\n"
     ]
    }
   ],
   "source": [
    "### 데이터에 변화가 램덤하게 발생한 경우에 순위 합을 확인\n",
    "toy_df['후'] = toy_df['전'] + [1, -2, 3, -4, 5, -6]\n",
    "\n",
    "#차이 구하기\n",
    "diff = toy_df['후'] - toy_df['전']\n",
    "\n",
    "#차이의 절대값을 가지고 순위 구하기\n",
    "rank = sp.stats.rankdata(abs(diff)).astype(int)\n",
    "\n",
    "#차이가 음수 일 때 와 양수 일 때의 순위 합을 구하기\n",
    "r_minus = np.sum((diff<0) * rank)\n",
    "r_plus = np.sum((diff>0) * rank)\n",
    "\n",
    "#음의 순위 합 과 양의 순위 합이 차이가 거의 나지 않음 - 중앙값이 변했을 가능성이 낮음\n",
    "print(r_minus, r_plus)"
   ]
  },
  {
   "cell_type": "code",
   "execution_count": 50,
   "id": "7fc8b9ac",
   "metadata": {},
   "outputs": [
    {
     "name": "stdout",
     "output_type": "stream",
     "text": [
      "유의 확률: 0.03623390197753906\n"
     ]
    }
   ],
   "source": [
    "T, p = sp.stats.wilcoxon(training_rel['전'], training_rel['후'])\n",
    "print(\"유의 확률:\", p)"
   ]
  },
  {
   "cell_type": "code",
   "execution_count": null,
   "id": "7db0ab77",
   "metadata": {},
   "outputs": [],
   "source": []
  },
  {
   "cell_type": "markdown",
   "id": "c0224c15",
   "metadata": {},
   "source": [
    "## 만 위트니의 U 검정"
   ]
  },
  {
   "cell_type": "code",
   "execution_count": 51,
   "id": "b54254e2",
   "metadata": {},
   "outputs": [
    {
     "data": {
      "text/html": [
       "<div>\n",
       "<style scoped>\n",
       "    .dataframe tbody tr th:only-of-type {\n",
       "        vertical-align: middle;\n",
       "    }\n",
       "\n",
       "    .dataframe tbody tr th {\n",
       "        vertical-align: top;\n",
       "    }\n",
       "\n",
       "    .dataframe thead th {\n",
       "        text-align: right;\n",
       "    }\n",
       "</style>\n",
       "<table border=\"1\" class=\"dataframe\">\n",
       "  <thead>\n",
       "    <tr style=\"text-align: right;\">\n",
       "      <th></th>\n",
       "      <th>A</th>\n",
       "      <th>B</th>\n",
       "    </tr>\n",
       "  </thead>\n",
       "  <tbody>\n",
       "    <tr>\n",
       "      <th>0</th>\n",
       "      <td>47</td>\n",
       "      <td>49</td>\n",
       "    </tr>\n",
       "    <tr>\n",
       "      <th>1</th>\n",
       "      <td>50</td>\n",
       "      <td>52</td>\n",
       "    </tr>\n",
       "    <tr>\n",
       "      <th>2</th>\n",
       "      <td>37</td>\n",
       "      <td>54</td>\n",
       "    </tr>\n",
       "    <tr>\n",
       "      <th>3</th>\n",
       "      <td>60</td>\n",
       "      <td>48</td>\n",
       "    </tr>\n",
       "    <tr>\n",
       "      <th>4</th>\n",
       "      <td>39</td>\n",
       "      <td>51</td>\n",
       "    </tr>\n",
       "    <tr>\n",
       "      <th>5</th>\n",
       "      <td>45</td>\n",
       "      <td>52</td>\n",
       "    </tr>\n",
       "  </tbody>\n",
       "</table>\n",
       "</div>"
      ],
      "text/plain": [
       "    A   B\n",
       "0  47  49\n",
       "1  50  52\n",
       "2  37  54\n",
       "3  60  48\n",
       "4  39  51\n",
       "5  45  52"
      ]
     },
     "execution_count": 51,
     "metadata": {},
     "output_type": "execute_result"
    }
   ],
   "source": [
    "training_rel = pd.read_csv('./data/training_ind.csv')\n",
    "toy_df = training_rel[:6].copy()\n",
    "toy_df"
   ]
  },
  {
   "cell_type": "code",
   "execution_count": 52,
   "id": "a95d68ab",
   "metadata": {},
   "outputs": [
    {
     "name": "stdout",
     "output_type": "stream",
     "text": [
      "    A   B\n",
      "0   4   3\n",
      "1   7   6\n",
      "2   1   9\n",
      "3  12  11\n",
      "4   2   5\n"
     ]
    }
   ],
   "source": [
    "# 데이터 전체에서 순위를 구함\n",
    "rank = sp.stats.rankdata(np.concatenate([toy_df['A'], toy_df['B']]))\n",
    "rank_df = pd.DataFrame({'A':rank[:5], 'B':rank[5:10]}).astype(int)\n",
    "print(rank_df)"
   ]
  },
  {
   "cell_type": "code",
   "execution_count": 53,
   "id": "015f9eca",
   "metadata": {},
   "outputs": [
    {
     "data": {
      "text/plain": [
       "11.0"
      ]
     },
     "execution_count": 53,
     "metadata": {},
     "output_type": "execute_result"
    }
   ],
   "source": [
    "# A 열의 순위 합을 구함\n",
    "n1 = len(rank_df['A'])\n",
    "u = rank_df['A'].sum() - (n1 * (n1 + 1)) / 2\n",
    "u"
   ]
  },
  {
   "cell_type": "code",
   "execution_count": 55,
   "id": "19b53179",
   "metadata": {},
   "outputs": [
    {
     "name": "stdout",
     "output_type": "stream",
     "text": [
      "0.05948611166127324\n"
     ]
    }
   ],
   "source": [
    "u, p = sp.stats.mannwhitneyu(training_rel['A'], training_rel['B'],\n",
    "                            alternative='two-sided')\n",
    "print(p)"
   ]
  },
  {
   "cell_type": "code",
   "execution_count": null,
   "id": "3cdac1a6",
   "metadata": {},
   "outputs": [],
   "source": []
  },
  {
   "cell_type": "markdown",
   "id": "7bd13578",
   "metadata": {},
   "source": [
    "## 음주 데이터 분석"
   ]
  },
  {
   "cell_type": "markdown",
   "id": "5021fad3",
   "metadata": {},
   "source": [
    "### 데이터를 가져오고 확인"
   ]
  },
  {
   "cell_type": "code",
   "execution_count": 56,
   "id": "992d2876",
   "metadata": {},
   "outputs": [
    {
     "name": "stdout",
     "output_type": "stream",
     "text": [
      "<class 'pandas.core.frame.DataFrame'>\n",
      "RangeIndex: 193 entries, 0 to 192\n",
      "Data columns (total 6 columns):\n",
      " #   Column                        Non-Null Count  Dtype  \n",
      "---  ------                        --------------  -----  \n",
      " 0   country                       193 non-null    object \n",
      " 1   beer_servings                 193 non-null    int64  \n",
      " 2   spirit_servings               193 non-null    int64  \n",
      " 3   wine_servings                 193 non-null    int64  \n",
      " 4   total_litres_of_pure_alcohol  193 non-null    float64\n",
      " 5   continent                     170 non-null    object \n",
      "dtypes: float64(1), int64(3), object(2)\n",
      "memory usage: 9.2+ KB\n"
     ]
    }
   ],
   "source": [
    "drinks = pd.read_csv('./data/drinks.csv')\n",
    "drinks.info()\n",
    "#행은 193개\n",
    "#컬럼은 6개이고 country 와 continent 는 문자열이고 나머지는 숫자\n",
    "#continent 에는 23의 NaN이 존재"
   ]
  },
  {
   "cell_type": "markdown",
   "id": "a4ceef02",
   "metadata": {},
   "source": [
    "### 결측치 처리 - continent 값이 NaN 인 데이터의 값을 OT로 변경 "
   ]
  },
  {
   "cell_type": "code",
   "execution_count": 58,
   "id": "42885490",
   "metadata": {},
   "outputs": [
    {
     "name": "stdout",
     "output_type": "stream",
     "text": [
      "<class 'pandas.core.frame.DataFrame'>\n",
      "RangeIndex: 193 entries, 0 to 192\n",
      "Data columns (total 6 columns):\n",
      " #   Column                        Non-Null Count  Dtype  \n",
      "---  ------                        --------------  -----  \n",
      " 0   country                       193 non-null    object \n",
      " 1   beer_servings                 193 non-null    int64  \n",
      " 2   spirit_servings               193 non-null    int64  \n",
      " 3   wine_servings                 193 non-null    int64  \n",
      " 4   total_litres_of_pure_alcohol  193 non-null    float64\n",
      " 5   continent                     193 non-null    object \n",
      "dtypes: float64(1), int64(3), object(2)\n",
      "memory usage: 9.2+ KB\n"
     ]
    }
   ],
   "source": [
    "drinks['continent'] = drinks['continent'].fillna('OT')\n",
    "drinks.info()"
   ]
  },
  {
   "cell_type": "markdown",
   "id": "01736a15",
   "metadata": {},
   "source": [
    "### 상관 분석 - 2개의 숫자 데이터 간의 관련성 파악"
   ]
  },
  {
   "cell_type": "code",
   "execution_count": 59,
   "id": "3bda0449",
   "metadata": {},
   "outputs": [
    {
     "name": "stdout",
     "output_type": "stream",
     "text": [
      "               beer_servings  wine_servings\n",
      "beer_servings          1.000          0.527\n",
      "wine_servings          0.527          1.000\n"
     ]
    }
   ],
   "source": [
    "corr = drinks[['beer_servings', 'wine_servings']].corr(method = 'pearson')\n",
    "print(corr)"
   ]
  },
  {
   "cell_type": "code",
   "execution_count": 61,
   "id": "74f13a57",
   "metadata": {},
   "outputs": [
    {
     "name": "stdout",
     "output_type": "stream",
     "text": [
      "                              beer_servings  spirit_servings  wine_servings  \\\n",
      "beer_servings                         1.000            0.459          0.527   \n",
      "spirit_servings                       0.459            1.000          0.195   \n",
      "wine_servings                         0.527            0.195          1.000   \n",
      "total_litres_of_pure_alcohol          0.836            0.655          0.668   \n",
      "\n",
      "                              total_litres_of_pure_alcohol  \n",
      "beer_servings                                        0.836  \n",
      "spirit_servings                                      0.655  \n",
      "wine_servings                                        0.668  \n",
      "total_litres_of_pure_alcohol                         1.000  \n"
     ]
    }
   ],
   "source": [
    "cols = ['beer_servings', 'spirit_servings', \n",
    "        'wine_servings', 'total_litres_of_pure_alcohol']\n",
    "corr = drinks[cols].corr(method='pearson')\n",
    "print(corr)"
   ]
  },
  {
   "cell_type": "code",
   "execution_count": 62,
   "id": "5827129b",
   "metadata": {},
   "outputs": [
    {
     "data": {
      "image/png": "[encoded data removed]",
      "text/plain": [
       "<Figure size 432x288 with 2 Axes>"
      ]
     },
     "metadata": {},
     "output_type": "display_data"
    }
   ],
   "source": [
    "#상관 계수 시각화\n",
    "\n",
    "#컬럼 이름을 줄여서 작성\n",
    "cols_view = ['beer', 'spirit', 'wine', 'alchol']\n",
    "sns.set(font_scale = 1.5)\n",
    "hm = sns.heatmap(corr.values,\n",
    "                cbar=True,\n",
    "                annot=True,\n",
    "                square=True,\n",
    "                fmt='.2f',\n",
    "                annot_kws={'size':15},\n",
    "                yticklabels=cols_view,\n",
    "                xticklabels=cols_view)\n",
    "plt.show()"
   ]
  },
  {
   "cell_type": "code",
   "execution_count": 63,
   "id": "f82bb437",
   "metadata": {},
   "outputs": [
    {
     "data": {
      "image/png": "[encoded data removed]",
      "text/plain": [
       "<Figure size 720x720 with 20 Axes>"
      ]
     },
     "metadata": {},
     "output_type": "display_data"
    }
   ],
   "source": [
    "sns.pairplot(drinks[cols], height=2.5)\n",
    "plt.show()"
   ]
  },
  {
   "cell_type": "markdown",
   "id": "ca55f0ea",
   "metadata": {},
   "source": [
    "### 대륙별 데이터 개수 비율 시각화"
   ]
  },
  {
   "cell_type": "code",
   "execution_count": 67,
   "id": "6bbb91a6",
   "metadata": {},
   "outputs": [
    {
     "data": {
      "image/png": "[encoded data removed]",
      "text/plain": [
       "<Figure size 432x288 with 1 Axes>"
      ]
     },
     "metadata": {},
     "output_type": "display_data"
    }
   ],
   "source": [
    "labels = drinks['continent'].value_counts().index.tolist()\n",
    "fracs = drinks['continent'].value_counts().values.tolist()\n",
    "#원형 그래프에서 중심 과의 거리\n",
    "explode = [0, 0, 0, 0.25, 0, 0]\n",
    "\n",
    "plt.pie(fracs, explode=explode, labels=labels, autopct='%.0f%%', shadow=True)\n",
    "plt.show()"
   ]
  },
  {
   "cell_type": "code",
   "execution_count": 69,
   "id": "03cc5ffa",
   "metadata": {},
   "outputs": [
    {
     "name": "stdout",
     "output_type": "stream",
     "text": [
      "              mean  min  max   sum\n",
      "continent                         \n",
      "AF          16.340    0  152   866\n",
      "AS          60.841    0  326  2677\n",
      "EU         132.556    0  373  5965\n",
      "OC          58.438    0  254   935\n",
      "OT         165.739   68  438  3812\n",
      "SA         114.750   25  302  1377\n"
     ]
    }
   ],
   "source": [
    "result = drinks.groupby('continent').spirit_servings.agg(\n",
    "    ['mean', 'min', 'max', 'sum'])\n",
    "print(result)"
   ]
  },
  {
   "cell_type": "code",
   "execution_count": 73,
   "id": "4dceb187",
   "metadata": {},
   "outputs": [
    {
     "name": "stdout",
     "output_type": "stream",
     "text": [
      "continent\n",
      "EU    8.618\n",
      "OT    5.996\n",
      "SA    6.308\n",
      "Name: total_litres_of_pure_alcohol, dtype: float64\n"
     ]
    }
   ],
   "source": [
    "#전체 평균보다 알코올을 많이 섭취하는 대륙을 조회\n",
    "\n",
    "#알코올 평균\n",
    "total_mean = drinks.total_litres_of_pure_alcohol.mean()\n",
    "\n",
    "continent_mean = drinks.groupby('continent').\n",
    "    total_litres_of_pure_alcohol.mean()\n",
    "    \n",
    "continent_over_mean = continent_mean[continent_mean >= total_mean]\n",
    "print(continent_over_mean)"
   ]
  },
  {
   "cell_type": "code",
   "execution_count": 74,
   "id": "d8921b6c",
   "metadata": {},
   "outputs": [
    {
     "name": "stdout",
     "output_type": "stream",
     "text": [
      "EU\n"
     ]
    }
   ],
   "source": [
    "#맥주를 가장 많이 섭취하는 대륙을 알아보기\n",
    "beer_continent = drinks.groupby('continent').beer_servings.mean().idxmax()\n",
    "print(beer_continent)"
   ]
  },
  {
   "cell_type": "markdown",
   "id": "eea34e81",
   "metadata": {},
   "source": [
    "### 아프리카 와 유럽의 맥주 소비량의 평균이 같은지 비교 - 독립 표본 t 검정\n",
    "#### 유의 수준을 5%로 설정"
   ]
  },
  {
   "cell_type": "code",
   "execution_count": 80,
   "id": "b60e2b99",
   "metadata": {},
   "outputs": [
    {
     "name": "stdout",
     "output_type": "stream",
     "text": [
      "귀무 가설을 기각해서 아프리카 와 유럽의 맥주 섭취량은 다르다.\n",
      "귀무 가설을 기각해서 아프리카 와 유럽의 맥주 섭취량은 다르다.\n"
     ]
    }
   ],
   "source": [
    "# 2개의 그룹이 서로 다른 그룹이므로 독립 표본 t 검정 수행\n",
    "africa = drinks.loc[drinks['continent'] == 'AF']\n",
    "europe = drinks.loc[drinks['continent'] == 'EU']\n",
    "\n",
    "#분산이 같다고 가정\n",
    "result = sp.stats.ttest_ind(africa['beer_servings'], europe['beer_servings'])\n",
    "if result.pvalue >= 0.5:\n",
    "    print(\"귀무 가설을 기각하지 못해서 아프리카 와 유럽의 맥주 섭취량은 다르지 않다.\")                                  \n",
    "else:\n",
    "    print(\"귀무 가설을 기각해서 아프리카 와 유럽의 맥주 섭취량은 다르다.\")  \n",
    "    \n",
    "    \n",
    "#분산이 같다고 가정\n",
    "result = sp.stats.ttest_ind(africa['beer_servings'], \n",
    "                            europe['beer_servings'], equal_var=False)\n",
    "if result.pvalue >= 0.5:\n",
    "    print(\"귀무 가설을 기각하지 못해서 아프리카 와 유럽의 맥주 섭취량은 다르지 않다.\")                                  \n",
    "else:\n",
    "    print(\"귀무 가설을 기각해서 아프리카 와 유럽의 맥주 섭취량은 다르다.\")                                  "
   ]
  },
  {
   "cell_type": "code",
   "execution_count": null,
   "id": "8586ba1a",
   "metadata": {},
   "outputs": [],
   "source": []
  },
  {
   "cell_type": "markdown",
   "id": "822728b4",
   "metadata": {},
   "source": [
    "## 등분산 검정\n",
    "### 2개 데이터 집합의 분산이 같은지 확인"
   ]
  },
  {
   "cell_type": "code",
   "execution_count": 3,
   "id": "0ff855b6",
   "metadata": {},
   "outputs": [
    {
     "name": "stderr",
     "output_type": "stream",
     "text": [
      "C:\\ProgramData\\Anaconda3\\lib\\site-packages\\seaborn\\distributions.py:2619: FutureWarning: `distplot` is a deprecated function and will be removed in a future version. Please adapt your code to use either `displot` (a figure-level function with similar flexibility) or `histplot` (an axes-level function for histograms).\n",
      "  warnings.warn(msg, FutureWarning)\n",
      "C:\\ProgramData\\Anaconda3\\lib\\site-packages\\seaborn\\distributions.py:2619: FutureWarning: `distplot` is a deprecated function and will be removed in a future version. Please adapt your code to use either `displot` (a figure-level function with similar flexibility) or `histplot` (an axes-level function for histograms).\n",
      "  warnings.warn(msg, FutureWarning)\n"
     ]
    },
    {
     "data": {
      "image/png": "[encoded data removed]",
      "text/plain": [
       "<Figure size 432x288 with 1 Axes>"
      ]
     },
     "metadata": {
      "needs_background": "light"
     },
     "output_type": "display_data"
    },
    {
     "name": "stdout",
     "output_type": "stream",
     "text": [
      "x1 의 표준 편차: 1.023166556423253\n",
      "x2 의 표준 편차: 1.1504046612331784\n",
      "바틀렛 등분산 검정: BartlettResult(statistic=1.3501923224367445, pvalue=0.2452444975574587)\n",
      "플리그너 등분산 검정: FlignerResult(statistic=0.9052027045698615, pvalue=0.3413904947340573)\n",
      "레빈 등분산 검정: LeveneResult(statistic=1.415236047318903, pvalue=0.23561368993788964)\n"
     ]
    }
   ],
   "source": [
    "import random\n",
    "# 2개 데이터의 개수\n",
    "N1 = 100\n",
    "N2 = 100\n",
    "# 2개 데이터의 표준 편차\n",
    "sigma_1 = 1.0\n",
    "sigma_2 = 1.2\n",
    "\n",
    "random.seed(42)\n",
    "x1 = sp.stats.norm(0, sigma_1).rvs(N1)\n",
    "x2 = sp.stats.norm(0, sigma_2).rvs(N2)\n",
    "\n",
    "ax = sns.distplot(x1, kde=False, fit=sp.stats.norm, label='1번 데이터')\n",
    "ax = sns.distplot(x2, kde=False, fit=sp.stats.norm, label='2번 데이터')\n",
    "ax.lines[0].set_linestyle(\":\")\n",
    "plt.legend()\n",
    "plt.show()\n",
    "\n",
    "print(\"x1 의 표준 편차:\", x1.std())\n",
    "print(\"x2 의 표준 편차:\", x2.std())\n",
    "\n",
    "# 2개 데이터 집단의 분산 차이가 유의미한 것인지 확인\n",
    "print(\"바틀렛 등분산 검정:\", sp.stats.bartlett(x1, x2))\n",
    "print(\"플리그너 등분산 검정:\", sp.stats.fligner(x1, x2))\n",
    "print(\"레빈 등분산 검정:\", sp.stats.levene(x1, x2))"
   ]
  },
  {
   "cell_type": "code",
   "execution_count": null,
   "id": "e45f9ad5",
   "metadata": {},
   "outputs": [],
   "source": []
  },
  {
   "cell_type": "code",
   "execution_count": null,
   "id": "e523095b",
   "metadata": {},
   "outputs": [],
   "source": []
  }
 ],
 "metadata": {
  "kernelspec": {
   "display_name": "Python 3 (ipykernel)",
   "language": "python",
   "name": "python3"
  },
  "language_info": {
   "codemirror_mode": {
    "name": "ipython",
    "version": 3
   },
   "file_extension": ".py",
   "mimetype": "text/x-python",
   "name": "python",
   "nbconvert_exporter": "python",
   "pygments_lexer": "ipython3",
   "version": "3.9.7"
  }
 },
 "nbformat": 4,
 "nbformat_minor": 5
}
