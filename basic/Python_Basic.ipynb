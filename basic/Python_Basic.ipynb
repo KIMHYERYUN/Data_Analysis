{
 "cells": [
  {
   "cell_type": "markdown",
   "id": "ee53cd32",
   "metadata": {},
   "source": [
    "들여쓰기"
   ]
  },
  {
   "cell_type": "code",
   "execution_count": 1,
   "id": "4e9b8b83",
   "metadata": {},
   "outputs": [
    {
     "name": "stdout",
     "output_type": "stream",
     "text": [
      "10보다 크다\n"
     ]
    }
   ],
   "source": [
    "num = 20\n",
    "#파이썬은 하위 블럭을 만들 때 :를 붙이고 일정한 크기만큼 들여쓰기를 해야한다.\n",
    "if num >= 10:\n",
    "    print(\"10보다 크다\")\n",
    "else:\n",
    "    print(\"10보다 크지 않다.\")"
   ]
  },
  {
   "cell_type": "code",
   "execution_count": 2,
   "id": "b0af3f60",
   "metadata": {},
   "outputs": [
    {
     "name": "stdout",
     "output_type": "stream",
     "text": [
      "10\n",
      "20\n"
     ]
    }
   ],
   "source": [
    "print(10)\n",
    "print(20)\n",
    "#print(10) print(20)\n",
    "#한줄에 2개의 실행문장이 있을 때는 :으로 구분해야 한다."
   ]
  },
  {
   "cell_type": "code",
   "execution_count": 3,
   "id": "a46d4951",
   "metadata": {},
   "outputs": [
    {
     "ename": "SyntaxError",
     "evalue": "illegal target for annotation (Temp/ipykernel_25784/942501844.py, line 1)",
     "output_type": "error",
     "traceback": [
      "\u001b[1;36m  File \u001b[1;32m\"C:\\Users\\90x61\\AppData\\Local\\Temp/ipykernel_25784/942501844.py\"\u001b[1;36m, line \u001b[1;32m1\u001b[0m\n\u001b[1;33m    print(10) : print(20):\u001b[0m\n\u001b[1;37m    ^\u001b[0m\n\u001b[1;31mSyntaxError\u001b[0m\u001b[1;31m:\u001b[0m illegal target for annotation\n"
     ]
    }
   ],
   "source": [
    "print(10) : print(20):"
   ]
  },
  {
   "cell_type": "code",
   "execution_count": null,
   "id": "93699308",
   "metadata": {},
   "outputs": [],
   "source": [
    "print(10)\n",
    "\"\"\"이것은 블럭 주석처럼 사용할 수 있음\n",
    "큰따옴표 나 작은 따옴표 3개를 연속으로 적으면 주석이 아니고 여러 줄 문자열\"\"\""
   ]
  },
  {
   "cell_type": "code",
   "execution_count": null,
   "id": "bb47de08",
   "metadata": {},
   "outputs": [],
   "source": [
    "x=10\n",
    "print(dir(x))\n",
    "#데이터가 사용할 수 있는 속성이나 함수 목록"
   ]
  },
  {
   "cell_type": "code",
   "execution_count": null,
   "id": "2369021f",
   "metadata": {},
   "outputs": [],
   "source": [
    "x='math'\n",
    "print(dir(x))"
   ]
  },
  {
   "cell_type": "code",
   "execution_count": null,
   "id": "ab11dd38",
   "metadata": {},
   "outputs": [],
   "source": [
    "help(count)"
   ]
  },
  {
   "cell_type": "markdown",
   "id": "3c9a2623",
   "metadata": {},
   "source": [
    "파이썬 예약어(Phython keyword)"
   ]
  },
  {
   "cell_type": "code",
   "execution_count": null,
   "id": "0313e822",
   "metadata": {},
   "outputs": [],
   "source": [
    "#패키지 설치 시 패키지 사용할 수 없다고 나올 경우 확인"
   ]
  },
  {
   "cell_type": "code",
   "execution_count": null,
   "id": "afe9b204",
   "metadata": {},
   "outputs": [],
   "source": [
    "import keyword\n",
    "print(keyword.kwlist)"
   ]
  },
  {
   "cell_type": "markdown",
   "id": "b9bad511",
   "metadata": {},
   "source": [
    "모듈 찾는 순서 확인"
   ]
  },
  {
   "cell_type": "code",
   "execution_count": null,
   "id": "97878b5d",
   "metadata": {},
   "outputs": [],
   "source": [
    "import sys\n",
    "print(sys.path)"
   ]
  },
  {
   "cell_type": "code",
   "execution_count": null,
   "id": "8b73db89",
   "metadata": {},
   "outputs": [],
   "source": [
    "nation = 'KOREA'\n",
    "#python의 str을 사용하므로 소문자로 변환해서 출력\n",
    "print(str.lower(nation))\n",
    "#내 모듈에서 str을 10으로 정의\n",
    "str = 10\n",
    "#str이 파이썬의 것이 아니고 내 모듈에서의 str이므로 에러\n",
    "print(str.lower(nation))"
   ]
  },
  {
   "cell_type": "markdown",
   "id": "90054f03",
   "metadata": {},
   "source": [
    "파이썬의 기본 데이터 자료형"
   ]
  },
  {
   "cell_type": "code",
   "execution_count": null,
   "id": "4396f737",
   "metadata": {},
   "outputs": [],
   "source": [
    "#bool : true나 false\n",
    "#수치형 : int, float, complex - scala 자료형, 변경불가능, 직접 접근\n",
    "#문자열 : str - vector 자료형, 변경불가능, 시퀀스(인덱스)를 이용해서 접근\n",
    "#tuple : vector 자료형, 변경 불가능, 시퀀스를 이용해서 접근\n",
    "#list - vector자료형, 변경가능, 시퀀스를 이용해서 접근\n",
    "#dict - vector 자료형, 변경가능, map(순서는 중요하지 않고 이름 중요)을 이용해서 접근\n",
    "#set - vector 자료형, 변경가능, set(중복불가)을 이용해서 접근"
   ]
  },
  {
   "cell_type": "code",
   "execution_count": null,
   "id": "44478b91",
   "metadata": {},
   "outputs": [],
   "source": [
    "#bool\n",
    "#true(0이 아닌 숫자-데이터 존재하는 vector로 간주)나 false로 표현"
   ]
  },
  {
   "cell_type": "code",
   "execution_count": 4,
   "id": "5fa49653",
   "metadata": {},
   "outputs": [],
   "source": [
    "#숫자 자료형 표현\n",
    "#정수(10진수, 8진수(0o), 16진수(0x), 2진수(0b))\n",
    "#실수(1.7 형태의 고정 소수점 방식, 1.4e지수를 이용하는 부동 소수점 방식, 지수는 정수 가능하나 소수 불가)\n",
    "#복소수(허수 부분에 j나 J를 붙여서 표현 : 실수 + 허수부분J/j)"
   ]
  },
  {
   "cell_type": "code",
   "execution_count": 5,
   "id": "e3dc1305",
   "metadata": {},
   "outputs": [],
   "source": [
    "#데이터 집합\n",
    "#문자열(str):작은/큰 따옴표 안에 작성, '''(문장)''', \"\"\"(문장)\"\"\"여러 줄의 문자열을 하나의 데이터 \n",
    "#bytes : byte의 집합으로 b'문자열 또는 b'\\코드 나열', 다른 곳에서 데이터를 가져올 때 사용\n",
    "#tuple : 행으로, 모여서 하나의 데이터를 표현하기 위한 자료형, (데이터 나열)\n",
    "#list : 서로 독립적으로 비교 가능한 데이터를 하나로 묶을 때 사용하는 자료형, [데이터 나열]\n",
    "#set : 중복없는 데이터 모임, {데이터 나열}\n",
    "\n",
    "#for을 이용해서 순서대로 데이터를 접근가능 : iterable\n",
    "\n",
    "#dict : 키와 값을 쌍으로 저장하는 자료형 : {key:value, key:value....}, {아무 데이터가 없는 경우}"
   ]
  },
  {
   "cell_type": "code",
   "execution_count": 6,
   "id": "4c0b6092",
   "metadata": {},
   "outputs": [
    {
     "name": "stdout",
     "output_type": "stream",
     "text": [
      "10\n",
      "2061852633680\n",
      "20\n",
      "2061852634000\n",
      "10\n",
      "2061852633680\n",
      "2061852633680\n",
      "2061852634000\n"
     ]
    }
   ],
   "source": [
    "#10을 저장하고 그 위치를 x가 가리키는 것\n",
    "x=10\n",
    "#값을 출력\n",
    "print(x)\n",
    "#가리키고 있는 곳의 위치\n",
    "print(id(x))\n",
    "\n",
    "#20을 저장하고 그 위치를 x가 가리키는 것\n",
    "x=20\n",
    "print(x)\n",
    "print(id(x))\n",
    "\n",
    "y=10\n",
    "#값을 출력\n",
    "print(y)\n",
    "#가리키고 있는 곳의 위치\n",
    "print(id(y))\n",
    "\n",
    "print(id(10))\n",
    "print(id(20))"
   ]
  },
  {
   "cell_type": "code",
   "execution_count": 7,
   "id": "ee2f6de2",
   "metadata": {
    "scrolled": true
   },
   "outputs": [
    {
     "name": "stdout",
     "output_type": "stream",
     "text": [
      "HI\n",
      "2061932626480\n",
      "HELLO\n",
      "2061932661808\n",
      "HI\n",
      "2061932626480\n",
      "2061932626480\n",
      "2061932661808\n"
     ]
    }
   ],
   "source": [
    "#10을 저장하고 그 위치를 x가 가리키는 것\n",
    "x=\"HI\"\n",
    "#값을 출력\n",
    "print(x)\n",
    "#가리키고 있는 곳의 위치\n",
    "print(id(x))\n",
    "\n",
    "#20을 저장하고 그 위치를 x가 가리키는 것\n",
    "x=\"HELLO\"\n",
    "print(x)\n",
    "print(id(x))\n",
    "\n",
    "y=\"HI\"\n",
    "#값을 출력\n",
    "print(y)\n",
    "#가리키고 있는 곳의 위치\n",
    "print(id(y))\n",
    "\n",
    "print(id(\"HI\"))\n",
    "print(id(\"HELLO\"))"
   ]
  },
  {
   "cell_type": "markdown",
   "id": "bc59c714",
   "metadata": {},
   "source": [
    "데이터에 이름 붙이기"
   ]
  },
  {
   "cell_type": "code",
   "execution_count": 8,
   "id": "64e4a8f5",
   "metadata": {},
   "outputs": [],
   "source": [
    "#제어 문자 : \\ + 영문자 -> 특별한 의미 부여문자\n",
    "#\\n: 줄바꿈, \\:\\, \\\", \\', \\t:tab, \\0:NULL\n",
    "\n",
    "#None : 가리키는 데이터가 없다, NaN, NULL, NIL, 결측치(데이터 분석 시, Missing Value)"
   ]
  },
  {
   "cell_type": "code",
   "execution_count": 9,
   "id": "aa90bd47",
   "metadata": {},
   "outputs": [],
   "source": [
    "#dentifier : 사용자 정의 명칭, 프로그래머가 기능을 저장하는 명령어\n",
    "#데이터(변수), 함수, 클래스, 객체, 모듈, 패키지에 이름 붙이는 것이 가능\n",
    "#영문자, 숫자, 한글 가능, 영문자나 _로 시작, 대소문자 구별\n",
    "#_를 제외한 특수문자 x\n",
    "#파이썬의 예약어는 식별자로 사용할 수 없음 : Syntax Eroor: invalid syntax 에러\n",
    "#기존에 사용중인 이름의 식별자 다시 사용하면 기능 변경"
   ]
  },
  {
   "cell_type": "code",
   "execution_count": 10,
   "id": "e73a9426",
   "metadata": {},
   "outputs": [],
   "source": [
    "#파이썬에서 데이터 이름을 붙이는 방법\n",
    "#식별자 = 데이터\n",
    "#파이썬은 자료형 기재 x\n",
    "#이름 삭제(데이터 x) : del\n",
    "#여러개 한꺼번에 생성가능 : 이름1, 이름2 = 데이터1, 데이터2"
   ]
  },
  {
   "cell_type": "code",
   "execution_count": 11,
   "id": "ec4d4004",
   "metadata": {},
   "outputs": [
    {
     "name": "stdout",
     "output_type": "stream",
     "text": [
      "jaydenkhr\n"
     ]
    }
   ],
   "source": [
    "#jaydenkhr이라는 문자열에 name이라는 이름 붙이기\n",
    "name = 'jaydenkhr'\n",
    "print(name)"
   ]
  },
  {
   "cell_type": "code",
   "execution_count": 17,
   "id": "c3c6ee4c",
   "metadata": {},
   "outputs": [
    {
     "ename": "TypeError",
     "evalue": "'int' object is not callable",
     "output_type": "error",
     "traceback": [
      "\u001b[1;31m---------------------------------------------------------------------------\u001b[0m",
      "\u001b[1;31mTypeError\u001b[0m                                 Traceback (most recent call last)",
      "\u001b[1;32m~\\AppData\\Local\\Temp/ipykernel_25784/6297211.py\u001b[0m in \u001b[0;36m<module>\u001b[1;34m\u001b[0m\n\u001b[0;32m      2\u001b[0m \u001b[1;31m#print(abs(-3))\u001b[0m\u001b[1;33m\u001b[0m\u001b[1;33m\u001b[0m\u001b[0m\n\u001b[0;32m      3\u001b[0m \u001b[0mabs\u001b[0m \u001b[1;33m=\u001b[0m \u001b[1;36m10\u001b[0m\u001b[1;33m\u001b[0m\u001b[1;33m\u001b[0m\u001b[0m\n\u001b[1;32m----> 4\u001b[1;33m \u001b[0mprint\u001b[0m\u001b[1;33m(\u001b[0m\u001b[0mabs\u001b[0m\u001b[1;33m(\u001b[0m\u001b[1;33m-\u001b[0m\u001b[1;36m3\u001b[0m\u001b[1;33m)\u001b[0m\u001b[1;33m)\u001b[0m\u001b[1;33m\u001b[0m\u001b[1;33m\u001b[0m\u001b[0m\n\u001b[0m",
      "\u001b[1;31mTypeError\u001b[0m: 'int' object is not callable"
     ]
    }
   ],
   "source": [
    "#abs는 절대값을 구해주는 함수의 이름인데 정수를 저장한 곳을 가리키게 되어 기능이 변경되어 error\n",
    "#print(abs(-3))\n",
    "abs = 10\n",
    "print(abs(-3))"
   ]
  },
  {
   "cell_type": "code",
   "execution_count": null,
   "id": "70d8cc47",
   "metadata": {},
   "outputs": [],
   "source": [
    "#and의 기능을 변경하려고 하여 error\n",
    "and = 6\n",
    "print(and)"
   ]
  },
  {
   "cell_type": "markdown",
   "id": "b24565d3",
   "metadata": {},
   "source": [
    "연산자(Operator)"
   ]
  },
  {
   "cell_type": "code",
   "execution_count": null,
   "id": "83920fb3",
   "metadata": {},
   "outputs": [],
   "source": [
    "#계산을 수행해주는 부호나 명령어\n",
    "#분류를 할 때는 연산의 방식(산술, 논리연산)과 피연산자(Operand)의 개수(Unary, Binary)등으로 분류"
   ]
  },
  {
   "cell_type": "code",
   "execution_count": null,
   "id": "615a3b06",
   "metadata": {},
   "outputs": [],
   "source": [
    "#할당연산자 : =\n",
    "#오른쪽의 데이터가 가리키고 있는 데이터를 왼쪽의 이름이 가리키도록 해주는 연산자\n",
    "#산술연산자 : + \n",
    "#동일한 자료형의 데이터끼리만 연산이 가능하며 숫자 데이터의 경우는 더하고 vector 자료형은 결합(양쪽의 자료형 확인)\n",
    "# - : 숫자 데이터에서만 사용 \n",
    "# * : 숫자 데이터끼리 곱셈, vector * 정수 : 반복\n",
    "# ** : 거듭제곱 연산자\n",
    "# / : 숫자 데이터끼리 나눗셈 - 결과 실수로 리턴\n",
    "# // : 몫 , % : 나머지"
   ]
  },
  {
   "cell_type": "code",
   "execution_count": null,
   "id": "8777cc36",
   "metadata": {},
   "outputs": [],
   "source": [
    "#숫자의 경우 더하기(단, 자료형이 같을 경우)\n",
    "print(10+30)\n",
    "print([100, 300, 200] + [300, 100, 100])\n",
    "print([100, 200, 100] + 100)"
   ]
  },
  {
   "cell_type": "code",
   "execution_count": null,
   "id": "7b195cd2",
   "metadata": {},
   "outputs": [],
   "source": [
    "#리스트와 행렬\n",
    "#행렬모듈 실행\n",
    "import numpy as np\n",
    "li = [100, 300, 200]\n",
    "ar = np.array([100, 300, 200])\n",
    "print(li)\n",
    "print(ar)\n",
    "print(ar + 100)"
   ]
  },
  {
   "cell_type": "code",
   "execution_count": null,
   "id": "122ead95",
   "metadata": {},
   "outputs": [],
   "source": [
    "#vector * 정수 : 반복\n",
    "print([10, 30] * 3)"
   ]
  },
  {
   "cell_type": "code",
   "execution_count": null,
   "id": "47e69d19",
   "metadata": {},
   "outputs": [],
   "source": [
    "print(\"Welcome to jadenkhr world\\n\" * 3)"
   ]
  },
  {
   "cell_type": "code",
   "execution_count": null,
   "id": "7812d4f9",
   "metadata": {},
   "outputs": [],
   "source": [
    "#등가/항등 연산자 : 결과 bool\n",
    "# >, >=, <, <=, ==, !=\n",
    "# 숫자데이터와 bool 사이 사용가능 : true(1), false(0)"
   ]
  },
  {
   "cell_type": "code",
   "execution_count": null,
   "id": "a79ef50d",
   "metadata": {},
   "outputs": [],
   "source": [
    "#산술 비트 연산\n",
    "# <<, >> : 왼쪽으로 밀어내면 배수, 오른쪽으로 밀어내면 1/배수"
   ]
  },
  {
   "cell_type": "code",
   "execution_count": null,
   "id": "0a291fce",
   "metadata": {},
   "outputs": [],
   "source": [
    "# & : 둘다 1일 때만 1\n",
    "# | : 둘다 0일 때만 0\n",
    "# ^ : 두개가 같으면 0, 다르면 1\n",
    "# ~ : 1 <-> 0"
   ]
  },
  {
   "cell_type": "code",
   "execution_count": null,
   "id": "47c1114a",
   "metadata": {},
   "outputs": [],
   "source": [
    "print(10 << 2) #왼쪽으로 2번 밀면 4배가 되서 40\n",
    "print(10 >> 2) #오른쪽으로 2번 밀면 1/4이 되서 2"
   ]
  },
  {
   "cell_type": "code",
   "execution_count": null,
   "id": "2f8b5c6f",
   "metadata": {},
   "outputs": [],
   "source": [
    "x = 21 #10101\n",
    "y = 19 #10011\n",
    "print(x&y)\n",
    "print(x|y)\n",
    "print(x^y)\n",
    "print(~x)\n",
    "print(~y)\n",
    "print(xy) #연산자가 존재하지 않아서 error"
   ]
  },
  {
   "cell_type": "code",
   "execution_count": null,
   "id": "5e70e705",
   "metadata": {},
   "outputs": [],
   "source": [
    "#print([True, True, False] & [True, True, False])\n",
    "#파이썬에서는 &, |, ^를 정수 데이터 사이의 연산에만 사용가능\n",
    "\n",
    "import numpy as np\n",
    "x = np.array([True, True, False])\n",
    "y = np.array([True, False, False])\n",
    "print(x&y)\n",
    "print(x|y)\n",
    "print(x^y)\n",
    "print(x == True)\n",
    "print(x > 5)\n",
    "#데이터 분석 라이브러리에서는 vector 자료형에 &, |, ^를 사용할 수 있음\n",
    "#이를 이용해서 조건에 맞는 데이터를 추출하는데 사용\n",
    "\n",
    "z = np.array([100, 300, 200])\n",
    "print(z[z>150])\n",
    "print(z>150)"
   ]
  },
  {
   "cell_type": "code",
   "execution_count": null,
   "id": "a02eb4fd",
   "metadata": {},
   "outputs": [],
   "source": [
    "print(True and False)\n",
    "print(False and True)\n",
    "print(True or False)\n",
    "print(1 and 1) #정수 데이터도 논리 연산 가능\n",
    "print(1 and 2)\n",
    "print(0 and 1)"
   ]
  },
  {
   "cell_type": "markdown",
   "id": "e97d6ee6",
   "metadata": {},
   "source": [
    "복합 할당 연산자"
   ]
  },
  {
   "cell_type": "code",
   "execution_count": null,
   "id": "465c207d",
   "metadata": {},
   "outputs": [],
   "source": [
    "#다른 연산자와 할당 연산자가 같이 사용되는 것\n",
    "#변수 연산자 = 데이터(변수, 리터럴, 표현식 - 연산식이나 함수 호출 구문)\n",
    "#변수가 가리키는 데이터에 오른쪽 데이터를 연산자를 이용해서 연산을 수행하고 왼쪽의 변수가 가리키도록 하는 것"
   ]
  },
  {
   "cell_type": "code",
   "execution_count": null,
   "id": "3630fe02",
   "metadata": {},
   "outputs": [],
   "source": [
    "x = 10\n",
    "\n",
    "x += 20\n",
    "print(x)"
   ]
  },
  {
   "cell_type": "markdown",
   "id": "e150c144",
   "metadata": {},
   "source": [
    "자료형 확인 및 참조 ID 확인"
   ]
  },
  {
   "cell_type": "code",
   "execution_count": null,
   "id": "0222a1fd",
   "metadata": {},
   "outputs": [],
   "source": [
    "#TYPE : 데이터의 자료형을 문자열로 리턴\n",
    "#ID : 데이터가 참조하고 있는 데이터의 ID(메모리 영역을 구분하기 위한 구분자) "
   ]
  },
  {
   "cell_type": "code",
   "execution_count": null,
   "id": "8473cf77",
   "metadata": {},
   "outputs": [],
   "source": [
    "x = \"Hello Jayden\"\n",
    "print(type(x))\n",
    "y=(10, 20)\n",
    "print(type(y))\n",
    "z=30\n",
    "print(type(z))\n",
    "\n",
    "print(id(x))\n",
    "print(id(y))\n",
    "print(id(z))"
   ]
  },
  {
   "cell_type": "markdown",
   "id": "7d054991",
   "metadata": {},
   "source": [
    "자료형 변환"
   ]
  },
  {
   "cell_type": "code",
   "execution_count": null,
   "id": "34751acc",
   "metadata": {},
   "outputs": [],
   "source": [
    "#정수변환 : int(숫자, 정수로 변환가능 문자열, bool, 실수-소수버림)\n",
    "#실수변환 : float(숫자, 실수로 변환가능 문자열, bool)\n",
    "#bool변환 : bool(숫자, bool로 변환가능 문자열)\n",
    "#문자열변환 : str(데이터)"
   ]
  },
  {
   "cell_type": "code",
   "execution_count": null,
   "id": "a1b58813",
   "metadata": {},
   "outputs": [],
   "source": []
  },
  {
   "cell_type": "markdown",
   "id": "2b630f09",
   "metadata": {},
   "source": [
    "콘솔 입출력"
   ]
  },
  {
   "cell_type": "code",
   "execution_count": null,
   "id": "8a1a6ddb",
   "metadata": {},
   "outputs": [],
   "source": [
    "#Console 입출력\n",
    "#Command : Windows / Terminal : Linux, Mac\n",
    "#IDE가 Console로 가는 것을 가로채 자신의 콘솔 사용"
   ]
  },
  {
   "cell_type": "code",
   "execution_count": null,
   "id": "5631f7d8",
   "metadata": {},
   "outputs": [],
   "source": [
    "help(print)\n",
    "#... : 여러개 가능\n",
    "#sep : 여러 데이터 구분자\n",
    "#end : 줄바꿈 대신 설정한 값이 출력"
   ]
  },
  {
   "cell_type": "code",
   "execution_count": null,
   "id": "df7274f1",
   "metadata": {},
   "outputs": [],
   "source": [
    "print(\"Jayden\")\n",
    "print(\"Jayden\")\n",
    "print(\"Jayden\", \"Welcome\") #여러개의 데이터 출력\n",
    "#여러개의 데이터 사이에 구분자 설정\n",
    "print(\"Java\", \"JavaScript\", \"Python\", sep='      ')\n",
    "#출력한 후 줄 바꿈 대신에 다른 내용을 출력\n",
    "print('Python은 ', end = ' // ')\n",
    "print('응용 프로그램 개발은 물론이고 웹 프로그래밍도 가능')"
   ]
  },
  {
   "cell_type": "code",
   "execution_count": null,
   "id": "03c58c09",
   "metadata": {},
   "outputs": [],
   "source": [
    "#서식 설정 : %(서식) - 데이터 매칭\n",
    "# %s(문자열), %c(문자 1개), %d(정수), %f(실수), %o(8진수). %x(16진수), %%(%출력)\n",
    "# % + 자리수 지정하여 출력가능, .소수자리수도 가능\n",
    "\n",
    "#'{}'.format\n",
    "#'문자열 {인덱스 설정가능}'.format(데이터 나열) : 인덱스 설정 시 데이터로 치환, 없으면 순서대로 치환\n",
    "\n",
    "#f-strings : 가장 권장하는 방법\n",
    "#문자열 리터럴 안에 f\"{데이터이름}...\"의 형태로 생성하는 것이 가능\n"
   ]
  },
  {
   "cell_type": "code",
   "execution_count": null,
   "id": "ecb2bed9",
   "metadata": {},
   "outputs": [],
   "source": [
    "print('파이는 %.2f'%(3.1415))\n",
    "\n",
    "print('{1}은 {0}을 좋아합니다.'.format('영화', 'Jayden'))\n",
    "\n",
    "first = \"바나나\"\n",
    "second = \"과일\"\n",
    "print(f\"{first}는 {second}이다.\")"
   ]
  },
  {
   "cell_type": "code",
   "execution_count": null,
   "id": "4e88a520",
   "metadata": {},
   "outputs": [],
   "source": [
    "#콘솔 입력\n",
    "#input('메시지') : 문자열을 입력받아서 리턴하는 함수(enter누를 때까지 입력을 받음)"
   ]
  },
  {
   "cell_type": "code",
   "execution_count": null,
   "id": "fb1fed69",
   "metadata": {},
   "outputs": [],
   "source": [
    "input('여기에 입력해주세요')"
   ]
  },
  {
   "cell_type": "markdown",
   "id": "336fac53",
   "metadata": {},
   "source": [
    "Control Statement"
   ]
  },
  {
   "cell_type": "code",
   "execution_count": null,
   "id": "0c6cde01",
   "metadata": {},
   "outputs": [],
   "source": [
    "#Expression(표현식) : 한번에 수행되는 문장, 변수에 값이나 연산식 또는 함수의 실행 결과를 저장하거나 함수를 호출하는 문장\n",
    "#하나의 코드 블럭 : 일정한 들여쓰기 - 제어문, 함수, 클래스 등 생성 가능, 하나의 파일 내에 있는 코드는 전체를 하나의 블럭(Module)"
   ]
  },
  {
   "cell_type": "code",
   "execution_count": null,
   "id": "86378c15",
   "metadata": {},
   "outputs": [],
   "source": [
    "#제어문 : 기본적인 프로그램 흐름인 순차적(위에서 아래)인 것을 변경하는 명령어\n",
    "#if, for, whild, switch(version : 3.10부터) 가능"
   ]
  },
  {
   "cell_type": "code",
   "execution_count": null,
   "id": "f6dea5ac",
   "metadata": {},
   "outputs": [],
   "source": [
    "#if\n",
    "\n",
    "#if-else\n",
    "#if 리턴이 있는 표현식:\n",
    "#    표현식의 값이 True일 때 수행할 내용\n",
    "#else:\n",
    "#    표현식의 값이 False일 때 수행할 내용\n",
    "    \n",
    "#변수 = 기본값 if 표현식 else 표현식이 거짓일 때 대입할 값\n",
    "\n",
    "#if-elif-else\n",
    "#if 리턴이 있는 표현식:\n",
    "#    표현식의 값이 True일 때 수행할 내용\n",
    "#elif 리턴이 있는 표현식:\n",
    "#    표현식의 값이 True일 때 수행할 내용\n",
    "#else:\n",
    "#    표현식의 값이 False일 때 수행할 내용"
   ]
  },
  {
   "cell_type": "code",
   "execution_count": null,
   "id": "9ca7a63f",
   "metadata": {},
   "outputs": [],
   "source": [
    "var = True\n",
    "if var :\n",
    "    print(\"bool 데이터를 가지고 수행\")\n",
    "    \n",
    "var = 13\n",
    "if var:\n",
    "    print(\"숫자 데이터를 가지고 수행\") #0이 아닌 숫자는 True\n",
    "\n",
    "var = [10, 20, 30]\n",
    "if var:\n",
    "    print(\"데이터 목록을 가지고 수행\") #데이터가 존재하면 True\n",
    "    \n",
    "var = []\n",
    "if var:\n",
    "    print(\"데이터 목록을 가지고 수행\") #데이터가 존재하면 True, 존재하지 않으면 출력하지 않음"
   ]
  },
  {
   "cell_type": "code",
   "execution_count": null,
   "id": "fda4ecdd",
   "metadata": {},
   "outputs": [],
   "source": [
    "time = 6\n",
    "if time >= 7:\n",
    "    print(\"스타벅스\")\n",
    "else:\n",
    "        print(\"베스킨라빈스\")"
   ]
  },
  {
   "cell_type": "code",
   "execution_count": null,
   "id": "b8374f68",
   "metadata": {},
   "outputs": [],
   "source": [
    "# 조건문을 이용한 변수의 값 할당\n",
    "score = 59\n",
    "\n",
    "result = \"합격\"\n",
    "if score >= 60:\n",
    "    result = \"합격\"\n",
    "else:\n",
    "    result =\"불합격\"\n",
    "print(result)\n",
    "\n",
    "result =\"합격\" if score >= 60 else \"불합격\"\n",
    "print(result)"
   ]
  },
  {
   "cell_type": "code",
   "execution_count": null,
   "id": "f51465da",
   "metadata": {},
   "outputs": [],
   "source": [
    "#하나의 숫자를 입력받아서\n",
    "#90-100이면 A\n",
    "#80-89이면 B\n",
    "#70-79이면 C\n",
    "#60-69이면 D\n",
    "#50-59이면 E\n",
    "#그 외이면 F\n",
    "\n",
    "score = int(input(\"점수입력\"))  #input 문자열 리턴 -> 형식 변환\n",
    "#범위를 명확해 하지 않는경우 초과되거나 이하일 경우 검토\n",
    "if(score >= 90 and score <=100):\n",
    "    score = \"A\"\n",
    "elif(score >=80 and score < 90):\n",
    "    score =\"B\"\n",
    "elif(score >=70 and score < 80):\n",
    "    score =\"C\"\n",
    "elif(score >=60 and score < 70):\n",
    "    score =\"D\"\n",
    "elif(score >=50 and score < 60):\n",
    "    score =\"E\"\n",
    "elif(score >=0 and score < 50):\n",
    "    score =\"F\"\n",
    "else:\n",
    "    score =\"잘못된 점수입니다.\"\n",
    "\n",
    "print(score)"
   ]
  },
  {
   "cell_type": "code",
   "execution_count": null,
   "id": "a50b6b69",
   "metadata": {},
   "outputs": [],
   "source": [
    "# While 반복문\n",
    "# While 표현식:\n",
    "# 표현식이 True일 때 수행할 내용 작성\n",
    "\n",
    "#while - else\n",
    "#while 표현식:\n",
    "#    표현식이 True일 때 수행할 내용을 작성\n",
    "#else:\n",
    "#    while이 중간에 중단되지 않고 끝까지 수행한 경우 수행될 내용\n",
    "\n",
    "#무한 반복\n",
    "#while True: \n",
    "#    반복할 내용"
   ]
  },
  {
   "cell_type": "code",
   "execution_count": null,
   "id": "4590d792",
   "metadata": {},
   "outputs": [],
   "source": [
    "i = 0\n",
    "while i < 10:\n",
    "    print(i)\n",
    "    i = i + 1"
   ]
  },
  {
   "cell_type": "code",
   "execution_count": null,
   "id": "04265474",
   "metadata": {},
   "outputs": [],
   "source": [
    "i = 0\n",
    "while i < 10:\n",
    "    i = i + 1\n",
    "    print(i)"
   ]
  },
  {
   "cell_type": "code",
   "execution_count": null,
   "id": "6ae73a4c",
   "metadata": {},
   "outputs": [],
   "source": [
    "#동아일보 검색 페이지 URL\n",
    "#https://www.donga.com/news/search?p=데이터시작번호&query=검색어\n",
    "#1page : 1번에서 시작\n",
    "#2page : 16번에서 시작\n",
    "#3page : 31번에서 시작\n",
    "\n",
    "#검색어를 입력받아서 1페이지부터 10페이지까지 크롤링 할 수 있는 URL을 출력\n",
    "\n",
    "query = input(\"검색어를 입력하세요\")\n",
    "\n",
    "idx = 0\n",
    "while idx < 10:\n",
    "    print(f\"https://www.donga.com/news/search?p={idx * 15 +1}\"+ f\"&query={query}\")\n",
    "    idx = idx + 1\n",
    "    "
   ]
  },
  {
   "cell_type": "code",
   "execution_count": null,
   "id": "b75e01b3",
   "metadata": {},
   "outputs": [],
   "source": [
    "idx = 1\n",
    "while idx < 5:\n",
    "    print(idx)\n",
    "    idx = idx + 1\n",
    "    if idx > 3:\n",
    "        break\n",
    "#반복문이 전부 수행된 경우 즉 중간에 종료되지 않은 경우에만 수행\n",
    "else:\n",
    "    print(\"반복문 전부 수행하고 종료\")"
   ]
  },
  {
   "cell_type": "code",
   "execution_count": null,
   "id": "de65e1a1",
   "metadata": {},
   "outputs": [],
   "source": [
    "#For\n",
    "#for 임시변수 in 순서열(순회 가능한 데이터의 모임):\n",
    "#     순서열의 데이터를 임시변수에 순서대로 하나씩 대입하면서 수행될 문장\n",
    "#순서열의 데이터는 _iter_가 구현된 자료형의 데이터만 가능\n",
    "#str, list, tuple, set, dict 등이 가능"
   ]
  },
  {
   "cell_type": "code",
   "execution_count": null,
   "id": "60d0c194",
   "metadata": {},
   "outputs": [],
   "source": [
    "# 한 글자씩 출력\n",
    "s =\"Hello String\"\n",
    "print(dir(s)) #__iter__ 존재\n",
    "for ch in s:\n",
    "    print(ch)\n",
    "    \n",
    "# 한 요소씩 출력    \n",
    "pl = ['java', 'javascript', 'phython']\n",
    "print(dir(pl))\n",
    "for language in pl:\n",
    "    print(language)\n",
    "\n",
    "# key값 순회    \n",
    "dictionary = {\"language\":\"Java\", \"database\":\"MySQL\", \"Framwork\":\"Spring\"}\n",
    "for imsi in dictionary:\n",
    "    print(imsi)\n",
    "    "
   ]
  },
  {
   "cell_type": "markdown",
   "id": "82e0fd61",
   "metadata": {},
   "source": [
    "#range"
   ]
  },
  {
   "cell_type": "code",
   "execution_count": null,
   "id": "05afaa46",
   "metadata": {},
   "outputs": [],
   "source": [
    "#일정한 간격을 갖는 순서열을 만들 때 사용하는 함수\n",
    "#range(시작값(default = 0), 종료값(생략불가), 간격(default = 1))\n",
    "#값이 2개일 경우, 시작,종료값으로 인지"
   ]
  },
  {
   "cell_type": "code",
   "execution_count": null,
   "id": "8edadbdb",
   "metadata": {},
   "outputs": [],
   "source": [
    "for idx in range(0, 10, 2):\n",
    "    print(idx)"
   ]
  },
  {
   "cell_type": "markdown",
   "id": "9b76d83c",
   "metadata": {},
   "source": [
    "#제어문 중첩가능(안쪽 제어문 -> 바깥쪽 제어문)"
   ]
  },
  {
   "cell_type": "code",
   "execution_count": null,
   "id": "5f306ba0",
   "metadata": {},
   "outputs": [],
   "source": [
    "#*\n",
    "#**\n",
    "#***\n",
    "#****\n",
    "#*****\n",
    "\n",
    "for idx in range(0,5):\n",
    "    print('*' * (idx+1))\n",
    "    \n",
    "for i in range(1, 6, 1):        #5줄\n",
    "    for j in range(1, i+1, 1):  #각 줄은 1번부터 줄 번호까지\n",
    "            print(\"*\", end='')  #*을 출력하고 줄바꿈을 하지 않도록\n",
    "    print()"
   ]
  },
  {
   "cell_type": "code",
   "execution_count": null,
   "id": "97366dbc",
   "metadata": {},
   "outputs": [],
   "source": [
    "#*\n",
    "#**\n",
    "#***\n",
    "#**\n",
    "#*\n",
    "print(\"첫번째 방법\")  \n",
    "for i in range(1, 6, 1):   #5줄\n",
    "    if(i <= 3):\n",
    "        for j in range(1, i+1, 1):   #각 줄은 1번부터 줄 번호까지\n",
    "            print('*', end='')      #*을 출력하고 줄바꿈을 하지 않도록\n",
    "    else:\n",
    "        for j in range(1, 7-i, 1):\n",
    "            print('*', end='')      \n",
    "    print()\n",
    "print(\"두번째 방법\")  \n",
    "for i in range(1, 6, 1):\n",
    "    j = i+1 if i <= 3 else 7-i\n",
    "    for j in range(1, j, 1):\n",
    "            print('*', end='')\n",
    "    print()\n",
    "print(\"세번째 방법\")  \n",
    "for i in range(1, 6, 1):    \n",
    "    if(i < 4):\n",
    "        print('*' * i)\n",
    "    else:\n",
    "        print('*' * (6-i))"
   ]
  },
  {
   "cell_type": "code",
   "execution_count": null,
   "id": "99f003cb",
   "metadata": {},
   "outputs": [],
   "source": [
    "#continue(다음 반복으로 이동)\n",
    "#break(반복문 중단)"
   ]
  },
  {
   "cell_type": "code",
   "execution_count": null,
   "id": "70af6785",
   "metadata": {},
   "outputs": [],
   "source": [
    "# for - break - else\n",
    "# while - break - else\n",
    "# for, while 다음에 else가 있으면 break를 만나지 않으면 else 블럭 실행"
   ]
  },
  {
   "cell_type": "code",
   "execution_count": null,
   "id": "b2f62b8a",
   "metadata": {},
   "outputs": [],
   "source": [
    "for i in range(1, 10):\n",
    "    print(i)\n",
    "    if i % 3 = 0:\n",
    "        break:\n",
    "            \n",
    "print()\n",
    "print()\n",
    "\n",
    "#continue는 아래 문장을 더이상 수행하지 않고 다음 반복으로 넘어감\n",
    "#continue가 가장 마지막일 때는 아무런 역할도 하지 않음\n",
    "\n",
    "#for i in range(1, 10):\n",
    "#    print(i)\n",
    "#  if i % 3 == 0:\n",
    "#     continue:\n",
    "    "
   ]
  },
  {
   "cell_type": "code",
   "execution_count": null,
   "id": "d6ca4ec4",
   "metadata": {},
   "outputs": [],
   "source": [
    "#피보나치 수열\n",
    "#1, 1, 2, 3, 5, 8, 13, 21, 34, 55, 89...\n",
    "#첫번째와 두번째는 1\n",
    "#세번째부터는 앞의 2개의 항의 합\n",
    "#15번째 피보나치 수열의 값을 재귀를 사용하지 않고 출력\n",
    "#input(\"피보나치 수열의 몇번째 값을 원하시나요?\")\n",
    "\n",
    "fibo = 1\n",
    "num1 = 1\n",
    "num2 = 1\n",
    "for i in range(3, 16, 1)\n",
    "    fibo = num1 + num2\n",
    "    num2 = num1\n",
    "    num1 = fibo\n",
    "print(fibo)"
   ]
  },
  {
   "cell_type": "code",
   "execution_count": null,
   "id": "e8b6ce18",
   "metadata": {},
   "outputs": [],
   "source": [
    "fibo = 1\n",
    "num1 = 1\n",
    "num2 = 1\n",
    "for i in range(3, 16, 1)\n",
    "    fibo = num1 + num2\n",
    "    num2, num1 = num1, fibo  #파이썬은 여러개의 변수에 한꺼번에 대입 가능\n",
    "print(fibo)"
   ]
  },
  {
   "cell_type": "code",
   "execution_count": null,
   "id": "89af00b4",
   "metadata": {},
   "outputs": [],
   "source": []
  },
  {
   "cell_type": "code",
   "execution_count": null,
   "id": "65967621",
   "metadata": {},
   "outputs": [],
   "source": []
  },
  {
   "cell_type": "code",
   "execution_count": null,
   "id": "8e825909",
   "metadata": {},
   "outputs": [],
   "source": []
  }
 ],
 "metadata": {
  "kernelspec": {
   "display_name": "Python 3 (ipykernel)",
   "language": "python",
   "name": "python3"
  },
  "language_info": {
   "codemirror_mode": {
    "name": "ipython",
    "version": 3
   },
   "file_extension": ".py",
   "mimetype": "text/x-python",
   "name": "python",
   "nbconvert_exporter": "python",
   "pygments_lexer": "ipython3",
   "version": "3.9.7"
  }
 },
 "nbformat": 4,
 "nbformat_minor": 5
}
