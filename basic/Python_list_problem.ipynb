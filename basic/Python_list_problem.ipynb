{
 "cells": [
  {
   "cell_type": "markdown",
   "id": "c7b8aa09",
   "metadata": {},
   "source": [
    "# 배열"
   ]
  },
  {
   "cell_type": "markdown",
   "id": "ce2157bf",
   "metadata": {},
   "source": [
    "## 두 수의 합으로  타겟을 만들 수 있는 두 수의 인덱스를 구하시오 \n",
    "\n",
    "### 데이터는 오름차순 정렬되어 있으며 중복되지 않음\n",
    "\n",
    "#### 입력\n",
    "nums = [2, 7, 11, 15, 29]\n",
    "target = 9\n",
    "\n",
    "\n",
    "#### 출력\n",
    "[0, 1]"
   ]
  },
  {
   "cell_type": "code",
   "execution_count": null,
   "id": "c01b6356",
   "metadata": {},
   "outputs": [],
   "source": []
  },
  {
   "cell_type": "code",
   "execution_count": null,
   "id": "d5cce30a",
   "metadata": {},
   "outputs": [],
   "source": []
  },
  {
   "cell_type": "markdown",
   "id": "3a71bb42",
   "metadata": {},
   "source": [
    "## 3개의 수의 값이 0이 되는 데이터의 인덱스 조회\n",
    "### 배열의 데이터는 중복되지 않음\n",
    "\n",
    "#### 입력\n",
    "[-1, 0, 1, 2, -4]\n",
    "\n",
    "#### 출력\n",
    "[[-1, 0, 1]]"
   ]
  },
  {
   "cell_type": "code",
   "execution_count": null,
   "id": "31e315f0",
   "metadata": {},
   "outputs": [],
   "source": []
  },
  {
   "cell_type": "code",
   "execution_count": null,
   "id": "3a0ef1b9",
   "metadata": {},
   "outputs": [],
   "source": []
  },
  {
   "cell_type": "markdown",
   "id": "99e27811",
   "metadata": {},
   "source": [
    "## 3개의 수의 값이 0이 되는 데이터의 인덱스 조회\n",
    "### 배열의 데이터는 중복될 수 있음\n",
    "\n",
    "#### 입력\n",
    "[-1, 0, 1, 2, -1, -4]\n",
    "\n",
    "#### 출력\n",
    "[[-1, -1, 2], [-1, 0, 1]]"
   ]
  },
  {
   "cell_type": "code",
   "execution_count": null,
   "id": "85af765a",
   "metadata": {},
   "outputs": [],
   "source": []
  },
  {
   "cell_type": "code",
   "execution_count": null,
   "id": "d5a791a5",
   "metadata": {},
   "outputs": [],
   "source": []
  },
  {
   "cell_type": "markdown",
   "id": "c6e8b774",
   "metadata": {},
   "source": [
    "## 주식 가격이 주어질 때 어느 시점에 사서 파는 것이 최대의 이익인지 이익의 크기를 출력 \n",
    "\n",
    "입력:[7,1,5,3,6,4]\n",
    "\n",
    "출력:5"
   ]
  },
  {
   "cell_type": "code",
   "execution_count": null,
   "id": "b7b9e26c",
   "metadata": {},
   "outputs": [],
   "source": []
  }
 ],
 "metadata": {
  "kernelspec": {
   "display_name": "Python 3 (ipykernel)",
   "language": "python",
   "name": "python3"
  },
  "language_info": {
   "codemirror_mode": {
    "name": "ipython",
    "version": 3
   },
   "file_extension": ".py",
   "mimetype": "text/x-python",
   "name": "python",
   "nbconvert_exporter": "python",
   "pygments_lexer": "ipython3",
   "version": "3.8.8"
  }
 },
 "nbformat": 4,
 "nbformat_minor": 5
}
