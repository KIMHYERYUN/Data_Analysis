{
 "cells": [
  {
   "cell_type": "markdown",
   "id": "70acd5e7",
   "metadata": {},
   "source": [
    "# 데이터 전처리"
   ]
  },
  {
   "cell_type": "code",
   "execution_count": 1,
   "id": "4528c621",
   "metadata": {},
   "outputs": [],
   "source": [
    "#데이터 분석을 위한 자료구조 와 선형대수\n",
    "import numpy as np\n",
    "\n",
    "#데이터 분석을 위한 자료구조 와 전처리 및 시각화\n",
    "import pandas as pd\n",
    "\n",
    "#시각화 패키지\n",
    "import matplotlib.pyplot as plt\n",
    "\n",
    "#시각화 할 때 한글을 출력할 수 있도록 하기 위해서\n",
    "import platform\n",
    "from matplotlib import font_manager, rc\n",
    "\n",
    "#한글 처리\n",
    "#매킨토시의 경우\n",
    "if platform.system() == 'Darwin':\n",
    "    rc('font', family='AppleGothic')\n",
    "#윈도우의 경우\n",
    "elif platform.system() == 'Windows':\n",
    "    font_name = font_manager.FontProperties(\n",
    "        fname=\"c:/Windows/Fonts/malgun.ttf\").get_name()\n",
    "    rc('font', family=font_name)\n",
    "    \n",
    "#그래프에서 음수를 위한 처리\n",
    "import matplotlib\n",
    "\n",
    "matplotlib.rcParams['axes.unicode_minus']\n",
    "    \n",
    "#고급 시각화 와 기본 데이터 제공\n",
    "import seaborn as sns\n",
    "\n",
    "#데이터 전처리 와 머신러닝 알고리즘 제공\n",
    "import sklearn "
   ]
  },
  {
   "cell_type": "markdown",
   "id": "8397ed5f",
   "metadata": {},
   "source": [
    "## 시계열 데이터 - 시간에 따라 변하는 데이터"
   ]
  },
  {
   "cell_type": "markdown",
   "id": "7b435faf",
   "metadata": {},
   "source": [
    "### 문자열을 datetime64로 변환"
   ]
  },
  {
   "cell_type": "code",
   "execution_count": 5,
   "id": "0c41922f",
   "metadata": {},
   "outputs": [
    {
     "ename": "ValueError",
     "evalue": "time data '04-09-2009 11:35 TM' does not match format '%d-%m-%Y %I:%M %p' (match)",
     "output_type": "error",
     "traceback": [
      "\u001b[1;31m---------------------------------------------------------------------------\u001b[0m",
      "\u001b[1;31mTypeError\u001b[0m                                 Traceback (most recent call last)",
      "\u001b[1;32mC:\\ProgramData\\Anaconda3\\lib\\site-packages\\pandas\\core\\tools\\datetimes.py\u001b[0m in \u001b[0;36m_to_datetime_with_format\u001b[1;34m(arg, orig_arg, name, tz, fmt, exact, errors, infer_datetime_format)\u001b[0m\n\u001b[0;32m    508\u001b[0m         \u001b[1;32mtry\u001b[0m\u001b[1;33m:\u001b[0m\u001b[1;33m\u001b[0m\u001b[1;33m\u001b[0m\u001b[0m\n\u001b[1;32m--> 509\u001b[1;33m             \u001b[0mvalues\u001b[0m\u001b[1;33m,\u001b[0m \u001b[0mtz\u001b[0m \u001b[1;33m=\u001b[0m \u001b[0mconversion\u001b[0m\u001b[1;33m.\u001b[0m\u001b[0mdatetime_to_datetime64\u001b[0m\u001b[1;33m(\u001b[0m\u001b[0marg\u001b[0m\u001b[1;33m)\u001b[0m\u001b[1;33m\u001b[0m\u001b[1;33m\u001b[0m\u001b[0m\n\u001b[0m\u001b[0;32m    510\u001b[0m             \u001b[0mdta\u001b[0m \u001b[1;33m=\u001b[0m \u001b[0mDatetimeArray\u001b[0m\u001b[1;33m(\u001b[0m\u001b[0mvalues\u001b[0m\u001b[1;33m,\u001b[0m \u001b[0mdtype\u001b[0m\u001b[1;33m=\u001b[0m\u001b[0mtz_to_dtype\u001b[0m\u001b[1;33m(\u001b[0m\u001b[0mtz\u001b[0m\u001b[1;33m)\u001b[0m\u001b[1;33m)\u001b[0m\u001b[1;33m\u001b[0m\u001b[1;33m\u001b[0m\u001b[0m\n",
      "\u001b[1;32mC:\\ProgramData\\Anaconda3\\lib\\site-packages\\pandas\\_libs\\tslibs\\conversion.pyx\u001b[0m in \u001b[0;36mpandas._libs.tslibs.conversion.datetime_to_datetime64\u001b[1;34m()\u001b[0m\n",
      "\u001b[1;31mTypeError\u001b[0m: Unrecognized value type: <class 'str'>",
      "\nDuring handling of the above exception, another exception occurred:\n",
      "\u001b[1;31mValueError\u001b[0m                                Traceback (most recent call last)",
      "\u001b[1;32m~\\AppData\\Local\\Temp/ipykernel_9408/353558938.py\u001b[0m in \u001b[0;36m<module>\u001b[1;34m\u001b[0m\n\u001b[0;32m     20\u001b[0m '''\n\u001b[0;32m     21\u001b[0m \u001b[1;33m\u001b[0m\u001b[0m\n\u001b[1;32m---> 22\u001b[1;33m print([pd.to_datetime(date,\n\u001b[0m\u001b[0;32m     23\u001b[0m             format = '%d-%m-%Y %I:%M %p', errors='raise') \n\u001b[0;32m     24\u001b[0m       for date in date_string])\n",
      "\u001b[1;32m~\\AppData\\Local\\Temp/ipykernel_9408/353558938.py\u001b[0m in \u001b[0;36m<listcomp>\u001b[1;34m(.0)\u001b[0m\n\u001b[0;32m     20\u001b[0m '''\n\u001b[0;32m     21\u001b[0m \u001b[1;33m\u001b[0m\u001b[0m\n\u001b[1;32m---> 22\u001b[1;33m print([pd.to_datetime(date,\n\u001b[0m\u001b[0;32m     23\u001b[0m             format = '%d-%m-%Y %I:%M %p', errors='raise') \n\u001b[0;32m     24\u001b[0m       for date in date_string])\n",
      "\u001b[1;32mC:\\ProgramData\\Anaconda3\\lib\\site-packages\\pandas\\core\\tools\\datetimes.py\u001b[0m in \u001b[0;36mto_datetime\u001b[1;34m(arg, errors, dayfirst, yearfirst, utc, format, exact, unit, infer_datetime_format, origin, cache)\u001b[0m\n\u001b[0;32m    912\u001b[0m             \u001b[0mresult\u001b[0m \u001b[1;33m=\u001b[0m \u001b[0mconvert_listlike\u001b[0m\u001b[1;33m(\u001b[0m\u001b[0marg\u001b[0m\u001b[1;33m,\u001b[0m \u001b[0mformat\u001b[0m\u001b[1;33m)\u001b[0m\u001b[1;33m\u001b[0m\u001b[1;33m\u001b[0m\u001b[0m\n\u001b[0;32m    913\u001b[0m     \u001b[1;32melse\u001b[0m\u001b[1;33m:\u001b[0m\u001b[1;33m\u001b[0m\u001b[1;33m\u001b[0m\u001b[0m\n\u001b[1;32m--> 914\u001b[1;33m         \u001b[0mresult\u001b[0m \u001b[1;33m=\u001b[0m \u001b[0mconvert_listlike\u001b[0m\u001b[1;33m(\u001b[0m\u001b[0mnp\u001b[0m\u001b[1;33m.\u001b[0m\u001b[0marray\u001b[0m\u001b[1;33m(\u001b[0m\u001b[1;33m[\u001b[0m\u001b[0marg\u001b[0m\u001b[1;33m]\u001b[0m\u001b[1;33m)\u001b[0m\u001b[1;33m,\u001b[0m \u001b[0mformat\u001b[0m\u001b[1;33m)\u001b[0m\u001b[1;33m[\u001b[0m\u001b[1;36m0\u001b[0m\u001b[1;33m]\u001b[0m\u001b[1;33m\u001b[0m\u001b[1;33m\u001b[0m\u001b[0m\n\u001b[0m\u001b[0;32m    915\u001b[0m \u001b[1;33m\u001b[0m\u001b[0m\n\u001b[0;32m    916\u001b[0m     \u001b[1;31m#  error: Incompatible return value type (got \"Union[Timestamp, NaTType,\u001b[0m\u001b[1;33m\u001b[0m\u001b[1;33m\u001b[0m\u001b[0m\n",
      "\u001b[1;32mC:\\ProgramData\\Anaconda3\\lib\\site-packages\\pandas\\core\\tools\\datetimes.py\u001b[0m in \u001b[0;36m_convert_listlike_datetimes\u001b[1;34m(arg, format, name, tz, unit, errors, infer_datetime_format, dayfirst, yearfirst, exact)\u001b[0m\n\u001b[0;32m    391\u001b[0m \u001b[1;33m\u001b[0m\u001b[0m\n\u001b[0;32m    392\u001b[0m     \u001b[1;32mif\u001b[0m \u001b[0mformat\u001b[0m \u001b[1;32mis\u001b[0m \u001b[1;32mnot\u001b[0m \u001b[1;32mNone\u001b[0m\u001b[1;33m:\u001b[0m\u001b[1;33m\u001b[0m\u001b[1;33m\u001b[0m\u001b[0m\n\u001b[1;32m--> 393\u001b[1;33m         res = _to_datetime_with_format(\n\u001b[0m\u001b[0;32m    394\u001b[0m             \u001b[0marg\u001b[0m\u001b[1;33m,\u001b[0m \u001b[0morig_arg\u001b[0m\u001b[1;33m,\u001b[0m \u001b[0mname\u001b[0m\u001b[1;33m,\u001b[0m \u001b[0mtz\u001b[0m\u001b[1;33m,\u001b[0m \u001b[0mformat\u001b[0m\u001b[1;33m,\u001b[0m \u001b[0mexact\u001b[0m\u001b[1;33m,\u001b[0m \u001b[0merrors\u001b[0m\u001b[1;33m,\u001b[0m \u001b[0minfer_datetime_format\u001b[0m\u001b[1;33m\u001b[0m\u001b[1;33m\u001b[0m\u001b[0m\n\u001b[0;32m    395\u001b[0m         )\n",
      "\u001b[1;32mC:\\ProgramData\\Anaconda3\\lib\\site-packages\\pandas\\core\\tools\\datetimes.py\u001b[0m in \u001b[0;36m_to_datetime_with_format\u001b[1;34m(arg, orig_arg, name, tz, fmt, exact, errors, infer_datetime_format)\u001b[0m\n\u001b[0;32m    511\u001b[0m             \u001b[1;32mreturn\u001b[0m \u001b[0mDatetimeIndex\u001b[0m\u001b[1;33m.\u001b[0m\u001b[0m_simple_new\u001b[0m\u001b[1;33m(\u001b[0m\u001b[0mdta\u001b[0m\u001b[1;33m,\u001b[0m \u001b[0mname\u001b[0m\u001b[1;33m=\u001b[0m\u001b[0mname\u001b[0m\u001b[1;33m)\u001b[0m\u001b[1;33m\u001b[0m\u001b[1;33m\u001b[0m\u001b[0m\n\u001b[0;32m    512\u001b[0m         \u001b[1;32mexcept\u001b[0m \u001b[1;33m(\u001b[0m\u001b[0mValueError\u001b[0m\u001b[1;33m,\u001b[0m \u001b[0mTypeError\u001b[0m\u001b[1;33m)\u001b[0m\u001b[1;33m:\u001b[0m\u001b[1;33m\u001b[0m\u001b[1;33m\u001b[0m\u001b[0m\n\u001b[1;32m--> 513\u001b[1;33m             \u001b[1;32mraise\u001b[0m \u001b[0merr\u001b[0m\u001b[1;33m\u001b[0m\u001b[1;33m\u001b[0m\u001b[0m\n\u001b[0m\u001b[0;32m    514\u001b[0m \u001b[1;33m\u001b[0m\u001b[0m\n\u001b[0;32m    515\u001b[0m \u001b[1;33m\u001b[0m\u001b[0m\n",
      "\u001b[1;32mC:\\ProgramData\\Anaconda3\\lib\\site-packages\\pandas\\core\\tools\\datetimes.py\u001b[0m in \u001b[0;36m_to_datetime_with_format\u001b[1;34m(arg, orig_arg, name, tz, fmt, exact, errors, infer_datetime_format)\u001b[0m\n\u001b[0;32m    498\u001b[0m \u001b[1;33m\u001b[0m\u001b[0m\n\u001b[0;32m    499\u001b[0m         \u001b[1;31m# fallback\u001b[0m\u001b[1;33m\u001b[0m\u001b[1;33m\u001b[0m\u001b[0m\n\u001b[1;32m--> 500\u001b[1;33m         res = _array_strptime_with_fallback(\n\u001b[0m\u001b[0;32m    501\u001b[0m             \u001b[0marg\u001b[0m\u001b[1;33m,\u001b[0m \u001b[0mname\u001b[0m\u001b[1;33m,\u001b[0m \u001b[0mtz\u001b[0m\u001b[1;33m,\u001b[0m \u001b[0mfmt\u001b[0m\u001b[1;33m,\u001b[0m \u001b[0mexact\u001b[0m\u001b[1;33m,\u001b[0m \u001b[0merrors\u001b[0m\u001b[1;33m,\u001b[0m \u001b[0minfer_datetime_format\u001b[0m\u001b[1;33m\u001b[0m\u001b[1;33m\u001b[0m\u001b[0m\n\u001b[0;32m    502\u001b[0m         )\n",
      "\u001b[1;32mC:\\ProgramData\\Anaconda3\\lib\\site-packages\\pandas\\core\\tools\\datetimes.py\u001b[0m in \u001b[0;36m_array_strptime_with_fallback\u001b[1;34m(arg, name, tz, fmt, exact, errors, infer_datetime_format)\u001b[0m\n\u001b[0;32m    434\u001b[0m \u001b[1;33m\u001b[0m\u001b[0m\n\u001b[0;32m    435\u001b[0m     \u001b[1;32mtry\u001b[0m\u001b[1;33m:\u001b[0m\u001b[1;33m\u001b[0m\u001b[1;33m\u001b[0m\u001b[0m\n\u001b[1;32m--> 436\u001b[1;33m         \u001b[0mresult\u001b[0m\u001b[1;33m,\u001b[0m \u001b[0mtimezones\u001b[0m \u001b[1;33m=\u001b[0m \u001b[0marray_strptime\u001b[0m\u001b[1;33m(\u001b[0m\u001b[0marg\u001b[0m\u001b[1;33m,\u001b[0m \u001b[0mfmt\u001b[0m\u001b[1;33m,\u001b[0m \u001b[0mexact\u001b[0m\u001b[1;33m=\u001b[0m\u001b[0mexact\u001b[0m\u001b[1;33m,\u001b[0m \u001b[0merrors\u001b[0m\u001b[1;33m=\u001b[0m\u001b[0merrors\u001b[0m\u001b[1;33m)\u001b[0m\u001b[1;33m\u001b[0m\u001b[1;33m\u001b[0m\u001b[0m\n\u001b[0m\u001b[0;32m    437\u001b[0m         \u001b[1;32mif\u001b[0m \u001b[1;34m\"%Z\"\u001b[0m \u001b[1;32min\u001b[0m \u001b[0mfmt\u001b[0m \u001b[1;32mor\u001b[0m \u001b[1;34m\"%z\"\u001b[0m \u001b[1;32min\u001b[0m \u001b[0mfmt\u001b[0m\u001b[1;33m:\u001b[0m\u001b[1;33m\u001b[0m\u001b[1;33m\u001b[0m\u001b[0m\n\u001b[0;32m    438\u001b[0m             \u001b[1;32mreturn\u001b[0m \u001b[0m_return_parsed_timezone_results\u001b[0m\u001b[1;33m(\u001b[0m\u001b[0mresult\u001b[0m\u001b[1;33m,\u001b[0m \u001b[0mtimezones\u001b[0m\u001b[1;33m,\u001b[0m \u001b[0mtz\u001b[0m\u001b[1;33m,\u001b[0m \u001b[0mname\u001b[0m\u001b[1;33m)\u001b[0m\u001b[1;33m\u001b[0m\u001b[1;33m\u001b[0m\u001b[0m\n",
      "\u001b[1;32mC:\\ProgramData\\Anaconda3\\lib\\site-packages\\pandas\\_libs\\tslibs\\strptime.pyx\u001b[0m in \u001b[0;36mpandas._libs.tslibs.strptime.array_strptime\u001b[1;34m()\u001b[0m\n",
      "\u001b[1;31mValueError\u001b[0m: time data '04-09-2009 11:35 TM' does not match format '%d-%m-%Y %I:%M %p' (match)"
     ]
    }
   ],
   "source": [
    "date_string = np.array(['03-04-2005 11:35 PM',\n",
    "                       '23-05-2010 12:01 AM', \n",
    "                       '04-09-2009 11:35 TM'])\n",
    "\n",
    "#에러가 발생하면 무시하고 변환\n",
    "#에러가 발생한 경우는 문자열 그대로 리턴\n",
    "#이런 경우 python 의 list는 그대로 지만 \n",
    "#numpy 나 pandas 의 자료구조로 변환하면 전부 문자열이 되버립니다.\n",
    "'''\n",
    "print([pd.to_datetime(date,\n",
    "            format = '%d-%m-%Y %I:%M %p', errors='ignore') \n",
    "      for date in date_string])\n",
    "'''\n",
    "\n",
    "#변경이 안되는 값을 없는 값의 형태인 NaT로 변환\n",
    "'''\n",
    "print([pd.to_datetime(date,\n",
    "            format = '%d-%m-%Y %I:%M %p', errors='coerce') \n",
    "      for date in date_string])\n",
    "'''\n",
    "\n",
    "#예외를 발생 시킴\n",
    "print([pd.to_datetime(date,\n",
    "            format = '%d-%m-%Y %I:%M %p', errors='raise') \n",
    "      for date in date_string])"
   ]
  },
  {
   "cell_type": "markdown",
   "id": "4e423c5d",
   "metadata": {},
   "source": [
    "### period: 날짜를 일정한 간격 단위로 변환"
   ]
  },
  {
   "cell_type": "code",
   "execution_count": 8,
   "id": "c1ae8cf6",
   "metadata": {},
   "outputs": [
    {
     "name": "stdout",
     "output_type": "stream",
     "text": [
      "DatetimeIndex(['2005-04-03', '2006-05-23', '2007-09-04'], dtype='datetime64[ns]', freq=None)\n",
      "PeriodIndex(['2005-04-03', '2006-05-23', '2007-09-04'], dtype='period[D]')\n",
      "PeriodIndex(['2005-04', '2006-05', '2007-09'], dtype='period[M]')\n",
      "PeriodIndex(['2005', '2006', '2007'], dtype='period[A-DEC]')\n"
     ]
    }
   ],
   "source": [
    "date_string = np.array(['03-04-2005',\n",
    "                       '23-05-2006', \n",
    "                       '04-09-2007'])\n",
    "\n",
    "dates = pd.to_datetime(date_string,\n",
    "                       format = '%d-%m-%Y')\n",
    "print(dates)\n",
    "\n",
    "#일정한 주기의 데이터로 변환\n",
    "pr_days = dates.to_period(freq='D')\n",
    "print(pr_days)\n",
    "\n",
    "pr_days = dates.to_period(freq='M')\n",
    "print(pr_days)\n",
    "\n",
    "pr_days = dates.to_period(freq='A')\n",
    "print(pr_days)\n",
    "\n"
   ]
  },
  {
   "cell_type": "markdown",
   "id": "cb31b2d1",
   "metadata": {},
   "source": [
    "### 시계열 데이터의 생성"
   ]
  },
  {
   "cell_type": "code",
   "execution_count": 11,
   "id": "9b4afd33",
   "metadata": {},
   "outputs": [
    {
     "name": "stdout",
     "output_type": "stream",
     "text": [
      "DatetimeIndex(['2021-01-01', '2021-02-01', '2021-03-01', '2021-04-01',\n",
      "               '2021-05-01', '2021-06-01', '2021-07-01', '2021-08-01',\n",
      "               '2021-09-01', '2021-10-01', '2021-11-01', '2021-12-01'],\n",
      "              dtype='datetime64[ns]', freq='MS')\n",
      "\n",
      "DatetimeIndex(['2021-03-31', '2021-06-30', '2021-09-30', '2021-12-31',\n",
      "               '2022-03-31', '2022-06-30', '2022-09-30', '2022-12-31',\n",
      "               '2023-03-31', '2023-06-30', '2023-09-30', '2023-12-31'],\n",
      "              dtype='datetime64[ns]', freq='Q-DEC')\n",
      "\n"
     ]
    }
   ],
   "source": [
    "#월 별로 12개 생성\n",
    "ts_ms = pd.date_range(start='2021-01-01', end=None, \n",
    "                     periods=12, freq='MS')\n",
    "print(ts_ms)\n",
    "print()\n",
    "\n",
    "\n",
    "#분기 별로 12개 생성\n",
    "ts_ms = pd.date_range(start='2021-01-01', end=None, \n",
    "                     periods=12, freq='Q')\n",
    "print(ts_ms)\n",
    "print()"
   ]
  },
  {
   "cell_type": "markdown",
   "id": "262eedfb",
   "metadata": {},
   "source": [
    "### 년월일 분리"
   ]
  },
  {
   "cell_type": "code",
   "execution_count": 15,
   "id": "f04e21d6",
   "metadata": {},
   "outputs": [
    {
     "name": "stdout",
     "output_type": "stream",
     "text": [
      "<class 'pandas.core.frame.DataFrame'>\n",
      "RangeIndex: 20 entries, 0 to 19\n",
      "Data columns (total 6 columns):\n",
      " #   Column  Non-Null Count  Dtype \n",
      "---  ------  --------------  ----- \n",
      " 0   Date    20 non-null     object\n",
      " 1   Close   20 non-null     int64 \n",
      " 2   Start   20 non-null     int64 \n",
      " 3   High    20 non-null     int64 \n",
      " 4   Low     20 non-null     int64 \n",
      " 5   Volume  20 non-null     int64 \n",
      "dtypes: int64(5), object(1)\n",
      "memory usage: 1.1+ KB\n",
      "<class 'pandas.core.frame.DataFrame'>\n",
      "RangeIndex: 20 entries, 0 to 19\n",
      "Data columns (total 7 columns):\n",
      " #   Column   Non-Null Count  Dtype         \n",
      "---  ------   --------------  -----         \n",
      " 0   Date     20 non-null     object        \n",
      " 1   Close    20 non-null     int64         \n",
      " 2   Start    20 non-null     int64         \n",
      " 3   High     20 non-null     int64         \n",
      " 4   Low      20 non-null     int64         \n",
      " 5   Volume   20 non-null     int64         \n",
      " 6   newDate  20 non-null     datetime64[ns]\n",
      "dtypes: datetime64[ns](1), int64(5), object(1)\n",
      "memory usage: 1.2+ KB\n"
     ]
    },
    {
     "data": {
      "text/html": [
       "<div>\n",
       "<style scoped>\n",
       "    .dataframe tbody tr th:only-of-type {\n",
       "        vertical-align: middle;\n",
       "    }\n",
       "\n",
       "    .dataframe tbody tr th {\n",
       "        vertical-align: top;\n",
       "    }\n",
       "\n",
       "    .dataframe thead th {\n",
       "        text-align: right;\n",
       "    }\n",
       "</style>\n",
       "<table border=\"1\" class=\"dataframe\">\n",
       "  <thead>\n",
       "    <tr style=\"text-align: right;\">\n",
       "      <th></th>\n",
       "      <th>Date</th>\n",
       "      <th>Close</th>\n",
       "      <th>Start</th>\n",
       "      <th>High</th>\n",
       "      <th>Low</th>\n",
       "      <th>Volume</th>\n",
       "      <th>newDate</th>\n",
       "      <th>Year</th>\n",
       "      <th>WeekNum</th>\n",
       "      <th>WeekName</th>\n",
       "    </tr>\n",
       "  </thead>\n",
       "  <tbody>\n",
       "    <tr>\n",
       "      <th>0</th>\n",
       "      <td>2018-07-02</td>\n",
       "      <td>10100</td>\n",
       "      <td>10850</td>\n",
       "      <td>10900</td>\n",
       "      <td>10000</td>\n",
       "      <td>137977</td>\n",
       "      <td>2018-07-02</td>\n",
       "      <td>2018</td>\n",
       "      <td>0</td>\n",
       "      <td>Monday</td>\n",
       "    </tr>\n",
       "    <tr>\n",
       "      <th>1</th>\n",
       "      <td>2018-06-29</td>\n",
       "      <td>10700</td>\n",
       "      <td>10550</td>\n",
       "      <td>10900</td>\n",
       "      <td>9990</td>\n",
       "      <td>170253</td>\n",
       "      <td>2018-06-29</td>\n",
       "      <td>2018</td>\n",
       "      <td>4</td>\n",
       "      <td>Friday</td>\n",
       "    </tr>\n",
       "    <tr>\n",
       "      <th>2</th>\n",
       "      <td>2018-06-28</td>\n",
       "      <td>10400</td>\n",
       "      <td>10900</td>\n",
       "      <td>10950</td>\n",
       "      <td>10150</td>\n",
       "      <td>155769</td>\n",
       "      <td>2018-06-28</td>\n",
       "      <td>2018</td>\n",
       "      <td>3</td>\n",
       "      <td>Thursday</td>\n",
       "    </tr>\n",
       "    <tr>\n",
       "      <th>3</th>\n",
       "      <td>2018-06-27</td>\n",
       "      <td>10900</td>\n",
       "      <td>10800</td>\n",
       "      <td>11050</td>\n",
       "      <td>10500</td>\n",
       "      <td>133548</td>\n",
       "      <td>2018-06-27</td>\n",
       "      <td>2018</td>\n",
       "      <td>2</td>\n",
       "      <td>Wednesday</td>\n",
       "    </tr>\n",
       "    <tr>\n",
       "      <th>4</th>\n",
       "      <td>2018-06-26</td>\n",
       "      <td>10800</td>\n",
       "      <td>10900</td>\n",
       "      <td>11000</td>\n",
       "      <td>10700</td>\n",
       "      <td>63039</td>\n",
       "      <td>2018-06-26</td>\n",
       "      <td>2018</td>\n",
       "      <td>1</td>\n",
       "      <td>Tuesday</td>\n",
       "    </tr>\n",
       "  </tbody>\n",
       "</table>\n",
       "</div>"
      ],
      "text/plain": [
       "         Date  Close  Start   High    Low  Volume    newDate  Year  WeekNum  \\\n",
       "0  2018-07-02  10100  10850  10900  10000  137977 2018-07-02  2018        0   \n",
       "1  2018-06-29  10700  10550  10900   9990  170253 2018-06-29  2018        4   \n",
       "2  2018-06-28  10400  10900  10950  10150  155769 2018-06-28  2018        3   \n",
       "3  2018-06-27  10900  10800  11050  10500  133548 2018-06-27  2018        2   \n",
       "4  2018-06-26  10800  10900  11000  10700   63039 2018-06-26  2018        1   \n",
       "\n",
       "    WeekName  \n",
       "0     Monday  \n",
       "1     Friday  \n",
       "2   Thursday  \n",
       "3  Wednesday  \n",
       "4    Tuesday  "
      ]
     },
     "execution_count": 15,
     "metadata": {},
     "output_type": "execute_result"
    }
   ],
   "source": [
    "#stock-data.csv 파일의 데이터를 읽어오기\n",
    "df = pd.read_csv('./data/stock-data.csv')\n",
    "df.info()\n",
    "#Date 의 열의 데이터를 날짜로 변경해서 새로운 열로 추가\n",
    "df['newDate'] = pd.to_datetime(df['Date'])\n",
    "df.info()\n",
    "\n",
    "#년도 와 요일 분리\n",
    "df['Year'] = df['newDate'].dt.year\n",
    "df['WeekNum'] = df['newDate'].dt.weekday\n",
    "df['WeekName'] = df['newDate'].dt.day_name()\n",
    "df.head()"
   ]
  },
  {
   "cell_type": "markdown",
   "id": "0caf6f1b",
   "metadata": {},
   "source": [
    "### shift - 이동시켜서 시차 특성을 갖는 데이터를 생성"
   ]
  },
  {
   "cell_type": "code",
   "execution_count": 19,
   "id": "f395d5bf",
   "metadata": {},
   "outputs": [
    {
     "name": "stdout",
     "output_type": "stream",
     "text": [
      "2021-01-01   -0.800956\n",
      "2021-01-04    0.206029\n",
      "2021-01-05   -0.084236\n",
      "2021-01-06   -1.224147\n",
      "2021-01-07    1.542806\n",
      "2021-01-08    0.186201\n",
      "2021-01-11    1.000742\n",
      "2021-01-12   -0.148362\n",
      "dtype: float64\n",
      "\n",
      "2021-01-01         NaN\n",
      "2021-01-04   -0.800956\n",
      "2021-01-05    0.206029\n",
      "2021-01-06   -0.084236\n",
      "2021-01-07   -1.224147\n",
      "2021-01-08    1.542806\n",
      "2021-01-11    0.186201\n",
      "2021-01-12    1.000742\n",
      "dtype: float64\n",
      "\n",
      "2021-01-01    0.206029\n",
      "2021-01-04   -0.084236\n",
      "2021-01-05   -1.224147\n",
      "2021-01-06    1.542806\n",
      "2021-01-07    0.186201\n",
      "2021-01-08    1.000742\n",
      "2021-01-11   -0.148362\n",
      "2021-01-12         NaN\n",
      "dtype: float64\n"
     ]
    }
   ],
   "source": [
    "# 파이썬이 제공하는 날짜 데이터 모듈\n",
    "from datetime import datetime\n",
    "\n",
    "#파이썬의 날짜 형식으로 데이터 생성\n",
    "dates = [datetime(2021, 1, 1), datetime(2021, 1, 4),\n",
    "        datetime(2021, 1, 5), datetime(2021, 1, 6), \n",
    "        datetime(2021, 1, 7), datetime(2021, 1, 8), \n",
    "        datetime(2021, 1, 11), datetime(2021, 1, 12)]\n",
    "\n",
    "#날짜 데이터를 인덱스로 해서 8개의 데이터를 랜덤하게 생성\n",
    "ts = pd.Series(np.random.randn(8), index=dates)\n",
    "print(ts)\n",
    "print()\n",
    "\n",
    "#하나씩 밀려서 데이터가 대입됩니다.\n",
    "print(ts.shift(1))\n",
    "\n",
    "print()\n",
    "\n",
    "#하나씩 당겨서 데이터가 대입됩니다.\n",
    "print(ts.shift(-1))\n"
   ]
  },
  {
   "cell_type": "markdown",
   "id": "8c4d96de",
   "metadata": {},
   "source": [
    "### 이동 시간 윈도우 - 시계열의 간격을 옮겨가면서 작업"
   ]
  },
  {
   "cell_type": "code",
   "execution_count": 26,
   "id": "5f331354",
   "metadata": {},
   "outputs": [
    {
     "name": "stdout",
     "output_type": "stream",
     "text": [
      "            stockprice\n",
      "2022-01-01         NaN\n",
      "2022-02-01         NaN\n",
      "2022-03-01         2.0\n",
      "2022-04-01         3.0\n",
      "2022-05-01         4.0\n",
      "2022-06-01         5.0\n",
      "2022-07-01         6.0\n",
      "2022-08-01         7.0\n",
      "2022-09-01         8.0\n",
      "2022-10-01         9.0\n",
      "2022-11-01        10.0\n",
      "2022-12-01        11.0\n",
      "            stockprice\n",
      "2022-01-01    1.000000\n",
      "2022-02-01    1.666667\n",
      "2022-03-01    2.428571\n",
      "2022-04-01    3.266667\n",
      "2022-05-01    4.161290\n",
      "2022-06-01    5.095238\n",
      "2022-07-01    6.055118\n",
      "2022-08-01    7.031373\n",
      "2022-09-01    8.017613\n",
      "2022-10-01    9.009775\n",
      "2022-11-01   10.005374\n",
      "2022-12-01   11.002930\n"
     ]
    }
   ],
   "source": [
    "time_index = pd.date_range('01/01/2022', periods=12, freq='MS')\n",
    "dataframe = pd.DataFrame(index = time_index)\n",
    "dataframe['stockprice'] = [1,2,3,4,5,6,7,8,9,10,11,12]\n",
    "#print(dataframe)\n",
    "\n",
    "#단순 이동 평균 - 이전 데이터 와 현재 데이터의 가중치가 동일\n",
    "print(dataframe.rolling(window=3).mean())\n",
    "\n",
    "\n",
    "#지수 이동 평균 - 이전 데이터의 가중치를 줄여서 반영\n",
    "print(dataframe.ewm(span=3).mean())"
   ]
  },
  {
   "cell_type": "markdown",
   "id": "b1adeee6",
   "metadata": {},
   "source": [
    "### 결측치 대체"
   ]
  },
  {
   "cell_type": "code",
   "execution_count": 35,
   "id": "7a97b944",
   "metadata": {},
   "outputs": [
    {
     "data": {
      "text/html": [
       "<div>\n",
       "<style scoped>\n",
       "    .dataframe tbody tr th:only-of-type {\n",
       "        vertical-align: middle;\n",
       "    }\n",
       "\n",
       "    .dataframe tbody tr th {\n",
       "        vertical-align: top;\n",
       "    }\n",
       "\n",
       "    .dataframe thead th {\n",
       "        text-align: right;\n",
       "    }\n",
       "</style>\n",
       "<table border=\"1\" class=\"dataframe\">\n",
       "  <thead>\n",
       "    <tr style=\"text-align: right;\">\n",
       "      <th></th>\n",
       "      <th>price</th>\n",
       "    </tr>\n",
       "  </thead>\n",
       "  <tbody>\n",
       "    <tr>\n",
       "      <th>2022-01-01</th>\n",
       "      <td>1000.0</td>\n",
       "    </tr>\n",
       "    <tr>\n",
       "      <th>2022-01-02</th>\n",
       "      <td>2000.0</td>\n",
       "    </tr>\n",
       "    <tr>\n",
       "      <th>2022-01-03</th>\n",
       "      <td>4000.0</td>\n",
       "    </tr>\n",
       "    <tr>\n",
       "      <th>2022-01-04</th>\n",
       "      <td>4500.0</td>\n",
       "    </tr>\n",
       "    <tr>\n",
       "      <th>2022-01-05</th>\n",
       "      <td>5000.0</td>\n",
       "    </tr>\n",
       "    <tr>\n",
       "      <th>2022-01-06</th>\n",
       "      <td>6000.0</td>\n",
       "    </tr>\n",
       "    <tr>\n",
       "      <th>2022-01-07</th>\n",
       "      <td>7000.0</td>\n",
       "    </tr>\n",
       "  </tbody>\n",
       "</table>\n",
       "</div>"
      ],
      "text/plain": [
       "             price\n",
       "2022-01-01  1000.0\n",
       "2022-01-02  2000.0\n",
       "2022-01-03  4000.0\n",
       "2022-01-04  4500.0\n",
       "2022-01-05  5000.0\n",
       "2022-01-06  6000.0\n",
       "2022-01-07  7000.0"
      ]
     },
     "execution_count": 35,
     "metadata": {},
     "output_type": "execute_result"
    }
   ],
   "source": [
    "time_index = pd.date_range(\"01/01/2022\", periods=7, freq=\"D\")\n",
    "dataframe = pd.DataFrame(index=time_index)\n",
    "dataframe['price'] = [1000,2000,4000, np.nan, 5000, np.nan, 7000]\n",
    "#print(dataframe)\n",
    "\n",
    "#앞쪽 데이터를 이용해서 채우기\n",
    "dataframe.ffill()\n",
    "\n",
    "#누락된 값을 선형 보간 합니다.\n",
    "#변화량의 단순 평균을 적용\n",
    "dataframe.interpolate()\n",
    "\n",
    "#누락된 값을 비선형 보간 합니다.\n",
    "#변화량에 곡선을 적용하기 때문에 최근의 데이터가 조금 더 반영\n",
    "dataframe.interpolate(method=\"quadratic\")"
   ]
  },
  {
   "cell_type": "markdown",
   "id": "879cd071",
   "metadata": {},
   "source": [
    "### resampling - 데이터의 빈도를 변경하는 것"
   ]
  },
  {
   "cell_type": "code",
   "execution_count": 46,
   "id": "dd551356",
   "metadata": {},
   "outputs": [
    {
     "data": {
      "text/plain": [
       "2022-02-06    0\n",
       "2022-02-13    0\n",
       "2022-02-20    0\n",
       "2022-02-27    0\n",
       "2022-03-06    1\n",
       "Freq: W-SUN, dtype: int32"
      ]
     },
     "execution_count": 46,
     "metadata": {},
     "output_type": "execute_result"
    }
   ],
   "source": [
    "#데이터를 2분 단위로 생성\n",
    "time_index = pd.date_range(\n",
    "    '2022-02-21', '2022-02-22', freq='2min')\n",
    "df = pd.DataFrame(index=time_index)[:100]\n",
    "df['price'] = np.random.randint(low=10, high=100, size=100)\n",
    "#print(df.head())\n",
    "\n",
    "#데이터를 10분 단위로 변경\n",
    "df['price'].resample('10T').first()\n",
    "\n",
    "#10분 단위 합계\n",
    "df['price'].resample('10T').sum()\n",
    "\n",
    "\n",
    "#데이터를 2개만 생성\n",
    "time_idx = pd.date_range('1/1/2022', periods=2, freq='M')\n",
    "ts = pd.Series(np.arange(2), index=time_idx)\n",
    "ts\n",
    "\n",
    "# 업 샘플링\n",
    "ts.resample('W').ffill()"
   ]
  },
  {
   "cell_type": "markdown",
   "id": "a819eef8",
   "metadata": {},
   "source": [
    "### 계절성 데이터"
   ]
  },
  {
   "cell_type": "code",
   "execution_count": 51,
   "id": "c45bf700",
   "metadata": {},
   "outputs": [
    {
     "data": {
      "image/png": "[encoded data removed]",
      "text/plain": [
       "<Figure size 1440x360 with 1 Axes>"
      ]
     },
     "metadata": {
      "needs_background": "light"
     },
     "output_type": "display_data"
    }
   ],
   "source": [
    "#데이터 가져오기\n",
    "air = pd.read_csv('./data/AirPassengers.csv', \n",
    "                 names = ['Date', 'Passengers'])\n",
    "air\n",
    "\n",
    "#산점도 그리기 - 계절성 데이터를 파악하기가 어려움\n",
    "plt.figure(figsize=(20, 5))\n",
    "plt.scatter(x=air['Date'][0:100], y=air['Passengers'][0:100],\n",
    "            marker='2')\n",
    "plt.xticks(size=10, rotation='vertical')\n",
    "plt.title('승객수')\n",
    "plt.show()"
   ]
  },
  {
   "cell_type": "code",
   "execution_count": 54,
   "id": "ff158527",
   "metadata": {},
   "outputs": [
    {
     "data": {
      "image/png": "[encoded data removed]",
      "text/plain": [
       "<Figure size 1440x360 with 1 Axes>"
      ]
     },
     "metadata": {
      "needs_background": "light"
     },
     "output_type": "display_data"
    }
   ],
   "source": [
    "#꺽은선 그래프 그리기 - 계절성 데이터를 파악하기가 어려움\n",
    "plt.figure(figsize=(20, 5))\n",
    "plt.plot(air['Date'][0:50], air['Passengers'][0:50],\n",
    "            marker='2', markersize=10)\n",
    "plt.xticks(size=10, rotation='vertical')\n",
    "plt.title('승객수')\n",
    "plt.show()"
   ]
  },
  {
   "cell_type": "code",
   "execution_count": null,
   "id": "5d8c836d",
   "metadata": {},
   "outputs": [],
   "source": []
  },
  {
   "cell_type": "markdown",
   "id": "07fa141f",
   "metadata": {},
   "source": [
    "## 한글 형태소 분석"
   ]
  },
  {
   "cell_type": "markdown",
   "id": "502385c0",
   "metadata": {},
   "source": [
    "### konlpy를 이용한 한글 형태소 분석"
   ]
  },
  {
   "cell_type": "code",
   "execution_count": 59,
   "id": "ba63b795",
   "metadata": {},
   "outputs": [
    {
     "name": "stdout",
     "output_type": "stream",
     "text": [
      "['태양계는', '지금으로부터', '약', '46억', '년전', '거대한', '분자', '구름의', '일부분이', '중력', '붕괴를', '일으키면서', '형성되었다', '.']\n",
      "['태양계는 지금으로부터 약 46억 년 전 거대한 분자 구름의 일부분이 중력 붕괴를 일으키면서 형성되었다.']\n",
      "['태양계', '지금', '46', '46억', '억', '년', '년전', '전', '거대', '분자', '구름', '일부분', '중력', '붕괴', '형성']\n",
      "[('태양계', 'NNG'), ('는', 'JX'), ('지금', 'NNG'), ('으로', 'JKM'), ('부터', 'JX'), ('약', 'MDN'), ('46', 'NR'), ('억', 'NR'), ('년', 'NNB'), ('전', 'NNG'), ('거대', 'NNG'), ('하', 'XSV'), ('ㄴ', 'ETD'), ('분자', 'NNG'), ('구름', 'NNG'), ('의', 'JKG'), ('일부분', 'NNG'), ('이', 'JKS'), ('중력', 'NNG'), ('붕괴', 'NNG'), ('를', 'JKO'), ('일으키', 'VV'), ('면서', 'ECE'), ('형성', 'NNG'), ('되', 'XSV'), ('었', 'EPT'), ('다', 'EFN'), ('.', 'SF')]\n",
      "\n",
      "['태양계', '지금', '약', '46억', '년', '거대', '자', '구름', '일부분', '중력', '붕괴', '형성']\n",
      "[('태양계', 'N'), ('는', 'J'), ('지금', 'N'), ('으로부터', 'J'), ('약', 'N'), ('46억', 'N'), ('년', 'N'), ('전', 'X'), ('거대', 'N'), ('하', 'X'), ('ㄴ', 'E'), ('불', 'P'), ('ㄴ', 'E'), ('자', 'N'), ('구름', 'N'), ('의', 'J'), ('일부분', 'N'), ('이', 'J'), ('중력', 'N'), ('붕괴', 'N'), ('를', 'J'), ('일으키', 'P'), ('면서', 'E'), ('형성', 'N'), ('되', 'X'), ('었다', 'E'), ('.', 'S')]\n",
      "['태양계', '는', '지금', '으로부터', '약', '46억', '년', '전', '거대', '하', 'ㄴ', '불', 'ㄴ', '자', '구름', '의', '일부분', '이', '중력', '붕괴', '를', '일으키', '면서', '형성', '되', '었다', '.']\n",
      "\n",
      "['태양계', '지금', '약', '년전', '분자', '구름', '일부분', '중력', '붕괴', '형성']\n",
      "[('태양계', 'Noun'), ('는', 'Josa'), ('지금', 'Noun'), ('으로부터', 'Josa'), ('약', 'Noun'), ('46억', 'Number'), ('년전', 'Noun'), ('거대한', 'Adjective'), ('분자', 'Noun'), ('구름', 'Noun'), ('의', 'Josa'), ('일부분', 'Noun'), ('이', 'Josa'), ('중력', 'Noun'), ('붕괴', 'Noun'), ('를', 'Josa'), ('일으키면서', 'Verb'), ('형성', 'Noun'), ('되었다', 'Verb'), ('.', 'Punctuation')]\n",
      "['태양계', '는', '지금', '으로부터', '약', '46억', '년전', '거대한', '분자', '구름', '의', '일부분', '이', '중력', '붕괴', '를', '일으키면서', '형성', '되었다', '.']\n"
     ]
    }
   ],
   "source": [
    "text = '태양계는 지금으로부터 약 46억 년전 거대한 분자 구름의 일부분이 중력 붕괴를 일으키면서 형성되었다.'\n",
    "\n",
    "#단어 단위로 분할해주는 함수\n",
    "from nltk import word_tokenize\n",
    "print(word_tokenize(text))\n",
    "\n",
    "#한글 형태소 분석\n",
    "from konlpy.tag import Kkma\n",
    "kkma = Kkma()\n",
    "print(kkma.sentences(text))\n",
    "#단어 단위로 분할\n",
    "print(kkma.nouns(text))\n",
    "#품사와 함께 태깅\n",
    "print(kkma.pos(text))\n",
    "\n",
    "print()\n",
    "from konlpy.tag import Hannanum\n",
    "hannanum = Hannanum()\n",
    "print(hannanum.nouns(text))\n",
    "print(hannanum.pos(text))\n",
    "print(hannanum.morphs(text))\n",
    "\n",
    "\n",
    "print()\n",
    "from konlpy.tag import Okt\n",
    "okt = Okt()\n",
    "print(okt.nouns(text))\n",
    "print(okt.pos(text))\n",
    "print(okt.morphs(text))"
   ]
  },
  {
   "cell_type": "code",
   "execution_count": null,
   "id": "3eb69582",
   "metadata": {},
   "outputs": [],
   "source": []
  },
  {
   "cell_type": "markdown",
   "id": "e97a3619",
   "metadata": {},
   "source": [
    "# Opev CV"
   ]
  },
  {
   "cell_type": "markdown",
   "id": "d26baf06",
   "metadata": {},
   "source": [
    "## 설치 확인"
   ]
  },
  {
   "cell_type": "code",
   "execution_count": 60,
   "id": "74ce2962",
   "metadata": {},
   "outputs": [
    {
     "data": {
      "text/plain": [
       "'4.5.5'"
      ]
     },
     "execution_count": 60,
     "metadata": {},
     "output_type": "execute_result"
    }
   ],
   "source": [
    "import cv2\n",
    "cv2.__version__"
   ]
  },
  {
   "cell_type": "code",
   "execution_count": null,
   "id": "caaff90e",
   "metadata": {},
   "outputs": [],
   "source": []
  },
  {
   "cell_type": "markdown",
   "id": "77f7caf4",
   "metadata": {},
   "source": [
    "## 윈도우 생성 및 출력"
   ]
  },
  {
   "cell_type": "code",
   "execution_count": 62,
   "id": "bb8f51e2",
   "metadata": {},
   "outputs": [],
   "source": [
    "import numpy as np\n",
    "import cv2\n",
    "\n",
    "#윈도우에 출력할 데이터 생성\n",
    "image = np.zeros((200, 400), np.uint8)\n",
    "image [:] = 200\n",
    "\n",
    "#윈도우 생성\n",
    "cv2.namedWindow('window', cv2.WINDOW_AUTOSIZE)\n",
    "\n",
    "#윈도우 출력\n",
    "cv2.imshow('window', image)\n",
    "\n",
    "#키보드 입력 대기\n",
    "cv2.waitKey(0)\n",
    "\n",
    "#윈도우 종료\n",
    "cv2.destroyAllWindows()"
   ]
  },
  {
   "cell_type": "code",
   "execution_count": null,
   "id": "579492a7",
   "metadata": {},
   "outputs": [],
   "source": []
  },
  {
   "cell_type": "markdown",
   "id": "47ccc941",
   "metadata": {},
   "source": [
    "## 이벤트 처리"
   ]
  },
  {
   "cell_type": "markdown",
   "id": "c7b83624",
   "metadata": {},
   "source": [
    "### 키보드 이벤트"
   ]
  },
  {
   "cell_type": "code",
   "execution_count": 2,
   "id": "1f3d3ee5",
   "metadata": {},
   "outputs": [
    {
     "name": "stdout",
     "output_type": "stream",
     "text": [
      "101\n",
      "13\n",
      "32\n",
      "0\n",
      "0\n",
      "0\n",
      "0\n",
      "108\n",
      "111\n",
      "107\n",
      "112\n",
      "117\n",
      "117\n",
      "103\n",
      "27\n"
     ]
    }
   ],
   "source": [
    "import numpy as np\n",
    "import cv2\n",
    "\n",
    "#ord 함수는 2byte 문자의 앞부분만 추출해서 1byte ascii code로 만들어주는 함수\n",
    "switch_case = {ord('a'):'a키 입력', ord('b'):\"b키 입력\"}\n",
    "\n",
    "image = np.ones((200, 300), np.float64)\n",
    "cv2.namedWindow('Keyboard Event')\n",
    "cv2.imshow('Keyboard Event', image)\n",
    "\n",
    "while True:\n",
    "    #키보드 입력 대기\n",
    "    key = cv2.waitKey(0)\n",
    "    print(key)\n",
    "    if key == 27:\n",
    "        break\n",
    "    try:\n",
    "        result = switch_case[key]\n",
    "        print(result)\n",
    "    except:\n",
    "        result = -1\n",
    "        \n",
    "cv2.destroyAllWindows()"
   ]
  },
  {
   "cell_type": "markdown",
   "id": "04587581",
   "metadata": {},
   "source": [
    "### 마우스 이벤트"
   ]
  },
  {
   "cell_type": "code",
   "execution_count": 4,
   "id": "6c54ec90",
   "metadata": {},
   "outputs": [
    {
     "name": "stdout",
     "output_type": "stream",
     "text": [
      "1\n",
      "1\n",
      "211 : 83\n",
      "1\n",
      "1\n",
      "61 : 137\n",
      "1\n",
      "17\n",
      "125 : 101\n",
      "1\n",
      "25\n",
      "130 : 92\n"
     ]
    }
   ],
   "source": [
    "import numpy as np\n",
    "import cv2\n",
    "\n",
    "image = np.ones((200, 300), np.float64)\n",
    "cv2.namedWindow('Mouse Event')\n",
    "cv2.imshow('Mouse Event', image)\n",
    "\n",
    "def onMouse(event, x, y, flags, param):\n",
    "    if event == cv2.EVENT_LBUTTONDOWN:\n",
    "        print(event)\n",
    "        print(flags)\n",
    "        print(x, \":\", y)\n",
    "    \n",
    "cv2.setMouseCallback('Mouse Event', onMouse)\n",
    "    \n",
    "cv2.waitKey(0)        \n",
    "cv2.destroyAllWindows()"
   ]
  },
  {
   "cell_type": "code",
   "execution_count": null,
   "id": "e3b73323",
   "metadata": {},
   "outputs": [],
   "source": []
  }
 ],
 "metadata": {
  "kernelspec": {
   "display_name": "Python 3 (ipykernel)",
   "language": "python",
   "name": "python3"
  },
  "language_info": {
   "codemirror_mode": {
    "name": "ipython",
    "version": 3
   },
   "file_extension": ".py",
   "mimetype": "text/x-python",
   "name": "python",
   "nbconvert_exporter": "python",
   "pygments_lexer": "ipython3",
   "version": "3.9.7"
  }
 },
 "nbformat": 4,
 "nbformat_minor": 5
}
