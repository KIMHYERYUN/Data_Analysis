{
 "cells": [
  {
   "cell_type": "markdown",
   "id": "f66c8997",
   "metadata": {},
   "source": [
    "정규화 - 행 단위로 스케일링"
   ]
  },
  {
   "cell_type": "code",
   "execution_count": 33,
   "id": "a90447e0",
   "metadata": {},
   "outputs": [],
   "source": [
    "import numpy as np\n",
    "from sklearn import preprocessing\n",
    "from sklearn import compose\n",
    "\n",
    "import pandas as pd\n",
    "import matplotlib.pyplot as plt\n",
    "import seaborn as sns\n"
   ]
  },
  {
   "cell_type": "code",
   "execution_count": 2,
   "id": "f0a1e1d1",
   "metadata": {},
   "outputs": [
    {
     "name": "stdout",
     "output_type": "stream",
     "text": [
      "[[0.33333333 0.66666667]\n",
      " [0.4        0.6       ]\n",
      " [0.27272727 0.72727273]\n",
      " [0.66666667 0.33333333]\n",
      " [0.77777778 0.22222222]]\n",
      "\n",
      "[[0.5        1.        ]\n",
      " [0.66666667 1.        ]\n",
      " [0.375      1.        ]\n",
      " [1.         0.5       ]\n",
      " [1.         0.28571429]]\n"
     ]
    }
   ],
   "source": [
    "#특성 행렬 생성\n",
    "features = np.array([[1,2], [2,3], [3,8], [4,2], [7,2]])\n",
    "features\n",
    "\n",
    "#AI에서 컬럼을 Feature라고 불림\n",
    "\n",
    "\n",
    "#변환기 객체 생성 - 두개의 숫자 합으로 나눔\n",
    "normalizer = Normalizer(norm=\"l1\")\n",
    "print(normalizer.transform(features))\n",
    "print()\n",
    "\n",
    "#변환기 객체 생성 - 두개 중 큰 겂으로 나눔\n",
    "normalizer = Normalizer(norm=\"max\")\n",
    "print(normalizer.transform(features))\n",
    "\n",
    "#이렇게 정규화를해서 거리를 계산해서 유사도 판단할 때 사용\n",
    "#자연어 처리에서 많이 사용"
   ]
  },
  {
   "cell_type": "code",
   "execution_count": null,
   "id": "03474761",
   "metadata": {},
   "outputs": [],
   "source": []
  },
  {
   "cell_type": "markdown",
   "id": "596bdeb6",
   "metadata": {},
   "source": [
    "import numpy as np\n",
    "from sklearn.preprocessing import PolynomialFeatures교차항과 다항특성"
   ]
  },
  {
   "cell_type": "code",
   "execution_count": 23,
   "id": "1334db72",
   "metadata": {},
   "outputs": [
    {
     "data": {
      "text/plain": [
       "array([[ 1.,  2.,  1.,  2.,  4.],\n",
       "       [ 2.,  3.,  4.,  6.,  9.],\n",
       "       [ 3.,  8.,  9., 24., 64.],\n",
       "       [ 4.,  2., 16.,  8.,  4.],\n",
       "       [ 7.,  2., 49., 14.,  4.]])"
      ]
     },
     "execution_count": 23,
     "metadata": {},
     "output_type": "execute_result"
    }
   ],
   "source": [
    "import numpy as np\n",
    "from sklearn.preprocessing import PolynomialFeatures\n",
    "\n",
    "features = np.array([[1,2], [2,3], [3,8], [4,2], [7,2]])\n",
    "\n",
    "#교차항과 다항특성을 만들어줄 객체 생성\n",
    "polynomial_interaction = preprocessing.PolynomialFeatures(degree=2, include_bias=False)\n",
    "\n",
    "polynomial_interaction.fit_transform(features)"
   ]
  },
  {
   "cell_type": "markdown",
   "id": "01d411dd",
   "metadata": {},
   "source": [
    "특성 변환 - 기존 컬럼을 가지고 연산을 수행해서 새로운 컬럼을 만드는 것"
   ]
  },
  {
   "cell_type": "code",
   "execution_count": 11,
   "id": "6f4ff64e",
   "metadata": {},
   "outputs": [
    {
     "name": "stdout",
     "output_type": "stream",
     "text": [
      "Help on class map in module builtins:\n",
      "\n",
      "class map(object)\n",
      " |  map(func, *iterables) --> map object\n",
      " |  \n",
      " |  Make an iterator that computes the function using arguments from\n",
      " |  each of the iterables.  Stops when the shortest iterable is exhausted.\n",
      " |  \n",
      " |  Methods defined here:\n",
      " |  \n",
      " |  __getattribute__(self, name, /)\n",
      " |      Return getattr(self, name).\n",
      " |  \n",
      " |  __iter__(self, /)\n",
      " |      Implement iter(self).\n",
      " |  \n",
      " |  __next__(self, /)\n",
      " |      Implement next(self).\n",
      " |  \n",
      " |  __reduce__(...)\n",
      " |      Return state information for pickling.\n",
      " |  \n",
      " |  ----------------------------------------------------------------------\n",
      " |  Static methods defined here:\n",
      " |  \n",
      " |  __new__(*args, **kwargs) from builtins.type\n",
      " |      Create and return a new object.  See help(type) for accurate signature.\n",
      "\n"
     ]
    }
   ],
   "source": [
    "help(map)"
   ]
  },
  {
   "cell_type": "code",
   "execution_count": 24,
   "id": "3270c975",
   "metadata": {},
   "outputs": [
    {
     "name": "stdout",
     "output_type": "stream",
     "text": [
      "[200, 300, 400]\n",
      "<map object at 0x0000015439CB7400>\n",
      "200\t300\t400\t\n",
      "200\t300\t400\t\n"
     ]
    }
   ],
   "source": [
    "#파이썬 기본문법 이용\n",
    "data = [100, 200, 300]\n",
    "\n",
    "#전부 100을 더해주는 작업\n",
    "result = []\n",
    "for i in data:\n",
    "    result.append(i + 100)\n",
    "print(result)\n",
    "\n",
    "#함수형 프로그래밍의 map 함수 이용\n",
    "def add_hund(x):\n",
    "    return x+100\n",
    "result = map(add_hund, data)\n",
    "print(result)\n",
    "for i in result:\n",
    "    print(i, end='\\t')\n",
    "print()\n",
    "\n",
    "#함수의 내용이 한줄이라서 lambda 이용\n",
    "result = map(lambda x: x+100, data)\n",
    "for i in result:\n",
    "    print(i, end='\\t')\n",
    "print()"
   ]
  },
  {
   "cell_type": "code",
   "execution_count": 37,
   "id": "97e003e1",
   "metadata": {},
   "outputs": [
    {
     "name": "stdout",
     "output_type": "stream",
     "text": [
      "0      122.0\n",
      "1      138.0\n",
      "2      126.0\n",
      "3      135.0\n",
      "4      135.0\n",
      "       ...  \n",
      "886    127.0\n",
      "887    119.0\n",
      "888      NaN\n",
      "889    126.0\n",
      "890    132.0\n",
      "Name: age, Length: 891, dtype: float64\n",
      "0      122.0\n",
      "1      138.0\n",
      "2      126.0\n",
      "3      135.0\n",
      "4      135.0\n",
      "       ...  \n",
      "886    127.0\n",
      "887    119.0\n",
      "888      NaN\n",
      "889    126.0\n",
      "890    132.0\n",
      "Name: age, Length: 891, dtype: float64\n"
     ]
    },
    {
     "data": {
      "text/plain": [
       "array([[122.,   1.],\n",
       "       [138.,   1.],\n",
       "       [126.,   1.],\n",
       "       ...,\n",
       "       [ nan,   3.],\n",
       "       [126.,   1.],\n",
       "       [132.,   1.]])"
      ]
     },
     "execution_count": 37,
     "metadata": {},
     "output_type": "execute_result"
    }
   ],
   "source": [
    "#pandas의 apply 함수 이용한 함수 매핑\n",
    "titanic = sns.load_dataset('titanic')\n",
    "print(titanic['age'].apply(add_hund))\n",
    "\n",
    "#sklearn의 FunctionTransformer 이용\n",
    "one_transformer = preprocessing.FunctionTransformer(add_hund)\n",
    "print(one_transformer.transform(titanic['age']))\n",
    "\n",
    "#2개의 컬럼에 다른함수를 적용 - ColumnTransformer\n",
    "#age열에는 add_hund라는 함수를 적용하고 \n",
    "#parch열에는 lambda 함수를 적용\n",
    "from sklearn import compose\n",
    "column_transformer = compose.ColumnTransformer(\n",
    "    [('add_hund', preprocessing.FunctionTransformer(add_hund),['age']),\n",
    "    ('two-hund', preprocessing.FunctionTransformer(lambda x : x + 1), ['parch'])])\n",
    "column_transformer.fit_transform(titanic)"
   ]
  },
  {
   "cell_type": "markdown",
   "id": "77fad810",
   "metadata": {},
   "source": [
    "###이산화 - 구간 분할"
   ]
  },
  {
   "cell_type": "code",
   "execution_count": 46,
   "id": "052f13a5",
   "metadata": {},
   "outputs": [
    {
     "name": "stdout",
     "output_type": "stream",
     "text": [
      "[  0.          76.66666667 153.33333333 230.        ]\n",
      "\n",
      "   horsepower hp_bin\n",
      "0       130.0   보통출력\n",
      "1       165.0    고출력\n",
      "2       150.0   보통출력\n",
      "3       150.0   보통출력\n",
      "4       140.0   보통출력\n",
      "5       198.0    고출력\n",
      "6       220.0    고출력\n",
      "7       215.0    고출력\n",
      "8       225.0    고출력\n",
      "9       190.0    고출력\n"
     ]
    }
   ],
   "source": [
    "# 데이터 읽어오기\n",
    "mpg = pd.read_csv('c://programming/python/pandasdata/auto-mpg.csv', header=None)\n",
    "\n",
    "# 열 이름을 설정\n",
    "mpg.columns = ['mpg','cylinders','displacement','horsepower','weight','acceleration',\n",
    "              'model year','origin','name']\n",
    "\n",
    "#horsepower를 숫자 자료형으로 변경\n",
    "mpg['horsepower'] = mpg['horsepower'].replace('?', '0') # ?을 0으로 숫자변환\n",
    "mpg['horsepower'] = mpg['horsepower'].astype('float') # 문자열을 실수형으로 변환\n",
    "\n",
    "#3개로 분할하기 위한 경계값 만들기\n",
    "count, bin_dividers = np.histogram(mpg['horsepower'], bins=3)\n",
    "print(bin_dividers)\n",
    "print()\n",
    "\n",
    "#각 분할에 할당값을 생성\n",
    "bin_names = ['저출력', '보통출력', '고출력']\n",
    "\n",
    "# pd.cut 함수로 각 데이터를 3개의 bin에 할당\n",
    "mpg['hp_bin'] = pd.cut(x=mpg['horsepower'], # 데이터 배열\n",
    "bins=bin_dividers, # 경계 값 리스트\n",
    "labels=bin_names, # bin 이름\n",
    "include_lowest=True) # 첫 경계값 포함\n",
    "\n",
    "# horsepower 열, hp_bin 열의 첫 10행을 출력\n",
    "print(mpg[['horsepower', 'hp_bin']].head(10))\n"
   ]
  },
  {
   "cell_type": "code",
   "execution_count": null,
   "id": "4f17688e",
   "metadata": {},
   "outputs": [],
   "source": [
    "수치 데이터의 이산화"
   ]
  },
  {
   "cell_type": "code",
   "execution_count": 48,
   "id": "0a624566",
   "metadata": {},
   "outputs": [
    {
     "name": "stdout",
     "output_type": "stream",
     "text": [
      "[[0]\n",
      " [1]\n",
      " [1]\n",
      " [1]\n",
      " [1]\n",
      " [0]]\n",
      "\n",
      "[[0]\n",
      " [2]\n",
      " [3]\n",
      " [2]\n",
      " [3]\n",
      " [1]]\n",
      "\n",
      "[[0]\n",
      " [1]\n",
      " [3]\n",
      " [2]\n",
      " [2]\n",
      " [1]]\n",
      "\n"
     ]
    }
   ],
   "source": [
    "# 특성을 만듭니다.\n",
    "age = np.array([[13],[30],[67],[36],[64],[24]])\n",
    "# 30을 기준으로 분할\n",
    "result = np.digitize(age, bins=[30])\n",
    "print(result)\n",
    "print()\n",
    "\n",
    "#0-19, 20-29, 30-63, 64이상의 구간으로 분할\n",
    "result = np.digitize(age, bins=[20,30,64])\n",
    "print(result)\n",
    "print()\n",
    "\n",
    "#0-20, 21-30, 31-64, 64초과 구간으로 분할\n",
    "result = np.digitize(age, bins=[20,30,64], right=True)\n",
    "print(result)\n",
    "print()"
   ]
  },
  {
   "cell_type": "code",
   "execution_count": 50,
   "id": "d5caf9a6",
   "metadata": {},
   "outputs": [
    {
     "name": "stdout",
     "output_type": "stream",
     "text": [
      "[[13]\n",
      " [30]\n",
      " [67]\n",
      " [36]\n",
      " [64]\n",
      " [24]]\n",
      "[[0]\n",
      " [0]\n",
      " [1]\n",
      " [1]\n",
      " [1]\n",
      " [0]]\n"
     ]
    }
   ],
   "source": [
    "from sklearn.preprocessing import Binarizer\n",
    "print(age)\n",
    "\n",
    "#scikit-learn을 이용해서 구간 분할\n",
    "\n",
    "#2개의 구간으로 분할\n",
    "# Binarizer 객체생성\n",
    "binarizer = preprocessing.Binarizer(threshold=30.0)\n",
    "\n",
    "# 특성을 변환합니다.\n",
    "print(binarizer.transform(age))"
   ]
  },
  {
   "cell_type": "code",
   "execution_count": 53,
   "id": "e3b647a2",
   "metadata": {},
   "outputs": [
    {
     "name": "stdout",
     "output_type": "stream",
     "text": [
      "[[0.]\n",
      " [0.]\n",
      " [1.]\n",
      " [2.]\n",
      " [3.]\n",
      " [1.]\n",
      " [2.]\n",
      " [3.]]\n",
      "\n",
      "  (0, 0)\t1.0\n",
      "  (1, 0)\t1.0\n",
      "  (2, 1)\t1.0\n",
      "  (3, 2)\t1.0\n",
      "  (4, 3)\t1.0\n",
      "  (5, 1)\t1.0\n",
      "  (6, 2)\t1.0\n",
      "  (7, 3)\t1.0\n",
      "\n",
      "[[1. 0. 0. 0.]\n",
      " [1. 0. 0. 0.]\n",
      " [0. 1. 0. 0.]\n",
      " [0. 0. 1. 0.]\n",
      " [0. 0. 0. 1.]\n",
      " [0. 1. 0. 0.]\n",
      " [0. 0. 1. 0.]\n",
      " [0. 0. 0. 1.]]\n",
      "\n",
      "[[1. 0. 0. 0.]\n",
      " [0. 1. 0. 0.]\n",
      " [0. 1. 0. 0.]\n",
      " [0. 0. 1. 0.]\n",
      " [0. 0. 0. 1.]\n",
      " [0. 1. 0. 0.]\n",
      " [0. 0. 1. 0.]\n",
      " [0. 0. 0. 1.]]\n",
      "\n"
     ]
    }
   ],
   "source": [
    "age = np.array([[13],[21], [22], [31], [45], [28], [29], [44]])\n",
    "\n",
    "#이전의 numpy의 digitize와 유사한 결과\n",
    "kb = preprocessing.KBinsDiscretizer(4, encode='ordinal', strategy='quantile')\n",
    "print(kb.fit_transform(age))\n",
    "print()\n",
    "#희소행렬로 리턴\n",
    "kb = preprocessing.KBinsDiscretizer(4, encode='onehot', strategy='quantile')\n",
    "print(kb.fit_transform(age))\n",
    "print()\n",
    "#밀집 행렬로 리턴 - 구간의 개수만큼 컬럼을 생성\n",
    "kb = preprocessing.KBinsDiscretizer(4, encode='onehot-dense', strategy='quantile')\n",
    "print(kb.fit_transform(age))\n",
    "print()\n",
    "#밀집 행렬로 리턴 \n",
    "kb = preprocessing.KBinsDiscretizer(4, encode='onehot-dense', strategy='uniform')\n",
    "print(kb.fit_transform(age))\n",
    "print()"
   ]
  },
  {
   "cell_type": "code",
   "execution_count": 57,
   "id": "21604909",
   "metadata": {},
   "outputs": [
    {
     "name": "stdout",
     "output_type": "stream",
     "text": [
      "   feature_1  feature_2\n",
      "0         13         30\n",
      "1         30         40\n",
      "2         67         44\n",
      "3         36         24\n",
      "4         64         37\n",
      "5         24         46\n",
      "   feature_1  feature_2  group\n",
      "0         13         30      2\n",
      "1         30         40      2\n",
      "2         67         44      1\n",
      "3         36         24      0\n",
      "4         64         37      1\n",
      "5         24         46      2\n"
     ]
    },
    {
     "data": {
      "text/plain": [
       "<AxesSubplot:xlabel='feature_1', ylabel='feature_2'>"
      ]
     },
     "execution_count": 57,
     "metadata": {},
     "output_type": "execute_result"
    },
    {
     "data": {
      "image/png": "[encoded data removed]",
      "text/plain": [
       "<Figure size 432x288 with 1 Axes>"
      ]
     },
     "metadata": {
      "needs_background": "light"
     },
     "output_type": "display_data"
    }
   ],
   "source": [
    "#군집 분석을 이용한 이산화\n",
    "from sklearn.cluster import KMeans\n",
    "\n",
    "#데이터 생성\n",
    "sample = np.array([[13, 30], [30, 40], [67, 44], [36, 24], [64, 37], [24, 46]])\n",
    "df = pd.DataFrame(sample, columns=['feature_1', 'feature_2'])\n",
    "print(df)\n",
    "\n",
    "\n",
    "#필요한 군집의 개수를 가지고 객체를 생성\n",
    "cluster = KMeans(3, random_state = 42)\n",
    "#모델을 생성\n",
    "cluster.fit(sample)\n",
    "#예측\n",
    "df['group'] = cluster.predict(sample)\n",
    "print(df)\n",
    "\n",
    "df.plot(kind='scatter', x='feature_1', y='feature_2')"
   ]
  },
  {
   "cell_type": "code",
   "execution_count": null,
   "id": "c845f937",
   "metadata": {},
   "outputs": [],
   "source": []
  },
  {
   "cell_type": "code",
   "execution_count": null,
   "id": "cde00bc3",
   "metadata": {},
   "outputs": [],
   "source": []
  },
  {
   "cell_type": "code",
   "execution_count": null,
   "id": "b8c2c141",
   "metadata": {},
   "outputs": [],
   "source": []
  },
  {
   "cell_type": "code",
   "execution_count": null,
   "id": "299463f8",
   "metadata": {},
   "outputs": [],
   "source": []
  }
 ],
 "metadata": {
  "kernelspec": {
   "display_name": "Python 3 (ipykernel)",
   "language": "python",
   "name": "python3"
  },
  "language_info": {
   "codemirror_mode": {
    "name": "ipython",
    "version": 3
   },
   "file_extension": ".py",
   "mimetype": "text/x-python",
   "name": "python",
   "nbconvert_exporter": "python",
   "pygments_lexer": "ipython3",
   "version": "3.9.7"
  }
 },
 "nbformat": 4,
 "nbformat_minor": 5
}
