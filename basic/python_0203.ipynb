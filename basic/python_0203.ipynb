{
 "cells": [
  {
   "cell_type": "markdown",
   "id": "a7b2bd61",
   "metadata": {},
   "source": [
    "# Python 제공 모듈"
   ]
  },
  {
   "cell_type": "markdown",
   "id": "c5ed1103",
   "metadata": {},
   "source": [
    "## Exception Handling"
   ]
  },
  {
   "cell_type": "code",
   "execution_count": 1,
   "id": "be657e6b",
   "metadata": {},
   "outputs": [
    {
     "name": "stdout",
     "output_type": "stream",
     "text": [
      "5.0\n"
     ]
    },
    {
     "ename": "ZeroDivisionError",
     "evalue": "division by zero",
     "output_type": "error",
     "traceback": [
      "\u001b[1;31m---------------------------------------------------------------------------\u001b[0m",
      "\u001b[1;31mZeroDivisionError\u001b[0m                         Traceback (most recent call last)",
      "\u001b[1;32m~\\AppData\\Local\\Temp/ipykernel_9860/1428268331.py\u001b[0m in \u001b[0;36m<module>\u001b[1;34m\u001b[0m\n\u001b[0;32m      4\u001b[0m \u001b[1;33m\u001b[0m\u001b[0m\n\u001b[0;32m      5\u001b[0m \u001b[0mprint\u001b[0m\u001b[1;33m(\u001b[0m\u001b[0mten_div\u001b[0m\u001b[1;33m(\u001b[0m\u001b[1;36m2\u001b[0m\u001b[1;33m)\u001b[0m\u001b[1;33m)\u001b[0m\u001b[1;33m\u001b[0m\u001b[1;33m\u001b[0m\u001b[0m\n\u001b[1;32m----> 6\u001b[1;33m \u001b[0mprint\u001b[0m\u001b[1;33m(\u001b[0m\u001b[0mten_div\u001b[0m\u001b[1;33m(\u001b[0m\u001b[1;36m0\u001b[0m\u001b[1;33m)\u001b[0m\u001b[1;33m)\u001b[0m \u001b[1;31m#예외가 발생해서 프로그램이 중단\u001b[0m\u001b[1;33m\u001b[0m\u001b[1;33m\u001b[0m\u001b[0m\n\u001b[0m\u001b[0;32m      7\u001b[0m \u001b[0mprint\u001b[0m\u001b[1;33m(\u001b[0m\u001b[1;34m'프로그램 종료'\u001b[0m\u001b[1;33m)\u001b[0m\u001b[1;33m\u001b[0m\u001b[1;33m\u001b[0m\u001b[0m\n",
      "\u001b[1;32m~\\AppData\\Local\\Temp/ipykernel_9860/1428268331.py\u001b[0m in \u001b[0;36mten_div\u001b[1;34m(x)\u001b[0m\n\u001b[0;32m      1\u001b[0m \u001b[1;31m# 예외가 발생하는 상황\u001b[0m\u001b[1;33m\u001b[0m\u001b[1;33m\u001b[0m\u001b[0m\n\u001b[0;32m      2\u001b[0m \u001b[1;32mdef\u001b[0m \u001b[0mten_div\u001b[0m\u001b[1;33m(\u001b[0m\u001b[0mx\u001b[0m\u001b[1;33m)\u001b[0m\u001b[1;33m:\u001b[0m\u001b[1;33m\u001b[0m\u001b[1;33m\u001b[0m\u001b[0m\n\u001b[1;32m----> 3\u001b[1;33m     \u001b[1;32mreturn\u001b[0m \u001b[1;36m10\u001b[0m\u001b[1;33m/\u001b[0m\u001b[0mx\u001b[0m\u001b[1;33m\u001b[0m\u001b[1;33m\u001b[0m\u001b[0m\n\u001b[0m\u001b[0;32m      4\u001b[0m \u001b[1;33m\u001b[0m\u001b[0m\n\u001b[0;32m      5\u001b[0m \u001b[0mprint\u001b[0m\u001b[1;33m(\u001b[0m\u001b[0mten_div\u001b[0m\u001b[1;33m(\u001b[0m\u001b[1;36m2\u001b[0m\u001b[1;33m)\u001b[0m\u001b[1;33m)\u001b[0m\u001b[1;33m\u001b[0m\u001b[1;33m\u001b[0m\u001b[0m\n",
      "\u001b[1;31mZeroDivisionError\u001b[0m: division by zero"
     ]
    }
   ],
   "source": [
    "# 예외가 발생하는 상황\n",
    "def ten_div(x):\n",
    "    return 10/x\n",
    "\n",
    "print(ten_div(2))\n",
    "print(ten_div(0)) #예외가 발생해서 프로그램이 중단\n",
    "print('프로그램 종료')"
   ]
  },
  {
   "cell_type": "code",
   "execution_count": 2,
   "id": "3c84a769",
   "metadata": {},
   "outputs": [
    {
     "name": "stdout",
     "output_type": "stream",
     "text": [
      "5.0\n",
      "0으로 나누는 예외가 발생했습니다.\n",
      "프로그램 종료\n"
     ]
    }
   ],
   "source": [
    "# 예외가 발생하는 상황\n",
    "def ten_div(x):\n",
    "    return 10/x\n",
    "\n",
    "#기본적인 예외 처리 구문을 이용해서 예외가 발생하더라도 중지되지 않도록 함\n",
    "try:\n",
    "    print(ten_div(2))\n",
    "    print(ten_div(0)) #예외가 발생해서 프로그램이 중단\n",
    "    \n",
    "except:\n",
    "    print(\"0으로 나누는 예외가 발생했습니다.\")\n",
    "    \n",
    "print('프로그램 종료')"
   ]
  },
  {
   "cell_type": "code",
   "execution_count": 3,
   "id": "9a1b56b0",
   "metadata": {},
   "outputs": [
    {
     "name": "stdout",
     "output_type": "stream",
     "text": [
      "5.0\n",
      "division by zero\n",
      "프로그램 종료\n"
     ]
    }
   ],
   "source": [
    "# 예외 메시지 출력\n",
    "def ten_div(x):\n",
    "    return 10/x\n",
    "\n",
    "#기본적인 예외 처리 구문을 이용해서 예외가 발생하더라도 중지되지 않도록 함\n",
    "try:\n",
    "    print(ten_div(2))\n",
    "    print(ten_div(0)) #예외가 발생해서 프로그램이 중단\n",
    "    \n",
    "#예외가 발생했을 때 예외 메시지 출력    \n",
    "except Exception as e:\n",
    "    print(e)\n",
    "    \n",
    "print('프로그램 종료')"
   ]
  },
  {
   "cell_type": "code",
   "execution_count": 5,
   "id": "a61aa799",
   "metadata": {},
   "outputs": [
    {
     "name": "stdout",
     "output_type": "stream",
     "text": [
      "5.0\n",
      "2.0\n",
      "예외가 발생하지 않은 경우 수행\n",
      "프로그램 종료\n"
     ]
    }
   ],
   "source": [
    "# 예외 처리 후 수행되는 코드\n",
    "def ten_div(x):\n",
    "    return 10/x\n",
    "\n",
    "#기본적인 예외 처리 구문을 이용해서 예외가 발생하더라도 중지되지 않도록 함\n",
    "try:\n",
    "    print(ten_div(2))\n",
    "    print(ten_div(5)) #예외가 발생해서 프로그램이 중단\n",
    "    \n",
    "#예외가 발생했을 때 예외 메시지 출력    \n",
    "except Exception as e:\n",
    "    print(e)\n",
    "    \n",
    "else:\n",
    "    print(\"예외가 발생하지 않은 경우 수행\")\n",
    "\n",
    "finally:\n",
    "    print('프로그램 종료')"
   ]
  },
  {
   "cell_type": "code",
   "execution_count": 8,
   "id": "8a6d9f15",
   "metadata": {},
   "outputs": [
    {
     "name": "stdout",
     "output_type": "stream",
     "text": [
      "5.0\n",
      "숫자가 너무 큽니다.\n"
     ]
    }
   ],
   "source": [
    "#예외의 강제 발생\n",
    "def ten_div(x):\n",
    "    if x > 10:\n",
    "        #강제로 예외를 발생시켜서 아래 문장을 수행하지 않음\n",
    "        raise Exception(\"숫자가 너무 큽니다.\")\n",
    "    return 10/x\n",
    "\n",
    "#기본적인 예외 처리 구문을 이용해서 예외가 발생하더라도 중지되지 않도록 함\n",
    "try:\n",
    "    print(ten_div(2))\n",
    "    print(ten_div(15)) #예외가 발생해서 프로그램이 중단\n",
    "    \n",
    "#예외가 발생했을 때 예외 메시지 출력    \n",
    "except Exception as e:\n",
    "    print(e)"
   ]
  },
  {
   "cell_type": "code",
   "execution_count": 10,
   "id": "3731c4a0",
   "metadata": {},
   "outputs": [
    {
     "ename": "AssertionError",
     "evalue": "score는 100이 넘을 수 없습니다.",
     "output_type": "error",
     "traceback": [
      "\u001b[1;31m---------------------------------------------------------------------------\u001b[0m",
      "\u001b[1;31mAssertionError\u001b[0m                            Traceback (most recent call last)",
      "\u001b[1;32m~\\AppData\\Local\\Temp/ipykernel_9860/3025245817.py\u001b[0m in \u001b[0;36m<module>\u001b[1;34m\u001b[0m\n\u001b[0;32m      1\u001b[0m \u001b[0mscore\u001b[0m \u001b[1;33m=\u001b[0m \u001b[1;36m101\u001b[0m\u001b[1;33m\u001b[0m\u001b[1;33m\u001b[0m\u001b[0m\n\u001b[1;32m----> 2\u001b[1;33m \u001b[1;32massert\u001b[0m \u001b[0mscore\u001b[0m \u001b[1;33m<=\u001b[0m \u001b[1;36m100\u001b[0m\u001b[1;33m,\u001b[0m \u001b[1;34m\"score는 100이 넘을 수 없습니다.\"\u001b[0m\u001b[1;33m\u001b[0m\u001b[1;33m\u001b[0m\u001b[0m\n\u001b[0m\u001b[0;32m      3\u001b[0m \u001b[0mprint\u001b[0m\u001b[1;33m(\u001b[0m\u001b[0mscore\u001b[0m\u001b[1;33m)\u001b[0m\u001b[1;33m\u001b[0m\u001b[1;33m\u001b[0m\u001b[0m\n",
      "\u001b[1;31mAssertionError\u001b[0m: score는 100이 넘을 수 없습니다."
     ]
    }
   ],
   "source": [
    "#특정 조건을 만족하지 못하는 경우 예외를 발생시켜 프로그램 중단 - Assertion\n",
    "score = 101\n",
    "assert score <= 100, \"score는 100이 넘을 수 없습니다.\" \n",
    "print(score)"
   ]
  },
  {
   "cell_type": "code",
   "execution_count": null,
   "id": "9c5e134b",
   "metadata": {},
   "outputs": [],
   "source": []
  },
  {
   "cell_type": "markdown",
   "id": "6a67af53",
   "metadata": {},
   "source": [
    "## 날짜 및 시간 관련 모듈"
   ]
  },
  {
   "cell_type": "code",
   "execution_count": 13,
   "id": "2f17319c",
   "metadata": {},
   "outputs": [
    {
     "name": "stdout",
     "output_type": "stream",
     "text": [
      "1643855840.881247\n",
      "time.struct_time(tm_year=2022, tm_mon=2, tm_mday=3, tm_hour=11, tm_min=37, tm_sec=20, tm_wday=3, tm_yday=34, tm_isdst=0)\n",
      "1643855850.8915837\n"
     ]
    }
   ],
   "source": [
    "#time 모듈\n",
    "import time\n",
    "\n",
    "print(time.time()) #float 으로 현재 시간 리턴\n",
    "print(time.localtime()) #struct_time 형식으로 현재 시간 리턴\n",
    "\n",
    "time.sleep(10) #10초 대기\n",
    "\n",
    "print(time.time()) #float 으로 현재 시간 리턴"
   ]
  },
  {
   "cell_type": "code",
   "execution_count": 17,
   "id": "d8e3e1b6",
   "metadata": {},
   "outputs": [
    {
     "name": "stdout",
     "output_type": "stream",
     "text": [
      "2022-02-03 12:01:43.891657\n",
      "2022-02-03\n",
      "12:01:43.891657\n",
      "2022\n",
      "12\n",
      "2022년 02월 03일 12시 01분 43초\n",
      "1986-05-05 12:00:00\n"
     ]
    }
   ],
   "source": [
    "#datetime 모듈\n",
    "import datetime\n",
    "\n",
    "#현재 시간을 가지고 생성\n",
    "dt = datetime.datetime.now()\n",
    "print(dt)\n",
    "\n",
    "#날짜 추출\n",
    "print(dt.date())\n",
    "#시간 추출\n",
    "print(dt.time())\n",
    "\n",
    "#년도만 추출\n",
    "print(dt.date().year)\n",
    "#시간만 추출\n",
    "print(dt.time().hour)\n",
    "\n",
    "#문자열로 변환\n",
    "s = dt.strftime('%Y년 %m월 %d일 %H시 %M분 %S초')\n",
    "print(s)\n",
    "\n",
    "#문자열을 가지고 datetime 만들기\n",
    "dt1 = datetime.datetime.strptime(\"1986-05-05 12:00\", \"%Y-%m-%d %H:%M\")\n",
    "print(dt1)"
   ]
  },
  {
   "cell_type": "code",
   "execution_count": 19,
   "id": "aaf07751",
   "metadata": {},
   "outputs": [
    {
     "name": "stdout",
     "output_type": "stream",
     "text": [
      "12693 days, 0:04:51.714310\n",
      "12693\n"
     ]
    }
   ],
   "source": [
    "#날짜 와 날짜 차이\n",
    "import datetime\n",
    "\n",
    "dt1 = datetime.datetime.now()\n",
    "dt2 = datetime.datetime(1987, 5, 5, 12)\n",
    "\n",
    "td = dt1 - dt2\n",
    "print(td)\n",
    "\n",
    "print(td.days, \" 일이 지남\")"
   ]
  },
  {
   "cell_type": "code",
   "execution_count": null,
   "id": "8bb096ff",
   "metadata": {},
   "outputs": [],
   "source": []
  },
  {
   "cell_type": "markdown",
   "id": "108d3aaf",
   "metadata": {},
   "source": [
    "## 수치 데이터 모듈"
   ]
  },
  {
   "cell_type": "code",
   "execution_count": 21,
   "id": "7e1b0a9b",
   "metadata": {},
   "outputs": [
    {
     "name": "stdout",
     "output_type": "stream",
     "text": [
      "10/7\n"
     ]
    }
   ],
   "source": [
    "#fractions 모듈의 모든 내용을 fractions 라는 이름으로 묶어서 가져오기\n",
    "#import fractions\n",
    "\n",
    "#fractions 모듈의 Fraction을 현재 모듈에 포함시켜서 가져오기\n",
    "#fractions 를 제외하고 사용해도 됩니다.\n",
    "from fractions import Fraction\n",
    "\n",
    "result = Fraction(5, 7) + Fraction('5/7')\n",
    "print(result)"
   ]
  },
  {
   "cell_type": "code",
   "execution_count": 30,
   "id": "d9b715e0",
   "metadata": {},
   "outputs": [
    {
     "name": "stdout",
     "output_type": "stream",
     "text": [
      "9.99999999999998\n",
      "10.0\n",
      "False\n",
      "0\n"
     ]
    }
   ],
   "source": [
    "#실수 표현을 정확하게 해주는 모듈\n",
    "from decimal import Decimal\n",
    "\n",
    "result = 0.0\n",
    "for i in range(0, 100, 1):\n",
    "    result = result + 0.1\n",
    "    \n",
    "print(result) #10.0 이 아님\n",
    "\n",
    "#Decimal 로 변환해서 실행\n",
    "k = Decimal(\"0.0\")\n",
    "for i in range(0, 100, 1):\n",
    "    k = k + Decimal(\"0.1\")\n",
    "    \n",
    "print(k) \n",
    "\n",
    "\n",
    "print((1.0-0.8) == 0.2)\n",
    "#compare 는 호출하는 데이터가 크면 양수(1), 같으면 0, 작으면 음수(-1)\n",
    "print((Decimal('1.0')-Decimal('0.8')).compare(Decimal(\"0.2\")))"
   ]
  },
  {
   "cell_type": "code",
   "execution_count": 45,
   "id": "1ab976a7",
   "metadata": {},
   "outputs": [
    {
     "name": "stdout",
     "output_type": "stream",
     "text": [
      "0.6394267984578837\n",
      "4\n",
      "['윈터', '카리나', '닝닝', '지젤']\n",
      "카리나\n",
      "카리나\n",
      "닝닝\n",
      "카리나\n",
      "['카리나', '지젤', '윈터', '닝닝']\n",
      "['지젤', '윈터', '닝닝', '카리나']\n"
     ]
    }
   ],
   "source": [
    "#랜덤 모듈 - 샘플링이나 게임에 많이 사용\n",
    "import random\n",
    "\n",
    "#seed 고정 - 정해진 숫자가 순서대로 리턴\n",
    "random.seed(42)\n",
    "\n",
    "print(random.random())\n",
    "print(random.randint(1, 100))\n",
    "\n",
    "li = [\"카리나\", \"지젤\", \"윈터\", \"닝닝\"]\n",
    "print(random.sample(li, 4)) #비복원 추출 - 동일한 데이터가 추출되지 않음\n",
    "for i in range(0,4,1):\n",
    "    print(random.choice(li)) #복원 추출 - 동일한 데이터가 추출될 수 있음\n",
    "    \n",
    "print(li)\n",
    "random.shuffle(li)\n",
    "print(li)"
   ]
  },
  {
   "cell_type": "code",
   "execution_count": null,
   "id": "9cef5cc6",
   "metadata": {},
   "outputs": [],
   "source": []
  },
  {
   "cell_type": "markdown",
   "id": "1ea097f3",
   "metadata": {},
   "source": [
    "## 문자 관련 모듈"
   ]
  },
  {
   "cell_type": "code",
   "execution_count": 47,
   "id": "819a5546",
   "metadata": {},
   "outputs": [
    {
     "name": "stdout",
     "output_type": "stream",
     "text": [
      "<re.Match object; span=(0, 1), match='1'>\n",
      "None\n"
     ]
    }
   ],
   "source": [
    "#re - 정규식 모듈\n",
    "import re\n",
    "\n",
    "match = re.match('[0-9]', '1234')\n",
    "print(match)\n",
    "\n",
    "match = re.match('[0-9]', '가나다라')\n",
    "print(match)"
   ]
  },
  {
   "cell_type": "code",
   "execution_count": 52,
   "id": "de966a05",
   "metadata": {},
   "outputs": [
    {
     "name": "stdout",
     "output_type": "stream",
     "text": [
      "['the']\n",
      "['The', 'the']\n",
      "올바른 주민등록번호 형식입니다.\n",
      "1234567890123\n"
     ]
    }
   ],
   "source": [
    "import re\n",
    "\n",
    "#정규식 객체 생성\n",
    "p = re.compile('the')\n",
    "print(p.findall('The Hello the cat'))\n",
    "#대소문자 구분하지 않고 검색\n",
    "p = re.compile('the', re.I)\n",
    "print(p.findall('The Hello the cat'))\n",
    "\n",
    "#주민등록번호 패턴 검사\n",
    "p = re.compile(\"(\\d{6})-?(\\d{7})\")\n",
    "num = '123456-7890123'\n",
    "if p.search(num) != None:\n",
    "    print(\"올바른 주민등록번호 형식입니다.\")\n",
    "else:\n",
    "    print(\"올바른 주민등록번호 형식이 아닙니다.\")\n",
    "    \n",
    "#불용어 제거\n",
    "result = re.sub(\"-\", \"\", num)\n",
    "print(result)"
   ]
  },
  {
   "cell_type": "code",
   "execution_count": null,
   "id": "29658aee",
   "metadata": {},
   "outputs": [],
   "source": []
  },
  {
   "cell_type": "markdown",
   "id": "c95e6a4a",
   "metadata": {},
   "source": [
    "## 파일 시스템 관련 모듈"
   ]
  },
  {
   "cell_type": "code",
   "execution_count": 56,
   "id": "730deac6",
   "metadata": {},
   "outputs": [
    {
     "name": "stdout",
     "output_type": "stream",
     "text": [
      "최종 수정 시간: 1643275314.7795682\n",
      "최종 수정 시간: time.struct_time(tm_year=2022, tm_mon=1, tm_mday=27, tm_hour=9, tm_min=21, tm_sec=54, tm_wday=3, tm_yday=27, tm_isdst=0)\n"
     ]
    }
   ],
   "source": [
    "# 파일 시스템 정보를 위한 모듈\n",
    "import os.path\n",
    "import time\n",
    "\n",
    "print(\"최종 수정 시간:\", os.path.getmtime(\n",
    "    'C:\\\\Users\\\\tj\\\\python_0127.ipynb'))\n",
    "\n",
    "print(\"최종 수정 시간:\", time.gmtime(os.path.getmtime(\n",
    "    'C:\\\\Users\\\\tj\\\\python_0127.ipynb')))"
   ]
  },
  {
   "cell_type": "code",
   "execution_count": 58,
   "id": "365cf6c5",
   "metadata": {},
   "outputs": [
    {
     "name": "stdout",
     "output_type": "stream",
     "text": [
      "['.\\\\python_0125.ipynb', '.\\\\python_0126.ipynb', '.\\\\python_0127.ipynb', '.\\\\python_0203.ipynb', '.\\\\Untitled1.ipynb']\n"
     ]
    }
   ],
   "source": [
    "import glob\n",
    "#현재 디렉토리에 존재하는 ipynb 확장자를 가진 모든 파일 이름 가져오기\n",
    "print(glob.glob(\"./*.ipynb\"))"
   ]
  },
  {
   "cell_type": "code",
   "execution_count": null,
   "id": "46d863f4",
   "metadata": {},
   "outputs": [],
   "source": []
  },
  {
   "cell_type": "code",
   "execution_count": 62,
   "id": "d79c7db5",
   "metadata": {},
   "outputs": [
    {
     "name": "stdout",
     "output_type": "stream",
     "text": [
      "C:\\Users\\tj\n",
      "utf-8\n",
      "['C:\\\\Users\\\\tj', 'C:\\\\ProgramData\\\\Anaconda3\\\\python39.zip', 'C:\\\\ProgramData\\\\Anaconda3\\\\DLLs', 'C:\\\\ProgramData\\\\Anaconda3\\\\lib', 'C:\\\\ProgramData\\\\Anaconda3', '', 'C:\\\\ProgramData\\\\Anaconda3\\\\lib\\\\site-packages', 'C:\\\\ProgramData\\\\Anaconda3\\\\lib\\\\site-packages\\\\locket-0.2.1-py3.9.egg', 'C:\\\\ProgramData\\\\Anaconda3\\\\lib\\\\site-packages\\\\win32', 'C:\\\\ProgramData\\\\Anaconda3\\\\lib\\\\site-packages\\\\win32\\\\lib', 'C:\\\\ProgramData\\\\Anaconda3\\\\lib\\\\site-packages\\\\Pythonwin', 'C:\\\\ProgramData\\\\Anaconda3\\\\lib\\\\site-packages\\\\IPython\\\\extensions', 'C:\\\\Users\\\\tj\\\\.ipython']\n"
     ]
    }
   ],
   "source": [
    "#운영체제 관련 모듈\n",
    "import os\n",
    "import sys\n",
    "\n",
    "#처음 다른 곳에서 파이썬을 실행할 때 가장 먼저 확인하는 정보 \n",
    "\n",
    "print(os.getcwd())#현재 작업 디렉토리 확인\n",
    "print(sys.getdefaultencoding())#현재 인코딩 방식\n",
    "print(sys.path)#현재 참조하는 모듈의 순서"
   ]
  },
  {
   "cell_type": "code",
   "execution_count": null,
   "id": "eeecf112",
   "metadata": {},
   "outputs": [],
   "source": []
  },
  {
   "cell_type": "markdown",
   "id": "3355f155",
   "metadata": {},
   "source": [
    "## copy"
   ]
  },
  {
   "cell_type": "code",
   "execution_count": 65,
   "id": "b72b9f3c",
   "metadata": {},
   "outputs": [
    {
     "name": "stdout",
     "output_type": "stream",
     "text": [
      "2230474139952\n",
      "2230474139984\n",
      "2230474139952\n",
      "20\n",
      "10\n"
     ]
    }
   ],
   "source": [
    "#scala 데이터 참조\n",
    "a = 1\n",
    "print(id(a))\n",
    "a = 2\n",
    "print(id(a))\n",
    "\n",
    "#a 에 저장된 데이터가 다르므로 다른 id\n",
    "\n",
    "#이전에 저장해 둔 1을 가리키는 것이라서 a 의 이전 id와 동일\n",
    "b = 1\n",
    "print(id(b))\n",
    "\n",
    "\n",
    "a = 10\n",
    "b = a #10이 저장된 곳의 id를 복사\n",
    "a = 20 #a 의 id 가 변경됨\n",
    "print(a)\n",
    "print(b) #b를 가지고 값을 변경한 적이 없으므로 이전 값 그대로"
   ]
  },
  {
   "cell_type": "code",
   "execution_count": 67,
   "id": "ee150fdc",
   "metadata": {},
   "outputs": [
    {
     "name": "stdout",
     "output_type": "stream",
     "text": [
      "[300, 200, 300]\n",
      "[300, 200, 300]\n",
      "[700, 200, 100]\n",
      "[300, 200, 300]\n"
     ]
    }
   ],
   "source": [
    "ar = [100, 200, 300]\n",
    "br = ar\n",
    "\n",
    "#세부 데이터를 변경했으므로 br에 영향을 줌\n",
    "ar[0] = 300\n",
    "print(ar)\n",
    "print(br)\n",
    "\n",
    "#ar 의 참조 자체가 변경된 것이므로 이제는 ar 과 br은 아무 상관없음\n",
    "ar = [300, 200, 100]\n",
    "ar[0] = 700\n",
    "print(ar)\n",
    "print(br)"
   ]
  },
  {
   "cell_type": "code",
   "execution_count": 72,
   "id": "d1a5efcf",
   "metadata": {},
   "outputs": [
    {
     "name": "stdout",
     "output_type": "stream",
     "text": [
      "[100, 200, 300]\n",
      "[100, 200, 300]\n",
      "[700, 200, 300]\n",
      "[100, 200, 300]\n",
      "========================\n",
      "[[1000, 2000, 3000], [4000, 5000, 6000]]\n",
      "[[1000, 2000, 3000], [4000, 5000, 6000]]\n",
      "[[12345, 2000, 3000], [4000, 5000, 6000]]\n",
      "[[12345, 2000, 3000], [4000, 5000, 6000]]\n",
      "========================\n",
      "[[1000, 2000, 3000], [4000, 5000, 6000]]\n",
      "[[1000, 2000, 3000], [4000, 5000, 6000]]\n",
      "[[12345, 2000, 3000], [4000, 5000, 6000]]\n",
      "[[1000, 2000, 3000], [4000, 5000, 6000]]\n"
     ]
    }
   ],
   "source": [
    "#copy 모듈\n",
    "import copy\n",
    "\n",
    "ar = [100, 200, 300]\n",
    "#얕은 복제를 이용 - 새로운 곳에 복사를 해서 그 곳의 id를 리턴\n",
    "br = copy.copy(ar)\n",
    "print(ar)\n",
    "print(br)\n",
    "\n",
    "#새로 복제를 했기 때문에 ar 을 변경시켜도 br에는 영향이 없음\n",
    "ar[0] = 700\n",
    "print(ar)\n",
    "print(br)\n",
    "print(\"========================\")\n",
    "\n",
    "ar = [[1000, 2000, 3000], [4000, 5000, 6000]]\n",
    "#list 안에 다른 list 가 존재하는 경우는 copy로 복제를 해도 \n",
    "#내부 데이터를 변경하면 복제된 데이터에 영향을 줍니다.\n",
    "br = copy.copy(ar)\n",
    "print(ar)\n",
    "print(br)\n",
    "ar[0][0] = 12345\n",
    "print(ar)\n",
    "print(br)\n",
    "print(\"========================\")\n",
    "ar = [[1000, 2000, 3000], [4000, 5000, 6000]]\n",
    "#list 안에 다른 list 가 존재하는 경우는 deepcopy로 복제를 하면 \n",
    "#재귀적으로 복제를 하므로 이런 현상이 없어집니다.\n",
    "br = copy.deepcopy(ar)\n",
    "print(ar)\n",
    "print(br)\n",
    "ar[0][0] = 12345\n",
    "print(ar)\n",
    "print(br)"
   ]
  },
  {
   "cell_type": "code",
   "execution_count": null,
   "id": "c1389f04",
   "metadata": {},
   "outputs": [],
   "source": []
  },
  {
   "cell_type": "markdown",
   "id": "0d3ced5f",
   "metadata": {},
   "source": [
    "## 메모리 정리"
   ]
  },
  {
   "cell_type": "code",
   "execution_count": 75,
   "id": "9e08e6cb",
   "metadata": {},
   "outputs": [
    {
     "name": "stdout",
     "output_type": "stream",
     "text": [
      "Temp 클래스의 인스턴스가 파괴됩니다.\n",
      "Temp 클래스의 인스턴스가 파괴됩니다.\n"
     ]
    }
   ],
   "source": [
    "class Temp:\n",
    "    #인스턴스가 메모리에서 소멸될 때 호출되는 함수 - 소멸자\n",
    "    def __del__(self):\n",
    "        print(\"Temp 클래스의 인스턴스가 파괴됩니다.\")\n",
    "        \n",
    "obj = Temp() #인스턴스가 생성 - reference count 가 1\n",
    "\n",
    "#obj1 = obj #인스턴스를 다른 변수가 가리키도록 하는 것\n",
    "#reference count 가 1증가합니다.\n",
    "\n",
    "obj = 1\n",
    "#이전에 만들어진 인스턴스 대신에 새로 만들어진 인스턴스를 가리킵니다.\n",
    "#이전에 만들어진 인스턴스의 reference count는 1감소합니다."
   ]
  },
  {
   "cell_type": "code",
   "execution_count": 76,
   "id": "4ed8c5a6",
   "metadata": {},
   "outputs": [],
   "source": [
    "obj = Temp() #참조 횟수가 1이 됩니다.\n",
    "obj1 = obj #참조를 복사했으므로 참조 횟수가 2가 됩니다.\n",
    "obj = Temp() #다른 인스턴스를 참조했으므로 참조 횟수가 1 줄어들어서 1이 됩니다.\n"
   ]
  },
  {
   "cell_type": "code",
   "execution_count": 77,
   "id": "4b211f40",
   "metadata": {},
   "outputs": [
    {
     "name": "stdout",
     "output_type": "stream",
     "text": [
      "Temp 클래스의 인스턴스가 파괴됩니다.\n",
      "Temp 클래스의 인스턴스가 파괴됩니다.\n",
      "Temp 클래스의 인스턴스가 파괴됩니다.\n"
     ]
    }
   ],
   "source": [
    "import weakref\n",
    "obj = Temp() #참조 횟수가 1이 됩니다.\n",
    "obj1 = weakref.ref(obj) #참조 횟수를 변경시키지 않고 참조를 복사\n",
    "obj = Temp() #다른 인스턴스를 참조했으므로 참조 횟수가 1 줄어들어서 1이 됩니다."
   ]
  },
  {
   "cell_type": "code",
   "execution_count": null,
   "id": "0d591fcf",
   "metadata": {},
   "outputs": [],
   "source": []
  },
  {
   "cell_type": "markdown",
   "id": "f4c7885b",
   "metadata": {},
   "source": [
    "## Queue 모듈"
   ]
  },
  {
   "cell_type": "code",
   "execution_count": 84,
   "id": "0997bfab",
   "metadata": {},
   "outputs": [
    {
     "name": "stdout",
     "output_type": "stream",
     "text": [
      "닝닝\n",
      "지젤\n",
      "카리나\n",
      "윈터\n"
     ]
    }
   ],
   "source": [
    "import queue\n",
    "\n",
    "li = [\"윈터\", \"카리나\", \"지젤\", \"닝닝\"]\n",
    "\n",
    "#큐를 생성해서 데이터를 추가\n",
    "#easpa = queue.Queue()\n",
    "#easpa = queue.PriorityQueue()#우선 순위 큐\n",
    "easpa = queue.LifoQueue()#스택\n",
    "\n",
    "for x in li:\n",
    "    easpa.put(x)\n",
    "print(easpa.get(0))\n",
    "print(easpa.get(0))\n",
    "print(easpa.get(0))\n",
    "print(easpa.get(0))"
   ]
  },
  {
   "cell_type": "code",
   "execution_count": null,
   "id": "c3233a5f",
   "metadata": {},
   "outputs": [],
   "source": []
  },
  {
   "cell_type": "markdown",
   "id": "97848171",
   "metadata": {},
   "source": [
    "## collections 모듈의 Counter 클래스를 이용한 집계"
   ]
  },
  {
   "cell_type": "code",
   "execution_count": 86,
   "id": "42bd43b3",
   "metadata": {},
   "outputs": [
    {
     "name": "stdout",
     "output_type": "stream",
     "text": [
      "Counter({'GOOG': 3, 'APPLE': 2, 'MS': 1, 'AMAZON': 1})\n"
     ]
    }
   ],
   "source": [
    "from collections import Counter\n",
    "\n",
    "portfolio = [\n",
    "    ('GOOG', 100, 120.1),\n",
    "    ('MS', 70, 110.1),\n",
    "    ('AMAZON', 80, 490.1),\n",
    "    ('APPLE', 70, 490.1),\n",
    "    ('GOOG', 60, 490.1),\n",
    "    ('APPLE', 20, 490.1),\n",
    "    ('GOOG', 40, 490.1),\n",
    "]\n",
    "\n",
    "total_shares = Counter()\n",
    "\n",
    "#데이터 순회\n",
    "for name, shares, price in portfolio:\n",
    "    total_shares[name] += 1\n",
    "    \n",
    "print(total_shares)"
   ]
  },
  {
   "cell_type": "code",
   "execution_count": null,
   "id": "4d644275",
   "metadata": {},
   "outputs": [],
   "source": []
  },
  {
   "cell_type": "markdown",
   "id": "6e2dad93",
   "metadata": {},
   "source": [
    "## Thread"
   ]
  },
  {
   "cell_type": "code",
   "execution_count": 89,
   "id": "cb9d29de",
   "metadata": {},
   "outputs": [
    {
     "name": "stdout",
     "output_type": "stream",
     "text": [
      "id=0번 스레드--->0\n",
      "id=0번 스레드--->1\n",
      "id=0번 스레드--->2\n",
      "id=0번 스레드--->3\n",
      "id=0번 스레드--->4\n",
      "id=0번 스레드--->5\n",
      "id=0번 스레드--->6\n",
      "id=0번 스레드--->7\n",
      "id=0번 스레드--->8\n",
      "id=0번 스레드--->9\n",
      "id=1번 스레드--->0\n",
      "id=1번 스레드--->1\n",
      "id=1번 스레드--->2\n",
      "id=1번 스레드--->3\n",
      "id=1번 스레드--->4\n",
      "id=1번 스레드--->5\n",
      "id=1번 스레드--->6\n",
      "id=1번 스레드--->7\n",
      "id=1번 스레드--->8\n",
      "id=1번 스레드--->9\n"
     ]
    }
   ],
   "source": [
    "# 일반 함수 호출\n",
    "import threading, time\n",
    "\n",
    "def threadEx(id):\n",
    "    for i in range(0, 10, 1):\n",
    "        print('id={0}--->{1}'.format(id, i))\n",
    "        time.sleep(1)\n",
    "        \n",
    "for i in range(0, 2, 1):\n",
    "    threadEx(\"{0}번 스레드\".format(i))"
   ]
  },
  {
   "cell_type": "code",
   "execution_count": 90,
   "id": "8514e9be",
   "metadata": {},
   "outputs": [
    {
     "name": "stdout",
     "output_type": "stream",
     "text": [
      "id=0번 스레드--->0\n",
      "id=1번 스레드--->0\n",
      "id=0번 스레드--->1\n",
      "id=1번 스레드--->1\n",
      "id=0번 스레드--->2\n",
      "id=1번 스레드--->2\n",
      "id=0번 스레드--->3\n",
      "id=1번 스레드--->3\n",
      "id=0번 스레드--->4\n",
      "id=1번 스레드--->4\n",
      "id=0번 스레드--->5\n",
      "id=1번 스레드--->5\n",
      "id=0번 스레드--->6\n",
      "id=1번 스레드--->6\n",
      "id=0번 스레드--->7\n",
      "id=1번 스레드--->7\n",
      "id=0번 스레드--->8\n",
      "id=1번 스레드--->8\n",
      "id=0번 스레드--->9\n",
      "id=1번 스레드--->9\n"
     ]
    }
   ],
   "source": [
    "# 콜백 함수 지정을 이용한 스레드 생성 및 시작\n",
    "import threading, time\n",
    "\n",
    "def threadEx(id):\n",
    "    for i in range(0, 10, 1):\n",
    "        print('id={0}--->{1}'.format(id, i))\n",
    "        time.sleep(1)\n",
    "        \n",
    "for i in range(2):\n",
    "    arg = \"{0}번 스레드\".format(i)\n",
    "    th = threading.Thread(target=threadEx, args=(arg, ))\n",
    "    th.start()"
   ]
  },
  {
   "cell_type": "code",
   "execution_count": 92,
   "id": "836b54e6",
   "metadata": {},
   "outputs": [
    {
     "name": "stdout",
     "output_type": "stream",
     "text": [
      "id=Thread-12--->0\n",
      "id=Thread-13--->0\n",
      "id=Thread-13--->1\n",
      "id=Thread-12--->1\n",
      "id=Thread-12--->2id=Thread-13--->2\n",
      "\n",
      "id=Thread-13--->3id=Thread-12--->3\n",
      "\n",
      "id=Thread-13--->4id=Thread-12--->4\n",
      "\n",
      "id=Thread-12--->5id=Thread-13--->5\n",
      "\n",
      "id=Thread-12--->6id=Thread-13--->6\n",
      "\n",
      "id=Thread-13--->7id=Thread-12--->7\n",
      "\n",
      "id=Thread-13--->8id=Thread-12--->8\n",
      "\n",
      "id=Thread-12--->9id=Thread-13--->9\n",
      "\n"
     ]
    }
   ],
   "source": [
    "# 상속을 이용한 스레드 생성 및 시작\n",
    "import threading, time\n",
    "\n",
    "class ThreadEx(threading.Thread):\n",
    "    def run(self):\n",
    "        for i in range(0, 10, 1):\n",
    "            print('id={0}--->{1}'.format(self.getName(), i))\n",
    "            time.sleep(1)\n",
    "        \n",
    "for i in range(0, 2, 1):\n",
    "    th = ThreadEx()\n",
    "    th.start()"
   ]
  },
  {
   "cell_type": "code",
   "execution_count": null,
   "id": "a3383380",
   "metadata": {},
   "outputs": [],
   "source": []
  }
 ],
 "metadata": {
  "kernelspec": {
   "display_name": "Python 3 (ipykernel)",
   "language": "python",
   "name": "python3"
  },
  "language_info": {
   "codemirror_mode": {
    "name": "ipython",
    "version": 3
   },
   "file_extension": ".py",
   "mimetype": "text/x-python",
   "name": "python",
   "nbconvert_exporter": "python",
   "pygments_lexer": "ipython3",
   "version": "3.9.7"
  }
 },
 "nbformat": 4,
 "nbformat_minor": 5
}
