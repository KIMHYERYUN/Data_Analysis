{
 "cells": [
  {
   "cell_type": "markdown",
   "id": "5d9bc53e",
   "metadata": {},
   "source": [
    "# 9. 막대그래프(심화)"
   ]
  },
  {
   "cell_type": "code",
   "execution_count": 1,
   "id": "23554835",
   "metadata": {},
   "outputs": [],
   "source": [
    "import matplotlib\n",
    "import matplotlib.pyplot as plt\n",
    "matplotlib.rcParams['font.family'] = 'Malgun Gothic' #Window\n",
    "#matplotlib.rcParams['font.family'] = 'AppleGothic' #Mac\n",
    "matplotlib.rcParams['font.size'] = 15 #글자크기 \n",
    "#한글 폰트 사용시, 마이너스 표시 깨짐 설정\n",
    "matplotlib.rcParams['axes.unicode_minus'] = False"
   ]
  },
  {
   "cell_type": "markdown",
   "id": "5110e046",
   "metadata": {},
   "source": [
    "## 막대 그래프 전환"
   ]
  },
  {
   "cell_type": "code",
   "execution_count": 2,
   "id": "1613585b",
   "metadata": {},
   "outputs": [
    {
     "data": {
      "text/plain": [
       "<BarContainer object of 3 artists>"
      ]
     },
     "execution_count": 2,
     "metadata": {},
     "output_type": "execute_result"
    },
    {
     "data": {
      "image/png": "[encoded data removed]",
      "text/plain": [
       "<Figure size 432x288 with 1 Axes>"
      ]
     },
     "metadata": {
      "needs_background": "light"
     },
     "output_type": "display_data"
    }
   ],
   "source": [
    "labels = ['kim', 'hur', 'park']\n",
    "values = [180, 165, 171]\n",
    "plt.barh(labels, values)"
   ]
  },
  {
   "cell_type": "markdown",
   "id": "6db3cb23",
   "metadata": {},
   "source": [
    "## 데이터 제한하여 그리기"
   ]
  },
  {
   "cell_type": "code",
   "execution_count": 3,
   "id": "c1a182da",
   "metadata": {},
   "outputs": [
    {
     "data": {
      "text/plain": [
       "(150.0, 200.0)"
      ]
     },
     "execution_count": 3,
     "metadata": {},
     "output_type": "execute_result"
    },
    {
     "data": {
      "image/png": "[encoded data removed]",
      "text/plain": [
       "<Figure size 432x288 with 1 Axes>"
      ]
     },
     "metadata": {
      "needs_background": "light"
     },
     "output_type": "display_data"
    }
   ],
   "source": [
    "plt.barh(labels, values)\n",
    "plt.xlim(150, 200)"
   ]
  },
  {
   "cell_type": "code",
   "execution_count": 4,
   "id": "9fa36dac",
   "metadata": {},
   "outputs": [],
   "source": [
    "## 막대 그래프 안에 표시설정"
   ]
  },
  {
   "cell_type": "code",
   "execution_count": 5,
   "id": "00bcd134",
   "metadata": {},
   "outputs": [
    {
     "data": {
      "image/png": "[encoded data removed]",
      "text/plain": [
       "<Figure size 432x288 with 1 Axes>"
      ]
     },
     "metadata": {
      "needs_background": "light"
     },
     "output_type": "display_data"
    }
   ],
   "source": [
    "bar = plt.bar(labels, values)\n",
    "bar[0].set_hatch('/')\n",
    "bar[1].set_hatch('xx')\n",
    "bar[2].set_hatch('+')"
   ]
  },
  {
   "cell_type": "markdown",
   "id": "a14d5095",
   "metadata": {},
   "source": [
    "## 그래프 내 글자 넣기"
   ]
  },
  {
   "cell_type": "code",
   "execution_count": 6,
   "id": "bf75ff95",
   "metadata": {},
   "outputs": [
    {
     "name": "stdout",
     "output_type": "stream",
     "text": [
      "Rectangle(xy=(-0.4, 0), width=0.8, height=180, angle=0)\n",
      "Rectangle(xy=(0.6, 0), width=0.8, height=165, angle=0)\n",
      "Rectangle(xy=(1.6, 0), width=0.8, height=171, angle=0)\n"
     ]
    },
    {
     "data": {
      "image/png": "[encoded data removed]",
      "text/plain": [
       "<Figure size 432x288 with 1 Axes>"
      ]
     },
     "metadata": {
      "needs_background": "light"
     },
     "output_type": "display_data"
    }
   ],
   "source": [
    "bar = plt.bar(labels, values)\n",
    "\n",
    "#enumerate : idx와 그에 상응하는 값 가져올 때 사용하는 함수\n",
    "#rect변수는 각 위치정보 : (x, y), width, height, angle\n",
    "for idx, rect in enumerate(bar):\n",
    "    print(rect)\n",
    "    plt.text(idx, rect.get_height() + 0.5, values[idx], ha='center', color='blue')"
   ]
  }
 ],
 "metadata": {
  "kernelspec": {
   "display_name": "Python 3 (ipykernel)",
   "language": "python",
   "name": "python3"
  },
  "language_info": {
   "codemirror_mode": {
    "name": "ipython",
    "version": 3
   },
   "file_extension": ".py",
   "mimetype": "text/x-python",
   "name": "python",
   "nbconvert_exporter": "python",
   "pygments_lexer": "ipython3",
   "version": "3.9.7"
  }
 },
 "nbformat": 4,
 "nbformat_minor": 5
}
