{
 "cells": [
  {
   "cell_type": "markdown",
   "id": "3cfab471",
   "metadata": {},
   "source": [
    "# 15.산점도 그래프"
   ]
  },
  {
   "cell_type": "code",
   "execution_count": 1,
   "id": "d5ed083a",
   "metadata": {},
   "outputs": [],
   "source": [
    "import matplotlib\n",
    "import matplotlib.pyplot as plt\n",
    "matplotlib.rcParams['font.family'] = 'Malgun Gothic' #Window\n",
    "#matplotlib.rcParams['font.family'] = 'AppleGothic' #Mac\n",
    "matplotlib.rcParams['font.size'] = 15 #글자크기 \n",
    "#한글 폰트 사용시, 마이너스 표시 깨짐 설정\n",
    "matplotlib.rcParams['axes.unicode_minus'] = False"
   ]
  },
  {
   "cell_type": "code",
   "execution_count": 2,
   "id": "1769b525",
   "metadata": {},
   "outputs": [
    {
     "data": {
      "text/html": [
       "<div>\n",
       "<style scoped>\n",
       "    .dataframe tbody tr th:only-of-type {\n",
       "        vertical-align: middle;\n",
       "    }\n",
       "\n",
       "    .dataframe tbody tr th {\n",
       "        vertical-align: top;\n",
       "    }\n",
       "\n",
       "    .dataframe thead th {\n",
       "        text-align: right;\n",
       "    }\n",
       "</style>\n",
       "<table border=\"1\" class=\"dataframe\">\n",
       "  <thead>\n",
       "    <tr style=\"text-align: right;\">\n",
       "      <th></th>\n",
       "      <th>지원번호</th>\n",
       "      <th>이름</th>\n",
       "      <th>학교</th>\n",
       "      <th>키</th>\n",
       "      <th>국어</th>\n",
       "      <th>수학</th>\n",
       "      <th>영어</th>\n",
       "      <th>과학</th>\n",
       "      <th>사회</th>\n",
       "      <th>특기</th>\n",
       "    </tr>\n",
       "  </thead>\n",
       "  <tbody>\n",
       "    <tr>\n",
       "      <th>0</th>\n",
       "      <td>1번</td>\n",
       "      <td>kim</td>\n",
       "      <td>덕원여고</td>\n",
       "      <td>167</td>\n",
       "      <td>85</td>\n",
       "      <td>95</td>\n",
       "      <td>90</td>\n",
       "      <td>88</td>\n",
       "      <td>80</td>\n",
       "      <td>python</td>\n",
       "    </tr>\n",
       "    <tr>\n",
       "      <th>1</th>\n",
       "      <td>2번</td>\n",
       "      <td>hur</td>\n",
       "      <td>덕원여고</td>\n",
       "      <td>165</td>\n",
       "      <td>90</td>\n",
       "      <td>81</td>\n",
       "      <td>95</td>\n",
       "      <td>79</td>\n",
       "      <td>93</td>\n",
       "      <td>java</td>\n",
       "    </tr>\n",
       "    <tr>\n",
       "      <th>2</th>\n",
       "      <td>3번</td>\n",
       "      <td>park</td>\n",
       "      <td>덕원여고</td>\n",
       "      <td>180</td>\n",
       "      <td>70</td>\n",
       "      <td>73</td>\n",
       "      <td>89</td>\n",
       "      <td>60</td>\n",
       "      <td>91</td>\n",
       "      <td>NaN</td>\n",
       "    </tr>\n",
       "    <tr>\n",
       "      <th>3</th>\n",
       "      <td>4번</td>\n",
       "      <td>jung</td>\n",
       "      <td>화곡고</td>\n",
       "      <td>172</td>\n",
       "      <td>89</td>\n",
       "      <td>86</td>\n",
       "      <td>61</td>\n",
       "      <td>95</td>\n",
       "      <td>80</td>\n",
       "      <td>NaN</td>\n",
       "    </tr>\n",
       "    <tr>\n",
       "      <th>4</th>\n",
       "      <td>5번</td>\n",
       "      <td>lee</td>\n",
       "      <td>광영여고</td>\n",
       "      <td>176</td>\n",
       "      <td>100</td>\n",
       "      <td>91</td>\n",
       "      <td>70</td>\n",
       "      <td>86</td>\n",
       "      <td>94</td>\n",
       "      <td>java</td>\n",
       "    </tr>\n",
       "    <tr>\n",
       "      <th>5</th>\n",
       "      <td>6번</td>\n",
       "      <td>choi</td>\n",
       "      <td>덕원여고</td>\n",
       "      <td>161</td>\n",
       "      <td>61</td>\n",
       "      <td>40</td>\n",
       "      <td>80</td>\n",
       "      <td>54</td>\n",
       "      <td>79</td>\n",
       "      <td>javascript</td>\n",
       "    </tr>\n",
       "    <tr>\n",
       "      <th>6</th>\n",
       "      <td>7번</td>\n",
       "      <td>han</td>\n",
       "      <td>화곡고</td>\n",
       "      <td>159</td>\n",
       "      <td>50</td>\n",
       "      <td>80</td>\n",
       "      <td>86</td>\n",
       "      <td>75</td>\n",
       "      <td>81</td>\n",
       "      <td>python</td>\n",
       "    </tr>\n",
       "  </tbody>\n",
       "</table>\n",
       "</div>"
      ],
      "text/plain": [
       "  지원번호    이름    학교    키   국어  수학  영어  과학  사회          특기\n",
       "0   1번   kim  덕원여고  167   85  95  90  88  80      python\n",
       "1   2번   hur  덕원여고  165   90  81  95  79  93        java\n",
       "2   3번  park  덕원여고  180   70  73  89  60  91         NaN\n",
       "3   4번  jung   화곡고  172   89  86  61  95  80         NaN\n",
       "4   5번   lee  광영여고  176  100  91  70  86  94        java\n",
       "5   6번  choi  덕원여고  161   61  40  80  54  79  javascript\n",
       "6   7번   han   화곡고  159   50  80  86  75  81      python"
      ]
     },
     "execution_count": 2,
     "metadata": {},
     "output_type": "execute_result"
    }
   ],
   "source": [
    "import pandas as pd\n",
    "df = pd.read_excel('../Pandas/score.xlsx')\n",
    "df "
   ]
  },
  {
   "cell_type": "code",
   "execution_count": 3,
   "id": "b4f3eeb8",
   "metadata": {},
   "outputs": [
    {
     "data": {
      "text/html": [
       "<div>\n",
       "<style scoped>\n",
       "    .dataframe tbody tr th:only-of-type {\n",
       "        vertical-align: middle;\n",
       "    }\n",
       "\n",
       "    .dataframe tbody tr th {\n",
       "        vertical-align: top;\n",
       "    }\n",
       "\n",
       "    .dataframe thead th {\n",
       "        text-align: right;\n",
       "    }\n",
       "</style>\n",
       "<table border=\"1\" class=\"dataframe\">\n",
       "  <thead>\n",
       "    <tr style=\"text-align: right;\">\n",
       "      <th></th>\n",
       "      <th>지원번호</th>\n",
       "      <th>이름</th>\n",
       "      <th>학교</th>\n",
       "      <th>키</th>\n",
       "      <th>국어</th>\n",
       "      <th>수학</th>\n",
       "      <th>영어</th>\n",
       "      <th>과학</th>\n",
       "      <th>사회</th>\n",
       "      <th>특기</th>\n",
       "      <th>학년</th>\n",
       "    </tr>\n",
       "  </thead>\n",
       "  <tbody>\n",
       "    <tr>\n",
       "      <th>0</th>\n",
       "      <td>1번</td>\n",
       "      <td>kim</td>\n",
       "      <td>덕원여고</td>\n",
       "      <td>167</td>\n",
       "      <td>85</td>\n",
       "      <td>95</td>\n",
       "      <td>90</td>\n",
       "      <td>88</td>\n",
       "      <td>80</td>\n",
       "      <td>python</td>\n",
       "      <td>3</td>\n",
       "    </tr>\n",
       "    <tr>\n",
       "      <th>1</th>\n",
       "      <td>2번</td>\n",
       "      <td>hur</td>\n",
       "      <td>덕원여고</td>\n",
       "      <td>165</td>\n",
       "      <td>90</td>\n",
       "      <td>81</td>\n",
       "      <td>95</td>\n",
       "      <td>79</td>\n",
       "      <td>93</td>\n",
       "      <td>java</td>\n",
       "      <td>3</td>\n",
       "    </tr>\n",
       "    <tr>\n",
       "      <th>2</th>\n",
       "      <td>3번</td>\n",
       "      <td>park</td>\n",
       "      <td>덕원여고</td>\n",
       "      <td>180</td>\n",
       "      <td>70</td>\n",
       "      <td>73</td>\n",
       "      <td>89</td>\n",
       "      <td>60</td>\n",
       "      <td>91</td>\n",
       "      <td>NaN</td>\n",
       "      <td>2</td>\n",
       "    </tr>\n",
       "    <tr>\n",
       "      <th>3</th>\n",
       "      <td>4번</td>\n",
       "      <td>jung</td>\n",
       "      <td>화곡고</td>\n",
       "      <td>172</td>\n",
       "      <td>89</td>\n",
       "      <td>86</td>\n",
       "      <td>61</td>\n",
       "      <td>95</td>\n",
       "      <td>80</td>\n",
       "      <td>NaN</td>\n",
       "      <td>1</td>\n",
       "    </tr>\n",
       "    <tr>\n",
       "      <th>4</th>\n",
       "      <td>5번</td>\n",
       "      <td>lee</td>\n",
       "      <td>광영여고</td>\n",
       "      <td>176</td>\n",
       "      <td>100</td>\n",
       "      <td>91</td>\n",
       "      <td>70</td>\n",
       "      <td>86</td>\n",
       "      <td>94</td>\n",
       "      <td>java</td>\n",
       "      <td>1</td>\n",
       "    </tr>\n",
       "    <tr>\n",
       "      <th>5</th>\n",
       "      <td>6번</td>\n",
       "      <td>choi</td>\n",
       "      <td>덕원여고</td>\n",
       "      <td>161</td>\n",
       "      <td>61</td>\n",
       "      <td>40</td>\n",
       "      <td>80</td>\n",
       "      <td>54</td>\n",
       "      <td>79</td>\n",
       "      <td>javascript</td>\n",
       "      <td>3</td>\n",
       "    </tr>\n",
       "    <tr>\n",
       "      <th>6</th>\n",
       "      <td>7번</td>\n",
       "      <td>han</td>\n",
       "      <td>화곡고</td>\n",
       "      <td>159</td>\n",
       "      <td>50</td>\n",
       "      <td>80</td>\n",
       "      <td>86</td>\n",
       "      <td>75</td>\n",
       "      <td>81</td>\n",
       "      <td>python</td>\n",
       "      <td>2</td>\n",
       "    </tr>\n",
       "  </tbody>\n",
       "</table>\n",
       "</div>"
      ],
      "text/plain": [
       "  지원번호    이름    학교    키   국어  수학  영어  과학  사회          특기  학년\n",
       "0   1번   kim  덕원여고  167   85  95  90  88  80      python   3\n",
       "1   2번   hur  덕원여고  165   90  81  95  79  93        java   3\n",
       "2   3번  park  덕원여고  180   70  73  89  60  91         NaN   2\n",
       "3   4번  jung   화곡고  172   89  86  61  95  80         NaN   1\n",
       "4   5번   lee  광영여고  176  100  91  70  86  94        java   1\n",
       "5   6번  choi  덕원여고  161   61  40  80  54  79  javascript   3\n",
       "6   7번   han   화곡고  159   50  80  86  75  81      python   2"
      ]
     },
     "execution_count": 3,
     "metadata": {},
     "output_type": "execute_result"
    }
   ],
   "source": [
    "df['학년'] = [3, 3, 2, 1, 1, 3, 2]\n",
    "df"
   ]
  },
  {
   "cell_type": "code",
   "execution_count": 4,
   "id": "e8688851",
   "metadata": {},
   "outputs": [
    {
     "data": {
      "text/plain": [
       "Text(0, 0.5, '영어점수')"
      ]
     },
     "execution_count": 4,
     "metadata": {},
     "output_type": "execute_result"
    },
    {
     "data": {
      "image/png": "[encoded data removed]",
      "text/plain": [
       "<Figure size 432x288 with 1 Axes>"
      ]
     },
     "metadata": {
      "needs_background": "light"
     },
     "output_type": "display_data"
    }
   ],
   "source": [
    "plt.scatter(df['수학'], df['영어'])\n",
    "plt.xlabel('수학점수')\n",
    "plt.ylabel('영어점수')"
   ]
  },
  {
   "cell_type": "code",
   "execution_count": 5,
   "id": "0d99d5ae",
   "metadata": {},
   "outputs": [
    {
     "data": {
      "text/plain": [
       "array([355.95014942, 272.32945939, 168.66000306, 516.56816474,\n",
       "       308.89381069, 374.73753919, 522.97915934])"
      ]
     },
     "execution_count": 5,
     "metadata": {},
     "output_type": "execute_result"
    }
   ],
   "source": [
    "#산점도 그래프 - 점 크기 랜덤 추출\n",
    "import numpy as np\n",
    "sizes = np.random.rand(7) * 1000\n",
    "sizes"
   ]
  },
  {
   "cell_type": "code",
   "execution_count": 6,
   "id": "a7a33267",
   "metadata": {},
   "outputs": [
    {
     "data": {
      "text/plain": [
       "Text(0, 0.5, '영어점수')"
      ]
     },
     "execution_count": 6,
     "metadata": {},
     "output_type": "execute_result"
    },
    {
     "data": {
      "image/png": "[encoded data removed]",
      "text/plain": [
       "<Figure size 432x288 with 1 Axes>"
      ]
     },
     "metadata": {
      "needs_background": "light"
     },
     "output_type": "display_data"
    }
   ],
   "source": [
    "plt.scatter(df['수학'], df['영어'], s=sizes)\n",
    "plt.xlabel('수학점수')\n",
    "plt.ylabel('영어점수')"
   ]
  },
  {
   "cell_type": "code",
   "execution_count": 7,
   "id": "718dd6e7",
   "metadata": {},
   "outputs": [
    {
     "data": {
      "text/plain": [
       "Text(0, 0.5, '영어점수')"
      ]
     },
     "execution_count": 7,
     "metadata": {},
     "output_type": "execute_result"
    },
    {
     "data": {
      "image/png": "[encoded data removed]",
      "text/plain": [
       "<Figure size 432x288 with 1 Axes>"
      ]
     },
     "metadata": {
      "needs_background": "light"
     },
     "output_type": "display_data"
    }
   ],
   "source": [
    "#산점도 그래프 - 학년 숫자 이용\n",
    "sizes = df['학년'] * 500\n",
    "# 1학년 = 500, 2학년 = 1000, 3학년 = 1500\n",
    "plt.scatter(df['수학'], df['영어'], s=sizes)\n",
    "plt.xlabel('수학점수')\n",
    "plt.ylabel('영어점수')"
   ]
  },
  {
   "cell_type": "code",
   "execution_count": 8,
   "id": "6db80e56",
   "metadata": {},
   "outputs": [
    {
     "data": {
      "text/plain": [
       "Text(0, 0.5, '영어점수')"
      ]
     },
     "execution_count": 8,
     "metadata": {},
     "output_type": "execute_result"
    },
    {
     "data": {
      "image/png": "[encoded data removed]",
      "text/plain": [
       "<Figure size 432x288 with 1 Axes>"
      ]
     },
     "metadata": {
      "needs_background": "light"
     },
     "output_type": "display_data"
    }
   ],
   "source": [
    "#색 변경 - 학년에 따라 / 색 제공영역 설정(내부의 색 이용 : 랜덤이 아닌 값에 해당하는 지점)\n",
    "plt.scatter(df['수학'], df['영어'], s=sizes, c=df['학년'], cmap='viridis', alpha=0.3)\n",
    "plt.xlabel('수학점수')\n",
    "plt.ylabel('영어점수')"
   ]
  },
  {
   "cell_type": "code",
   "execution_count": 9,
   "id": "2487962e",
   "metadata": {},
   "outputs": [
    {
     "data": {
      "text/plain": [
       "<matplotlib.colorbar.Colorbar at 0x2869d495940>"
      ]
     },
     "execution_count": 9,
     "metadata": {},
     "output_type": "execute_result"
    },
    {
     "data": {
      "image/png": "[encoded data removed]",
      "text/plain": [
       "<Figure size 720x720 with 2 Axes>"
      ]
     },
     "metadata": {
      "needs_background": "light"
     },
     "output_type": "display_data"
    }
   ],
   "source": [
    "#색깔의 영역 나타내기\n",
    "plt.figure(figsize=(10, 10))\n",
    "plt.scatter(df['수학'], df['영어'], s=sizes, c=df['학년'], cmap='viridis', alpha=0.3)\n",
    "plt.xlabel('수학점수')\n",
    "plt.ylabel('영어점수')\n",
    "plt.colorbar()"
   ]
  },
  {
   "cell_type": "code",
   "execution_count": 10,
   "id": "6e3a030a",
   "metadata": {},
   "outputs": [
    {
     "data": {
      "text/plain": [
       "<matplotlib.colorbar.Colorbar at 0x2869d5139a0>"
      ]
     },
     "execution_count": 10,
     "metadata": {},
     "output_type": "execute_result"
    },
    {
     "data": {
      "image/png": "[encoded data removed]",
      "text/plain": [
       "<Figure size 720x720 with 2 Axes>"
      ]
     },
     "metadata": {
      "needs_background": "light"
     },
     "output_type": "display_data"
    }
   ],
   "source": [
    "#색깔의 영역 속성 - 그 영역의 값 지정하기, 크기 줄이기(shrink), 배치(orientation)\n",
    "plt.figure(figsize=(10, 10))\n",
    "plt.scatter(df['수학'], df['영어'], s=sizes, c=df['학년'], cmap='viridis', alpha=0.3)\n",
    "plt.xlabel('수학점수')\n",
    "plt.ylabel('영어점수')\n",
    "plt.colorbar(ticks=[1, 2, 3], label='학년', shrink=0.5, orientation='horizontal')"
   ]
  },
  {
   "cell_type": "code",
   "execution_count": null,
   "id": "6c7d91bb",
   "metadata": {},
   "outputs": [],
   "source": []
  }
 ],
 "metadata": {
  "kernelspec": {
   "display_name": "Python 3 (ipykernel)",
   "language": "python",
   "name": "python3"
  },
  "language_info": {
   "codemirror_mode": {
    "name": "ipython",
    "version": 3
   },
   "file_extension": ".py",
   "mimetype": "text/x-python",
   "name": "python",
   "nbconvert_exporter": "python",
   "pygments_lexer": "ipython3",
   "version": "3.9.7"
  }
 },
 "nbformat": 4,
 "nbformat_minor": 5
}
