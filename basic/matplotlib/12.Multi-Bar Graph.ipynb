{
 "cells": [
  {
   "cell_type": "markdown",
   "id": "a3c8d348",
   "metadata": {},
   "source": [
    "# 12.다중 막대 그래프"
   ]
  },
  {
   "cell_type": "code",
   "execution_count": 1,
   "id": "61f0cb92",
   "metadata": {},
   "outputs": [
    {
     "data": {
      "text/html": [
       "<div>\n",
       "<style scoped>\n",
       "    .dataframe tbody tr th:only-of-type {\n",
       "        vertical-align: middle;\n",
       "    }\n",
       "\n",
       "    .dataframe tbody tr th {\n",
       "        vertical-align: top;\n",
       "    }\n",
       "\n",
       "    .dataframe thead th {\n",
       "        text-align: right;\n",
       "    }\n",
       "</style>\n",
       "<table border=\"1\" class=\"dataframe\">\n",
       "  <thead>\n",
       "    <tr style=\"text-align: right;\">\n",
       "      <th></th>\n",
       "      <th>지원번호</th>\n",
       "      <th>이름</th>\n",
       "      <th>학교</th>\n",
       "      <th>키</th>\n",
       "      <th>국어</th>\n",
       "      <th>수학</th>\n",
       "      <th>영어</th>\n",
       "      <th>과학</th>\n",
       "      <th>사회</th>\n",
       "      <th>특기</th>\n",
       "    </tr>\n",
       "  </thead>\n",
       "  <tbody>\n",
       "    <tr>\n",
       "      <th>0</th>\n",
       "      <td>1번</td>\n",
       "      <td>kim</td>\n",
       "      <td>덕원여고</td>\n",
       "      <td>167</td>\n",
       "      <td>85</td>\n",
       "      <td>95</td>\n",
       "      <td>90</td>\n",
       "      <td>88</td>\n",
       "      <td>80</td>\n",
       "      <td>python</td>\n",
       "    </tr>\n",
       "    <tr>\n",
       "      <th>1</th>\n",
       "      <td>2번</td>\n",
       "      <td>hur</td>\n",
       "      <td>덕원여고</td>\n",
       "      <td>165</td>\n",
       "      <td>90</td>\n",
       "      <td>81</td>\n",
       "      <td>95</td>\n",
       "      <td>79</td>\n",
       "      <td>93</td>\n",
       "      <td>java</td>\n",
       "    </tr>\n",
       "    <tr>\n",
       "      <th>2</th>\n",
       "      <td>3번</td>\n",
       "      <td>park</td>\n",
       "      <td>덕원여고</td>\n",
       "      <td>180</td>\n",
       "      <td>70</td>\n",
       "      <td>73</td>\n",
       "      <td>89</td>\n",
       "      <td>60</td>\n",
       "      <td>91</td>\n",
       "      <td>NaN</td>\n",
       "    </tr>\n",
       "    <tr>\n",
       "      <th>3</th>\n",
       "      <td>4번</td>\n",
       "      <td>jung</td>\n",
       "      <td>화곡고</td>\n",
       "      <td>172</td>\n",
       "      <td>89</td>\n",
       "      <td>86</td>\n",
       "      <td>61</td>\n",
       "      <td>95</td>\n",
       "      <td>80</td>\n",
       "      <td>NaN</td>\n",
       "    </tr>\n",
       "    <tr>\n",
       "      <th>4</th>\n",
       "      <td>5번</td>\n",
       "      <td>lee</td>\n",
       "      <td>광영여고</td>\n",
       "      <td>176</td>\n",
       "      <td>100</td>\n",
       "      <td>91</td>\n",
       "      <td>70</td>\n",
       "      <td>86</td>\n",
       "      <td>94</td>\n",
       "      <td>java</td>\n",
       "    </tr>\n",
       "    <tr>\n",
       "      <th>5</th>\n",
       "      <td>6번</td>\n",
       "      <td>choi</td>\n",
       "      <td>덕원여고</td>\n",
       "      <td>161</td>\n",
       "      <td>61</td>\n",
       "      <td>40</td>\n",
       "      <td>80</td>\n",
       "      <td>54</td>\n",
       "      <td>79</td>\n",
       "      <td>javascript</td>\n",
       "    </tr>\n",
       "    <tr>\n",
       "      <th>6</th>\n",
       "      <td>7번</td>\n",
       "      <td>han</td>\n",
       "      <td>화곡고</td>\n",
       "      <td>159</td>\n",
       "      <td>50</td>\n",
       "      <td>80</td>\n",
       "      <td>86</td>\n",
       "      <td>75</td>\n",
       "      <td>81</td>\n",
       "      <td>python</td>\n",
       "    </tr>\n",
       "  </tbody>\n",
       "</table>\n",
       "</div>"
      ],
      "text/plain": [
       "  지원번호    이름    학교    키   국어  수학  영어  과학  사회          특기\n",
       "0   1번   kim  덕원여고  167   85  95  90  88  80      python\n",
       "1   2번   hur  덕원여고  165   90  81  95  79  93        java\n",
       "2   3번  park  덕원여고  180   70  73  89  60  91         NaN\n",
       "3   4번  jung   화곡고  172   89  86  61  95  80         NaN\n",
       "4   5번   lee  광영여고  176  100  91  70  86  94        java\n",
       "5   6번  choi  덕원여고  161   61  40  80  54  79  javascript\n",
       "6   7번   han   화곡고  159   50  80  86  75  81      python"
      ]
     },
     "execution_count": 1,
     "metadata": {},
     "output_type": "execute_result"
    }
   ],
   "source": [
    "import pandas as pd\n",
    "\n",
    "import matplotlib\n",
    "import matplotlib.pyplot as plt\n",
    "matplotlib.rcParams['font.family'] = 'Malgun Gothic' #Window\n",
    "#matplotlib.rcParams['font.family'] = 'AppleGothic' #Mac\n",
    "matplotlib.rcParams['font.size'] = 15 #글자크기 \n",
    "#한글 폰트 사용시, 마이너스 표시 깨짐 설정\n",
    "matplotlib.rcParams['axes.unicode_minus'] = False\n",
    "\n",
    "df = pd.read_excel('../Pandas/score.xlsx')\n",
    "df"
   ]
  },
  {
   "cell_type": "code",
   "execution_count": 2,
   "id": "6f8109f6",
   "metadata": {},
   "outputs": [],
   "source": [
    "import numpy as np\n",
    "#배열(!=리스트, 연속된 데이터의 집합)생성"
   ]
  },
  {
   "cell_type": "code",
   "execution_count": 3,
   "id": "4d7ce4fd",
   "metadata": {},
   "outputs": [
    {
     "data": {
      "text/plain": [
       "array([0, 1, 2, 3, 4])"
      ]
     },
     "execution_count": 3,
     "metadata": {},
     "output_type": "execute_result"
    }
   ],
   "source": [
    "np.arange(5)"
   ]
  },
  {
   "cell_type": "code",
   "execution_count": 4,
   "id": "11ddbfc9",
   "metadata": {},
   "outputs": [
    {
     "data": {
      "text/plain": [
       "array([3, 4, 5])"
      ]
     },
     "execution_count": 4,
     "metadata": {},
     "output_type": "execute_result"
    }
   ],
   "source": [
    "np.arange(3, 6)"
   ]
  },
  {
   "cell_type": "code",
   "execution_count": 5,
   "id": "5fae67a5",
   "metadata": {},
   "outputs": [
    {
     "data": {
      "text/plain": [
       "array([0, 1, 2, 3, 4])"
      ]
     },
     "execution_count": 5,
     "metadata": {},
     "output_type": "execute_result"
    }
   ],
   "source": [
    "arr = np.arange(5)\n",
    "arr"
   ]
  },
  {
   "cell_type": "code",
   "execution_count": 6,
   "id": "17570849",
   "metadata": {},
   "outputs": [
    {
     "data": {
      "text/plain": [
       "array([100, 101, 102, 103, 104])"
      ]
     },
     "execution_count": 6,
     "metadata": {},
     "output_type": "execute_result"
    }
   ],
   "source": [
    "arr + 100"
   ]
  },
  {
   "cell_type": "code",
   "execution_count": 7,
   "id": "82b445c4",
   "metadata": {},
   "outputs": [
    {
     "data": {
      "text/plain": [
       "array([ 0,  3,  6,  9, 12])"
      ]
     },
     "execution_count": 7,
     "metadata": {},
     "output_type": "execute_result"
    }
   ],
   "source": [
    "arr * 3"
   ]
  },
  {
   "cell_type": "code",
   "execution_count": 8,
   "id": "8f46a23a",
   "metadata": {},
   "outputs": [
    {
     "data": {
      "text/plain": [
       "(7, 10)"
      ]
     },
     "execution_count": 8,
     "metadata": {},
     "output_type": "execute_result"
    }
   ],
   "source": [
    "#각 학생의 갯수 = (row, column)\n",
    "df.shape"
   ]
  },
  {
   "cell_type": "code",
   "execution_count": 9,
   "id": "40d9edc3",
   "metadata": {},
   "outputs": [
    {
     "data": {
      "text/plain": [
       "7"
      ]
     },
     "execution_count": 9,
     "metadata": {},
     "output_type": "execute_result"
    }
   ],
   "source": [
    "n = df.shape[0]\n",
    "n"
   ]
  },
  {
   "cell_type": "code",
   "execution_count": 10,
   "id": "91b3df55",
   "metadata": {},
   "outputs": [
    {
     "data": {
      "text/plain": [
       "array([0, 1, 2, 3, 4, 5, 6])"
      ]
     },
     "execution_count": 10,
     "metadata": {},
     "output_type": "execute_result"
    }
   ],
   "source": [
    "index = np.arange(n)\n",
    "index"
   ]
  },
  {
   "cell_type": "markdown",
   "id": "db58b020",
   "metadata": {},
   "source": [
    "## 다중 막대 그래프 그리기 - 막대 그래프 위치 및 크기 변경, 다중배치"
   ]
  },
  {
   "cell_type": "code",
   "execution_count": 11,
   "id": "8e206851",
   "metadata": {},
   "outputs": [
    {
     "data": {
      "text/plain": [
       "<matplotlib.legend.Legend at 0x1e1ab03f730>"
      ]
     },
     "execution_count": 11,
     "metadata": {},
     "output_type": "execute_result"
    },
    {
     "data": {
      "image/png": "[encoded data removed]",
      "text/plain": [
       "<Figure size 432x288 with 1 Axes>"
      ]
     },
     "metadata": {
      "needs_background": "light"
     },
     "output_type": "display_data"
    }
   ],
   "source": [
    "w = 0.25\n",
    "plt.bar(index-w, df['수학'], width=w, label='수학')\n",
    "#수학그래프는 w만큼 좌측으로 이동하여 보인다\n",
    "plt.bar(index, df['영어'], width=w, label='영어')\n",
    "#영어그래프는 중앙에 위치하여 보인다\n",
    "plt.bar(index+w, df['과학'], width=w, label='과학')\n",
    "#과학그래프는 w만큼 우측으로 이동하여 보인다\n",
    "\n",
    "plt.legend(ncol=3)"
   ]
  },
  {
   "cell_type": "code",
   "execution_count": 12,
   "id": "4426d750",
   "metadata": {},
   "outputs": [
    {
     "data": {
      "image/png": "[encoded data removed]",
      "text/plain": [
       "<Figure size 720x720 with 1 Axes>"
      ]
     },
     "metadata": {
      "needs_background": "light"
     },
     "output_type": "display_data"
    }
   ],
   "source": [
    "#그래프 사이즈\n",
    "plt.figure(figsize=(10, 10))\n",
    "#그래프 타이틀\n",
    "plt.title('학생별 성적')\n",
    "\n",
    "w = 0.25\n",
    "plt.bar(index-w, df['수학'], width=w, label='수학')\n",
    "#수학그래프는 w만큼 좌측으로 이동하여 보인다\n",
    "plt.bar(index, df['영어'], width=w, label='영어')\n",
    "#영어그래프는 중앙에 위치하여 보인다\n",
    "plt.bar(index+w, df['과학'], width=w, label='과학')\n",
    "#과학그래프는 w만큼 우측으로 이동하여 보인다\n",
    "\n",
    "#범례 표시\n",
    "plt.legend(ncol=3)\n",
    "#이름 넣을 위치, 넣을 값, 옵션\n",
    "plt.xticks(index, df['이름'], rotation=60)\n",
    "#그래프만 보여주기\n",
    "plt.show()"
   ]
  }
 ],
 "metadata": {
  "kernelspec": {
   "display_name": "Python 3 (ipykernel)",
   "language": "python",
   "name": "python3"
  },
  "language_info": {
   "codemirror_mode": {
    "name": "ipython",
    "version": 3
   },
   "file_extension": ".py",
   "mimetype": "text/x-python",
   "name": "python",
   "nbconvert_exporter": "python",
   "pygments_lexer": "ipython3",
   "version": "3.9.7"
  }
 },
 "nbformat": 4,
 "nbformat_minor": 5
}
