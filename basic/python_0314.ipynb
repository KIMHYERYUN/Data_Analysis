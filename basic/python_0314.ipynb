{
 "cells": [
  {
   "cell_type": "code",
   "execution_count": 8,
   "id": "ae90dd59",
   "metadata": {},
   "outputs": [],
   "source": [
    "#선형 대수\n",
    "import numpy as np\n",
    "\n",
    "#numpy 와 호환되는 자료구조(Series, DataFrame), 기술 통계, 데이터 전처리\n",
    "import pandas as pd\n",
    "\n",
    "#시각화\n",
    "import matplotlib\n",
    "import matplotlib.pyplot as plt\n",
    "from matplotlib import font_manager, rc\n",
    "\n",
    "#운영체제\n",
    "import platform\n",
    "\n",
    "#시각화, 데이터 제공\n",
    "import seaborn as sns\n",
    "\n",
    "#통계\n",
    "import scipy as sp\n",
    "from scipy import stats\n",
    "\n",
    "#통계\n",
    "import statsmodels.api as sm\n",
    "import statsmodels.formula.api as smf\n",
    "from statsmodels.stats import power\n",
    "\n",
    "#데이터 전처리 & 머신러닝\n",
    "import sklearn\n",
    "\n",
    "%matplotlib inline\n",
    "\n",
    "# 그래프의 한글 처리 부분\n",
    "path = \"c:/Windows/Fonts/malgun.ttf\"\n",
    "if platform.system() == 'Darwin':\n",
    "    rc('font', family='AppleGothic')\n",
    "elif platform.system() == 'Windows':\n",
    "    font_name = font_manager.FontProperties(fname=path).get_name()\n",
    "    rc('font', family=font_name)\n",
    "    \n",
    "#그래프의 음수 출력을 위한 설정\n",
    "matplotlib.rcParams['axes.unicode_minus'] = False\n",
    "\n",
    "# Jupyter Notebook의 출력을 소수점 이하 3자리로 제한 \n",
    "%precision 3\n",
    "# DataFrame의 출력을 소수점 이하 3자리로 제한 \n",
    "pd.set_option('precision', 3)\n",
    "\n",
    "#그림의 폰트 설정\n",
    "plt.rc(\"font\", size=18)  # 그림의 폰트 크기를 18로 고정\n",
    "\n",
    "#그림의 색상값을 변수로 설정\n",
    "gray = {\"facecolor\": \"gray\"}\n",
    "black = {\"facecolor\": \"black\"}\n",
    "red = {\"facecolor\": \"red\"}\n",
    "green = {\"facecolor\": \"green\"}\n",
    "blue = {\"facecolor\": \"blue\"}"
   ]
  },
  {
   "cell_type": "code",
   "execution_count": null,
   "id": "b75dbdde",
   "metadata": {},
   "outputs": [],
   "source": []
  },
  {
   "cell_type": "markdown",
   "id": "b2677507",
   "metadata": {},
   "source": [
    "# 미적분"
   ]
  },
  {
   "cell_type": "markdown",
   "id": "4a8da847",
   "metadata": {},
   "source": [
    "## 함수"
   ]
  },
  {
   "cell_type": "markdown",
   "id": "7ba42a59",
   "metadata": {},
   "source": [
    "### 디셔너리를 이용한 함수의 구현"
   ]
  },
  {
   "cell_type": "code",
   "execution_count": 3,
   "id": "ab21de61",
   "metadata": {},
   "outputs": [
    {
     "name": "stdout",
     "output_type": "stream",
     "text": [
      "4\n"
     ]
    }
   ],
   "source": [
    "# 입력이 1, 2, 3, 4, 5 이고 출력은 곱하기 2를 해서 만들어지는 경우\n",
    "dict_fun = {1:2, 2:4, 3:6, 4:8, 5:10}\n",
    "print(dict_fun[2])"
   ]
  },
  {
   "cell_type": "markdown",
   "id": "9d78f5af",
   "metadata": {},
   "source": [
    "### 함수 정의"
   ]
  },
  {
   "cell_type": "code",
   "execution_count": 7,
   "id": "ea3dbbb6",
   "metadata": {},
   "outputs": [
    {
     "name": "stdout",
     "output_type": "stream",
     "text": [
      "20\n",
      "1212\n"
     ]
    }
   ],
   "source": [
    "def double_num(x):\n",
    "    return 2 * x\n",
    "\n",
    "x = 10\n",
    "y = double_num(x)\n",
    "print(y)\n",
    "\n",
    "\n",
    "#자료형의 힌트를 이용한 정의\n",
    "def double_num_hint(x: int) -> int:\n",
    "    return 2 * x\n",
    "\n",
    "y = double_num_hint(10)\n",
    "print(y)"
   ]
  },
  {
   "cell_type": "code",
   "execution_count": null,
   "id": "1b986ff7",
   "metadata": {},
   "outputs": [],
   "source": []
  },
  {
   "cell_type": "markdown",
   "id": "5a9f87d2",
   "metadata": {},
   "source": [
    "### 불연속 함수 - 특정 조건이나 값을 기준으로 출력되는 값이 갑자기 변하는 함수"
   ]
  },
  {
   "cell_type": "code",
   "execution_count": 12,
   "id": "612a6583",
   "metadata": {},
   "outputs": [
    {
     "name": "stdout",
     "output_type": "stream",
     "text": [
      "1\n",
      "0\n",
      "-1\n",
      "1.0\n",
      "[1. 1. 1.]\n",
      "0.0\n"
     ]
    }
   ],
   "source": [
    "#numpy 의 sign 함수\n",
    "print(np.sign(10))\n",
    "print(np.sign(0))\n",
    "print(np.sign(-1))\n",
    "\n",
    "#단위 계단 함수\n",
    "def heaviside_step(x) -> float:\n",
    "    #대입된 매개변수가 numpy 의 ndarray 라면 - 자료형을 확인\n",
    "    if isinstance(x, np.ndarray):\n",
    "        return np.where(x >= 0 , 1.0, 0.0)\n",
    "    else:\n",
    "        return 1.0 if x >= 0 else 0.0\n",
    "    \n",
    "print(heaviside_step(10))\n",
    "print(heaviside_step(np.array([10, 20, 30])))\n",
    "print(heaviside_step(-1))    "
   ]
  },
  {
   "cell_type": "markdown",
   "id": "4ed07c0f",
   "metadata": {},
   "source": [
    "### ReLU 함수"
   ]
  },
  {
   "cell_type": "code",
   "execution_count": 13,
   "id": "854a1e35",
   "metadata": {},
   "outputs": [
    {
     "data": {
      "image/png": "[encoded data removed]",
      "text/plain": [
       "<Figure size 432x288 with 1 Axes>"
      ]
     },
     "metadata": {
      "needs_background": "light"
     },
     "output_type": "display_data"
    }
   ],
   "source": [
    "#양수는 그대로 출력하고 음수는 0으로 출력하는 함수\n",
    "xx = np.linspace(-10, 10, 100)\n",
    "plt.plot(xx, np.maximum(xx, 0))\n",
    "plt.show()"
   ]
  },
  {
   "cell_type": "markdown",
   "id": "41eae686",
   "metadata": {},
   "source": [
    "### 지수 함수"
   ]
  },
  {
   "cell_type": "code",
   "execution_count": 14,
   "id": "f6194754",
   "metadata": {},
   "outputs": [
    {
     "name": "stdout",
     "output_type": "stream",
     "text": [
      "2.718281828459045\n",
      "4.5399929762484854e-05 0.36787944117144233 1.0 2.718281828459045 22026.465794806718\n"
     ]
    }
   ],
   "source": [
    "#오일러 수 확인\n",
    "print(np.e)\n",
    "\n",
    "#지수 함수를 이용해서 구한 값 확인\n",
    "print(np.exp(-10), np.exp(-1), np.exp(0), np.exp(1), np.exp(10))"
   ]
  },
  {
   "cell_type": "code",
   "execution_count": 15,
   "id": "ad13eaad",
   "metadata": {},
   "outputs": [
    {
     "data": {
      "image/png": "[encoded data removed]",
      "text/plain": [
       "<Figure size 432x288 with 1 Axes>"
      ]
     },
     "metadata": {
      "needs_background": "light"
     },
     "output_type": "display_data"
    }
   ],
   "source": [
    "xx = np.linspace(-2, 2, 100)\n",
    "yy = np.exp(xx)\n",
    "\n",
    "#데이터 값이 증가할 때 조금 더 빠른 속도로 증가\n",
    "plt.plot(xx, yy)\n",
    "plt.show()"
   ]
  },
  {
   "cell_type": "markdown",
   "id": "259dd6d3",
   "metadata": {},
   "source": [
    "### 로지스틱 함수"
   ]
  },
  {
   "cell_type": "code",
   "execution_count": 16,
   "id": "f830addc",
   "metadata": {},
   "outputs": [
    {
     "data": {
      "image/png": "[encoded data removed]",
      "text/plain": [
       "<Figure size 432x288 with 1 Axes>"
      ]
     },
     "metadata": {
      "needs_background": "light"
     },
     "output_type": "display_data"
    }
   ],
   "source": [
    "#로지스틱 함수\n",
    "def logistic(x):\n",
    "    return 1/(1 + np.exp(-x))\n",
    "\n",
    "xx = np.linspace(-10, 10, 100)\n",
    "plt.plot(xx, logistic(xx))\n",
    "plt.show()"
   ]
  },
  {
   "cell_type": "markdown",
   "id": "2cd626c1",
   "metadata": {},
   "source": [
    "### 로그 함수"
   ]
  },
  {
   "cell_type": "code",
   "execution_count": 17,
   "id": "7b9e0b17",
   "metadata": {},
   "outputs": [
    {
     "name": "stdout",
     "output_type": "stream",
     "text": [
      "-inf\n",
      "-0.2231435513142097\n",
      "0.0\n",
      "2.302585092994046\n",
      "4.605170185988092\n"
     ]
    },
    {
     "name": "stderr",
     "output_type": "stream",
     "text": [
      "C:\\Users\\tj\\AppData\\Local\\Temp/ipykernel_11900/3835835177.py:1: RuntimeWarning: divide by zero encountered in log\n",
      "  print(np.log(0))\n"
     ]
    }
   ],
   "source": [
    "print(np.log(0)) #로그 함수는 0이하의 값에는 반응하지 않습니다.\n",
    "print(np.log(0.8))\n",
    "print(np.log(1))\n",
    "print(np.log(10))\n",
    "print(np.log(100))"
   ]
  },
  {
   "cell_type": "code",
   "execution_count": 19,
   "id": "9b5009b0",
   "metadata": {},
   "outputs": [
    {
     "data": {
      "image/png": "[encoded data removed]",
      "text/plain": [
       "<Figure size 432x288 with 1 Axes>"
      ]
     },
     "metadata": {
      "needs_background": "light"
     },
     "output_type": "display_data"
    }
   ],
   "source": [
    "xx = np.linspace(0.01, 8, 100)\n",
    "yy = np.log(xx)\n",
    "plt.plot(xx, yy)\n",
    "plt.show()"
   ]
  },
  {
   "cell_type": "markdown",
   "id": "e9426e42",
   "metadata": {},
   "source": [
    "### 소프트플러스 함수"
   ]
  },
  {
   "cell_type": "code",
   "execution_count": 20,
   "id": "80aa3087",
   "metadata": {},
   "outputs": [
    {
     "data": {
      "image/png": "[encoded data removed]",
      "text/plain": [
       "<Figure size 432x288 with 1 Axes>"
      ]
     },
     "metadata": {
      "needs_background": "light"
     },
     "output_type": "display_data"
    }
   ],
   "source": [
    "def softplus(x):\n",
    "    return np.log(1 + np.exp(x))\n",
    "\n",
    "xx = np.linspace(-10, 10, 100)\n",
    "plt.plot(xx, softplus(xx))\n",
    "plt.show()"
   ]
  },
  {
   "cell_type": "markdown",
   "id": "a942fc28",
   "metadata": {},
   "source": [
    "### 함수의 평행 이동"
   ]
  },
  {
   "cell_type": "code",
   "execution_count": 23,
   "id": "34a73d05",
   "metadata": {},
   "outputs": [
    {
     "data": {
      "image/png": "[encoded data removed]",
      "text/plain": [
       "<Figure size 432x288 with 1 Axes>"
      ]
     },
     "metadata": {
      "needs_background": "light"
     },
     "output_type": "display_data"
    }
   ],
   "source": [
    "#로지스틱 함수를 오른쪽으로 5 아래로 1 만큼 평행 이동\n",
    "xx = np.linspace(-10, 10, 100)\n",
    "plt.plot(xx, logistic(xx), ls='-')\n",
    "plt.plot(xx, logistic(xx - 5) - 1, ls='-')\n",
    "plt.show()"
   ]
  },
  {
   "cell_type": "markdown",
   "id": "5d59e7dd",
   "metadata": {},
   "source": [
    "### 함수 스케일링"
   ]
  },
  {
   "cell_type": "code",
   "execution_count": 24,
   "id": "51225f24",
   "metadata": {},
   "outputs": [
    {
     "data": {
      "image/png": "[encoded data removed]",
      "text/plain": [
       "<Figure size 432x288 with 1 Axes>"
      ]
     },
     "metadata": {
      "needs_background": "light"
     },
     "output_type": "display_data"
    }
   ],
   "source": [
    "xx = np.linspace(-10, 10, 100)\n",
    "plt.plot(xx, logistic(xx), ls='-')\n",
    "plt.plot(xx, 2*logistic(2*xx), ls='-')\n",
    "plt.show()"
   ]
  },
  {
   "cell_type": "code",
   "execution_count": null,
   "id": "ddd09e42",
   "metadata": {},
   "outputs": [],
   "source": []
  },
  {
   "cell_type": "markdown",
   "id": "9a9e1fea",
   "metadata": {},
   "source": [
    "# 미분"
   ]
  },
  {
   "cell_type": "markdown",
   "id": "7c7004a6",
   "metadata": {},
   "source": [
    "### 수치 미분"
   ]
  },
  {
   "cell_type": "code",
   "execution_count": 27,
   "id": "2524684f",
   "metadata": {},
   "outputs": [
    {
     "name": "stdout",
     "output_type": "stream",
     "text": [
      "1.000000000001\n"
     ]
    }
   ],
   "source": [
    "#기울기를 구하기 위한 함수\n",
    "def f(x):\n",
    "    return x ** 3 - 3 * x ** 2 + x\n",
    "\n",
    "from scipy.misc import derivative\n",
    "\n",
    "print(derivative(f, 0, dx = 0.000001))"
   ]
  },
  {
   "cell_type": "markdown",
   "id": "00ce2eb1",
   "metadata": {},
   "source": [
    "### LaTex 표현을 위한 설정"
   ]
  },
  {
   "cell_type": "code",
   "execution_count": 28,
   "id": "427bde3f",
   "metadata": {},
   "outputs": [],
   "source": [
    "import sympy\n",
    "\n",
    "sympy.init_printing(use_latex='mathjax')"
   ]
  },
  {
   "cell_type": "code",
   "execution_count": 29,
   "id": "509e24bf",
   "metadata": {},
   "outputs": [
    {
     "name": "stdout",
     "output_type": "stream",
     "text": [
      "x\n",
      "<class 'sympy.core.symbol.Symbol'>\n"
     ]
    }
   ],
   "source": [
    "x = sympy.symbols('x')\n",
    "print(x)\n",
    "print(type(x))"
   ]
  },
  {
   "cell_type": "code",
   "execution_count": 30,
   "id": "77d52685",
   "metadata": {},
   "outputs": [
    {
     "name": "stdout",
     "output_type": "stream",
     "text": [
      "x*exp(x)\n"
     ]
    }
   ],
   "source": [
    "#함수를 표현\n",
    "f = x * sympy.exp(x)\n",
    "print(f)"
   ]
  },
  {
   "cell_type": "code",
   "execution_count": 31,
   "id": "df44e5db",
   "metadata": {},
   "outputs": [
    {
     "data": {
      "text/latex": [
       "$\\displaystyle x e^{x} + e^{x}$"
      ],
      "text/plain": [
       "   x    x\n",
       "x⋅ℯ  + ℯ "
      ]
     },
     "execution_count": 31,
     "metadata": {},
     "output_type": "execute_result"
    }
   ],
   "source": [
    "#미분 - diff\n",
    "sympy.diff(f)"
   ]
  },
  {
   "cell_type": "code",
   "execution_count": 32,
   "id": "8b275807",
   "metadata": {},
   "outputs": [
    {
     "data": {
      "text/latex": [
       "$\\displaystyle \\left(x + 1\\right) e^{x}$"
      ],
      "text/plain": [
       "         x\n",
       "(x + 1)⋅ℯ "
      ]
     },
     "execution_count": 32,
     "metadata": {},
     "output_type": "execute_result"
    }
   ],
   "source": [
    "#미분 - simplify\n",
    "sympy.simplify(sympy.diff(f))"
   ]
  },
  {
   "cell_type": "code",
   "execution_count": 33,
   "id": "9064e631",
   "metadata": {},
   "outputs": [
    {
     "data": {
      "text/latex": [
       "$\\displaystyle x^{2} + 4 x y + 4 y^{2}$"
      ],
      "text/plain": [
       " 2              2\n",
       "x  + 4⋅x⋅y + 4⋅y "
      ]
     },
     "execution_count": 33,
     "metadata": {},
     "output_type": "execute_result"
    }
   ],
   "source": [
    "#심볼을 생성\n",
    "x, y = sympy.symbols('x y')\n",
    "# 다변수 함수 생성\n",
    "f = x ** 2 + 4 * x * y + 4 * y ** 2\n",
    "f"
   ]
  },
  {
   "cell_type": "code",
   "execution_count": 34,
   "id": "c02f4057",
   "metadata": {},
   "outputs": [
    {
     "data": {
      "text/latex": [
       "$\\displaystyle 2 x + 4 y$"
      ],
      "text/plain": [
       "2⋅x + 4⋅y"
      ]
     },
     "execution_count": 34,
     "metadata": {},
     "output_type": "execute_result"
    }
   ],
   "source": [
    "#편미분 - 여러 개의 입력 변수가 있는데 그 중에서 하나만 미분\n",
    "#편미분을 수행할 변수를 제외하고는 상수로 취급\n",
    "sympy.diff(f, x)"
   ]
  },
  {
   "cell_type": "code",
   "execution_count": 35,
   "id": "dc449ef5",
   "metadata": {},
   "outputs": [
    {
     "data": {
      "text/latex": [
       "$\\displaystyle 4 x + 8 y$"
      ],
      "text/plain": [
       "4⋅x + 8⋅y"
      ]
     },
     "execution_count": 35,
     "metadata": {},
     "output_type": "execute_result"
    }
   ],
   "source": [
    "sympy.diff(f, y)"
   ]
  },
  {
   "cell_type": "code",
   "execution_count": null,
   "id": "942fbed6",
   "metadata": {},
   "outputs": [],
   "source": []
  },
  {
   "cell_type": "markdown",
   "id": "5ba4f4a4",
   "metadata": {},
   "source": [
    "## 적분"
   ]
  },
  {
   "cell_type": "markdown",
   "id": "5b66b949",
   "metadata": {},
   "source": [
    "### 부정 적분 - 반 미분, 미분의 반대"
   ]
  },
  {
   "cell_type": "code",
   "execution_count": 39,
   "id": "d7bf8455",
   "metadata": {},
   "outputs": [
    {
     "name": "stdout",
     "output_type": "stream",
     "text": [
      "x*exp(x) + 3\n",
      "x*exp(x) + exp(x)\n",
      "x*exp(x)\n"
     ]
    }
   ],
   "source": [
    "#함수를 표현\n",
    "f = x * sympy.exp(x) + 3\n",
    "print(f)\n",
    "#미분\n",
    "fprime = sympy.diff(f)\n",
    "print(fprime)\n",
    "\n",
    "#미분한 도함수를 부정적분 - 상수항은 복원되지 않음\n",
    "original = sympy.integrate(fprime)\n",
    "print(original)"
   ]
  },
  {
   "cell_type": "markdown",
   "id": "b4818e51",
   "metadata": {},
   "source": [
    "### 정적분 - 면적을 구하는 적분"
   ]
  },
  {
   "cell_type": "code",
   "execution_count": 41,
   "id": "43e8d5d8",
   "metadata": {},
   "outputs": [
    {
     "name": "stdout",
     "output_type": "stream",
     "text": [
      "x**3 - 3*x**2 + x + 6\n"
     ]
    }
   ],
   "source": [
    "import sympy\n",
    "\n",
    "sympy.init_printing(use_latex='mathjax')\n",
    "\n",
    "x = sympy.symbols('x')\n",
    "\n",
    "#함수 생성\n",
    "f = x ** 3 - 3 * x ** 2 + x + 6\n",
    "print(f)"
   ]
  },
  {
   "cell_type": "code",
   "execution_count": 43,
   "id": "30693546",
   "metadata": {},
   "outputs": [
    {
     "name": "stdout",
     "output_type": "stream",
     "text": [
      "x**4/4 - x**3 + x**2/2 + 6*x\n"
     ]
    },
    {
     "data": {
      "text/latex": [
       "$\\displaystyle -10.0$"
      ],
      "text/plain": [
       "-10.0000000000000"
      ]
     },
     "execution_count": 43,
     "metadata": {},
     "output_type": "execute_result"
    }
   ],
   "source": [
    "# 부정 적분 수행\n",
    "F = sympy.integrate(f)\n",
    "print(F)\n",
    "\n",
    "#0부터 2까지의 면적 구하기\n",
    "(F.subs(x, 0) - F.subs(x, 2)).evalf()"
   ]
  },
  {
   "cell_type": "code",
   "execution_count": 44,
   "id": "37149ca7",
   "metadata": {},
   "outputs": [
    {
     "data": {
      "text/latex": [
       "$\\displaystyle \\left( 10.0, \\  1.11022302462516 \\cdot 10^{-13}\\right)$"
      ],
      "text/plain": [
       "(10.0, 1.1102230246251565e-13)"
      ]
     },
     "execution_count": 44,
     "metadata": {},
     "output_type": "execute_result"
    }
   ],
   "source": [
    "#함수를 정의\n",
    "def f(x):\n",
    "    return x ** 3 - 3 * x ** 2 + x + 6\n",
    "#함수를 이용해서 면적 구하기 - 심볼을 이용하는 경우와 결과 동일\n",
    "#뒤의 숫자는 오차의 상한 값\n",
    "sp.integrate.quad(f, 0, 2)"
   ]
  },
  {
   "cell_type": "code",
   "execution_count": null,
   "id": "049a0ab2",
   "metadata": {},
   "outputs": [],
   "source": []
  },
  {
   "cell_type": "markdown",
   "id": "dfa73eb2",
   "metadata": {},
   "source": [
    "# scikit_learn"
   ]
  },
  {
   "cell_type": "markdown",
   "id": "71c15219",
   "metadata": {},
   "source": [
    "## 데이터 표현"
   ]
  },
  {
   "cell_type": "markdown",
   "id": "88833437",
   "metadata": {},
   "source": [
    "### 붓꽃 데이터"
   ]
  },
  {
   "cell_type": "code",
   "execution_count": 46,
   "id": "18f7d916",
   "metadata": {},
   "outputs": [
    {
     "name": "stdout",
     "output_type": "stream",
     "text": [
      "   sepal_length  sepal_width  petal_length  petal_width species\n",
      "0           5.1          3.5           1.4          0.2  setosa\n",
      "1           4.9          3.0           1.4          0.2  setosa\n",
      "2           4.7          3.2           1.3          0.2  setosa\n",
      "3           4.6          3.1           1.5          0.2  setosa\n",
      "4           5.0          3.6           1.4          0.2  setosa\n",
      "<class 'pandas.core.frame.DataFrame'>\n"
     ]
    }
   ],
   "source": [
    "import seaborn as sns\n",
    "iris = sns.load_dataset('iris')\n",
    "print(type(iris))\n",
    "print(iris.head())\n",
    "\n"
   ]
  },
  {
   "cell_type": "code",
   "execution_count": 51,
   "id": "ad506120",
   "metadata": {},
   "outputs": [
    {
     "name": "stdout",
     "output_type": "stream",
     "text": [
      "   sepal_length  sepal_width  petal_length  petal_width\n",
      "0           5.1          3.5           1.4          0.2\n",
      "1           4.9          3.0           1.4          0.2\n",
      "2           4.7          3.2           1.3          0.2\n",
      "3           4.6          3.1           1.5          0.2\n",
      "4           5.0          3.6           1.4          0.2\n",
      "0    setosa\n",
      "1    setosa\n",
      "2    setosa\n",
      "3    setosa\n",
      "4    setosa\n",
      "Name: species, dtype: object\n"
     ]
    }
   ],
   "source": [
    "# sepal_length, sepal_width, petal_leangth, petal_width 를 가지고 species를\n",
    "#분류하는 모델을 만드는 경우\n",
    "\n",
    "#특징 배열\n",
    "X = iris.drop('species', axis=1)\n",
    "print(X.head())\n",
    "\n",
    "#타겟 배열\n",
    "y = iris['species']\n",
    "print(y.head())"
   ]
  },
  {
   "cell_type": "code",
   "execution_count": null,
   "id": "c292d023",
   "metadata": {},
   "outputs": [],
   "source": []
  }
 ],
 "metadata": {
  "kernelspec": {
   "display_name": "Python 3 (ipykernel)",
   "language": "python",
   "name": "python3"
  },
  "language_info": {
   "codemirror_mode": {
    "name": "ipython",
    "version": 3
   },
   "file_extension": ".py",
   "mimetype": "text/x-python",
   "name": "python",
   "nbconvert_exporter": "python",
   "pygments_lexer": "ipython3",
   "version": "3.9.7"
  }
 },
 "nbformat": 4,
 "nbformat_minor": 5
}
