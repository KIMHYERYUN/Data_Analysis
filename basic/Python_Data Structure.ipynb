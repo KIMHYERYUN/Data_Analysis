{
 "cells": [
  {
   "cell_type": "markdown",
   "id": "62a3d30a",
   "metadata": {},
   "source": [
    "데이터 구조화"
   ]
  },
  {
   "cell_type": "markdown",
   "id": "710fe6b5",
   "metadata": {},
   "source": [
    "크로스 탭 - 도수 분포표"
   ]
  },
  {
   "cell_type": "code",
   "execution_count": 4,
   "id": "633ef7bc",
   "metadata": {},
   "outputs": [
    {
     "name": "stdout",
     "output_type": "stream",
     "text": [
      "    id fac_1 fac_2\n",
      "0  id1     a     d\n",
      "1  id2     a     d\n",
      "2  id3     a     d\n",
      "3  id1     b     c\n",
      "4  id2     b     c\n",
      "5  id3     b     d\n",
      "\n",
      "fac_2  c  d\n",
      "fac_1      \n",
      "a      0  3\n",
      "b      2  1\n"
     ]
    }
   ],
   "source": [
    "import numpy as pd\n",
    "import pandas as pd\n",
    "\n",
    "data = pd.DataFrame({'id':['id1', 'id2', 'id3', 'id1', 'id2', 'id3'],\n",
    "                    'fac_1':['a', 'a', 'a', 'b', 'b', 'b'],\n",
    "                    'fac_2':['d', 'd', 'd', 'c', 'c', 'd']})\n",
    "\n",
    "print(data)\n",
    "print()\n",
    "\n",
    "#분류를 하고 난 후 성능을 확인할 때 많이 수행\n",
    "print(pd.crosstab(data.fac_1, data.fac_2))"
   ]
  }
 ],
 "metadata": {
  "kernelspec": {
   "display_name": "Python 3 (ipykernel)",
   "language": "python",
   "name": "python3"
  },
  "language_info": {
   "codemirror_mode": {
    "name": "ipython",
    "version": 3
   },
   "file_extension": ".py",
   "mimetype": "text/x-python",
   "name": "python",
   "nbconvert_exporter": "python",
   "pygments_lexer": "ipython3",
   "version": "3.9.7"
  }
 },
 "nbformat": 4,
 "nbformat_minor": 5
}
