{
 "cells": [
  {
   "cell_type": "markdown",
   "id": "e54e256a",
   "metadata": {},
   "source": [
    "OOP(Object Oriented Programming - 객체 지향 프로그래밍)"
   ]
  },
  {
   "cell_type": "markdown",
   "id": "1645a9a2",
   "metadata": {},
   "source": [
    "#클래스 와 인스턴스 생성 및 인스턴스 메서드 호출\n",
    "\n",
    "#용어\n",
    "1)Compile Time & Run Time\n",
    "=>Compile Time: 실행 될 수 있는 코드를 만드는 시점\n",
    "=>Run Time: 실행 될 때\n",
    "\n",
    "2)Static Binding & Dynamic Binding\n",
    "=>Static Binding(정적 바인딩): Compile Time 에 결정하는 것\n",
    "=>Dynamic Binding(동적 바인딩): Runtime에 결정하는 것\n",
    "\n",
    "3)Encapsulation(캡슐화)\n",
    "=>불필요한 정보는 숨기고 중요한 정보만을 외부로 노출하는 것 - Information Hiding(정보 은닉)\n",
    "=>연관된 작업(Method) 과 데이터(Property, Attribute, Field 등)를 묶어서 표현\n",
    "=>클래스를 만드는 것 과 인스턴스를 만드는 작업\n",
    "\n",
    "4)Inheritance(상속)\n",
    "=>상위 클래스의 모든 것을 하위 클래스가 물려 받는 것\n",
    "=>직접 구현하는 경우는 여러 클래스들에 유사한 코드가 존재하는 경우 그 코드를 상위 클래스(Super Class, Based Class)에 만들고 하위 클래스(Sub Class, Derived Class)에서 상속받아서 사용\n",
    "=>프레임워크는 자주 사용할 만한 클래스를 만들어두고 우리가 상속을 받아서 사용하는 형태 - Sub Classing\n",
    "\n",
    "5)Polymorphism(다형성)\n",
    "=>동일한 메시지에 대하여 다르게 반응하는 성질\n",
    "=>동일한 코드가 어떤 인스턴스가 대입되었는지에 따라 다른 메서드를 호출하는 것\n",
    "=>상속 과 메서드 오버라이딩을 이용해서 구현"
   ]
  },
  {
   "cell_type": "markdown",
   "id": "544192a2",
   "metadata": {},
   "source": [
    "2.Class - 사용자 정의 자료형\n",
    "1)Class 의 구성\n",
    "=>속성: 데이터를 저장하기 위한 목적을 가진 요소, Property 나 Attribute 또는 field 라고도 함\n",
    "=>메서드: 한 번에 수행되어야 하는 동작을 가진 요소\n",
    "\n",
    "class 클래스이름:\n",
    "\t속성 나열\n",
    "\t메서드 나열\n",
    "\n",
    "2)Instance - 객체\n",
    "=>클래스를 기반으로 해서 만들어진 객체\n",
    "=>파이썬은 동적 바인딩이라서 객체를 만들고 난 후 객체에 요소를 추가하는 것이 가능\n",
    "=>인스턴스 생성\n",
    "클래스이름(매개변수)\n",
    "\n",
    "3)속성이나 메서드 접근\n",
    "=>클래스 안에서는 이름만으로 접근 가능\n",
    "=>클래스 외부에서는 클래스. 이나 인스턴스. 을 붙여서 접근\n",
    "\n",
    "4)클래스 안에 메서드 선언\n",
    "=>클래스 안에 함수를 만들면 메서드가 됩니다.\n",
    "=>클래스 외부에서 인스턴스를 통해서 접근하는 메서드를 만들 때는 무조건 매개변수가 1개 이상있어야 하고 첫번째 매개변수는 무조건 인스턴스 자신입니다.\n",
    "관례상 이 첫번째 매개변수의 이름은 self 로 합니다.\n",
    "=>클래스 안에 만든 인스턴스 메서드를 호출하는 방법\n",
    "인스턴스이름.메서드이름(두번째 매개변수부터 나열): 바운드 호출\n",
    "클래스이름.메서드이름(인스턴스, 두번째 매개변수부터 나열): 언바운드 호출\n",
    "\n",
    "5)속성 생성\n",
    "=>클래스 안에서 메서드 외부에 변수를 선언하면 이 변수는 클래스의 속성이 됩니다.\n",
    "이 속성은 클래스를 통해서 읽을 수 있고 인스턴스를 통해서도 읽을 수도 있습니다.\n",
    "이렇게 만든 속성에 클래스를 통해서 값을 대입하면 클래스의 속성에 값을 대입한 것이지만 인스턴스를 통해서 값을 대입하면 인스턴스가 소유하는 속성을 새로 만들어서 값을 대입합니다.\n",
    "인스턴스를 통해서는 클래스 속성의 값을 변경할 수 없습니다.\n",
    "\n",
    "=>모든 인스턴스가 공통으로 소유하는 속성을 갖고자 할 때는 인스턴스 메서드 안에서 인스턴스.속성이름 의 형태로 만들어야 합니다."
   ]
  },
  {
   "cell_type": "code",
   "execution_count": null,
   "id": "20a6ee20",
   "metadata": {},
   "outputs": [],
   "source": []
  },
  {
   "cell_type": "code",
   "execution_count": null,
   "id": "cfb57dd2",
   "metadata": {},
   "outputs": [],
   "source": []
  },
  {
   "cell_type": "code",
   "execution_count": null,
   "id": "adca882a",
   "metadata": {},
   "outputs": [],
   "source": [
    "\n"
   ]
  },
  {
   "cell_type": "code",
   "execution_count": 1,
   "id": "953a1f5a",
   "metadata": {},
   "outputs": [],
   "source": [
    "#클래스와 인스터스 "
   ]
  },
  {
   "cell_type": "code",
   "execution_count": 32,
   "id": "e0db484c",
   "metadata": {},
   "outputs": [
    {
     "name": "stdout",
     "output_type": "stream",
     "text": [
      "메서드\n",
      "메서드\n",
      "이름은 jayden\n"
     ]
    }
   ],
   "source": [
    "#클래스 생성\n",
    "class Student:\n",
    "    #인스턴스 메서드 생성 - 첫번째 매개변수는 인스턴스 자시\n",
    "    def method1(self):\n",
    "        print(\"메서드\")\n",
    "        \n",
    "    def method2(self, name):\n",
    "        print(f\"이름은 {name}\")\n",
    "        \n",
    "#인스턴스 생성\n",
    "student = Student()\n",
    "#인스턴스를 이용한 메서드 호출 - 바우드 호출\n",
    "student.method1()\n",
    "#클래스를 이용한 인스턴스 메서드 호출 - 언바운드 호출\n",
    "Student.method1(student)\n",
    "\n",
    "student.method2(\"jayden\")"
   ]
  },
  {
   "cell_type": "code",
   "execution_count": null,
   "id": "5823d09e",
   "metadata": {},
   "outputs": [],
   "source": []
  },
  {
   "cell_type": "code",
   "execution_count": 7,
   "id": "0cb3296e",
   "metadata": {},
   "outputs": [],
   "source": [
    "#속성 생성"
   ]
  },
  {
   "cell_type": "code",
   "execution_count": 9,
   "id": "632c6e55",
   "metadata": {},
   "outputs": [
    {
     "ename": "IndentationError",
     "evalue": "expected an indented block (<ipython-input-9-641abb7af083>, line 6)",
     "output_type": "error",
     "traceback": [
      "\u001b[1;36m  File \u001b[1;32m\"<ipython-input-9-641abb7af083>\"\u001b[1;36m, line \u001b[1;32m6\u001b[0m\n\u001b[1;33m    print(Student.name)\u001b[0m\n\u001b[1;37m    ^\u001b[0m\n\u001b[1;31mIndentationError\u001b[0m\u001b[1;31m:\u001b[0m expected an indented block\n"
     ]
    }
   ],
   "source": [
    "class Student:\n",
    "    #클래스의 속성이 됩니다.\n",
    "    #클래스를 통해서 읽을 수 있고 인스턴스를 통해서도 읽을 수 있습니다.\n",
    "    name = \"default\"\n",
    "    \n",
    "#클래스를 이용해서 클래스 속성 접근\n",
    "print(Student.name)\n",
    "#인스턴스를 이용해서 클래스 속성 접근\n",
    "instance = Student()\n",
    "print(instance.name)\n",
    "\n",
    "#클래스를 이용해서 클래스 속성 수정\n",
    "Student.name = \"클래스 속성\"\n",
    "print(Student.name)\n",
    "print(instance.name)\n",
    "\n",
    "#인스턴스를 통해서 수정을 하면 자신에게 없으면 생성\n",
    "#instance에 name속성을 만들어서 대입 - 클래스 속성은 아무런 벼ㄴ화가 없습니다\n",
    "instance.name = \"인스턴스 속성\"\n",
    "print(instance.name)\n"
   ]
  },
  {
   "cell_type": "code",
   "execution_count": 10,
   "id": "11c241e2",
   "metadata": {},
   "outputs": [],
   "source": [
    "#접근자 메서드(Accessor) : 인스턴스 속성에 접근하는 메서드\n",
    "#getter : 속성의 값을 리턴 / get속성이름(첫글자 대문자 or_) \n",
    "#속성의 값이 bool -> get 대신 is / 인스턴스 자신 뿐, 매개변수 없고 속성의 값 리턴 \n",
    "\n",
    "#setter : 속성의 값 변경 / set속성이름\n",
    "#속성의 값이 bool -> 그대로 set / 인스턴스 2개 : 자신, 변경할 데이터 (내용은 매개변수의 값을 속성에 대입)\n",
    "\n",
    "#속성 집단 자료형 -> index, key 매개변수로 받아서 데이터 출력\n"
   ]
  },
  {
   "cell_type": "code",
   "execution_count": 12,
   "id": "713862da",
   "metadata": {},
   "outputs": [
    {
     "name": "stdout",
     "output_type": "stream",
     "text": [
      "KHR : 98\n"
     ]
    }
   ],
   "source": [
    "class Student:\n",
    "    def getName(self):\n",
    "        return self.name\n",
    "    def setName(self, name):\n",
    "        self.name = name\n",
    "        \n",
    "    def getScore(self):\n",
    "        return self.score\n",
    "    def setScore(self, score):\n",
    "        self.score = score\n",
    "        \n",
    "instance = Student()\n",
    "instance.setName(\"KHR\")\n",
    "instance.setScore(\"98\")\n",
    "\n",
    "print(instance.getName(), \":\", instance.getScore())"
   ]
  },
  {
   "cell_type": "code",
   "execution_count": 13,
   "id": "513a2590",
   "metadata": {},
   "outputs": [],
   "source": [
    "#특수한 용도의 속성 : _로 시작하고 _로 끝\n",
    "#_doc_:함수 설명\n",
    "#_name_:함수 이름\n",
    "#속성, 메서드 이름 _ 권장 x"
   ]
  },
  {
   "cell_type": "code",
   "execution_count": 14,
   "id": "f069f8a5",
   "metadata": {},
   "outputs": [],
   "source": [
    "#Constructor(생성자)\n",
    "#_init_\n",
    "#초기화 메서드\n",
    "#인스턴스가 생성될때 호출되는 메서드\n",
    "#생성하지않으면 인스턴스 자신만 있는 초기화 메서드\n"
   ]
  },
  {
   "cell_type": "code",
   "execution_count": 21,
   "id": "28501ef6",
   "metadata": {},
   "outputs": [
    {
     "name": "stdout",
     "output_type": "stream",
     "text": [
      "객체가 소멸된다.\n",
      "KHR : 98\n"
     ]
    }
   ],
   "source": [
    "class Student:\n",
    "    #초기화 메서드: self 이 외 매개변수가 없느 초기화 메서드\n",
    "    #속성의 값을 기본값을 만들기 위한 경우\n",
    "    \n",
    "    #NoArgsContructor, DefaulfConstructor\n",
    "    def __init__(self):\n",
    "        self.name =\"noname\"\n",
    "        self.score=0\n",
    "        \n",
    "    #AllArgsConstructor    \n",
    "    def __init__(self, name, score):\n",
    "        self.name =name\n",
    "        self.score=score\n",
    "        \n",
    "    def getName(self):\n",
    "        return self.name\n",
    "    def setName(self, name):\n",
    "        self.name = name\n",
    "        \n",
    "    def getScore(self):\n",
    "        return self.score\n",
    "    def setScore(self, score):\n",
    "        self.score = score\n",
    "        \n",
    "#instance = Student()\n",
    "#instance.setName(\"KHR\")\n",
    "#instance.setScore(\"98\")\n",
    "\n",
    "instance = Student(name=\"KHR\",score=98)\n",
    "\n",
    "print(instance.getName(), \":\", instance.getScore())\n",
    "\n"
   ]
  },
  {
   "cell_type": "code",
   "execution_count": 22,
   "id": "ee2fc6f6",
   "metadata": {},
   "outputs": [],
   "source": [
    "#소멸자\n",
    "#__del__\n",
    "#인스턴스가 소멸될때 호출되는 메서드\n",
    "#인스턴스 자신을 매개 변수로하는 메서드 하나만 생성가능\n",
    "\n",
    "#인스턴스 소멸\n",
    "#개발자 직접 메모리 해제 불필요 - Garbage Collection\n",
    "#retain count(참조 횟수)\n",
    "#인스턴스 생성하면 1, 소멸하면 0 \n",
    "#변수가 소멸하거나 None 대입 시 -1 감소, 인스턴스를 다르년수가 또 가르키면 1 증가\n",
    "#확인 : sys 모듈의 getrefcount 함수에 인스턴스 대입하면 retain count 리턴 - 원래 값보다 1 증가\n",
    "#getrefcount 함수자체가 인스턴스 참조하기 때문\n",
    "\n",
    "#del p1 \n",
    "\n",
    "#p1 = Person()\n",
    "#소멸하고 생성\n",
    "#p1 = Person()\n",
    "\n",
    "#p1 = None\n",
    "\n",
    "#p1 = Person()\n",
    "#p2 = p1\n",
    "#객체가 두개로 둘다 지워저야 소멸"
   ]
  },
  {
   "cell_type": "code",
   "execution_count": 28,
   "id": "ec6307b8",
   "metadata": {},
   "outputs": [
    {
     "name": "stdout",
     "output_type": "stream",
     "text": [
      "객체가 소멸된다.\n",
      "noname : 0\n",
      "객체가 소멸된다.\n",
      "KHR : 98\n"
     ]
    }
   ],
   "source": [
    "class Student:\n",
    "    \n",
    "    #각 매개변수에 초기값을 지정해주면 없을 시 초기값 적용되고 있을경우 값 출력    \n",
    "    def __init__(self, name=\"noname\", score=0):\n",
    "        self.name = name\n",
    "        self.score = score\n",
    "        \n",
    "    def getName(self):\n",
    "        return self.name\n",
    "    def setName(self, name):\n",
    "        self.name = name\n",
    "        \n",
    "    def getScore(self):\n",
    "        return self.score\n",
    "    def setScore(self, score):\n",
    "        self.score = score\n",
    "        \n",
    "    def __del__(self):\n",
    "        print(\"객체가 소멸된다.\")\n",
    "instance = Student()\n",
    "print(instance.getName(), \":\", instance.getScore())\n",
    "#새로운 객체를 만들게 되고 이전 객체는 가리키는 변수가 없으므로 소멸\n",
    "instance = Student(name=\"KHR\",score=98)\n",
    "print(instance.getName(), \":\", instance.getScore())\n",
    "\n",
    "#어떤 인스턴스를 소멸시키고자 하는 경우는 \n",
    "#인스턴스를 가르키는 변수에 다른 인스턴스를 대입하거나 None 대입\n"
   ]
  },
  {
   "cell_type": "markdown",
   "id": "791b69a4",
   "metadata": {},
   "source": [
    "클래스가 인스턴스 생성없이 호출 가능한 메서드\n",
    "=>static method\n",
    "클래스 안에 메서드를 만들 때 위에 @staticmethod 라고 기재하면 인스턴스를 매개변수로 갖지 않는 메서드를 생성할 수 있습니다.\n",
    "이렇게 특수한 기능을 해주는 @staticmethod 를 파이썬에서는 decorator 라고 합니다.\n",
    "\n",
    "=>class method\n",
    "클래스 안에 메서드를 만들 때 위에 @classmethod 라고 기재하면 클래스 자신을 매개변수로 갖는 메서드를 생성할 수 있습니다."
   ]
  },
  {
   "cell_type": "code",
   "execution_count": 31,
   "id": "53400a25",
   "metadata": {},
   "outputs": [
    {
     "name": "stdout",
     "output_type": "stream",
     "text": [
      "static method\n",
      "class method\n"
     ]
    }
   ],
   "source": [
    "class Student:\n",
    "    #인스턴스 생성없이 클래스가 호출가능한 메서드가 됩니다.\n",
    "    @staticmethod\n",
    "    def staticmethod():\n",
    "        print(\"static method\")\n",
    "\n",
    "    #인스턴스 생성없이 클래스가 호출가능한 메서드가 됩니다.\n",
    "    #이 코드가 있을 때 매개변수 하나를 만들어야 하는데 \n",
    "    #이 매개변수는 클래스에 대한 정보를 가지고 있습니다.\n",
    "    @classmethod\n",
    "    def classmethod(cls):\n",
    "        print(\"class method\")\n",
    "\n",
    "Student.staticmethod()\n",
    "Student.classmethod()  "
   ]
  },
  {
   "cell_type": "code",
   "execution_count": null,
   "id": "8ddccd5f",
   "metadata": {},
   "outputs": [],
   "source": [
    "DTO 클래스"
   ]
  },
  {
   "cell_type": "markdown",
   "id": "9c10a270",
   "metadata": {},
   "source": [
    "__slots__ 속성\n",
    "=>python 의 instance 는 정적이지 않고 동적이라서 생성한 후에도 속성을 추가할 수 있습니다.\n",
    "이렇게 되면 인스턴스의 속성에 제한이 없어서 동일한 클래스로 부터 만들어진 인스턴스라도 가지고 있는 속성이 다르게 되서 하나의 클래스로부터 만들어진 의미가 퇴색됩니다.\n",
    "=>속성에 제한을 두고자 할 때는 클래스 내부에 __slots__ 속성에 속성 이름을 list로 설정하면 됩니다.\n"
   ]
  },
  {
   "cell_type": "markdown",
   "id": "ca65aadc",
   "metadata": {},
   "source": [
    "private\n",
    "=>객체 지향 프로그래밍에서는 외부에서 접근할 필요가 없는 데이터는 private 으로 숨겨서 생성하는 것을 권장합니다.\n",
    "객체 지향 프로그래밍에서는 외부에서 속성에 직접 접근하는 것을 권장하지 않습니다.\n",
    "\n",
    "=>파이썬은 접근 지정자가 없습니다.\n",
    "대신에 속성을 만들 때 앞에 _를 2개 추가하면 외부에서 접근할 수 없는 속성이 됩니다.\n",
    "\n",
    "=>property\n",
    "속성에 메서드를 할당해서 속성을 호출하면 get 메서드가 호출되고 속성에 값을 대입하면 set 메서드가 호출되고 삭제하면 del 메서드가 호출되도록 해주는 문법\n",
    "\n",
    "속성명 = property(fget=get메서드이름, fset=set메서드이름, fdel=del메서드이름)\n",
    "\n"
   ]
  },
  {
   "cell_type": "code",
   "execution_count": 29,
   "id": "99b6971c",
   "metadata": {},
   "outputs": [
    {
     "name": "stdout",
     "output_type": "stream",
     "text": [
      "0 : noname : 0\n"
     ]
    },
    {
     "ename": "AttributeError",
     "evalue": "'VO' object has no attribute 'grade'",
     "output_type": "error",
     "traceback": [
      "\u001b[1;31m---------------------------------------------------------------------------\u001b[0m",
      "\u001b[1;31mAttributeError\u001b[0m                            Traceback (most recent call last)",
      "\u001b[1;32m<ipython-input-29-4d6d0b707a09>\u001b[0m in \u001b[0;36m<module>\u001b[1;34m\u001b[0m\n\u001b[0;32m     13\u001b[0m \u001b[0mprint\u001b[0m\u001b[1;33m(\u001b[0m\u001b[0mvo1\u001b[0m\u001b[1;33m.\u001b[0m\u001b[0mnum\u001b[0m\u001b[1;33m,\u001b[0m \u001b[1;34m\":\"\u001b[0m\u001b[1;33m,\u001b[0m \u001b[0mvo1\u001b[0m\u001b[1;33m.\u001b[0m\u001b[0mname\u001b[0m\u001b[1;33m,\u001b[0m \u001b[1;34m\":\"\u001b[0m\u001b[1;33m,\u001b[0m \u001b[0mvo1\u001b[0m\u001b[1;33m.\u001b[0m\u001b[0mscore\u001b[0m\u001b[1;33m)\u001b[0m\u001b[1;33m\u001b[0m\u001b[1;33m\u001b[0m\u001b[0m\n\u001b[0;32m     14\u001b[0m \u001b[1;31m#기존 클래스에서 정의한 속성이외의 속성 추가 - 에러가 발생\u001b[0m\u001b[1;33m\u001b[0m\u001b[1;33m\u001b[0m\u001b[1;33m\u001b[0m\u001b[0m\n\u001b[1;32m---> 15\u001b[1;33m \u001b[0mvo1\u001b[0m\u001b[1;33m.\u001b[0m\u001b[0mgrade\u001b[0m \u001b[1;33m=\u001b[0m \u001b[1;36m3\u001b[0m\u001b[1;33m\u001b[0m\u001b[1;33m\u001b[0m\u001b[0m\n\u001b[0m\u001b[0;32m     16\u001b[0m \u001b[0mprint\u001b[0m\u001b[1;33m(\u001b[0m\u001b[0mvo1\u001b[0m\u001b[1;33m.\u001b[0m\u001b[0mnum\u001b[0m\u001b[1;33m,\u001b[0m \u001b[1;34m\":\"\u001b[0m\u001b[1;33m,\u001b[0m \u001b[0mvo1\u001b[0m\u001b[1;33m.\u001b[0m\u001b[0mname\u001b[0m\u001b[1;33m,\u001b[0m \u001b[1;34m\":\"\u001b[0m\u001b[1;33m,\u001b[0m \u001b[0mvo1\u001b[0m\u001b[1;33m.\u001b[0m\u001b[0mscore\u001b[0m\u001b[1;33m,\u001b[0m \u001b[1;34m\":\"\u001b[0m \u001b[1;33m,\u001b[0m \u001b[0mvo1\u001b[0m\u001b[1;33m.\u001b[0m\u001b[0mgrade\u001b[0m\u001b[1;33m)\u001b[0m\u001b[1;33m\u001b[0m\u001b[1;33m\u001b[0m\u001b[0m\n",
      "\u001b[1;31mAttributeError\u001b[0m: 'VO' object has no attribute 'grade'"
     ]
    }
   ],
   "source": [
    "class VO:\n",
    "    def __init__(self, num=0, name=\"noname\", score=0):\n",
    "        self.num = num\n",
    "        self.name = name\n",
    "        self.score = score\n",
    "    \n",
    "    #속성 제한 - 나열한 속성 이외의 속성을 가질 수 없음\n",
    "    __slots__ = [\"num\", \"name\", \"score\"]\n",
    "        \n",
    "    \n",
    "    \n",
    "vo1 = VO()\n",
    "print(vo1.num, \":\", vo1.name, \":\", vo1.score)\n",
    "#기존 클래스에서 정의한 속성이외의 속성 추가 - 에러가 발생\n",
    "vo1.grade = 3\n",
    "print(vo1.num, \":\", vo1.name, \":\", vo1.score, \":\" , vo1.grade)"
   ]
  },
  {
   "cell_type": "code",
   "execution_count": 30,
   "id": "1092c0fe",
   "metadata": {},
   "outputs": [
    {
     "name": "stdout",
     "output_type": "stream",
     "text": [
      "name 의 setter 호출\n",
      "name 의 getter 호출\n",
      "김좌진\n"
     ]
    }
   ],
   "source": [
    "class Student:\n",
    "    def __init__(self, name=\"noname\", score=0):\n",
    "        #속성 앞에 __를 추가하면 외부에서는 접근이 안됩니다.\n",
    "        self.__name = name\n",
    "        self.__score = score\n",
    "    \n",
    "    #name에 대한 getter\n",
    "    def getName(self):\n",
    "        print(\"name 의 getter 호출\")\n",
    "        return self.__name\n",
    "    #name 에 대한 setter\n",
    "    def setName(self, name):\n",
    "        print(\"name 의 setter 호출\")\n",
    "        self.__name = name\n",
    "    #name 속성을 외부에서 호출하면 getName 과 setName 메서드가 호출됩니다.\n",
    "    name = property(getName, setName)\n",
    "        \n",
    "student = Student(\"남자현\", 99)\n",
    "student.name = \"김좌진\"\n",
    "print(student.name)\n"
   ]
  },
  {
   "cell_type": "code",
   "execution_count": null,
   "id": "6f01c83d",
   "metadata": {},
   "outputs": [],
   "source": []
  }
 ],
 "metadata": {
  "kernelspec": {
   "display_name": "Python 3",
   "language": "python",
   "name": "python3"
  },
  "language_info": {
   "codemirror_mode": {
    "name": "ipython",
    "version": 3
   },
   "file_extension": ".py",
   "mimetype": "text/x-python",
   "name": "python",
   "nbconvert_exporter": "python",
   "pygments_lexer": "ipython3",
   "version": "3.8.8"
  }
 },
 "nbformat": 4,
 "nbformat_minor": 5
}
