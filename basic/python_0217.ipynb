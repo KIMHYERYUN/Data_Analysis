{
 "cells": [
  {
   "cell_type": "markdown",
   "id": "66eb5afc",
   "metadata": {},
   "source": [
    "# 데이터 전처리"
   ]
  },
  {
   "cell_type": "code",
   "execution_count": 1,
   "id": "5d7d028d",
   "metadata": {},
   "outputs": [],
   "source": [
    "import numpy as np\n",
    "import pandas as pd\n",
    "import seaborn as sns\n",
    "import sklearn \n",
    "\n",
    "#시각화 패키지\n",
    "import matplotlib.pyplot as plt\n",
    "\n",
    "#시각화 할 때 한글을 출력할 수 있도록 하기 위해서\n",
    "import platform\n",
    "from matplotlib import font_manager, rc\n",
    "\n",
    "\n",
    "#한글 처리\n",
    "#매킨토시의 경우\n",
    "if platform.system() == 'Darwin':\n",
    "    rc('font', family='AppleGothic')\n",
    "#윈도우의 경우\n",
    "elif platform.system() == 'Windows':\n",
    "    font_name = font_manager.FontProperties(\n",
    "        fname=\"c:/Windows/Fonts/malgun.ttf\").get_name()\n",
    "    rc('font', family=font_name)\n"
   ]
  },
  {
   "cell_type": "markdown",
   "id": "b4ce7050",
   "metadata": {},
   "source": [
    "## 수치 데이터"
   ]
  },
  {
   "cell_type": "markdown",
   "id": "1cabbcfb",
   "metadata": {},
   "source": [
    "### 이상치 감지"
   ]
  },
  {
   "cell_type": "code",
   "execution_count": 2,
   "id": "dc2ebf6b",
   "metadata": {},
   "outputs": [
    {
     "name": "stdout",
     "output_type": "stream",
     "text": [
      "(array([1], dtype=int64), array([0], dtype=int64))\n"
     ]
    }
   ],
   "source": [
    "#z-score를 이용하는 방법\n",
    "#z-score: (데이터-평균)/표준편차 가 절대값으로 3이 넘는 경우 이상치\n",
    "#z-score를 이용한 이상치 감지를 위한 함수\n",
    "def outliers_z_score(ys):\n",
    "    #임계값 설정\n",
    "    threshold = 3\n",
    "    #평균 구하기\n",
    "    mean_y = np.mean(ys)\n",
    "    #표준편차 구하기\n",
    "    stdev_y = np.std(ys)\n",
    "    #z_score 구하기\n",
    "    z_scores = [(y - mean_y) / stdev_y for y in ys]\n",
    "    #이상치를 검출한 후 인덱스를 리턴\n",
    "    return np.where(np.abs(z_scores) > threshold)\n",
    "\n",
    "\n",
    "features = np.array([[10,10,7,6,4,5,3,3],\n",
    "                    [15000,10,7,6,4,2,2,2]])\n",
    "print(outliers_z_score(features))\n",
    "\n"
   ]
  },
  {
   "cell_type": "code",
   "execution_count": 4,
   "id": "89f58f1b",
   "metadata": {},
   "outputs": [
    {
     "name": "stdout",
     "output_type": "stream",
     "text": [
      "(array([1], dtype=int64), array([0], dtype=int64))\n"
     ]
    }
   ],
   "source": [
    "#z-score를 보정 - MAD(중위 절대 편차)\n",
    "def outliers_modified_z_score(ys):\n",
    "    #임계값 설정\n",
    "    threshold = 3.5\n",
    "    #중앙값 구하기\n",
    "    median_y = np.median(ys)\n",
    "    #편차값 구하기\n",
    "    median_absolute_deviation_y = np.median([np.abs(y-median_y) for y in ys])\n",
    "    #보정한 z_score 구하기\n",
    "    median_z_scores = [0.6745 * (y - median_y) / median_absolute_deviation_y  for y in ys]\n",
    "    #이상치를 검출한 후 인덱스를 리턴\n",
    "    return np.where(np.abs(median_z_scores) > threshold)\n",
    "\n",
    "features = np.array([[10,10,7,6,4,5,3,3],\n",
    "                    [15000,10,7,6,4,2,2,2]])\n",
    "print(outliers_modified_z_score(features))"
   ]
  },
  {
   "cell_type": "code",
   "execution_count": 5,
   "id": "476d2e65",
   "metadata": {},
   "outputs": [
    {
     "name": "stdout",
     "output_type": "stream",
     "text": [
      "하한: -4.125\n",
      "상한: 14.875\n",
      "(array([1], dtype=int64), array([0], dtype=int64))\n"
     ]
    }
   ],
   "source": [
    "#IQR을 이용하는 방법 - (3사분위수-1사분위수)\n",
    "#1사분위수에서 IQR*1.5 한 값을 뺀 것보다 적거나 \n",
    "#3사분위수에서 IQR*1.5 한 값을 더한 것보다 큰 경우\n",
    "def outliers_iqr(ys):\n",
    "    #1사분위수 와 3사분위수 구하기\n",
    "    q1, q3 = np.percentile(ys, [25, 75])\n",
    "    iqr = q3 - q1\n",
    "    #경계값 계산\n",
    "    lower_bound = q1 - (iqr * 1.5)\n",
    "    upper_bound = q3 + (iqr * 1.5)\n",
    "    print(\"하한:\", lower_bound)\n",
    "    print(\"상한:\", upper_bound)\n",
    "    return np.where((ys < lower_bound) | (ys > upper_bound))\n",
    "    \n",
    "features = np.array([[10,10,7,6,4,5,3,3],\n",
    "                    [15000,10,7,6,4,2,2,2]])\n",
    "print(outliers_iqr(features))"
   ]
  },
  {
   "cell_type": "code",
   "execution_count": 10,
   "id": "e599969b",
   "metadata": {},
   "outputs": [
    {
     "name": "stdout",
     "output_type": "stream",
     "text": [
      "[[-2.74335100e+00  8.78014917e+00]\n",
      " [ 2.00000000e+03  1.50000000e+03]\n",
      " [-3.52202874e+00  9.32853346e+00]\n",
      " [-2.26723535e+00  7.10100588e+00]\n",
      " [-2.97261532e+00  8.54855637e+00]\n",
      " [-1.04354885e+00  8.78850983e+00]\n",
      " [-1.86150908e+00  1.05373160e+01]\n",
      " [-2.97867201e+00  9.55684617e+00]\n",
      " [-4.23411546e+00  8.45199860e+00]\n",
      " [-9.29984808e-01  9.78172086e+00]]\n"
     ]
    },
    {
     "data": {
      "text/plain": [
       "array([ 1, -1,  1,  1,  1,  1,  1,  1,  1,  1])"
      ]
     },
     "execution_count": 10,
     "metadata": {},
     "output_type": "execute_result"
    }
   ],
   "source": [
    "#일정 비율을 이상치로 설정\n",
    "from sklearn.covariance import EllipticEnvelope\n",
    "\n",
    "#10퍼센트를 이상치로 간주하는 객체 생성\n",
    "outlier_detector = EllipticEnvelope(contamination = 0.1)\n",
    "\n",
    "#샘플 데이터 생성\n",
    "from sklearn.datasets import make_blobs\n",
    "features, _ = make_blobs(n_samples = 10,\n",
    "                        n_features = 2,\n",
    "                        centers = 1,\n",
    "                        random_state = 42)\n",
    "#1번 행의 데이터를 이상치로 변경\n",
    "features[1,0] = 2000\n",
    "features[1,1] = 1500\n",
    "print(features)\n",
    "\n",
    "#훈련\n",
    "outlier_detector.fit(features)\n",
    "#예측\n",
    "outlier_detector.predict(features)"
   ]
  },
  {
   "cell_type": "code",
   "execution_count": null,
   "id": "6b8f7ab2",
   "metadata": {},
   "outputs": [],
   "source": []
  },
  {
   "cell_type": "markdown",
   "id": "839f555d",
   "metadata": {},
   "source": [
    "### 이상치 처리를 위한 특성 변환"
   ]
  },
  {
   "cell_type": "code",
   "execution_count": 18,
   "id": "96ff1200",
   "metadata": {},
   "outputs": [
    {
     "name": "stdout",
     "output_type": "stream",
     "text": [
      "[[-0.01010101]\n",
      " [ 0.        ]\n",
      " [ 1.98989899]]\n",
      "[[-0.71247036]\n",
      " [-0.7017296 ]\n",
      " [ 1.41419997]]\n",
      "[[0.        ]\n",
      " [0.00505051]\n",
      " [1.        ]]\n"
     ]
    }
   ],
   "source": [
    "houses = pd.DataFrame()\n",
    "houses['price'] = [534433, 392333, 203222]\n",
    "houses['bathrooms'] = [2, 3, 200]\n",
    "houses['square_feet'] = [1500, 2500, 2000]\n",
    "\n",
    "#print(houses)\n",
    "\n",
    "#새로운 특성 추가 - bathrooms 가 20이 넘는 경우 새로운 특성으로 변환\n",
    "houses['outlier'] = np.where(houses['bathrooms'] < 20, 0, 1)\n",
    "#print(houses)\n",
    "\n",
    "#변환 - 로그 변환\n",
    "houses['log_square_feet'] = [np.log(x) for x in houses['square_feet']]\n",
    "#print(houses)\n",
    "\n",
    "#스케일링\n",
    "#이상치에 덜 민감한 스케일링\n",
    "scaler = sklearn.preprocessing.RobustScaler()\n",
    "scaler.fit(houses[['bathrooms']])\n",
    "print(scaler.transform(houses[['bathrooms']]))\n",
    "#이상치에 민감한 스케일링\n",
    "scaler = sklearn.preprocessing.StandardScaler()\n",
    "scaler.fit(houses[['bathrooms']])\n",
    "print(scaler.transform(houses[['bathrooms']]))\n",
    "\n",
    "scaler = sklearn.preprocessing.MinMaxScaler()\n",
    "scaler.fit(houses[['bathrooms']])\n",
    "print(scaler.transform(houses[['bathrooms']]))"
   ]
  },
  {
   "cell_type": "code",
   "execution_count": null,
   "id": "cfd43cca",
   "metadata": {},
   "outputs": [],
   "source": []
  },
  {
   "cell_type": "markdown",
   "id": "d4b5b9a7",
   "metadata": {},
   "source": [
    "### 결측치 확인"
   ]
  },
  {
   "cell_type": "code",
   "execution_count": 24,
   "id": "361fd6e5",
   "metadata": {},
   "outputs": [
    {
     "name": "stdout",
     "output_type": "stream",
     "text": [
      "688\n"
     ]
    }
   ],
   "source": [
    "#seaborn 의 titanic 데이터 가져오기\n",
    "titanic = sns.load_dataset('titanic')\n",
    "\n",
    "#RangeIndex 의 개수 와 열의 데이터 개수가 맞지 않으면 결측치가 존재\n",
    "#titanic.info()\n",
    "\n",
    "#각 데이터의 개수를 리턴 - 옵션이 없으면 None 은 제외\n",
    "#print(titanic['deck'].value_counts())\n",
    "\n",
    "#None 을 제외하지 않고 리턴\n",
    "#print(titanic['deck'].value_counts(dropna = False))\n",
    "\n",
    "#isnull 이용\n",
    "print(titanic['deck'].isnull().sum(axis=0))"
   ]
  },
  {
   "cell_type": "code",
   "execution_count": null,
   "id": "5e2c2915",
   "metadata": {},
   "outputs": [],
   "source": []
  },
  {
   "cell_type": "markdown",
   "id": "307c28d6",
   "metadata": {},
   "source": [
    "### 결측치 처리"
   ]
  },
  {
   "cell_type": "code",
   "execution_count": 29,
   "id": "d6111b18",
   "metadata": {},
   "outputs": [
    {
     "name": "stdout",
     "output_type": "stream",
     "text": [
      "[[ 1.1 11.1]\n",
      " [ 2.1 21.1]\n",
      " [ 3.1 31.1]\n",
      " [ 4.1 41.1]]\n",
      "<class 'pandas.core.frame.DataFrame'>\n",
      "RangeIndex: 891 entries, 0 to 890\n",
      "Data columns (total 14 columns):\n",
      " #   Column       Non-Null Count  Dtype   \n",
      "---  ------       --------------  -----   \n",
      " 0   survived     891 non-null    int64   \n",
      " 1   pclass       891 non-null    int64   \n",
      " 2   sex          891 non-null    object  \n",
      " 3   age          714 non-null    float64 \n",
      " 4   sibsp        891 non-null    int64   \n",
      " 5   parch        891 non-null    int64   \n",
      " 6   fare         891 non-null    float64 \n",
      " 7   embarked     889 non-null    object  \n",
      " 8   class        891 non-null    category\n",
      " 9   who          891 non-null    object  \n",
      " 10  adult_male   891 non-null    bool    \n",
      " 11  embark_town  889 non-null    object  \n",
      " 12  alive        891 non-null    object  \n",
      " 13  alone        891 non-null    bool    \n",
      "dtypes: bool(2), category(1), float64(2), int64(4), object(5)\n",
      "memory usage: 79.4+ KB\n",
      "<class 'pandas.core.frame.DataFrame'>\n",
      "Int64Index: 714 entries, 0 to 890\n",
      "Data columns (total 14 columns):\n",
      " #   Column       Non-Null Count  Dtype   \n",
      "---  ------       --------------  -----   \n",
      " 0   survived     714 non-null    int64   \n",
      " 1   pclass       714 non-null    int64   \n",
      " 2   sex          714 non-null    object  \n",
      " 3   age          714 non-null    float64 \n",
      " 4   sibsp        714 non-null    int64   \n",
      " 5   parch        714 non-null    int64   \n",
      " 6   fare         714 non-null    float64 \n",
      " 7   embarked     712 non-null    object  \n",
      " 8   class        714 non-null    category\n",
      " 9   who          714 non-null    object  \n",
      " 10  adult_male   714 non-null    bool    \n",
      " 11  embark_town  712 non-null    object  \n",
      " 12  alive        714 non-null    object  \n",
      " 13  alone        714 non-null    bool    \n",
      "dtypes: bool(2), category(1), float64(2), int64(4), object(5)\n",
      "memory usage: 69.2+ KB\n"
     ]
    }
   ],
   "source": [
    "#결측치 제거\n",
    "features = np.array([\n",
    "    [1.1, 11.1], \n",
    "    [2.1, 21.1], \n",
    "    [3.1, 31.1], \n",
    "    [4.1, 41.1], \n",
    "    [np.nan, 51.1]])\n",
    "#print(features)\n",
    "\n",
    "#~ 연산자를 이용한 None 제거\n",
    "#isnan 이 True 인 데이터를 제외하고 가져오기\n",
    "print(features[~np.isnan(features).any(axis=1)])\n",
    "\n",
    "#None 의 개수가 500개 이상인 열 제거\n",
    "titanic_thresh = titanic.dropna(axis=1, thresh=500)\n",
    "titanic_thresh.info()\n",
    "\n",
    "#age 가 None 인 데이터 삭제\n",
    "titanic_age = titanic_thresh.dropna(subset=['age'], how='any')\n",
    "titanic_age.info()"
   ]
  },
  {
   "cell_type": "code",
   "execution_count": 33,
   "id": "75b69808",
   "metadata": {},
   "outputs": [
    {
     "name": "stdout",
     "output_type": "stream",
     "text": [
      "825     Queenstown\n",
      "826    Southampton\n",
      "827      Cherbourg\n",
      "828     Queenstown\n",
      "829            NaN\n",
      "830      Cherbourg\n",
      "831    Southampton\n",
      "832      Cherbourg\n",
      "833    Southampton\n",
      "834    Southampton\n",
      "Name: embark_town, dtype: object\n",
      "825     Queenstown\n",
      "826    Southampton\n",
      "827      Cherbourg\n",
      "828     Queenstown\n",
      "829     Queenstown\n",
      "830      Cherbourg\n",
      "831    Southampton\n",
      "832      Cherbourg\n",
      "833    Southampton\n",
      "834    Southampton\n",
      "Name: embark_town, dtype: object\n"
     ]
    }
   ],
   "source": [
    "#결측치 대체\n",
    "#829 번째 데이터에 NaN이 있음\n",
    "print(titanic['embark_town'][825:835])\n",
    "\n",
    "#이전 값으로 채우기\n",
    "#ffill 대신에 bfill 가능\n",
    "#method를 제거하고 다른 값으로 작성해도 됨\n",
    "titanic['embark_town'].fillna(method='ffill', inplace=True)\n",
    "print(titanic['embark_town'][825:835])"
   ]
  },
  {
   "cell_type": "code",
   "execution_count": 35,
   "id": "9bdb45d1",
   "metadata": {},
   "outputs": [
    {
     "name": "stdout",
     "output_type": "stream",
     "text": [
      "825     Queenstown\n",
      "826    Southampton\n",
      "827      Cherbourg\n",
      "828     Queenstown\n",
      "829    Southampton\n",
      "830      Cherbourg\n",
      "831    Southampton\n",
      "832      Cherbourg\n",
      "833    Southampton\n",
      "834    Southampton\n",
      "Name: embark_town, dtype: object\n"
     ]
    }
   ],
   "source": [
    "#가장 자주 등장하는 데이터로 채우기\n",
    "titanic = sns.load_dataset('titanic')\n",
    "\n",
    "#embark_town 의 값의 개수를 확인\n",
    "mode = titanic['embark_town'].value_counts()\n",
    "#print(mode)\n",
    "\n",
    "#결측치를 가장 빈번히 등장하는 단어로 채우기\n",
    "titanic['embark_town'].fillna(mode.idxmax(), inplace=True)\n",
    "print(titanic['embark_town'][825:835])"
   ]
  },
  {
   "cell_type": "code",
   "execution_count": 40,
   "id": "0f99b951",
   "metadata": {},
   "outputs": [
    {
     "name": "stdout",
     "output_type": "stream",
     "text": [
      "880    25.0\n",
      "881    33.0\n",
      "882    22.0\n",
      "883    28.0\n",
      "884    25.0\n",
      "885    39.0\n",
      "886    27.0\n",
      "887    19.0\n",
      "888     NaN\n",
      "889    26.0\n",
      "Name: age, dtype: float64\n",
      "28.0\n",
      "[28.]\n"
     ]
    }
   ],
   "source": [
    "#중간값으로 대체 - SimpleImputer 이용\n",
    "from sklearn.impute import SimpleImputer\n",
    "\n",
    "#None 데이터 확인\n",
    "print(titanic['age'][880:890])\n",
    "#중간값 확인\n",
    "print(titanic['age'].median())\n",
    "\n",
    "#중간값으로 대체\n",
    "simple_imputer = SimpleImputer(strategy='median')\n",
    "result = simple_imputer.fit_transform(titanic[['age']])\n",
    "#채워진 데이터 확인\n",
    "print(result[888])"
   ]
  },
  {
   "cell_type": "code",
   "execution_count": 43,
   "id": "061e40f7",
   "metadata": {},
   "outputs": [
    {
     "name": "stdout",
     "output_type": "stream",
     "text": [
      "[[100.         200.        ]\n",
      " [200.         400.        ]\n",
      " [150.         300.        ]\n",
      " [190.         380.        ]\n",
      " [200.         400.00000394]]\n"
     ]
    }
   ],
   "source": [
    "#머신러닝으로 값을 유추해서 채우기\n",
    "from fancyimpute import KNN\n",
    "\n",
    "features = np.array([\n",
    "    [100,200], [200, 400], [150, 300], [190, 380], [200, np.nan]])\n",
    "\n",
    "print(KNN(k=5, verbose=0).fit_transform(features))"
   ]
  },
  {
   "cell_type": "code",
   "execution_count": null,
   "id": "fa1495aa",
   "metadata": {},
   "outputs": [],
   "source": []
  },
  {
   "cell_type": "markdown",
   "id": "65577b35",
   "metadata": {},
   "source": [
    "## 범주형 데이터 - category"
   ]
  },
  {
   "cell_type": "markdown",
   "id": "7a2fd8de",
   "metadata": {},
   "source": [
    "### one hot encoding"
   ]
  },
  {
   "cell_type": "code",
   "execution_count": 54,
   "id": "c8bbc14e",
   "metadata": {},
   "outputs": [
    {
     "name": "stdout",
     "output_type": "stream",
     "text": [
      "     저출력  보통출력  고출력\n",
      "0      0     1    0\n",
      "1      0     1    0\n",
      "2      0     1    0\n",
      "3      0     1    0\n",
      "4      0     1    0\n",
      "..   ...   ...  ...\n",
      "393    1     0    0\n",
      "394    1     0    0\n",
      "395    1     0    0\n",
      "396    1     0    0\n",
      "397    1     0    0\n",
      "\n",
      "[392 rows x 3 columns]\n"
     ]
    }
   ],
   "source": [
    "mpg = pd.read_csv('./data/auto-mpg.csv', header=None)\n",
    "\n",
    "#열이름 설정\n",
    "mpg.columns = ['mpg', 'cylinders', 'displacement', 'horsepower',\n",
    "              'weight', 'acceleration', 'model year', 'origin',\n",
    "              'name']\n",
    "#mpg.info()\n",
    "\n",
    "#horsepower 를 3개의 구간으로 분할\n",
    "\n",
    "#실수로 변환하기 위해서 ?를 None으로 치환\n",
    "mpg['horsepower'].replace('?', np.nan, inplace=True)\n",
    "#horsepower 가 None 인 행을 삭제\n",
    "mpg.dropna(subset=['horsepower'], axis=0, inplace=True)\n",
    "#실수로 변환\n",
    "mpg['horsepower'] = mpg['horsepower'].astype('float')\n",
    "#mpg.info()\n",
    "\n",
    "\n",
    "#구간의 이름을 생성\n",
    "bin_names = ['저출력', '보통출력', '고출력']\n",
    "#구간의 경계값을 생성\n",
    "count, bin_dividers = np.histogram(mpg['horsepower'], bins=3)\n",
    "#print(bin_dividers)\n",
    "\n",
    "\n",
    "#구간 분할\n",
    "mpg['hp_bin'] = pd.cut(x=mpg['horsepower'],\n",
    "                      bins=bin_dividers,\n",
    "                      labels=bin_names,\n",
    "                      include_lowest=True)\n",
    "#print(mpg)\n",
    "\n",
    "#원핫인코딩\n",
    "#범주형 데이터의 개수만큼 컬럼이 생성되고\n",
    "#자신의 값에 해당하는 컬럼에만 1을 대입하고 나머지는 0\n",
    "horsepower_dummies = pd.get_dummies(mpg['hp_bin'])\n",
    "print(horsepower_dummies)"
   ]
  },
  {
   "cell_type": "code",
   "execution_count": 55,
   "id": "04993494",
   "metadata": {},
   "outputs": [
    {
     "name": "stdout",
     "output_type": "stream",
     "text": [
      "[[0 1 0]\n",
      " [0 1 0]\n",
      " [0 1 0]\n",
      " ...\n",
      " [0 0 1]\n",
      " [0 0 1]\n",
      " [0 0 1]]\n"
     ]
    }
   ],
   "source": [
    "#sklearn 을 이용한 원 핫 인코딩\n",
    "\n",
    "from sklearn import preprocessing\n",
    "\n",
    "one_hot = preprocessing.LabelBinarizer()\n",
    "print(one_hot.fit_transform(mpg['hp_bin']))"
   ]
  },
  {
   "cell_type": "code",
   "execution_count": 59,
   "id": "6dbb7df6",
   "metadata": {},
   "outputs": [
    {
     "name": "stdout",
     "output_type": "stream",
     "text": [
      "[[0 1 0 1]\n",
      " [1 0 0 1]\n",
      " [1 1 0 0]\n",
      " [0 1 1 0]\n",
      " [0 0 1 1]]\n",
      "['C++' 'Java' 'Javascript' 'Python']\n"
     ]
    }
   ],
   "source": [
    "#여러 개의 특성을 원 핫 인코딩\n",
    "multiclass_feature = [(\"Python\", \"Java\"), \n",
    "                     (\"C++\", \"Python\"), \n",
    "                     (\"C++\", \"Java\"),\n",
    "                     (\"Java\", \"Javascript\"),\n",
    "                     (\"Python\", \"Javascript\")]\n",
    "\n",
    "one_hot_multiclass = preprocessing.MultiLabelBinarizer()\n",
    "print(one_hot_multiclass.fit_transform(multiclass_feature))\n",
    "print(one_hot_multiclass.classes_)\n",
    "\n"
   ]
  },
  {
   "cell_type": "code",
   "execution_count": 60,
   "id": "d4287cbf",
   "metadata": {},
   "outputs": [
    {
     "name": "stdout",
     "output_type": "stream",
     "text": [
      "[1 1 1 1 1 0 0 0 0 0 0 1 1 0 2 2 2 2 2 2 2 2 2 1 2 0 0 0 0 2 2 2 2 2 2 2 2\n",
      " 1 0 1 1 0 0 0 1 2 2 2 2 2 2 2 2 2 2 2 2 2 2 2 2 1 0 1 1 1 0 1 1 0 2 1 1 1\n",
      " 1 1 2 2 2 2 2 2 2 2 0 1 1 1 1 0 1 1 1 0 0 0 2 2 2 2 2 2 1 1 0 0 2 2 2 2 2\n",
      " 2 2 2 1 0 2 2 2 1 1 1 1 0 2 2 2 2 2 2 2 2 1 2 1 1 1 1 1 2 2 2 2 2 2 2 2 2\n",
      " 2 2 2 2 2 2 0 1 1 1 1 2 1 2 1 1 1 2 2 2 2 2 2 2 2 2 2 2 2 2 1 2 2 2 2 2 2\n",
      " 1 1 1 1 2 2 2 2 2 2 2 2 2 2 1 2 2 2 2 2 2 1 2 1 1 0 1 1 1 2 2 2 2 2 1 1 1\n",
      " 1 1 2 2 2 0 0 0 1 2 2 2 2 2 2 2 2 2 1 1 2 2 2 2 2 1 1 1 2 2 2 2 2 2 2 2 1\n",
      " 1 1 1 1 1 2 2 2 2 2 2 2 2 2 1 1 1 2 2 1 2 2 2 1 1 1 1 1 1 1 1 1 2 2 2 2 2\n",
      " 1 2 2 2 2 2 2 2 1 1 2 2 2 2 2 2 2 2 2 2 2 2 2 2 2 2 2 2 2 2 2 2 2 2 1 2 2\n",
      " 2 2 2 2 1 2 2 2 2 2 2 2 2 2 2 2 2 2 2 2 2 2 2 1 1 1 2 2 2 2 2 2 2 2 2 2 2\n",
      " 2 2 2 2 2 2 2 2 2 2 1 2 2 1 2 2 2 2 2 2 2 2]\n"
     ]
    }
   ],
   "source": [
    "#하나의 컬럼에 일련번호 형태로 원 핫 인코딩\n",
    "label_encoder =  preprocessing.LabelEncoder()\n",
    "print(label_encoder.fit_transform(mpg['hp_bin']))"
   ]
  },
  {
   "cell_type": "code",
   "execution_count": 62,
   "id": "2bab4315",
   "metadata": {},
   "outputs": [
    {
     "name": "stdout",
     "output_type": "stream",
     "text": [
      "  (0, 2)\t1.0\n",
      "  (0, 4)\t1.0\n",
      "  (1, 1)\t1.0\n",
      "  (1, 5)\t1.0\n",
      "  (2, 0)\t1.0\n",
      "  (2, 4)\t1.0\n",
      "  (3, 3)\t1.0\n",
      "  (3, 5)\t1.0\n",
      "[[0. 0. 1. 0. 1. 0.]\n",
      " [0. 1. 0. 0. 0. 1.]\n",
      " [1. 0. 0. 0. 1. 0.]\n",
      " [0. 0. 0. 1. 0. 1.]]\n"
     ]
    }
   ],
   "source": [
    "#희소행렬로 표현 - 0이 아주 많은 행렬이라서 0이 아닌 좌표만 가지고 있습니다.\n",
    "\n",
    "features = [[\"Java\", 1], [\"C++\", 2], [\"C#\", 1], [\"Python\", 2]]\n",
    "\n",
    "onehot_encoder = preprocessing.OneHotEncoder()\n",
    "print(onehot_encoder.fit_transform(features))\n",
    "\n",
    "#밀집행렬로 표현 - 원핫 인코딩 과 유사한 결과\n",
    "onehot_encoder = preprocessing.OneHotEncoder(sparse=False)\n",
    "print(onehot_encoder.fit_transform(features))"
   ]
  },
  {
   "cell_type": "code",
   "execution_count": null,
   "id": "09f3d348",
   "metadata": {},
   "outputs": [],
   "source": []
  },
  {
   "cell_type": "markdown",
   "id": "ce369c31",
   "metadata": {},
   "source": [
    "### 순서가 있는 경우의 변환"
   ]
  },
  {
   "cell_type": "code",
   "execution_count": 64,
   "id": "26472dd1",
   "metadata": {},
   "outputs": [
    {
     "name": "stdout",
     "output_type": "stream",
     "text": [
      "   점수  encoder\n",
      "0  저조        1\n",
      "1  보통        2\n",
      "2  우수        3\n",
      "3  보통        2\n",
      "4  저조        1\n"
     ]
    }
   ],
   "source": [
    "df = pd.DataFrame({\"점수\":[\"저조\", \"보통\", \"우수\", \"보통\", \"저조\"]})\n",
    "#print(df)\n",
    "\n",
    "scale_mapper = {\"저조\":1, \"보통\":2, \"우수\":3}\n",
    "\n",
    "df['encoder'] = df['점수'].replace(scale_mapper)\n",
    "print(df)"
   ]
  },
  {
   "cell_type": "code",
   "execution_count": 66,
   "id": "f2398564",
   "metadata": {},
   "outputs": [
    {
     "name": "stdout",
     "output_type": "stream",
     "text": [
      "[[1. 0.]\n",
      " [0. 2.]\n",
      " [2. 1.]]\n"
     ]
    }
   ],
   "source": [
    "# 문자열이나 숫자(문자로 취급)를 정렬해서 인코딩\n",
    "features = np.array([[\"Low\", 10], \n",
    "                    [\"High\", 3],\n",
    "                    [\"Medium\", 27]])\n",
    "\n",
    "ordinal_encoder = preprocessing.OrdinalEncoder()\n",
    "print(ordinal_encoder.fit_transform(features))"
   ]
  },
  {
   "cell_type": "code",
   "execution_count": null,
   "id": "a8daf8f6",
   "metadata": {},
   "outputs": [],
   "source": []
  },
  {
   "cell_type": "markdown",
   "id": "3d066989",
   "metadata": {},
   "source": [
    "### Dictionary를 특성 행렬로 변환"
   ]
  },
  {
   "cell_type": "code",
   "execution_count": 69,
   "id": "21214759",
   "metadata": {},
   "outputs": [
    {
     "name": "stdout",
     "output_type": "stream",
     "text": [
      "[[4. 2. 0.]\n",
      " [3. 4. 0.]\n",
      " [0. 1. 2.]\n",
      " [0. 2. 2.]]\n"
     ]
    },
    {
     "name": "stderr",
     "output_type": "stream",
     "text": [
      "C:\\ProgramData\\Anaconda3\\lib\\site-packages\\sklearn\\utils\\deprecation.py:87: FutureWarning: Function get_feature_names is deprecated; get_feature_names is deprecated in 1.0 and will be removed in 1.2. Please use get_feature_names_out instead.\n",
      "  warnings.warn(msg, category=FutureWarning)\n"
     ]
    },
    {
     "data": {
      "text/plain": [
       "['Blue', 'Red', 'Yellow']"
      ]
     },
     "execution_count": 69,
     "metadata": {},
     "output_type": "execute_result"
    }
   ],
   "source": [
    "data_dict = [{\"Red\":2, \"Blue\":4}, \n",
    "            {\"Red\":4, \"Blue\":3},\n",
    "            {\"Red\":1, \"Yellow\": 2},\n",
    "            {\"Red\":2, \"Yellow\": 2}]\n",
    "\n",
    "from sklearn.feature_extraction import DictVectorizer\n",
    "\n",
    "dictVectorizer = DictVectorizer(sparse=False)\n",
    "print(dictVectorizer.fit_transform(data_dict))\n",
    "\n",
    "dictVectorizer.get_feature_names()"
   ]
  },
  {
   "cell_type": "code",
   "execution_count": null,
   "id": "884fc821",
   "metadata": {},
   "outputs": [],
   "source": []
  },
  {
   "cell_type": "markdown",
   "id": "0abbd02e",
   "metadata": {},
   "source": [
    "### 결측치 대체"
   ]
  },
  {
   "cell_type": "code",
   "execution_count": 71,
   "id": "e680e3ea",
   "metadata": {},
   "outputs": [
    {
     "name": "stdout",
     "output_type": "stream",
     "text": [
      "[[ 0.    2.1   1.45]\n",
      " [ 1.    1.18  1.33]\n",
      " [ 0.    1.22  1.27]\n",
      " [ 1.   -0.22 -1.19]]\n",
      "[[ nan 0.87 1.31]\n",
      " [ nan 0.67 0.22]]\n"
     ]
    }
   ],
   "source": [
    "#데이터 생성\n",
    "X = np.array([[0, 2.10, 1.45], \n",
    "             [1, 1.18, 1.33],\n",
    "             [0, 1.22, 1.27], \n",
    "             [1, -0.22, -1.19]])\n",
    "\n",
    "y = np.array([[np.nan, 0.87, 1.31],\n",
    "             [np.nan, 0.67, 0.22]])\n",
    "\n",
    "print(X)\n",
    "print(y)"
   ]
  },
  {
   "cell_type": "code",
   "execution_count": 76,
   "id": "62cda658",
   "metadata": {},
   "outputs": [
    {
     "name": "stdout",
     "output_type": "stream",
     "text": [
      "[0. 1.]\n",
      "[[0.   0.87 1.31]\n",
      " [1.   0.67 0.22]]\n"
     ]
    },
    {
     "data": {
      "text/plain": [
       "array([[ 0.  ,  2.1 ,  1.45],\n",
       "       [ 1.  ,  1.18,  1.33],\n",
       "       [ 0.  ,  1.22,  1.27],\n",
       "       [ 1.  , -0.22, -1.19],\n",
       "       [ 0.  ,  0.87,  1.31],\n",
       "       [ 1.  ,  0.67,  0.22]])"
      ]
     },
     "execution_count": 76,
     "metadata": {},
     "output_type": "execute_result"
    }
   ],
   "source": [
    "# 머신러닝으로 대체\n",
    "from sklearn.neighbors import KNeighborsClassifier\n",
    "\n",
    "clf = KNeighborsClassifier(3, weights='distance')\n",
    "\n",
    "#1번열 이후의 데이터를 가지고 0번 열을 예측하는 모델을 생성\n",
    "train_model = clf.fit(X[:, 1:], X[:, 0])\n",
    "#예측\n",
    "imputed_values = train_model.predict(y[:, 1:])\n",
    "print(imputed_values)\n",
    "\n",
    "#대체\n",
    "#imputed_values 를 2차원으로 변환해서 합치기\n",
    "y_with_imputed = np.hstack(\n",
    "    (imputed_values.reshape(-1, 1), y[:, 1:]))\n",
    "print(y_with_imputed)\n",
    "\n",
    "#대체된 데이터와 X 를 위아래로 합치기\n",
    "np.vstack((X, y_with_imputed))"
   ]
  },
  {
   "cell_type": "code",
   "execution_count": 82,
   "id": "e45954fd",
   "metadata": {},
   "outputs": [
    {
     "name": "stdout",
     "output_type": "stream",
     "text": [
      "[[ 0.    2.1   1.45]\n",
      " [ 1.    1.18  1.33]\n",
      " [ 0.    1.22  1.27]\n",
      " [ 1.   -0.22 -1.19]\n",
      " [  nan  0.87  1.31]\n",
      " [  nan  0.67  0.22]]\n"
     ]
    },
    {
     "data": {
      "text/plain": [
       "array([[ 0.  ,  2.1 ,  1.45],\n",
       "       [ 1.  ,  1.18,  1.33],\n",
       "       [ 0.  ,  1.22,  1.27],\n",
       "       [ 1.  , -0.22, -1.19],\n",
       "       [ 0.  ,  0.87,  1.31],\n",
       "       [ 0.  ,  0.67,  0.22]])"
      ]
     },
     "execution_count": 82,
     "metadata": {},
     "output_type": "execute_result"
    }
   ],
   "source": [
    "#가장 많이 등장하는 데이터로 대체\n",
    "X_complete = np.vstack((X, y))\n",
    "print(X_complete)\n",
    "\n",
    "from sklearn.impute import SimpleImputer\n",
    "imputer = SimpleImputer(strategy='most_frequent')\n",
    "imputer.fit_transform(X_complete)"
   ]
  },
  {
   "cell_type": "code",
   "execution_count": null,
   "id": "033c4a3a",
   "metadata": {},
   "outputs": [],
   "source": []
  },
  {
   "cell_type": "markdown",
   "id": "353c6e60",
   "metadata": {},
   "source": [
    "### 불균형한 데이터"
   ]
  },
  {
   "cell_type": "code",
   "execution_count": 84,
   "id": "94aebdca",
   "metadata": {},
   "outputs": [
    {
     "name": "stdout",
     "output_type": "stream",
     "text": [
      "RandomForestClassifier(class_weight={0: 0.9, 1: 0.1})\n",
      "RandomForestClassifier(class_weight='balanced')\n"
     ]
    }
   ],
   "source": [
    "#가중치를 설정해서 모델을 생성\n",
    "from sklearn.ensemble import RandomForestClassifier\n",
    "\n",
    "#가중치를 설정\n",
    "weights = {0:0.9, 1:0.1}\n",
    "#모델 생성시 설정\n",
    "rfc = RandomForestClassifier(class_weight=weights)\n",
    "print(rfc)\n",
    "\n",
    "rfc = RandomForestClassifier(class_weight=\"balanced\")\n",
    "print(rfc)"
   ]
  },
  {
   "cell_type": "code",
   "execution_count": 91,
   "id": "6511f0f9",
   "metadata": {},
   "outputs": [
    {
     "data": {
      "text/plain": [
       "array([0, 0, 0, 0, 0, 0, 0, 0, 0, 0, 0, 0, 0, 0, 0, 0, 0, 0, 0, 0, 0, 0,\n",
       "       0, 0, 0, 0, 0, 0, 0, 0, 0, 0, 0, 0, 0, 0, 0, 0, 0, 0, 0, 0, 0, 0,\n",
       "       0, 0, 0, 0, 0, 0, 0, 0, 0, 0, 0, 0, 0, 0, 0, 0, 0, 0, 0, 0, 0, 0,\n",
       "       0, 0, 0, 0, 0, 0, 0, 0, 0, 0, 0, 0, 0, 0, 0, 0, 0, 0, 0, 0, 0, 0,\n",
       "       0, 0, 0, 0, 0, 0, 0, 0, 0, 0, 0, 0, 1, 1, 1, 1, 1, 1, 1, 1, 1, 1,\n",
       "       1, 1, 1, 1, 1, 1, 1, 1, 1, 1, 1, 1, 1, 1, 1, 1, 1, 1, 1, 1, 1, 1,\n",
       "       1, 1, 1, 1, 1, 1, 1, 1, 1, 1, 1, 1, 1, 1, 1, 1, 1, 1, 1, 1, 1, 1,\n",
       "       1, 1, 1, 1, 1, 1, 1, 1, 1, 1, 1, 1, 1, 1, 1, 1, 1, 1, 1, 1, 1, 1,\n",
       "       1, 1, 1, 1, 1, 1, 1, 1, 1, 1, 1, 1, 1, 1, 1, 1, 1, 1, 1, 1, 1, 1,\n",
       "       1, 1])"
      ]
     },
     "execution_count": 91,
     "metadata": {},
     "output_type": "execute_result"
    }
   ],
   "source": [
    "# 다운 샘플링 과 업 샘플링\n",
    "# 0번은 10개 1번은 100개\n",
    "li1 = []\n",
    "for i in range(0,10, 1):\n",
    "    li1.append(0)\n",
    "    \n",
    "li2 = []\n",
    "for i in range(0,100,1):\n",
    "    li2.append(1)\n",
    "    \n",
    "target = np.array(li1 + li2)\n",
    "#print(target)\n",
    "\n",
    "#0 번과 1번의 인덱스를 추출\n",
    "i_class0 = np.where(target == 0)[0]\n",
    "i_class1 = np.where(target == 1)[0]\n",
    "#print(i_class0)\n",
    "#print(i_class1)\n",
    "\n",
    "#데이터의 개수 확인\n",
    "n_class0 = len(i_class0)\n",
    "n_class1 = len(i_class1)\n",
    "\n",
    "#다운 샘플링 - 랜덤하게 추출\n",
    "i_class1_downsampled = np.random.choice(i_class1, size=n_class0,\n",
    "                                       replace = False)\n",
    "#print(i_class1_downsampled)\n",
    "\n",
    "np.hstack((target[i_class0], target[i_class1_downsampled]))\n",
    "\n",
    "#업 샘플링\n",
    "i_class0_upsampled = np.random.choice(i_class0, size=n_class1,\n",
    "                                       replace = True)\n",
    "np.hstack((target[i_class0_upsampled], target[i_class1]))"
   ]
  },
  {
   "cell_type": "code",
   "execution_count": null,
   "id": "da0d0bf0",
   "metadata": {},
   "outputs": [],
   "source": []
  },
  {
   "cell_type": "markdown",
   "id": "7d1a9130",
   "metadata": {},
   "source": [
    "## 텍스트 데이터"
   ]
  },
  {
   "cell_type": "markdown",
   "id": "1d272675",
   "metadata": {},
   "source": [
    "### 파이썬의 str 클래스에서 제공하는 함수를 이용한 가공"
   ]
  },
  {
   "cell_type": "code",
   "execution_count": 96,
   "id": "20fecf7f",
   "metadata": {},
   "outputs": [
    {
     "name": "stdout",
     "output_type": "stream",
     "text": [
      "['I am a boy.', ' You are a girl.', 'He is a Programmer.']\n",
      "['I am a boy.', 'You are a girl.', 'He is a Programmer.']\n",
      "['I AM A BOY.', 'YOU ARE A GIRL.', 'HE IS A PROGRAMMER.']\n",
      "['I AM A BOY', 'YOU ARE A GIRL', 'HE IS A PROGRAMMER']\n",
      "['IAMABOY', 'YOUAREAGIRL', 'HEISAPROGRAMMER']\n"
     ]
    }
   ],
   "source": [
    "text_data = ['I am a boy.', \n",
    "             ' You are a girl.',\n",
    "             'He is a Programmer.']\n",
    "print(text_data)\n",
    "#좌우 공백 문자를 제거\n",
    "strip_text = [string.strip() for string in text_data]\n",
    "print(strip_text)\n",
    "\n",
    "#모두 대문자로 만들기\n",
    "upper_text = [string.upper() for string in strip_text]\n",
    "print(upper_text)\n",
    "\n",
    "#.을 삭제\n",
    "replace_text = [string.replace('.', '') for string in upper_text]\n",
    "print(replace_text)\n",
    "\n",
    "replace_text = [string.replace(' ', '') for string in replace_text]\n",
    "print(replace_text)"
   ]
  },
  {
   "cell_type": "code",
   "execution_count": null,
   "id": "3757da24",
   "metadata": {},
   "outputs": [],
   "source": []
  }
 ],
 "metadata": {
  "kernelspec": {
   "display_name": "Python 3 (ipykernel)",
   "language": "python",
   "name": "python3"
  },
  "language_info": {
   "codemirror_mode": {
    "name": "ipython",
    "version": 3
   },
   "file_extension": ".py",
   "mimetype": "text/x-python",
   "name": "python",
   "nbconvert_exporter": "python",
   "pygments_lexer": "ipython3",
   "version": "3.9.7"
  }
 },
 "nbformat": 4,
 "nbformat_minor": 5
}
