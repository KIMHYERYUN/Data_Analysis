{
 "cells": [
  {
   "cell_type": "markdown",
   "id": "4c17d8cd",
   "metadata": {},
   "source": [
    "# OpenCV_Image_Area_Processing"
   ]
  },
  {
   "cell_type": "code",
   "execution_count": 2,
   "id": "8349bb32",
   "metadata": {},
   "outputs": [],
   "source": [
    "import cv2\n",
    "import numpy as np\n",
    "import time\n",
    "import matplotlib.pyplot as plt"
   ]
  },
  {
   "cell_type": "markdown",
   "id": "a2af6d09",
   "metadata": {},
   "source": [
    "## 블러링 - 이미지를 점진적으로 변하게 해서 부드러운 느낌이 나도록 하는 것"
   ]
  },
  {
   "cell_type": "markdown",
   "id": "01c49919",
   "metadata": {},
   "source": [
    "### 직접 구현"
   ]
  },
  {
   "cell_type": "code",
   "execution_count": 9,
   "id": "dce99842",
   "metadata": {},
   "outputs": [],
   "source": [
    "#이미지 가져오기 - 흑백으로 변환해서 가져오기\n",
    "image = cv2.imread(\"./data/filter_blur.jpg\", cv2.IMREAD_GRAYSCALE)\n",
    "#이미지 출력\n",
    "cv2.imshow(\"image\", image)\n",
    "\n",
    "#블러링을 적용할 마스크 행렬 - 홀수의 정방행렬로 생성\n",
    "# 3 X 3 행렬로 생성\n",
    "data = [1/9, 1/9, 1/9,\n",
    "       1/9, 1/9, 1/9,\n",
    "       1/9, 1/9, 1/9]\n",
    "mask = np.array(data, np.float32).reshape(3, 3)\n",
    "#print(mask)\n",
    "\n",
    "##회선 수행 - 화소에 직접 접근\n",
    "\n",
    "#행과 열의 수 구하기\n",
    "rows, cols = image.shape[:2]\n",
    "\n",
    "#원본의 행 과 열의 크기로 회선 결과를 저장할 행렬을 생성\n",
    "dst = np.zeros((rows, cols), np.float32)\n",
    "\n",
    "#마스크 중심 좌표 찾아오기\n",
    "xcenter, ycenter = mask.shape[1]//2, mask.shape[0]//2\n",
    "\n",
    "#회선 수행 - 맨 왼쪽 과 오른쪽은 회선을 돌릴 수가 없으므로 0부터 시작하면 안됨\n",
    "for i in range(ycenter, rows - ycenter):\n",
    "    for j in range(xcenter, cols - xcenter):\n",
    "        sum = 0.0\n",
    "        for u in range(mask.shape[0]):\n",
    "            for v in range(mask.shape[1]):\n",
    "                y = i + u - ycenter\n",
    "                x = j + v - xcenter\n",
    "                sum += image[y, x] * mask[u, v]\n",
    "        dst[i, j] = sum\n",
    "        \n",
    "cv2.imshow(\"pixel\", dst.astype(\"uint8\"))       \n",
    "\n",
    "#키보드를 누르면 종료하는 코드\n",
    "cv2.waitKey(0)\n",
    "cv2.destroyAllWindows()"
   ]
  },
  {
   "cell_type": "code",
   "execution_count": null,
   "id": "f5c39864",
   "metadata": {},
   "outputs": [],
   "source": []
  },
  {
   "cell_type": "markdown",
   "id": "f968cea2",
   "metadata": {},
   "source": [
    "## Shapening: 이미지를 날카롭게 만드는 작업"
   ]
  },
  {
   "cell_type": "code",
   "execution_count": 16,
   "id": "a777440a",
   "metadata": {},
   "outputs": [],
   "source": [
    "#이미지 가져오기 - 흑백으로 변환해서 가져오기\n",
    "image = cv2.imread(\"./data/filter_sharpen.jpg\", cv2.IMREAD_GRAYSCALE)\n",
    "#이미지 출력\n",
    "cv2.imshow(\"image\", image)\n",
    "\n",
    "#2개의 마스크 생성\n",
    "data1 = [0, -1, 0, \n",
    "      -1, 5, -1,\n",
    "      0, -1, 0]\n",
    "\n",
    "data2 = [-1, -1, -1, \n",
    "      -1, 9, -1,\n",
    "      -1, -1, -1]\n",
    "mask1 = np.array(data1, np.float32).reshape(3, 3)\n",
    "mask2 = np.array(data2, np.float32).reshape(3, 3)\n",
    "\n",
    "#shapening을 위한 회선 수행 함수\n",
    "def filter(image, mask):\n",
    "    #행과 열의 수 구하기\n",
    "    rows, cols = image.shape[:2]\n",
    "\n",
    "    #원본의 행 과 열의 크기로 회선 결과를 저장할 행렬을 생성\n",
    "    dst = np.zeros((rows, cols), np.float32)\n",
    "\n",
    "    #마스크 중심 좌표 찾아오기\n",
    "    xcenter, ycenter = mask.shape[1]//2, mask.shape[0]//2\n",
    "    #회선 수행 - 맨 왼쪽 과 오른쪽은 회선을 돌릴 수가 없으므로 0부터 시작하면 안됨\n",
    "    for i in range(ycenter, rows - ycenter):\n",
    "        for j in range(xcenter, cols - xcenter):\n",
    "            sum = 0.0\n",
    "            for u in range(mask.shape[0]):\n",
    "                for v in range(mask.shape[1]):\n",
    "                    y = i + u - ycenter\n",
    "                    x = j + v - xcenter\n",
    "                    sum += image[y, x] * mask[u, v]\n",
    "            dst[i, j] = sum\n",
    "    return dst\n",
    "\n",
    "#샤프닝을 수행 - 가중치의 합이 1이 넘기 때문에 255가 넘는 수가 나올 수 있음\n",
    "sharpen1 = filter(image, mask1)\n",
    "sharpen2 = filter(image, mask2)\n",
    "#정규화 수행\n",
    "sharpen1 = cv2.convertScaleAbs(sharpen1)\n",
    "sharpen2 = cv2.convertScaleAbs(sharpen2)\n",
    "\n",
    "cv2.imshow(\"sharpen1\", sharpen1)\n",
    "cv2.imshow(\"sharpen2\", sharpen2)\n",
    "\n",
    "#키보드를 누르면 종료하는 코드\n",
    "cv2.waitKey(0)\n",
    "cv2.destroyAllWindows()"
   ]
  },
  {
   "cell_type": "code",
   "execution_count": null,
   "id": "604f3851",
   "metadata": {},
   "outputs": [],
   "source": []
  },
  {
   "cell_type": "markdown",
   "id": "0d5933bd",
   "metadata": {},
   "source": [
    "## 필터 함수 적용"
   ]
  },
  {
   "cell_type": "markdown",
   "id": "f0771ee5",
   "metadata": {},
   "source": [
    "### 이미지 흐리게 하기"
   ]
  },
  {
   "cell_type": "code",
   "execution_count": 19,
   "id": "692765fb",
   "metadata": {},
   "outputs": [
    {
     "name": "stdout",
     "output_type": "stream",
     "text": [
      "[[0.04 0.04 0.04 0.04 0.04]\n",
      " [0.04 0.04 0.04 0.04 0.04]\n",
      " [0.04 0.04 0.04 0.04 0.04]\n",
      " [0.04 0.04 0.04 0.04 0.04]\n",
      " [0.04 0.04 0.04 0.04 0.04]]\n"
     ]
    }
   ],
   "source": [
    "#이미지 가져오기 - 흑백으로 변환해서 가져오기\n",
    "image = cv2.imread(\"./data/plane.jpg\", cv2.IMREAD_GRAYSCALE)\n",
    "\n",
    "#커널 생성\n",
    "kernel = np.ones((5,5)) / 25.0\n",
    "print(kernel)\n",
    "\n",
    "image_kernel = cv2.filter2D(image, -1, kernel)\n",
    "\n",
    "\n",
    "#이미지 출력\n",
    "cv2.imshow(\"image\", image)\n",
    "cv2.imshow(\"image_kernel\", image_kernel)\n",
    "\n",
    "#키보드를 누르면 종료하는 코드\n",
    "cv2.waitKey(0)\n",
    "cv2.destroyAllWindows()"
   ]
  },
  {
   "cell_type": "markdown",
   "id": "15a5d7e3",
   "metadata": {},
   "source": [
    "### 이미지 선명하게 하기"
   ]
  },
  {
   "cell_type": "code",
   "execution_count": 20,
   "id": "93e67a37",
   "metadata": {},
   "outputs": [
    {
     "name": "stdout",
     "output_type": "stream",
     "text": [
      "[[ 0 -1  0]\n",
      " [-1  5 -1]\n",
      " [ 0 -1  0]]\n"
     ]
    }
   ],
   "source": [
    "#이미지 가져오기 - 흑백으로 변환해서 가져오기\n",
    "image = cv2.imread(\"./data/plane.jpg\", cv2.IMREAD_GRAYSCALE)\n",
    "\n",
    "#커널 생성\n",
    "kernel = np.array([[0, -1, 0], [-1, 5, -1], [0, -1, 0]])\n",
    "print(kernel)\n",
    "\n",
    "image_kernel = cv2.filter2D(image, -1, kernel)\n",
    "\n",
    "\n",
    "#이미지 출력\n",
    "cv2.imshow(\"image\", image)\n",
    "cv2.imshow(\"image_kernel\", image_kernel)\n",
    "\n",
    "#키보드를 누르면 종료하는 코드\n",
    "cv2.waitKey(0)\n",
    "cv2.destroyAllWindows()"
   ]
  },
  {
   "cell_type": "markdown",
   "id": "1de9a093",
   "metadata": {},
   "source": [
    "### 로버츠 마스크 - 대각 방향으로 1 과 -1을 배치"
   ]
  },
  {
   "cell_type": "code",
   "execution_count": 26,
   "id": "8a564cb1",
   "metadata": {},
   "outputs": [],
   "source": [
    "def filter(image, mask):\n",
    "    #행과 열의 수 구하기\n",
    "    rows, cols = image.shape[:2]\n",
    "\n",
    "    #원본의 행 과 열의 크기로 회선 결과를 저장할 행렬을 생성\n",
    "    dst = np.zeros((rows, cols), np.float32)\n",
    "\n",
    "    #마스크 중심 좌표 찾아오기\n",
    "    xcenter, ycenter = mask.shape[1]//2, mask.shape[0]//2\n",
    "    #회선 수행 - 맨 왼쪽 과 오른쪽은 회선을 돌릴 수가 없으므로 0부터 시작하면 안됨\n",
    "    for i in range(ycenter, rows - ycenter):\n",
    "        for j in range(xcenter, cols - xcenter):\n",
    "            sum = 0.0\n",
    "            for u in range(mask.shape[0]):\n",
    "                for v in range(mask.shape[1]):\n",
    "                    y = i + u - ycenter\n",
    "                    x = j + v - xcenter\n",
    "                    sum += image[y, x] * mask[u, v]\n",
    "            dst[i, j] = sum\n",
    "    return dst\n",
    "\n",
    "#Robers Mask를 위한 함수\n",
    "def differential(image, data1, data2):\n",
    "    #일차원 리스트를 행렬로 변환\n",
    "    mask1 = np.array(data1, np.float32).reshape(3, 3)\n",
    "    mask2 = np.array(data2, np.float32).reshape(3, 3)\n",
    "    \n",
    "    #회선 수행\n",
    "    dst1 = filter(image, mask1)\n",
    "    dst2 = filter(image, mask2)\n",
    "    \n",
    "    #회선을 수행한 행렬의 크기 계산\n",
    "    dst = cv2.magnitude(dst1, dst2)\n",
    "    \n",
    "    #음수가 있으면 양수로 변환\n",
    "    dst1, dst2 = np.abs(dst1), np.abs(dst2)\n",
    "    \n",
    "    #255가 넘거나 0보다 작은 수가 있으면 잘라내기\n",
    "    dst = np.clip(dst, 0, 255).astype(\"uint8\")\n",
    "    dst1 = np.clip(dst1, 0, 255).astype(\"uint8\")\n",
    "    dst2 = np.clip(dst2, 0, 255).astype(\"uint8\")\n",
    "    \n",
    "    return dst, dst1, dst2\n",
    "    \n",
    "\n",
    "#이미지 가져오기 - 흑백으로 변환해서 가져오기\n",
    "image = cv2.imread(\"./data/edge.jpg\", cv2.IMREAD_GRAYSCALE)\n",
    "\n",
    "\n",
    "#로버츠 마스크를 생성\n",
    "data1 = [-1, 0, 0, \n",
    "        0, 1, 0, \n",
    "        0, 0, 0]\n",
    "\n",
    "data2 = [0, 0, -1, \n",
    "        0, 1, 0, \n",
    "        0, 0, 0]\n",
    "\n",
    "#로버츠 마스크 적용\n",
    "dst, dst1, dst2 = differential(image, data1, data2)\n",
    "\n",
    "#이미지 출력\n",
    "cv2.imshow(\"image\", image)\n",
    "cv2.imshow(\"dst\", dst)\n",
    "cv2.imshow(\"dst1\", dst1)\n",
    "cv2.imshow(\"dst2\", dst2)\n",
    "\n",
    "\n",
    "#키보드를 누르면 종료하는 코드\n",
    "cv2.waitKey(0)\n",
    "cv2.destroyAllWindows()"
   ]
  },
  {
   "cell_type": "markdown",
   "id": "cf791577",
   "metadata": {},
   "source": [
    "### Prewitt Mask - 수직이나 수평 방향으로 -1 과 1을 배치"
   ]
  },
  {
   "cell_type": "code",
   "execution_count": 27,
   "id": "a50ab87f",
   "metadata": {},
   "outputs": [],
   "source": [
    "def filter(image, mask):\n",
    "    #행과 열의 수 구하기\n",
    "    rows, cols = image.shape[:2]\n",
    "\n",
    "    #원본의 행 과 열의 크기로 회선 결과를 저장할 행렬을 생성\n",
    "    dst = np.zeros((rows, cols), np.float32)\n",
    "\n",
    "    #마스크 중심 좌표 찾아오기\n",
    "    xcenter, ycenter = mask.shape[1]//2, mask.shape[0]//2\n",
    "    #회선 수행 - 맨 왼쪽 과 오른쪽은 회선을 돌릴 수가 없으므로 0부터 시작하면 안됨\n",
    "    for i in range(ycenter, rows - ycenter):\n",
    "        for j in range(xcenter, cols - xcenter):\n",
    "            sum = 0.0\n",
    "            for u in range(mask.shape[0]):\n",
    "                for v in range(mask.shape[1]):\n",
    "                    y = i + u - ycenter\n",
    "                    x = j + v - xcenter\n",
    "                    sum += image[y, x] * mask[u, v]\n",
    "            dst[i, j] = sum\n",
    "    return dst\n",
    "\n",
    "#Prewitt Mask를 위한 함수\n",
    "def differential(image, data1, data2):\n",
    "    #일차원 리스트를 행렬로 변환\n",
    "    mask1 = np.array(data1, np.float32).reshape(3, 3)\n",
    "    mask2 = np.array(data2, np.float32).reshape(3, 3)\n",
    "    \n",
    "    #회선 수행\n",
    "    dst1 = filter(image, mask1)\n",
    "    dst2 = filter(image, mask2)\n",
    "    \n",
    "    #회선을 수행한 행렬의 크기 계산\n",
    "    dst = cv2.magnitude(dst1, dst2)\n",
    "    \n",
    "    #음수가 있으면 양수로 변환\n",
    "    dst1, dst2 = np.abs(dst1), np.abs(dst2)\n",
    "    \n",
    "    #255가 넘거나 0보다 작은 수가 있으면 잘라내기\n",
    "    dst = np.clip(dst, 0, 255).astype(\"uint8\")\n",
    "    dst1 = np.clip(dst1, 0, 255).astype(\"uint8\")\n",
    "    dst2 = np.clip(dst2, 0, 255).astype(\"uint8\")\n",
    "    \n",
    "    return dst, dst1, dst2\n",
    "    \n",
    "\n",
    "#이미지 가져오기 - 흑백으로 변환해서 가져오기\n",
    "image = cv2.imread(\"./data/edge.jpg\", cv2.IMREAD_GRAYSCALE)\n",
    "\n",
    "\n",
    "#로버츠 마스크를 생성\n",
    "data1 = [-1, 0, 1, \n",
    "        -1, 0, 1, \n",
    "        -1, 0, 1]\n",
    "\n",
    "data2 = [-1, -1, -1, \n",
    "        0, 0, 0, \n",
    "        1, 1, 1]\n",
    "\n",
    "#프리윗 마스크 적용\n",
    "dst, dst1, dst2 = differential(image, data1, data2)\n",
    "\n",
    "#이미지 출력\n",
    "cv2.imshow(\"image\", image)\n",
    "cv2.imshow(\"dst\", dst)\n",
    "cv2.imshow(\"dst1\", dst1)\n",
    "cv2.imshow(\"dst2\", dst2)\n",
    "\n",
    "\n",
    "#키보드를 누르면 종료하는 코드\n",
    "cv2.waitKey(0)\n",
    "cv2.destroyAllWindows()"
   ]
  },
  {
   "cell_type": "markdown",
   "id": "fed4614e",
   "metadata": {},
   "source": [
    "### 소벨 마스크"
   ]
  },
  {
   "cell_type": "code",
   "execution_count": 31,
   "id": "5d4116dc",
   "metadata": {},
   "outputs": [],
   "source": [
    "image = cv2.imread('./data/rect.jpg', cv2.IMREAD_GRAYSCALE)\n",
    "\n",
    "#소벨 마스크 적용\n",
    "gx = cv2.Sobel(image, cv2.CV_32F, 1, 0, ksize=3)\n",
    "gy = cv2.Sobel(image, cv2.CV_32F, 0, 1, ksize=3)\n",
    "\n",
    "#극좌표로 변환\n",
    "mag, angle = cv2.cartToPolar(gx, gy, angleInDegrees = True)\n",
    "\n",
    "#이미지 이진화\n",
    "ret, edge = cv2.threshold(mag, 100, 255, cv2.THRESH_BINARY)\n",
    "\n",
    "#이미지 출력\n",
    "cv2.imshow(\"image\", image)\n",
    "\n",
    "cv2.imshow(\"gx\", gx)\n",
    "cv2.imshow(\"gy\", gy)\n",
    "cv2.imshow(\"edge\", edge)\n",
    "\n",
    "#키보드를 누르면 종료하는 코드\n",
    "cv2.waitKey(0)\n",
    "cv2.destroyAllWindows()"
   ]
  },
  {
   "cell_type": "code",
   "execution_count": null,
   "id": "967ec088",
   "metadata": {},
   "outputs": [],
   "source": []
  }
 ],
 "metadata": {
  "kernelspec": {
   "display_name": "Python 3 (ipykernel)",
   "language": "python",
   "name": "python3"
  },
  "language_info": {
   "codemirror_mode": {
    "name": "ipython",
    "version": 3
   },
   "file_extension": ".py",
   "mimetype": "text/x-python",
   "name": "python",
   "nbconvert_exporter": "python",
   "pygments_lexer": "ipython3",
   "version": "3.9.7"
  }
 },
 "nbformat": 4,
 "nbformat_minor": 5
}
