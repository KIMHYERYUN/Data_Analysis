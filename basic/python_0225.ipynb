{
 "cells": [
  {
   "cell_type": "code",
   "execution_count": 16,
   "id": "b13f439e",
   "metadata": {},
   "outputs": [],
   "source": [
    "import cv2\n",
    "import numpy as np\n",
    "import matplotlib.pyplot as plt\n",
    "import time"
   ]
  },
  {
   "cell_type": "markdown",
   "id": "65029b8d",
   "metadata": {},
   "source": [
    "# 템플릿 매칭 - 원본 이미지에서 다른 이미지와 동일한 이미지를 찾는 것"
   ]
  },
  {
   "cell_type": "code",
   "execution_count": 15,
   "id": "ec88ecb5",
   "metadata": {},
   "outputs": [
    {
     "name": "stdout",
     "output_type": "stream",
     "text": [
      "3.929205263375479e-07 (18, 20)\n"
     ]
    }
   ],
   "source": [
    "#필요한 이미지 로드\n",
    "src = cv2.imread(\"./data/alphabet.bmp\", cv2.IMREAD_GRAYSCALE)\n",
    "tmp_A = cv2.imread(\"./data/A.bmp\", cv2.IMREAD_GRAYSCALE)\n",
    "tmp_S = cv2.imread(\"./data/S.bmp\", cv2.IMREAD_GRAYSCALE)\n",
    "tmp_b = cv2.imread(\"./data/b.bmp\", cv2.IMREAD_GRAYSCALE)\n",
    "\n",
    "#출력 영상\n",
    "dst = cv2.cvtColor(src, cv2.COLOR_GRAY2BGR)\n",
    "\n",
    "#찾기\n",
    "result_A = cv2.matchTemplate(src, tmp_A, cv2.TM_SQDIFF_NORMED)\n",
    "#찾은 결과의 최소값 과 위치를 찾음\n",
    "minValue, _, minLocation, _ = cv2.minMaxLoc(result_A)\n",
    "print(minValue, minLocation)\n",
    "\n",
    "#찾은 영역에 사각형 그리기\n",
    "\n",
    "#템플릿의 높이와 너비를 계산\n",
    "w, h = tmp_A.shape[:2]\n",
    "cv2.rectangle(dst, minLocation,\n",
    "              (minLocation[0] + h, minLocation[1] + w), (255, 0 , 0), 3)\n",
    "\n",
    "#원본 이미지 확인\n",
    "cv2.imshow(\"dst\", dst)\n",
    "\n",
    "\n",
    "\n",
    "\n",
    "\n",
    "cv2.waitKey(0)\n",
    "cv2.destroyAllWindows()\n"
   ]
  },
  {
   "cell_type": "code",
   "execution_count": null,
   "id": "57abbff4",
   "metadata": {},
   "outputs": [],
   "source": []
  },
  {
   "cell_type": "markdown",
   "id": "f09d60b9",
   "metadata": {},
   "source": [
    "## 크기 변경"
   ]
  },
  {
   "cell_type": "code",
   "execution_count": 29,
   "id": "793ea918",
   "metadata": {},
   "outputs": [
    {
     "name": "stdout",
     "output_type": "stream",
     "text": [
      "(300, 250)\n",
      "반복문 수행 시간: 73.77 ms\n",
      "행렬이용 수행 시간: 3.51 ms\n"
     ]
    }
   ],
   "source": [
    "#필요한 이미지 로드\n",
    "src = cv2.imread(\"./data/scaling.jpg\", cv2.IMREAD_GRAYSCALE)\n",
    "#원본 크기 확인\n",
    "print(src.shape)\n",
    "\n",
    "#반복문을 이용해서 이미지의 크기를 변경하는 방식 - 순방향 사상\n",
    "def scaling_loop(img, size):\n",
    "    start_time = time.perf_counter()\n",
    "    \n",
    "    dst = np.zeros(size[::-1], img.dtype)\n",
    "    #확대 축소 비율 계산\n",
    "    ratioY, ratioX = np.divide(size[::-1], img.shape[:2])\n",
    "  \n",
    "    for y in range(img.shape[0]):\n",
    "        for x in range(img.shape[1]):\n",
    "            i, j = int(y * ratioY), int(x * ratioX)\n",
    "            dst[i, j] = img[y, x]\n",
    "            \n",
    "    elapsed = (time.perf_counter() - start_time) * 1000\n",
    "    print(\"반복문 수행 시간:\", \"%0.2f ms\" % elapsed)\n",
    "    \n",
    "    return dst\n",
    "\n",
    "#행렬 단위 접근을 이용해서 이미지의 크기를 변경하는 방식\n",
    "def scaling_matrix(img, size):\n",
    "    start_time = time.perf_counter()\n",
    "    \n",
    "    dst = np.zeros(size[::-1], img.dtype)\n",
    "    #확대 축소 비율 계산\n",
    "    ratioY, ratioX = np.divide(size[::-1], img.shape[:2])\n",
    "  \n",
    "    y = np.arange(0, img.shape[0], 1)\n",
    "    x = np.arange(0, img.shape[1], 1)\n",
    "    \n",
    "    #격자 그리드 생성\n",
    "    y, x = np.meshgrid(y, x)\n",
    "    i, j = np.int32(y * ratioY), np.int32(x * ratioX)\n",
    "    dst[i,j] = img[y, x]\n",
    "    \n",
    "    elapsed = (time.perf_counter() - start_time) * 1000\n",
    "    print(\"행렬이용 수행 시간:\", \"%0.2f ms\" % elapsed)\n",
    "    \n",
    "    return dst\n",
    "\n",
    "dst_loop = scaling_loop(src, (150, 125))\n",
    "dst_matrix = scaling_matrix(src, (150, 125))\n",
    "#원본 이미지 확인\n",
    "cv2.imshow(\"src\", src)\n",
    "\n",
    "cv2.imshow(\"dst_loop\", dst_loop)\n",
    "cv2.imshow(\"dst_matrix\", dst_matrix)\n",
    "\n",
    "cv2.waitKey(0)\n",
    "cv2.destroyAllWindows()"
   ]
  },
  {
   "cell_type": "code",
   "execution_count": null,
   "id": "2f412dbc",
   "metadata": {},
   "outputs": [],
   "source": []
  },
  {
   "cell_type": "markdown",
   "id": "ccec9572",
   "metadata": {},
   "source": [
    "## 보간"
   ]
  },
  {
   "cell_type": "markdown",
   "id": "9d9e6617",
   "metadata": {},
   "source": [
    "### 최근접 이웃 보간"
   ]
  },
  {
   "cell_type": "code",
   "execution_count": 32,
   "id": "786aa0e8",
   "metadata": {},
   "outputs": [],
   "source": [
    "#필요한 이미지 로드\n",
    "src = cv2.imread(\"./data/scaling.jpg\", cv2.IMREAD_GRAYSCALE)\n",
    "\n",
    "#최근접 이웃 보간\n",
    "def scaling_nearest(img, size):\n",
    "       \n",
    "    dst = np.zeros(size[::-1], img.dtype)\n",
    "    #확대 축소 비율 계산\n",
    "    ratioY, ratioX = np.divide(size[::-1], img.shape[:2])\n",
    "  \n",
    "    i = np.arange(0, size[1], 1)\n",
    "    j = np.arange(0, size[0], 1)\n",
    "    \n",
    "    #격자 그리드 생성\n",
    "    i, j = np.meshgrid(i, j)\n",
    "    \n",
    "    y, x = np.int32(i / ratioY), np.int32(j / ratioX)\n",
    "    dst[i,j] = img[y, x]\n",
    "    \n",
    "    return dst\n",
    "\n",
    "dst_nearest = scaling_nearest(src, (600, 500))\n",
    "\n",
    "#원본 이미지 확인\n",
    "cv2.imshow(\"src\", src)\n",
    "cv2.imshow(\"dst_nearest\", dst_nearest)\n",
    "\n",
    "\n",
    "cv2.waitKey(0)\n",
    "cv2.destroyAllWindows()"
   ]
  },
  {
   "cell_type": "markdown",
   "id": "b74b0ffc",
   "metadata": {},
   "source": [
    "### OpenCV 의 크기 변경 함수의 보간 적용"
   ]
  },
  {
   "cell_type": "code",
   "execution_count": 35,
   "id": "0665b37e",
   "metadata": {},
   "outputs": [],
   "source": [
    "#필요한 이미지 로드\n",
    "src = cv2.imread(\"./data/scaling.jpg\", cv2.IMREAD_GRAYSCALE)\n",
    "\n",
    "#최근접 이웃 보간을 이용한 확대\n",
    "dst_nearest = cv2.resize(src, (600, 500), 0, 0, cv2.INTER_NEAREST)\n",
    "#양선형 보간을 이용한 확대\n",
    "dst_bilinear = cv2.resize(src, (600, 500), 0, 0, cv2.INTER_LINEAR)\n",
    "\n",
    "#원본 이미지 확인\n",
    "cv2.imshow(\"src\", src)\n",
    "cv2.imshow(\"dst_nearest\", dst_nearest)\n",
    "cv2.imshow(\"dst_bilinear\", dst_bilinear)\n",
    "\n",
    "cv2.waitKey(0)\n",
    "cv2.destroyAllWindows()"
   ]
  },
  {
   "cell_type": "code",
   "execution_count": null,
   "id": "7bc71697",
   "metadata": {},
   "outputs": [],
   "source": []
  },
  {
   "cell_type": "markdown",
   "id": "6b7bdf99",
   "metadata": {},
   "source": [
    "## Affine 변환 -  행렬을 이용해서 변환을 수행"
   ]
  },
  {
   "cell_type": "code",
   "execution_count": 39,
   "id": "7fd0c5ba",
   "metadata": {},
   "outputs": [],
   "source": [
    "#필요한 이미지 로드\n",
    "src = cv2.imread(\"./data/affine.jpg\", cv2.IMREAD_GRAYSCALE)\n",
    "\n",
    "#affine 행렬을 만들기 위한 배열\n",
    "pt1 = np.array([(30, 70), (20, 240), (300, 100)], np.float32)\n",
    "pt2 = np.array([(120, 20), (10, 180), (280, 260)], np.float32) \n",
    "\n",
    "aff_mat = cv2.getAffineTransform(pt1, pt2)\n",
    "\n",
    "#affine 행렬을 만들기 위한 데이터\n",
    "center = (200, 200)\n",
    "angle = 30\n",
    "scale = 1\n",
    "\n",
    "rot_mat = cv2.getRotationMatrix2D(center, angle, scale)\n",
    "\n",
    "\n",
    "#affine 행렬을 이용한 변환\n",
    "dst1 = cv2.warpAffine(src, aff_mat, src.shape[::-1], cv2.INTER_LINEAR)\n",
    "dst2 = cv2.warpAffine(src, rot_mat, src.shape[::-1], cv2.INTER_LINEAR)\n",
    "\n",
    "#원본 이미지 확인\n",
    "cv2.imshow(\"src\", src)\n",
    "cv2.imshow(\"dst1\", dst1)\n",
    "cv2.imshow(\"dst2\", dst2)\n",
    "\n",
    "cv2.waitKey(0)\n",
    "cv2.destroyAllWindows()"
   ]
  },
  {
   "cell_type": "code",
   "execution_count": null,
   "id": "2dd9bbbd",
   "metadata": {},
   "outputs": [],
   "source": []
  },
  {
   "cell_type": "markdown",
   "id": "69c25e28",
   "metadata": {},
   "source": [
    "## 원근 투시 변환"
   ]
  },
  {
   "cell_type": "code",
   "execution_count": 43,
   "id": "dd0ae770",
   "metadata": {},
   "outputs": [
    {
     "name": "stdout",
     "output_type": "stream",
     "text": [
      "[[ 6.25789284e-01  3.98298577e-02 -6.88839366e+00]\n",
      " [-5.02676539e-01  1.06358288e+00  5.13923399e+01]\n",
      " [-1.57086418e-03  5.25700042e-04  1.00000000e+00]]\n"
     ]
    }
   ],
   "source": [
    "#필요한 이미지 로드\n",
    "src = cv2.imread(\"./data/perspective.jpg\", cv2.IMREAD_GRAYSCALE)\n",
    "\n",
    "#원근을 적용할 4개의 점 좌표\n",
    "pt1 = np.float32([(80, 40), (315, 133), (75, 300), (335, 300)])\n",
    "#보정된 좌표\n",
    "pt2 = np.float32([(50, 60), (340, 60), (50, 320), (340, 320)])\n",
    "\n",
    "#원근 변환 행렬 생성\n",
    "perspect_mat = cv2.getPerspectiveTransform(pt1, pt2)\n",
    "print(perspect_mat)\n",
    "\n",
    "dst = cv2.warpPerspective(src, perspect_mat, src.shape[1::-1])\n",
    "\n",
    "#원본 이미지 확인\n",
    "cv2.imshow(\"src\", src)\n",
    "cv2.imshow(\"dst\", dst)\n",
    "\n",
    "\n",
    "cv2.waitKey(0)\n",
    "cv2.destroyAllWindows()"
   ]
  },
  {
   "cell_type": "code",
   "execution_count": null,
   "id": "a0cf0750",
   "metadata": {},
   "outputs": [],
   "source": []
  },
  {
   "cell_type": "markdown",
   "id": "dcd7fbc2",
   "metadata": {},
   "source": [
    "# 이미지 분할 - 관심 영역을 분리"
   ]
  },
  {
   "cell_type": "markdown",
   "id": "1a63b6d7",
   "metadata": {},
   "source": [
    "## 에지 검출"
   ]
  },
  {
   "cell_type": "markdown",
   "id": "8c097d8a",
   "metadata": {},
   "source": [
    "### kenny 알고리즘"
   ]
  },
  {
   "cell_type": "code",
   "execution_count": 45,
   "id": "62aacab1",
   "metadata": {},
   "outputs": [],
   "source": [
    "#필요한 이미지 로드\n",
    "src = cv2.imread(\"./data/lena.jpg\", cv2.IMREAD_GRAYSCALE)\n",
    "\n",
    "dst1 = cv2.Canny(src, 50, 200)\n",
    "dst2 = cv2.Canny(src, 50, 100)\n",
    "\n",
    "#원본 이미지 확인\n",
    "cv2.imshow(\"src\", src)\n",
    "cv2.imshow(\"dst1\", dst1)\n",
    "cv2.imshow(\"dst2\", dst2)\n",
    "\n",
    "cv2.waitKey(0)\n",
    "cv2.destroyAllWindows()"
   ]
  },
  {
   "cell_type": "code",
   "execution_count": 47,
   "id": "c25f6d67",
   "metadata": {},
   "outputs": [],
   "source": [
    "#필요한 이미지 로드\n",
    "src = cv2.imread(\"./data/plane_256x256.jpg\", cv2.IMREAD_GRAYSCALE)\n",
    "\n",
    "#중간 픽셀에서 위아래 표준편차 1 정도를 적용\n",
    "median_intensity = np.median(src)\n",
    "\n",
    "lower_threshold = int(max(0, (1.0 - 0.33) * median_intensity))\n",
    "upper_threshold = int(min(255, (1.0 + 0.33) * median_intensity))\n",
    "\n",
    "dst1 = cv2.Canny(src, lower_threshold, upper_threshold)\n",
    "\n",
    "#원본 이미지 확인\n",
    "cv2.imshow(\"src\", src)\n",
    "cv2.imshow(\"dst1\", dst1)\n",
    "\n",
    "cv2.waitKey(0)\n",
    "cv2.destroyAllWindows()"
   ]
  },
  {
   "cell_type": "code",
   "execution_count": null,
   "id": "50b98c0b",
   "metadata": {},
   "outputs": [],
   "source": []
  }
 ],
 "metadata": {
  "kernelspec": {
   "display_name": "Python 3 (ipykernel)",
   "language": "python",
   "name": "python3"
  },
  "language_info": {
   "codemirror_mode": {
    "name": "ipython",
    "version": 3
   },
   "file_extension": ".py",
   "mimetype": "text/x-python",
   "name": "python",
   "nbconvert_exporter": "python",
   "pygments_lexer": "ipython3",
   "version": "3.9.7"
  }
 },
 "nbformat": 4,
 "nbformat_minor": 5
}
