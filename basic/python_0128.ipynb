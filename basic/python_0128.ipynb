{
 "cells": [
  {
   "cell_type": "markdown",
   "id": "347c37f8",
   "metadata": {},
   "source": [
    "# OOP 객체 지향"
   ]
  },
  {
   "cell_type": "markdown",
   "id": "08801965",
   "metadata": {},
   "source": [
    "## 연산자 오버로딩"
   ]
  },
  {
   "cell_type": "code",
   "execution_count": 3,
   "id": "5654c409",
   "metadata": {},
   "outputs": [
    {
     "name": "stdout",
     "output_type": "stream",
     "text": [
      "아담,류시아\n",
      "아담,류시아\n"
     ]
    }
   ],
   "source": [
    "class Student:\n",
    "    def __init__(self, name=\"noname\"):\n",
    "        self.__name = name\n",
    "\n",
    "    def setName(self, name):\n",
    "        print(\"setter 호출\")\n",
    "        self.__name = name\n",
    "\n",
    "    def getName(self):\n",
    "        print(\"getter 호출\")\n",
    "        return self.__name\n",
    "\n",
    "    # + 연산자의 기능을 설정 - 연산자 오버로딩\n",
    "    def __add__(self, other):\n",
    "        return self.name + \",\" +  other.name\n",
    "\n",
    "\n",
    "stu1 = Student()\n",
    "stu1.name = \"아담\"\n",
    "\n",
    "stu2 = Student()\n",
    "stu2.name = \"류시아\"\n",
    "\n",
    "print(stu1 + stu2)\n",
    "print(Student.__add__(stu1, stu2))"
   ]
  },
  {
   "cell_type": "code",
   "execution_count": null,
   "id": "ba986cd9",
   "metadata": {},
   "outputs": [],
   "source": []
  },
  {
   "cell_type": "markdown",
   "id": "5024d8c7",
   "metadata": {},
   "source": [
    "## 상속"
   ]
  },
  {
   "cell_type": "markdown",
   "id": "21106472",
   "metadata": {},
   "source": [
    "### 단일 상속"
   ]
  },
  {
   "cell_type": "code",
   "execution_count": 4,
   "id": "2e3b13b8",
   "metadata": {},
   "outputs": [
    {
     "name": "stdout",
     "output_type": "stream",
     "text": [
      "안녕하세요.\n",
      "공부하기\n"
     ]
    }
   ],
   "source": [
    "class Person:\n",
    "    def greeting(self):\n",
    "        print('안녕하세요.')\n",
    " \n",
    "class Student(Person):\n",
    "    def study(self):\n",
    "        print('공부하기')\n",
    " \n",
    "student = Student()\n",
    "student.greeting()    # 기반 Class Person의 Method 호출\n",
    "student.study()       # 파생 Class Student에 추가한 study Method"
   ]
  },
  {
   "cell_type": "markdown",
   "id": "0b7a3df6",
   "metadata": {},
   "source": [
    "### 상속 관계 확인"
   ]
  },
  {
   "cell_type": "code",
   "execution_count": 6,
   "id": "b00d5d40",
   "metadata": {},
   "outputs": [
    {
     "name": "stdout",
     "output_type": "stream",
     "text": [
      "False\n",
      "True\n"
     ]
    }
   ],
   "source": [
    "print(issubclass(Person, Student))\n",
    "print(issubclass(Student, Person))"
   ]
  },
  {
   "cell_type": "markdown",
   "id": "c1691f12",
   "metadata": {},
   "source": [
    "### 상위 클래스의 메서드 호출"
   ]
  },
  {
   "cell_type": "code",
   "execution_count": null,
   "id": "63f96b29",
   "metadata": {},
   "outputs": [],
   "source": [
    "class Person:\n",
    "    def __init__(self):\n",
    "        print('Person __init__')\n",
    "        self.hello = '안녕하세요.'\n",
    " \n",
    "class Student(Person):\n",
    "    def __init__(self):\n",
    "        print('Student __init__')\n",
    "        super().__init__()                # super()로 기반 Class의 Method 호출\n",
    "        self.school = '파이썬 학교'\n",
    " \n",
    "student = Student()\n",
    "print(student.school)\n",
    "print(student.hello) "
   ]
  },
  {
   "cell_type": "markdown",
   "id": "f62e75ee",
   "metadata": {},
   "source": [
    "### 메서드 오버라이딩"
   ]
  },
  {
   "cell_type": "code",
   "execution_count": 7,
   "id": "da2e9f4b",
   "metadata": {},
   "outputs": [
    {
     "name": "stdout",
     "output_type": "stream",
     "text": [
      "안녕하세요.\n",
      "반갑습니다.\n"
     ]
    }
   ],
   "source": [
    "class Person:\n",
    "    def greeting(self):\n",
    "        print('안녕하세요.')\n",
    "\n",
    "class Student(Person):\n",
    "    def greeting(self):\n",
    "        super().greeting()\n",
    "        print('반갑습니다.')\n",
    "\n",
    "student = Student()\n",
    "student.greeting()"
   ]
  },
  {
   "cell_type": "markdown",
   "id": "bd3dbe87",
   "metadata": {},
   "source": [
    "### 다중 클래스"
   ]
  },
  {
   "cell_type": "code",
   "execution_count": 8,
   "id": "f1a9fd68",
   "metadata": {},
   "outputs": [
    {
     "name": "stdout",
     "output_type": "stream",
     "text": [
      "첫번째 상위 클래스의 초기화 메소드\n",
      "두번째 상위 클래스의 초기화 메소드\n",
      "하위 클래스의 초기화 메소드\n",
      "\n",
      "첫번째 상위 클래스의 메소드\n",
      "두번째 상위 클래스의 메소드\n",
      "하위 클래스의 메소드\n"
     ]
    }
   ],
   "source": [
    "class Base1:\n",
    "    def __init__(self):\n",
    "        print('첫번째 상위 클래스의 초기화 메소드')\n",
    "        \n",
    "    def method(self):\n",
    "        print('첫번째 상위 클래스의 메소드')\n",
    "\n",
    "class Base2:\n",
    "    def __init__(self):\n",
    "        print('두번째 상위 클래스의 초기화 메소드')\n",
    "        \n",
    "    def method(self):\n",
    "        print('두번째 상위 클래스의 메소드')\n",
    "\n",
    "class Derived(Base1, Base2):\n",
    "    def __init__(self):\n",
    "        #첫번째 상위 클래스의 초기화 메소드\n",
    "        super().__init__()\n",
    "        #두번째 상위 클래스의 초기화 메소드\n",
    "        super(Base1, self).__init__()\n",
    "        print('하위 클래스의 초기화 메소드')\n",
    "        \n",
    "    def method(self):\n",
    "        #첫번째 상위 클래스의 method() 호출\n",
    "        super().method()\n",
    "        #두번째 상위 클래스의 method() 호출\n",
    "        super(Base1, self).method()\n",
    "        print('하위 클래스의 메소드')\n",
    "        \n",
    "drived = Derived()\n",
    "print()\n",
    "drived.method()"
   ]
  },
  {
   "cell_type": "code",
   "execution_count": null,
   "id": "2c8fae0b",
   "metadata": {},
   "outputs": [],
   "source": []
  },
  {
   "cell_type": "markdown",
   "id": "8aee964c",
   "metadata": {},
   "source": [
    "## 추상 클래스"
   ]
  },
  {
   "cell_type": "code",
   "execution_count": 9,
   "id": "94e5c4be",
   "metadata": {},
   "outputs": [
    {
     "name": "stdout",
     "output_type": "stream",
     "text": [
      "공부하기\n"
     ]
    }
   ],
   "source": [
    "from abc import abstractmethod\n",
    "from abc import ABCMeta\n",
    "\n",
    "class StudentBase(metaclass=ABCMeta):\n",
    "    @abstractmethod\n",
    "    def study(self):\n",
    "        pass\n",
    "    @abstractmethod\n",
    "    def go_to_school(self):\n",
    "        pass\n",
    "    \n",
    "    def greeting(self):\n",
    "        print(\"Hello\")\n",
    "        \n",
    "        \n",
    "class Student(StudentBase):\n",
    "    def study(self):\n",
    "        print('공부하기')\n",
    "        \n",
    "    def go_to_school(self):\n",
    "        print(\"학교가기\")\n",
    " \n",
    "student = Student()\n",
    "student.study()\n"
   ]
  },
  {
   "cell_type": "code",
   "execution_count": null,
   "id": "4723bf60",
   "metadata": {},
   "outputs": [],
   "source": []
  },
  {
   "cell_type": "markdown",
   "id": "241bdb9d",
   "metadata": {},
   "source": [
    "## Delegation"
   ]
  },
  {
   "cell_type": "code",
   "execution_count": 10,
   "id": "4a1087b7",
   "metadata": {},
   "outputs": [
    {
     "name": "stdout",
     "output_type": "stream",
     "text": [
      "count 호출\n",
      "3\n"
     ]
    }
   ],
   "source": [
    "class Delegation:\n",
    "    def __init__(self, data):\n",
    "        self.data = data\n",
    "\n",
    "    def __getattr__(self, name):\n",
    "        print(name + \" 호출\")\n",
    "        #self.data 의 count Method 호출\n",
    "        return getattr(self.data, name)\n",
    "\n",
    "instance = Delegation([100,200,300,200,200])\n",
    "print(instance.count(200))"
   ]
  },
  {
   "cell_type": "code",
   "execution_count": null,
   "id": "bdbdfb8a",
   "metadata": {},
   "outputs": [],
   "source": []
  },
  {
   "cell_type": "markdown",
   "id": "30f13511",
   "metadata": {},
   "source": [
    "## Iterator"
   ]
  },
  {
   "cell_type": "code",
   "execution_count": 11,
   "id": "0418fb48",
   "metadata": {},
   "outputs": [
    {
     "name": "stdout",
     "output_type": "stream",
     "text": [
      "<list_iterator object at 0x7f81b99ed760>\n",
      "1\n",
      "2\n",
      "3\n"
     ]
    },
    {
     "ename": "StopIteration",
     "evalue": "",
     "output_type": "error",
     "traceback": [
      "\u001b[0;31m---------------------------------------------------------------------------\u001b[0m",
      "\u001b[0;31mStopIteration\u001b[0m                             Traceback (most recent call last)",
      "\u001b[0;32m/var/folders/98/j21dd2qs46b69mwc94dgyxnr0000gn/T/ipykernel_22768/2276836262.py\u001b[0m in \u001b[0;36m<module>\u001b[0;34m\u001b[0m\n\u001b[1;32m      6\u001b[0m \u001b[0mprint\u001b[0m\u001b[0;34m(\u001b[0m\u001b[0mit\u001b[0m\u001b[0;34m.\u001b[0m\u001b[0m__next__\u001b[0m\u001b[0;34m(\u001b[0m\u001b[0;34m)\u001b[0m\u001b[0;34m)\u001b[0m\u001b[0;34m\u001b[0m\u001b[0;34m\u001b[0m\u001b[0m\n\u001b[1;32m      7\u001b[0m \u001b[0mprint\u001b[0m\u001b[0;34m(\u001b[0m\u001b[0mit\u001b[0m\u001b[0;34m.\u001b[0m\u001b[0m__next__\u001b[0m\u001b[0;34m(\u001b[0m\u001b[0;34m)\u001b[0m\u001b[0;34m)\u001b[0m\u001b[0;34m\u001b[0m\u001b[0;34m\u001b[0m\u001b[0m\n\u001b[0;32m----> 8\u001b[0;31m \u001b[0mprint\u001b[0m\u001b[0;34m(\u001b[0m\u001b[0mit\u001b[0m\u001b[0;34m.\u001b[0m\u001b[0m__next__\u001b[0m\u001b[0;34m(\u001b[0m\u001b[0;34m)\u001b[0m\u001b[0;34m)\u001b[0m\u001b[0;34m\u001b[0m\u001b[0;34m\u001b[0m\u001b[0m\n\u001b[0m",
      "\u001b[0;31mStopIteration\u001b[0m: "
     ]
    }
   ],
   "source": [
    "li = [1, 2, 3]\n",
    "it = li.__iter__()\n",
    "#iterator 출력하기\n",
    "print(it)\n",
    "print(it.__next__())\n",
    "print(it.__next__())\n",
    "print(it.__next__())\n",
    "print(it.__next__())"
   ]
  },
  {
   "cell_type": "code",
   "execution_count": 12,
   "id": "22afc24d",
   "metadata": {},
   "outputs": [
    {
     "name": "stdout",
     "output_type": "stream",
     "text": [
      "0 1 2 "
     ]
    }
   ],
   "source": [
    "class IteratorImpl:\n",
    "    def __init__(self, stop):\n",
    "        self.current = 0    # 현재 숫자 유지, 0부터 지정된 숫자 직전까지 반복\n",
    "        self.stop = stop    # 반복을 끝낼 숫자\n",
    " \n",
    "    def __iter__(self):\n",
    "        return self         # 현재 인스턴스를 반환\n",
    " \n",
    "    def __next__(self):\n",
    "        if self.current < self.stop:    # 현재 숫자가 반복을 끝낼 숫자보다 작을 때\n",
    "            r = self.current            # 반환할 숫자를 변수에 저장\n",
    "            self.current += 1           # 현재 숫자를 1 증가시킴\n",
    "            return r                    # 숫자를 반환\n",
    "        else:                           # 현재 숫자가 반복을 끝낼 숫자보다 크거나 같을 때\n",
    "            raise StopIteration         # 예외 발생\n",
    " \n",
    "for i in IteratorImpl(3):\n",
    "    print(i, end=' ')"
   ]
  },
  {
   "cell_type": "code",
   "execution_count": 13,
   "id": "eca89e61",
   "metadata": {},
   "outputs": [
    {
     "name": "stdout",
     "output_type": "stream",
     "text": [
      "0 : 파이썬\n",
      "1 : 자료구조\n",
      "2 : 알고리즘\n",
      "3 : 웹 프로그래밍\n",
      "4 : 데이터 분석\n"
     ]
    }
   ],
   "source": [
    "study = ['파이썬', '자료구조', '알고리즘', '웹 프로그래밍', '데이터 분석']\n",
    "for idx, subject in enumerate(study):\n",
    "    print(idx, ':', subject)"
   ]
  },
  {
   "cell_type": "code",
   "execution_count": null,
   "id": "a584222a",
   "metadata": {},
   "outputs": [],
   "source": []
  },
  {
   "cell_type": "markdown",
   "id": "afcd0544",
   "metadata": {},
   "source": [
    "## Generator"
   ]
  },
  {
   "cell_type": "code",
   "execution_count": 14,
   "id": "aee15922",
   "metadata": {},
   "outputs": [
    {
     "name": "stdout",
     "output_type": "stream",
     "text": [
      "<class 'generator'>\n",
      "1\n",
      "2\n",
      "3\n"
     ]
    }
   ],
   "source": [
    "def gen():\n",
    "    yield 1\n",
    "    yield 2\n",
    "    yield 3\n",
    " \n",
    "# Generator 인스턴스\n",
    "g = gen()\n",
    "print(type(g))  # <class 'generator'>\n",
    "\n",
    "# for 루프 사용 가능\n",
    "for x in g:\n",
    "    print(x)"
   ]
  },
  {
   "cell_type": "code",
   "execution_count": null,
   "id": "996186d4",
   "metadata": {},
   "outputs": [],
   "source": []
  },
  {
   "cell_type": "markdown",
   "id": "c7d6a3d8",
   "metadata": {},
   "source": [
    "## CoRoutine"
   ]
  },
  {
   "cell_type": "code",
   "execution_count": 15,
   "id": "a4f5d81e",
   "metadata": {},
   "outputs": [
    {
     "name": "stdout",
     "output_type": "stream",
     "text": [
      "3\n",
      "add 함수\n",
      "calc 함수\n"
     ]
    }
   ],
   "source": [
    "def add(a, b):\n",
    "    c = a + b    # add 함수가 끝나면 변수와 계산식은 사라짐\n",
    "    print(c)\n",
    "    print('add 함수')\n",
    " \n",
    "def calc():\n",
    "    add(1, 2)    # add 함수가 끝나면 다시 calc 함수로 돌아옴\n",
    "    print('calc 함수')\n",
    " \n",
    "calc()"
   ]
  },
  {
   "cell_type": "code",
   "execution_count": 16,
   "id": "511d71f6",
   "metadata": {},
   "outputs": [
    {
     "name": "stdout",
     "output_type": "stream",
     "text": [
      "현재까지의 합: 1\n",
      "현재까지의 합: 3\n",
      "현재까지의 합: 6\n"
     ]
    }
   ],
   "source": [
    "def tot_coroutine():\n",
    "    tot = 0\n",
    "    while True:        # coroutine을 계속 유지하기 위해 무한 루프 사용\n",
    "        x = (yield)    # coroutine 바깥에서 값을 받아옴\n",
    "        tot = tot + x\n",
    "        print('현재까지의 합:', tot)\n",
    " \n",
    "co = tot_coroutine()\n",
    "next(co)      # coroutine 안의 yield까지 코드 실행(최초 실행)\n",
    " \n",
    "co.send(1)    # coroutine에 숫자 1을 보냄\n",
    "co.send(2)    # coroutine에 숫자 2을 보냄\n",
    "co.send(3)    # coroutine에 숫자 3을 보냄"
   ]
  },
  {
   "cell_type": "code",
   "execution_count": null,
   "id": "cca69f34",
   "metadata": {},
   "outputs": [],
   "source": []
  },
  {
   "cell_type": "markdown",
   "id": "079ec792",
   "metadata": {},
   "source": [
    "## Decorator - Annotation, AOP"
   ]
  },
  {
   "cell_type": "code",
   "execution_count": 17,
   "id": "1fb9dca6",
   "metadata": {},
   "outputs": [
    {
     "name": "stdout",
     "output_type": "stream",
     "text": [
      "hello 함수 시작\n",
      "hello\n",
      "hello 함수 끝\n"
     ]
    }
   ],
   "source": [
    "def aop(func):                             # 호출할 함수를 매개변수로 받음\n",
    "    def wrapper():                           # 호출할 함수를 감싸는 함수\n",
    "        print(func.__name__, '함수 시작')    # __name__으로 함수 이름 출력\n",
    "        func()                               # 매개변수로 받은 함수를 호출\n",
    "        print(func.__name__, '함수 끝')\n",
    "    return wrapper                           # wrapper 함수 반환\n",
    " \n",
    "@aop\n",
    "def hello():\n",
    "    print('hello')\n",
    "\n",
    "hello()"
   ]
  },
  {
   "cell_type": "code",
   "execution_count": null,
   "id": "bd8e6ef5",
   "metadata": {},
   "outputs": [],
   "source": []
  },
  {
   "cell_type": "markdown",
   "id": "24b99aea",
   "metadata": {},
   "source": [
    "# 패키지 설치 및 사용"
   ]
  },
  {
   "cell_type": "markdown",
   "id": "4a6e28c8",
   "metadata": {},
   "source": [
    "## 지도 출력"
   ]
  },
  {
   "cell_type": "markdown",
   "id": "b6de1e13",
   "metadata": {},
   "source": [
    "### 패키지 설치 - 터미널에서 수행\n",
    "pip install folium 또는 conda install folium\n",
    "\n",
    "pip 의 경우 관리자 권한이 아니면 가끔 마지막에 --user를 붙여야 하는 경우가 있음\n"
   ]
  },
  {
   "cell_type": "code",
   "execution_count": 18,
   "id": "bef3959b",
   "metadata": {},
   "outputs": [],
   "source": [
    "import folium\n",
    "m = folium.Map(location=[37.572656, 126.973304], zoom_start=15)\n",
    "folium.Marker(location=[37.572656, 126.973304], popup=\"KB 국민카드\",\n",
    "             icon=folium.Icon(icon='cloud')).add_to(m)\n",
    "folium.Marker(location=[37.569027, 126.987279], popup=\"메가IT\",\n",
    "             icon=folium.Icon(color='red')).add_to(m)\n",
    "m\n",
    "#주피터 노트북이 아닌 경우 아래 구문을 실행해서 html 파일로 만든 후 작업 디렉토리에 가서 파일을 직접 확인\n",
    "#m.save(\"./map.html\")"
   ]
  },
  {
   "cell_type": "code",
   "execution_count": null,
   "id": "0b3d2ead",
   "metadata": {},
   "outputs": [],
   "source": []
  },
  {
   "cell_type": "markdown",
   "id": "96bd821b",
   "metadata": {},
   "source": [
    "# 파이썬의 자료형"
   ]
  },
  {
   "cell_type": "markdown",
   "id": "8ff77833",
   "metadata": {},
   "source": [
    "## Scala 자료형"
   ]
  },
  {
   "cell_type": "code",
   "execution_count": 19,
   "id": "1b5186dc",
   "metadata": {},
   "outputs": [
    {
     "name": "stdout",
     "output_type": "stream",
     "text": [
      "False\n",
      "True\n",
      "True\n",
      "a = 10\n",
      "a = 10\n",
      "a = 10\n",
      "a = 10\n",
      "0.2 == (1.0-0.8): False\n",
      "정수 1을 1000번 더한 결과: 1000\n",
      "실수 0.1을 1000번 더한 결과: 99.9999999999986\n",
      "(1.2+1.3j)\n",
      "(1.2+1.3j)\n"
     ]
    }
   ],
   "source": [
    "#부울 자료형 확인\n",
    "print(bool([]))\n",
    "print(bool(3))\n",
    "print(bool(3+4))\n",
    "\n",
    "#정수 자료형 저장 방법\n",
    "a = 10\n",
    "print(\"a =\", a)\n",
    "#정수 형변환\n",
    "a = int('10')\n",
    "print(\"a =\", a)\n",
    "#5진수로 변환\n",
    "a = int('20', 5)\n",
    "print(\"a =\", a)\n",
    "#실수를 정수로 변한 - 소수가 버려짐\n",
    "a = int(10.8)\n",
    "print(\"a =\", a)\n",
    "\n",
    "\n",
    "print('0.2 == (1.0-0.8):', (0.2 == (1.0-0.8)))\n",
    "sum = 0\n",
    "for i in range(0,1000):\n",
    "    sum += 1\n",
    "print(\"정수 1을 1000번 더한 결과:\" , sum)\n",
    "\n",
    "sum = 0.0\n",
    "for i in range(0,1000):\n",
    "    sum += 0.1\n",
    "print(\"실수 0.1을 1000번 더한 결과:\" , sum)\n",
    "\n",
    "print(1.2 + 1.3j)\n",
    "print(complex(1.2, 1.3))"
   ]
  },
  {
   "cell_type": "code",
   "execution_count": null,
   "id": "2a4c29e5",
   "metadata": {},
   "outputs": [],
   "source": []
  },
  {
   "cell_type": "markdown",
   "id": "4d767276",
   "metadata": {},
   "source": [
    "## Collection - Vector"
   ]
  },
  {
   "cell_type": "markdown",
   "id": "59d44bcc",
   "metadata": {},
   "source": [
    "### sequential type - 공통"
   ]
  },
  {
   "cell_type": "code",
   "execution_count": 20,
   "id": "a1d5460d",
   "metadata": {},
   "outputs": [
    {
     "name": "stdout",
     "output_type": "stream",
     "text": [
      "K\n",
      "e\n",
      "or\n",
      "Kra\n",
      "Kore\n",
      "aeroK\n",
      "HelloWorld\n",
      "HelloWorldHelloWorldHelloWorldHelloWorld\n"
     ]
    }
   ],
   "source": [
    "msg = \"Korea\"\n",
    "print(msg[0]) #0번째 글자\n",
    "print(msg[-2]) #뒤에서 2번째 글자\n",
    "print(msg[1:3]) #1번째부터 3번째 글자 앞까지\n",
    "print(msg[0:5:2]) #0부터 5번째 글자 앞까지 2개씩 건너뛰면서\n",
    "print(msg[:-1])#-1 번째까지 가져오기\n",
    "print(msg[::-1])#반대로 출력\n",
    "\n",
    "msg = \"Hello\" + \"World\"\n",
    "print(msg)\n",
    "\n",
    "msg = msg * 4\n",
    "print(msg)"
   ]
  },
  {
   "cell_type": "code",
   "execution_count": null,
   "id": "6f5d4443",
   "metadata": {},
   "outputs": [],
   "source": []
  },
  {
   "cell_type": "markdown",
   "id": "ab793e0f",
   "metadata": {},
   "source": [
    "### 문자열"
   ]
  },
  {
   "cell_type": "code",
   "execution_count": 21,
   "id": "33cf7bc6",
   "metadata": {},
   "outputs": [
    {
     "ename": "TypeError",
     "evalue": "'str' object does not support item assignment",
     "output_type": "error",
     "traceback": [
      "\u001b[0;31m---------------------------------------------------------------------------\u001b[0m",
      "\u001b[0;31mTypeError\u001b[0m                                 Traceback (most recent call last)",
      "\u001b[0;32m/var/folders/98/j21dd2qs46b69mwc94dgyxnr0000gn/T/ipykernel_22768/1701992052.py\u001b[0m in \u001b[0;36m<module>\u001b[0;34m\u001b[0m\n\u001b[1;32m      1\u001b[0m \u001b[0mmsg\u001b[0m \u001b[0;34m=\u001b[0m \u001b[0;34m\"hello\"\u001b[0m\u001b[0;34m\u001b[0m\u001b[0;34m\u001b[0m\u001b[0m\n\u001b[0;32m----> 2\u001b[0;31m \u001b[0mmsg\u001b[0m\u001b[0;34m[\u001b[0m\u001b[0;36m0\u001b[0m\u001b[0;34m]\u001b[0m \u001b[0;34m=\u001b[0m \u001b[0;34m'f'\u001b[0m \u001b[0;31m#이런 문장은 에러\u001b[0m\u001b[0;34m\u001b[0m\u001b[0;34m\u001b[0m\u001b[0m\n\u001b[0m",
      "\u001b[0;31mTypeError\u001b[0m: 'str' object does not support item assignment"
     ]
    }
   ],
   "source": [
    "#문자 단위 수정\n",
    "msg = \"hello\"\n",
    "msg[0] = 'f' #이런 문장은 에러"
   ]
  },
  {
   "cell_type": "code",
   "execution_count": 22,
   "id": "f4b83186",
   "metadata": {},
   "outputs": [
    {
     "name": "stdout",
     "output_type": "stream",
     "text": [
      "현재 msg의 id: 140195175554992\n",
      "현재 msg의 id: 140195175735744\n",
      "Hardware Kernel and Shell\n",
      "현재 msg의 id: 140195140785616\n",
      "Hardware KernelShell\n"
     ]
    }
   ],
   "source": [
    "#문자는 복사해서 작업\n",
    "msg = \"Hardware\"\n",
    "print(\"현재 msg의 id:\", id(msg))\n",
    "\n",
    "msg = msg + \" and Shell\"\n",
    "print(\"현재 msg의 id:\", id(msg))\n",
    "\n",
    "msg = msg[:8] + ' Kernel' + msg[8:]\n",
    "print(msg)\n",
    "print(\"현재 msg의 id:\", id(msg))\n",
    "\n",
    "msg = msg[:15] + msg[20:]\n",
    "print(msg)"
   ]
  },
  {
   "cell_type": "code",
   "execution_count": 23,
   "id": "162681ba",
   "metadata": {},
   "outputs": [
    {
     "name": "stdout",
     "output_type": "stream",
     "text": [
      "인생은 생각할 수록 아름답고\n",
      "역사는 앞으로 발전한다\n",
      "\t탭\n",
      "다음 줄\n",
      "\\t탭\\n다음 줄\n"
     ]
    }
   ],
   "source": [
    "#여러 줄 문자열\n",
    "print('''인생은 생각할 수록 아름답고\n",
    "역사는 앞으로 발전한다''')\n",
    "print('\\t탭\\n다음 줄')\n",
    "print(r'\\t탭\\n다음 줄')"
   ]
  },
  {
   "cell_type": "code",
   "execution_count": 24,
   "id": "45329c78",
   "metadata": {},
   "outputs": [
    {
     "name": "stdout",
     "output_type": "stream",
     "text": [
      "최대값:    4\t최소값:    1\n",
      "최대값:4\t최소값:1\n"
     ]
    }
   ],
   "source": [
    "#문자열 템플릿\n",
    "data = [1,3,4]\n",
    "print('최대값:{0:5d}\\t최소값:{1:5d}'.format(max(data), min(data)))\n",
    "print(f'최대값:{max(data)}\\t최소값:{min(data)}')"
   ]
  },
  {
   "cell_type": "code",
   "execution_count": 25,
   "id": "6623e709",
   "metadata": {},
   "outputs": [
    {
     "name": "stdout",
     "output_type": "stream",
     "text": [
      "현재 시스템의 입력 인코딩: utf-8\n",
      "현재 시스템의 출력 인코딩: UTF-8\n",
      "b'\\xed\\x8c\\x8c\\xec\\x9d\\xb4\\xec\\x8d\\xac'\n",
      "파이썬\n",
      "b'\\xc6\\xc4\\xc0\\xcc\\xbd\\xe3'\n",
      "파이썬\n"
     ]
    }
   ],
   "source": [
    "#문자열 인코딩\n",
    "import sys\n",
    "print(\"현재 시스템의 입력 인코딩:\", sys.stdin.encoding)\n",
    "print(\"현재 시스템의 출력 인코딩:\", sys.stdout.encoding)\n",
    "\n",
    "b = '파이썬'.encode('utf-8')\n",
    "print(b)\n",
    "\n",
    "msg = b.decode('utf-8')\n",
    "print(msg)\n",
    "\n",
    "b = '파이썬'.encode('ms949')\n",
    "print(b)\n",
    "\n",
    "msg = b.decode('ms949')\n",
    "print(msg)"
   ]
  },
  {
   "cell_type": "code",
   "execution_count": null,
   "id": "28564a19",
   "metadata": {},
   "outputs": [],
   "source": []
  },
  {
   "cell_type": "markdown",
   "id": "be2e000d",
   "metadata": {},
   "source": [
    "### bytes"
   ]
  },
  {
   "cell_type": "code",
   "execution_count": 26,
   "id": "c9428289",
   "metadata": {},
   "outputs": [
    {
     "name": "stdout",
     "output_type": "stream",
     "text": [
      "72\t101\t108\t108\t111\t\n",
      "AA\n",
      "b'\\xed\\x8c\\x8c\\xec\\x9d\\xb4\\xec\\x8d\\xac'\n",
      "파이썬\n"
     ]
    }
   ],
   "source": [
    "txt = b'Hello'\n",
    "for b in txt:\n",
    "    print(b, end=\"\\t\")\n",
    "print()\n",
    "s1 = 'A\\u0041'\n",
    "print(s1)\n",
    "b = '파이썬'.encode('utf-8')\n",
    "print(b)\n",
    "msg = b.decode('utf-8')\n",
    "print(msg)"
   ]
  },
  {
   "cell_type": "code",
   "execution_count": null,
   "id": "86502a67",
   "metadata": {},
   "outputs": [],
   "source": []
  },
  {
   "cell_type": "markdown",
   "id": "3975f678",
   "metadata": {},
   "source": [
    "### list"
   ]
  },
  {
   "cell_type": "code",
   "execution_count": 27,
   "id": "ffb7a0df",
   "metadata": {},
   "outputs": [
    {
     "name": "stdout",
     "output_type": "stream",
     "text": [
      "자료형: <class 'list'>\n",
      "길이: 3\n",
      "두번째 데이터: 2\n",
      "뒤에서 두번째: 3\n",
      "두번째 부터 4번째 앞 까지: [2, 3]\n",
      "리스트 결합: [1, 2, 3, 1, 2, 3]\n",
      "리스트 반복: [1, 2, 3, 1, 2, 3, 1, 2, 3]\n",
      "[2]\n",
      "2\t"
     ]
    }
   ],
   "source": [
    "li = [1,2,3]\n",
    "print (\"자료형:\", type(li))\n",
    "print (\"길이:\" , len(li))\n",
    "print (\"두번째 데이터:\", li[1])\n",
    "print (\"뒤에서 두번째:\", li[-1])\n",
    "print (\"두번째 부터 4번째 앞 까지:\",li[1:3])\n",
    "print (\"리스트 결합:\", li + li)\n",
    "print (\"리스트 반복:\",li * 3)\n",
    "\n",
    "\n",
    "del li[::2]#짝수번째 데이터 삭제\n",
    "print(li)\n",
    "\n",
    "#리스트 내의 모든 객체 순회\n",
    "for i in li:\n",
    "    print(i, end=\"\\t\")"
   ]
  },
  {
   "cell_type": "code",
   "execution_count": 28,
   "id": "9138c351",
   "metadata": {},
   "outputs": [
    {
     "name": "stdout",
     "output_type": "stream",
     "text": [
      "오름차순: [10, 20, 30, 40, 50]\n",
      "내림차순: [50, 40, 30, 20, 10]\n"
     ]
    }
   ],
   "source": [
    "data = [30,50,10,40,20]\n",
    "data.sort()\n",
    "print(\"오름차순:\", data)\n",
    "data.sort(reverse=True)\n",
    "print(\"내림차순:\",data)"
   ]
  },
  {
   "cell_type": "code",
   "execution_count": 29,
   "id": "65aabc44",
   "metadata": {},
   "outputs": [
    {
     "name": "stdout",
     "output_type": "stream",
     "text": [
      "대소문자 구분해서 정렬: ['Afternoon', 'Morning', 'Night', 'evening']\n",
      "내림차순 정렬: ['evening', 'Night', 'Morning', 'Afternoon']\n",
      "내림차순 정렬: ['Night', 'Morning', 'evening', 'Afternoon']\n"
     ]
    }
   ],
   "source": [
    "data = ['Morning', 'Afternoon', 'evening' ,'Night' ]\n",
    "data.sort()\n",
    "print(\"대소문자 구분해서 정렬:\", data)\n",
    "data.sort(reverse=True)\n",
    "print(\"내림차순 정렬:\", data)\n",
    "data.sort(key=str.lower, reverse=True)\n",
    "print(\"내림차순 정렬:\", data)\n"
   ]
  },
  {
   "cell_type": "code",
   "execution_count": 30,
   "id": "36c60c2c",
   "metadata": {},
   "outputs": [
    {
     "name": "stdout",
     "output_type": "stream",
     "text": [
      "오름차순: [10, 20, 30, 40, 50]\n",
      "내림차순: [50, 40, 30, 20, 10]\n",
      "오름차순: [10, 20, 30, 40, 50]\n",
      "내림차순: [50, 40, 30, 20, 10]\n"
     ]
    }
   ],
   "source": [
    "data = [30,50,10,40,20]\n",
    "print(\"오름차순:\", sorted(data))\n",
    "print(\"내림차순:\",sorted(data, reverse=True))\n",
    "\n",
    "\n",
    "data = [30,50,10,40,20]\n",
    "data = sorted(data)\n",
    "print(\"오름차순:\", data)\n",
    "data.reverse()\n",
    "print(\"내림차순:\",data)"
   ]
  },
  {
   "cell_type": "code",
   "execution_count": null,
   "id": "44c2f1f8",
   "metadata": {},
   "outputs": [],
   "source": []
  },
  {
   "cell_type": "markdown",
   "id": "b42dca08",
   "metadata": {},
   "source": [
    "### tuple"
   ]
  },
  {
   "cell_type": "code",
   "execution_count": 31,
   "id": "a97c4154",
   "metadata": {},
   "outputs": [
    {
     "name": "stdout",
     "output_type": "stream",
     "text": [
      "2의 개수: 3\n",
      "2의 위치: 1\n",
      "2의 위치: 3\n",
      "2 1\n"
     ]
    }
   ],
   "source": [
    "t = (1,2,3,2,2,3)\n",
    "print(\"2의 개수:\", t.count(2))\n",
    "print(\"2의 위치:\", t.index(2))\n",
    "print(\"2의 위치:\", t.index(2,3))\n",
    "\n",
    "\n",
    "x,y=1,2\n",
    "x,y=y,x\n",
    "print(x, y)"
   ]
  },
  {
   "cell_type": "code",
   "execution_count": null,
   "id": "65882c6c",
   "metadata": {},
   "outputs": [],
   "source": []
  },
  {
   "cell_type": "markdown",
   "id": "fb135326",
   "metadata": {},
   "source": [
    "### set"
   ]
  },
  {
   "cell_type": "code",
   "execution_count": 32,
   "id": "6ea322b8",
   "metadata": {},
   "outputs": [
    {
     "name": "stdout",
     "output_type": "stream",
     "text": [
      "set()\n",
      "{1, 2, 3}\n",
      "{1, 2, 3}\n",
      "{' ', 'h', 'd', 'o', 'l', 'w', 'e', 'r'}\n",
      "{1, 2, 3}\n"
     ]
    }
   ],
   "source": [
    "hashset = set()\n",
    "print(hashset)\n",
    "hashset = {1,2,3}\n",
    "print(hashset)\n",
    "hashset = set((1,2,3,2))\n",
    "print(hashset)\n",
    "hashset = set('hello world')\n",
    "print(hashset)\n",
    "hashset = set([1,3,2])\n",
    "print(hashset) "
   ]
  },
  {
   "cell_type": "code",
   "execution_count": 33,
   "id": "266e91c2",
   "metadata": {},
   "outputs": [
    {
     "name": "stdout",
     "output_type": "stream",
     "text": [
      "{1, 2, 3, 4, 5, 6, 7, 8}\n",
      "{4, 5}\n",
      "{1, 2, 3}\n",
      "{1, 2, 3, 6, 7, 8}\n"
     ]
    }
   ],
   "source": [
    "a = {1,2,3,4,5}\n",
    "b = {4,5,6,7,8}\n",
    "print(a.union(b))\n",
    "print(a.intersection(b))\n",
    "print(a.difference(b))\n",
    "print(a.symmetric_difference(b))"
   ]
  },
  {
   "cell_type": "markdown",
   "id": "63278838",
   "metadata": {},
   "source": [
    "### dict"
   ]
  },
  {
   "cell_type": "code",
   "execution_count": 34,
   "id": "d0def740",
   "metadata": {},
   "outputs": [
    {
     "name": "stdout",
     "output_type": "stream",
     "text": [
      "{'baseball': 9, 'soccer': 11, 'volleyball': 6}\n",
      "9\n"
     ]
    },
    {
     "ename": "KeyError",
     "evalue": "'basketball'",
     "output_type": "error",
     "traceback": [
      "\u001b[0;31m---------------------------------------------------------------------------\u001b[0m",
      "\u001b[0;31mKeyError\u001b[0m                                  Traceback (most recent call last)",
      "\u001b[0;32m/var/folders/98/j21dd2qs46b69mwc94dgyxnr0000gn/T/ipykernel_22768/2292238944.py\u001b[0m in \u001b[0;36m<module>\u001b[0;34m\u001b[0m\n\u001b[1;32m      3\u001b[0m \u001b[0mprint\u001b[0m\u001b[0;34m(\u001b[0m\u001b[0mmember\u001b[0m\u001b[0;34m)\u001b[0m\u001b[0;34m\u001b[0m\u001b[0;34m\u001b[0m\u001b[0m\n\u001b[1;32m      4\u001b[0m \u001b[0mprint\u001b[0m\u001b[0;34m(\u001b[0m\u001b[0mmember\u001b[0m\u001b[0;34m[\u001b[0m\u001b[0;34m'baseball'\u001b[0m\u001b[0;34m]\u001b[0m\u001b[0;34m)\u001b[0m\u001b[0;34m\u001b[0m\u001b[0;34m\u001b[0m\u001b[0m\n\u001b[0;32m----> 5\u001b[0;31m \u001b[0mprint\u001b[0m\u001b[0;34m(\u001b[0m\u001b[0mmember\u001b[0m\u001b[0;34m[\u001b[0m\u001b[0;34m'basketball'\u001b[0m\u001b[0;34m]\u001b[0m\u001b[0;34m)\u001b[0m\u001b[0;34m\u001b[0m\u001b[0;34m\u001b[0m\u001b[0m\n\u001b[0m",
      "\u001b[0;31mKeyError\u001b[0m: 'basketball'"
     ]
    }
   ],
   "source": [
    "# 생성\n",
    "member = {'baseball':9, 'soccer':11,\"volleyball\":6}\n",
    "print(member)\n",
    "print(member['baseball'])\n",
    "#없는 키를 사용하면 에러\n",
    "print(member['basketball'])"
   ]
  },
  {
   "cell_type": "code",
   "execution_count": 35,
   "id": "986640dc",
   "metadata": {},
   "outputs": [
    {
     "name": "stdout",
     "output_type": "stream",
     "text": [
      "one : 1\n",
      "two : 2\n",
      "three : 3\n"
     ]
    }
   ],
   "source": [
    "#dict 순회\n",
    "keys = ['one', 'two', 'three']\n",
    "values = (1,2,3)\n",
    "#2개의 데이터 모임으로 생성\n",
    "dic = dict(zip(keys, values))\n",
    "#dict 에 빠른 열거를 적용하면 키를 순회 - 모든 데이터 접근\n",
    "for key in dic:\n",
    "    print(key,\":\", dic[key])"
   ]
  },
  {
   "cell_type": "code",
   "execution_count": 36,
   "id": "3c665c70",
   "metadata": {},
   "outputs": [
    {
     "name": "stdout",
     "output_type": "stream",
     "text": [
      "알 수 없음\n",
      "알 수 없음\n"
     ]
    }
   ],
   "source": [
    "#기본값을 적용해서 데이터 읽어오기\n",
    "a = 5\n",
    "if a == 1:\n",
    "    print(\"일\")\n",
    "elif a == 2:\n",
    "    print(\"이\")\n",
    "elif a == 3:\n",
    "    print(\"삼\")\n",
    "else:\n",
    "    print(\"알 수 없음\")\n",
    "\n",
    "data = {1 : \"일\", 2 : \"이\", 3 : \"삼\"}\n",
    "b = data.get(a, \"알 수 없음\")\n",
    "\n",
    "print(b)"
   ]
  },
  {
   "cell_type": "code",
   "execution_count": 37,
   "id": "7d28e26c",
   "metadata": {},
   "outputs": [
    {
     "name": "stdout",
     "output_type": "stream",
     "text": [
      "이름        나이        \n",
      "사이다       23        \n",
      "아담        25        \n",
      "류시아       24        \n",
      "\n",
      "이름        나이        \n",
      "류시아       24        \n",
      "사이다       23        \n",
      "아담        25        \n"
     ]
    }
   ],
   "source": [
    "# 테이블 구조 생성\n",
    "table = []\n",
    "\n",
    "person1 = {'name':\"사이다\", \"age\":23}\n",
    "person2 = {'name':\"아담\", \"age\":25}\n",
    "person3 = {'name':\"류시아\", \"age\":24}\n",
    "\n",
    "table.append(person1)\n",
    "table.append(person2)\n",
    "table.append(person3)\n",
    "\n",
    "print('{0:10s}{1:10s}'.format('이름','나이'))\n",
    "for person in table:\n",
    "    print('{0:10s}{1:10s}'.format(person['name'],str(person['age'])))\n",
    "    \n",
    "print()\n",
    "table.sort(key = lambda d : d['name'])\n",
    "\n",
    "print('{0:10s}{1:10s}'.format('이름','나이'))\n",
    "for person in table:\n",
    "    print('{0:10s}{1:10s}'.format(person['name'],str(person['age'])))"
   ]
  },
  {
   "cell_type": "code",
   "execution_count": null,
   "id": "d614f3bd",
   "metadata": {},
   "outputs": [],
   "source": []
  },
  {
   "cell_type": "markdown",
   "id": "3d01bd1f",
   "metadata": {},
   "source": [
    "## Comprehension"
   ]
  },
  {
   "cell_type": "code",
   "execution_count": 40,
   "id": "4fb0461e",
   "metadata": {},
   "outputs": [
    {
     "name": "stdout",
     "output_type": "stream",
     "text": [
      "[0, 1, 4, 9, 16, 25, 36, 49, 64, 81]\n"
     ]
    }
   ],
   "source": [
    "#데이터의 모임을 이용해서 연산을 수행한 list 생성\n",
    "L = [i ** 2 for i in range(10)]\n",
    "print(L)"
   ]
  },
  {
   "cell_type": "code",
   "execution_count": 41,
   "id": "d324eaee",
   "metadata": {},
   "outputs": [
    {
     "name": "stdout",
     "output_type": "stream",
     "text": [
      "[0, 1, 8, 27, 64]\n",
      "아이린\n",
      "[4, 5, 6, 8, 10, 12, 12, 15, 18]\n"
     ]
    }
   ],
   "source": [
    "#조건을 적용\n",
    "#0부터 4까지 3승을 해서 결과를 가져오기\n",
    "li1 = [i ** 3 for i in range(5)]\n",
    "print(li1)\n",
    "\n",
    "li2 = ['태연', '아이린', '재경']\n",
    "#li2에서 글자수가 3이상인 데이터만 추출하기\n",
    "li3 = [i for i in li2 if len(i) > 2]\n",
    "for imsi in li3:\n",
    "    print(imsi)\n",
    "    \n",
    "li4 = [1,2,3]\n",
    "li5 = [4,5,6]\n",
    "result = [x*y for x in li4 for y in li5]\n",
    "print(result)\n"
   ]
  },
  {
   "cell_type": "code",
   "execution_count": 42,
   "id": "49b74f29",
   "metadata": {},
   "outputs": [
    {
     "name": "stdout",
     "output_type": "stream",
     "text": [
      "['a', 'b', 'c', 'd', 'e', 'f']\n",
      "[['aa', 'bb', 'cc'], ['dd', 'ee', 'ff']]\n"
     ]
    }
   ],
   "source": [
    "#2개의 데이터 모임 이용\n",
    "L = [['a', 'b', 'c'], ['d', 'e', 'f']]\n",
    "\n",
    "flatten = [j for i in L for j in i]\n",
    "\n",
    "print(flatten)\n",
    "\n",
    "extend = [[j + j for j in i] for i in L]\n",
    "\n",
    "print(extend)"
   ]
  },
  {
   "cell_type": "code",
   "execution_count": 43,
   "id": "bd49c68c",
   "metadata": {},
   "outputs": [
    {
     "name": "stdout",
     "output_type": "stream",
     "text": [
      "{'A': 1, 'd': 1, 'a': 1, 'm': 1}\n"
     ]
    }
   ],
   "source": [
    "# dict 생성\n",
    "text = \"Adam\"\n",
    "D = {i : text.count(i) for i in text}\n",
    "print(D)"
   ]
  },
  {
   "cell_type": "code",
   "execution_count": null,
   "id": "cc313d00",
   "metadata": {},
   "outputs": [],
   "source": []
  },
  {
   "cell_type": "markdown",
   "id": "5aa2e8b7",
   "metadata": {},
   "source": [
    "## packing & unplacking"
   ]
  },
  {
   "cell_type": "code",
   "execution_count": 44,
   "id": "50702b37",
   "metadata": {},
   "outputs": [
    {
     "name": "stdout",
     "output_type": "stream",
     "text": [
      "[1, 2, 3] [4, 5, 6]\n",
      "[(1, 4), (2, 5), (3, 6)]\n",
      "[(1, 4), (2, 5), (3, 6)]\n"
     ]
    }
   ],
   "source": [
    "numbers = [[1, 2, 3], [4, 5, 6]]\n",
    "\n",
    "#묶음 해제\n",
    "print(*numbers)\n",
    "#묶기\n",
    "print(list(zip(*numbers)))\n",
    "print(list(zip([1, 2, 3], [4, 5, 6])))"
   ]
  },
  {
   "cell_type": "code",
   "execution_count": null,
   "id": "d52c3bf4",
   "metadata": {},
   "outputs": [],
   "source": []
  }
 ],
 "metadata": {
  "kernelspec": {
   "display_name": "Python 3 (ipykernel)",
   "language": "python",
   "name": "python3"
  },
  "language_info": {
   "codemirror_mode": {
    "name": "ipython",
    "version": 3
   },
   "file_extension": ".py",
   "mimetype": "text/x-python",
   "name": "python",
   "nbconvert_exporter": "python",
   "pygments_lexer": "ipython3",
   "version": "3.8.8"
  }
 },
 "nbformat": 4,
 "nbformat_minor": 5
}
