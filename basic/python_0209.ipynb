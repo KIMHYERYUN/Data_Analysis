{
 "cells": [
  {
   "cell_type": "markdown",
   "id": "2dd7b35b",
   "metadata": {},
   "source": [
    "# numpy"
   ]
  },
  {
   "cell_type": "markdown",
   "id": "363103e0",
   "metadata": {},
   "source": [
    "## 인덱싱 - 데이터의 일부분을 선택"
   ]
  },
  {
   "cell_type": "code",
   "execution_count": 10,
   "id": "7d4f3705",
   "metadata": {},
   "outputs": [
    {
     "name": "stdout",
     "output_type": "stream",
     "text": [
      "[[ 1  2  3  4  5]\n",
      " [ 6  7  8  9 10]\n",
      " [11 12 13 14 15]\n",
      " [16 17 18 19 20]]\n",
      "200\n",
      "8\n",
      "8\n",
      "[ 6  7  8  9 10]\n",
      "[400 500]\n",
      "[100 200 300]\n",
      "[3000  200  300  400  500]\n",
      "[2000  200  300  400  500]\n",
      "[2000  200  300  400  500]\n"
     ]
    }
   ],
   "source": [
    "import numpy as np\n",
    "\n",
    "ar = np.array([100, 200, 300, 400, 500])\n",
    "\n",
    "#1차원 배열을 생성한 후 4행 5열의 2차원 배열로 변환\n",
    "matrix = np.array(range(1,21)).reshape(4,5)\n",
    "print(matrix)\n",
    "\n",
    "#1차원 배열에서 하나의 요소를 추출\n",
    "print(ar[1])\n",
    "\n",
    "#2차원 배열에서 하나의 요소를 추출\n",
    "print(matrix[1, 2])\n",
    "print(matrix[1][2])\n",
    "\n",
    "#2차원 배열에서 하나의 인덱스를 대입해서 추출 - 1행 전체\n",
    "print(matrix[1])\n",
    "\n",
    "#특정 위치 부터 끝까지\n",
    "print(ar[3:])\n",
    "#특정 시작 위치 부터 특정 위치 까지\n",
    "print(ar[:3]) #3번은 포함되지 않습니다.\n",
    "\n",
    "#일반적인 인덱싱은 데이터에 대한 뷰 입니다.\n",
    "ar[0] = 3000\n",
    "print(ar)\n",
    "\n",
    "xr = ar[0:3]\n",
    "xr[0] = 2000\n",
    "print(ar)\n",
    "\n",
    "#복제를 하고자 하면 인덱싱 한 후 copy()를 호출해야 합니다.\n",
    "xr = ar[0:3].copy()\n",
    "xr[0] = 1000\n",
    "print(ar)"
   ]
  },
  {
   "cell_type": "markdown",
   "id": "94cc7ab6",
   "metadata": {},
   "source": [
    "## Fancy Indexing"
   ]
  },
  {
   "cell_type": "code",
   "execution_count": 12,
   "id": "a9d0d23e",
   "metadata": {},
   "outputs": [
    {
     "name": "stdout",
     "output_type": "stream",
     "text": [
      "[100 300 500]\n",
      "[100 200 300 400 500]\n"
     ]
    }
   ],
   "source": [
    "import numpy as np\n",
    "\n",
    "ar = np.array([100, 200, 300, 400, 500])\n",
    "\n",
    "#범위 대신에 list를 이용해서 인덱싱 - Fancy Indexing 이라고 합니다.\n",
    "xr = ar[[0, 2, 4]]\n",
    "print(xr)\n",
    "\n",
    "#Fancy Indexing 은 복제를 수행합니다.\n",
    "xr[0] = 20000\n",
    "print(ar)"
   ]
  },
  {
   "cell_type": "markdown",
   "id": "ef38921f",
   "metadata": {},
   "source": [
    "## Boolean Indexing"
   ]
  },
  {
   "cell_type": "code",
   "execution_count": 18,
   "id": "f90ad608",
   "metadata": {},
   "outputs": [
    {
     "name": "stdout",
     "output_type": "stream",
     "text": [
      "[100 300 400]\n",
      "[100 200 300 400 500]\n",
      "[300 400]\n"
     ]
    }
   ],
   "source": [
    "import numpy as np\n",
    "\n",
    "ar = np.array([100, 200, 300, 400, 500])\n",
    "\n",
    "#True 위치의 데이터만 골라서 복제를 해서 리턴합니다.\n",
    "xr = ar[[True, False, True, True, False]]\n",
    "print(xr)\n",
    "\n",
    "xr[0] = 10000\n",
    "print(ar)\n",
    "\n",
    "cond1 = [True, False, True, True, False]\n",
    "cond2 = [False, False, True, True, False]\n",
    "\n",
    "xr = ar[cond1 and cond2]\n",
    "print(xr)"
   ]
  },
  {
   "cell_type": "markdown",
   "id": "c9698717",
   "metadata": {},
   "source": [
    "## ndarray 의 산술 연산"
   ]
  },
  {
   "cell_type": "code",
   "execution_count": 27,
   "id": "b10cf68a",
   "metadata": {},
   "outputs": [
    {
     "name": "stdout",
     "output_type": "stream",
     "text": [
      "[110 220 330]\n",
      "[200 300 400]\n",
      "[[100 201 302]\n",
      " [103 204 305]]\n"
     ]
    }
   ],
   "source": [
    "import numpy as np\n",
    "\n",
    "x = 100\n",
    "ar1 = np.array([100, 200, 300])\n",
    "ar2 = np.array([10, 20, 30])\n",
    "\n",
    "matrix1 = np.array(range(0, 6, 1)).reshape(2,3)\n",
    "matrix2 = np.array(range(0, 6, 1)).reshape(3,2)\n",
    "\n",
    "#동일한 크기의 배열끼리 연산\n",
    "print(ar1 + ar2)\n",
    "\n",
    "#2개의 배열은 2차원 인 것은 같지만 구조가 다르기 때문에 연산 수행 불가\n",
    "#print(matrix1 + matrix2)\n",
    "\n",
    "#scala data 와 배열의 연산\n",
    "#배열의 각 요소에 scala data 를 연산을 한 후 결과를 배열로 리턴\n",
    "print(x + ar1)\n",
    "\n",
    "#차원이 다른 배열끼리의 연산\n",
    "#1차원 배열의 요소 개수 와 2차원 배열의 행을 구성하는 열의 개수가 같아서 수행 \n",
    "print(ar1 + matrix1)\n",
    "\n",
    "#차원이 다른 배열끼리의 연산\n",
    "#1차원 배열의 요소 개수 와 2차원 배열의 행을 구성하는 열의 개수가 달라서 에러\n",
    "#print(ar1 + matrix2)"
   ]
  },
  {
   "cell_type": "markdown",
   "id": "9e228382",
   "metadata": {},
   "source": [
    "## 벡터화된 함수 적용"
   ]
  },
  {
   "cell_type": "code",
   "execution_count": 28,
   "id": "0b79d573",
   "metadata": {},
   "outputs": [
    {
     "name": "stdout",
     "output_type": "stream",
     "text": [
      "[200 300 400]\n"
     ]
    }
   ],
   "source": [
    "import numpy as np\n",
    "\n",
    "ar1 = np.array([100, 200, 300])\n",
    "\n",
    "#한 줄 짜리 함수를 생성\n",
    "def add_func(i):\n",
    "    return i + 100\n",
    "\n",
    "#람다를 이용해서 작성\n",
    "add_lambda = lambda i : i + 100\n",
    "\n",
    "#vector 화 된 함수 생성\n",
    "vectorized_add_lambda = np.vectorize(add_lambda)\n",
    "\n",
    "#vectory 된 함수를 이용한 데이터 가공\n",
    "print(vectorized_add_lambda(ar1))"
   ]
  },
  {
   "cell_type": "markdown",
   "id": "be6ee444",
   "metadata": {},
   "source": [
    "## 배열의 논리 연산을 이용한 추출"
   ]
  },
  {
   "cell_type": "code",
   "execution_count": 35,
   "id": "91ee3248",
   "metadata": {},
   "outputs": [
    {
     "name": "stdout",
     "output_type": "stream",
     "text": [
      "[False  True  True]\n",
      "[False  True  True]\n",
      "[200 300]\n",
      "[200]\n"
     ]
    }
   ],
   "source": [
    "import numpy as np\n",
    "\n",
    "ar1 = np.array([100, 200, 300])\n",
    "ar2 = np.array([150, 190, 200])\n",
    "\n",
    "#각 요소를 가지고 연산을 해서 결과를 배열로 리턴\n",
    "print(ar1 > ar2)\n",
    "\n",
    "#함수 이용\n",
    "print(np.greater(ar1, ar2))\n",
    "\n",
    "#broadcast 연산을 이용해서 특정 조건에 맞는 데이터만 추출\n",
    "print(ar[ar1 > 190])\n",
    "\n",
    "# 190 보다 크고 250 보다 작은 데이터 추출\n",
    "print(ar[ (ar1 > 190) & (ar1 < 250) ])"
   ]
  },
  {
   "cell_type": "markdown",
   "id": "b7a36402",
   "metadata": {},
   "source": [
    "## 배열의 전치 - 행 과 열의 방향을 변경"
   ]
  },
  {
   "cell_type": "code",
   "execution_count": 40,
   "id": "49e342ea",
   "metadata": {},
   "outputs": [
    {
     "name": "stdout",
     "output_type": "stream",
     "text": [
      "[[ 0  1  2]\n",
      " [ 3  4  5]\n",
      " [ 6  7  8]\n",
      " [ 9 10 11]\n",
      " [12 13 14]]\n",
      "[[ 0  3  6  9 12]\n",
      " [ 1  4  7 10 13]\n",
      " [ 2  5  8 11 14]]\n",
      "[[ 0  3  6  9 12]\n",
      " [ 1  4  7 10 13]\n",
      " [ 2  5  8 11 14]]\n",
      "[[[ 0  1]\n",
      "  [ 2  3]\n",
      "  [ 4  5]]\n",
      "\n",
      " [[ 6  7]\n",
      "  [ 8  9]\n",
      "  [10 11]]\n",
      "\n",
      " [[12 13]\n",
      "  [14 15]\n",
      "  [16 17]]\n",
      "\n",
      " [[18 19]\n",
      "  [20 21]\n",
      "  [22 23]]\n",
      "\n",
      " [[24 25]\n",
      "  [26 27]\n",
      "  [28 29]]]\n",
      "[[[ 0  2  4]\n",
      "  [ 1  3  5]]\n",
      "\n",
      " [[ 6  8 10]\n",
      "  [ 7  9 11]]\n",
      "\n",
      " [[12 14 16]\n",
      "  [13 15 17]]\n",
      "\n",
      " [[18 20 22]\n",
      "  [19 21 23]]\n",
      "\n",
      " [[24 26 28]\n",
      "  [25 27 29]]]\n"
     ]
    }
   ],
   "source": [
    "import numpy as np\n",
    "\n",
    "#2차원 배열 만들기\n",
    "matrix = np.arange(15).reshape(5, 3)\n",
    "print(matrix)\n",
    "\n",
    "#전치\n",
    "print(matrix.T)\n",
    "\n",
    "# 0 번 과 1번 축을 변경\n",
    "print(matrix.transpose(1, 0))\n",
    "\n",
    "\n",
    "# 3차원 만들기 - 딥러닝 할 때 차원 변환을 많이 합니다.\n",
    "# -1의 의미를 알아두어야 합니다.\n",
    "#flattern 도 알아두어야 합니다.\n",
    "matrix = np.arange(30).reshape(5, 3, -1)\n",
    "print(matrix)\n",
    "#3차원 이상일 때는 순서를 직접 설정\n",
    "print(matrix.transpose(0, 2, 1))\n"
   ]
  },
  {
   "cell_type": "markdown",
   "id": "ee39a12c",
   "metadata": {},
   "source": [
    "## 랜덤한 숫자 샘플링"
   ]
  },
  {
   "cell_type": "code",
   "execution_count": 1,
   "id": "a188a524",
   "metadata": {},
   "outputs": [
    {
     "name": "stdout",
     "output_type": "stream",
     "text": [
      "[3 1 2 0 4]\n",
      "[1 4 2 0 3]\n"
     ]
    }
   ],
   "source": [
    "import numpy as np\n",
    "\n",
    "# 0부터 4까지 비복원 추출을 이용해서 배열을 만들어서 리턴\n",
    "print(np.random.permutation(5))\n",
    "\n",
    "#seed 를 고정\n",
    "np.random.seed(42)\n",
    "\n",
    "print(np.random.permutation(5))"
   ]
  },
  {
   "cell_type": "code",
   "execution_count": null,
   "id": "3c196bec",
   "metadata": {},
   "outputs": [],
   "source": []
  },
  {
   "cell_type": "markdown",
   "id": "17e1be7f",
   "metadata": {},
   "source": [
    "## 기본 통계 함수"
   ]
  },
  {
   "cell_type": "code",
   "execution_count": 11,
   "id": "37d8d040",
   "metadata": {},
   "outputs": [
    {
     "name": "stdout",
     "output_type": "stream",
     "text": [
      "합계: 187\n",
      "표준 편차(자유도 적용 안함): 9.379998667377304\n",
      "표준 편차(자유도 1 적용): 10.027640371920576\n",
      "3사분위 수: 30.25\n",
      "최대값: 40\n",
      "최대값: [40 30]\n",
      "최대값: [20 30 40 31]\n",
      "최대값: [[20]\n",
      " [30]\n",
      " [40]\n",
      " [31]]\n"
     ]
    }
   ],
   "source": [
    "import numpy as np\n",
    "\n",
    "ar = np.array([10, 20, 12, 30, 40, 21, 31, 23])\n",
    "\n",
    "br = ar.reshape(4, 2)\n",
    "\n",
    "print(\"합계:\", np.sum(ar))\n",
    "#데이터 개수로 나눈 값: 수학에서 사용\n",
    "print(\"표준 편차(자유도 적용 안함):\", np.std(ar))\n",
    "#데이터 개수 - 1 로 나눈 값: 통계학에서 사용\n",
    "print(\"표준 편차(자유도 1 적용):\", np.std(ar, ddof=1))\n",
    "#3사분위 수 구하기\n",
    "print(\"3사분위 수:\", np.percentile(ar, 75))\n",
    "\n",
    "#2차원 배열\n",
    "print(\"최대값:\", np.max(br))\n",
    "#행 과 열 단위로 최대값 구하기\n",
    "print(\"최대값:\", np.max(br, axis=0))\n",
    "print(\"최대값:\", np.max(br, axis=1))\n",
    "#결과를 원래 데이터의 차원인 2차원으로 만들어서 리턴\n",
    "print(\"최대값:\", np.max(br, axis=1, keepdims=True))"
   ]
  },
  {
   "cell_type": "markdown",
   "id": "987b6113",
   "metadata": {},
   "source": [
    "## 배열 통계"
   ]
  },
  {
   "cell_type": "code",
   "execution_count": 24,
   "id": "ac0011ff",
   "metadata": {},
   "outputs": [
    {
     "name": "stdout",
     "output_type": "stream",
     "text": [
      "최대값: 40\n",
      "최대값의 위치: 4\n",
      "누적합: [ 10  30  42  72 112 133 164 187]\n",
      "1차 차분: [ 10  -8  18  10 -19  10  -8]\n",
      "2차 차분: [-18  26  -8 -29  29 -18]\n",
      "3차 차분: [ 44 -34 -21  58 -47]\n"
     ]
    }
   ],
   "source": [
    "import numpy as np\n",
    "\n",
    "ar = np.array([10, 20, 12, 30, 40, 21, 31, 23])\n",
    "\n",
    "print(\"최대값:\", np.max(ar))\n",
    "print(\"최대값의 위치:\", np.argmax(ar))\n",
    "\n",
    "print(\"누적합:\", np.cumsum(ar))\n",
    "#원본 데이터 개수보다 차분을 할 때 마다 1개씩 결과가 줄어듭니다.\n",
    "print(\"1차 차분:\", np.diff(ar))\n",
    "print(\"2차 차분:\", np.diff(ar, n=2))\n",
    "print(\"3차 차분:\", np.diff(ar, n=3))"
   ]
  },
  {
   "cell_type": "markdown",
   "id": "3e8fdcb0",
   "metadata": {},
   "source": [
    "## where "
   ]
  },
  {
   "cell_type": "code",
   "execution_count": 25,
   "id": "97d8027b",
   "metadata": {},
   "outputs": [
    {
     "name": "stdout",
     "output_type": "stream",
     "text": [
      "[ 1 20 30  4]\n"
     ]
    }
   ],
   "source": [
    "import numpy as np\n",
    "ar = np.array([1, 2, 3, 4])\n",
    "br = np.array([10, 20, 30, 40])\n",
    "\n",
    "condition = np.array([True, False, False, True])\n",
    "\n",
    "#True 인 경우는 ar 의 데이터를 가져오고 False 인 경우는 br의 데이터를 가져옴\n",
    "print(np.where(condition, ar, br))"
   ]
  },
  {
   "cell_type": "markdown",
   "id": "888a2b23",
   "metadata": {},
   "source": [
    "## 집합 관련 함수"
   ]
  },
  {
   "cell_type": "code",
   "execution_count": 28,
   "id": "1e9499c5",
   "metadata": {},
   "outputs": [
    {
     "name": "stdout",
     "output_type": "stream",
     "text": [
      "[1 2 3 4]\n",
      "[1 4]\n",
      "[ 1  4 10 40]\n"
     ]
    }
   ],
   "source": [
    "import numpy as np\n",
    "ar = np.array([1, 2, 3, 4, 1])\n",
    "br = np.array([10, 2, 3, 40])\n",
    "\n",
    "print(np.unique(ar)) #중복 제거\n",
    "\n",
    "print(np.setdiff1d(ar, br)) #ar 에는 존재하고 br에는 없는 데이터\n",
    "print(np.setxor1d(ar, br)) #ar, br 중 한쪽에만 존재하는 데이터"
   ]
  },
  {
   "cell_type": "markdown",
   "id": "1a5ea36b",
   "metadata": {},
   "source": [
    "## 정렬"
   ]
  },
  {
   "cell_type": "code",
   "execution_count": 34,
   "id": "9a1ca9e2",
   "metadata": {},
   "outputs": [
    {
     "name": "stdout",
     "output_type": "stream",
     "text": [
      "[10 20 30 50]\n",
      "[50 30 20 10]\n",
      "[50 30 20 10]\n"
     ]
    }
   ],
   "source": [
    "import numpy as np\n",
    "\n",
    "ar = np.array([10, 30, 50, 20])\n",
    "\n",
    "br = np.sort(ar)\n",
    "print(br)\n",
    "\n",
    "#내림차순\n",
    "#역순으로 접근하고자 하는 경우 list 같은 경우는 reverse 함수를 이용하지만\n",
    "#ndarray는 인덱싱을 이용\n",
    "cr = np.sort(ar)[::-1]\n",
    "print(cr)\n",
    "\n",
    "#정렬 알고리즘을 설정\n",
    "#알고리즘 테스트틀 위해서 정렬을 공부할 때는\n",
    "#selection, bubble, insertion, quick. merge, heap 정렬을 해두는 것이 좋습니다.\n",
    "dr = np.sort(ar, kind='mergesort')[::-1]\n",
    "print(dr)\n"
   ]
  },
  {
   "cell_type": "markdown",
   "id": "ca80d463",
   "metadata": {},
   "source": [
    "## 배열 분할 - split"
   ]
  },
  {
   "cell_type": "code",
   "execution_count": 37,
   "id": "8a50a12e",
   "metadata": {},
   "outputs": [
    {
     "name": "stdout",
     "output_type": "stream",
     "text": [
      "[[ 1  2  3  4]\n",
      " [ 5  6  7  8]\n",
      " [ 9 10 11 12]\n",
      " [13 14 15 16]]\n",
      "[array([[1, 2, 3, 4],\n",
      "       [5, 6, 7, 8]]), array([[ 9, 10, 11, 12],\n",
      "       [13, 14, 15, 16]])]\n",
      "[array([[ 1,  2],\n",
      "       [ 5,  6],\n",
      "       [ 9, 10],\n",
      "       [13, 14]]), array([[ 3,  4],\n",
      "       [ 7,  8],\n",
      "       [11, 12],\n",
      "       [15, 16]])]\n"
     ]
    }
   ],
   "source": [
    "import numpy as np\n",
    "ar = np.array(range(1, 17)).reshape(4, -1)\n",
    "print(ar)\n",
    "\n",
    "#기본적으로 행방향으로 분할\n",
    "ar_split = np.split(ar, 2)\n",
    "print(ar_split)\n",
    "\n",
    "#열 방향으로 분할\n",
    "ar_split = np.split(ar, 2, axis=1)\n",
    "print(ar_split)"
   ]
  },
  {
   "cell_type": "markdown",
   "id": "eef7fc99",
   "metadata": {},
   "source": [
    "## 배열 합치기"
   ]
  },
  {
   "cell_type": "code",
   "execution_count": 44,
   "id": "4d57199a",
   "metadata": {},
   "outputs": [
    {
     "name": "stdout",
     "output_type": "stream",
     "text": [
      "[1 2 3 4 5 6 7 8]\n",
      "[[1 2]\n",
      " [3 4]\n",
      " [5 6]\n",
      " [7 8]]\n",
      "[[1 2 5 6]\n",
      " [3 4 7 8]]\n"
     ]
    }
   ],
   "source": [
    "#concatenate\n",
    "\n",
    "import numpy as np\n",
    "\n",
    "ar = np.array([1, 2, 3, 4])\n",
    "br = np.array([5, 6, 7, 8])\n",
    "\n",
    "cr = np.concatenate((ar, br))\n",
    "print(cr)\n",
    "\n",
    "# 1차원 배열은 axis 가 없음\n",
    "#dr = np.concatenate((ar, br), axis=1)\n",
    "#print(dr)\n",
    "\n",
    "\n",
    "m1 = ar.reshape(2,2)\n",
    "m2 = br.reshape(2,2)\n",
    "\n",
    "mr = np.concatenate((m1, m2))\n",
    "print(mr)\n",
    "\n",
    "mr = np.concatenate((m1, m2), axis=1)\n",
    "print(mr)"
   ]
  },
  {
   "cell_type": "code",
   "execution_count": 46,
   "id": "1f4ec2f3",
   "metadata": {},
   "outputs": [
    {
     "name": "stdout",
     "output_type": "stream",
     "text": [
      "[[1 2]\n",
      " [3 4]\n",
      " [5 6]\n",
      " [7 8]]\n",
      "[[1 2 5 6]\n",
      " [3 4 7 8]]\n"
     ]
    }
   ],
   "source": [
    "#hstack, vstack - concatenate 에서 axis를 1을 설정하는냐 생략하느냐의 차이\n",
    "\n",
    "import numpy as np\n",
    "\n",
    "ar = np.array([1, 2, 3, 4])\n",
    "br = np.array([5, 6, 7, 8])\n",
    "\n",
    "m1 = ar.reshape(2,2)\n",
    "m2 = br.reshape(2,2)\n",
    "\n",
    "print(np.vstack((m1, m2)))\n",
    "print(np.hstack((m1, m2)))"
   ]
  },
  {
   "cell_type": "code",
   "execution_count": 47,
   "id": "7005b480",
   "metadata": {},
   "outputs": [
    {
     "name": "stdout",
     "output_type": "stream",
     "text": [
      "[[[1 5]\n",
      "  [2 6]]\n",
      "\n",
      " [[3 7]\n",
      "  [4 8]]]\n"
     ]
    }
   ],
   "source": [
    "# dstack : 동일한 위치의 데이터끼리 묶어서 결합하는 함수\n",
    "import numpy as np\n",
    "\n",
    "ar = np.array([1, 2, 3, 4])\n",
    "br = np.array([5, 6, 7, 8])\n",
    "\n",
    "m1 = ar.reshape(2,2)\n",
    "m2 = br.reshape(2,2)\n",
    "\n",
    "print(np.dstack((m1, m2)))"
   ]
  },
  {
   "cell_type": "code",
   "execution_count": 50,
   "id": "b0acbf40",
   "metadata": {},
   "outputs": [
    {
     "name": "stdout",
     "output_type": "stream",
     "text": [
      "[[1 2 5 6]\n",
      " [3 4 7 8]]\n",
      "[[1 2 5 6]\n",
      " [3 4 7 8]]\n"
     ]
    }
   ],
   "source": [
    "#r_, c_ : 인덱서 - 기능은 hstack 또는 vstack 과 유사\n",
    "import numpy as np\n",
    "\n",
    "ar = np.array([1, 2, 3, 4])\n",
    "br = np.array([5, 6, 7, 8])\n",
    "\n",
    "m1 = ar.reshape(2,2)\n",
    "m2 = br.reshape(2,2)\n",
    "\n",
    "print(np.hstack((m1, m2)))\n",
    "print(np.c_[m1, m2])"
   ]
  },
  {
   "cell_type": "markdown",
   "id": "6ff12d74",
   "metadata": {},
   "source": [
    "## 데이터 저장과 읽기 - 중요, 확장자 확인"
   ]
  },
  {
   "cell_type": "code",
   "execution_count": 57,
   "id": "19d3d216",
   "metadata": {},
   "outputs": [
    {
     "name": "stdout",
     "output_type": "stream",
     "text": [
      "[1 2 3 4]\n",
      "[5 6 7 8]\n"
     ]
    }
   ],
   "source": [
    "import numpy as np\n",
    "\n",
    "ar = np.array([1, 2, 3, 4])\n",
    "br = np.array([5, 6, 7, 8])\n",
    "\n",
    "#하나의 데이터 저장\n",
    "np.save('./data/adam.npy', ar)\n",
    "#여러 개의 데이터를 저장하고자 할 때는 이름 과 함께 설정\n",
    "np.savez('./data/adams.npy', ar=ar, br=br)\n",
    "\n",
    "#읽어오기\n",
    "xr = np.load('./data/adam.npy')\n",
    "print(xr)\n",
    "\n",
    "xr = np.load('./data/adams.npy.npz')\n",
    "#여러 개를 저장한 경우에는 이름이 인덱스가 됩니다.\n",
    "print(xr['br'])"
   ]
  },
  {
   "cell_type": "code",
   "execution_count": null,
   "id": "230d5c38",
   "metadata": {},
   "outputs": [],
   "source": []
  }
 ],
 "metadata": {
  "kernelspec": {
   "display_name": "Python 3 (ipykernel)",
   "language": "python",
   "name": "python3"
  },
  "language_info": {
   "codemirror_mode": {
    "name": "ipython",
    "version": 3
   },
   "file_extension": ".py",
   "mimetype": "text/x-python",
   "name": "python",
   "nbconvert_exporter": "python",
   "pygments_lexer": "ipython3",
   "version": "3.9.7"
  }
 },
 "nbformat": 4,
 "nbformat_minor": 5
}
