{
 "cells": [
  {
   "cell_type": "markdown",
   "id": "ebc9eb14-5f07-42f9-8d28-242393a9234a",
   "metadata": {},
   "source": [
    "## 객체 지향 문법"
   ]
  },
  {
   "cell_type": "markdown",
   "id": "9a9a25b9-e38d-4969-93db-a5a3930a459e",
   "metadata": {},
   "source": [
    "1.이름 과 국어, 영어, 수학 점수를 저장할 수 있는 클래스를 생성하시오.\n",
    "- 이름 과 국어, 영어, 수학 점수를 저장할 변수를 초기화 메소드를 생성해서 기본값은 이름의 기본값은 \"noname\", 국어, 영어, 수학 점수는 0으로 설정하시오\n",
    "- 이름 및 국어, 영어, 수학 점수는 인스턴스가 직접 접근할 수 없도록 생성하시오.\n",
    "- 이름 및 국어, 영어, 수학 점수에 접근할 수 있는 getter 와 setter 메소드를 생성하시오.\n",
    "- 국어, 영어, 수학 점수의 평균을 구해서 리턴하는 메소드를 생성하시오."
   ]
  },
  {
   "cell_type": "code",
   "execution_count": 1,
   "id": "5f438c65-04cc-4252-95d0-8e170608c29f",
   "metadata": {},
   "outputs": [],
   "source": [
    "class Student:\n",
    "    def __init__(self, name=\"noname\", kor=0, eng=0, mat=0):\n",
    "        self.__name = name\n",
    "        self.__kor = kor\n",
    "        self.__eng = eng\n",
    "        self.__mat = mat\n",
    "\n",
    "    def setName(self, name):\n",
    "        self.__name = name\n",
    "    def getName(self):\n",
    "        return self.__name\n",
    "    name = property(getName, setName)\n",
    "    \n",
    "    def setKor(self, kor):\n",
    "        self.__kor = kor\n",
    "    def getKor(self):\n",
    "        return self.__kor\n",
    "    kor = property(getKor, setKor)\n",
    "    \n",
    "    def setEng(self, eng):\n",
    "        self.__eng = eng\n",
    "    def getEng(self):\n",
    "        return self.__eng\n",
    "    eng = property(getEng, setEng)\n",
    "    \n",
    "    def setMat(self, mat):\n",
    "        self.__mat = mat\n",
    "    def getMat(self):\n",
    "        return self.__mat\n",
    "    mat = property(getMat, setMat)\n",
    "    \n",
    "    def getAvg(self):\n",
    "        return (self.__kor + self.__eng + self.__mat) / 3\n"
   ]
  },
  {
   "cell_type": "code",
   "execution_count": null,
   "id": "d41e4101",
   "metadata": {},
   "outputs": [],
   "source": []
  },
  {
   "cell_type": "markdown",
   "id": "7fc7bbb5-cba8-4d58-b9c1-0a5502baf7a4",
   "metadata": {},
   "source": [
    "2.call by value 와 call by reference 에 대해서 작성하세요\n",
    "- 2개의 차이를 명확하게 구분하는 것이 중요합니다."
   ]
  },
  {
   "cell_type": "code",
   "execution_count": null,
   "id": "724b3661-63cb-42f6-a456-690917a63d42",
   "metadata": {},
   "outputs": [],
   "source": [
    "call by value:함수의 매개변수로 데이터의 값을 넘기는 구조로 함수 내부에서 매개변수로 받은 데이터를 변경해도 넘겨주는 원본 데이터는 변경되지 않습니다.\n",
    "\n",
    "\n",
    "call by reference: 함수의 매개변수로 데이터의 참조를 넘기는 구조로 함수 내부에서 매개변수로 받은 데이터를 이용해서 세부 데이터를 변경하면 넘겨주는 원본 데이터도 변경됩니다."
   ]
  },
  {
   "cell_type": "code",
   "execution_count": null,
   "id": "9d633145",
   "metadata": {},
   "outputs": [],
   "source": []
  },
  {
   "cell_type": "markdown",
   "id": "20b79ab0-f1fe-4820-a321-2e8054e40e35",
   "metadata": {},
   "source": [
    "3.str 클래스를 상속받는 클래스를 작성하세요\n",
    "- 내용은 없어도 되므로 pass 로 설정"
   ]
  },
  {
   "cell_type": "code",
   "execution_count": 2,
   "id": "d55348a0-00a8-4967-aa8b-e60b0c7b0aaa",
   "metadata": {},
   "outputs": [],
   "source": [
    "class strEx(str):\n",
    "    pass"
   ]
  },
  {
   "cell_type": "code",
   "execution_count": null,
   "id": "72d70533",
   "metadata": {},
   "outputs": [],
   "source": []
  },
  {
   "cell_type": "markdown",
   "id": "cc8104b8-630d-40ef-9d4e-70c7314786d6",
   "metadata": {},
   "source": [
    "4. Overloading 과 Overriding 의 개념을 작성하시오."
   ]
  },
  {
   "cell_type": "code",
   "execution_count": null,
   "id": "41a366de-0829-41db-9086-c2364c35b29b",
   "metadata": {},
   "outputs": [],
   "source": [
    "Overloading: 하나의 클래스의 메서드의 이름이 같은데 매개변수의 개수나 자료형 또는 순서가 다른 메서드가 존재하는 경우\n",
    "    \n",
    "Overriding: 상위 클래스 와 동일한 모양의 메서드를 하위 클래스에서 다시 생성하는 것"
   ]
  },
  {
   "cell_type": "code",
   "execution_count": null,
   "id": "fe880bc0",
   "metadata": {},
   "outputs": [],
   "source": []
  },
  {
   "cell_type": "markdown",
   "id": "5461d1dd-2a67-42d4-8820-265363ca2425",
   "metadata": {},
   "source": [
    "5.추상 클래스의 개념을 작성하세요\n",
    "- 만드는 목적도 작성하세요"
   ]
  },
  {
   "cell_type": "code",
   "execution_count": null,
   "id": "63b9cc21-a649-4baf-86a4-e4496ed83ae9",
   "metadata": {},
   "outputs": [],
   "source": [
    "추상 클래스: 인스턴스 생성을 할 수 없는 클래스\n",
    "    여러 클래스에 공통으로 존재해야 기능(메서드)을 상위 클래스에 추상 메서드로 구현해놓고\n",
    "    하위 클래스에서 이 클래스를 상속받게 되면 하위 클래스에서는 상위 클래스의 추상 메서드가 반드시 존재해야 한다.\n",
    "    이렇게 공통된 내용을 상위 클래스에 구현해 놓고 되면 하위 클래스 들에서 공통된 인터페이스로 접근하는 것이 가능"
   ]
  },
  {
   "cell_type": "code",
   "execution_count": null,
   "id": "2bfcb028",
   "metadata": {},
   "outputs": [],
   "source": []
  },
  {
   "cell_type": "markdown",
   "id": "08cb3a62-9a1c-49d2-9427-45378c89309e",
   "metadata": {},
   "source": [
    "6.1~45 사이의 서로 다른 정수 6개를 입력받아서 list에 저장하는 코드를 작성하세요\n",
    "- 정수 이외의 데이터가 들어오면 다시 입력받도록 작성하세요\n",
    "- 1 ~ 45 사이의 숫자 이외의 데이터가 들어오면 다시 입력받도록 작성하세요\n",
    "- 중복된 데이터가 들어오면 다시 입력받도록 작성하세요\n",
    "- 숫자를 오름차순 정렬해서 출력하세요"
   ]
  },
  {
   "cell_type": "code",
   "execution_count": 7,
   "id": "d9e3542e-d08c-4574-92db-11ac83cb85ab",
   "metadata": {},
   "outputs": [
    {
     "name": "stdout",
     "output_type": "stream",
     "text": [
      "로또 번호를 입력하세요:17\n",
      "로또 번호를 입력하세요:3\n",
      "로또 번호를 입력하세요:3j\n",
      "정수만 입력하세요!!!\n",
      "로또 번호를 입력하세요:25\n",
      "로또 번호를 입력하세요:78\n",
      "1부터 45까지의 숫자만 입력하세요\n",
      "로또 번호를 입력하세요:17\n",
      "이미 존재하는 번호입니다.\n",
      "로또 번호를 입력하세요:7\n",
      "로또 번호를 입력하세요:9\n",
      "로또 번호를 입력하세요:2\n",
      "[2, 3, 7, 9, 17, 25]\n"
     ]
    }
   ],
   "source": [
    "lotto = []\n",
    "\n",
    "while len(lotto) < 6:\n",
    "    try:\n",
    "        su = int(input('로또 번호를 입력하세요:'))\n",
    "        if su < 1 or su > 45:\n",
    "            print(\"1부터 45까지의 숫자만 입력하세요\")\n",
    "            continue\n",
    "        if su in lotto:\n",
    "            print(\"이미 존재하는 번호입니다.\")\n",
    "            continue\n",
    "        lotto.append(su)\n",
    "    except:\n",
    "        print(\"정수만 입력하세요!!!\")\n",
    "\n",
    "        \n",
    "lotto.sort()\n",
    "print(lotto)"
   ]
  },
  {
   "cell_type": "markdown",
   "id": "45bc4604",
   "metadata": {},
   "source": []
  },
  {
   "cell_type": "markdown",
   "id": "cfe51b40-df14-4b67-8981-6c54ce429c51",
   "metadata": {},
   "source": [
    "7. 1번에서 만든 클래스의 인스턴스를 3개 만들어서 list에 저장하세요"
   ]
  },
  {
   "cell_type": "code",
   "execution_count": 8,
   "id": "5bdcb9ac-3233-4d52-96a7-fadcd457695d",
   "metadata": {},
   "outputs": [
    {
     "name": "stdout",
     "output_type": "stream",
     "text": [
      "[<__main__.Student object at 0x7facc461a160>, <__main__.Student object at 0x7facc461ae50>, <__main__.Student object at 0x7facc461aac0>]\n"
     ]
    }
   ],
   "source": [
    "ar = []\n",
    "\n",
    "obj = Student(name=\"adam\", kor=90, eng=80, mat=99)\n",
    "ar.append(obj)\n",
    "\n",
    "obj = Student(name=\"rusia\", kor=40, eng=60, mat=89)\n",
    "ar.append(obj)\n",
    "\n",
    "obj = Student(name=\"cyder\", kor=50, eng=70, mat=69)\n",
    "ar.append(obj)\n",
    "\n",
    "print(ar)"
   ]
  },
  {
   "cell_type": "code",
   "execution_count": null,
   "id": "6fbc728d",
   "metadata": {},
   "outputs": [],
   "source": []
  },
  {
   "cell_type": "markdown",
   "id": "777473f4-87d1-432e-93e1-9d01cfdd384f",
   "metadata": {},
   "source": [
    "8. 6번에서 만든 내용을 set을 이용하도록 변경하세요"
   ]
  },
  {
   "cell_type": "code",
   "execution_count": 6,
   "id": "9dbeb9b7-e2ea-43dd-85a7-f7c76a3efac2",
   "metadata": {},
   "outputs": [
    {
     "name": "stdout",
     "output_type": "stream",
     "text": [
      "로또 번호를 입력하세요:3\n",
      "로또 번호를 입력하세요:2\n",
      "로또 번호를 입력하세요:4\n",
      "로또 번호를 입력하세요:5\n",
      "로또 번호를 입력하세요:1\n",
      "로또 번호를 입력하세요:8\n",
      "[1, 2, 3, 4, 5, 8]\n"
     ]
    }
   ],
   "source": [
    "lotto = set()\n",
    "while len(lotto) < 6:\n",
    "    try:\n",
    "        su = int(input('로또 번호를 입력하세요:'))\n",
    "        if su < 1 or su > 45:\n",
    "            print(\"1부터 45까지의 숫자만 입력하세요\")\n",
    "            continue\n",
    "        if su in lotto:\n",
    "            print(\"이미 존재하는 번호 입니다.\")\n",
    "        lotto.add(su)\n",
    "    except:\n",
    "        print(\"정수만 입력하세요!!!\")\n",
    "\n",
    "print(sorted(lotto))"
   ]
  },
  {
   "cell_type": "code",
   "execution_count": null,
   "id": "d7fc382a",
   "metadata": {},
   "outputs": [],
   "source": []
  },
  {
   "cell_type": "markdown",
   "id": "0f21f461-8d22-4473-84e0-5897443187b3",
   "metadata": {},
   "source": [
    "9. 7번의 내용을 1번에서 만든 클래스를 이용하지 않고 dict를 이용해서 작성하시요."
   ]
  },
  {
   "cell_type": "code",
   "execution_count": 9,
   "id": "be862921-3623-4962-8536-c8fa3faf8892",
   "metadata": {},
   "outputs": [
    {
     "name": "stdout",
     "output_type": "stream",
     "text": [
      "[{'name': 'adam', 'kor': 90, 'eng': 80, 'mat': 99}, {'name': 'rusio', 'kor': 40, 'eng': 60, 'mat': 89}, {'name': 'cyder', 'kor': 50, 'eng': 70, 'mat': 69}]\n"
     ]
    }
   ],
   "source": [
    "ar = []\n",
    "\n",
    "student = {\"name\":\"adam\", \"kor\":90, \"eng\":80, \"mat\":99}\n",
    "ar.append(student)\n",
    "\n",
    "student = {\"name\":\"rusio\", \"kor\":40, \"eng\":60, \"mat\":89}\n",
    "ar.append(student)\n",
    "\n",
    "student = {\"name\":\"cyder\", \"kor\":50, \"eng\":70, \"mat\":69}\n",
    "ar.append(student)\n",
    "\n",
    "print(ar)"
   ]
  },
  {
   "cell_type": "code",
   "execution_count": null,
   "id": "72e22276",
   "metadata": {},
   "outputs": [],
   "source": []
  },
  {
   "cell_type": "markdown",
   "id": "f071986a-1b7c-4680-bdd9-90eefc056432",
   "metadata": {},
   "source": [
    "10. 다음 list에 저장된 내용에서 각 단어가 등장한 횟수를 dict에 저장하는 코드를 작성하시오."
   ]
  },
  {
   "cell_type": "code",
   "execution_count": 12,
   "id": "18cf5191-8d07-4493-8711-3e94013e29eb",
   "metadata": {},
   "outputs": [
    {
     "name": "stdout",
     "output_type": "stream",
     "text": [
      "{'python': 4, 'java': 1, 'R': 1, 'sql': 1, 'javascript': 2, 'c++': 3}\n"
     ]
    }
   ],
   "source": [
    "words = ['python', 'java', 'python', 'R', 'python', 'python', 'sql', 'javascript', 'javascript', 'c++', 'c++', 'c++']\n",
    "\n",
    "wordcount = {}\n",
    "for i in words:\n",
    "    try:\n",
    "        wordcount[i] = wordcount[i] + 1\n",
    "    except:\n",
    "        wordcount[i] = 1\n",
    "print(wordcount)"
   ]
  },
  {
   "cell_type": "code",
   "execution_count": null,
   "id": "e7129ec0",
   "metadata": {},
   "outputs": [],
   "source": []
  }
 ],
 "metadata": {
  "kernelspec": {
   "display_name": "Python 3",
   "language": "python",
   "name": "python3"
  },
  "language_info": {
   "codemirror_mode": {
    "name": "ipython",
    "version": 3
   },
   "file_extension": ".py",
   "mimetype": "text/x-python",
   "name": "python",
   "nbconvert_exporter": "python",
   "pygments_lexer": "ipython3",
   "version": "3.8.8"
  }
 },
 "nbformat": 4,
 "nbformat_minor": 5
}
