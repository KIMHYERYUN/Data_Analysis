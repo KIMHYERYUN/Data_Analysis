{
 "cells": [
  {
   "cell_type": "markdown",
   "id": "2a72b0c2",
   "metadata": {},
   "source": [
    "# 데이터 수집"
   ]
  },
  {
   "cell_type": "markdown",
   "id": "de2c4923",
   "metadata": {},
   "source": [
    "## 현재 작업 디렉토리 확인"
   ]
  },
  {
   "cell_type": "code",
   "execution_count": 2,
   "id": "a7962083",
   "metadata": {},
   "outputs": [
    {
     "name": "stdout",
     "output_type": "stream",
     "text": [
      "C:\\Users\\tj\n"
     ]
    }
   ],
   "source": [
    "import os\n",
    "print(os.getcwd())\n",
    "\n",
    "#작업 디렉토리를 변경\n",
    "#os.chdir('변경할 디렉토리 경로')"
   ]
  },
  {
   "cell_type": "code",
   "execution_count": null,
   "id": "7cc33c76",
   "metadata": {},
   "outputs": [],
   "source": []
  },
  {
   "cell_type": "markdown",
   "id": "9ace6ab4",
   "metadata": {},
   "source": [
    "## Series"
   ]
  },
  {
   "cell_type": "markdown",
   "id": "be4f8db4",
   "metadata": {},
   "source": [
    "### Series를 직접 생성하고 속성 확인"
   ]
  },
  {
   "cell_type": "code",
   "execution_count": 6,
   "id": "43cdddc2",
   "metadata": {},
   "outputs": [
    {
     "name": "stdout",
     "output_type": "stream",
     "text": [
      "0    4000\n",
      "1    3000\n",
      "2    2000\n",
      "3    1000\n",
      "dtype: int64\n",
      "RangeIndex(start=0, stop=4, step=1)\n",
      "[4000 3000 2000 1000]\n",
      "<class 'numpy.ndarray'>\n",
      "apple     4000\n",
      "mango     3000\n",
      "orange    2000\n",
      "kiwi      1000\n",
      "dtype: int64\n"
     ]
    }
   ],
   "source": [
    "#pandas 라는 모듈을 pd 라는 이름으로 가져온 것\n",
    "import pandas as pd\n",
    "\n",
    "#pandas 패키지의 Series 모듈을 현재 애플리케이션의 메모리로 가져와서 사용\n",
    "#Series 앞에는 pandas.을 붙일 필요가 없습니다.\n",
    "from pandas import Series\n",
    "\n",
    "\n",
    "#list를 이용해서 Series를 생성\n",
    "#index 를 설정하지 않아서 index는 0부터 시작하는 시퀀스\n",
    "price = Series([4000, 3000, 2000, 1000])\n",
    "\n",
    "#데이터 확인\n",
    "print(price) #인덱스 와 값 그리고 dtype이 출력\n",
    "\n",
    "#인덱스 확인\n",
    "print(price.index)\n",
    "\n",
    "#데이터를 확인\n",
    "print(price.values)\n",
    "print(type(price.values)) #자료형은 numpy 의 ndarray\n",
    "\n",
    "#인덱스 변경\n",
    "price.index = ['apple', 'mango', 'orange', 'kiwi']\n",
    "print(price)"
   ]
  },
  {
   "cell_type": "markdown",
   "id": "a892f1d7",
   "metadata": {},
   "source": [
    "## Series 의 인덱싱"
   ]
  },
  {
   "cell_type": "code",
   "execution_count": 12,
   "id": "f232cef4",
   "metadata": {},
   "outputs": [
    {
     "name": "stdout",
     "output_type": "stream",
     "text": [
      "suzi      29\n",
      "irin      32\n",
      "karina    23\n",
      "dtype: int64\n",
      "\n",
      "29\n",
      "29\n",
      "\n",
      "suzi    29\n",
      "irin    32\n",
      "dtype: int64\n",
      "suzi      29\n",
      "irin      32\n",
      "karina    23\n",
      "dtype: int64\n",
      "\n",
      "suzi      29\n",
      "karina    23\n",
      "dtype: int64\n",
      "\n",
      "suzi    29\n",
      "dtype: int64\n"
     ]
    }
   ],
   "source": [
    "#pandas 라는 모듈을 pd 라는 이름으로 가져온 것\n",
    "import pandas as pd\n",
    "\n",
    "#pandas 패키지의 Series 모듈을 현재 애플리케이션의 메모리로 가져와서 사용\n",
    "#Series 앞에는 pandas.을 붙일 필요가 없습니다.\n",
    "from pandas import Series\n",
    "\n",
    "sourcedata = {'suzi':29, 'irin':32, 'karina':23}\n",
    "#dict 를 이용해서 Series를 생성\n",
    "#dict를 가지고 생성하면 key 가 인덱스가 되고 value는 value 가 됩니다.\n",
    "data = Series(sourcedata)\n",
    "print(data)\n",
    "print()\n",
    "\n",
    "#데이터 1개 가져오기\n",
    "print(data[0]) #0번 위치\n",
    "print(data['suzi'])#suzi 라는 인덱스를 가진 데이터\n",
    "print()\n",
    "\n",
    "#범위 설정\n",
    "print(data[0:2]) #0번 에서 2번 앞 까지\n",
    "print(data['suzi':'karina'])#suzi 부터 karina 까지\n",
    "print()\n",
    "\n",
    "#Fancy Indexing - 복제가 발생\n",
    "print(data[['suzi','karina']])\n",
    "print()\n",
    "\n",
    "#Boolean Indexing - True 인 데이터만 필터링\n",
    "print(data[[True, False, False]])"
   ]
  },
  {
   "cell_type": "markdown",
   "id": "cabfff6b",
   "metadata": {},
   "source": [
    "## Series 의 연산"
   ]
  },
  {
   "cell_type": "code",
   "execution_count": 15,
   "id": "eefda4d6",
   "metadata": {},
   "outputs": [
    {
     "name": "stdout",
     "output_type": "stream",
     "text": [
      "bae       NaN\n",
      "choi      NaN\n",
      "lee       NaN\n",
      "moon    118.0\n",
      "park     77.0\n",
      "dtype: float64\n"
     ]
    }
   ],
   "source": [
    "#pandas 라는 모듈을 pd 라는 이름으로 가져온 것\n",
    "import pandas as pd\n",
    "\n",
    "#pandas 패키지의 Series 모듈을 현재 애플리케이션의 메모리로 가져와서 사용\n",
    "#Series 앞에는 pandas.을 붙일 필요가 없습니다.\n",
    "from pandas import Series\n",
    "\n",
    "#하나의 list는 key 로 다른 하나의 list는 value 로 해서 dict를 생성\n",
    "keys = ['park', 'bae', 'moon', 'lee']\n",
    "values = [45, 56, 21, 34]\n",
    "dict1 = dict(zip(keys, values))\n",
    "#print(dict1)\n",
    "\n",
    "\n",
    "keys = ['park', 'bae', 'moon', 'choi']\n",
    "values = [32, None, 97, 34]\n",
    "dict2 = dict(zip(keys, values))\n",
    "\n",
    "s1 = Series(dict1)\n",
    "s2 = Series(dict2)\n",
    "#print(s1)\n",
    "#print(s2)\n",
    "\n",
    "print(s1 + s2) #lee 나 choi 인덱스는 한쪽에만 존재해서 NaN\n",
    "#bae 는 하나의 데이터가 None 이라서 연산을 하면 NaN"
   ]
  },
  {
   "cell_type": "code",
   "execution_count": null,
   "id": "8834bc3c",
   "metadata": {},
   "outputs": [],
   "source": []
  },
  {
   "cell_type": "markdown",
   "id": "bd098272",
   "metadata": {},
   "source": [
    "## DataFrame "
   ]
  },
  {
   "cell_type": "markdown",
   "id": "dcc7f241",
   "metadata": {},
   "source": [
    "### dict를 가지고 DataFrame 생성"
   ]
  },
  {
   "cell_type": "code",
   "execution_count": 17,
   "id": "dc41f4cb",
   "metadata": {},
   "outputs": [
    {
     "name": "stdout",
     "output_type": "stream",
     "text": [
      "   code           name   manufacture  price\n",
      "0     1          apple         korea   1500\n",
      "1     2     watermelon         korea   2000\n",
      "2     3  orientalmelon         korea   1000\n",
      "3     4         banana  phillippines   3000\n",
      "4     5          lemon         korea   1200\n",
      "5     6          mango        taiwan   2300\n",
      "<class 'pandas.core.frame.DataFrame'>\n"
     ]
    }
   ],
   "source": [
    "import pandas as pd\n",
    "\n",
    "from pandas import Series, DataFrame\n",
    "\n",
    "#4개의 key를 가진 dict를 생성\n",
    "items = {\n",
    "    'code' : [1,2,3,4,5,6],\n",
    "    'name' : ['apple', 'watermelon', 'orientalmelon', 'banana', 'lemon','mango'],\n",
    "    'manufacture' : ['korea', 'korea', 'korea', 'phillippines','korea', 'taiwan'],\n",
    "    'price' : [1500, 2000, 1000, 3000, 1200, 2300]\n",
    "}\n",
    "\n",
    "df = DataFrame(items)\n",
    "\n",
    "print(df)\n",
    "\n",
    "#print(type(df))\n",
    "\n"
   ]
  },
  {
   "cell_type": "code",
   "execution_count": 22,
   "id": "8531e568",
   "metadata": {},
   "outputs": [
    {
     "name": "stdout",
     "output_type": "stream",
     "text": [
      "   코드             이름    원산지    가격\n",
      "1   1          apple  korea  1500\n",
      "2   2     watermelon  korea  2000\n",
      "3   3  orientalmelon  korea  1000\n",
      "<class 'pandas.core.frame.DataFrame'>\n",
      "RangeIndex: 6 entries, 1 to 6\n",
      "Data columns (total 4 columns):\n",
      " #   Column  Non-Null Count  Dtype \n",
      "---  ------  --------------  ----- \n",
      " 0   코드      6 non-null      int64 \n",
      " 1   이름      6 non-null      object\n",
      " 2   원산지     6 non-null      object\n",
      " 3   가격      6 non-null      int64 \n",
      "dtypes: int64(2), object(2)\n",
      "memory usage: 324.0+ bytes\n",
      "None\n"
     ]
    }
   ],
   "source": [
    "import pandas as pd\n",
    "\n",
    "from pandas import Series, DataFrame\n",
    "\n",
    "#4개의 key를 가진 dict를 생성\n",
    "items = {\n",
    "    'code' : [1,2,3,4,5,6],\n",
    "    'name' : ['apple', 'watermelon', 'orientalmelon', 'banana', 'lemon','mango'],\n",
    "    'manufacture' : ['korea', 'korea', 'korea', 'phillippines','korea', 'taiwan'],\n",
    "    'price' : [1500, 2000, 1000, 3000, 1200, 2300]\n",
    "}\n",
    "\n",
    "df = DataFrame(items)\n",
    "\n",
    "#컬럼 이름 변경\n",
    "df.columns = ['코드', '이름', '원산지', '가격']\n",
    "#인덱스 변경\n",
    "df.index = range(1,7,1)\n",
    "\n",
    "#앞 3개의 데이터 확인\n",
    "print(df.head(3))\n",
    "#데이터 정보 확인\n",
    "df.info()\n",
    "\n"
   ]
  },
  {
   "cell_type": "code",
   "execution_count": null,
   "id": "1abd9fde",
   "metadata": {},
   "outputs": [],
   "source": []
  },
  {
   "cell_type": "markdown",
   "id": "a19d0208",
   "metadata": {},
   "source": [
    "## 데이터 수집"
   ]
  },
  {
   "cell_type": "markdown",
   "id": "8897ae1f",
   "metadata": {},
   "source": [
    "### 클립보드 내용 복사"
   ]
  },
  {
   "cell_type": "code",
   "execution_count": 23,
   "id": "e33ab451",
   "metadata": {},
   "outputs": [
    {
     "name": "stdout",
     "output_type": "stream",
     "text": [
      "   code           name   manufacture  price\n",
      "0     1          apple         korea   1500\n",
      "1     2     watermelon         korea   2000\n",
      "2     3  orientalmelon         korea   1000\n",
      "3     4         banana  phillippines   3000\n",
      "4     5          lemon         korea   1200\n",
      "5     6          mango        taiwan   2300\n"
     ]
    }
   ],
   "source": [
    "import pandas as pd\n",
    "from pandas import Series, DataFrame\n",
    "\n",
    "\n",
    "df = pd.read_clipboard()\n",
    "print(df)"
   ]
  },
  {
   "cell_type": "markdown",
   "id": "07a15a26",
   "metadata": {},
   "source": [
    "### sklearn 의 boston 데이터 가져오기"
   ]
  },
  {
   "cell_type": "code",
   "execution_count": 28,
   "id": "61c77763",
   "metadata": {},
   "outputs": [
    {
     "name": "stdout",
     "output_type": "stream",
     "text": [
      "['CRIM' 'ZN' 'INDUS' 'CHAS' 'NOX' 'RM' 'AGE' 'DIS' 'RAD' 'TAX' 'PTRATIO'\n",
      " 'B' 'LSTAT']\n",
      "<class 'numpy.ndarray'>\n",
      "[[6.3200e-03 1.8000e+01 2.3100e+00 ... 1.5300e+01 3.9690e+02 4.9800e+00]\n",
      " [2.7310e-02 0.0000e+00 7.0700e+00 ... 1.7800e+01 3.9690e+02 9.1400e+00]\n",
      " [2.7290e-02 0.0000e+00 7.0700e+00 ... 1.7800e+01 3.9283e+02 4.0300e+00]\n",
      " ...\n",
      " [6.0760e-02 0.0000e+00 1.1930e+01 ... 2.1000e+01 3.9690e+02 5.6400e+00]\n",
      " [1.0959e-01 0.0000e+00 1.1930e+01 ... 2.1000e+01 3.9345e+02 6.4800e+00]\n",
      " [4.7410e-02 0.0000e+00 1.1930e+01 ... 2.1000e+01 3.9690e+02 7.8800e+00]]\n"
     ]
    }
   ],
   "source": [
    "import pandas as pd\n",
    "from pandas import Series, DataFrame\n",
    "#sklearn 의 데이터 import\n",
    "from sklearn import datasets\n",
    "\n",
    "boston = datasets.load_boston()\n",
    "#dict 로 구성되어 있음\n",
    "#print(boston)\n",
    "\n",
    "#키의 이름 확인\n",
    "#print(boston.keys())\n",
    "\n",
    "#data 가 ndarray 타입의 데이터 이고 feature_names이 열 이름\n",
    "print(boston.feature_names)\n",
    "\n",
    "data = boston.data\n",
    "print(type(data))\n",
    "print(data)"
   ]
  },
  {
   "cell_type": "markdown",
   "id": "962f01db",
   "metadata": {},
   "source": [
    "### fwf 파일 데이터 읽기"
   ]
  },
  {
   "cell_type": "code",
   "execution_count": 29,
   "id": "a7e31d19",
   "metadata": {},
   "outputs": [
    {
     "name": "stdout",
     "output_type": "stream",
     "text": [
      "         date name  price\n",
      "0  2017-04-10   다음  32000\n",
      "1  2017-04-11   다음  34000\n",
      "2  2017-04-12   다음  33000\n"
     ]
    }
   ],
   "source": [
    "import pandas as pd\n",
    "from pandas import Series, DataFrame\n",
    "\n",
    "df = pd.read_fwf('./data/data_fwf.txt', widths=(10, 2, 5), \n",
    "                 names=('date', 'name', 'price'))\n",
    "print(df)"
   ]
  },
  {
   "cell_type": "markdown",
   "id": "0d67a5b1",
   "metadata": {},
   "source": [
    "### csv 읽기"
   ]
  },
  {
   "cell_type": "code",
   "execution_count": 30,
   "id": "0712653d",
   "metadata": {},
   "outputs": [
    {
     "name": "stdout",
     "output_type": "stream",
     "text": [
      "   code  manufacture            name  price\n",
      "0     1        korea           apple   1500\n",
      "1     2        korea      watermelon  15000\n",
      "2     3        korea  oriental melon   1000\n",
      "3     4  philippines          banana    500\n",
      "4     5        korea           lemon   1500\n",
      "5     6        korea           mango    700\n"
     ]
    }
   ],
   "source": [
    "#item.csv 파일 읽기\n",
    "import pandas as pd\n",
    "from pandas import Series, DataFrame\n",
    "\n",
    "items = pd.read_csv('./data/item.csv')\n",
    "print(items)"
   ]
  },
  {
   "cell_type": "code",
   "execution_count": 33,
   "id": "47882d28",
   "metadata": {},
   "outputs": [
    {
     "name": "stdout",
     "output_type": "stream",
     "text": [
      "       이름  개수     가격\n",
      "0   apple  10   1500\n",
      "1  banana   5  15000\n",
      "2   melon   7   1000\n",
      "3    kiwi  20    500\n",
      "4   mango  30   1500\n",
      "5  orange   4    700\n"
     ]
    }
   ],
   "source": [
    "#good.csv 파일 읽기\n",
    "import pandas as pd\n",
    "from pandas import Series, DataFrame\n",
    "\n",
    "items = pd.read_csv('./data/good.csv', header=None,\n",
    "                    names=['이름', '개수', '가격'])\n",
    "print(items)"
   ]
  },
  {
   "cell_type": "code",
   "execution_count": 35,
   "id": "78d43b8e",
   "metadata": {},
   "outputs": [
    {
     "name": "stdout",
     "output_type": "stream",
     "text": [
      "       이름  개수     가격\n",
      "0   apple  10   1500\n",
      "1  banana   5  15000\n",
      "      이름  개수    가격\n",
      "2  melon   7  1000\n",
      "3   kiwi  20   500\n",
      "       이름  개수    가격\n",
      "4   mango  30  1500\n",
      "5  orange   4   700\n"
     ]
    }
   ],
   "source": [
    "#good.csv 파일의 데이터를 2개씩 읽기\n",
    "import pandas as pd\n",
    "from pandas import Series, DataFrame\n",
    "\n",
    "items = pd.read_csv('./data/good.csv', header=None,\n",
    "                    names=['이름', '개수', '가격'], chunksize=2)\n",
    "for item in items:\n",
    "    print(item)"
   ]
  },
  {
   "cell_type": "markdown",
   "id": "49b4d4d1",
   "metadata": {},
   "source": [
    "### csv 저장"
   ]
  },
  {
   "cell_type": "code",
   "execution_count": 37,
   "id": "83bfa8b9",
   "metadata": {},
   "outputs": [
    {
     "name": "stdout",
     "output_type": "stream",
     "text": [
      "   code           name   manufacture  price\n",
      "0     1          apple         korea   1500\n",
      "1     2     watermelon         korea   2000\n",
      "2     3  orientalmelon         korea   1000\n",
      "3     4         banana  phillippines   3000\n",
      "4     5          lemon         korea   1200\n",
      "5     6          mango        taiwan   2300\n"
     ]
    }
   ],
   "source": [
    "import pandas as pd\n",
    "\n",
    "from pandas import Series, DataFrame\n",
    "\n",
    "#4개의 key를 가진 dict를 생성\n",
    "items = {\n",
    "    'code' : [1,2,3,4,5,6],\n",
    "    'name' : ['apple', 'watermelon', 'orientalmelon', 'banana', 'lemon','mango'],\n",
    "    'manufacture' : ['korea', 'korea', 'korea', 'phillippines','korea', 'taiwan'],\n",
    "    'price' : [1500, 2000, 1000, 3000, 1200, 2300]\n",
    "}\n",
    "\n",
    "df = DataFrame(items)\n",
    "print(df)\n",
    "\n",
    "#저장\n",
    "df.to_csv('./data/pddata.csv', index=False)"
   ]
  },
  {
   "cell_type": "markdown",
   "id": "f9c93457",
   "metadata": {},
   "source": [
    "### 엑셀 파일 읽기 및 저장"
   ]
  },
  {
   "cell_type": "code",
   "execution_count": 40,
   "id": "a37f82c9",
   "metadata": {},
   "outputs": [
    {
     "name": "stdout",
     "output_type": "stream",
     "text": [
      "                            이름   1과목   2과목   3과목\n",
      "번호                                              \n",
      "1                          이효준  40.0   NaN  45.0\n",
      "2                          김성희  42.0  55.0  50.0\n",
      "3                          이연숙   NaN  60.0  55.0\n",
      "4                          노화현  50.0  70.0  60.0\n",
      "5                          최희순  55.0  75.0   NaN\n",
      "6                          정원주  60.0  80.0  70.0\n"
     ]
    }
   ],
   "source": [
    "import pandas as pd\n",
    "\n",
    "from pandas import Series, DataFrame\n",
    "\n",
    "#첫번째 열을 인덱스로 사용\n",
    "df = pd.read_excel('./data/excel.xlsx', index_col=0)\n",
    "print(df)\n",
    "\n",
    "#현재 데이터를 파일로 저장\n",
    "writer = pd.ExcelWriter('./data/0210.xlsx')\n",
    "df.to_excel(writer, sheet_name=\"Sheet1\")\n",
    "writer.save()"
   ]
  },
  {
   "cell_type": "code",
   "execution_count": null,
   "id": "90d43d57",
   "metadata": {},
   "outputs": [],
   "source": []
  },
  {
   "cell_type": "markdown",
   "id": "3c7a2e36",
   "metadata": {},
   "source": [
    "### Web에서 가져오기"
   ]
  },
  {
   "cell_type": "code",
   "execution_count": 45,
   "id": "805c79e0",
   "metadata": {},
   "outputs": [
    {
     "name": "stdout",
     "output_type": "stream",
     "text": [
      "       0        1           2       3                            4\n",
      "0      1  중화인민공화국  1411718724  2021.0  공식 인구시계 세계에서 1번째로 인구가 많은 나라\n",
      "1      2       인도  1379619774  2021.0                      공식 인구시계\n",
      "2      3       미국   332915074  2020.0                      공식 인구시계\n",
      "3      4    인도네시아   276361788  2020.0                      공식 인구시계\n",
      "4      5     파키스탄   225199929  2020.0                      공식 인구시계\n",
      "..   ...      ...         ...     ...                          ...\n",
      "235  235      노퍽섬        1756     NaN                          NaN\n",
      "236  236      니우에        1520     NaN                          NaN\n",
      "237  237     토켈라우        1411     NaN                          NaN\n",
      "238  238   바티칸 시국         825  2021.0                          NaN\n",
      "239  239   핏케언 제도          47  2021.0            세계에서 가장 인구가 없는 나라\n",
      "\n",
      "[240 rows x 5 columns]\n"
     ]
    }
   ],
   "source": [
    "#HTML 페이지의 table 태그 내용 가져오기\n",
    "import pandas as pd\n",
    "from pandas import Series, DataFrame\n",
    "\n",
    "li = pd.read_html('https://ko.wikipedia.org/wiki/%EC%9D%B8%EA%B5%AC%EC%88%9C_%EB%82%98%EB%9D%BC_%EB%AA%A9%EB%A1%9D')\n",
    "                      \n",
    "print(li[0])"
   ]
  },
  {
   "cell_type": "code",
   "execution_count": 52,
   "id": "3ed9ad41",
   "metadata": {},
   "outputs": [
    {
     "name": "stdout",
     "output_type": "stream",
     "text": [
      "[<Element 'channel' at 0x0000020ADCD13540>]\n",
      "                                      title  \\\n",
      "0        ‘천재 소녀’에서 ‘살아있는 역사’로…클로이 킴 올림픽 2연패   \n",
      "1               ‘바람의 스케이터’ 차준환, 세계 톱5 역사 썼다   \n",
      "2           외부 요인은 사라졌다, 여자 쇼트 ‘금빛 질주’만 남았다   \n",
      "3          스켈레톤 정승기, 올림픽 첫 무대서 10위…윤성빈은 12위   \n",
      "4                    토트넘, 손흥민 득점포에도 역전패 아쉬움   \n",
      "5       황대헌 “판정에서 한 수 배워…아무도 손 못 대는 전략 세웠다”   \n",
      "6             판정, 빙질, 텃세… 무엇도 황대헌을 막을 수 없었다   \n",
      "7                [포토] 황대헌, 베이징 ‘첫 금’ 거머쥔 순간   \n",
      "8      역시 최민정! 딱 ‘반 바퀴’ 만에 계주 3000m 승부 뒤집었다   \n",
      "9          완벽한 금빛 질주…황대헌, ‘쇼트트랙 강국’ 저력 증명했다   \n",
      "10        한국 쇼트트랙 남자팀 전원 1500m 결승 진출…중국은 전멸   \n",
      "11          최민정·이유빈 여자 1000m 준준결승 안착…김아랑 탈락   \n",
      "12    ‘실력 봤지?’ 황대헌·이준서·박장혁 나란히 1500m 준결승 진출   \n",
      "13    [아하 올림픽] 여자 피겨는 오후인데…남자 피겨는 왜 오전에 열릴까   \n",
      "14        선수단, 국제빙상연맹에 재차 항의…“오늘 경기, 지켜보겠다”   \n",
      "15  코로나 검사 45번·스케이트 분실…끝내 베이징 왔다 [올림픽 이모저모]   \n",
      "16        ‘신공지능’ 별명 신진서, 6시간30분 격전 끝 LG배 정상   \n",
      "17                   영미 대신 초희…‘팀 킴’의 시간이 왔다   \n",
      "18       스노보드 퀸과 킹이 돌아왔다…클로이 킴, 숀 화이트 결선 진출   \n",
      "19       알파인 최강자, 컬링 강국도 속수무책…‘★’이 떨어지는 베이징   \n",
      "20           오늘은 계주까지…쇼트트랙 대표팀 ‘빙질의 저주’ 넘을까   \n",
      "21    다시 웃은 황대헌 “작전 말 안 해…한국말 잘하는 사람 너무 많아”   \n",
      "22            부상에도 최선 다한 크로스컨트리 스프린트… 예선 탈락   \n",
      "23   ‘빙속 괴물’ 김민석 1500m 동메달…“한국 선수들에게 힘 됐으면”   \n",
      "24        접촉 없었는데 실격…기량보다 ‘심판 걱정’해야 하는 쇼트트랙   \n",
      "25      환영 받지 못하는 중국계 미국인 선수들 [베이징올림픽 이모저모]   \n",
      "26       추워서 옷이 헐렁해졌나…스키점프 난데없는 ‘복장실격’ 폭탄세례   \n",
      "27        이상호, 안타까운 0.01초…예선 1위 통과에도 8강서 패배   \n",
      "28       비디오 판독은 쇼트트랙 오심을 심판하지 못했다 [아하 올림픽]   \n",
      "29            스노보드 이상호 전체 1위로 베이징 올림픽 예선 통과   \n",
      "\n",
      "                                                 link  \n",
      "0     http://www.hani.co.kr/arti/sports//1030585.html  \n",
      "1     http://www.hani.co.kr/arti/sports//1030572.html  \n",
      "2     http://www.hani.co.kr/arti/sports//1030554.html  \n",
      "3     http://www.hani.co.kr/arti/sports//1030552.html  \n",
      "4     http://www.hani.co.kr/arti/sports//1030503.html  \n",
      "5     http://www.hani.co.kr/arti/sports//1030495.html  \n",
      "6     http://www.hani.co.kr/arti/sports//1030492.html  \n",
      "7     http://www.hani.co.kr/arti/sports//1030491.html  \n",
      "8     http://www.hani.co.kr/arti/sports//1030490.html  \n",
      "9     http://www.hani.co.kr/arti/sports//1030489.html  \n",
      "10    http://www.hani.co.kr/arti/sports//1030484.html  \n",
      "11    http://www.hani.co.kr/arti/sports//1030483.html  \n",
      "12    http://www.hani.co.kr/arti/sports//1030478.html  \n",
      "13    http://www.hani.co.kr/arti/sports//1030477.html  \n",
      "14    http://www.hani.co.kr/arti/sports//1030460.html  \n",
      "15    http://www.hani.co.kr/arti/sports//1030445.html  \n",
      "16  http://www.hani.co.kr/arti/sports/baduk/103044...  \n",
      "17    http://www.hani.co.kr/arti/sports//1030427.html  \n",
      "18    http://www.hani.co.kr/arti/sports//1030425.html  \n",
      "19    http://www.hani.co.kr/arti/sports//1030413.html  \n",
      "20    http://www.hani.co.kr/arti/sports//1030361.html  \n",
      "21    http://www.hani.co.kr/arti/sports//1030309.html  \n",
      "22    http://www.hani.co.kr/arti/sports//1030308.html  \n",
      "23    http://www.hani.co.kr/arti/sports//1030307.html  \n",
      "24    http://www.hani.co.kr/arti/sports//1030301.html  \n",
      "25    http://www.hani.co.kr/arti/sports//1030298.html  \n",
      "26    http://www.hani.co.kr/arti/sports//1030270.html  \n",
      "27    http://www.hani.co.kr/arti/sports//1030252.html  \n",
      "28    http://www.hani.co.kr/arti/sports//1030233.html  \n",
      "29    http://www.hani.co.kr/arti/sports//1030215.html  \n"
     ]
    }
   ],
   "source": [
    "#xml 파싱을 수행해서 DataFrame을 만들기\n",
    "import pandas as pd\n",
    "from pandas import Series, DataFrame\n",
    "\n",
    "#웹에서 데이터를 가져오기 위한 패키지 - 파이썬의 기본 패키지\n",
    "import urllib.request\n",
    "\n",
    "#XML 파싱을 위한 패키지\n",
    "import xml.etree.ElementTree as et\n",
    "\n",
    "url = 'http://www.hani.co.kr/rss/sports'\n",
    "request = urllib.request.Request(url)\n",
    "response = urllib.request.urlopen(request)\n",
    "#print(response.read())\n",
    "\n",
    "#가져온 내용을 DOM 으로 펼쳐서 root를 찾아오기\n",
    "tree = et.parse(response)\n",
    "xroot = tree.getroot()\n",
    "#print(xroot)\n",
    "\n",
    "#channel 태그의 모든 것을 찾아오기\n",
    "channel = xroot.findall('channel')\n",
    "#print(channel)\n",
    "\n",
    "#item 태그의 모든 것을 찾아괴\n",
    "items = channel[0].findall('item')\n",
    "#print(items)\n",
    "\n",
    "rows = []\n",
    "for node in items:\n",
    "    title = node.find(\"title\").text if node is not None else None\n",
    "    link = node.find(\"link\").text if node is not None else None\n",
    "    #가져온 데이터를 dict로 만들어서 list에 추가\n",
    "    rows.append({\"title\":title, \"link\":link})\n",
    "    \n",
    "df = pd.DataFrame(rows, columns=[\"title\", \"link\"])\n",
    "print(df)"
   ]
  },
  {
   "cell_type": "code",
   "execution_count": null,
   "id": "8b18b7d1",
   "metadata": {},
   "outputs": [],
   "source": []
  },
  {
   "cell_type": "markdown",
   "id": "390ada40",
   "metadata": {},
   "source": [
    "### json"
   ]
  },
  {
   "cell_type": "code",
   "execution_count": 66,
   "id": "58a4db58",
   "metadata": {},
   "outputs": [
    {
     "name": "stdout",
     "output_type": "stream",
     "text": [
      "                       제목   평점\n",
      "0                    인포먼트  6.7\n",
      "1              엣지 오브 다크니스  6.9\n",
      "2                   베이비 돌    6\n",
      "3                 황야의 역마차  6.3\n",
      "4                  전원 교향곡    8\n",
      "5                 아버지의 깃발    8\n",
      "6                  여덟번의감정    6\n",
      "7                      레드  8.7\n",
      "8                  영광의 탈출  6.8\n",
      "9                     크로싱  8.8\n",
      "10                 맨 인 블랙  8.9\n",
      "11                    차형사  8.4\n",
      "12             에이지 오브 드래곤  3.9\n",
      "13              로드 오브 워리어  7.4\n",
      "14  [메이킹 다큐] 도둑들 영화를 만들다!  7.9\n",
      "15               괜찮아요 수달씨  7.5\n",
      "16                     파파    9\n",
      "17                 이케맨 뱅크  6.7\n",
      "18           다중인격소녀 ISOLA  5.7\n",
      "19                   위조지폐  6.5\n",
      "20                 카인과 아벨  6.9\n",
      "21                  돌핀 블루  8.2\n",
      "22                   더 코드  7.6\n",
      "23             철권 블러드 벤전스    8\n",
      "24       블루 엘리펀트 (우리말 더빙)  8.8\n",
      "25             해결사 (2010)  8.3\n",
      "26         하나오니 2: 사랑의 시작  8.5\n",
      "27         하나오니 3: 복수의 시간  8.5\n",
      "28         아테나 전쟁의 여신 극장판  7.7\n",
      "29               아이스 프린세스  8.8\n"
     ]
    }
   ],
   "source": [
    "import pandas\n",
    "from pandas import Series, DataFrame\n",
    "\n",
    "df = pandas.read_json('http://swiftapi.rubypaper.co.kr:2029/hoppin/movies?version=1&page=1&count=30&genreId=&order=releasedateasc')\n",
    "#print(df)\n",
    "\n",
    "hoppin = df['hoppin']\n",
    "#print(hoppin)\n",
    "\n",
    "movies = hoppin['movies']\n",
    "#print(movies)\n",
    "\n",
    "movie = movies['movie']\n",
    "#print(movie)\n",
    "\n",
    "\n",
    "rows = []\n",
    "for item in movie:\n",
    "    #print(item['title'], \":\", item['ratingAverage'])\n",
    "    rows.append({'title':item['title'],\n",
    "                 'ratingAverage':item['ratingAverage']})\n",
    "    \n",
    "df = DataFrame(rows)\n",
    "df.columns = ['제목', '평점']\n",
    "print(df)"
   ]
  },
  {
   "cell_type": "code",
   "execution_count": 70,
   "id": "4dc19520",
   "metadata": {},
   "outputs": [
    {
     "name": "stdout",
     "output_type": "stream",
     "text": [
      "<class 'pandas.core.frame.DataFrame'>\n",
      "Int64Index: 100 entries, 0 to 99\n",
      "Data columns (total 3 columns):\n",
      " #   Column    Non-Null Count  Dtype         \n",
      "---  ------    --------------  -----         \n",
      " 0   integer   100 non-null    int64         \n",
      " 1   datetime  100 non-null    datetime64[ns]\n",
      " 2   category  100 non-null    int64         \n",
      "dtypes: datetime64[ns](1), int64(2)\n",
      "memory usage: 3.1 KB\n",
      "   integer            datetime  category\n",
      "0        5 2015-01-01 00:00:00         0\n",
      "1        5 2015-01-01 00:00:01         0\n",
      "2        9 2015-01-01 00:00:02         0\n",
      "3        6 2015-01-01 00:00:03         0\n",
      "4        6 2015-01-01 00:00:04         0\n"
     ]
    }
   ],
   "source": [
    "#orient 옵션 사용하기\n",
    "import pandas\n",
    "from pandas import Series, DataFrame\n",
    "\n",
    "df = pandas.read_json('https://raw.githubusercontent.com/chrisalbon/simulated_datasets/master/data.json')\n",
    "df.info()\n",
    "print(df.head())\n"
   ]
  },
  {
   "cell_type": "code",
   "execution_count": null,
   "id": "4c3248bb",
   "metadata": {},
   "outputs": [],
   "source": []
  },
  {
   "cell_type": "markdown",
   "id": "609d3996",
   "metadata": {},
   "source": [
    "### yaml 사용"
   ]
  },
  {
   "cell_type": "code",
   "execution_count": 73,
   "id": "93a5bed3",
   "metadata": {},
   "outputs": [
    {
     "name": "stdout",
     "output_type": "stream",
     "text": [
      "{'Vegetables': ['Pepper', 'Tomato', 'Garlic']}\n"
     ]
    }
   ],
   "source": [
    "import yaml\n",
    "with open('./data/vegetables.yml') as f:\n",
    "    vegetables = yaml.load(f, Loader=yaml.FullLoader)\n",
    "    print(vegetables)\n",
    "    \n",
    "    \n",
    "fruits = {'fruits':['apple', 'pear', 'kiwi', 'orange']}   \n",
    "with open('./data/fruits.yml', 'w') as f:\n",
    "    yaml.dump(fruits, f)"
   ]
  },
  {
   "cell_type": "code",
   "execution_count": null,
   "id": "299e6af9",
   "metadata": {},
   "outputs": [],
   "source": []
  }
 ],
 "metadata": {
  "kernelspec": {
   "display_name": "Python 3 (ipykernel)",
   "language": "python",
   "name": "python3"
  },
  "language_info": {
   "codemirror_mode": {
    "name": "ipython",
    "version": 3
   },
   "file_extension": ".py",
   "mimetype": "text/x-python",
   "name": "python",
   "nbconvert_exporter": "python",
   "pygments_lexer": "ipython3",
   "version": "3.9.7"
  }
 },
 "nbformat": 4,
 "nbformat_minor": 5
}
