{
 "cells": [
  {
   "cell_type": "markdown",
   "id": "fa45f5e4",
   "metadata": {},
   "source": [
    "#Numpy"
   ]
  },
  {
   "cell_type": "code",
   "execution_count": 5,
   "id": "54e24465",
   "metadata": {},
   "outputs": [
    {
     "name": "stdout",
     "output_type": "stream",
     "text": [
      "리스트 작업 시작시간: 2022-02-08 16:46:13.616077\n",
      "리스트 작업 종료시간: 2022-02-08 16:46:13.702734\n",
      "배열 작업 시작시간: 2022-02-08 16:46:13.704741\n",
      "배열 작업 종료시간: 2022-02-08 16:46:13.707733\n"
     ]
    }
   ],
   "source": [
    "import numpy as np\n",
    "import datetime\n",
    "\n",
    "#ndarray : numpy에서 제공하는 배열\n",
    "\n",
    "#list 생성 - 0부터 999999까지\n",
    "li = list(range(0, 1000000, 1))\n",
    "\n",
    "#현재 시간을 가져오기\n",
    "start = datetime.datetime.now()\n",
    "print('리스트 작업 시작시간:', start)\n",
    "\n",
    "#모든 데이터에 10을 곱해서 저장\n",
    "for i in li:\n",
    "    i * 10\n",
    "\n",
    "end = datetime.datetime.now()\n",
    "print('리스트 작업 종료시간:', end)\n",
    "          \n",
    "ar = np.arange(0, 1000000, 1)\n",
    "          \n",
    "#현재 시간을 가져오기\n",
    "start = datetime.datetime.now()\n",
    "print('배열 작업 시작시간:', start)\n",
    "\n",
    "#모든 데이터에 10을 곱해서 저장\n",
    "ar * 10\n",
    "\n",
    "end = datetime.datetime.now()\n",
    "print('배열 작업 종료시간:', end)"
   ]
  },
  {
   "cell_type": "code",
   "execution_count": null,
   "id": "2ce34427",
   "metadata": {},
   "outputs": [],
   "source": []
  },
  {
   "cell_type": "markdown",
   "id": "f81c6ab7",
   "metadata": {},
   "source": [
    "#특수행렬"
   ]
  },
  {
   "cell_type": "code",
   "execution_count": 13,
   "id": "c1cfdd7c",
   "metadata": {},
   "outputs": [
    {
     "name": "stdout",
     "output_type": "stream",
     "text": [
      "[1. 1. 1. 1. 1. 1. 1. 1. 1. 1.]\n",
      "[[1. 1. 1. 1. 1.]\n",
      " [1. 1. 1. 1. 1.]\n",
      " [1. 1. 1. 1. 1.]\n",
      " [1. 1. 1. 1. 1.]\n",
      " [1. 1. 1. 1. 1.]]\n",
      "[[1. 0.]\n",
      " [0. 1.]]\n",
      "[[0. 1. 0.]\n",
      " [0. 0. 1.]\n",
      " [0. 0. 0.]]\n",
      "[[0. 0. 1.]\n",
      " [0. 0. 0.]\n",
      " [0. 0. 0.]]\n",
      "[1. 1.]\n"
     ]
    }
   ],
   "source": [
    "import numpy as np\n",
    "#1로 10을채운 배열 생성\n",
    "ar1 = np.ones(10)\n",
    "print(ar1)\n",
    "\n",
    "#1로 채워진 5*5 배열 생성\n",
    "ar2 = np.ones((5,5))\n",
    "print(ar2)\n",
    "\n",
    "#2*2정방행렬을 만들고 대각선 방향으로 1을 채운 행렬 생성\n",
    "ar3 = np.eye(2)\n",
    "print(ar3)\n",
    "\n",
    "#1의 위치를 수정\n",
    "ar4 = np.eye(3, k=1)\n",
    "print(ar4)\n",
    "\n",
    "ar5 = np.eye(3, k=2)\n",
    "print(ar5)\n",
    "\n",
    "#대각선에서 데이터를 추출해서 새로운 1차원 배열 생성\n",
    "br = np.diag(ar4, k=1)\n",
    "print(br)"
   ]
  },
  {
   "cell_type": "markdown",
   "id": "7d9b6d4c",
   "metadata": {},
   "source": [
    "#요소의 데이터 타입을 변경"
   ]
  },
  {
   "cell_type": "code",
   "execution_count": 18,
   "id": "1609c847",
   "metadata": {},
   "outputs": [
    {
     "name": "stdout",
     "output_type": "stream",
     "text": [
      "int32\n",
      "<U11\n",
      "int32\n",
      "float32\n"
     ]
    }
   ],
   "source": [
    "import numpy as np\n",
    "\n",
    "#type 설정해서 생성\n",
    "ar = np.array([1, 2, 3])\n",
    "print(ar.dtype)\n",
    "      \n",
    "br = np.array([1, 2, '3'])\n",
    "print(br.dtype)\n",
    "      \n",
    "cr = np.array([1, 2, '3'], dtype=np.int32)\n",
    "print(cr.dtype)\n",
    "      \n",
    "#type을 float32로 변경\n",
    "ar = ar.astype(np.float32)\n",
    "print(ar.dtype)"
   ]
  },
  {
   "cell_type": "markdown",
   "id": "8a0a51d4",
   "metadata": {},
   "source": [
    "행렬의 구조 변경"
   ]
  },
  {
   "cell_type": "code",
   "execution_count": 27,
   "id": "13dd99b1",
   "metadata": {},
   "outputs": [
    {
     "name": "stdout",
     "output_type": "stream",
     "text": [
      "[0 1 2 3 4 5 6 7 8 9]\n",
      "[[0 1 2 3 4]\n",
      " [5 6 7 8 9]]\n",
      "[0 1 2 3 4 5 6 7 8 9]\n",
      "[0 1 2 3 4 5 6 7 8 9]\n",
      "[[[ 0  1]\n",
      "  [ 2  3]\n",
      "  [ 4  5]\n",
      "  [ 6  7]\n",
      "  [ 8  9]]\n",
      "\n",
      " [[10 11]\n",
      "  [12 13]\n",
      "  [14 15]\n",
      "  [16 17]\n",
      "  [18 19]]]\n",
      "[[[ 0  1]\n",
      "  [ 2  3]\n",
      "  [ 4  5]\n",
      "  [ 6  7]\n",
      "  [ 8  9]]\n",
      "\n",
      " [[10 11]\n",
      "  [12 13]\n",
      "  [14 15]\n",
      "  [16 17]\n",
      "  [18 19]]]\n"
     ]
    }
   ],
   "source": [
    "import numpy as np\n",
    "\n",
    "#1차원 배열 생성\n",
    "ar = np.arange(10)\n",
    "print(ar)\n",
    "\n",
    "#2차원 배열 생성\n",
    "br = ar.reshape(2, 5)\n",
    "print(br)\n",
    "\n",
    "#2차원을 1차원 배열로 변환\n",
    "print(br.reshape(-1))\n",
    "print(br.flatten())\n",
    "\n",
    "\n",
    "#1차원 배열 생성\n",
    "ar = np.arange(20)\n",
    "#print(ar.reshape(2,5)) #10개만 생성되므로 에러\n",
    "#1차원 배열을 3차원으로 변환\n",
    "print(ar.reshape(2, 5, 2))\n",
    "#마지막 차원의 개수는 -1로  설정하면 알아서 분할해서 생성해 줍니다\n",
    "print(ar.reshape(2, 5, -1))"
   ]
  },
  {
   "cell_type": "markdown",
   "id": "5ad606e4",
   "metadata": {},
   "source": [
    "인덱싱 - 데이터의 일부분을 선택"
   ]
  },
  {
   "cell_type": "code",
   "execution_count": 6,
   "id": "115776ac",
   "metadata": {},
   "outputs": [
    {
     "name": "stdout",
     "output_type": "stream",
     "text": [
      "[[ 1  2  3  4  5]\n",
      " [ 6  7  8  9 10]\n",
      " [11 12 13 14 15]\n",
      " [16 17 18 19 20]]\n",
      "8\n",
      "8\n",
      "[ 6  7  8  9 10]\n",
      "[400 500]\n",
      "[100 200 300]\n",
      "[3000  200  300  400  500]\n",
      "[2000  200  300  400  500]\n",
      "[2000  200  300  400  500]\n"
     ]
    }
   ],
   "source": [
    "import numpy as np\n",
    "\n",
    "ar = np.array([100, 200, 300, 400, 500])\n",
    "\n",
    "#1차원 배열 생성한 후 4*5의 2차원 배열로 변환\n",
    "matrix = np.array(range(1, 21)).reshape(4,5)\n",
    "print(matrix)\n",
    "\n",
    "#2차원 배열에서 하나의 요소를 추출\n",
    "print(matrix[1, 2])\n",
    "print(matrix[1][2])\n",
    "\n",
    "#2차원 배열에서 하나의 인덱스를 대입해서 추출 - 1행 전체\n",
    "print(matrix[1])\n",
    "\n",
    "#특정위치부터 끝까지\n",
    "print(ar[3:])\n",
    "#특정 시작위치부터 특정위치까지\n",
    "print(ar[:3])  #3번은 포함되지않습니다.\n",
    "\n",
    "#일반적인 인덱싱은 데이터에 대한 뷰\n",
    "ar[0] = 3000\n",
    "print(ar)\n",
    "\n",
    "xr = ar[0:3]\n",
    "xr[0] = 2000\n",
    "print(ar)\n",
    "\n",
    "#복제를 하고자 하면 인덱싱 한 후 copy()를 호출해야 한다\n",
    "xr = ar[0:3].copy()\n",
    "xr[0] = 1000\n",
    "print(ar)"
   ]
  },
  {
   "cell_type": "markdown",
   "id": "b3ce2e3c",
   "metadata": {},
   "source": [
    "Fancy Indexing"
   ]
  },
  {
   "cell_type": "code",
   "execution_count": 14,
   "id": "1a766fde",
   "metadata": {},
   "outputs": [
    {
     "name": "stdout",
     "output_type": "stream",
     "text": [
      "[100 300 500]\n",
      "[100 200 300 400 500]\n"
     ]
    }
   ],
   "source": [
    "import numpy as n\n",
    "\n",
    "ar = np.array([100, 200, 300, 400, 500])\n",
    "\n",
    "#범위 대신에 list를 이용해서 인덱싱 - Fancy Indexing\n",
    "xr = ar[[0, 2, 4]]\n",
    "print(xr)\n",
    "\n",
    "#Fancy Indexing은 복제를 수행한다\n",
    "xr[0] = 20000\n",
    "print(ar)"
   ]
  },
  {
   "cell_type": "code",
   "execution_count": null,
   "id": "229fe8f0",
   "metadata": {},
   "outputs": [],
   "source": []
  },
  {
   "cell_type": "code",
   "execution_count": null,
   "id": "28b6c44b",
   "metadata": {},
   "outputs": [],
   "source": []
  },
  {
   "cell_type": "code",
   "execution_count": null,
   "id": "158e6aae",
   "metadata": {},
   "outputs": [],
   "source": []
  },
  {
   "cell_type": "code",
   "execution_count": null,
   "id": "66a5a5b1",
   "metadata": {},
   "outputs": [],
   "source": []
  },
  {
   "cell_type": "markdown",
   "id": "f6e46c68",
   "metadata": {},
   "source": [
    "랜덤한 숫자 샘플링"
   ]
  },
  {
   "cell_type": "code",
   "execution_count": 16,
   "id": "371b4ca7",
   "metadata": {},
   "outputs": [
    {
     "name": "stdout",
     "output_type": "stream",
     "text": [
      "[4 3 1 0 2]\n",
      "[1 4 2 0 3]\n"
     ]
    }
   ],
   "source": [
    "import numpy as np\n",
    "#0부터 4까지 비복원 추출을 이용해서 배열을 만들어서 리턴\n",
    "print(np.random.permutation(5))\n",
    "\n",
    "#seed를 고정\n",
    "np.random.seed(42)\n",
    "\n",
    "print(np.random.permutation(5))"
   ]
  },
  {
   "cell_type": "markdown",
   "id": "6a19556d",
   "metadata": {},
   "source": [
    "#기본 통계 함수"
   ]
  },
  {
   "cell_type": "code",
   "execution_count": 22,
   "id": "e6dcb450",
   "metadata": {},
   "outputs": [
    {
     "name": "stdout",
     "output_type": "stream",
     "text": [
      "[10 20 12 30 40 21 31 23]\n",
      "[[10 20]\n",
      " [12 30]\n",
      " [40 21]\n",
      " [31 23]]\n",
      "합계: 187\n",
      "표준편차(자유도 적용 안함): 9.379998667377304\n",
      "표준편차(자유도 1 적용): 10.027640371920576\n",
      "3사분위 수: 30.25\n",
      "최대값: 40\n",
      "최대값: [40 30]\n",
      "최대값: [20 30 40 31]\n"
     ]
    },
    {
     "ename": "NameError",
     "evalue": "name 'true' is not defined",
     "output_type": "error",
     "traceback": [
      "\u001b[1;31m---------------------------------------------------------------------------\u001b[0m",
      "\u001b[1;31mNameError\u001b[0m                                 Traceback (most recent call last)",
      "\u001b[1;32m~\\AppData\\Local\\Temp/ipykernel_10716/830794682.py\u001b[0m in \u001b[0;36m<module>\u001b[1;34m\u001b[0m\n\u001b[0;32m     23\u001b[0m \u001b[0mprint\u001b[0m\u001b[1;33m(\u001b[0m\u001b[1;34m\"최대값:\"\u001b[0m\u001b[1;33m,\u001b[0m \u001b[0mnp\u001b[0m\u001b[1;33m.\u001b[0m\u001b[0mmax\u001b[0m\u001b[1;33m(\u001b[0m\u001b[0mbr\u001b[0m\u001b[1;33m,\u001b[0m \u001b[0maxis\u001b[0m\u001b[1;33m=\u001b[0m\u001b[1;36m1\u001b[0m\u001b[1;33m)\u001b[0m\u001b[1;33m)\u001b[0m\u001b[1;33m\u001b[0m\u001b[1;33m\u001b[0m\u001b[0m\n\u001b[0;32m     24\u001b[0m \u001b[1;31m#결과를 원래 데이터의 차원인 2차원으로 만들어서 리턴\u001b[0m\u001b[1;33m\u001b[0m\u001b[1;33m\u001b[0m\u001b[0m\n\u001b[1;32m---> 25\u001b[1;33m \u001b[0mprint\u001b[0m\u001b[1;33m(\u001b[0m\u001b[1;34m\"최대값:\"\u001b[0m\u001b[1;33m,\u001b[0m \u001b[0mnp\u001b[0m\u001b[1;33m.\u001b[0m\u001b[0mmax\u001b[0m\u001b[1;33m(\u001b[0m\u001b[0mbr\u001b[0m\u001b[1;33m,\u001b[0m \u001b[0maxis\u001b[0m\u001b[1;33m=\u001b[0m\u001b[1;36m0\u001b[0m\u001b[1;33m,\u001b[0m \u001b[0mkeepdims\u001b[0m\u001b[1;33m=\u001b[0m\u001b[0mtrue\u001b[0m\u001b[1;33m)\u001b[0m\u001b[1;33m)\u001b[0m\u001b[1;33m\u001b[0m\u001b[1;33m\u001b[0m\u001b[0m\n\u001b[0m",
      "\u001b[1;31mNameError\u001b[0m: name 'true' is not defined"
     ]
    }
   ],
   "source": [
    "import numpy as np\n",
    "\n",
    "ar = np.array([10, 20, 12, 30, 40, 21, 31, 23])\n",
    "\n",
    "br = ar.reshape(4, 2)\n",
    "\n",
    "print(ar)\n",
    "print(br)\n",
    "\n",
    "print(\"합계:\", np.sum(ar))\n",
    "#데이터 개수로 나눈 값: 수학에서 사용\n",
    "print(\"표준편차(자유도 적용 안함):\", np.std(ar))\n",
    "#데이터 개수 -1로 나눈 값: 통계학에서 사용\n",
    "print(\"표준편차(자유도 1 적용):\", np.std(ar, ddof=1))\n",
    "#3사분위 수 구하기\n",
    "print(\"3사분위 수:\", np.percentile(ar, 75))\n",
    "\n",
    "\n",
    "#2차원 배열\n",
    "print(\"최대값:\", np.max(br))\n",
    "#행과 열 단위로 최대값 구하기\n",
    "print(\"최대값:\", np.max(br, axis=0))\n",
    "print(\"최대값:\", np.max(br, axis=1))\n",
    "#결과를 원래 데이터의 차원인 2차원으로 만들어서 리턴\n",
    "print(\"최대값:\", np.max(br, axis=0, keepdims=true))"
   ]
  },
  {
   "cell_type": "markdown",
   "id": "d5dce209",
   "metadata": {},
   "source": [
    "배열 통계"
   ]
  },
  {
   "cell_type": "code",
   "execution_count": 30,
   "id": "2f48105c",
   "metadata": {},
   "outputs": [
    {
     "name": "stdout",
     "output_type": "stream",
     "text": [
      "최대값: 40\n",
      "최대값의 위치: 4\n",
      "int32\n",
      "누적합: [ 10  30  42  72 112 133 164 187]\n",
      "1차 차분: [ 10  -8  18  10 -19  10  -8]\n",
      "1차 차분: [ 1.  -0.8  1.8  1.  -1.9  1.  -0.8]\n",
      "2차 차분: [-18  26  -8 -29  29 -18]\n",
      "object\n"
     ]
    }
   ],
   "source": [
    "import numpy as np\n",
    "\n",
    "ar = np.array([10, 20, 12, 30, 40, 21, 31, 23])\n",
    "\n",
    "print(\"최대값:\", np.max(ar))\n",
    "print(\"최대값의 위치:\", np.argmax(ar))\n",
    "\n",
    "br = np.array([10, 20, 12, 30, 40, 21, 31, 23])\n",
    "print(br.dtype)\n",
    "print(\"누적합:\", np.cumsum(ar))\n",
    "#원본 데이터 개수보다 차분을 할때마다 1개씩 결과가 줄어듭니다.\n",
    "print(\"1차 차분:\", np.diff(ar))\n",
    "print(\"1차 차분:\", np.diff(ar)/ar[0])\n",
    "print(\"2차 차분:\", np.diff(ar, n=2))\n",
    "\n",
    "br = np.array([10, 20, 12, None, 40, 21, 31, 23])\n",
    "print(br.dtype)             "
   ]
  },
  {
   "cell_type": "markdown",
   "id": "a413f977",
   "metadata": {},
   "source": [
    "where"
   ]
  },
  {
   "cell_type": "code",
   "execution_count": 35,
   "id": "079066f1",
   "metadata": {},
   "outputs": [
    {
     "name": "stdout",
     "output_type": "stream",
     "text": [
      "[ 1 20 30  4]\n"
     ]
    }
   ],
   "source": [
    "import numpy as np\n",
    "ar = np.array([1, 2, 3, 4])\n",
    "br = np.array([10, 20, 30, 40])\n",
    "\n",
    "condition = np.array([True, False, False, True])\n",
    "\n",
    "#True인 경우는 ar의 데이터를 가져오고 False인 경우는 br의 데이터를 가져옴\n",
    "print(np.where(condition, ar, br))\n"
   ]
  },
  {
   "cell_type": "markdown",
   "id": "a1345f36",
   "metadata": {},
   "source": [
    "집합 관련 함수"
   ]
  },
  {
   "cell_type": "code",
   "execution_count": 39,
   "id": "7e21a105",
   "metadata": {},
   "outputs": [
    {
     "name": "stdout",
     "output_type": "stream",
     "text": [
      "[1 2 3 4]\n",
      "[1 4]\n",
      "[ 1  4 10 40]\n"
     ]
    }
   ],
   "source": [
    "import numpy as np\n",
    "ar = np.array([1, 2, 3, 4, 1])\n",
    "br = np.array([10, 2, 3, 40])\n",
    "\n",
    "#중복 제거\n",
    "print(np.unique(ar))\n",
    "\n",
    "#ar에는 존재하고 br에는 없는 데이터\n",
    "print(np.setdiff1d(ar, br))\n",
    "#ar, br 중 한쪽에만 존재하는 데이터\n",
    "print(np.setxor1d(ar, br))"
   ]
  },
  {
   "cell_type": "markdown",
   "id": "f9e0ceb2",
   "metadata": {},
   "source": [
    "정렬"
   ]
  },
  {
   "cell_type": "code",
   "execution_count": 38,
   "id": "a3eb428b",
   "metadata": {},
   "outputs": [
    {
     "name": "stdout",
     "output_type": "stream",
     "text": [
      "Help on function sort in module numpy:\n",
      "\n",
      "sort(a, axis=-1, kind=None, order=None)\n",
      "    Return a sorted copy of an array.\n",
      "    \n",
      "    Parameters\n",
      "    ----------\n",
      "    a : array_like\n",
      "        Array to be sorted.\n",
      "    axis : int or None, optional\n",
      "        Axis along which to sort. If None, the array is flattened before\n",
      "        sorting. The default is -1, which sorts along the last axis.\n",
      "    kind : {'quicksort', 'mergesort', 'heapsort', 'stable'}, optional\n",
      "        Sorting algorithm. The default is 'quicksort'. Note that both 'stable'\n",
      "        and 'mergesort' use timsort or radix sort under the covers and, in general,\n",
      "        the actual implementation will vary with data type. The 'mergesort' option\n",
      "        is retained for backwards compatibility.\n",
      "    \n",
      "        .. versionchanged:: 1.15.0.\n",
      "           The 'stable' option was added.\n",
      "    \n",
      "    order : str or list of str, optional\n",
      "        When `a` is an array with fields defined, this argument specifies\n",
      "        which fields to compare first, second, etc.  A single field can\n",
      "        be specified as a string, and not all fields need be specified,\n",
      "        but unspecified fields will still be used, in the order in which\n",
      "        they come up in the dtype, to break ties.\n",
      "    \n",
      "    Returns\n",
      "    -------\n",
      "    sorted_array : ndarray\n",
      "        Array of the same type and shape as `a`.\n",
      "    \n",
      "    See Also\n",
      "    --------\n",
      "    ndarray.sort : Method to sort an array in-place.\n",
      "    argsort : Indirect sort.\n",
      "    lexsort : Indirect stable sort on multiple keys.\n",
      "    searchsorted : Find elements in a sorted array.\n",
      "    partition : Partial sort.\n",
      "    \n",
      "    Notes\n",
      "    -----\n",
      "    The various sorting algorithms are characterized by their average speed,\n",
      "    worst case performance, work space size, and whether they are stable. A\n",
      "    stable sort keeps items with the same key in the same relative\n",
      "    order. The four algorithms implemented in NumPy have the following\n",
      "    properties:\n",
      "    \n",
      "    =========== ======= ============= ============ ========\n",
      "       kind      speed   worst case    work space   stable\n",
      "    =========== ======= ============= ============ ========\n",
      "    'quicksort'    1     O(n^2)            0          no\n",
      "    'heapsort'     3     O(n*log(n))       0          no\n",
      "    'mergesort'    2     O(n*log(n))      ~n/2        yes\n",
      "    'timsort'      2     O(n*log(n))      ~n/2        yes\n",
      "    =========== ======= ============= ============ ========\n",
      "    \n",
      "    .. note:: The datatype determines which of 'mergesort' or 'timsort'\n",
      "       is actually used, even if 'mergesort' is specified. User selection\n",
      "       at a finer scale is not currently available.\n",
      "    \n",
      "    All the sort algorithms make temporary copies of the data when\n",
      "    sorting along any but the last axis.  Consequently, sorting along\n",
      "    the last axis is faster and uses less space than sorting along\n",
      "    any other axis.\n",
      "    \n",
      "    The sort order for complex numbers is lexicographic. If both the real\n",
      "    and imaginary parts are non-nan then the order is determined by the\n",
      "    real parts except when they are equal, in which case the order is\n",
      "    determined by the imaginary parts.\n",
      "    \n",
      "    Previous to numpy 1.4.0 sorting real and complex arrays containing nan\n",
      "    values led to undefined behaviour. In numpy versions >= 1.4.0 nan\n",
      "    values are sorted to the end. The extended sort order is:\n",
      "    \n",
      "      * Real: [R, nan]\n",
      "      * Complex: [R + Rj, R + nanj, nan + Rj, nan + nanj]\n",
      "    \n",
      "    where R is a non-nan real value. Complex values with the same nan\n",
      "    placements are sorted according to the non-nan part if it exists.\n",
      "    Non-nan values are sorted as before.\n",
      "    \n",
      "    .. versionadded:: 1.12.0\n",
      "    \n",
      "    quicksort has been changed to `introsort <https://en.wikipedia.org/wiki/Introsort>`_.\n",
      "    When sorting does not make enough progress it switches to\n",
      "    `heapsort <https://en.wikipedia.org/wiki/Heapsort>`_.\n",
      "    This implementation makes quicksort O(n*log(n)) in the worst case.\n",
      "    \n",
      "    'stable' automatically chooses the best stable sorting algorithm\n",
      "    for the data type being sorted.\n",
      "    It, along with 'mergesort' is currently mapped to\n",
      "    `timsort <https://en.wikipedia.org/wiki/Timsort>`_\n",
      "    or `radix sort <https://en.wikipedia.org/wiki/Radix_sort>`_\n",
      "    depending on the data type.\n",
      "    API forward compatibility currently limits the\n",
      "    ability to select the implementation and it is hardwired for the different\n",
      "    data types.\n",
      "    \n",
      "    .. versionadded:: 1.17.0\n",
      "    \n",
      "    Timsort is added for better performance on already or nearly\n",
      "    sorted data. On random data timsort is almost identical to\n",
      "    mergesort. It is now used for stable sort while quicksort is still the\n",
      "    default sort if none is chosen. For timsort details, refer to\n",
      "    `CPython listsort.txt <https://github.com/python/cpython/blob/3.7/Objects/listsort.txt>`_.\n",
      "    'mergesort' and 'stable' are mapped to radix sort for integer data types. Radix sort is an\n",
      "    O(n) sort instead of O(n log n).\n",
      "    \n",
      "    .. versionchanged:: 1.18.0\n",
      "    \n",
      "    NaT now sorts to the end of arrays for consistency with NaN.\n",
      "    \n",
      "    Examples\n",
      "    --------\n",
      "    >>> a = np.array([[1,4],[3,1]])\n",
      "    >>> np.sort(a)                # sort along the last axis\n",
      "    array([[1, 4],\n",
      "           [1, 3]])\n",
      "    >>> np.sort(a, axis=None)     # sort the flattened array\n",
      "    array([1, 1, 3, 4])\n",
      "    >>> np.sort(a, axis=0)        # sort along the first axis\n",
      "    array([[1, 1],\n",
      "           [3, 4]])\n",
      "    \n",
      "    Use the `order` keyword to specify a field to use when sorting a\n",
      "    structured array:\n",
      "    \n",
      "    >>> dtype = [('name', 'S10'), ('height', float), ('age', int)]\n",
      "    >>> values = [('Arthur', 1.8, 41), ('Lancelot', 1.9, 38),\n",
      "    ...           ('Galahad', 1.7, 38)]\n",
      "    >>> a = np.array(values, dtype=dtype)       # create a structured array\n",
      "    >>> np.sort(a, order='height')                        # doctest: +SKIP\n",
      "    array([('Galahad', 1.7, 38), ('Arthur', 1.8, 41),\n",
      "           ('Lancelot', 1.8999999999999999, 38)],\n",
      "          dtype=[('name', '|S10'), ('height', '<f8'), ('age', '<i4')])\n",
      "    \n",
      "    Sort by age, then height if ages are equal:\n",
      "    \n",
      "    >>> np.sort(a, order=['age', 'height'])               # doctest: +SKIP\n",
      "    array([('Galahad', 1.7, 38), ('Lancelot', 1.8999999999999999, 38),\n",
      "           ('Arthur', 1.8, 41)],\n",
      "          dtype=[('name', '|S10'), ('height', '<f8'), ('age', '<i4')])\n",
      "\n"
     ]
    }
   ],
   "source": [
    "import numpy as np\n",
    "help(np.sort)"
   ]
  },
  {
   "cell_type": "code",
   "execution_count": 43,
   "id": "8a83e236",
   "metadata": {},
   "outputs": [
    {
     "name": "stdout",
     "output_type": "stream",
     "text": [
      "[10 20 30 50]\n",
      "[50 30 20 10]\n",
      "[50 30 20 10]\n"
     ]
    }
   ],
   "source": [
    "import numpy as np\n",
    "\n",
    "ar = np.array([10, 30, 20, 50])\n",
    "\n",
    "br = np.sort(ar)\n",
    "print(br)\n",
    "\n",
    "#내림차순\n",
    "#역순으로 접근하고자 하는 경우 list 같은 경우는 reverse 함수를 이용하지만 \n",
    "#ndarray는 인덱싱을 이용\n",
    "cr = np.sort(ar)[::-1]\n",
    "print(cr)\n",
    "\n",
    "#정렬 알고리즘 설정\n",
    "#알고리즘 테스트를 위해서 정렬을 공부할 때는\n",
    "#selection, bubble, insertion, quick, merge, heap 정렬을 해두는 것이 좋음\n",
    "dr = np.sort(ar, kind='mergesort')[::-1]\n",
    "print(dr)"
   ]
  },
  {
   "cell_type": "markdown",
   "id": "ad80ba06",
   "metadata": {},
   "source": [
    "배열 분할 - split"
   ]
  },
  {
   "cell_type": "code",
   "execution_count": 46,
   "id": "245602c8",
   "metadata": {},
   "outputs": [
    {
     "name": "stdout",
     "output_type": "stream",
     "text": [
      "[[ 1  2  3  4]\n",
      " [ 5  6  7  8]\n",
      " [ 9 10 11 12]\n",
      " [13 14 15 16]]\n",
      "[array([[1, 2, 3, 4],\n",
      "       [5, 6, 7, 8]]), array([[ 9, 10, 11, 12],\n",
      "       [13, 14, 15, 16]])]\n",
      "[array([[ 1,  2],\n",
      "       [ 5,  6],\n",
      "       [ 9, 10],\n",
      "       [13, 14]]), array([[ 3,  4],\n",
      "       [ 7,  8],\n",
      "       [11, 12],\n",
      "       [15, 16]])]\n"
     ]
    }
   ],
   "source": [
    "import numpy as np\n",
    "ar = np.array(range(1, 17)).reshape(4, -1)\n",
    "print(ar)\n",
    "\n",
    "#기본적으로 행방향으로 분할\n",
    "ar_split = np.split(ar, 2)\n",
    "print(ar_split)\n",
    "\n",
    "#열 방향으로 분할\n",
    "ar_split = np.split(ar, 2, axis=1)\n",
    "print(ar_split)"
   ]
  },
  {
   "cell_type": "markdown",
   "id": "88d8416c",
   "metadata": {},
   "source": [
    "배열 합치기"
   ]
  },
  {
   "cell_type": "code",
   "execution_count": 48,
   "id": "a9854011",
   "metadata": {},
   "outputs": [
    {
     "name": "stdout",
     "output_type": "stream",
     "text": [
      "[1 2 3 4 5 6 7 8]\n"
     ]
    }
   ],
   "source": [
    "#concatenate\n",
    "\n",
    "import numpy as np\n",
    "\n",
    "ar = np.array([1,2,3,4])\n",
    "br = np.array([5,6,7,8])\n",
    "\n",
    "cr = np.concatenate((ar, br))\n",
    "print(cr)\n",
    "\n",
    "#1차원 배열은 axis가없음\n",
    "#dr = np.concatenate((ar,br), axis=1)\n",
    "#print(dr)"
   ]
  },
  {
   "cell_type": "code",
   "execution_count": null,
   "id": "030c5520",
   "metadata": {},
   "outputs": [],
   "source": []
  },
  {
   "cell_type": "code",
   "execution_count": null,
   "id": "cefd2859",
   "metadata": {},
   "outputs": [],
   "source": []
  },
  {
   "cell_type": "code",
   "execution_count": null,
   "id": "6c144e81",
   "metadata": {},
   "outputs": [],
   "source": []
  },
  {
   "cell_type": "markdown",
   "id": "518ffef1",
   "metadata": {},
   "source": [
    "데이터 저장과 읽기 - 중요, 확장자 확인"
   ]
  },
  {
   "cell_type": "code",
   "execution_count": 53,
   "id": "3e15da80",
   "metadata": {},
   "outputs": [
    {
     "name": "stdout",
     "output_type": "stream",
     "text": [
      "[1 2 3 4]\n",
      "<numpy.lib.npyio.NpzFile object at 0x00000234C0088EE0>\n",
      "[5 6 7 8]\n"
     ]
    }
   ],
   "source": [
    "import numpy as np\n",
    "\n",
    "ar = np.array([1, 2, 3, 4])\n",
    "br = np.array([5, 6, 7, 8])\n",
    "\n",
    "#하나의 데이터ㅓ 저장\n",
    "np.save('c://programming/python/data/pratice.npy', ar)\n",
    "#여러개의 데이터를 저장하고자 할때는 이름과 함께 설정\n",
    "np.savez('c://programming/python/data/pratices.npy', ar=ar, br=br)\n",
    "#읽어오기\n",
    "xr = np.load('c://programming/python/data/pratice.npy')\n",
    "print(xr)\n",
    "xr = np.load('c://programming/python/data/pratices.npy.npz')\n",
    "print(xr)\n",
    "#여러 개를 저장한 경우에는 이름이 인덱스가 된다\n",
    "print(xr['br'])"
   ]
  }
 ],
 "metadata": {
  "kernelspec": {
   "display_name": "Python 3 (ipykernel)",
   "language": "python",
   "name": "python3"
  },
  "language_info": {
   "codemirror_mode": {
    "name": "ipython",
    "version": 3
   },
   "file_extension": ".py",
   "mimetype": "text/x-python",
   "name": "python",
   "nbconvert_exporter": "python",
   "pygments_lexer": "ipython3",
   "version": "3.9.7"
  }
 },
 "nbformat": 4,
 "nbformat_minor": 5
}
