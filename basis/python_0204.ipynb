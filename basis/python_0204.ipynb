{
 "cells": [
  {
   "cell_type": "markdown",
   "id": "23268486",
   "metadata": {},
   "source": [
    "# Threading"
   ]
  },
  {
   "cell_type": "markdown",
   "id": "58fdaac0",
   "metadata": {},
   "source": [
    "## 공유 자원 수정 문제 발생"
   ]
  },
  {
   "cell_type": "code",
   "execution_count": 1,
   "id": "c7dcaed3",
   "metadata": {},
   "outputs": [
    {
     "name": "stdout",
     "output_type": "stream",
     "text": [
      "id=Thread-8 증가하기 전 --> 0id=Thread-9 증가하기 전 --> 0\n",
      "\n",
      "id=Thread-9 증가한 후 --> 2id=Thread-8 증가한 후 --> 2\n",
      "\n",
      "id=Thread-9 증가하기 전 --> 2id=Thread-8 증가하기 전 --> 2\n",
      "\n",
      "id=Thread-8 증가한 후 --> 4\n",
      "id=Thread-9 증가한 후 --> 4\n",
      "id=Thread-9 증가하기 전 --> 4id=Thread-8 증가하기 전 --> 4\n",
      "\n",
      "id=Thread-9 증가한 후 --> 6id=Thread-8 증가한 후 --> 6\n",
      "\n",
      "id=Thread-8 증가하기 전 --> 6id=Thread-9 증가하기 전 --> 6\n",
      "\n",
      "id=Thread-8 증가한 후 --> 8id=Thread-9 증가한 후 --> 8\n",
      "\n",
      "id=Thread-9 증가하기 전 --> 8id=Thread-8 증가하기 전 --> 8\n",
      "\n",
      "id=Thread-8 증가한 후 --> 10id=Thread-9 증가한 후 --> 10\n",
      "\n",
      "id=Thread-9 증가하기 전 --> 10id=Thread-8 증가하기 전 --> 10\n",
      "\n",
      "id=Thread-9 증가한 후 --> 12id=Thread-8 증가한 후 --> 12\n",
      "\n",
      "id=Thread-9 증가하기 전 --> 12id=Thread-8 증가하기 전 --> 12\n",
      "\n",
      "id=Thread-9 증가한 후 --> 14id=Thread-8 증가한 후 --> 14\n",
      "\n",
      "id=Thread-8 증가하기 전 --> 14id=Thread-9 증가하기 전 --> 14\n",
      "\n",
      "id=Thread-8 증가한 후 --> 16id=Thread-9 증가한 후 --> 16\n",
      "\n",
      "id=Thread-9 증가하기 전 --> 16id=Thread-8 증가하기 전 --> 16\n",
      "\n",
      "id=Thread-9 증가한 후 --> 18id=Thread-8 증가한 후 --> 18\n",
      "\n",
      "id=Thread-9 증가하기 전 --> 18id=Thread-8 증가하기 전 --> 18\n",
      "\n",
      "id=Thread-9 증가한 후 --> 20id=Thread-8 증가한 후 --> 20\n",
      "\n"
     ]
    }
   ],
   "source": [
    "import threading, time\n",
    "\n",
    "#공유 자원을 생성\n",
    "g_count = 0\n",
    "\n",
    "#스레드 클래스 생성\n",
    "class ThreadEx(threading.Thread):\n",
    "    def run(self):\n",
    "        #파이썬에서 함수 외부의 변수를 사용하기\n",
    "        global g_count\n",
    "        \n",
    "        for i in range(0,10,1):\n",
    "            print('id={0} 증가하기 전 --> {1}'\n",
    "                  .format(self.getName(), g_count))\n",
    "            g_count = g_count + 1\n",
    "            #스레드 전환을 위해서 잠시 대기\n",
    "            time.sleep(0.5)\n",
    "            print('id={0} 증가한 후 --> {1}'\n",
    "                  .format(self.getName(), g_count))\n",
    "            time.sleep(0.5)\n",
    "            \n",
    "#스레드를 생성해서 실행\n",
    "for i in range(2):\n",
    "    th = ThreadEx()\n",
    "    th.start()\n",
    "            "
   ]
  },
  {
   "cell_type": "markdown",
   "id": "1c65acd1",
   "metadata": {},
   "source": [
    "## 공유 자원의 수정 문제 해결"
   ]
  },
  {
   "cell_type": "code",
   "execution_count": 2,
   "id": "414476ea",
   "metadata": {},
   "outputs": [
    {
     "name": "stdout",
     "output_type": "stream",
     "text": [
      "id=Thread-10 증가하기 전 --> 0\n",
      "id=Thread-10 증가한 후 --> 1\n",
      "id=Thread-11 증가하기 전 --> 1\n",
      "id=Thread-11 증가한 후 --> 2\n",
      "id=Thread-10 증가하기 전 --> 2\n",
      "id=Thread-10 증가한 후 --> 3\n",
      "id=Thread-11 증가하기 전 --> 3\n",
      "id=Thread-11 증가한 후 --> 4\n",
      "id=Thread-10 증가하기 전 --> 4\n",
      "id=Thread-10 증가한 후 --> 5\n",
      "id=Thread-11 증가하기 전 --> 5\n",
      "id=Thread-11 증가한 후 --> 6\n",
      "id=Thread-10 증가하기 전 --> 6\n",
      "id=Thread-10 증가한 후 --> 7\n",
      "id=Thread-11 증가하기 전 --> 7\n",
      "id=Thread-11 증가한 후 --> 8\n",
      "id=Thread-10 증가하기 전 --> 8\n",
      "id=Thread-10 증가한 후 --> 9\n",
      "id=Thread-11 증가하기 전 --> 9\n",
      "id=Thread-11 증가한 후 --> 10\n",
      "id=Thread-10 증가하기 전 --> 10\n",
      "id=Thread-10 증가한 후 --> 11\n",
      "id=Thread-11 증가하기 전 --> 11\n",
      "id=Thread-11 증가한 후 --> 12\n",
      "id=Thread-10 증가하기 전 --> 12\n",
      "id=Thread-10 증가한 후 --> 13\n",
      "id=Thread-11 증가하기 전 --> 13\n",
      "id=Thread-11 증가한 후 --> 14\n",
      "id=Thread-10 증가하기 전 --> 14\n",
      "id=Thread-10 증가한 후 --> 15\n",
      "id=Thread-11 증가하기 전 --> 15\n",
      "id=Thread-11 증가한 후 --> 16\n",
      "id=Thread-10 증가하기 전 --> 16\n",
      "id=Thread-10 증가한 후 --> 17\n",
      "id=Thread-11 증가하기 전 --> 17\n",
      "id=Thread-11 증가한 후 --> 18\n",
      "id=Thread-10 증가하기 전 --> 18\n",
      "id=Thread-10 증가한 후 --> 19\n",
      "id=Thread-11 증가하기 전 --> 19\n",
      "id=Thread-11 증가한 후 --> 20\n"
     ]
    }
   ],
   "source": [
    "import threading, time\n",
    "\n",
    "#공유 자원을 생성\n",
    "g_count = 0\n",
    "\n",
    "#상호배제를 위한 인스턴스 생성\n",
    "lock = threading.Lock()\n",
    "\n",
    "#스레드 클래스 생성\n",
    "class ThreadEx(threading.Thread):\n",
    "    def run(self):\n",
    "        #파이썬에서 함수 외부의 변수를 사용하기\n",
    "        global g_count\n",
    "        global lock\n",
    "        \n",
    "        for i in range(0,10,1):\n",
    "            #다른 스레드가 작업을 할 수 없도록 합니다.\n",
    "            lock.acquire()\n",
    "            print('id={0} 증가하기 전 --> {1}'\n",
    "                  .format(self.getName(), g_count))\n",
    "            g_count = g_count + 1\n",
    "            #스레드 전환을 위해서 잠시 대기\n",
    "            time.sleep(0.5)\n",
    "            print('id={0} 증가한 후 --> {1}'\n",
    "                  .format(self.getName(), g_count))\n",
    "            #다른 스레드가 작업할 수 있도록 합니다.\n",
    "            lock.release()\n",
    "            \n",
    "            time.sleep(0.5)\n",
    "            \n",
    "#스레드를 생성해서 실행\n",
    "for i in range(2):\n",
    "    th = ThreadEx()\n",
    "    th.start()\n",
    "            "
   ]
  },
  {
   "cell_type": "code",
   "execution_count": null,
   "id": "59d7071c",
   "metadata": {},
   "outputs": [],
   "source": []
  },
  {
   "cell_type": "markdown",
   "id": "0956ac3c",
   "metadata": {},
   "source": [
    "# 파일 핸들링"
   ]
  },
  {
   "cell_type": "markdown",
   "id": "6a555dd4",
   "metadata": {},
   "source": [
    "## 파일에 읽고 쓰기"
   ]
  },
  {
   "cell_type": "code",
   "execution_count": 5,
   "id": "4c1d64de",
   "metadata": {},
   "outputs": [
    {
     "name": "stdout",
     "output_type": "stream",
     "text": [
      "C:\\Users\\tj\n"
     ]
    }
   ],
   "source": [
    "#현재 디렉토리 확인\n",
    "import os\n",
    "print(os.getcwd())\n",
    "\n",
    "try:\n",
    "    #파일을 쓰기 모드로 개방\n",
    "    file = open('./test.txt', 'w')\n",
    "    #파일에 기록\n",
    "    file.write(\"파일 처리\")\n",
    "    file.write(\"\\n\")\n",
    "    li = [\"BackEnd\", \"FrontEnd\", \"Operation\", \"DevOps\", \"Data Mining\",\n",
    "          \"ML&AI\", \"MLOps\", \"QA\"]\n",
    "    #list의 내용을 \\n을 중간에 삽입해서 결합\n",
    "    file.write(\"\\n\".join(li))\n",
    "    \n",
    "    file.close()\n",
    "except Exception as e:\n",
    "    print(e)"
   ]
  },
  {
   "cell_type": "code",
   "execution_count": 8,
   "id": "b0e6d28f",
   "metadata": {},
   "outputs": [
    {
     "name": "stdout",
     "output_type": "stream",
     "text": [
      "파일 처리\n",
      "\n",
      "BackEnd\n",
      "\n",
      "FrontEnd\n",
      "\n",
      "Operation\n",
      "\n",
      "DevOps\n",
      "\n",
      "Data Mining\n",
      "\n",
      "ML&AI\n",
      "\n",
      "MLOps\n",
      "\n",
      "QA\n"
     ]
    }
   ],
   "source": [
    "import time\n",
    "try:\n",
    "    #파일을 읽기 모드로 개방\n",
    "    file = open('./test.txt', 'r')\n",
    "    \n",
    "    #전체 읽어오기 - 용량이 크면 메모리 부족으로 읽어오지를 못함\n",
    "    #print(file.read())\n",
    "    \n",
    "    #줄 단위 읽기\n",
    "    for line in file:\n",
    "        print(line)\n",
    "        time.sleep(2)\n",
    "    \n",
    "    file.close()\n",
    "except Exception as e:\n",
    "    print(e)"
   ]
  },
  {
   "cell_type": "code",
   "execution_count": 9,
   "id": "a08b2c33",
   "metadata": {},
   "outputs": [
    {
     "name": "stdout",
     "output_type": "stream",
     "text": [
      "파일 처리\n",
      "\n",
      "BackEnd\n",
      "\n",
      "FrontEnd\n",
      "\n",
      "Operation\n",
      "\n",
      "DevOps\n",
      "\n",
      "Data Mining\n",
      "\n",
      "ML&AI\n",
      "\n",
      "MLOps\n",
      "\n",
      "QA\n"
     ]
    }
   ],
   "source": [
    "# 예외처리를 하지 않고 닫기\n",
    "import time\n",
    "with open('./test.txt', 'r') as file:\n",
    "    \n",
    "    #줄 단위 읽기\n",
    "    for line in file:\n",
    "        print(line)\n",
    "        time.sleep(2)"
   ]
  },
  {
   "cell_type": "code",
   "execution_count": null,
   "id": "58ec4557",
   "metadata": {},
   "outputs": [],
   "source": []
  },
  {
   "cell_type": "markdown",
   "id": "7ce883fc",
   "metadata": {},
   "source": [
    "## csv 파일 핸들링"
   ]
  },
  {
   "cell_type": "code",
   "execution_count": 10,
   "id": "c05a405b",
   "metadata": {},
   "outputs": [
    {
     "name": "stdout",
     "output_type": "stream",
     "text": [
      "<class 'list'>\n",
      "1\n",
      "태연\n",
      "1989-03-09\n",
      "소녀시대\n",
      "2\n",
      "재경\n",
      "1988-12-24\n",
      "레인보우\n",
      "3\n",
      "아이린\n",
      "1991-03-29\n",
      "레드벨벳\n"
     ]
    }
   ],
   "source": [
    "#파일 읽기를 이용해서 csv 파일 읽기 - 모든 데이터를 분할해서 list로 생성\n",
    "with open('./data/singer.csv', 'r') as f:\n",
    "    #전체 읽기\n",
    "    content = f.read()\n",
    "    #구분자 단위로 분할\n",
    "    data = content.split(',')\n",
    "    print(type(data)) #자료형 확인\n",
    "    #전체 출력\n",
    "    for imsi in data:\n",
    "        print(imsi)"
   ]
  },
  {
   "cell_type": "code",
   "execution_count": 14,
   "id": "2e5066f3",
   "metadata": {},
   "outputs": [
    {
     "name": "stdout",
     "output_type": "stream",
     "text": [
      "<class '_csv.reader'>\n",
      "['1', '태연', '1989-03-09', '소녀시대']\n",
      "['2', '재경', '1988-12-24', '레인보우']\n",
      "['3', '아이린', '1991-03-29', '레드벨벳4', '카리나', '2000-01-01', 'aespa']\n"
     ]
    }
   ],
   "source": [
    "#csv 모듈을 이용해서 읽기 - csv.reader(file 객체)를 대입해서 읽음\n",
    "#줄 바꿈 별로 하나의 list를 별도로 생성\n",
    "\n",
    "import csv\n",
    "#한글이 깨지면 encoding 옵션에 인코딩 방식을 설정해주면 됩니다.\n",
    "with open('./data/singer.csv', 'r') as f:\n",
    "    #csv 로 읽기\n",
    "    #구분자가 , 가 아니면 delimiter 에 구분자를 설정해주면 됩니다.\n",
    "    data = csv.reader(f)\n",
    "    print(type(data)) #자료형 확인\n",
    "    #전체 출력\n",
    "    for imsi in data:\n",
    "        print(imsi)"
   ]
  },
  {
   "cell_type": "code",
   "execution_count": 13,
   "id": "9c763dab",
   "metadata": {},
   "outputs": [],
   "source": [
    "#기록하기\n",
    "import csv\n",
    "#newline 옵션을 이용해서 빈줄이 생기지 않도록 설정\n",
    "#한글이 깨지면 encoding 옵션에 인코딩 방식을 설정해주면 됩니다.\n",
    "with open('./data/singer.csv', 'a', newline='') as f:\n",
    "    #csv 로 기록\n",
    "    wr = csv.writer(f)\n",
    "    wr.writerow([4, '카리나', '2000-01-01', 'aespa'])"
   ]
  },
  {
   "cell_type": "code",
   "execution_count": null,
   "id": "75141870",
   "metadata": {},
   "outputs": [],
   "source": []
  },
  {
   "cell_type": "markdown",
   "id": "77dbb2be",
   "metadata": {},
   "source": [
    "## 바이트 단위로 파일에 읽고 쓰기"
   ]
  },
  {
   "cell_type": "code",
   "execution_count": 18,
   "id": "677f54ea",
   "metadata": {},
   "outputs": [],
   "source": [
    "with open('./data/test.bin', 'wb') as f:\n",
    "    f.write('안녕하세요'.encode())"
   ]
  },
  {
   "cell_type": "code",
   "execution_count": 20,
   "id": "fdb28549",
   "metadata": {},
   "outputs": [
    {
     "name": "stdout",
     "output_type": "stream",
     "text": [
      "안녕하세요\n"
     ]
    }
   ],
   "source": [
    "with open('./data/test.bin', 'rb') as f:\n",
    "    #print(f.read())\n",
    "    print(f.read().decode())"
   ]
  },
  {
   "cell_type": "code",
   "execution_count": null,
   "id": "5c6a68d3",
   "metadata": {},
   "outputs": [],
   "source": []
  },
  {
   "cell_type": "markdown",
   "id": "b09188e2",
   "metadata": {},
   "source": [
    "## Serializable(직렬화) - 객체 단위로 파일에 읽고 쓰는 것"
   ]
  },
  {
   "cell_type": "code",
   "execution_count": 24,
   "id": "cd73bebb",
   "metadata": {},
   "outputs": [],
   "source": [
    "#직렬화를 위해서 DTO 클래스 생성\n",
    "class DTO:\n",
    "    def setNum(self, num):\n",
    "        self.num = num\n",
    "    def setName(self, name):\n",
    "        self.name = name\n",
    "        \n",
    "    def getNum(self):\n",
    "        return self.num\n",
    "    def getName(self):\n",
    "        return self.name   \n",
    "    \n",
    "    def toString(self):\n",
    "        return \"번호:{0} 이름:{1}\".format(self.num, self.name)\n",
    "    \n",
    "#직렬화 할 인스턴스 생성\n",
    "dto1 = DTO()\n",
    "dto1.setNum(1)\n",
    "dto1.setName(\"유관순\")\n",
    "\n",
    "dto2 = DTO()\n",
    "dto2.setNum(2)\n",
    "dto2.setName(\"안중근\")\n",
    "\n",
    "li = [dto1, dto2]\n",
    "\n",
    "import pickle\n",
    "with open('./data/data.dat', 'wb') as f:\n",
    "    pickle.dump(li, f)"
   ]
  },
  {
   "cell_type": "code",
   "execution_count": 25,
   "id": "a201e5a8",
   "metadata": {},
   "outputs": [
    {
     "name": "stdout",
     "output_type": "stream",
     "text": [
      "번호:1 이름:유관순\n",
      "번호:2 이름:안중근\n"
     ]
    }
   ],
   "source": [
    "import pickle\n",
    "with open('./data/data.dat', 'rb') as f:\n",
    "    result = pickle.load(f)\n",
    "    for dto in result:\n",
    "        print(dto.toString())"
   ]
  },
  {
   "cell_type": "code",
   "execution_count": null,
   "id": "36109869",
   "metadata": {},
   "outputs": [],
   "source": []
  },
  {
   "cell_type": "markdown",
   "id": "ec153453",
   "metadata": {},
   "source": [
    "## 엑셀 파일 읽기"
   ]
  },
  {
   "cell_type": "code",
   "execution_count": 34,
   "id": "2602500b",
   "metadata": {},
   "outputs": [],
   "source": [
    "import openpyxl\n",
    "\n",
    "#엑셀 파일 포인터\n",
    "wb = None\n",
    "\n",
    "try:\n",
    "    #엑셀 파일에 포인터를 생성\n",
    "    wb = openpyxl.load_workbook('./data/score.xlsx')\n",
    "    #print(wb)\n",
    "    \n",
    "    #sheet 가져오기\n",
    "    ws = wb.active #현재 활성화된 sheet를 가져옵니다.\n",
    "    #ws = wb.get_sheet_by_name(\"sheet이름\")\n",
    "    \n",
    "    #행단위 접근 - 각 행을 튜플로 접근\n",
    "    for row in ws.rows:\n",
    "        #print(row)\n",
    "\n",
    "        #각 행의 인덱스 추출\n",
    "        #print(row[0].row)\n",
    "        \n",
    "        #각 행에서 특정 셀의 데이터\n",
    "        #print(row[0].value)\n",
    "        \n",
    "        #1행 5열의 합계라고 설정\n",
    "        if row[0].row == 1:\n",
    "            ws.cell(row=row[0].row, column = 5).value = \"합계\"\n",
    "            continue\n",
    "        \n",
    "        #합계 구하기\n",
    "        total = row[1].value + row[2].value + row[3].value \n",
    "        ws.cell(row=row[0].row, column = 5).value = total\n",
    "    \n",
    "    #파일에 기록\n",
    "    wb.save(\"./data/score2.xlsx\")\n",
    "    \n",
    "except Exception as e:\n",
    "    print(e)\n",
    "    \n",
    "finally:\n",
    "    if wb != None:\n",
    "        wb.close()"
   ]
  },
  {
   "cell_type": "code",
   "execution_count": null,
   "id": "6c93a1b6",
   "metadata": {},
   "outputs": [],
   "source": []
  },
  {
   "cell_type": "markdown",
   "id": "c1461f99",
   "metadata": {},
   "source": [
    "# 데이터베이스 연동"
   ]
  },
  {
   "cell_type": "markdown",
   "id": "7d2b4522",
   "metadata": {},
   "source": [
    "## MySQL"
   ]
  },
  {
   "cell_type": "code",
   "execution_count": 38,
   "id": "e0a51d12",
   "metadata": {},
   "outputs": [
    {
     "name": "stdout",
     "output_type": "stream",
     "text": [
      "<pymysql.connections.Connection object at 0x000002661FEA7190>\n"
     ]
    }
   ],
   "source": [
    "#mysql 접속\n",
    "import pymysql\n",
    "\n",
    "con = pymysql.connect(host='localhost', port=3306, \n",
    "                     user='user00', passwd='user00',\n",
    "                     db='cyberadam', charset='utf8')\n",
    "\n",
    "print(con)\n",
    "\n",
    "con.close()"
   ]
  },
  {
   "cell_type": "code",
   "execution_count": null,
   "id": "98a12dd4",
   "metadata": {},
   "outputs": [],
   "source": []
  }
 ],
 "metadata": {
  "kernelspec": {
   "display_name": "Python 3 (ipykernel)",
   "language": "python",
   "name": "python3"
  },
  "language_info": {
   "codemirror_mode": {
    "name": "ipython",
    "version": 3
   },
   "file_extension": ".py",
   "mimetype": "text/x-python",
   "name": "python",
   "nbconvert_exporter": "python",
   "pygments_lexer": "ipython3",
   "version": "3.9.7"
  }
 },
 "nbformat": 4,
 "nbformat_minor": 5
}
