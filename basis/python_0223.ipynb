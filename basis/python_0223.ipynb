{
 "cells": [
  {
   "cell_type": "markdown",
   "id": "fd6ae233",
   "metadata": {},
   "source": [
    "# Open CV Array Processing"
   ]
  },
  {
   "cell_type": "code",
   "execution_count": 1,
   "id": "bd38510f",
   "metadata": {},
   "outputs": [],
   "source": [
    "import numpy as np\n",
    "import cv2"
   ]
  },
  {
   "cell_type": "markdown",
   "id": "9241e957",
   "metadata": {},
   "source": [
    "## 배열 처리"
   ]
  },
  {
   "cell_type": "markdown",
   "id": "82bb9dea",
   "metadata": {},
   "source": [
    "### 회전"
   ]
  },
  {
   "cell_type": "code",
   "execution_count": 3,
   "id": "6d2c28cb",
   "metadata": {},
   "outputs": [
    {
     "name": "stdout",
     "output_type": "stream",
     "text": [
      "[[  0.35355339   0.35355339  74.98066402]\n",
      " [ -0.35355339   0.35355339 256.        ]]\n"
     ]
    }
   ],
   "source": [
    "#이미지 읽어오기\n",
    "src = cv2.imread('./data/lena.jpg')\n",
    "\n",
    "#이미지 정보를 가져오기\n",
    "rows, cols, channels = src.shape\n",
    "\n",
    "#변환 행렬 생성 - 기준좌표, 각도, 크기 비율 \n",
    "M1 = cv2.getRotationMatrix2D((rows/2, cols/2), 45, 0.5)\n",
    "M2 = cv2.getRotationMatrix2D((rows/2, cols/2), -45, 1.0)\n",
    "print(M1)\n",
    "\n",
    "#변환 행렬을 가지고 결과를 생성\n",
    "dst1 = cv2.warpAffine(src, M1, (rows, cols))\n",
    "dst2 = cv2.warpAffine(src, M2, (rows, cols))\n",
    "\n",
    "\n",
    "#이미지 출력\n",
    "cv2.imshow('source', src)\n",
    "cv2.imshow('dst1', dst1)\n",
    "cv2.imshow('dst2', dst2)\n",
    "\n",
    "#키보드 입력 대기\n",
    "cv2.waitKey()\n",
    "\n",
    "#모든 화면을 파괴\n",
    "cv2.destroyAllWindows()"
   ]
  },
  {
   "cell_type": "code",
   "execution_count": null,
   "id": "9662be47",
   "metadata": {},
   "outputs": [],
   "source": []
  },
  {
   "cell_type": "markdown",
   "id": "4e8b8436",
   "metadata": {},
   "source": [
    "## OpenCV의 연산 함수"
   ]
  },
  {
   "cell_type": "markdown",
   "id": "918c453a",
   "metadata": {},
   "source": [
    "### numpy 의 연산자 와 OpenCV의 연산 함수"
   ]
  },
  {
   "cell_type": "code",
   "execution_count": 11,
   "id": "490ab160",
   "metadata": {},
   "outputs": [
    {
     "name": "stdout",
     "output_type": "stream",
     "text": [
      "[[255 255 255 ... 255 255 255]\n",
      " [255 255 255 ... 255 255 255]\n",
      " [255 255 255 ... 255 255 255]\n",
      " ...\n",
      " [243 242 251 ... 255 255 255]\n",
      " [241 242 255 ... 255 255 255]\n",
      " [242 244 255 ... 255 255 255]]\n"
     ]
    }
   ],
   "source": [
    "#이미지 읽어오기\n",
    "src = cv2.imread('./data/lena.jpg', cv2.IMREAD_GRAYSCALE)\n",
    "op = np.zeros(shape=(512, 512), dtype=np.uint8) + 200\n",
    "\n",
    "#이미지 출력\n",
    "cv2.imshow('source', src)\n",
    "\n",
    "#numpy의 더하기 연산 - overflow가 발생해서 연산의 결과를 예측하기 어려움\n",
    "dst1 = src + op\n",
    "cv2.imshow('dst1', dst1)\n",
    "#print(dst1)\n",
    "\n",
    "#opencv 의 더하기 연산 - 255보다 크면 255\n",
    "dst2 = cv2.add(src, op)\n",
    "cv2.imshow('dst2', dst2)\n",
    "\n",
    "#키보드 입력 대기\n",
    "cv2.waitKey()\n",
    "\n",
    "#모든 화면을 파괴\n",
    "cv2.destroyAllWindows()"
   ]
  },
  {
   "cell_type": "markdown",
   "id": "3e5abe42",
   "metadata": {},
   "source": [
    "### 비트 연산"
   ]
  },
  {
   "cell_type": "code",
   "execution_count": 17,
   "id": "0904f924",
   "metadata": {},
   "outputs": [],
   "source": [
    "image1 = np.zeros((300, 300), np.uint8)\n",
    "image2 = image1.copy()\n",
    "\n",
    "#높이 와 너비 저장\n",
    "h, w = image1.shape[:2]\n",
    "#print(h, w)\n",
    "\n",
    "#중앙점의 좌표\n",
    "cx, cy = w//2, h//2\n",
    "#print(cx, cy)\n",
    "\n",
    "#image1 에 원 그리기\n",
    "cv2.circle(image1, (cx, cy), 100, 255, -1)\n",
    "#image2 에 사각형 그리기\n",
    "cv2.rectangle(image2, (0, 0, cx, h), 255, -1)\n",
    "\n",
    "image3 = cv2.bitwise_or(image1, image2)\n",
    "image4 = cv2.bitwise_and(image1, image2)\n",
    "image5 = cv2.bitwise_xor(image1, image2)\n",
    "\n",
    "cv2.imshow(\"image1\", image1)\n",
    "cv2.imshow(\"image2\", image2)\n",
    "#합집합\n",
    "cv2.imshow(\"or\", image3) # 0 or 0 은 0, 0 or 1 은 1\n",
    "#교집합\n",
    "cv2.imshow(\"and\", image4) #0 and 0 은 0, 1 and 0 은 0\n",
    "#교집합 영역은 검정색 교집합이 아닌 영역이 흰색\n",
    "cv2.imshow(\"xor\", image5) #0 xor 0 은 1 xor 1 은 0 1 xor 0 은 1\n",
    "\n",
    "cv2.waitKey()\n",
    "cv2.destroyAllWindows()"
   ]
  },
  {
   "cell_type": "markdown",
   "id": "37178b0a",
   "metadata": {},
   "source": [
    "### 절대값 연산 과 차분 연산"
   ]
  },
  {
   "cell_type": "code",
   "execution_count": 26,
   "id": "aaf41d77",
   "metadata": {},
   "outputs": [],
   "source": [
    "image1 = cv2.imread('./data/abs_test1.jpg', cv2.IMREAD_GRAYSCALE)\n",
    "image2 = cv2.imread('./data/abs_test2.jpg', cv2.IMREAD_GRAYSCALE)\n",
    "\n",
    "#차분 연산\n",
    "dif_img1 = cv2.subtract(image1, image2)\n",
    "\n",
    "#음수 보전\n",
    "dif_img2 = cv2.subtract(np.int16(image1), np.int16(image2))\n",
    "#음수 보전한 데이터를 절대값으로 치환\n",
    "abs_dif1 = np.absolute(dif_img2).astype('uint8')\n",
    "\n",
    "#차분 절대값 함수 이용\n",
    "abs_dif2 = cv2.absdiff(image1, image2)\n",
    "\n",
    "cv2.imshow(\"image1\", image1)\n",
    "cv2.imshow(\"image2\", image2)\n",
    "cv2.imshow(\"dif_img1\", dif_img1)\n",
    "cv2.imshow(\"abs_dif1\", abs_dif1)\n",
    "cv2.imshow(\"abs_dif2\", abs_dif2)\n",
    "\n",
    "cv2.waitKey()\n",
    "cv2.destroyAllWindows()"
   ]
  },
  {
   "cell_type": "markdown",
   "id": "c31327d4",
   "metadata": {},
   "source": [
    "### 최대 최소값을 이용한 화진 개선 - 픽셀의 값들의 차이가 적은 경우 "
   ]
  },
  {
   "cell_type": "code",
   "execution_count": 35,
   "id": "8bc02d17",
   "metadata": {},
   "outputs": [
    {
     "name": "stdout",
     "output_type": "stream",
     "text": [
      "13.0 107.0\n",
      "0.0 255.0\n"
     ]
    }
   ],
   "source": [
    "image = cv2.imread(\"./data/minMax.jpg\", cv2.IMREAD_GRAYSCALE)\n",
    "\n",
    "cv2.imshow(\"image\", image)\n",
    "\n",
    "#최소값 과 최대값을 찾아오기\n",
    "(min_val, max_val, _, _) = cv2.minMaxLoc(image)\n",
    "print(min_val, max_val)\n",
    "\n",
    "#최대 - 최소를 가지고 255를 나눔\n",
    "ratio = 255 / (max_val - min_val)\n",
    "#이미지를 보정해서 새로운 이미지를 생성\n",
    "dst = np.round((image-min_val) * ratio).astype('uint8')\n",
    "(dst_min_val, dst_max_val, _, _) = cv2.minMaxLoc(dst)\n",
    "print(dst_min_val, dst_max_val)\n",
    "cv2.imshow(\"dst\", dst)\n",
    "\n",
    "cv2.waitKey()\n",
    "cv2.destroyAllWindows()"
   ]
  },
  {
   "cell_type": "markdown",
   "id": "09ab9159",
   "metadata": {},
   "source": [
    "### 사각형 정렬"
   ]
  },
  {
   "cell_type": "code",
   "execution_count": 40,
   "id": "d7e48e4d",
   "metadata": {},
   "outputs": [
    {
     "name": "stdout",
     "output_type": "stream",
     "text": [
      "사각형 원소\t\t사각형 정보\t\t 크기\n",
      "rects[0] = [( 94, 53) from (320,376)] 54784\n",
      "rects[1] = [(126,106) from (258,189)] 48762\n",
      "rects[2] = [(102, 51) from (257,150)] 38550\n",
      "rects[3] = [(143,163) from (217,143)] 31031\n",
      "rects[4] = [( 62,128) from (309,100)] 30900\n",
      "\n",
      "[[   62   128   309   100 30900]\n",
      " [  143   163   217   143 31031]\n",
      " [  102    51   257   150 38550]\n",
      " [  126   106   258   189 48762]\n",
      " [   94    53   320   376 54784]]\n"
     ]
    }
   ],
   "source": [
    "\n",
    "#행렬 생성\n",
    "rands = np.zeros((5,5), np.uint16)\n",
    "\n",
    "#랜덤한 좌표 추출\n",
    "#사각형의 시작점 좌표로 사용할 데이터 5개 생성\n",
    "starts = cv2.randn(rands[:, :2], 100, 50)\n",
    "\n",
    "#사각형의 끝점 좌표로 사용할 데이터 5개 생성\n",
    "ends = cv2.randn(rands[:, 2:-1], 300, 50)\n",
    "\n",
    "#print(starts, ends)\n",
    "\n",
    "\n",
    "#사각형의 모임을 매개변수로 받아서 내용을 출력하는 함수\n",
    "def print_rects(rects):\n",
    "    print(\"사각형 원소\\t\\t사각형 정보\\t\\t 크기\")\n",
    "    #인덱스를 i에 넘기고 원래 정보를 튜플에 넘기기\n",
    "    for i, (x, y, w, h, a) in enumerate(rects):\n",
    "        print(\"rects[%i] = [(%3d,%3d) from (%3d,%3d)] %5d\"%(i, x, y, w, h, a))\n",
    "    print()\n",
    "\n",
    "#사각형 만들기\n",
    "#시작 좌표와 끝 좌표 빼기 \n",
    "sizes = cv2.absdiff(starts, ends)\n",
    "#차이를 곱해서 너비 생성\n",
    "areas = sizes[:, 0] * sizes[:, 1]\n",
    "rects = rands.copy()\n",
    "rects[:, 2:-1] = sizes\n",
    "rects[:, -1] = areas\n",
    "\n",
    "#랜덤한 사각형 정보 출력\n",
    "print_rects(rects)\n",
    "\n",
    "#사각형 정렬\n",
    "#areas 를 가지고 정렬을 한 인덱스를 가지고 rects 의 내용을 출력\n",
    "#idx = cv2.sortIdx(areas, cv2.SORT_EVERY_COLUMN).flatten()\n",
    "\n",
    "idx = np.argsort(areas, axis=0)\n",
    "\n",
    "sort_rects = rects[idx.astype('int')]\n",
    "print(sort_rects)"
   ]
  },
  {
   "cell_type": "code",
   "execution_count": null,
   "id": "72964ac7",
   "metadata": {},
   "outputs": [],
   "source": []
  },
  {
   "cell_type": "markdown",
   "id": "0048648e",
   "metadata": {},
   "source": [
    "# 픽셀 처리"
   ]
  },
  {
   "cell_type": "markdown",
   "id": "717c9f21",
   "metadata": {},
   "source": [
    "## 영상 화소의 접근"
   ]
  },
  {
   "cell_type": "code",
   "execution_count": 48,
   "id": "fcc1cc72",
   "metadata": {},
   "outputs": [
    {
     "name": "stdout",
     "output_type": "stream",
     "text": [
      "[[0 1 2 3 4]\n",
      " [5 6 7 8 9]]\n",
      "[[0 1 2 3 4]\n",
      " [5 6 7 8 9]]\n",
      "[[ 0  2  4  6  8]\n",
      " [10 12 14 16 18]]\n",
      "[[ 0  2  4  6  8]\n",
      " [10 12 14 16 18]]\n"
     ]
    }
   ],
   "source": [
    "### 행렬의 모든 원소를 2개로 변경\n",
    "\n",
    "mat1 = np.arange(10).reshape(2, 5)\n",
    "mat2 = np.arange(10).reshape(2, 5)\n",
    "print(mat1)\n",
    "print(mat2)\n",
    "\n",
    "#순서대로 접근\n",
    "for i in range(mat1.shape[0]):\n",
    "    for j in range(mat1.shape[1]):\n",
    "        mat1[i, j] = mat1[i, j] * 2\n",
    "        \n",
    "print(mat1)\n",
    "\n",
    "#순서대로 접근\n",
    "for i in range(mat2.shape[0]):\n",
    "    for j in range(mat2.shape[1]):\n",
    "        mat2.itemset((i, j), mat2.item(i, j) * 2)\n",
    "print(mat2)"
   ]
  },
  {
   "cell_type": "markdown",
   "id": "60b212aa",
   "metadata": {},
   "source": [
    "### 이미지 반전에서 수행시간 비교"
   ]
  },
  {
   "cell_type": "code",
   "execution_count": 50,
   "id": "fa94c7a3",
   "metadata": {},
   "outputs": [
    {
     "name": "stdout",
     "output_type": "stream",
     "text": [
      "[방법 1] 직접 접근 방식 수행시간: 410.13 ms\n",
      "[방법 2] item() 이용 수행시간: 47.88 ms\n",
      "[방법 3] 룩업 테이블 이용 방식 수행시간: 0.66 ms\n",
      "[방법 4] OpenCV 함수 이용 방식 수행시간: 0.24 ms\n",
      "[방법 5] numpy의 vector 화 된 연산 방식 수행시간: 0.18 ms\n"
     ]
    }
   ],
   "source": [
    "#일반적인 접근 방식\n",
    "def pixel_access1(image):\n",
    "    image1 = np.zeros(image.shape[:2], image.dtype)\n",
    "    for i in range(image.shape[0]):\n",
    "        for j in range(image.shape[1]):\n",
    "            pixel = image[i, j]\n",
    "            image1[i, j] = 255 - pixel\n",
    "    return image1\n",
    "            \n",
    "#item 함수 이용\n",
    "def pixel_access2(image):\n",
    "    image2 = np.zeros(image.shape[:2], image.dtype)\n",
    "    for i in range(image.shape[0]):\n",
    "        for j in range(image.shape[1]):\n",
    "            pixel = image.item(i, j)\n",
    "            image2.itemset((i, j), 255 - pixel)\n",
    "    return image2\n",
    "\n",
    "#룩업 테이블 이용\n",
    "def pixel_access3(image):\n",
    "    lut = [255-i for i in range(256)]\n",
    "    lut = np.array(lut, np.uint8)\n",
    "    image3 = lut[image]\n",
    "    \n",
    "    return image3\n",
    "\n",
    "#OpenCV 함수 이용\n",
    "def pixel_access4(image):\n",
    "    image4 = cv2.subtract(255, image)\n",
    "    return image4\n",
    "   \n",
    "#numpy  연산 이용\n",
    "def pixel_access5(image):\n",
    "    image5 = 255 - image\n",
    "    return image5\n",
    "\n",
    "\n",
    "import time\n",
    "\n",
    "image = cv2.imread(\"./data/bright.jpg\", cv2.IMREAD_GRAYSCALE)\n",
    "\n",
    "#수행시간을 체크해주는 함수\n",
    "def time_check(func, msg):\n",
    "    start_time = time.perf_counter()\n",
    "    ret_img = func(image)\n",
    "    elapsed = (time.perf_counter() - start_time) * 1000\n",
    "    print(msg, \"수행시간: %.2f ms\" % elapsed)\n",
    "    return ret_img\n",
    "\n",
    "image1 = time_check(pixel_access1, \"[방법 1] 직접 접근 방식\")\n",
    "image2 = time_check(pixel_access2, \"[방법 2] item() 이용\")\n",
    "image3 = time_check(pixel_access3, \"[방법 3] 룩업 테이블 이용 방식\")\n",
    "image4 = time_check(pixel_access4, \"[방법 4] OpenCV 함수 이용 방식\")\n",
    "image5 = time_check(pixel_access5, \"[방법 5] numpy의 vector 화 된 연산 방식\")\n",
    "\n",
    "cv2.imshow(\"image\", image)\n",
    "cv2.imshow(\"image1\", image1)\n",
    "cv2.imshow(\"image2\", image2)\n",
    "cv2.imshow(\"image3\", image3)\n",
    "cv2.imshow(\"image4\", image4)\n",
    "cv2.imshow(\"image5\", image5)\n",
    "\n",
    "cv2.waitKey(0)\n",
    "cv2.destroyAllWindows()\n"
   ]
  },
  {
   "cell_type": "code",
   "execution_count": null,
   "id": "2d643bff",
   "metadata": {},
   "outputs": [],
   "source": []
  },
  {
   "cell_type": "markdown",
   "id": "1b611ce8",
   "metadata": {},
   "source": [
    "## 화소 밝기 변환"
   ]
  },
  {
   "cell_type": "markdown",
   "id": "d48c99ae",
   "metadata": {},
   "source": [
    "### 행렬 합 과 곱 연산을 이용한 영상 합성"
   ]
  },
  {
   "cell_type": "code",
   "execution_count": 58,
   "id": "41e93976",
   "metadata": {},
   "outputs": [],
   "source": [
    "image1 = cv2.imread(\"./data/add1.jpg\", cv2.IMREAD_GRAYSCALE)\n",
    "image2 = cv2.imread(\"./data/add2.jpg\", cv2.IMREAD_GRAYSCALE)\n",
    "\n",
    "#numpy 의 modulo 방식으로 255가 넘는 숫자는 0부터 다시 시작해서 값이 설정\n",
    "add_image1 = image1 + image2\n",
    "#opencv의 더하기 - 255 이상은 255\n",
    "add_image2 = cv2.add(image1, image2)\n",
    "\n",
    "#가중치를 적용하는 방식 - 두 개의 이미지의 절반씩 적용\n",
    "add_image3 = cv2.add(image1 * 0.5, image2 * 0.5)\n",
    "add_image3 = np.clip(add_image3, 0, 255).astype(\"uint8\")\n",
    "\n",
    "#가중치를 다르게 적용\n",
    "add_image4 = cv2.add(image1 * 0.4, image2 * 0.6)\n",
    "add_image4 = np.clip(add_image4, 0, 255).astype(\"uint8\")\n",
    "\n",
    "add_image5 = cv2.add(image1 * 0.7, image2 * 0.6)\n",
    "add_image5 = np.clip(add_image5, 0, 255).astype(\"uint8\")\n",
    "\n",
    "cv2.imshow(\"image1\", image1)\n",
    "cv2.imshow(\"image2\", image2)\n",
    "cv2.imshow(\"add_image1\", add_image1)\n",
    "cv2.imshow(\"add_image2\", add_image2)\n",
    "cv2.imshow(\"add_image3\", add_image3)\n",
    "cv2.imshow(\"add_image4\", add_image4)\n",
    "cv2.imshow(\"add_image5\", add_image5)\n",
    "\n",
    "cv2.waitKey(0)\n",
    "cv2.destroyAllWindows()"
   ]
  },
  {
   "cell_type": "markdown",
   "id": "af131da3",
   "metadata": {},
   "source": [
    "### 명암 대비"
   ]
  },
  {
   "cell_type": "code",
   "execution_count": 61,
   "id": "271af966",
   "metadata": {},
   "outputs": [],
   "source": [
    "image = cv2.imread(\"./data/contrast.jpg\", cv2.IMREAD_GRAYSCALE)\n",
    "\n",
    "cv2.imshow(\"image\", image)\n",
    "#더미 영상\n",
    "noimage = np.zeros(image.shape[:2], image.dtype)\n",
    "\n",
    "#원본 이미지의 평균의 절반\n",
    "avg = cv2.mean(image)[0]/2.0\n",
    "\n",
    "dst1 = cv2.addWeighted(image, 0.5, noimage, 0, avg) #명암대비 감소\n",
    "dst2 = cv2.addWeighted(image, 2.0, noimage, 0, -avg) #명암대비 증가\n",
    "\n",
    "cv2.imshow(\"dst1\", dst1)\n",
    "cv2.imshow(\"dst2\", dst2)\n",
    "\n",
    "cv2.waitKey(0)\n",
    "cv2.destroyAllWindows()"
   ]
  },
  {
   "cell_type": "markdown",
   "id": "a0866c46",
   "metadata": {},
   "source": [
    "### 이미지 이진화(임계값 영상) - 특정값을 기준으로 분할"
   ]
  },
  {
   "cell_type": "code",
   "execution_count": 67,
   "id": "134edf51",
   "metadata": {},
   "outputs": [
    {
     "name": "stdout",
     "output_type": "stream",
     "text": [
      "[246 252 255 255 255 255 254 255 255 255 255 255 254 254 254 255 253 252\n",
      "  95  77 111 101  72 106 252 255 255 255 251 220  75  72 112 113  83 110\n",
      " 249 252 255 255 254 254 255 255 254 255 105  68  99 101  75  81 226 254\n",
      " 251 253 253 255 253 255 255 252 255 255 253 155  67  76  75  86  98 104\n",
      "  98  88  87  99 102  96  93 100  99  98  96  94  98  96 101  83  96  81\n",
      "  69 149 252 255 252 255 254 255 250 134  63  62  87  80  90 110  92 111\n",
      "  85  88  94  95  81 100 128  93  96  97 100  94  89  80  82  70  87 232\n",
      " 251 255 253 253 254 254 254 254 255 255 255 255 255 255 255 255 255 255\n",
      " 255 255 255 255 255 255 255 255 255 255 255 255 255 255 255 255 255 255\n",
      " 255 255 255 255 255 255 255 255 255 255 255 254 254 255 255 255 255 255\n",
      " 255 255 255 255 255 255 255 255 255 255 255 255 255 255 255 255 255 255\n",
      " 255 255 255 255 255 255 255 255 255 255 255 255 255 255 255 255 255 255\n",
      " 255 254 255 255 254 255 245 255 250 255 142  69  80  72  72  84  94  88\n",
      "  97 103 104 109 103  89  99 102  94  89  91  93  97  98  90  77 172 251\n",
      " 255 254 253 248 253 255 253 255 147  65  52  82  91  82  97  98 101 101\n",
      " 111  87  92 103  99  97  93  92 100  82  87  76  85 145 255 250 255 253\n",
      " 254 253 253 253 254 254 255 255 255 255 255 255 255 255 255 255 255 255\n",
      " 255 255 255 255 255 255 255 255 255 255 255 255 255 255 255 255 255 255\n",
      " 255 255 255 255 255 255 255 255 255 255 255 255 255 255 255 255 255 255\n",
      " 254 254 255 255 255 255]\n",
      "120.0\n",
      "[255 255 255 255 255 255 255 255 255 255 255 255 255 255 255 255 255 255\n",
      "   0   0   0   0   0   0 255 255 255 255 255 255   0   0   0   0   0   0\n",
      " 255 255 255 255 255 255 255 255 255 255   0   0   0   0   0   0 255 255\n",
      " 255 255 255 255 255 255 255 255 255 255 255 255   0   0   0   0   0   0\n",
      "   0   0   0   0   0   0   0   0   0   0   0   0   0   0   0   0   0   0\n",
      "   0 255 255 255 255 255 255 255 255 255   0   0   0   0   0   0   0   0\n",
      "   0   0   0   0   0   0 255   0   0   0   0   0   0   0   0   0   0 255\n",
      " 255 255 255 255 255 255 255 255 255 255 255 255 255 255 255 255 255 255\n",
      " 255 255 255 255 255 255 255 255 255 255 255 255 255 255 255 255 255 255\n",
      " 255 255 255 255 255 255 255 255 255 255 255 255 255 255 255 255 255 255\n",
      " 255 255 255 255 255 255 255 255 255 255 255 255 255 255 255 255 255 255\n",
      " 255 255 255 255 255 255 255 255 255 255 255 255 255 255 255 255 255 255\n",
      " 255 255 255 255 255 255 255 255 255 255 255   0   0   0   0   0   0   0\n",
      "   0   0   0   0   0   0   0   0   0   0   0   0   0   0   0   0 255 255\n",
      " 255 255 255 255 255 255 255 255 255   0   0   0   0   0   0   0   0   0\n",
      "   0   0   0   0   0   0   0   0   0   0   0   0   0 255 255 255 255 255\n",
      " 255 255 255 255 255 255 255 255 255 255 255 255 255 255 255 255 255 255\n",
      " 255 255 255 255 255 255 255 255 255 255 255 255 255 255 255 255 255 255\n",
      " 255 255 255 255 255 255 255 255 255 255 255 255 255 255 255 255 255 255\n",
      " 255 255 255 255 255 255]\n",
      "175.0\n",
      "[255 255 255 255 255 255 255 255 255 255 255 255 255 255 255 255 255 255\n",
      "   0   0   0   0   0   0 255 255 255 255 255 255   0   0   0   0   0   0\n",
      " 255 255 255 255 255 255 255 255 255 255   0   0   0   0   0   0 255 255\n",
      " 255 255 255 255 255 255 255 255 255 255 255   0   0   0   0   0   0   0\n",
      "   0   0   0   0   0   0   0   0   0   0   0   0   0   0   0   0   0   0\n",
      "   0   0 255 255 255 255 255 255 255   0   0   0   0   0   0   0   0   0\n",
      "   0   0   0   0   0   0   0   0   0   0   0   0   0   0   0   0   0 255\n",
      " 255 255 255 255 255 255 255 255 255 255 255 255 255 255 255 255 255 255\n",
      " 255 255 255 255 255 255 255 255 255 255 255 255 255 255 255 255 255 255\n",
      " 255 255 255 255 255 255 255 255 255 255 255 255 255 255 255 255 255 255\n",
      " 255 255 255 255 255 255 255 255 255 255 255 255 255 255 255 255 255 255\n",
      " 255 255 255 255 255 255 255 255 255 255 255 255 255 255 255 255 255 255\n",
      " 255 255 255 255 255 255 255 255 255 255   0   0   0   0   0   0   0   0\n",
      "   0   0   0   0   0   0   0   0   0   0   0   0   0   0   0   0   0 255\n",
      " 255 255 255 255 255 255 255 255   0   0   0   0   0   0   0   0   0   0\n",
      "   0   0   0   0   0   0   0   0   0   0   0   0   0   0 255 255 255 255\n",
      " 255 255 255 255 255 255 255 255 255 255 255 255 255 255 255 255 255 255\n",
      " 255 255 255 255 255 255 255 255 255 255 255 255 255 255 255 255 255 255\n",
      " 255 255 255 255 255 255 255 255 255 255 255 255 255 255 255 255 255 255\n",
      " 255 255 255 255 255 255]\n"
     ]
    }
   ],
   "source": [
    "image = cv2.imread(\"./data/heart10.jpg\", cv2.IMREAD_GRAYSCALE)\n",
    "\n",
    "cv2.imshow(\"image\", image)\n",
    "print(image[50])\n",
    "\n",
    "#이미지 이진화\n",
    "#120 이 넘으면 255 그렇지 않으면 0으로 이진화\n",
    "ret, dst = cv2.threshold(image, 120, 255, cv2.THRESH_BINARY)\n",
    "print(ret)\n",
    "print(dst[50])\n",
    "cv2.imshow(\"dst\", dst)\n",
    "\n",
    "#임계값을 찾아서 이진화\n",
    "ret1, dst1 = cv2.threshold(\n",
    "    image, 120, 255, cv2.THRESH_BINARY + cv2.THRESH_OTSU)\n",
    "print(ret1)\n",
    "print(dst1[50])\n",
    "cv2.imshow(\"dst1\", dst)\n",
    "\n",
    "cv2.waitKey(0)\n",
    "cv2.destroyAllWindows()"
   ]
  },
  {
   "cell_type": "code",
   "execution_count": 5,
   "id": "fb4ddf8c",
   "metadata": {},
   "outputs": [
    {
     "name": "stdout",
     "output_type": "stream",
     "text": [
      "[  0   0   0   0   0   0   0   0 255 255 255 255 255 255 255 255 255   0\n",
      "   0   0   0   0   0   0   0   0   0   0   0   0   0   0   0   0   0   0\n",
      "   0   0   0   0   0   0 255 255 255 255 255 255 255 255 255 255 255 255\n",
      " 255 255 255 255 255 255 255 255 255 255 255 255 255 255 255 255 255 255\n",
      " 255   0   0   0   0   0   0   0   0   0   0   0   0   0   0   0   0   0\n",
      "   0   0   0   0   0   0   0   0   0   0   0   0   0   0   0   0   0   0\n",
      "   0   0   0   0   0   0   0   0   0   0   0   0   0   0   0   0   0   0\n",
      "   0   0   0   0   0   0   0   0   0   0   0   0   0   0   0 255 255 255\n",
      " 255 255 255 255 255 255 255 255 255 255 255 255 255 255 255 255 255 255\n",
      " 255 255 255 255 255 255 255 255 255 255 255   0   0   0   0   0   0   0\n",
      "   0   0   0   0   0   0   0   0   0   0   0   0   0   0   0   0   0   0\n",
      "   0   0   0   0   0   0   0   0   0   0   0   0   0   0   0   0   0   0\n",
      "   0   0   0   0   0   0   0   0   0   0   0   0   0   0   0   0   0   0\n",
      "   0   0   0   0   0   0   0   0   0   0   0 255 255 255 255 255 255 255\n",
      " 255 255 255 255 255 255 255 255 255 255 255 255 255 255 255 255 255 255\n",
      " 255 255 255 255 255 255 255 255 255   0   0   0   0   0   0   0   0   0\n",
      "   0   0   0   0   0   0   0   0   0   0   0   0   0   0   0   0   0   0\n",
      "   0   0   0   0   0   0   0   0   0   0   0   0   0   0   0   0 255 255\n",
      " 255 255 255 255 255 255 255 255 255 255 255 255 255 255 255 255 255 255\n",
      " 255 255 255 255 255 255 255 255 255 255 255 255 255 255 255 255 255 255\n",
      " 255 255 255 255 255 255 255 255 255 255 255 255 255 255 255 255 255 255\n",
      " 255 255 255 255 255 255 255 255 255 255 255 255 255 255 255 255 255 255\n",
      " 255 255 255 255 255 255 255 255 255 255 255 255 255 255 255 255 255 255\n",
      " 255 255 255 255 255 255 255 255 255 255 255 255 255 255 255 255 255 255\n",
      " 255 255 255 255 255 255 255 255 255 255 255 255 255 255 255 255 255 255\n",
      " 255 255 255 255 255 255 255 255 255 255 255 255 255 255 255 255 255 255\n",
      " 255 255 255 255 255 255 255 255 255 255 255 255 255 255 255 255 255 255\n",
      " 255 255 255 255 255 255 255 255 255 255 255 255 255 255 255 255 255 255\n",
      " 255 255 255 255 255 255 255 255 255 255 255 255 255 255 255 255 255 255\n",
      " 255 255 255 255 255 255 255 255 255 255 255 255 255 255 255 255 255 255\n",
      " 255 255 255 255 255 255 255 255 255 255 255 255 255 255 255 255 255 255\n",
      " 255 255 255 255 255 255 255 255 255 255 255 255 255 255 255 255 255 255\n",
      " 255 255 255 255 255 255 255 255 255 255 255 255 255 255 255 255 255 255\n",
      " 255 255 255 255 255 255 255 255 255 255 255 255 255 255 255 255 255 255\n",
      " 255 255 255 255 255 255 255 255 255 255 255 255 255 255 255 255 255 255\n",
      " 255 255 255 255 255 255 255 255 255 255]\n"
     ]
    }
   ],
   "source": [
    "image = cv2.imread(\"./data/srcThreshold.png\", cv2.IMREAD_GRAYSCALE)\n",
    "\n",
    "cv2.imshow(\"image\", image)\n",
    "#print(image[50])\n",
    "\n",
    "#임계값을 찾아서 이진화\n",
    "ret1, dst1 = cv2.threshold(\n",
    "    image, 120, 255, cv2.THRESH_BINARY + cv2.THRESH_OTSU)\n",
    "#print(ret1)\n",
    "#print(dst1[50])\n",
    "cv2.imshow(\"dst1\", dst1)\n",
    "\n",
    "dst2 = cv2.adaptiveThreshold(image, 255, cv2.ADAPTIVE_THRESH_MEAN_C,\n",
    "                            cv2.THRESH_BINARY, 51, 7)\n",
    "cv2.imshow(\"dst2\", dst2)\n",
    "print(dst2[50])\n",
    "\n",
    "cv2.waitKey(0)\n",
    "cv2.destroyAllWindows()"
   ]
  },
  {
   "cell_type": "code",
   "execution_count": null,
   "id": "03d60254",
   "metadata": {},
   "outputs": [],
   "source": []
  },
  {
   "cell_type": "markdown",
   "id": "b3101230",
   "metadata": {},
   "source": [
    "## Histogram"
   ]
  },
  {
   "cell_type": "markdown",
   "id": "f9151360",
   "metadata": {},
   "source": [
    "### 직접 계산"
   ]
  },
  {
   "cell_type": "code",
   "execution_count": 7,
   "id": "87129bb7",
   "metadata": {},
   "outputs": [
    {
     "name": "stdout",
     "output_type": "stream",
     "text": [
      "[ 344. 1564. 2976. 3675. 6792. 5799. 4974. 4820. 5930. 6571. 5575. 7696.\n",
      " 8253. 5040. 1755.  236.]\n"
     ]
    }
   ],
   "source": [
    "#히스토그램을 계산해서 리턴해주는 함수\n",
    "#매개변수는 이미지, 계급의 수, 값의 범위\n",
    "def calc_histo(image, hsize, ranges=[0,256]):\n",
    "    hist = np.zeros((hsize, 1), np.float32) #히스토그램을 저장할 배열\n",
    "    \n",
    "    #계급의 간격 생성\n",
    "    gap = ranges[1] / hsize\n",
    "    \n",
    "    #이미지를 순회하면서 개수를 구함\n",
    "    for row in image:\n",
    "        for pix in row:\n",
    "            idx = int(pix / gap)\n",
    "            hist[idx] += 1\n",
    "    return hist\n",
    "\n",
    "image = cv2.imread(\"./data/pixel.jpg\", cv2.IMREAD_GRAYSCALE)\n",
    "\n",
    "hsize, ranges = [16], [0, 256]\n",
    "\n",
    "hist = calc_histo(image, hsize[0], ranges)\n",
    "\n",
    "print(hist.flatten())"
   ]
  },
  {
   "cell_type": "markdown",
   "id": "68755672",
   "metadata": {},
   "source": [
    "### 다채널 히스토그램"
   ]
  },
  {
   "cell_type": "code",
   "execution_count": 9,
   "id": "6c06b845",
   "metadata": {},
   "outputs": [
    {
     "name": "stdout",
     "output_type": "stream",
     "text": [
      "[[9.]\n",
      " [3.]\n",
      " [2.]\n",
      " [2.]]\n",
      "[[4.]\n",
      " [5.]\n",
      " [0.]\n",
      " [3.]]\n"
     ]
    }
   ],
   "source": [
    "src = np.array([[0, 0, 0, 0], [1, 1, 3, 5], [6, 1, 1, 3], [4, 3, 1, 7]],\n",
    "              dtype=np.uint8)\n",
    "\n",
    "#0 ~ 7 까지를 4개 구간으로 나누어서 히스토그램을 구함\n",
    "hist1 = cv2.calcHist(images=[src], channels=[0], mask=None,\n",
    "                    histSize=[4], ranges=[0, 8])\n",
    "print(hist1)\n",
    "\n",
    "\n",
    "#0 ~ 3 까지를 4개 구간으로 나누어서 히스토그램을 구함\n",
    "hist2 = cv2.calcHist(images=[src], channels=[0], mask=None,\n",
    "                    histSize=[4], ranges=[0, 4])\n",
    "print(hist2)"
   ]
  },
  {
   "cell_type": "code",
   "execution_count": 10,
   "id": "712f6d6c",
   "metadata": {},
   "outputs": [
    {
     "data": {
      "image/png": "[encoded data removed]",
      "text/plain": [
       "<Figure size 432x288 with 1 Axes>"
      ]
     },
     "metadata": {
      "needs_background": "light"
     },
     "output_type": "display_data"
    }
   ],
   "source": [
    "#컬러 이미지 히스토그램 및 그래프\n",
    "from matplotlib import pyplot as plt\n",
    "\n",
    "src = cv2.imread('./data/lena.jpg')\n",
    "\n",
    "#각 채널의 색상\n",
    "histColor = ('b', 'g', 'r')\n",
    "\n",
    "for i in range(3):\n",
    "    hist = cv2.calcHist(images = [src], channels=[i], mask=None, \n",
    "                       histSize=[256], ranges=[0, 256])\n",
    "    plt.plot(hist, color=histColor[i])\n",
    "plt.show()"
   ]
  },
  {
   "cell_type": "markdown",
   "id": "1c48d0be",
   "metadata": {},
   "source": [
    "### 히스토그램 스트레칭\n",
    "#### 특정 범위에 집중적으로 분포된 값들을 넓게 펼쳐서 이미지를 또렷하게 만드는 작업"
   ]
  },
  {
   "cell_type": "code",
   "execution_count": 18,
   "id": "aef8fe58",
   "metadata": {},
   "outputs": [
    {
     "name": "stdout",
     "output_type": "stream",
     "text": [
      "[0.0000e+00 0.0000e+00 0.0000e+00 0.0000e+00 0.0000e+00 0.0000e+00\n",
      " 0.0000e+00 0.0000e+00 0.0000e+00 0.0000e+00 0.0000e+00 0.0000e+00\n",
      " 0.0000e+00 1.2000e+01 2.0600e+02 9.8200e+02 2.5290e+03 4.4120e+03\n",
      " 6.7490e+03 6.5730e+03 7.8480e+03 6.2890e+03 5.4840e+03 4.7860e+03\n",
      " 3.9330e+03 3.7070e+03 4.8560e+03 5.1860e+03 3.9850e+03 4.4330e+03\n",
      " 4.9520e+03 3.8770e+03 3.2440e+03 9.2070e+03 7.4220e+03 5.3870e+03\n",
      " 7.2370e+03 6.2470e+03 3.6970e+03 2.9090e+03 5.8620e+03 1.1067e+04\n",
      " 1.6143e+04 9.7520e+03 3.2890e+03 5.3800e+02 0.0000e+00 0.0000e+00\n",
      " 0.0000e+00 0.0000e+00 0.0000e+00 0.0000e+00 0.0000e+00 0.0000e+00\n",
      " 0.0000e+00 0.0000e+00 0.0000e+00 0.0000e+00 0.0000e+00 0.0000e+00\n",
      " 0.0000e+00 0.0000e+00 0.0000e+00 0.0000e+00]\n",
      "180.0\n",
      "52.0\n",
      "[[6.000e+00]\n",
      " [2.800e+01]\n",
      " [9.600e+01]\n",
      " [1.910e+02]\n",
      " [4.420e+02]\n",
      " [9.420e+02]\n",
      " [1.249e+03]\n",
      " [1.698e+03]\n",
      " [2.245e+03]\n",
      " [2.668e+03]\n",
      " [3.373e+03]\n",
      " [3.894e+03]\n",
      " [3.053e+03]\n",
      " [3.540e+03]\n",
      " [3.927e+03]\n",
      " [3.722e+03]\n",
      " [3.109e+03]\n",
      " [2.869e+03]\n",
      " [2.804e+03]\n",
      " [2.488e+03]\n",
      " [2.429e+03]\n",
      " [2.183e+03]\n",
      " [1.911e+03]\n",
      " [1.845e+03]\n",
      " [1.847e+03]\n",
      " [2.008e+03]\n",
      " [2.368e+03]\n",
      " [2.727e+03]\n",
      " [2.723e+03]\n",
      " [2.238e+03]\n",
      " [1.963e+03]\n",
      " [1.925e+03]\n",
      " [2.080e+03]\n",
      " [2.761e+03]\n",
      " [2.486e+03]\n",
      " [2.180e+03]\n",
      " [1.834e+03]\n",
      " [1.928e+03]\n",
      " [1.655e+03]\n",
      " [1.273e+03]\n",
      " [4.142e+03]\n",
      " [6.525e+03]\n",
      " [3.876e+03]\n",
      " [2.797e+03]\n",
      " [2.608e+03]\n",
      " [3.137e+03]\n",
      " [3.855e+03]\n",
      " [3.246e+03]\n",
      " [3.493e+03]\n",
      " [2.212e+03]\n",
      " [1.852e+03]\n",
      " [1.509e+03]\n",
      " [1.332e+03]\n",
      " [1.911e+03]\n",
      " [2.888e+03]\n",
      " [4.162e+03]\n",
      " [6.170e+03]\n",
      " [6.897e+03]\n",
      " [7.846e+03]\n",
      " [7.423e+03]\n",
      " [4.819e+03]\n",
      " [2.926e+03]\n",
      " [1.669e+03]\n",
      " [7.970e+02]]\n"
     ]
    }
   ],
   "source": [
    "image = cv2.imread('./data/hist_stretch.jpg', cv2.IMREAD_GRAYSCALE)\n",
    "\n",
    "#히스토그램 생성 - 값이 가운데 영역에 치우쳐 있음\n",
    "bsize, ranges = [64], [0, 256]\n",
    "hist = cv2.calcHist([image], [0], None, bsize, ranges)\n",
    "print(hist.flatten())\n",
    "\n",
    "cv2.imshow(\"image\", image)\n",
    "\n",
    "#빈도수가 가장 높은 값 과 가장 낮은 값을 찾기 위한 함수\n",
    "def search_value_idx(hist, bias=0):\n",
    "    for i in range(hist.shape[0]):\n",
    "        idx = np.abs(bias - i)\n",
    "        if hist[idx] > 0:\n",
    "            return idx\n",
    "    return -1\n",
    "\n",
    "#각 구간의 너비 구하기\n",
    "bin_width = ranges[1]/bsize[0]\n",
    "#빈도수 가 높은 값과 낮은 값 찾기\n",
    "high = search_value_idx(hist, bsize[0] - 1) * bin_width\n",
    "low = search_value_idx(hist, 0) * bin_width\n",
    "print(high)\n",
    "print(low)\n",
    "\n",
    "#histogram stretching\n",
    "idx = np.arange(0, 256)\n",
    "idx = (idx - low) * 255 / (high - low)\n",
    "idx[0:int(low)] = 0\n",
    "idx[int(high+1):] = 255\n",
    "dst = cv2.LUT(image, idx.astype('uint8'))\n",
    "\n",
    "cv2.imshow(\"dst\", dst)\n",
    "hist1 = cv2.calcHist([dst], [0], None, bsize, ranges)\n",
    "print(hist1.flatten())\n",
    "\n",
    "cv2.waitKey(0)\n",
    "cv2.destroyAllWindows()"
   ]
  },
  {
   "cell_type": "markdown",
   "id": "6556a378",
   "metadata": {},
   "source": [
    "### 히스토그램 평활화\n",
    "#### 색상의 분포를 고르게 하는 것"
   ]
  },
  {
   "cell_type": "code",
   "execution_count": 23,
   "id": "c52f2763",
   "metadata": {},
   "outputs": [
    {
     "name": "stdout",
     "output_type": "stream",
     "text": [
      "[   34.    92.   315.  5499. 31607. 22935.  4280.  3643.  4276.  3970.\n",
      "  3911.  3693.  3821.  3818.  4226.  4611.  4897.  5040.  5005.  4175.\n",
      "  3298.  1953.  1093.   933.   720.   587.   556.   480.   392.   271.\n",
      "   188.   154.   134.   125.    91.    70.    89.    56.    69.   183.\n",
      "  4217.  4594.  2134.  1560.  1761.  2537.  2261.  1297.  1394.  1317.\n",
      "  1391.  1246.  1105.  1542.  1702.  1821.   764.   946.   899.   597.\n",
      "   551.   717.  1155.  4002.]\n",
      "[1414. 1409. 3117.    0. 5578.    0.    0. 7423.    0.    0. 8900.    0.\n",
      "    0. 9706.    0.    0.    0. 9231.    0. 7031.    0. 4252. 3881. 1984.\n",
      " 3367. 2333. 3055. 1988. 2981. 2912. 2804. 2757. 2917. 1880. 2963. 2237.\n",
      " 3466. 2343. 2423. 2482. 3834. 2618. 2387. 3179. 1933. 3489. 2651. 2842.\n",
      " 2581. 1616. 3631. 2506. 2911. 2544. 2537. 3220. 2720. 2698. 2558. 2616.\n",
      " 2974. 2764. 2659. 2498.]\n"
     ]
    }
   ],
   "source": [
    "image = cv2.imread('./data/equalize.jpg', cv2.IMREAD_GRAYSCALE)\n",
    "\n",
    "#히스토그램 생성 - 값이 가운데 영역에 치우쳐 있음\n",
    "bsize, ranges = [64], [0, 256]\n",
    "hist = cv2.calcHist([image], [0], None, bsize, ranges)\n",
    "print(hist.flatten())\n",
    "\n",
    "cv2.imshow(\"image\", image)\n",
    "\n",
    "#평활화 - 값의 분포를 균등하게 함\n",
    "dst = cv2.equalizeHist(image)\n",
    "cv2.imshow(\"dst\", dst)\n",
    "\n",
    "hist = cv2.calcHist([dst], [0], None, bsize, ranges)\n",
    "print(hist.flatten())\n",
    "\n",
    "cv2.waitKey(0)\n",
    "cv2.destroyAllWindows()"
   ]
  },
  {
   "cell_type": "code",
   "execution_count": null,
   "id": "e8d7fc93",
   "metadata": {},
   "outputs": [],
   "source": []
  }
 ],
 "metadata": {
  "kernelspec": {
   "display_name": "Python 3 (ipykernel)",
   "language": "python",
   "name": "python3"
  },
  "language_info": {
   "codemirror_mode": {
    "name": "ipython",
    "version": 3
   },
   "file_extension": ".py",
   "mimetype": "text/x-python",
   "name": "python",
   "nbconvert_exporter": "python",
   "pygments_lexer": "ipython3",
   "version": "3.9.7"
  }
 },
 "nbformat": 4,
 "nbformat_minor": 5
}
