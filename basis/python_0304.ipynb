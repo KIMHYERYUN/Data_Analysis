{
 "cells": [
  {
   "cell_type": "code",
   "execution_count": 37,
   "id": "16e07e04",
   "metadata": {},
   "outputs": [],
   "source": [
    "import numpy as np\n",
    "import pandas as pd\n",
    "\n",
    "#시각화 패키지\n",
    "import matplotlib.pyplot as plt\n",
    "import seaborn as sns\n",
    "\n",
    "#통계 관련 패키지\n",
    "import scipy as sp\n",
    "import scipy.stats\n",
    "\n",
    "#시각화에서 한글을 사용하기 위한 설정\n",
    "import platform\n",
    "from matplotlib import font_manager, rc\n",
    "\n",
    "if platform.system() == 'Darwin':\n",
    "    rc('font', family='AppleGothic')\n",
    "#윈도우의 경우\n",
    "elif platform.system() == 'Windows':\n",
    "    font_name = font_manager.FontProperties(fname=\"c:/Windows/Fonts/malgun.ttf\").get_name()\n",
    "    rc('font', family=font_name)\n",
    "    \n",
    "#시각화에서 음수를 표현하기 위한 설정\n",
    "import matplotlib\n",
    "matplotlib.rcParams['axes.unicode_minus'] = False \n",
    "\n",
    "# Jupyter Notebook의 출력을 소수점 이하 3자리로 제한 \n",
    "%precision 3\n",
    "# DataFrame의 출력을 소수점 이하 3자리로 제한 \n",
    "pd.set_option('precision', 3)"
   ]
  },
  {
   "cell_type": "code",
   "execution_count": null,
   "id": "22c3affb",
   "metadata": {},
   "outputs": [],
   "source": []
  },
  {
   "cell_type": "markdown",
   "id": "5069c457",
   "metadata": {},
   "source": [
    "# 분포 모형"
   ]
  },
  {
   "cell_type": "markdown",
   "id": "2e5ac3c0",
   "metadata": {},
   "source": [
    "## 지수 분포 - 다음 사건이 발생하기 까지의 대기 시간의 모형"
   ]
  },
  {
   "cell_type": "code",
   "execution_count": 5,
   "id": "212b2d98",
   "metadata": {},
   "outputs": [
    {
     "data": {
      "image/png": "[encoded data removed]",
      "text/plain": [
       "<Figure size 432x288 with 1 Axes>"
      ]
     },
     "metadata": {
      "needs_background": "light"
     },
     "output_type": "display_data"
    }
   ],
   "source": [
    "#실제 데이터에서는 단위 시간을 설정하고 표본에서 아래와 같은 값을 구해야 합니다.\n",
    "\n",
    "#사건의 발생 횟수\n",
    "loc = 0.5\n",
    "\n",
    "#표준 편차\n",
    "scale = 1.0 / 0.5\n",
    "\n",
    "pd = sp.stats.expon(loc=loc, scale=scale)\n",
    "\n",
    "x = np.linspace(1, 20, 100)\n",
    "\n",
    "pdf = []\n",
    "for num in x:\n",
    "    result = pd.cdf(num)\n",
    "    pdf.append(result)\n",
    "    \n",
    "plt.plot(x, pdf, linewidth=2.0)\n",
    "plt.show()"
   ]
  },
  {
   "cell_type": "code",
   "execution_count": null,
   "id": "e1586ca7",
   "metadata": {},
   "outputs": [],
   "source": []
  },
  {
   "cell_type": "markdown",
   "id": "dffd6450",
   "metadata": {},
   "source": [
    "## 베이불 분포"
   ]
  },
  {
   "cell_type": "code",
   "execution_count": 6,
   "id": "f45bff25",
   "metadata": {},
   "outputs": [
    {
     "name": "stdout",
     "output_type": "stream",
     "text": [
      "Collecting reliability\n",
      "  Downloading reliability-0.8.1-py3-none-any.whl (246 kB)\n",
      "Requirement already satisfied: matplotlib>=3.5.0 in c:\\programdata\\anaconda3\\lib\\site-packages (from reliability) (3.5.0)\n",
      "Requirement already satisfied: docutils<0.18 in c:\\programdata\\anaconda3\\lib\\site-packages (from reliability) (0.17.1)\n",
      "Requirement already satisfied: numpy>=1.19.2 in c:\\programdata\\anaconda3\\lib\\site-packages (from reliability) (1.20.3)\n",
      "Collecting autograd>=1.3\n",
      "  Downloading autograd-1.3.tar.gz (38 kB)\n",
      "Collecting autograd-gamma>=0.5.0\n",
      "  Downloading autograd-gamma-0.5.0.tar.gz (4.0 kB)\n",
      "Collecting mplcursors>=0.3\n",
      "  Downloading mplcursors-0.5.1.tar.gz (88 kB)\n",
      "Requirement already satisfied: scipy>=1.7.0 in c:\\programdata\\anaconda3\\lib\\site-packages (from reliability) (1.7.3)\n",
      "Requirement already satisfied: pandas>=1.1.2 in c:\\programdata\\anaconda3\\lib\\site-packages (from reliability) (1.3.5)\n",
      "Requirement already satisfied: future>=0.15.2 in c:\\programdata\\anaconda3\\lib\\site-packages (from autograd>=1.3->reliability) (0.18.2)\n",
      "Requirement already satisfied: pyparsing>=2.2.1 in c:\\programdata\\anaconda3\\lib\\site-packages (from matplotlib>=3.5.0->reliability) (3.0.4)\n",
      "Requirement already satisfied: packaging>=20.0 in c:\\programdata\\anaconda3\\lib\\site-packages (from matplotlib>=3.5.0->reliability) (21.3)\n",
      "Requirement already satisfied: python-dateutil>=2.7 in c:\\programdata\\anaconda3\\lib\\site-packages (from matplotlib>=3.5.0->reliability) (2.8.2)\n",
      "Requirement already satisfied: pillow>=6.2.0 in c:\\programdata\\anaconda3\\lib\\site-packages (from matplotlib>=3.5.0->reliability) (8.4.0)\n",
      "Requirement already satisfied: kiwisolver>=1.0.1 in c:\\programdata\\anaconda3\\lib\\site-packages (from matplotlib>=3.5.0->reliability) (1.3.1)\n",
      "Requirement already satisfied: fonttools>=4.22.0 in c:\\programdata\\anaconda3\\lib\\site-packages (from matplotlib>=3.5.0->reliability) (4.25.0)\n",
      "Requirement already satisfied: cycler>=0.10 in c:\\programdata\\anaconda3\\lib\\site-packages (from matplotlib>=3.5.0->reliability) (0.11.0)\n",
      "Requirement already satisfied: pytz>=2017.3 in c:\\programdata\\anaconda3\\lib\\site-packages (from pandas>=1.1.2->reliability) (2021.3)\n",
      "Requirement already satisfied: six>=1.5 in c:\\users\\tj\\appdata\\roaming\\python\\python39\\site-packages (from python-dateutil>=2.7->matplotlib>=3.5.0->reliability) (1.15.0)\n",
      "Building wheels for collected packages: autograd, autograd-gamma, mplcursors\n",
      "  Building wheel for autograd (setup.py): started\n",
      "  Building wheel for autograd (setup.py): finished with status 'done'\n",
      "  Created wheel for autograd: filename=autograd-1.3-py3-none-any.whl size=47988 sha256=6d0dc9972f5cb28ab8c8413d7fdf46108cf390ae47150c272cfd263ec3b4756c\n",
      "  Stored in directory: c:\\users\\tj\\appdata\\local\\pip\\cache\\wheels\\b6\\86\\a9\\2c2d40e3c7d837ca251d7cb66f06a283c8679fa17421e8ddeb\n",
      "  Building wheel for autograd-gamma (setup.py): started\n",
      "  Building wheel for autograd-gamma (setup.py): finished with status 'done'\n",
      "  Created wheel for autograd-gamma: filename=autograd_gamma-0.5.0-py3-none-any.whl size=4048 sha256=9da27d9467c10e0f00b83486be9319fa45e563a3be616f457bc4601f444ac73d\n",
      "  Stored in directory: c:\\users\\tj\\appdata\\local\\pip\\cache\\wheels\\a8\\03\\64\\8557323821d25118c3a2dc1646996f7a962a8970d4b7d22473\n",
      "  Building wheel for mplcursors (setup.py): started\n",
      "  Building wheel for mplcursors (setup.py): finished with status 'done'\n",
      "  Created wheel for mplcursors: filename=mplcursors-0.5.1-py3-none-any.whl size=20815 sha256=ef3bb7747364850617102791d19feae93dd18fcfbc62daf851b927435e3e40ac\n",
      "  Stored in directory: c:\\users\\tj\\appdata\\local\\pip\\cache\\wheels\\3d\\92\\c0\\819b62369893148b59e1326e408f4c347ee8eff7b002d97633\n",
      "Successfully built autograd autograd-gamma mplcursors\n",
      "Installing collected packages: autograd, mplcursors, autograd-gamma, reliability\n",
      "Successfully installed autograd-1.3 autograd-gamma-0.5.0 mplcursors-0.5.1 reliability-0.8.1\n"
     ]
    }
   ],
   "source": [
    "!pip install reliability"
   ]
  },
  {
   "cell_type": "code",
   "execution_count": 9,
   "id": "4643e7d0",
   "metadata": {},
   "outputs": [
    {
     "data": {
      "image/png": "[encoded data removed]",
      "text/plain": [
       "<Figure size 432x288 with 1 Axes>"
      ]
     },
     "metadata": {
      "needs_background": "light"
     },
     "output_type": "display_data"
    }
   ],
   "source": [
    "from reliability.Distributions import Weibull_Distribution\n",
    "\n",
    "dist = Weibull_Distribution(alpha=50, beta=2)\n",
    "\n",
    "dist.CDF()\n",
    "plt.show()"
   ]
  },
  {
   "cell_type": "code",
   "execution_count": 8,
   "id": "1008b78a",
   "metadata": {},
   "outputs": [
    {
     "data": {
      "image/png": "[encoded data removed]",
      "text/plain": [
       "<Figure size 432x288 with 1 Axes>"
      ]
     },
     "metadata": {
      "needs_background": "light"
     },
     "output_type": "display_data"
    }
   ],
   "source": [
    "dist = Weibull_Distribution(alpha=50, beta=0.5)\n",
    "\n",
    "dist.PDF()\n",
    "plt.show()"
   ]
  },
  {
   "cell_type": "code",
   "execution_count": null,
   "id": "58f2de16",
   "metadata": {},
   "outputs": [],
   "source": []
  },
  {
   "cell_type": "markdown",
   "id": "967658a2",
   "metadata": {},
   "source": [
    "# 표본 추출"
   ]
  },
  {
   "cell_type": "markdown",
   "id": "39b4daa2",
   "metadata": {},
   "source": [
    "## 파이썬의 random 모듈을 이용한 표본 추출"
   ]
  },
  {
   "cell_type": "code",
   "execution_count": 14,
   "id": "a6d15015",
   "metadata": {},
   "outputs": [
    {
     "name": "stdout",
     "output_type": "stream",
     "text": [
      "[30, 10, 20, 40, 50]\n",
      "40\t10\t10\t40\t20\t"
     ]
    }
   ],
   "source": [
    "import random\n",
    "\n",
    "li = [10, 20, 30, 40, 50]\n",
    "\n",
    "#비복원 추출\n",
    "print(random.sample(li, k=5))\n",
    "\n",
    "#복원 추출\n",
    "for i in range(5):\n",
    "    print(li[random.randint(0, 4)], end='\\t')"
   ]
  },
  {
   "cell_type": "code",
   "execution_count": null,
   "id": "93889dae",
   "metadata": {},
   "outputs": [],
   "source": []
  },
  {
   "cell_type": "markdown",
   "id": "05b7587f",
   "metadata": {},
   "source": [
    "## numpy를 이용한 가중치를 부여한 표본 추출"
   ]
  },
  {
   "cell_type": "code",
   "execution_count": 16,
   "id": "42be4aea",
   "metadata": {},
   "outputs": [
    {
     "name": "stdout",
     "output_type": "stream",
     "text": [
      "[10 20 40 10 10 50 10 50 50 50]\n"
     ]
    }
   ],
   "source": [
    "li = [10, 20, 30, 40, 50]\n",
    "result = np.random.choice(li, 10, p = [0.5, 0.1, 0.1, 0.1, 0.2])\n",
    "print(result)"
   ]
  },
  {
   "cell_type": "code",
   "execution_count": null,
   "id": "581fead6",
   "metadata": {},
   "outputs": [],
   "source": []
  },
  {
   "cell_type": "markdown",
   "id": "31bf3308",
   "metadata": {},
   "source": [
    "## pandas를 이용한 표본 추출"
   ]
  },
  {
   "cell_type": "code",
   "execution_count": 20,
   "id": "f74461cd",
   "metadata": {},
   "outputs": [
    {
     "name": "stdout",
     "output_type": "stream",
     "text": [
      "   0   1   2\n",
      "0  0   1   2\n",
      "1  3   4   5\n",
      "2  6   7   8\n",
      "3  9  10  11\n"
     ]
    }
   ],
   "source": [
    "from pandas import DataFrame\n",
    "ar = [[0, 1, 2], [3, 4, 5], [6, 7, 8], [9, 10, 11]]\n",
    "df = DataFrame(ar)\n",
    "print(df)"
   ]
  },
  {
   "cell_type": "code",
   "execution_count": 21,
   "id": "ced7cb6b",
   "metadata": {},
   "outputs": [
    {
     "data": {
      "text/html": [
       "<div>\n",
       "<style scoped>\n",
       "    .dataframe tbody tr th:only-of-type {\n",
       "        vertical-align: middle;\n",
       "    }\n",
       "\n",
       "    .dataframe tbody tr th {\n",
       "        vertical-align: top;\n",
       "    }\n",
       "\n",
       "    .dataframe thead th {\n",
       "        text-align: right;\n",
       "    }\n",
       "</style>\n",
       "<table border=\"1\" class=\"dataframe\">\n",
       "  <thead>\n",
       "    <tr style=\"text-align: right;\">\n",
       "      <th></th>\n",
       "      <th>0</th>\n",
       "      <th>1</th>\n",
       "      <th>2</th>\n",
       "    </tr>\n",
       "  </thead>\n",
       "  <tbody>\n",
       "    <tr>\n",
       "      <th>1</th>\n",
       "      <td>3</td>\n",
       "      <td>4</td>\n",
       "      <td>5</td>\n",
       "    </tr>\n",
       "  </tbody>\n",
       "</table>\n",
       "</div>"
      ],
      "text/plain": [
       "   0  1  2\n",
       "1  3  4  5"
      ]
     },
     "execution_count": 21,
     "metadata": {},
     "output_type": "execute_result"
    }
   ],
   "source": [
    "df.sample()"
   ]
  },
  {
   "cell_type": "code",
   "execution_count": 22,
   "id": "23d9a489",
   "metadata": {},
   "outputs": [
    {
     "data": {
      "text/html": [
       "<div>\n",
       "<style scoped>\n",
       "    .dataframe tbody tr th:only-of-type {\n",
       "        vertical-align: middle;\n",
       "    }\n",
       "\n",
       "    .dataframe tbody tr th {\n",
       "        vertical-align: top;\n",
       "    }\n",
       "\n",
       "    .dataframe thead th {\n",
       "        text-align: right;\n",
       "    }\n",
       "</style>\n",
       "<table border=\"1\" class=\"dataframe\">\n",
       "  <thead>\n",
       "    <tr style=\"text-align: right;\">\n",
       "      <th></th>\n",
       "      <th>0</th>\n",
       "      <th>1</th>\n",
       "      <th>2</th>\n",
       "    </tr>\n",
       "  </thead>\n",
       "  <tbody>\n",
       "    <tr>\n",
       "      <th>0</th>\n",
       "      <td>0</td>\n",
       "      <td>1</td>\n",
       "      <td>2</td>\n",
       "    </tr>\n",
       "    <tr>\n",
       "      <th>2</th>\n",
       "      <td>6</td>\n",
       "      <td>7</td>\n",
       "      <td>8</td>\n",
       "    </tr>\n",
       "    <tr>\n",
       "      <th>1</th>\n",
       "      <td>3</td>\n",
       "      <td>4</td>\n",
       "      <td>5</td>\n",
       "    </tr>\n",
       "  </tbody>\n",
       "</table>\n",
       "</div>"
      ],
      "text/plain": [
       "   0  1  2\n",
       "0  0  1  2\n",
       "2  6  7  8\n",
       "1  3  4  5"
      ]
     },
     "execution_count": 22,
     "metadata": {},
     "output_type": "execute_result"
    }
   ],
   "source": [
    "df.sample(n=3)"
   ]
  },
  {
   "cell_type": "code",
   "execution_count": 24,
   "id": "f2630707",
   "metadata": {},
   "outputs": [
    {
     "data": {
      "text/html": [
       "<div>\n",
       "<style scoped>\n",
       "    .dataframe tbody tr th:only-of-type {\n",
       "        vertical-align: middle;\n",
       "    }\n",
       "\n",
       "    .dataframe tbody tr th {\n",
       "        vertical-align: top;\n",
       "    }\n",
       "\n",
       "    .dataframe thead th {\n",
       "        text-align: right;\n",
       "    }\n",
       "</style>\n",
       "<table border=\"1\" class=\"dataframe\">\n",
       "  <thead>\n",
       "    <tr style=\"text-align: right;\">\n",
       "      <th></th>\n",
       "      <th>0</th>\n",
       "      <th>1</th>\n",
       "      <th>2</th>\n",
       "    </tr>\n",
       "  </thead>\n",
       "  <tbody>\n",
       "    <tr>\n",
       "      <th>0</th>\n",
       "      <td>0</td>\n",
       "      <td>1</td>\n",
       "      <td>2</td>\n",
       "    </tr>\n",
       "    <tr>\n",
       "      <th>0</th>\n",
       "      <td>0</td>\n",
       "      <td>1</td>\n",
       "      <td>2</td>\n",
       "    </tr>\n",
       "    <tr>\n",
       "      <th>2</th>\n",
       "      <td>6</td>\n",
       "      <td>7</td>\n",
       "      <td>8</td>\n",
       "    </tr>\n",
       "  </tbody>\n",
       "</table>\n",
       "</div>"
      ],
      "text/plain": [
       "   0  1  2\n",
       "0  0  1  2\n",
       "0  0  1  2\n",
       "2  6  7  8"
      ]
     },
     "execution_count": 24,
     "metadata": {},
     "output_type": "execute_result"
    }
   ],
   "source": [
    "df.sample(n=3, replace=True, weights=[0.7, 0.2, 0.1, 0.0])"
   ]
  },
  {
   "cell_type": "code",
   "execution_count": null,
   "id": "78529bff",
   "metadata": {},
   "outputs": [],
   "source": []
  },
  {
   "cell_type": "markdown",
   "id": "8043bb18",
   "metadata": {},
   "source": [
    "## sklearn 을 이용한 표본 추출"
   ]
  },
  {
   "cell_type": "code",
   "execution_count": 25,
   "id": "058f7182",
   "metadata": {},
   "outputs": [
    {
     "name": "stdout",
     "output_type": "stream",
     "text": [
      "[[ 0  1]\n",
      " [ 2  3]\n",
      " [ 4  5]\n",
      " [ 6  7]\n",
      " [ 8  9]\n",
      " [10 11]\n",
      " [12 13]\n",
      " [14 15]\n",
      " [16 17]\n",
      " [18 19]]\n",
      "[0 1 2 3 4 5 6 7 8 9]\n"
     ]
    }
   ],
   "source": [
    "from sklearn.model_selection import train_test_split\n",
    "\n",
    "#데이터 생성 - 독립 변수\n",
    "X = np.arange(20).reshape(10, 2)\n",
    "print(X)\n",
    "\n",
    "\n",
    "#데이터 생성 - 종속 변수\n",
    "y = np.arange(10)\n",
    "print(y)"
   ]
  },
  {
   "cell_type": "code",
   "execution_count": 27,
   "id": "cec6d63d",
   "metadata": {},
   "outputs": [
    {
     "name": "stdout",
     "output_type": "stream",
     "text": [
      "[[ 0  1]\n",
      " [ 2  3]\n",
      " [ 4  5]\n",
      " [ 6  7]\n",
      " [ 8  9]\n",
      " [10 11]]\n",
      "\n",
      "[[12 13]\n",
      " [14 15]\n",
      " [16 17]\n",
      " [18 19]]\n"
     ]
    }
   ],
   "source": [
    "# 순차적으로 훈련 데이터 와 테스트 데이터를 6:4의 비율로 추출\n",
    "X_train, X_test, y_train, y_test = train_test_split(X, y, \n",
    "                                                   test_size=0.4,\n",
    "                                                   shuffle=False,\n",
    "                                                   random_state=42)\n",
    "\n",
    "print(X_train)\n",
    "print()\n",
    "print(X_test)"
   ]
  },
  {
   "cell_type": "code",
   "execution_count": 28,
   "id": "5b43eb9d",
   "metadata": {},
   "outputs": [
    {
     "name": "stdout",
     "output_type": "stream",
     "text": [
      "[[14 15]\n",
      " [ 4  5]\n",
      " [18 19]\n",
      " [ 8  9]\n",
      " [ 6  7]\n",
      " [12 13]]\n",
      "\n",
      "[[16 17]\n",
      " [ 2  3]\n",
      " [10 11]\n",
      " [ 0  1]]\n"
     ]
    }
   ],
   "source": [
    "# 랜덤하게 훈련 데이터 와 테스트 데이터를 6:4의 비율로 추출\n",
    "X_train, X_test, y_train, y_test = train_test_split(X, y, \n",
    "                                                   test_size=0.4,\n",
    "                                                   shuffle=True,\n",
    "                                                   random_state=42)\n",
    "\n",
    "print(X_train)\n",
    "print()\n",
    "print(X_test)"
   ]
  },
  {
   "cell_type": "code",
   "execution_count": null,
   "id": "e3de7bf1",
   "metadata": {},
   "outputs": [],
   "source": []
  },
  {
   "cell_type": "markdown",
   "id": "7dc1c9dd",
   "metadata": {},
   "source": [
    "## 층화 추출"
   ]
  },
  {
   "cell_type": "code",
   "execution_count": 31,
   "id": "82e1f9ab",
   "metadata": {},
   "outputs": [
    {
     "name": "stdout",
     "output_type": "stream",
     "text": [
      "[[ 0  1]\n",
      " [ 2  3]\n",
      " [ 4  5]\n",
      " [ 6  7]\n",
      " [ 8  9]\n",
      " [10 11]\n",
      " [12 13]\n",
      " [14 15]\n",
      " [16 17]\n",
      " [18 19]\n",
      " [20 21]\n",
      " [22 23]\n",
      " [24 25]\n",
      " [26 27]\n",
      " [28 29]]\n",
      "[ 0  1  2  3  4  5  6  7  8  9 10 11 12 13 14]\n",
      "[0, 0, 0, 0, 0, 1, 1, 1, 1, 1, 1, 1, 1, 1, 1]\n"
     ]
    }
   ],
   "source": [
    "X = np.arange(30).reshape(15, 2)\n",
    "y = np.arange(15)\n",
    "grp = [0,0,0,0,0,1,1,1,1,1,1,1,1,1,1]\n",
    "\n",
    "print(X)\n",
    "print(y)\n",
    "print(grp)"
   ]
  },
  {
   "cell_type": "markdown",
   "id": "4c336ec9",
   "metadata": {},
   "source": [
    "### 층화 무작위 추출"
   ]
  },
  {
   "cell_type": "code",
   "execution_count": 33,
   "id": "e48db497",
   "metadata": {},
   "outputs": [
    {
     "name": "stdout",
     "output_type": "stream",
     "text": [
      "[[12 13]\n",
      " [ 8  9]\n",
      " [28 29]\n",
      " [ 0  1]\n",
      " [10 11]\n",
      " [ 6  7]\n",
      " [ 2  3]\n",
      " [18 19]\n",
      " [20 21]\n",
      " [22 23]\n",
      " [26 27]\n",
      " [14 15]]\n"
     ]
    }
   ],
   "source": [
    "X_train, X_test, y_train, y_test = train_test_split(X, y, \n",
    "                                              test_size=0.2,\n",
    "                                              shuffle=True,\n",
    "                                              stratify=grp,\n",
    "                                              random_state=1004)\n",
    "print(X_train)"
   ]
  },
  {
   "cell_type": "code",
   "execution_count": 35,
   "id": "c1b0726c",
   "metadata": {},
   "outputs": [
    {
     "name": "stdout",
     "output_type": "stream",
     "text": [
      "[[12 13]\n",
      " [14 15]\n",
      " [ 2  3]\n",
      " [20 21]\n",
      " [10 11]\n",
      " [ 0  1]\n",
      " [ 8  9]\n",
      " [16 17]\n",
      " [28 29]\n",
      " [ 4  5]\n",
      " [22 23]\n",
      " [26 27]]\n"
     ]
    }
   ],
   "source": [
    "from sklearn.model_selection import StratifiedShuffleSplit\n",
    "split = StratifiedShuffleSplit(n_splits=1, test_size=0.2, random_state=42)\n",
    "\n",
    "#데이터 생성\n",
    "for train_idx, test_idx in split.split(X, grp):\n",
    "    X_train = X[train_idx]\n",
    "    X_test = X[test_idx]\n",
    "    y_train = y[train_idx]\n",
    "    y_test = y[test_idx]\n",
    "    \n",
    "print(X_train)"
   ]
  },
  {
   "cell_type": "code",
   "execution_count": null,
   "id": "57280493",
   "metadata": {},
   "outputs": [],
   "source": []
  },
  {
   "cell_type": "markdown",
   "id": "d4e50cfc",
   "metadata": {},
   "source": [
    "## 부트스트래핑 - 재표본 추출"
   ]
  },
  {
   "cell_type": "code",
   "execution_count": 39,
   "id": "3d0d7115",
   "metadata": {},
   "outputs": [
    {
     "name": "stdout",
     "output_type": "stream",
     "text": [
      "<class 'pandas.core.frame.DataFrame'>\n",
      "RangeIndex: 2974 entries, 0 to 2973\n",
      "Data columns (total 4 columns):\n",
      " #   Column         Non-Null Count  Dtype  \n",
      "---  ------         --------------  -----  \n",
      " 0   user_id        2974 non-null   int64  \n",
      " 1   age            2974 non-null   object \n",
      " 2   drinks_coffee  2974 non-null   bool   \n",
      " 3   height         2974 non-null   float64\n",
      "dtypes: bool(1), float64(1), int64(1), object(1)\n",
      "memory usage: 72.7+ KB\n"
     ]
    }
   ],
   "source": [
    "#데이터 가져오기\n",
    "df = pd.read_csv('./data/coffee_dataset.csv')\n",
    "df.info()"
   ]
  },
  {
   "cell_type": "code",
   "execution_count": 40,
   "id": "7a0c680c",
   "metadata": {},
   "outputs": [
    {
     "name": "stdout",
     "output_type": "stream",
     "text": [
      "<class 'pandas.core.frame.DataFrame'>\n",
      "Int64Index: 200 entries, 307 to 2096\n",
      "Data columns (total 4 columns):\n",
      " #   Column         Non-Null Count  Dtype  \n",
      "---  ------         --------------  -----  \n",
      " 0   user_id        200 non-null    int64  \n",
      " 1   age            200 non-null    object \n",
      " 2   drinks_coffee  200 non-null    bool   \n",
      " 3   height         200 non-null    float64\n",
      "dtypes: bool(1), float64(1), int64(1), object(1)\n",
      "memory usage: 6.4+ KB\n"
     ]
    }
   ],
   "source": [
    "# 데이터 200개를 샘플링\n",
    "df_sample = df.sample(200)\n",
    "df_sample.info()"
   ]
  },
  {
   "cell_type": "code",
   "execution_count": 43,
   "id": "12b58f03",
   "metadata": {},
   "outputs": [
    {
     "name": "stdout",
     "output_type": "stream",
     "text": [
      "-3.021805161077624 -0.6184840394475599\n"
     ]
    }
   ],
   "source": [
    "#커피를 마시는 사람과 그렇지 않은 사람의 키의 평균을 부트스트래핑\n",
    "#10000번 수행\n",
    "iterationNum = 10000\n",
    "\n",
    "diffHeightList = []\n",
    "\n",
    "for _ in range(iterationNum):\n",
    "    #샘플 데이터에서 복원 추출\n",
    "    bootSample = df_sample.sample(200, replace=True)\n",
    "    #커피를 마시지 않는 사람의 평균 키\n",
    "    nonCoffeeHeightMean = \n",
    "        bootSample[bootSample['drinks_coffee'] == False].height.mean()\n",
    "    #커피를 마시는 사람의 평균 키\n",
    "    coffeeHeightMean = \n",
    "        bootSample[bootSample['drinks_coffee'] == True].height.mean()\n",
    "    \n",
    "    #평균 차이를 저장\n",
    "    diff = nonCoffeeHeightMean - coffeeHeightMean\n",
    "    diffHeightList.append(diff)\n",
    "\n",
    "#신뢰수준 99%로 구간을 생성\n",
    "print(np.percentile(diffHeightList, 0.5), \n",
    "      np.percentile(diffHeightList, 99.5))"
   ]
  },
  {
   "cell_type": "code",
   "execution_count": null,
   "id": "d02bb717",
   "metadata": {},
   "outputs": [],
   "source": []
  },
  {
   "cell_type": "markdown",
   "id": "9964b2dc",
   "metadata": {},
   "source": [
    "# 추론 통계"
   ]
  },
  {
   "cell_type": "markdown",
   "id": "d3bc04b1",
   "metadata": {},
   "source": [
    "## 확률 분포의 추정"
   ]
  },
  {
   "cell_type": "markdown",
   "id": "a79d02ff",
   "metadata": {},
   "source": [
    "### 모멘트 추정을 이용한 모수 추정"
   ]
  },
  {
   "cell_type": "code",
   "execution_count": 44,
   "id": "7a9605ca",
   "metadata": {},
   "outputs": [
    {
     "name": "stderr",
     "output_type": "stream",
     "text": [
      "C:\\ProgramData\\Anaconda3\\lib\\site-packages\\seaborn\\distributions.py:2619: FutureWarning: `distplot` is a deprecated function and will be removed in a future version. Please adapt your code to use either `displot` (a figure-level function with similar flexibility) or `histplot` (an axes-level function for histograms).\n",
      "  warnings.warn(msg, FutureWarning)\n"
     ]
    },
    {
     "data": {
      "image/png": "[encoded data removed]",
      "text/plain": [
       "<Figure size 432x288 with 1 Axes>"
      ]
     },
     "metadata": {
      "needs_background": "light"
     },
     "output_type": "display_data"
    }
   ],
   "source": [
    "#베타 분포를 이용한 샘플 데이터 생성 - 모수는 15 와 12\n",
    "x = sp.stats.beta(15, 12).rvs(10000)\n",
    "\n",
    "#데이터의 히스토그램 출력\n",
    "sns.distplot(x, kde=False, norm_hist=False)\n",
    "plt.title(\"샘플 데이터의 히스토그램\")\n",
    "plt.show()"
   ]
  },
  {
   "cell_type": "code",
   "execution_count": 45,
   "id": "24b67608",
   "metadata": {},
   "outputs": [
    {
     "name": "stdout",
     "output_type": "stream",
     "text": [
      "(15.183785141782575, 12.06540543225288)\n"
     ]
    }
   ],
   "source": [
    "#베타 분포의 모수를 구해주는 함수\n",
    "def estimate_beta(x):\n",
    "    x_bar = x.mean()\n",
    "    s2 = x.var()\n",
    "    \n",
    "    a = x_bar * (x_bar * (1 - x_bar) / s2 - 1)\n",
    "    b = (1 - x_bar) * (x_bar * (1 - x_bar) / s2 - 1)\n",
    "    \n",
    "    return a, b\n",
    "\n",
    "#샘플 데이터의 모수를 출력 - 샘플 데이터를 생성할 때 설정한 모수 와 거의 유사\n",
    "params = estimate_beta(x)\n",
    "print(params)"
   ]
  },
  {
   "cell_type": "code",
   "execution_count": 48,
   "id": "61486845",
   "metadata": {},
   "outputs": [
    {
     "name": "stderr",
     "output_type": "stream",
     "text": [
      "C:\\ProgramData\\Anaconda3\\lib\\site-packages\\seaborn\\distributions.py:2619: FutureWarning: `distplot` is a deprecated function and will be removed in a future version. Please adapt your code to use either `displot` (a figure-level function with similar flexibility) or `histplot` (an axes-level function for histograms).\n",
      "  warnings.warn(msg, FutureWarning)\n"
     ]
    },
    {
     "data": {
      "image/png": "[encoded data removed]",
      "text/plain": [
       "<Figure size 432x288 with 1 Axes>"
      ]
     },
     "metadata": {
      "needs_background": "light"
     },
     "output_type": "display_data"
    }
   ],
   "source": [
    "#샘플 데이터의 히스토그램 과 확률 분포 모형을 비교\n",
    "xx = np.linspace(0,1, 1000)\n",
    "sns.distplot(x, kde=False, norm_hist=True)\n",
    "\n",
    "#베타분포 곡선 그리기\n",
    "plt.plot(xx, sp.stats.beta(params[0], params[1]).pdf(xx))\n",
    "\n",
    "plt.show()"
   ]
  },
  {
   "cell_type": "code",
   "execution_count": 51,
   "id": "42a2a471",
   "metadata": {},
   "outputs": [
    {
     "name": "stderr",
     "output_type": "stream",
     "text": [
      "C:\\ProgramData\\Anaconda3\\lib\\site-packages\\seaborn\\distributions.py:2619: FutureWarning: `distplot` is a deprecated function and will be removed in a future version. Please adapt your code to use either `displot` (a figure-level function with similar flexibility) or `histplot` (an axes-level function for histograms).\n",
      "  warnings.warn(msg, FutureWarning)\n"
     ]
    },
    {
     "data": {
      "image/png": "[encoded data removed]",
      "text/plain": [
       "<Figure size 432x288 with 1 Axes>"
      ]
     },
     "metadata": {
      "needs_background": "light"
     },
     "output_type": "display_data"
    }
   ],
   "source": [
    "#샘플 데이터의 히스토그램 과 확률 분포 모형을 비교\n",
    "xx = np.linspace(0,1, 1000)\n",
    "sns.distplot(x, kde=False, norm_hist=True, fit=sp.stats.beta)\n",
    "\n",
    "plt.show()"
   ]
  },
  {
   "cell_type": "code",
   "execution_count": null,
   "id": "425e644e",
   "metadata": {},
   "outputs": [],
   "source": []
  },
  {
   "cell_type": "markdown",
   "id": "dfe618aa",
   "metadata": {},
   "source": [
    "### 최대 가능도 추정법"
   ]
  },
  {
   "cell_type": "code",
   "execution_count": 54,
   "id": "e962a2a0",
   "metadata": {},
   "outputs": [
    {
     "data": {
      "image/png": "[encoded data removed]",
      "text/plain": [
       "<Figure size 432x288 with 1 Axes>"
      ]
     },
     "metadata": {
      "needs_background": "light"
     },
     "output_type": "display_data"
    }
   ],
   "source": [
    "#정규 분포의 가능도 함수\n",
    "def likelihood_mu(mu):\n",
    "    return sp.stats.norm(loc=mu).pdf(0)\n",
    "\n",
    "mus = np.linspace(-5, 5, 1000)\n",
    "likelihood_mu = [likelihood_mu(m) for m in mus]\n",
    "\n",
    "plt.plot(mus, likelihood_mu)\n",
    "plt.show()"
   ]
  },
  {
   "cell_type": "code",
   "execution_count": null,
   "id": "9dbcf9b5",
   "metadata": {},
   "outputs": [],
   "source": []
  }
 ],
 "metadata": {
  "kernelspec": {
   "display_name": "Python 3 (ipykernel)",
   "language": "python",
   "name": "python3"
  },
  "language_info": {
   "codemirror_mode": {
    "name": "ipython",
    "version": 3
   },
   "file_extension": ".py",
   "mimetype": "text/x-python",
   "name": "python",
   "nbconvert_exporter": "python",
   "pygments_lexer": "ipython3",
   "version": "3.9.7"
  }
 },
 "nbformat": 4,
 "nbformat_minor": 5
}
