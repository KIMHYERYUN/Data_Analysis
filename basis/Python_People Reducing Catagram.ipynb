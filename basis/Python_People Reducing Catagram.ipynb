{
 "cells": [
  {
   "cell_type": "markdown",
   "id": "b8c3dcab",
   "metadata": {},
   "source": [
    "인구소멸 Catagram"
   ]
  },
  {
   "cell_type": "code",
   "execution_count": 1,
   "id": "1daeba46",
   "metadata": {},
   "outputs": [],
   "source": [
    "import numpy as np\n",
    "import pandas as pd\n",
    "import seaborn as sns\n",
    "\n",
    "from pandas import Series, DataFrame \n",
    "\n",
    "#그래프\n",
    "import matplotlib.pyplot as plt\n",
    "\n",
    "#시각화할 때 한글을 출력하기 위해서\n",
    "import platform\n",
    "from matplotlib import font_manager, rc\n",
    "#한글처리\n",
    "#메켄도시의 경우\n",
    "if platform.system() == 'Darwin':\n",
    "    rc('font', family='AppleGothic')\n",
    "#윈도우의 경우\n",
    "elif platform.system() == 'Windows':\n",
    "    font_name = font_manager.FontProperties(fname = \"c://Windows/Fonts/malgun.ttf\").get_name()\n",
    "rc('font', family=font_name)\n",
    "\n",
    "#음수를 표시하기 위한 설정\n",
    "plt.rcParams['axes.unicode_minus'] = False"
   ]
  },
  {
   "cell_type": "markdown",
   "id": "73887121",
   "metadata": {},
   "source": [
    "Catogram"
   ]
  },
  {
   "cell_type": "markdown",
   "id": "a4436ec6",
   "metadata": {},
   "source": [
    "데이터 가져오기"
   ]
  },
  {
   "cell_type": "code",
   "execution_count": 2,
   "id": "498406ea",
   "metadata": {},
   "outputs": [
    {
     "data": {
      "text/plain": [
       "<bound method DataFrame.info of     행정구역별(시군구)(1) 행정구역별(시군구)(2) 성별(1)        합계   20~24세   25~29세   30~34세  \\\n",
       "0              전국            소계     계  48674177  2676127  3284719  3023482   \n",
       "1             NaN           NaN    남자  24029501  1266355  1713307  1549970   \n",
       "2             NaN           NaN    여자  24644676  1409772  1571412  1473512   \n",
       "3           서울특별시            소계     계   9096901   548245   768413   687804   \n",
       "4             NaN           NaN    남자   4386287   233761   377349   341858   \n",
       "..            ...           ...   ...       ...      ...      ...      ...   \n",
       "958           NaN           NaN    남자    227688    10913    14753    13179   \n",
       "959           NaN           NaN    여자    230860    12180    13867    12978   \n",
       "960           NaN          서귀포시     계    164899     6483     8511     7889   \n",
       "961           NaN           NaN    남자     82173     3098     4363     3954   \n",
       "962           NaN           NaN    여자     82726     3385     4148     3935   \n",
       "\n",
       "      35~39세   40~44세   45~49세   50~54세   55~59세   60~64세   65~69세   70~74세  \\\n",
       "0    3789676  3698794  4289786  4169392  4140190  3578478  2430488  1888139   \n",
       "1    1924470  1869529  2162206  2078150  2059480  1754466  1166572   878584   \n",
       "2    1865206  1829265  2127580  2091242  2080710  1824012  1263916  1009555   \n",
       "3     746830   677660   782455   731258   728273   664875   465250   370242   \n",
       "4     374514   335606   385491   354886   349208   313417   218378   170303   \n",
       "..       ...      ...      ...      ...      ...      ...      ...      ...   \n",
       "958    18381    18486    21966    20339    18267    14854     9068     7330   \n",
       "959    18267    17935    21476    19079    17800    14927     9729     8322   \n",
       "960    11757    12524    15192    14304    14401    12771     8793     7980   \n",
       "961     5897     6590     8227     7605     7422     6386     4221     3774   \n",
       "962     5860     5934     6965     6699     6979     6385     4572     4206   \n",
       "\n",
       "      75~79세   80~84세   85세이상  \n",
       "0    1544916  1001174  600048  \n",
       "1     659165   379422  178713  \n",
       "2     885751   621752  421335  \n",
       "3     280007   163363   96792  \n",
       "4     126711    66754   30757  \n",
       "..       ...      ...     ...  \n",
       "958     5344     3229    1543  \n",
       "959     7130     5457    4813  \n",
       "960     6580     4636    3140  \n",
       "961     2808     1701     780  \n",
       "962     3772     2935    2360  \n",
       "\n",
       "[963 rows x 18 columns]>"
      ]
     },
     "execution_count": 2,
     "metadata": {},
     "output_type": "execute_result"
    }
   ],
   "source": [
    "population = pd.read_excel('c://programming/python/pandasdata/population.xlsx', header=1)\n",
    "population.info"
   ]
  },
  {
   "cell_type": "markdown",
   "id": "a400a228",
   "metadata": {},
   "source": [
    "데이터 전처리"
   ]
  },
  {
   "cell_type": "code",
   "execution_count": 3,
   "id": "69417c1e",
   "metadata": {},
   "outputs": [
    {
     "name": "stdout",
     "output_type": "stream",
     "text": [
      "    광역시도  시도 성별(1)       인구수   20~24세   25~29세   30~34세   35~39세   40~44세  \\\n",
      "0     전국  소계     계  48674177  2676127  3284719  3023482  3789676  3698794   \n",
      "1     전국  소계    남자  24029501  1266355  1713307  1549970  1924470  1869529   \n",
      "2     전국  소계    여자  24644676  1409772  1571412  1473512  1865206  1829265   \n",
      "3  서울특별시  소계     계   9096901   548245   768413   687804   746830   677660   \n",
      "4  서울특별시  소계    남자   4386287   233761   377349   341858   374514   335606   \n",
      "\n",
      "    45~49세   50~54세   55~59세   60~64세   65~69세   70~74세   75~79세   80~84세  \\\n",
      "0  4289786  4169392  4140190  3578478  2430488  1888139  1544916  1001174   \n",
      "1  2162206  2078150  2059480  1754466  1166572   878584   659165   379422   \n",
      "2  2127580  2091242  2080710  1824012  1263916  1009555   885751   621752   \n",
      "3   782455   731258   728273   664875   465250   370242   280007   163363   \n",
      "4   385491   354886   349208   313417   218378   170303   126711    66754   \n",
      "\n",
      "    85세이상  \n",
      "0  600048  \n",
      "1  178713  \n",
      "2  421335  \n",
      "3   96792  \n",
      "4   30757  \n"
     ]
    }
   ],
   "source": [
    "#결측치를 앞의 데이터로 채우기\n",
    "population.fillna(method='ffill', inplace=True)\n",
    "#컬럼이름 변경하기\n",
    "population.rename(columns = {'행정구역별(시군구)(1)':'광역시도',\n",
    "'행정구역별(시군구)(2)':'시도',\n",
    "'합계':'인구수'}, inplace=True)\n",
    "print(population.head())\n",
    "#소계를 제외한 데이터만 가져오기\n",
    "#population = population[(population['시도'] != '소계')]\n",
    "#print(population.head())"
   ]
  },
  {
   "cell_type": "markdown",
   "id": "cc0786e9",
   "metadata": {},
   "source": [
    "컬럼이름 변경"
   ]
  },
  {
   "cell_type": "code",
   "execution_count": 4,
   "id": "cb0fa451",
   "metadata": {},
   "outputs": [
    {
     "name": "stdout",
     "output_type": "stream",
     "text": [
      "    광역시도  시도  구분       인구수   20~24세   25~29세   30~34세   35~39세   40~44세  \\\n",
      "0     전국  소계  합계  48674177  2676127  3284719  3023482  3789676  3698794   \n",
      "1     전국  소계  남자  24029501  1266355  1713307  1549970  1924470  1869529   \n",
      "2     전국  소계  여자  24644676  1409772  1571412  1473512  1865206  1829265   \n",
      "3  서울특별시  소계  합계   9096901   548245   768413   687804   746830   677660   \n",
      "4  서울특별시  소계  남자   4386287   233761   377349   341858   374514   335606   \n",
      "\n",
      "    45~49세   50~54세   55~59세   60~64세   65~69세   70~74세   75~79세   80~84세  \\\n",
      "0  4289786  4169392  4140190  3578478  2430488  1888139  1544916  1001174   \n",
      "1  2162206  2078150  2059480  1754466  1166572   878584   659165   379422   \n",
      "2  2127580  2091242  2080710  1824012  1263916  1009555   885751   621752   \n",
      "3   782455   731258   728273   664875   465250   370242   280007   163363   \n",
      "4   385491   354886   349208   313417   218378   170303   126711    66754   \n",
      "\n",
      "    85세이상  \n",
      "0  600048  \n",
      "1  178713  \n",
      "2  421335  \n",
      "3   96792  \n",
      "4   30757  \n"
     ]
    }
   ],
   "source": [
    "population.is_copy = False\n",
    "population.rename(columns = {'성별(1)':'구분'}, inplace=True)\n",
    "population.loc[population['구분'] == '계', '구분'] = '합계'\n",
    "print(population.head())"
   ]
  },
  {
   "cell_type": "markdown",
   "id": "02c48210",
   "metadata": {},
   "source": [
    "청년과 노년 분류"
   ]
  },
  {
   "cell_type": "code",
   "execution_count": 5,
   "id": "504ab085",
   "metadata": {},
   "outputs": [
    {
     "name": "stdout",
     "output_type": "stream",
     "text": [
      "    광역시도  시도  구분       인구수   20~24세   25~29세   30~34세   35~39세   40~44세  \\\n",
      "0     전국  소계  합계  48674177  2676127  3284719  3023482  3789676  3698794   \n",
      "1     전국  소계  남자  24029501  1266355  1713307  1549970  1924470  1869529   \n",
      "2     전국  소계  여자  24644676  1409772  1571412  1473512  1865206  1829265   \n",
      "3  서울특별시  소계  합계   9096901   548245   768413   687804   746830   677660   \n",
      "4  서울특별시  소계  남자   4386287   233761   377349   341858   374514   335606   \n",
      "\n",
      "    45~49세   50~54세   55~59세   60~64세   65~69세   70~74세   75~79세   80~84세  \\\n",
      "0  4289786  4169392  4140190  3578478  2430488  1888139  1544916  1001174   \n",
      "1  2162206  2078150  2059480  1754466  1166572   878584   659165   379422   \n",
      "2  2127580  2091242  2080710  1824012  1263916  1009555   885751   621752   \n",
      "3   782455   731258   728273   664875   465250   370242   280007   163363   \n",
      "4   385491   354886   349208   313417   218378   170303   126711    66754   \n",
      "\n",
      "    85세이상    20-39세    65세이상  \n",
      "0  600048  12774004  7464765  \n",
      "1  178713   6454102  3262456  \n",
      "2  421335   6319902  4202309  \n",
      "3   96792   2751292  1375654  \n",
      "4   30757   1327482   612903  \n"
     ]
    }
   ],
   "source": [
    "population['20-39세'] = population['20~24세'] + population['25~29세'] + \\\n",
    "population['30~34세'] + population['35~39세']\n",
    "\n",
    "population['65세이상'] = population['65~69세'] + population['70~74세'] + \\\n",
    "population['75~79세'] + population['80~84세'] + \\\n",
    "population['85세이상']\n",
    "\n",
    "print(population.head(5))"
   ]
  },
  {
   "cell_type": "markdown",
   "id": "17ad78a8",
   "metadata": {},
   "source": [
    "피벗 테이블 생성"
   ]
  },
  {
   "cell_type": "code",
   "execution_count": 6,
   "id": "d575d7aa",
   "metadata": {},
   "outputs": [
    {
     "name": "stdout",
     "output_type": "stream",
     "text": [
      "          20-39세                 65세이상                    인구수                \n",
      "구분            남자     여자      합계     남자     여자      합계      남자      여자      합계\n",
      "광역시도 시도                                                                      \n",
      "강원도  강릉시   25015  20993   46008  17378  23119   40497  101154  101903  203057\n",
      "     고성군    2307   1699    4006   2957   4048    7005   11933   11688   23621\n",
      "     동부   107274  99757  207031  60579  80917  141496  429208  440900  870108\n",
      "     동해시    8801   7510   16311   7075   9077   16152   42093   41795   83888\n",
      "     면부    32694  25881   58575  39083  48340   87423  164042  157263  321305\n"
     ]
    }
   ],
   "source": [
    "pop = pd.pivot_table(population,\n",
    "                     index = ['광역시도', '시도'],\n",
    "                     columns = ['구분'],\n",
    "                     values = ['인구수', '20-39세', '65세이상'])\n",
    "print(pop.head())"
   ]
  },
  {
   "cell_type": "markdown",
   "id": "dc8859fc",
   "metadata": {},
   "source": [
    "새로운 컬럼 추가 - 청년층과 노년층 비율 계산"
   ]
  },
  {
   "cell_type": "code",
   "execution_count": 7,
   "id": "744d9afd",
   "metadata": {},
   "outputs": [
    {
     "name": "stdout",
     "output_type": "stream",
     "text": [
      "          20-39세                 65세이상                    인구수                  \\\n",
      "구분            남자     여자      합계     남자     여자      합계      남자      여자      합계   \n",
      "광역시도 시도                                                                         \n",
      "강원도  강릉시   25015  20993   46008  17378  23119   40497  101154  101903  203057   \n",
      "     고성군    2307   1699    4006   2957   4048    7005   11933   11688   23621   \n",
      "     동부   107274  99757  207031  60579  80917  141496  429208  440900  870108   \n",
      "     동해시    8801   7510   16311   7075   9077   16152   42093   41795   83888   \n",
      "     면부    32694  25881   58575  39083  48340   87423  164042  157263  321305   \n",
      "\n",
      "              소멸비율  \n",
      "구분                  \n",
      "광역시도 시도             \n",
      "강원도  강릉시  1.036768  \n",
      "     고성군  0.485082  \n",
      "     동부   1.410033  \n",
      "     동해시  0.929916  \n",
      "     면부   0.592087  \n"
     ]
    }
   ],
   "source": [
    "pop['소멸비율'] = pop['20-39세','여자'] / (pop['65세이상','합계'] / 2)\n",
    "print(pop.head())"
   ]
  },
  {
   "cell_type": "markdown",
   "id": "0c0a8934",
   "metadata": {},
   "source": [
    "청년층과 노년층 비율을 가지고 새로운 컬럼 생성"
   ]
  },
  {
   "cell_type": "code",
   "execution_count": 8,
   "id": "1a8eaa95",
   "metadata": {},
   "outputs": [
    {
     "name": "stdout",
     "output_type": "stream",
     "text": [
      "          20-39세                 65세이상                    인구수                  \\\n",
      "구분            남자     여자      합계     남자     여자      합계      남자      여자      합계   \n",
      "광역시도 시도                                                                         \n",
      "강원도  강릉시   25015  20993   46008  17378  23119   40497  101154  101903  203057   \n",
      "     고성군    2307   1699    4006   2957   4048    7005   11933   11688   23621   \n",
      "     동부   107274  99757  207031  60579  80917  141496  429208  440900  870108   \n",
      "     동해시    8801   7510   16311   7075   9077   16152   42093   41795   83888   \n",
      "     면부    32694  25881   58575  39083  48340   87423  164042  157263  321305   \n",
      "\n",
      "              소멸비율 소멸위기지역  \n",
      "구분                         \n",
      "광역시도 시도                    \n",
      "강원도  강릉시  1.036768  False  \n",
      "     고성군  0.485082   True  \n",
      "     동부   1.410033  False  \n",
      "     동해시  0.929916   True  \n",
      "     면부   0.592087   True  \n"
     ]
    }
   ],
   "source": [
    "pop['소멸위기지역'] = pop['소멸비율'] < 1.0\n",
    "print(pop.head())"
   ]
  },
  {
   "cell_type": "markdown",
   "id": "7c208e3d",
   "metadata": {},
   "source": [
    "소멸위기지역 시도이름 확인"
   ]
  },
  {
   "cell_type": "code",
   "execution_count": 9,
   "id": "28211548",
   "metadata": {},
   "outputs": [
    {
     "name": "stdout",
     "output_type": "stream",
     "text": [
      "Index(['고성군', '동해시', '면부', '삼척시', '양구군', '양양군', '영월군', '읍부', '인제군', '정선군',\n",
      "       ...\n",
      "       '청양군', '태안군', '홍성군', '괴산군', '단양군', '면부', '보은군', '영동군', '옥천군', '제천시'],\n",
      "      dtype='object', name='시도', length=118)\n"
     ]
    }
   ],
   "source": [
    "print(pop[pop['소멸위기지역']==True].index.get_level_values(1))"
   ]
  },
  {
   "cell_type": "markdown",
   "id": "582b7201",
   "metadata": {},
   "source": [
    "인덱스 초기화 - 인덱스를 컬럼으로 변환"
   ]
  },
  {
   "cell_type": "code",
   "execution_count": 10,
   "id": "2774d595",
   "metadata": {},
   "outputs": [
    {
     "name": "stdout",
     "output_type": "stream",
     "text": [
      "   광역시도   시도  20-39세                 65세이상                    인구수          \\\n",
      "구분                남자     여자      합계     남자     여자      합계      남자      여자   \n",
      "0   강원도  강릉시   25015  20993   46008  17378  23119   40497  101154  101903   \n",
      "1   강원도  고성군    2307   1699    4006   2957   4048    7005   11933   11688   \n",
      "2   강원도   동부  107274  99757  207031  60579  80917  141496  429208  440900   \n",
      "3   강원도  동해시    8801   7510   16311   7075   9077   16152   42093   41795   \n",
      "4   강원도   면부   32694  25881   58575  39083  48340   87423  164042  157263   \n",
      "\n",
      "                소멸비율 소멸위기지역  \n",
      "구분      합계                   \n",
      "0   203057  1.036768  False  \n",
      "1    23621  0.485082   True  \n",
      "2   870108  1.410033  False  \n",
      "3    83888  0.929916   True  \n",
      "4   321305  0.592087   True  \n"
     ]
    }
   ],
   "source": [
    "pop.reset_index(inplace=True)\n",
    "print(pop.head())"
   ]
  },
  {
   "cell_type": "markdown",
   "id": "a3f46dca",
   "metadata": {},
   "source": [
    "첫번째와 두번째 컬럼 이름을 합쳐서 새로운 컬럼 이름 만들기"
   ]
  },
  {
   "cell_type": "code",
   "execution_count": 11,
   "id": "d5f857d3",
   "metadata": {},
   "outputs": [
    {
     "name": "stdout",
     "output_type": "stream",
     "text": [
      "  광역시도   시도  20-39세남자  20-39세여자  20-39세합계  65세이상남자  65세이상여자  65세이상합계   인구수남자  \\\n",
      "0  강원도  강릉시     25015     20993     46008    17378    23119    40497  101154   \n",
      "1  강원도  고성군      2307      1699      4006     2957     4048     7005   11933   \n",
      "2  강원도   동부    107274     99757    207031    60579    80917   141496  429208   \n",
      "3  강원도  동해시      8801      7510     16311     7075     9077    16152   42093   \n",
      "4  강원도   면부     32694     25881     58575    39083    48340    87423  164042   \n",
      "\n",
      "    인구수여자   인구수합계      소멸비율  소멸위기지역  \n",
      "0  101903  203057  1.036768   False  \n",
      "1   11688   23621  0.485082    True  \n",
      "2  440900  870108  1.410033   False  \n",
      "3   41795   83888  0.929916    True  \n",
      "4  157263  321305  0.592087    True  \n"
     ]
    }
   ],
   "source": [
    "tmp_coloumns = [pop.columns.get_level_values(0)[n] + \\\n",
    "                pop.columns.get_level_values(1)[n]\n",
    "                for n in range(0,len(pop.columns.get_level_values(0)))]\n",
    "\n",
    "pop.columns = tmp_coloumns\n",
    "print(pop.head())"
   ]
  },
  {
   "cell_type": "markdown",
   "id": "a30868ec",
   "metadata": {},
   "source": [
    "데이터 확인"
   ]
  },
  {
   "cell_type": "code",
   "execution_count": 12,
   "id": "f8b4c7db",
   "metadata": {},
   "outputs": [
    {
     "name": "stdout",
     "output_type": "stream",
     "text": [
      "<class 'pandas.core.frame.DataFrame'>\n",
      "RangeIndex: 321 entries, 0 to 320\n",
      "Data columns (total 13 columns):\n",
      " #   Column    Non-Null Count  Dtype  \n",
      "---  ------    --------------  -----  \n",
      " 0   광역시도      321 non-null    object \n",
      " 1   시도        321 non-null    object \n",
      " 2   20-39세남자  321 non-null    int64  \n",
      " 3   20-39세여자  321 non-null    int64  \n",
      " 4   20-39세합계  321 non-null    int64  \n",
      " 5   65세이상남자   321 non-null    int64  \n",
      " 6   65세이상여자   321 non-null    int64  \n",
      " 7   65세이상합계   321 non-null    int64  \n",
      " 8   인구수남자     321 non-null    int64  \n",
      " 9   인구수여자     321 non-null    int64  \n",
      " 10  인구수합계     321 non-null    int64  \n",
      " 11  소멸비율      321 non-null    float64\n",
      " 12  소멸위기지역    321 non-null    bool   \n",
      "dtypes: bool(1), float64(1), int64(9), object(2)\n",
      "memory usage: 30.5+ KB\n"
     ]
    }
   ],
   "source": [
    "pop.info()"
   ]
  },
  {
   "cell_type": "markdown",
   "id": "8431bfe9",
   "metadata": {},
   "source": [
    "시도 고유값 확인"
   ]
  },
  {
   "cell_type": "code",
   "execution_count": 15,
   "id": "53c53986",
   "metadata": {},
   "outputs": [
    {
     "name": "stdout",
     "output_type": "stream",
     "text": [
      "['강릉시' '고성군' '동부' '동해시' '면부' '삼척시' '소계' '속초시' '양구군' '양양군' '영월군' '원주시' '읍부'\n",
      " '인제군' '정선군' '철원군' '춘천시' '태백시' '평창군' '홍천군' '화천군' '횡성군' '가평군' '고양시' '과천시'\n",
      " '광명시' '광주시' '구리시' '군포시' '권선구' '기흥구' '김포시' '남양주시' '단원구' '덕양구' '동두천시' '동안구'\n",
      " '만안구' '부천시' '분당구' '상록구' '성남시' '수원시' '수정구' '수지구' '시흥시' '안산시' '안성시' '안양시'\n",
      " '양주시' '양평군' '여주시' '연천군' '영통구' '오산시' '용인시' '의왕시' '의정부시' '이천시' '일산동구'\n",
      " '일산서구' '장안구' '중원구' '처인구' '파주시' '팔달구' '평택시' '포천시' '하남시' '화성시' '거제시' '거창군'\n",
      " '김해시' '남해군' '마산합포구' '마산회원구' '밀양시' '사천시' '산청군' '성산구' '양산시' '의령군' '의창구'\n",
      " '진주시' '진해구' '창녕군' '창원시' '통영시' '하동군' '함안군' '함양군' '합천군' '경산시' '경주시' '고령군'\n",
      " '구미시' '군위군' '김천시' '남구' '문경시' '봉화군' '북구' '상주시' '성주군' '안동시' '영덕군' '영양군'\n",
      " '영주시' '영천시' '예천군' '울릉군' '울진군' '의성군' '청도군' '청송군' '칠곡군' '포항시' '광산구' '동구'\n",
      " '서구' '달서구' '달성군' '수성구' '중구' '대덕구' '유성구' '강서구' '금정구' '기장군' '동래구' '부산진구'\n",
      " '사상구' '사하구' '수영구' '연제구' '영도구' '해운대구' '강남구' '강동구' '강북구' '관악구' '광진구' '구로구'\n",
      " '금천구' '노원구' '도봉구' '동대문구' '동작구' '마포구' '서대문구' '서초구' '성동구' '성북구' '송파구' '양천구'\n",
      " '영등포구' '용산구' '은평구' '종로구' '중랑구' '세종시' '울주군' '강화군' '계양구' '남동구' '미추홀구' '부평구'\n",
      " '연수구' '옹진군' '강진군' '고흥군' '곡성군' '광양시' '구례군' '나주시' '담양군' '목포시' '무안군' '보성군'\n",
      " '순천시' '신안군' '여수시' '영광군' '영암군' '완도군' '장성군' '장흥군' '진도군' '함평군' '해남군' '화순군'\n",
      " '고창군' '군산시' '김제시' '남원시' '덕진구' '무주군' '부안군' '순창군' '완산구' '완주군' '익산시' '임실군'\n",
      " '장수군' '전주시' '정읍시' '진안군' '서귀포시' '제주시' '계룡시' '공주시' '금산군' '논산시' '당진시' '동남구'\n",
      " '보령시' '부여군' '서북구' '서산시' '서천군' '아산시' '예산군' '천안시' '청양군' '태안군' '홍성군' '괴산군'\n",
      " '단양군' '보은군' '상당구' '서원구' '영동군' '옥천군' '음성군' '제천시' '증평군' '진천군' '청원구' '청주시'\n",
      " '충주시' '흥덕구']\n"
     ]
    }
   ],
   "source": [
    "print(pop['시도'].unique())"
   ]
  },
  {
   "cell_type": "markdown",
   "id": "6a44c2f6",
   "metadata": {},
   "source": [
    "시도 고유 이름"
   ]
  },
  {
   "cell_type": "code",
   "execution_count": 19,
   "id": "d0028f3d",
   "metadata": {},
   "outputs": [
    {
     "ename": "IndentationError",
     "evalue": "expected an indented block (Temp/ipykernel_14984/2407954069.py, line 29)",
     "output_type": "error",
     "traceback": [
      "\u001b[1;36m  File \u001b[1;32m\"C:\\Users\\90x61\\AppData\\Local\\Temp/ipykernel_14984/2407954069.py\"\u001b[1;36m, line \u001b[1;32m29\u001b[0m\n\u001b[1;33m    if len(pop['시도'][n])==2:\u001b[0m\n\u001b[1;37m    ^\u001b[0m\n\u001b[1;31mIndentationError\u001b[0m\u001b[1;31m:\u001b[0m expected an indented block\n"
     ]
    }
   ],
   "source": [
    "si_name = [None] * len(pop)\n",
    "#광역시가 아닌 곳 중에서 구를 가지고 있는 시도들의 구이름 디셔너리 생성\n",
    "tmp_gu_dict = {'수원':['장안구', '권선구', '팔달구', '영통구'],\n",
    "'성남':['수정구', '중원구', '분당구'],\n",
    "'안양':['만안구', '동안구'],\n",
    "'안산':['상록구', '단원구'],\n",
    "'고양':['덕양구', '일산동구', '일산서구'],\n",
    "'용인':['처인구', '기흥구', '수지구'],\n",
    "'청주':['상당구', '서원구', '흥덕구', '청원구'],\n",
    "'천안':['동남구', '서북구'],\n",
    "'전주':['완산구', '덕진구'],\n",
    "'포항':['남구', '북구'],\n",
    "'창원':['의창구', '성산구', '진해구', '마산합포구', '마산회원구'],\n",
    "'부천':['오정구', '원미구', '소사구']}\n",
    "\n",
    "for n in pop.index:\n",
    "    #고성이 2곳이므로 도를 추가\n",
    " if pop['광역시도'][n][-3:] not in ['광역시', '특별시', '자치시']:\n",
    "    if pop['시도'][n][:-1]=='고성' and pop['광역시도'][n]=='강원도':\n",
    "        si_name[n] = '고성(강원)'\n",
    "    elif pop['시도'][n][:-1]=='고성' and pop['광역시도'][n]=='경상남도':\n",
    "        si_name[n] = '고성(경남)'\n",
    "    #그 이외의 지역은 마지막 한글자를 제거해서 군 이나 시 글자를 제거\n",
    "    else:\n",
    "        si_name[n] = pop['시도'][n][:-1]\n",
    "    \n",
    "    for keys, values in tmp_gu_dict.items():\n",
    "        if pop['시도'][n] in values:\n",
    "        if len(pop['시도'][n])==2:\n",
    "            si_name[n] = keys + ' ' + pop['시도'][n]\n",
    "        elif pop['시도'][n] in ['마산합포구','마산회원구']:\n",
    "            si_name[n] = keys + ' ' + pop['시도'][n][2:-1]\n",
    "        else:\n",
    "            si_name[n] = keys + ' ' + pop['시도'][n][:-1]\n",
    "\n",
    "    #세종은 이름을 수정\n",
    "    elif pop['광역시도'][n] == '세종특별자치시':\n",
    "        si_name[n] = '세종'\n",
    "    else:\n",
    "        if len(pop['시도'][n])==2:\n",
    "            si_name[n] = pop['광역시도'][n][:2] + ' ' + pop['시도'][n]\n",
    "        else:\n",
    "            si_name[n] = pop['광역시도'][n][:2] + ' ' + pop['시도'][n][:-1]\n",
    "\n",
    "print(si_name)"
   ]
  },
  {
   "cell_type": "markdown",
   "id": "cc03c0e6",
   "metadata": {},
   "source": [
    "도시 이름을 DataFrame에 추가하고 불필요한 데이터 삭제"
   ]
  },
  {
   "cell_type": "code",
   "execution_count": null,
   "id": "70073bcf",
   "metadata": {},
   "outputs": [],
   "source": [
    "pop['ID'] = si_name\n",
    "del pop['20-39세남자']\n",
    "del pop['65세이상남자']\n",
    "del pop['65세이상여자']\n",
    "print(pop.head())"
   ]
  },
  {
   "cell_type": "markdown",
   "id": "5d2c6d1f",
   "metadata": {},
   "source": [
    "Cartogram을 위한 엑셀 파일 읽기\n"
   ]
  },
  {
   "cell_type": "code",
   "execution_count": 26,
   "id": "001b68f6",
   "metadata": {},
   "outputs": [
    {
     "name": "stdout",
     "output_type": "stream",
     "text": [
      "       0      1      2       3       4       5      6       7      8      9   \\\n",
      "0     NaN    NaN    NaN     NaN     NaN     NaN    NaN      철원     화천     양구   \n",
      "1     NaN    NaN    NaN      양주     동두천      연천     포천     의정부     인제     춘천   \n",
      "2     NaN    NaN    NaN   고양 덕양  고양 일산동   서울 도봉  서울 노원     남양주     홍천     횡성   \n",
      "3     NaN    NaN     파주  고양 일산서      김포   서울 강북  서울 성북      가평     구리     하남   \n",
      "4     NaN    NaN  부천 소사   안양 만안      광명  서울 서대문  서울 종로  서울 동대문  서울 중랑     양평   \n",
      "5     NaN  인천 강화  부천 원미   안양 동안   서울 은평   서울 마포  서울 중구   서울 성동  서울 강동     여주   \n",
      "6     NaN  인천 서구  부천 오정      시흥   서울 강서   서울 동작  서울 용산   서울 광진  서울 송파     이천   \n",
      "7     NaN  인천 동구  인천 계양   안산 상록   서울 양천   서울 관악  서울 서초   성남 중원     과천     광주   \n",
      "8     NaN    NaN  인천 부평   안산 단원  서울 영등포   서울 금천  서울 강남   성남 분당  성남 수정  용인 수지   \n",
      "9     NaN  인천 중구  인천 남구      화성   서울 구로      군포     의왕   수원 영통  용인 기흥  용인 처인   \n",
      "10  인천 옹진  인천 연수  인천 남동      오산      안성   수원 권선  수원 장안      제천     예천     영주   \n",
      "11     태안     아산  천안 동남   천안 서북      평택      음성  수원 팔달      단양     상주     김천   \n",
      "12    NaN     당진     홍성      예산      공주      진천     충주   청주 흥덕     괴산     칠곡   \n",
      "13    NaN     서산     보령      청양      세종   대전 대덕     증평   청주 청원     보은     고령   \n",
      "14    NaN    NaN     부여      논산      계룡   대전 동구  청주 상당   청주 서원  대구 북구  대구 중구   \n",
      "15    NaN    NaN     서천      금산   대전 유성   대전 중구     옥천      영동  대구 서구  대구 남구   \n",
      "16    NaN    NaN     군산      익산   대전 서구      무주     거창      합천  대구 달서  대구 달성   \n",
      "17    NaN    NaN     부안      김제      완주      장수     함양      창녕     밀양  부산 북구   \n",
      "18    NaN     고창     정읍   전주 덕진      진안      남원     진주      의령  부산 강서  부산 사상   \n",
      "19    NaN     영광     장성   전주 완산      임실      산청     함안      양산  창원 합포  부산 서구   \n",
      "20    NaN     함평     담양      순창      구례      하동  창원 의창   창원 성산  창원 진해     김해   \n",
      "21     신안     무안  광주 광산      곡성      화순      광양     사천   창원 회원     통영    NaN   \n",
      "22     목포     나주  광주 서구   광주 북구      순천      고흥     남해  고성(경남)     거제    NaN   \n",
      "23     해남     영암  광주 남구   광주 동구      여수     NaN    NaN     NaN    NaN    NaN   \n",
      "24     진도     강진     장흥      보성     NaN     NaN    NaN     NaN    NaN    NaN   \n",
      "25    NaN    NaN     완도     NaN     NaN      제주    NaN     NaN    NaN    NaN   \n",
      "26    NaN    NaN    NaN     NaN     NaN     서귀포    NaN     NaN    NaN    NaN   \n",
      "\n",
      "        10     11      12   13  \n",
      "0   고성(강원)    NaN     NaN  NaN  \n",
      "1       속초    NaN     NaN  NaN  \n",
      "2       양양    NaN     NaN  NaN  \n",
      "3       정선     강릉     NaN  NaN  \n",
      "4       태백     동해     NaN  NaN  \n",
      "5       원주     삼척     NaN  NaN  \n",
      "6       평창     울진     NaN  NaN  \n",
      "7       영월     영덕     NaN  NaN  \n",
      "8       문경     봉화     NaN   울릉  \n",
      "9       안동     영양     NaN  NaN  \n",
      "10      구미     청송   포항 북구  NaN  \n",
      "11      군위     의성   포항 남구  NaN  \n",
      "12      영천     경산      경주  NaN  \n",
      "13      청도     성주   울산 북구  NaN  \n",
      "14   대구 수성  울산 울주   울산 동구  NaN  \n",
      "15   대구 동구  울산 중구   울산 남구  NaN  \n",
      "16   부산 금정  부산 동래   부산 기장  NaN  \n",
      "17  부산 부산진  부산 연제  부산 해운대  NaN  \n",
      "18   부산 동구  부산 중구     NaN  NaN  \n",
      "19   부산 사하  부산 남구     NaN  NaN  \n",
      "20   부산 영도  부산 수영     NaN  NaN  \n",
      "21     NaN    NaN     NaN  NaN  \n",
      "22     NaN    NaN     NaN  NaN  \n",
      "23     NaN    NaN     NaN  NaN  \n",
      "24     NaN    NaN     NaN  NaN  \n",
      "25     NaN    NaN     NaN  NaN  \n",
      "26     NaN    NaN     NaN  NaN  \n"
     ]
    }
   ],
   "source": [
    "draw_korea_raw = pd.read_excel('c://programming/python/pandasdata/draw_korea_raw.xlsx')\n",
    "print(draw_korea_raw)"
   ]
  },
  {
   "cell_type": "markdown",
   "id": "21ca96eb",
   "metadata": {},
   "source": [
    "좌표를 만들기 위한 컬럼이름을 인덱스로 추가"
   ]
  },
  {
   "cell_type": "code",
   "execution_count": 28,
   "id": "47983ca2",
   "metadata": {},
   "outputs": [
    {
     "name": "stdout",
     "output_type": "stream",
     "text": [
      "            0\n",
      "0  7       철원\n",
      "   8       화천\n",
      "   9       양구\n",
      "   10  고성(강원)\n",
      "1  3       양주\n",
      "...       ...\n",
      "24 2       장흥\n",
      "   3       보성\n",
      "25 2       완도\n",
      "   5       제주\n",
      "26 5      서귀포\n",
      "\n",
      "[252 rows x 1 columns]\n"
     ]
    }
   ],
   "source": [
    "draw_korea_raw_stacked = pd.DataFrame(draw_korea_raw.stack())\n",
    "print(draw_korea_raw_stacked)"
   ]
  },
  {
   "cell_type": "markdown",
   "id": "f5b88dff",
   "metadata": {},
   "source": [
    "인덱스 초기화"
   ]
  },
  {
   "cell_type": "code",
   "execution_count": 30,
   "id": "e0e057fd",
   "metadata": {},
   "outputs": [
    {
     "name": "stdout",
     "output_type": "stream",
     "text": [
      "     index  level_0  level_1       0\n",
      "0        0        0        7      철원\n",
      "1        1        0        8      화천\n",
      "2        2        0        9      양구\n",
      "3        3        0       10  고성(강원)\n",
      "4        4        1        3      양주\n",
      "..     ...      ...      ...     ...\n",
      "247    247       24        2      장흥\n",
      "248    248       24        3      보성\n",
      "249    249       25        2      완도\n",
      "250    250       25        5      제주\n",
      "251    251       26        5     서귀포\n",
      "\n",
      "[252 rows x 4 columns]\n"
     ]
    }
   ],
   "source": [
    "draw_korea_raw_stacked.reset_index(inplace=True)\n",
    "print(draw_korea_raw_stacked)"
   ]
  },
  {
   "cell_type": "markdown",
   "id": "b5b22b77",
   "metadata": {},
   "source": [
    "컬럼 이름 변경"
   ]
  },
  {
   "cell_type": "code",
   "execution_count": 32,
   "id": "b74fd0e4",
   "metadata": {},
   "outputs": [
    {
     "name": "stdout",
     "output_type": "stream",
     "text": [
      "     index   y   x      ID\n",
      "0        0   0   7      철원\n",
      "1        1   0   8      화천\n",
      "2        2   0   9      양구\n",
      "3        3   0  10  고성(강원)\n",
      "4        4   1   3      양주\n",
      "..     ...  ..  ..     ...\n",
      "247    247  24   2      장흥\n",
      "248    248  24   3      보성\n",
      "249    249  25   2      완도\n",
      "250    250  25   5      제주\n",
      "251    251  26   5     서귀포\n",
      "\n",
      "[252 rows x 4 columns]\n"
     ]
    }
   ],
   "source": [
    "draw_korea_raw_stacked.rename(columns={'level_0':'y', 'level_1':'x', 0:'ID'}, inplace=True)\n",
    "print(draw_korea_raw_stacked)"
   ]
  },
  {
   "cell_type": "code",
   "execution_count": null,
   "id": "e18d9b40",
   "metadata": {},
   "outputs": [],
   "source": [
    "cartogram 의 기본이 되는 지도 그리기\n",
    "BORDER_LINES = [[(5, 1), (5,2), (7,2), (7,3), (11,3), (11,0)], # 인천\n",
    "[(5,4), (5,5), (2,5), (2,7), (4,7), (4,9), (7,9),\n",
    "(7,7), (9,7), (9,5), (10,5), (10,4), (5,4)], # 서울\n",
    "[(1,7), (1,8), (3,8), (3,10), (10,10), (10,7),\n",
    "(12,7), (12,6), (11,6), (11,5), (12, 5), (12,4),\n",
    "(11,4), (11,3)], # 경기도\n",
    "[(8,10), (8,11), (6,11), (6,12)], # 강원도\n",
    "[(12,5), (13,5), (13,4), (14,4), (14,5), (15,5),\n",
    "(15,4), (16,4), (16,2)], # 충청북도\n",
    "[(16,4), (17,4), (17,5), (16,5), (16,6), (19,6),\n",
    "(19,5), (20,5), (20,4), (21,4), (21,3), (19,3), (19,1)], # 전라북도\n",
    "[(13,5), (13,6), (16,6)], # 대전시\n",
    "[(13,5), (14,5)], #세종시\n",
    "[(21,2), (21,3), (22,3), (22,4), (24,4), (24,2), (21,2)], #광주\n",
    "[(20,5), (21,5), (21,6), (23,6)], #전라남도\n",
    "[(10,8), (12,8), (12,9), (14,9), (14,8), (16,8), (16,6)], #충청북도\n",
    "[(14,9), (14,11), (14,12), (13,12), (13,13)], #경상북도\n",
    "[(15,8), (17,8), (17,10), (16,10), (16,11), (14,11)], #대구\n",
    "[(17,9), (18,9), (18,8), (19,8), (19,9), (20,9), (20,10), (21,10)], #부산\n",
    "[(16,11), (16,13)], #울산\n",
    "# [(9,14), (9,15)],\n",
    "[(27,5), (27,6), (25,6)],\n",
    "]\n",
    "plt.figure(figsize=(8, 11))\n",
    "\n",
    "# 지역 이름 표시\n",
    "for idx, row in draw_korea_raw_stacked.iterrows():\n",
    "# 광역시는 구 이름이 겹치는 경우가 많아서 시단위 이름도 같이 표시\n",
    "# (중구, 서구)\n",
    "    if len(row['ID'].split())==2:\n",
    "        dispname = '{}\\n{}'.format(row['ID'].split()[0], row['ID'].split()[1])\n",
    "    elif row['ID'][:2]=='고성':\n",
    "        dispname = '고성'\n",
    "    else:\n",
    "        dispname = row['ID']\n",
    "# 서대문구, 서귀포시 같이 이름이 3자 이상인 경우에 작은 글자로 표시한다.\n",
    "        if len(dispname.splitlines()[-1]) >= 3:\n",
    "            fontsize, linespacing = 9.5, 1.5\n",
    "        else:\n",
    "            fontsize, linespacing = 11, 1.2\n",
    "            plt.annotate(dispname, (row['x']+0.5, row['y']+0.5), weight='bold',\n",
    "                         fontsize=fontsize, ha='center', va='center', linespacing=linespacing)\n",
    "\n",
    "# 시도 경계 그린다.\n",
    "for path in BORDER_LINES:\n",
    "    ys, xs = zip(*path)\n",
    "plt.plot(xs, ys, c='black', lw=1.5)\n",
    "\n",
    "#y축의 위아래 변경\n",
    "plt.gca().invert_yaxis()\n",
    "#plt.gca().set_aspect(1)\n",
    "\n",
    "#축과 라벨 제거\n",
    "plt.axis('off')\n",
    "\n",
    "#자동 레이아웃 설정\n",
    "plt.tight_layout()\n",
    "plt.show()\n"
   ]
  },
  {
   "cell_type": "code",
   "execution_count": null,
   "id": "63ca3db3",
   "metadata": {},
   "outputs": [],
   "source": [
    "draw_korea_raw_stacked 와 pop 의 도시이름 일치시키기"
   ]
  },
  {
   "cell_type": "code",
   "execution_count": null,
   "id": "8eb4d1ec",
   "metadata": {},
   "outputs": [],
   "source": [
    "#draw_korea_raw_stacked 와 pop 의 도시이름 비교\n",
    "print(set(draw_korea_raw_stacked['ID'].unique()) - set(pop['ID'].unique()))\n",
    "print(set(pop['ID'].unique()) - set(draw_korea_raw_stacked['ID'].unique()))\n",
    "\n",
    "#일치하지 않는 데이터 삭제\n",
    "tmp_list = list(set(pop['ID'].unique()) - set(draw_korea_raw_stacked['ID'].unique()))\n",
    "\n",
    "for tmp in tmp_list:\n",
    "    pop = pop.drop(pop[pop['ID']==tmp].index)\n",
    "\n",
    "print(set(pop['ID'].unique()) - set(draw_korea_raw_stacked['ID'].unique()))"
   ]
  },
  {
   "cell_type": "markdown",
   "id": "0d5338bc",
   "metadata": {},
   "source": [
    "draw_korea_raw_stacked 와 pop 의 데이터 합치기"
   ]
  },
  {
   "cell_type": "code",
   "execution_count": null,
   "id": "50de021c",
   "metadata": {},
   "outputs": [],
   "source": [
    "pop = pd.merge(pop, draw_korea_raw_stacked, how='left', on=['ID'])\n",
    "print(pop.head())"
   ]
  },
  {
   "cell_type": "markdown",
   "id": "37c2a6f9",
   "metadata": {},
   "source": [
    "피봇 테이블 만들기"
   ]
  },
  {
   "cell_type": "code",
   "execution_count": null,
   "id": "52cd7a73",
   "metadata": {},
   "outputs": [],
   "source": [
    "mapdata = pop.pivot_table(index='y', columns='x', values='인구수합계')\n",
    "print(mapdata)"
   ]
  },
  {
   "cell_type": "markdown",
   "id": "a1c4e2fb",
   "metadata": {},
   "source": [
    "NaN이 아닌 데이터 확인"
   ]
  },
  {
   "cell_type": "code",
   "execution_count": null,
   "id": "9e75c45a",
   "metadata": {},
   "outputs": [],
   "source": [
    "masked_mapdata = np.ma.masked_where(np.isnan(mapdata), mapdata)\n",
    "print(masked_mapdata)"
   ]
  },
  {
   "cell_type": "code",
   "execution_count": null,
   "id": "b7234862",
   "metadata": {},
   "outputs": [],
   "source": [
    "DataFrame과 컬럼이름 및 색상 값을 받아서 Cartogram을 그려주는 함수"
   ]
  },
  {
   "cell_type": "code",
   "execution_count": null,
   "id": "eeba18a9",
   "metadata": {},
   "outputs": [],
   "source": [
    "def drawKorea(targetData, blockedMap, cmapname):\n",
    "gamma = 0.75\n",
    "#인구수 데이터의 크고 낮음을 분류하기 위한 값 만들기\n",
    "whitelabelmin = (max(blockedMap[targetData]) -\n",
    "min(blockedMap[targetData]))*0.25 + \\\n",
    "min(blockedMap[targetData])\n",
    "#컬럼이름을 대입하기\n",
    "datalabel = targetData\n",
    "#최대값과 최소값 구하기\n",
    "vmin = min(blockedMap[targetData])\n",
    "vmax = max(blockedMap[targetData])\n",
    "#x 와 y를 가지고 피봇 테이블 만들기\n",
    "mapdata = blockedMap.pivot_table(index='y', columns='x', values=targetData)\n",
    "#데이터가 존재하는 것 골라내기\n",
    "masked_mapdata = np.ma.masked_where(np.isnan(mapdata), mapdata)\n",
    "#그래프 영역 크기 만들기\n",
    "plt.figure(figsize=(9, 11))\n",
    "#색상 설정\n",
    "plt.pcolor(masked_mapdata, vmin=vmin, vmax=vmax, cmap=cmapname,\n",
    "edgecolor='#aaaaaa', linewidth=0.5)\n",
    "\n",
    "# 지역 이름 표시\n",
    "for idx, row in blockedMap.iterrows():\n",
    "# 광역시는 구 이름이 겹치는 경우가 많아서 시단위 이름도 같이 표시\n",
    "#(중구, 서구)\n",
    "if len(row['ID'].split())==2:\n",
    "dispname = '{}\\n{}'.format(row['ID'].split()[0], row['ID'].split()[1])\n",
    "elif row['ID'][:2]=='고성':\n",
    "dispname = '고성'\n",
    "else:\n",
    "dispname = row['ID']\n",
    "# 서대문구, 서귀포시 같이 이름이 3자 이상인 경우에 작은 글자로 표시\n",
    "if len(dispname.splitlines()[-1]) >= 3:\n",
    "fontsize, linespacing = 10.0, 1.1\n",
    "else:\n",
    "fontsize, linespacing = 11, 1.\n",
    "#글자색상 만들기\n",
    "annocolor = 'white' if row[targetData] > whitelabelmin else 'black'\n",
    "#텍스트 출력하기\n",
    "plt.annotate(dispname, (row['x']+0.5, row['y']+0.5), weight='bold',\n",
    "fontsize=fontsize, ha='center', va='center', color=annocolor,\n",
    "linespacing=linespacing)\n",
    "\n",
    "# 시도 경계 그리기\n",
    "for path in BORDER_LINES:\n",
    "ys, xs = zip(*path)\n",
    "plt.plot(xs, ys, c='black', lw=2)\n",
    "plt.gca().invert_yaxis()\n",
    "plt.axis('off')\n",
    "cb = plt.colorbar(shrink=.1, aspect=10)\n",
    "cb.set_label(datalabel)\n",
    "plt.tight_layout()\n",
    "plt.show()"
   ]
  },
  {
   "cell_type": "code",
   "execution_count": null,
   "id": "bcadaf36",
   "metadata": {},
   "outputs": [],
   "source": [
    "인구수 합계로 Cartogram 그리기"
   ]
  },
  {
   "cell_type": "code",
   "execution_count": null,
   "id": "1eff773d",
   "metadata": {},
   "outputs": [],
   "source": [
    "drawKorea('인구수합계', pop, 'Blues')"
   ]
  },
  {
   "cell_type": "code",
   "execution_count": null,
   "id": "cb63b97d",
   "metadata": {},
   "outputs": [],
   "source": [
    "소멸위기지역으로 Cartogram 그리기"
   ]
  },
  {
   "cell_type": "code",
   "execution_count": null,
   "id": "4fb2a694",
   "metadata": {},
   "outputs": [],
   "source": [
    "pop['소멸위기지역'] = [1 if con else 0 for con in pop['소멸위기지역']]\n",
    "drawKorea('소멸위기지역', pop, 'Reds')"
   ]
  },
  {
   "cell_type": "code",
   "execution_count": null,
   "id": "14d7b65e",
   "metadata": {},
   "outputs": [],
   "source": [
    "여성비율로 Cartogram 그리기"
   ]
  },
  {
   "cell_type": "code",
   "execution_count": null,
   "id": "d77e2898",
   "metadata": {},
   "outputs": [],
   "source": [
    "pop['여성비'] = (pop['인구수여자']/pop['인구수합계'])*100\n",
    "drawKorea('여성비', pop, 'RdBu')"
   ]
  },
  {
   "cell_type": "code",
   "execution_count": null,
   "id": "39845cf1",
   "metadata": {},
   "outputs": [],
   "source": [
    "청년 층의 여성 비율을 이용한 Cartogram 그리기"
   ]
  },
  {
   "cell_type": "code",
   "execution_count": null,
   "id": "06bada89",
   "metadata": {},
   "outputs": [],
   "source": [
    "pop['2030여성비'] = (pop['20-39세여자']/pop['20-39세합계'])*100\n",
    "drawKorea('2030여성비', pop, 'RdBu')"
   ]
  },
  {
   "cell_type": "markdown",
   "id": "be733d98",
   "metadata": {},
   "source": []
  },
  {
   "cell_type": "code",
   "execution_count": null,
   "id": "b5cf2f1e",
   "metadata": {},
   "outputs": [],
   "source": []
  }
 ],
 "metadata": {
  "kernelspec": {
   "display_name": "Python 3 (ipykernel)",
   "language": "python",
   "name": "python3"
  },
  "language_info": {
   "codemirror_mode": {
    "name": "ipython",
    "version": 3
   },
   "file_extension": ".py",
   "mimetype": "text/x-python",
   "name": "python",
   "nbconvert_exporter": "python",
   "pygments_lexer": "ipython3",
   "version": "3.9.7"
  }
 },
 "nbformat": 4,
 "nbformat_minor": 5
}
