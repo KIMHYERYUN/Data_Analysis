{
 "cells": [
  {
   "cell_type": "markdown",
   "id": "9240823d",
   "metadata": {},
   "source": [
    "데이터 탐색"
   ]
  },
  {
   "cell_type": "markdown",
   "id": "13e5fba0",
   "metadata": {},
   "source": [
    "통계함수"
   ]
  },
  {
   "cell_type": "code",
   "execution_count": 1,
   "id": "29603e73",
   "metadata": {},
   "outputs": [],
   "source": [
    "#데이터 가져오기"
   ]
  },
  {
   "cell_type": "code",
   "execution_count": 2,
   "id": "7d4cbc04",
   "metadata": {},
   "outputs": [
    {
     "name": "stdout",
     "output_type": "stream",
     "text": [
      "    mpg  cylinders  displacement horsepower  weight  acceleration  model_year  \\\n",
      "0  15.0          8         350.0      165.0  3693.0          11.5          70   \n",
      "1  18.0          8         318.0      150.0  3436.0          11.0          70   \n",
      "2  16.0          8         304.0      150.0  3433.0          12.0          70   \n",
      "3  17.0          8         302.0      140.0  3449.0          10.5          70   \n",
      "4  15.0          8         429.0      198.0  4341.0          10.0          70   \n",
      "\n",
      "   origin                name  \n",
      "0       1   buick skylark 320  \n",
      "1       1  plymouth satellite  \n",
      "2       1       amc rebel sst  \n",
      "3       1         ford torino  \n",
      "4       1    ford galaxie 500  \n",
      "\n",
      "<class 'pandas.core.frame.DataFrame'>\n",
      "RangeIndex: 397 entries, 0 to 396\n",
      "Data columns (total 9 columns):\n",
      " #   Column        Non-Null Count  Dtype  \n",
      "---  ------        --------------  -----  \n",
      " 0   mpg           397 non-null    float64\n",
      " 1   cylinders     397 non-null    int64  \n",
      " 2   displacement  397 non-null    float64\n",
      " 3   horsepower    397 non-null    object \n",
      " 4   weight        397 non-null    float64\n",
      " 5   acceleration  397 non-null    float64\n",
      " 6   model_year    397 non-null    int64  \n",
      " 7   origin        397 non-null    int64  \n",
      " 8   name          397 non-null    object \n",
      "dtypes: float64(4), int64(3), object(2)\n",
      "memory usage: 28.0+ KB\n"
     ]
    }
   ],
   "source": [
    "import numpy as np\n",
    "import pandas as pd\n",
    "from pandas import Series, DataFrame\n",
    "\n",
    "#일반적으로 연비를 예측하는 회귀분석에서 많이 사용\n",
    "mpg = pd.read_csv('c://programming/python/pandasdata/noheader_auto-mpg.csv')\n",
    "\n",
    "#첫번째 행이 데이터가 아니므로 컬럼이름 만들기\n",
    "mpg.columns = ['mpg', 'cylinders', 'displacement', 'horsepower', 'weight', 'acceleration', 'model_year', 'origin', 'name']\n",
    "\n",
    "print(mpg.head())\n",
    "print()\n",
    "mpg.info()"
   ]
  },
  {
   "cell_type": "markdown",
   "id": "76233abb",
   "metadata": {},
   "source": [
    "기술 통계함수 적용 - 데이터 탐색"
   ]
  },
  {
   "cell_type": "code",
   "execution_count": 3,
   "id": "768a645b",
   "metadata": {},
   "outputs": [
    {
     "name": "stdout",
     "output_type": "stream",
     "text": [
      "mpg               23.528463\n",
      "cylinders          5.448363\n",
      "displacement     193.139798\n",
      "weight          2969.080605\n",
      "acceleration      15.577078\n",
      "model_year        76.025189\n",
      "origin             1.574307\n",
      "dtype: float64\n",
      "\n",
      "23.528463476070538\n",
      "\n",
      "mpg         23.528463\n",
      "weight    2969.080605\n",
      "dtype: float64\n",
      "\n"
     ]
    },
    {
     "name": "stderr",
     "output_type": "stream",
     "text": [
      "C:\\Users\\90x61\\AppData\\Local\\Temp/ipykernel_16660/664719317.py:2: FutureWarning: Dropping of nuisance columns in DataFrame reductions (with 'numeric_only=None') is deprecated; in a future version this will raise TypeError.  Select only valid columns before calling the reduction.\n",
      "  print(mpg.mean())\n"
     ]
    }
   ],
   "source": [
    "#평균 - 각 열의 평균\n",
    "print(mpg.mean())\n",
    "print()\n",
    "\n",
    "#특정 열의 평균 계산\n",
    "print(mpg['mpg'].mean())\n",
    "print()\n",
    "\n",
    "#특정 열들의 평균 계산\n",
    "print(mpg[['mpg', 'weight']].mean())\n",
    "print()"
   ]
  },
  {
   "cell_type": "markdown",
   "id": "f676bc18",
   "metadata": {},
   "source": [
    "상관 계수 확인"
   ]
  },
  {
   "cell_type": "code",
   "execution_count": 4,
   "id": "247f72c6",
   "metadata": {},
   "outputs": [
    {
     "name": "stdout",
     "output_type": "stream",
     "text": [
      "                   mpg  cylinders  displacement    weight  acceleration  \\\n",
      "mpg           1.000000  -0.775412     -0.803972 -0.831558      0.419133   \n",
      "cylinders    -0.775412   1.000000      0.950718  0.896623     -0.503016   \n",
      "displacement -0.803972   0.950718      1.000000  0.932957     -0.542083   \n",
      "weight       -0.831558   0.896623      0.932957  1.000000     -0.416488   \n",
      "acceleration  0.419133  -0.503016     -0.542083 -0.416488      1.000000   \n",
      "model_year    0.578667  -0.344729     -0.367470 -0.305150      0.284376   \n",
      "origin        0.562894  -0.561796     -0.608749 -0.580552      0.204102   \n",
      "\n",
      "              model_year    origin  \n",
      "mpg             0.578667  0.562894  \n",
      "cylinders      -0.344729 -0.561796  \n",
      "displacement   -0.367470 -0.608749  \n",
      "weight         -0.305150 -0.580552  \n",
      "acceleration    0.284376  0.204102  \n",
      "model_year      1.000000  0.178441  \n",
      "origin          0.178441  1.000000  \n",
      "\n",
      "             mpg    weight\n",
      "mpg     1.000000 -0.831558\n",
      "weight -0.831558  1.000000\n"
     ]
    }
   ],
   "source": [
    "#모든 상관 계수 확인\n",
    "print(mpg.corr())\n",
    "print()\n",
    "\n",
    "#2개의 열의 상관 계수 확인\n",
    "print(mpg[['mpg', 'weight']].corr())"
   ]
  },
  {
   "cell_type": "markdown",
   "id": "db540b66",
   "metadata": {},
   "source": [
    "정렬과 순위"
   ]
  },
  {
   "cell_type": "code",
   "execution_count": 5,
   "id": "a5d564f0",
   "metadata": {},
   "outputs": [
    {
     "name": "stdout",
     "output_type": "stream",
     "text": [
      "      mpg  cylinders  displacement horsepower  weight  acceleration  \\\n",
      "27    9.0          8         304.0      193.0  4732.0          18.5   \n",
      "24   10.0          8         360.0      215.0  4615.0          14.0   \n",
      "25   10.0          8         307.0      200.0  4376.0          15.0   \n",
      "26   11.0          8         318.0      210.0  4382.0          13.5   \n",
      "102  11.0          8         400.0      150.0  4997.0          14.0   \n",
      "\n",
      "     model_year  origin              name  \n",
      "27           70       1          hi 1200d  \n",
      "24           70       1         ford f250  \n",
      "25           70       1         chevy c20  \n",
      "26           70       1        dodge d200  \n",
      "102          73       1  chevrolet impala  \n",
      "\n",
      "      mpg  cylinders  displacement horsepower  weight  acceleration  \\\n",
      "321  46.6          4          86.0      65.00  2110.0          17.9   \n",
      "328  44.6          4          91.0      67.00  1850.0          13.8   \n",
      "324  44.3          4          90.0      48.00  2085.0          21.7   \n",
      "393  44.0          4          97.0      52.00  2130.0          24.6   \n",
      "325  43.4          4          90.0      48.00  2335.0          23.7   \n",
      "\n",
      "     model_year  origin                  name  \n",
      "321          80       3             mazda glc  \n",
      "328          80       3   honda civic 1500 gl  \n",
      "324          80       2  vw rabbit c (diesel)  \n",
      "393          82       2             vw pickup  \n",
      "325          80       2    vw dasher (diesel)  \n",
      "\n",
      "      mpg  cylinders  displacement horsepower  weight  acceleration  \\\n",
      "321  46.6          4          86.0      65.00  2110.0          17.9   \n",
      "328  44.6          4          91.0      67.00  1850.0          13.8   \n",
      "324  44.3          4          90.0      48.00  2085.0          21.7   \n",
      "393  44.0          4          97.0      52.00  2130.0          24.6   \n",
      "325  43.4          4          90.0      48.00  2335.0          23.7   \n",
      "\n",
      "     model_year  origin                  name  \n",
      "321          80       3             mazda glc  \n",
      "328          80       3   honda civic 1500 gl  \n",
      "324          80       2  vw rabbit c (diesel)  \n",
      "393          82       2             vw pickup  \n",
      "325          80       2    vw dasher (diesel)  \n",
      "\n"
     ]
    }
   ],
   "source": [
    "#데이터 프레임은 정렬할 때 by 매개변수가 필수 - 오름차순\n",
    "print(mpg.sort_values(by='mpg').head())\n",
    "print()\n",
    "#데이터 프레임은 정렬할 때 by 매개변수가 필수 - 내림차순\n",
    "print(mpg.sort_values(by='mpg', ascending = False).head())\n",
    "print()\n",
    "\n",
    "#2개이상 적용해서 정렬\n",
    "print(mpg.sort_values(by=['mpg''', 'acceleration'], ascending=False).head())\n",
    "print()"
   ]
  },
  {
   "cell_type": "code",
   "execution_count": 6,
   "id": "4adea55d",
   "metadata": {},
   "outputs": [
    {
     "name": "stdout",
     "output_type": "stream",
     "text": [
      "       mpg  cylinders  displacement  horsepower  weight  acceleration  \\\n",
      "0     61.5      346.5         351.5       131.5   308.0          27.0   \n",
      "1    115.5      346.5         333.0       110.5   284.0          15.0   \n",
      "2     81.0      346.5         315.0       110.5   283.0          36.0   \n",
      "3     96.0      346.5         306.0        86.0   287.0          11.0   \n",
      "4     61.5      346.5         390.0       154.5   364.0           8.5   \n",
      "..     ...        ...           ...         ...     ...           ...   \n",
      "392  269.0      106.5         184.5       310.0   197.0         214.0   \n",
      "393  394.0      106.5          68.0       174.5    73.5         396.0   \n",
      "394  332.5      106.5         174.0       295.5   117.0          31.0   \n",
      "395  284.5      106.5         143.0       277.5   169.0         342.5   \n",
      "396  320.0      106.5         135.5       288.0   188.0         364.0   \n",
      "\n",
      "     model_year  origin   name  \n",
      "0          14.5   124.5   53.0  \n",
      "1          14.5   124.5  304.0  \n",
      "2          14.5   124.5   27.0  \n",
      "3          14.5   124.5  218.0  \n",
      "4          14.5   124.5  184.0  \n",
      "..          ...     ...    ...  \n",
      "392       382.0   124.5  205.0  \n",
      "393       382.0   283.5  393.0  \n",
      "394       382.0   124.5  159.0  \n",
      "395       382.0   124.5  216.0  \n",
      "396       382.0   124.5  103.0  \n",
      "\n",
      "[397 rows x 9 columns]\n"
     ]
    }
   ],
   "source": [
    "print(mpg.rank())"
   ]
  },
  {
   "cell_type": "code",
   "execution_count": 7,
   "id": "9baf7017",
   "metadata": {},
   "outputs": [
    {
     "name": "stdout",
     "output_type": "stream",
     "text": [
      "     mpg  cylinders  displacement  horsepower  weight  acceleration  \\\n",
      "0   61.5      346.5         351.5       131.5   308.0          27.0   \n",
      "1  115.5      346.5         333.0       110.5   284.0          15.0   \n",
      "2   81.0      346.5         315.0       110.5   283.0          36.0   \n",
      "3   96.0      346.5         306.0        86.0   287.0          11.0   \n",
      "4   61.5      346.5         390.0       154.5   364.0           8.5   \n",
      "\n",
      "   model_year  origin   name  \n",
      "0        14.5   124.5   53.0  \n",
      "1        14.5   124.5  304.0  \n",
      "2        14.5   124.5   27.0  \n",
      "3        14.5   124.5  218.0  \n",
      "4        14.5   124.5  184.0  \n",
      "0       61.5\n",
      "1      115.5\n",
      "2       81.0\n",
      "3       96.0\n",
      "4       61.5\n",
      "       ...  \n",
      "392    269.0\n",
      "393    394.0\n",
      "394    332.5\n",
      "395    284.5\n",
      "396    320.0\n",
      "Name: mpg, Length: 397, dtype: float64\n"
     ]
    }
   ],
   "source": [
    "print(mpg.rank().head())\n",
    "print(mpg['mpg'].rank())"
   ]
  },
  {
   "cell_type": "code",
   "execution_count": 8,
   "id": "0551f55f",
   "metadata": {},
   "outputs": [
    {
     "name": "stdout",
     "output_type": "stream",
     "text": [
      "   code  manufacture            name  price\n",
      "0     1        korea           apple   1500\n",
      "1     2        korea      watermelon  15000\n",
      "2     3        korea  oriental melon   1000\n",
      "3     4  philippines          banana    500\n",
      "4     5        korea           lemon   1500\n",
      "5     6        korea           mango    700\n",
      "\n",
      "   code  manufacture  name  price\n",
      "0   1.0          3.0   1.0    4.5\n",
      "1   2.0          3.0   6.0    6.0\n",
      "2   3.0          3.0   5.0    3.0\n",
      "3   4.0          6.0   2.0    1.0\n",
      "4   5.0          3.0   3.0    4.5\n",
      "5   6.0          3.0   4.0    2.0\n",
      "\n",
      "   code  manufacture  name  price\n",
      "0   6.0          2.0   6.0    2.0\n",
      "1   5.0          2.0   1.0    1.0\n",
      "2   4.0          2.0   2.0    4.0\n",
      "3   3.0          1.0   5.0    6.0\n",
      "4   2.0          2.0   4.0    2.0\n",
      "5   1.0          2.0   3.0    5.0\n"
     ]
    }
   ],
   "source": [
    "item = pd.read_csv('c://programming/python/pandasdata/item.csv')\n",
    "print(item)\n",
    "print()\n",
    "#순위 출력 - 동일한 순위가 나오면 순위의 평균 출력\n",
    "print(item.rank())\n",
    "print()\n",
    "\n",
    "#내림차순으로 순위를 만들고 동일한 값인 경우 순위를 설정\n",
    "print(item.rank(ascending=False, method='min'))"
   ]
  },
  {
   "cell_type": "markdown",
   "id": "6f4def37",
   "metadata": {},
   "source": [
    "탐색을 위한 시각화"
   ]
  },
  {
   "cell_type": "markdown",
   "id": "15d24b99",
   "metadata": {},
   "source": [
    "앤스콤 데이터"
   ]
  },
  {
   "cell_type": "code",
   "execution_count": 9,
   "id": "07bac571",
   "metadata": {},
   "outputs": [
    {
     "name": "stdout",
     "output_type": "stream",
     "text": [
      "   dataset     x      y\n",
      "0        I  10.0   8.04\n",
      "1        I   8.0   6.95\n",
      "2        I  13.0   7.58\n",
      "3        I   9.0   8.81\n",
      "4        I  11.0   8.33\n",
      "5        I  14.0   9.96\n",
      "6        I   6.0   7.24\n",
      "7        I   4.0   4.26\n",
      "8        I  12.0  10.84\n",
      "9        I   7.0   4.82\n",
      "10       I   5.0   5.68\n",
      "11      II  10.0   9.14\n",
      "12      II   8.0   8.14\n",
      "13      II  13.0   8.74\n",
      "14      II   9.0   8.77\n",
      "15      II  11.0   9.26\n",
      "16      II  14.0   8.10\n",
      "17      II   6.0   6.13\n",
      "18      II   4.0   3.10\n",
      "19      II  12.0   9.13\n",
      "20      II   7.0   7.26\n",
      "21      II   5.0   4.74\n",
      "22     III  10.0   7.46\n",
      "23     III   8.0   6.77\n",
      "24     III  13.0  12.74\n",
      "25     III   9.0   7.11\n",
      "26     III  11.0   7.81\n",
      "27     III  14.0   8.84\n",
      "28     III   6.0   6.08\n",
      "29     III   4.0   5.39\n",
      "30     III  12.0   8.15\n",
      "31     III   7.0   6.42\n",
      "32     III   5.0   5.73\n",
      "33      IV   8.0   6.58\n",
      "34      IV   8.0   5.76\n",
      "35      IV   8.0   7.71\n",
      "36      IV   8.0   8.84\n",
      "37      IV   8.0   8.47\n",
      "38      IV   8.0   7.04\n",
      "39      IV   8.0   5.25\n",
      "40      IV  19.0  12.50\n",
      "41      IV   8.0   5.56\n",
      "42      IV   8.0   7.91\n",
      "43      IV   8.0   6.89\n",
      "\n",
      "x    9.000000\n",
      "y    7.500909\n",
      "dtype: float64\n",
      "x    9.000000\n",
      "y    7.500909\n",
      "dtype: float64\n",
      "x    9.0\n",
      "y    7.5\n",
      "dtype: float64\n",
      "x    9.000000\n",
      "y    7.500909\n",
      "dtype: float64\n",
      "\n",
      "x    3.316625\n",
      "y    2.031568\n",
      "dtype: float64\n",
      "x    3.316625\n",
      "y    2.031657\n",
      "dtype: float64\n",
      "x    3.316625\n",
      "y    2.030424\n",
      "dtype: float64\n",
      "x    3.316625\n",
      "y    2.030579\n",
      "dtype: float64\n"
     ]
    },
    {
     "name": "stderr",
     "output_type": "stream",
     "text": [
      "C:\\Users\\90x61\\AppData\\Local\\Temp/ipykernel_16660/1214850039.py:9: FutureWarning: Dropping of nuisance columns in DataFrame reductions (with 'numeric_only=None') is deprecated; in a future version this will raise TypeError.  Select only valid columns before calling the reduction.\n",
      "  print(anscombe[anscombe['dataset'] == 'I'].mean())\n",
      "C:\\Users\\90x61\\AppData\\Local\\Temp/ipykernel_16660/1214850039.py:10: FutureWarning: Dropping of nuisance columns in DataFrame reductions (with 'numeric_only=None') is deprecated; in a future version this will raise TypeError.  Select only valid columns before calling the reduction.\n",
      "  print(anscombe[anscombe['dataset'] == 'II'].mean())\n",
      "C:\\Users\\90x61\\AppData\\Local\\Temp/ipykernel_16660/1214850039.py:11: FutureWarning: Dropping of nuisance columns in DataFrame reductions (with 'numeric_only=None') is deprecated; in a future version this will raise TypeError.  Select only valid columns before calling the reduction.\n",
      "  print(anscombe[anscombe['dataset'] == 'III'].mean())\n",
      "C:\\Users\\90x61\\AppData\\Local\\Temp/ipykernel_16660/1214850039.py:12: FutureWarning: Dropping of nuisance columns in DataFrame reductions (with 'numeric_only=None') is deprecated; in a future version this will raise TypeError.  Select only valid columns before calling the reduction.\n",
      "  print(anscombe[anscombe['dataset'] == 'IV'].mean())\n",
      "C:\\Users\\90x61\\AppData\\Local\\Temp/ipykernel_16660/1214850039.py:14: FutureWarning: Dropping of nuisance columns in DataFrame reductions (with 'numeric_only=None') is deprecated; in a future version this will raise TypeError.  Select only valid columns before calling the reduction.\n",
      "  print(anscombe[anscombe['dataset'] == 'I'].std())\n",
      "C:\\Users\\90x61\\AppData\\Local\\Temp/ipykernel_16660/1214850039.py:15: FutureWarning: Dropping of nuisance columns in DataFrame reductions (with 'numeric_only=None') is deprecated; in a future version this will raise TypeError.  Select only valid columns before calling the reduction.\n",
      "  print(anscombe[anscombe['dataset'] == 'II'].std())\n",
      "C:\\Users\\90x61\\AppData\\Local\\Temp/ipykernel_16660/1214850039.py:16: FutureWarning: Dropping of nuisance columns in DataFrame reductions (with 'numeric_only=None') is deprecated; in a future version this will raise TypeError.  Select only valid columns before calling the reduction.\n",
      "  print(anscombe[anscombe['dataset'] == 'III'].std())\n",
      "C:\\Users\\90x61\\AppData\\Local\\Temp/ipykernel_16660/1214850039.py:17: FutureWarning: Dropping of nuisance columns in DataFrame reductions (with 'numeric_only=None') is deprecated; in a future version this will raise TypeError.  Select only valid columns before calling the reduction.\n",
      "  print(anscombe[anscombe['dataset'] == 'IV'].std())\n"
     ]
    }
   ],
   "source": [
    "import seaborn as sns\n",
    "anscombe = sns.load_dataset(\"anscombe\")\n",
    "print(anscombe)\n",
    "print()\n",
    "\n",
    "\n",
    "#각 데이터 그룹의 평균, 표준편차, 상관계수가 동일\n",
    "#수치 데이터만 확인하게 되면 4개의 데이터 그룹은 모두 동일한 분포를 가져야함\n",
    "print(anscombe[anscombe['dataset'] == 'I'].mean())\n",
    "print(anscombe[anscombe['dataset'] == 'II'].mean())\n",
    "print(anscombe[anscombe['dataset'] == 'III'].mean())\n",
    "print(anscombe[anscombe['dataset'] == 'IV'].mean())\n",
    "print()\n",
    "print(anscombe[anscombe['dataset'] == 'I'].std())\n",
    "print(anscombe[anscombe['dataset'] == 'II'].std())\n",
    "print(anscombe[anscombe['dataset'] == 'III'].std())\n",
    "print(anscombe[anscombe['dataset'] == 'IV'].std())"
   ]
  },
  {
   "cell_type": "code",
   "execution_count": 10,
   "id": "c57ec2b3",
   "metadata": {},
   "outputs": [
    {
     "data": {
      "text/plain": [
       "[<matplotlib.lines.Line2D at 0x144621e6d00>]"
      ]
     },
     "execution_count": 10,
     "metadata": {},
     "output_type": "execute_result"
    },
    {
     "data": {
      "image/png": "[encoded data removed]",
      "text/plain": [
       "<Figure size 432x288 with 4 Axes>"
      ]
     },
     "metadata": {
      "needs_background": "light"
     },
     "output_type": "display_data"
    }
   ],
   "source": [
    "#시각화\n",
    "import matplotlib.pyplot as plt\n",
    "group_1 = anscombe[anscombe['dataset'] == 'I']\n",
    "group_2 = anscombe[anscombe['dataset'] == 'II']\n",
    "group_3 = anscombe[anscombe['dataset'] == 'III']\n",
    "group_4 = anscombe[anscombe['dataset'] == 'IV']\n",
    "\n",
    "fig = plt.figure()\n",
    "\n",
    "axes1 = fig.add_subplot(2, 2, 1)\n",
    "axes2 = fig.add_subplot(2, 2, 2)\n",
    "axes3 = fig.add_subplot(2, 2, 3)\n",
    "axes4 = fig.add_subplot(2, 2, 4)\n",
    "\n",
    "axes1.plot(group_1['x'], group_1['y'])\n",
    "axes2.plot(group_2['x'], group_2['y'])\n",
    "axes3.plot(group_3['x'], group_3['y'])\n",
    "axes4.plot(group_4['x'], group_4['y'])                        "
   ]
  },
  {
   "cell_type": "markdown",
   "id": "79858456",
   "metadata": {},
   "source": [
    "#시각화 패키지\n",
    "matplitlib : 그래프 기본 패키지\n",
    "seaborn : matplotlib 기반 시각화 패키지\n",
    "pandas : matplotlib 기반 데이터 전처리용 패키지\n",
    "plotnine, plot.ly : 인터렉티브한 그래프 패키지\n",
    "folium, basemap : 지도 관련 시각화 패키지\n",
    "시각화 패키지 이용하지 않고 다른 시각화 tool 이용"
   ]
  },
  {
   "cell_type": "markdown",
   "id": "40c5138d",
   "metadata": {},
   "source": [
    "seaborn"
   ]
  },
  {
   "cell_type": "code",
   "execution_count": 11,
   "id": "15888d0d",
   "metadata": {},
   "outputs": [],
   "source": [
    "#seaborn을 사용하기 위한 패키지 설정\n",
    "import matplotlib.pyplot as plt\n",
    "import platform\n",
    "from matplotlib import font_manager, rc\n",
    "\n",
    "import numpy as np\n",
    "\n",
    "import pandas as pd\n",
    "from pandas import Series, DataFrame\n",
    "\n",
    "import seaborn as sns\n",
    "\n",
    "#한글처리\n",
    "#매겐도시의 경우\n",
    "if platform.system() == \"Darwin\":\n",
    "    rc('font', family='AppleGothic')\n",
    "#윈도우의 경우\n",
    "elif platform.system() == 'Windows':\n",
    "    font_name = font_manager.FontProperties(fname=\"c:/Windows/Fonts/malgun.ttf\").get_name()\n",
    "    rc('font', family=font_name)"
   ]
  },
  {
   "cell_type": "code",
   "execution_count": 12,
   "id": "b6bced6d",
   "metadata": {},
   "outputs": [
    {
     "name": "stdout",
     "output_type": "stream",
     "text": [
      "   total_bill   tip     sex smoker  day    time  size\n",
      "0       16.99  1.01  Female     No  Sun  Dinner     2\n",
      "1       10.34  1.66    Male     No  Sun  Dinner     3\n",
      "2       21.01  3.50    Male     No  Sun  Dinner     3\n",
      "3       23.68  3.31    Male     No  Sun  Dinner     2\n",
      "4       24.59  3.61  Female     No  Sun  Dinner     4\n",
      "\n",
      "<class 'pandas.core.frame.DataFrame'>\n",
      "RangeIndex: 244 entries, 0 to 243\n",
      "Data columns (total 7 columns):\n",
      " #   Column      Non-Null Count  Dtype   \n",
      "---  ------      --------------  -----   \n",
      " 0   total_bill  244 non-null    float64 \n",
      " 1   tip         244 non-null    float64 \n",
      " 2   sex         244 non-null    category\n",
      " 3   smoker      244 non-null    category\n",
      " 4   day         244 non-null    category\n",
      " 5   time        244 non-null    category\n",
      " 6   size        244 non-null    int64   \n",
      "dtypes: category(4), float64(2), int64(1)\n",
      "memory usage: 7.4 KB\n"
     ]
    }
   ],
   "source": [
    "#seaborn이 가지고 있는 tips라는 데이터 가져오기\n",
    "#tips는 레스토랑에서 팀에 관련해서 수집한 데이터\n",
    "#회귀분석에서 많이 이용\n",
    "tips = sns.load_dataset('tips')\n",
    "print(tips.head())\n",
    "print()\n",
    "tips.info()"
   ]
  },
  {
   "cell_type": "code",
   "execution_count": 13,
   "id": "6b54e420",
   "metadata": {},
   "outputs": [
    {
     "data": {
      "text/plain": [
       "<seaborn.axisgrid.FacetGrid at 0x144622f34f0>"
      ]
     },
     "execution_count": 13,
     "metadata": {},
     "output_type": "execute_result"
    },
    {
     "data": {
      "image/png": "[encoded data removed]",
      "text/plain": [
       "<Figure size 432x288 with 1 Axes>"
      ]
     },
     "metadata": {
      "needs_background": "light"
     },
     "output_type": "display_data"
    },
    {
     "data": {
      "image/png": "[encoded data removed]",
      "text/plain": [
       "<Figure size 360x360 with 1 Axes>"
      ]
     },
     "metadata": {
      "needs_background": "light"
     },
     "output_type": "display_data"
    },
    {
     "data": {
      "image/png": "[encoded data removed]",
      "text/plain": [
       "<Figure size 410.375x360 with 1 Axes>"
      ]
     },
     "metadata": {
      "needs_background": "light"
     },
     "output_type": "display_data"
    }
   ],
   "source": [
    "#산포도 그리기 - 회귀선을 같이 출력\n",
    "sns.regplot(x='total_bill', y='tip', data=tips, fit_reg=True)\n",
    "sns.lmplot(x='total_bill', y='tip', data=tips, fit_reg=True)\n",
    "#산점도에 분류를 포함하고자 할 때 hue속성에 열 이름 적용\n",
    "sns.lmplot(x='total_bill', y='tip', hue='smoker', data=tips, fit_reg=True)"
   ]
  },
  {
   "cell_type": "markdown",
   "id": "1049f597",
   "metadata": {},
   "source": [
    "#하나의 열에 데이터 분포 확인 - displot\n",
    "밀도 추정 : 데이터가 어떠한 형태의 분포를 따르는지 특성을 파악하는 것"
   ]
  },
  {
   "cell_type": "code",
   "execution_count": 14,
   "id": "0498c520",
   "metadata": {},
   "outputs": [
    {
     "name": "stdout",
     "output_type": "stream",
     "text": [
      "<class 'pandas.core.frame.DataFrame'>\n",
      "RangeIndex: 144 entries, 0 to 143\n",
      "Data columns (total 3 columns):\n",
      " #   Column      Non-Null Count  Dtype   \n",
      "---  ------      --------------  -----   \n",
      " 0   year        144 non-null    int64   \n",
      " 1   month       144 non-null    category\n",
      " 2   passengers  144 non-null    int64   \n",
      "dtypes: category(1), int64(2)\n",
      "memory usage: 2.9 KB\n",
      "year   1949  1950  1951  1952  1953  1954  1955  1956  1957  1958  1959  1960\n",
      "month                                                                        \n",
      "Jan     112   115   145   171   196   204   242   284   315   340   360   417\n",
      "Feb     118   126   150   180   196   188   233   277   301   318   342   391\n",
      "Mar     132   141   178   193   236   235   267   317   356   362   406   419\n",
      "Apr     129   135   163   181   235   227   269   313   348   348   396   461\n",
      "May     121   125   172   183   229   234   270   318   355   363   420   472\n",
      "Jun     135   149   178   218   243   264   315   374   422   435   472   535\n",
      "Jul     148   170   199   230   264   302   364   413   465   491   548   622\n",
      "Aug     148   170   199   242   272   293   347   405   467   505   559   606\n",
      "Sep     136   158   184   209   237   259   312   355   404   404   463   508\n",
      "Oct     119   133   162   191   211   229   274   306   347   359   407   461\n",
      "Nov     104   114   146   172   180   203   237   271   305   310   362   390\n",
      "Dec     118   140   166   194   201   229   278   306   336   337   405   432\n"
     ]
    },
    {
     "data": {
      "text/plain": [
       "<AxesSubplot:xlabel='year', ylabel='month'>"
      ]
     },
     "execution_count": 14,
     "metadata": {},
     "output_type": "execute_result"
    },
    {
     "data": {
      "image/png": "[encoded data removed]",
      "text/plain": [
       "<Figure size 432x288 with 2 Axes>"
      ]
     },
     "metadata": {
      "needs_background": "light"
     },
     "output_type": "display_data"
    }
   ],
   "source": [
    "#히트맵 그리기- 2개의 범주형 변수와 1개의 수치 데이터 필요\n",
    "#year, month, passengers로 구성\n",
    "flights = sns.load_dataset('flights')\n",
    "flights.info()\n",
    "\n",
    "heatmap_data = flights.pivot('month', 'year', 'passengers')\n",
    "print(heatmap_data)\n",
    "#필수는 피봇된 데이터이고 annot는 값 출력여부이고 fmt는 값의 서식\n",
    "#plot의 경우는 하나의 범주만 적용하지만 이 경우는 2개의 범주 사용 가능\n",
    "sns.heatmap(heatmap_data, annot=True, fmt='d')"
   ]
  },
  {
   "cell_type": "code",
   "execution_count": null,
   "id": "5a2a6649",
   "metadata": {},
   "outputs": [],
   "source": []
  },
  {
   "cell_type": "markdown",
   "id": "87a1f55b",
   "metadata": {},
   "source": [
    "plotnine - R의 ggplot2와 유사한 방식으로 시각화"
   ]
  },
  {
   "cell_type": "code",
   "execution_count": 18,
   "id": "cd0ee06f",
   "metadata": {},
   "outputs": [
    {
     "name": "stderr",
     "output_type": "stream",
     "text": [
      "C:\\ProgramData\\Anaconda3\\lib\\site-packages\\plotnine\\scales\\scale.py:102: PlotnineWarning: scale_color_hue could not recognise parameter `I`\n"
     ]
    },
    {
     "data": {
      "image/png": "[encoded data removed]",
      "text/plain": [
       "<Figure size 640x480 with 1 Axes>"
      ]
     },
     "metadata": {},
     "output_type": "display_data"
    },
    {
     "data": {
      "text/plain": [
       "<ggplot: (96113855037)>"
      ]
     },
     "execution_count": 18,
     "metadata": {},
     "output_type": "execute_result"
    }
   ],
   "source": [
    "import plotnine\n",
    "import pandas as pd\n",
    "\n",
    "df = pd.DataFrame({\n",
    "'letter': ['Alpha', 'Beta', 'Delta', 'Gamma'] * 2,\n",
    "'pos': [1, 2, 3, 4] * 2,\n",
    "'num_of_letters': [5, 4, 5, 5] * 2\n",
    "})\n",
    "\n",
    "(plotnine.ggplot(df) \n",
    "+ plotnine.geom_col(plotnine.aes(x='letter', y='pos', fill='letter'))\n",
    "+ plotnine.geom_line(plotnine.aes(x='letter', y='num_of_letters', color='letter'), size=1)\n",
    "+ plotnine.scale_color_hue(I=0.45)\n",
    "+ plotnine.ggtitle('Greek Letter'))"
   ]
  },
  {
   "cell_type": "code",
   "execution_count": null,
   "id": "feb377ed",
   "metadata": {},
   "outputs": [],
   "source": []
  },
  {
   "cell_type": "code",
   "execution_count": 25,
   "id": "2e56e32a",
   "metadata": {},
   "outputs": [
    {
     "data": {
      "application/vnd.plotly.v1+json": {
       "config": {
        "linkText": "Export to plotly.com",
        "plotlyServerURL": "https://plotly.com",
        "showLink": false
       },
       "data": [
        {
         "colorscale": [
          [
           0,
           "#00083e"
          ],
          [
           0.5,
           "#ededee"
          ],
          [
           1,
           "#ffffff"
          ]
         ],
         "hoverinfo": "none",
         "opacity": 0.75,
         "showscale": false,
         "type": "heatmap",
         "z": [
          [
           0,
           0,
           0,
           0
          ],
          [
           0.5,
           0.5,
           0.5,
           0.5
          ],
          [
           1,
           1,
           1,
           1
          ],
          [
           0.5,
           0.5,
           0.5,
           0.5
          ],
          [
           1,
           1,
           1,
           1
          ],
          [
           0.5,
           0.5,
           0.5,
           0.5
          ],
          [
           1,
           1,
           1,
           1
          ],
          [
           0.5,
           0.5,
           0.5,
           0.5
          ],
          [
           1,
           1,
           1,
           1
          ],
          [
           0.5,
           0.5,
           0.5,
           0.5
          ],
          [
           1,
           1,
           1,
           1
          ],
          [
           0.5,
           0.5,
           0.5,
           0.5
          ],
          [
           1,
           1,
           1,
           1
          ],
          [
           0.5,
           0.5,
           0.5,
           0.5
          ],
          [
           1,
           1,
           1,
           1
          ],
          [
           0.5,
           0.5,
           0.5,
           0.5
          ],
          [
           1,
           1,
           1,
           1
          ],
          [
           0.5,
           0.5,
           0.5,
           0.5
          ],
          [
           1,
           1,
           1,
           1
          ],
          [
           0.5,
           0.5,
           0.5,
           0.5
          ],
          [
           1,
           1,
           1,
           1
          ],
          [
           0.5,
           0.5,
           0.5,
           0.5
          ]
         ]
        }
       ],
       "layout": {
        "annotations": [
         {
          "align": "left",
          "font": {
           "color": "#ffffff"
          },
          "showarrow": false,
          "text": "<b>School</b>",
          "x": -0.45,
          "xanchor": "left",
          "xref": "x",
          "y": 0,
          "yref": "y"
         },
         {
          "align": "left",
          "font": {
           "color": "#ffffff"
          },
          "showarrow": false,
          "text": "<b>Women</b>",
          "x": 0.55,
          "xanchor": "left",
          "xref": "x",
          "y": 0,
          "yref": "y"
         },
         {
          "align": "left",
          "font": {
           "color": "#ffffff"
          },
          "showarrow": false,
          "text": "<b>Men</b>",
          "x": 1.55,
          "xanchor": "left",
          "xref": "x",
          "y": 0,
          "yref": "y"
         },
         {
          "align": "left",
          "font": {
           "color": "#ffffff"
          },
          "showarrow": false,
          "text": "<b>Gap</b>",
          "x": 2.55,
          "xanchor": "left",
          "xref": "x",
          "y": 0,
          "yref": "y"
         },
         {
          "align": "left",
          "font": {
           "color": "#000000"
          },
          "showarrow": false,
          "text": "MIT",
          "x": -0.45,
          "xanchor": "left",
          "xref": "x",
          "y": 1,
          "yref": "y"
         },
         {
          "align": "left",
          "font": {
           "color": "#000000"
          },
          "showarrow": false,
          "text": "94",
          "x": 0.55,
          "xanchor": "left",
          "xref": "x",
          "y": 1,
          "yref": "y"
         },
         {
          "align": "left",
          "font": {
           "color": "#000000"
          },
          "showarrow": false,
          "text": "152",
          "x": 1.55,
          "xanchor": "left",
          "xref": "x",
          "y": 1,
          "yref": "y"
         },
         {
          "align": "left",
          "font": {
           "color": "#000000"
          },
          "showarrow": false,
          "text": "58",
          "x": 2.55,
          "xanchor": "left",
          "xref": "x",
          "y": 1,
          "yref": "y"
         },
         {
          "align": "left",
          "font": {
           "color": "#000000"
          },
          "showarrow": false,
          "text": "Stanford",
          "x": -0.45,
          "xanchor": "left",
          "xref": "x",
          "y": 2,
          "yref": "y"
         },
         {
          "align": "left",
          "font": {
           "color": "#000000"
          },
          "showarrow": false,
          "text": "96",
          "x": 0.55,
          "xanchor": "left",
          "xref": "x",
          "y": 2,
          "yref": "y"
         },
         {
          "align": "left",
          "font": {
           "color": "#000000"
          },
          "showarrow": false,
          "text": "151",
          "x": 1.55,
          "xanchor": "left",
          "xref": "x",
          "y": 2,
          "yref": "y"
         },
         {
          "align": "left",
          "font": {
           "color": "#000000"
          },
          "showarrow": false,
          "text": "55",
          "x": 2.55,
          "xanchor": "left",
          "xref": "x",
          "y": 2,
          "yref": "y"
         },
         {
          "align": "left",
          "font": {
           "color": "#000000"
          },
          "showarrow": false,
          "text": "Harvard",
          "x": -0.45,
          "xanchor": "left",
          "xref": "x",
          "y": 3,
          "yref": "y"
         },
         {
          "align": "left",
          "font": {
           "color": "#000000"
          },
          "showarrow": false,
          "text": "112",
          "x": 0.55,
          "xanchor": "left",
          "xref": "x",
          "y": 3,
          "yref": "y"
         },
         {
          "align": "left",
          "font": {
           "color": "#000000"
          },
          "showarrow": false,
          "text": "165",
          "x": 1.55,
          "xanchor": "left",
          "xref": "x",
          "y": 3,
          "yref": "y"
         },
         {
          "align": "left",
          "font": {
           "color": "#000000"
          },
          "showarrow": false,
          "text": "53",
          "x": 2.55,
          "xanchor": "left",
          "xref": "x",
          "y": 3,
          "yref": "y"
         },
         {
          "align": "left",
          "font": {
           "color": "#000000"
          },
          "showarrow": false,
          "text": "U.Penn",
          "x": -0.45,
          "xanchor": "left",
          "xref": "x",
          "y": 4,
          "yref": "y"
         },
         {
          "align": "left",
          "font": {
           "color": "#000000"
          },
          "showarrow": false,
          "text": "92",
          "x": 0.55,
          "xanchor": "left",
          "xref": "x",
          "y": 4,
          "yref": "y"
         },
         {
          "align": "left",
          "font": {
           "color": "#000000"
          },
          "showarrow": false,
          "text": "141",
          "x": 1.55,
          "xanchor": "left",
          "xref": "x",
          "y": 4,
          "yref": "y"
         },
         {
          "align": "left",
          "font": {
           "color": "#000000"
          },
          "showarrow": false,
          "text": "49",
          "x": 2.55,
          "xanchor": "left",
          "xref": "x",
          "y": 4,
          "yref": "y"
         },
         {
          "align": "left",
          "font": {
           "color": "#000000"
          },
          "showarrow": false,
          "text": "Princeton",
          "x": -0.45,
          "xanchor": "left",
          "xref": "x",
          "y": 5,
          "yref": "y"
         },
         {
          "align": "left",
          "font": {
           "color": "#000000"
          },
          "showarrow": false,
          "text": "90",
          "x": 0.55,
          "xanchor": "left",
          "xref": "x",
          "y": 5,
          "yref": "y"
         },
         {
          "align": "left",
          "font": {
           "color": "#000000"
          },
          "showarrow": false,
          "text": "137",
          "x": 1.55,
          "xanchor": "left",
          "xref": "x",
          "y": 5,
          "yref": "y"
         },
         {
          "align": "left",
          "font": {
           "color": "#000000"
          },
          "showarrow": false,
          "text": "47",
          "x": 2.55,
          "xanchor": "left",
          "xref": "x",
          "y": 5,
          "yref": "y"
         },
         {
          "align": "left",
          "font": {
           "color": "#000000"
          },
          "showarrow": false,
          "text": "Chicago",
          "x": -0.45,
          "xanchor": "left",
          "xref": "x",
          "y": 6,
          "yref": "y"
         },
         {
          "align": "left",
          "font": {
           "color": "#000000"
          },
          "showarrow": false,
          "text": "78",
          "x": 0.55,
          "xanchor": "left",
          "xref": "x",
          "y": 6,
          "yref": "y"
         },
         {
          "align": "left",
          "font": {
           "color": "#000000"
          },
          "showarrow": false,
          "text": "118",
          "x": 1.55,
          "xanchor": "left",
          "xref": "x",
          "y": 6,
          "yref": "y"
         },
         {
          "align": "left",
          "font": {
           "color": "#000000"
          },
          "showarrow": false,
          "text": "40",
          "x": 2.55,
          "xanchor": "left",
          "xref": "x",
          "y": 6,
          "yref": "y"
         },
         {
          "align": "left",
          "font": {
           "color": "#000000"
          },
          "showarrow": false,
          "text": "Georgetown",
          "x": -0.45,
          "xanchor": "left",
          "xref": "x",
          "y": 7,
          "yref": "y"
         },
         {
          "align": "left",
          "font": {
           "color": "#000000"
          },
          "showarrow": false,
          "text": "94",
          "x": 0.55,
          "xanchor": "left",
          "xref": "x",
          "y": 7,
          "yref": "y"
         },
         {
          "align": "left",
          "font": {
           "color": "#000000"
          },
          "showarrow": false,
          "text": "131",
          "x": 1.55,
          "xanchor": "left",
          "xref": "x",
          "y": 7,
          "yref": "y"
         },
         {
          "align": "left",
          "font": {
           "color": "#000000"
          },
          "showarrow": false,
          "text": "37",
          "x": 2.55,
          "xanchor": "left",
          "xref": "x",
          "y": 7,
          "yref": "y"
         },
         {
          "align": "left",
          "font": {
           "color": "#000000"
          },
          "showarrow": false,
          "text": "Tufts",
          "x": -0.45,
          "xanchor": "left",
          "xref": "x",
          "y": 8,
          "yref": "y"
         },
         {
          "align": "left",
          "font": {
           "color": "#000000"
          },
          "showarrow": false,
          "text": "76",
          "x": 0.55,
          "xanchor": "left",
          "xref": "x",
          "y": 8,
          "yref": "y"
         },
         {
          "align": "left",
          "font": {
           "color": "#000000"
          },
          "showarrow": false,
          "text": "112",
          "x": 1.55,
          "xanchor": "left",
          "xref": "x",
          "y": 8,
          "yref": "y"
         },
         {
          "align": "left",
          "font": {
           "color": "#000000"
          },
          "showarrow": false,
          "text": "36",
          "x": 2.55,
          "xanchor": "left",
          "xref": "x",
          "y": 8,
          "yref": "y"
         },
         {
          "align": "left",
          "font": {
           "color": "#000000"
          },
          "showarrow": false,
          "text": "Yale",
          "x": -0.45,
          "xanchor": "left",
          "xref": "x",
          "y": 9,
          "yref": "y"
         },
         {
          "align": "left",
          "font": {
           "color": "#000000"
          },
          "showarrow": false,
          "text": "79",
          "x": 0.55,
          "xanchor": "left",
          "xref": "x",
          "y": 9,
          "yref": "y"
         },
         {
          "align": "left",
          "font": {
           "color": "#000000"
          },
          "showarrow": false,
          "text": "114",
          "x": 1.55,
          "xanchor": "left",
          "xref": "x",
          "y": 9,
          "yref": "y"
         },
         {
          "align": "left",
          "font": {
           "color": "#000000"
          },
          "showarrow": false,
          "text": "35",
          "x": 2.55,
          "xanchor": "left",
          "xref": "x",
          "y": 9,
          "yref": "y"
         },
         {
          "align": "left",
          "font": {
           "color": "#000000"
          },
          "showarrow": false,
          "text": "Columbia",
          "x": -0.45,
          "xanchor": "left",
          "xref": "x",
          "y": 10,
          "yref": "y"
         },
         {
          "align": "left",
          "font": {
           "color": "#000000"
          },
          "showarrow": false,
          "text": "86",
          "x": 0.55,
          "xanchor": "left",
          "xref": "x",
          "y": 10,
          "yref": "y"
         },
         {
          "align": "left",
          "font": {
           "color": "#000000"
          },
          "showarrow": false,
          "text": "119",
          "x": 1.55,
          "xanchor": "left",
          "xref": "x",
          "y": 10,
          "yref": "y"
         },
         {
          "align": "left",
          "font": {
           "color": "#000000"
          },
          "showarrow": false,
          "text": "33",
          "x": 2.55,
          "xanchor": "left",
          "xref": "x",
          "y": 10,
          "yref": "y"
         },
         {
          "align": "left",
          "font": {
           "color": "#000000"
          },
          "showarrow": false,
          "text": "Duke",
          "x": -0.45,
          "xanchor": "left",
          "xref": "x",
          "y": 11,
          "yref": "y"
         },
         {
          "align": "left",
          "font": {
           "color": "#000000"
          },
          "showarrow": false,
          "text": "93",
          "x": 0.55,
          "xanchor": "left",
          "xref": "x",
          "y": 11,
          "yref": "y"
         },
         {
          "align": "left",
          "font": {
           "color": "#000000"
          },
          "showarrow": false,
          "text": "124",
          "x": 1.55,
          "xanchor": "left",
          "xref": "x",
          "y": 11,
          "yref": "y"
         },
         {
          "align": "left",
          "font": {
           "color": "#000000"
          },
          "showarrow": false,
          "text": "31",
          "x": 2.55,
          "xanchor": "left",
          "xref": "x",
          "y": 11,
          "yref": "y"
         },
         {
          "align": "left",
          "font": {
           "color": "#000000"
          },
          "showarrow": false,
          "text": "Dartmouth",
          "x": -0.45,
          "xanchor": "left",
          "xref": "x",
          "y": 12,
          "yref": "y"
         },
         {
          "align": "left",
          "font": {
           "color": "#000000"
          },
          "showarrow": false,
          "text": "84",
          "x": 0.55,
          "xanchor": "left",
          "xref": "x",
          "y": 12,
          "yref": "y"
         },
         {
          "align": "left",
          "font": {
           "color": "#000000"
          },
          "showarrow": false,
          "text": "114",
          "x": 1.55,
          "xanchor": "left",
          "xref": "x",
          "y": 12,
          "yref": "y"
         },
         {
          "align": "left",
          "font": {
           "color": "#000000"
          },
          "showarrow": false,
          "text": "30",
          "x": 2.55,
          "xanchor": "left",
          "xref": "x",
          "y": 12,
          "yref": "y"
         },
         {
          "align": "left",
          "font": {
           "color": "#000000"
          },
          "showarrow": false,
          "text": "NYU",
          "x": -0.45,
          "xanchor": "left",
          "xref": "x",
          "y": 13,
          "yref": "y"
         },
         {
          "align": "left",
          "font": {
           "color": "#000000"
          },
          "showarrow": false,
          "text": "67",
          "x": 0.55,
          "xanchor": "left",
          "xref": "x",
          "y": 13,
          "yref": "y"
         },
         {
          "align": "left",
          "font": {
           "color": "#000000"
          },
          "showarrow": false,
          "text": "94",
          "x": 1.55,
          "xanchor": "left",
          "xref": "x",
          "y": 13,
          "yref": "y"
         },
         {
          "align": "left",
          "font": {
           "color": "#000000"
          },
          "showarrow": false,
          "text": "27",
          "x": 2.55,
          "xanchor": "left",
          "xref": "x",
          "y": 13,
          "yref": "y"
         },
         {
          "align": "left",
          "font": {
           "color": "#000000"
          },
          "showarrow": false,
          "text": "Notre Dame",
          "x": -0.45,
          "xanchor": "left",
          "xref": "x",
          "y": 14,
          "yref": "y"
         },
         {
          "align": "left",
          "font": {
           "color": "#000000"
          },
          "showarrow": false,
          "text": "73",
          "x": 0.55,
          "xanchor": "left",
          "xref": "x",
          "y": 14,
          "yref": "y"
         },
         {
          "align": "left",
          "font": {
           "color": "#000000"
          },
          "showarrow": false,
          "text": "100",
          "x": 1.55,
          "xanchor": "left",
          "xref": "x",
          "y": 14,
          "yref": "y"
         },
         {
          "align": "left",
          "font": {
           "color": "#000000"
          },
          "showarrow": false,
          "text": "27",
          "x": 2.55,
          "xanchor": "left",
          "xref": "x",
          "y": 14,
          "yref": "y"
         },
         {
          "align": "left",
          "font": {
           "color": "#000000"
          },
          "showarrow": false,
          "text": "Cornell",
          "x": -0.45,
          "xanchor": "left",
          "xref": "x",
          "y": 15,
          "yref": "y"
         },
         {
          "align": "left",
          "font": {
           "color": "#000000"
          },
          "showarrow": false,
          "text": "80",
          "x": 0.55,
          "xanchor": "left",
          "xref": "x",
          "y": 15,
          "yref": "y"
         },
         {
          "align": "left",
          "font": {
           "color": "#000000"
          },
          "showarrow": false,
          "text": "107",
          "x": 1.55,
          "xanchor": "left",
          "xref": "x",
          "y": 15,
          "yref": "y"
         },
         {
          "align": "left",
          "font": {
           "color": "#000000"
          },
          "showarrow": false,
          "text": "27",
          "x": 2.55,
          "xanchor": "left",
          "xref": "x",
          "y": 15,
          "yref": "y"
         },
         {
          "align": "left",
          "font": {
           "color": "#000000"
          },
          "showarrow": false,
          "text": "Michigan",
          "x": -0.45,
          "xanchor": "left",
          "xref": "x",
          "y": 16,
          "yref": "y"
         },
         {
          "align": "left",
          "font": {
           "color": "#000000"
          },
          "showarrow": false,
          "text": "62",
          "x": 0.55,
          "xanchor": "left",
          "xref": "x",
          "y": 16,
          "yref": "y"
         },
         {
          "align": "left",
          "font": {
           "color": "#000000"
          },
          "showarrow": false,
          "text": "84",
          "x": 1.55,
          "xanchor": "left",
          "xref": "x",
          "y": 16,
          "yref": "y"
         },
         {
          "align": "left",
          "font": {
           "color": "#000000"
          },
          "showarrow": false,
          "text": "22",
          "x": 2.55,
          "xanchor": "left",
          "xref": "x",
          "y": 16,
          "yref": "y"
         },
         {
          "align": "left",
          "font": {
           "color": "#000000"
          },
          "showarrow": false,
          "text": "Brown",
          "x": -0.45,
          "xanchor": "left",
          "xref": "x",
          "y": 17,
          "yref": "y"
         },
         {
          "align": "left",
          "font": {
           "color": "#000000"
          },
          "showarrow": false,
          "text": "72",
          "x": 0.55,
          "xanchor": "left",
          "xref": "x",
          "y": 17,
          "yref": "y"
         },
         {
          "align": "left",
          "font": {
           "color": "#000000"
          },
          "showarrow": false,
          "text": "92",
          "x": 1.55,
          "xanchor": "left",
          "xref": "x",
          "y": 17,
          "yref": "y"
         },
         {
          "align": "left",
          "font": {
           "color": "#000000"
          },
          "showarrow": false,
          "text": "20",
          "x": 2.55,
          "xanchor": "left",
          "xref": "x",
          "y": 17,
          "yref": "y"
         },
         {
          "align": "left",
          "font": {
           "color": "#000000"
          },
          "showarrow": false,
          "text": "Berkeley",
          "x": -0.45,
          "xanchor": "left",
          "xref": "x",
          "y": 18,
          "yref": "y"
         },
         {
          "align": "left",
          "font": {
           "color": "#000000"
          },
          "showarrow": false,
          "text": "71",
          "x": 0.55,
          "xanchor": "left",
          "xref": "x",
          "y": 18,
          "yref": "y"
         },
         {
          "align": "left",
          "font": {
           "color": "#000000"
          },
          "showarrow": false,
          "text": "88",
          "x": 1.55,
          "xanchor": "left",
          "xref": "x",
          "y": 18,
          "yref": "y"
         },
         {
          "align": "left",
          "font": {
           "color": "#000000"
          },
          "showarrow": false,
          "text": "17",
          "x": 2.55,
          "xanchor": "left",
          "xref": "x",
          "y": 18,
          "yref": "y"
         },
         {
          "align": "left",
          "font": {
           "color": "#000000"
          },
          "showarrow": false,
          "text": "Emory",
          "x": -0.45,
          "xanchor": "left",
          "xref": "x",
          "y": 19,
          "yref": "y"
         },
         {
          "align": "left",
          "font": {
           "color": "#000000"
          },
          "showarrow": false,
          "text": "68",
          "x": 0.55,
          "xanchor": "left",
          "xref": "x",
          "y": 19,
          "yref": "y"
         },
         {
          "align": "left",
          "font": {
           "color": "#000000"
          },
          "showarrow": false,
          "text": "82",
          "x": 1.55,
          "xanchor": "left",
          "xref": "x",
          "y": 19,
          "yref": "y"
         },
         {
          "align": "left",
          "font": {
           "color": "#000000"
          },
          "showarrow": false,
          "text": "14",
          "x": 2.55,
          "xanchor": "left",
          "xref": "x",
          "y": 19,
          "yref": "y"
         },
         {
          "align": "left",
          "font": {
           "color": "#000000"
          },
          "showarrow": false,
          "text": "UCLA",
          "x": -0.45,
          "xanchor": "left",
          "xref": "x",
          "y": 20,
          "yref": "y"
         },
         {
          "align": "left",
          "font": {
           "color": "#000000"
          },
          "showarrow": false,
          "text": "64",
          "x": 0.55,
          "xanchor": "left",
          "xref": "x",
          "y": 20,
          "yref": "y"
         },
         {
          "align": "left",
          "font": {
           "color": "#000000"
          },
          "showarrow": false,
          "text": "78",
          "x": 1.55,
          "xanchor": "left",
          "xref": "x",
          "y": 20,
          "yref": "y"
         },
         {
          "align": "left",
          "font": {
           "color": "#000000"
          },
          "showarrow": false,
          "text": "14",
          "x": 2.55,
          "xanchor": "left",
          "xref": "x",
          "y": 20,
          "yref": "y"
         },
         {
          "align": "left",
          "font": {
           "color": "#000000"
          },
          "showarrow": false,
          "text": "SoCal",
          "x": -0.45,
          "xanchor": "left",
          "xref": "x",
          "y": 21,
          "yref": "y"
         },
         {
          "align": "left",
          "font": {
           "color": "#000000"
          },
          "showarrow": false,
          "text": "72",
          "x": 0.55,
          "xanchor": "left",
          "xref": "x",
          "y": 21,
          "yref": "y"
         },
         {
          "align": "left",
          "font": {
           "color": "#000000"
          },
          "showarrow": false,
          "text": "81",
          "x": 1.55,
          "xanchor": "left",
          "xref": "x",
          "y": 21,
          "yref": "y"
         },
         {
          "align": "left",
          "font": {
           "color": "#000000"
          },
          "showarrow": false,
          "text": "9",
          "x": 2.55,
          "xanchor": "left",
          "xref": "x",
          "y": 21,
          "yref": "y"
         }
        ],
        "height": 710,
        "margin": {
         "b": 0,
         "l": 0,
         "r": 0,
         "t": 0
        },
        "template": {
         "data": {
          "bar": [
           {
            "error_x": {
             "color": "#2a3f5f"
            },
            "error_y": {
             "color": "#2a3f5f"
            },
            "marker": {
             "line": {
              "color": "#E5ECF6",
              "width": 0.5
             },
             "pattern": {
              "fillmode": "overlay",
              "size": 10,
              "solidity": 0.2
             }
            },
            "type": "bar"
           }
          ],
          "barpolar": [
           {
            "marker": {
             "line": {
              "color": "#E5ECF6",
              "width": 0.5
             },
             "pattern": {
              "fillmode": "overlay",
              "size": 10,
              "solidity": 0.2
             }
            },
            "type": "barpolar"
           }
          ],
          "carpet": [
           {
            "aaxis": {
             "endlinecolor": "#2a3f5f",
             "gridcolor": "white",
             "linecolor": "white",
             "minorgridcolor": "white",
             "startlinecolor": "#2a3f5f"
            },
            "baxis": {
             "endlinecolor": "#2a3f5f",
             "gridcolor": "white",
             "linecolor": "white",
             "minorgridcolor": "white",
             "startlinecolor": "#2a3f5f"
            },
            "type": "carpet"
           }
          ],
          "choropleth": [
           {
            "colorbar": {
             "outlinewidth": 0,
             "ticks": ""
            },
            "type": "choropleth"
           }
          ],
          "contour": [
           {
            "colorbar": {
             "outlinewidth": 0,
             "ticks": ""
            },
            "colorscale": [
             [
              0,
              "#0d0887"
             ],
             [
              0.1111111111111111,
              "#46039f"
             ],
             [
              0.2222222222222222,
              "#7201a8"
             ],
             [
              0.3333333333333333,
              "#9c179e"
             ],
             [
              0.4444444444444444,
              "#bd3786"
             ],
             [
              0.5555555555555556,
              "#d8576b"
             ],
             [
              0.6666666666666666,
              "#ed7953"
             ],
             [
              0.7777777777777778,
              "#fb9f3a"
             ],
             [
              0.8888888888888888,
              "#fdca26"
             ],
             [
              1,
              "#f0f921"
             ]
            ],
            "type": "contour"
           }
          ],
          "contourcarpet": [
           {
            "colorbar": {
             "outlinewidth": 0,
             "ticks": ""
            },
            "type": "contourcarpet"
           }
          ],
          "heatmap": [
           {
            "colorbar": {
             "outlinewidth": 0,
             "ticks": ""
            },
            "colorscale": [
             [
              0,
              "#0d0887"
             ],
             [
              0.1111111111111111,
              "#46039f"
             ],
             [
              0.2222222222222222,
              "#7201a8"
             ],
             [
              0.3333333333333333,
              "#9c179e"
             ],
             [
              0.4444444444444444,
              "#bd3786"
             ],
             [
              0.5555555555555556,
              "#d8576b"
             ],
             [
              0.6666666666666666,
              "#ed7953"
             ],
             [
              0.7777777777777778,
              "#fb9f3a"
             ],
             [
              0.8888888888888888,
              "#fdca26"
             ],
             [
              1,
              "#f0f921"
             ]
            ],
            "type": "heatmap"
           }
          ],
          "heatmapgl": [
           {
            "colorbar": {
             "outlinewidth": 0,
             "ticks": ""
            },
            "colorscale": [
             [
              0,
              "#0d0887"
             ],
             [
              0.1111111111111111,
              "#46039f"
             ],
             [
              0.2222222222222222,
              "#7201a8"
             ],
             [
              0.3333333333333333,
              "#9c179e"
             ],
             [
              0.4444444444444444,
              "#bd3786"
             ],
             [
              0.5555555555555556,
              "#d8576b"
             ],
             [
              0.6666666666666666,
              "#ed7953"
             ],
             [
              0.7777777777777778,
              "#fb9f3a"
             ],
             [
              0.8888888888888888,
              "#fdca26"
             ],
             [
              1,
              "#f0f921"
             ]
            ],
            "type": "heatmapgl"
           }
          ],
          "histogram": [
           {
            "marker": {
             "pattern": {
              "fillmode": "overlay",
              "size": 10,
              "solidity": 0.2
             }
            },
            "type": "histogram"
           }
          ],
          "histogram2d": [
           {
            "colorbar": {
             "outlinewidth": 0,
             "ticks": ""
            },
            "colorscale": [
             [
              0,
              "#0d0887"
             ],
             [
              0.1111111111111111,
              "#46039f"
             ],
             [
              0.2222222222222222,
              "#7201a8"
             ],
             [
              0.3333333333333333,
              "#9c179e"
             ],
             [
              0.4444444444444444,
              "#bd3786"
             ],
             [
              0.5555555555555556,
              "#d8576b"
             ],
             [
              0.6666666666666666,
              "#ed7953"
             ],
             [
              0.7777777777777778,
              "#fb9f3a"
             ],
             [
              0.8888888888888888,
              "#fdca26"
             ],
             [
              1,
              "#f0f921"
             ]
            ],
            "type": "histogram2d"
           }
          ],
          "histogram2dcontour": [
           {
            "colorbar": {
             "outlinewidth": 0,
             "ticks": ""
            },
            "colorscale": [
             [
              0,
              "#0d0887"
             ],
             [
              0.1111111111111111,
              "#46039f"
             ],
             [
              0.2222222222222222,
              "#7201a8"
             ],
             [
              0.3333333333333333,
              "#9c179e"
             ],
             [
              0.4444444444444444,
              "#bd3786"
             ],
             [
              0.5555555555555556,
              "#d8576b"
             ],
             [
              0.6666666666666666,
              "#ed7953"
             ],
             [
              0.7777777777777778,
              "#fb9f3a"
             ],
             [
              0.8888888888888888,
              "#fdca26"
             ],
             [
              1,
              "#f0f921"
             ]
            ],
            "type": "histogram2dcontour"
           }
          ],
          "mesh3d": [
           {
            "colorbar": {
             "outlinewidth": 0,
             "ticks": ""
            },
            "type": "mesh3d"
           }
          ],
          "parcoords": [
           {
            "line": {
             "colorbar": {
              "outlinewidth": 0,
              "ticks": ""
             }
            },
            "type": "parcoords"
           }
          ],
          "pie": [
           {
            "automargin": true,
            "type": "pie"
           }
          ],
          "scatter": [
           {
            "marker": {
             "colorbar": {
              "outlinewidth": 0,
              "ticks": ""
             }
            },
            "type": "scatter"
           }
          ],
          "scatter3d": [
           {
            "line": {
             "colorbar": {
              "outlinewidth": 0,
              "ticks": ""
             }
            },
            "marker": {
             "colorbar": {
              "outlinewidth": 0,
              "ticks": ""
             }
            },
            "type": "scatter3d"
           }
          ],
          "scattercarpet": [
           {
            "marker": {
             "colorbar": {
              "outlinewidth": 0,
              "ticks": ""
             }
            },
            "type": "scattercarpet"
           }
          ],
          "scattergeo": [
           {
            "marker": {
             "colorbar": {
              "outlinewidth": 0,
              "ticks": ""
             }
            },
            "type": "scattergeo"
           }
          ],
          "scattergl": [
           {
            "marker": {
             "colorbar": {
              "outlinewidth": 0,
              "ticks": ""
             }
            },
            "type": "scattergl"
           }
          ],
          "scattermapbox": [
           {
            "marker": {
             "colorbar": {
              "outlinewidth": 0,
              "ticks": ""
             }
            },
            "type": "scattermapbox"
           }
          ],
          "scatterpolar": [
           {
            "marker": {
             "colorbar": {
              "outlinewidth": 0,
              "ticks": ""
             }
            },
            "type": "scatterpolar"
           }
          ],
          "scatterpolargl": [
           {
            "marker": {
             "colorbar": {
              "outlinewidth": 0,
              "ticks": ""
             }
            },
            "type": "scatterpolargl"
           }
          ],
          "scatterternary": [
           {
            "marker": {
             "colorbar": {
              "outlinewidth": 0,
              "ticks": ""
             }
            },
            "type": "scatterternary"
           }
          ],
          "surface": [
           {
            "colorbar": {
             "outlinewidth": 0,
             "ticks": ""
            },
            "colorscale": [
             [
              0,
              "#0d0887"
             ],
             [
              0.1111111111111111,
              "#46039f"
             ],
             [
              0.2222222222222222,
              "#7201a8"
             ],
             [
              0.3333333333333333,
              "#9c179e"
             ],
             [
              0.4444444444444444,
              "#bd3786"
             ],
             [
              0.5555555555555556,
              "#d8576b"
             ],
             [
              0.6666666666666666,
              "#ed7953"
             ],
             [
              0.7777777777777778,
              "#fb9f3a"
             ],
             [
              0.8888888888888888,
              "#fdca26"
             ],
             [
              1,
              "#f0f921"
             ]
            ],
            "type": "surface"
           }
          ],
          "table": [
           {
            "cells": {
             "fill": {
              "color": "#EBF0F8"
             },
             "line": {
              "color": "white"
             }
            },
            "header": {
             "fill": {
              "color": "#C8D4E3"
             },
             "line": {
              "color": "white"
             }
            },
            "type": "table"
           }
          ]
         },
         "layout": {
          "annotationdefaults": {
           "arrowcolor": "#2a3f5f",
           "arrowhead": 0,
           "arrowwidth": 1
          },
          "autotypenumbers": "strict",
          "coloraxis": {
           "colorbar": {
            "outlinewidth": 0,
            "ticks": ""
           }
          },
          "colorscale": {
           "diverging": [
            [
             0,
             "#8e0152"
            ],
            [
             0.1,
             "#c51b7d"
            ],
            [
             0.2,
             "#de77ae"
            ],
            [
             0.3,
             "#f1b6da"
            ],
            [
             0.4,
             "#fde0ef"
            ],
            [
             0.5,
             "#f7f7f7"
            ],
            [
             0.6,
             "#e6f5d0"
            ],
            [
             0.7,
             "#b8e186"
            ],
            [
             0.8,
             "#7fbc41"
            ],
            [
             0.9,
             "#4d9221"
            ],
            [
             1,
             "#276419"
            ]
           ],
           "sequential": [
            [
             0,
             "#0d0887"
            ],
            [
             0.1111111111111111,
             "#46039f"
            ],
            [
             0.2222222222222222,
             "#7201a8"
            ],
            [
             0.3333333333333333,
             "#9c179e"
            ],
            [
             0.4444444444444444,
             "#bd3786"
            ],
            [
             0.5555555555555556,
             "#d8576b"
            ],
            [
             0.6666666666666666,
             "#ed7953"
            ],
            [
             0.7777777777777778,
             "#fb9f3a"
            ],
            [
             0.8888888888888888,
             "#fdca26"
            ],
            [
             1,
             "#f0f921"
            ]
           ],
           "sequentialminus": [
            [
             0,
             "#0d0887"
            ],
            [
             0.1111111111111111,
             "#46039f"
            ],
            [
             0.2222222222222222,
             "#7201a8"
            ],
            [
             0.3333333333333333,
             "#9c179e"
            ],
            [
             0.4444444444444444,
             "#bd3786"
            ],
            [
             0.5555555555555556,
             "#d8576b"
            ],
            [
             0.6666666666666666,
             "#ed7953"
            ],
            [
             0.7777777777777778,
             "#fb9f3a"
            ],
            [
             0.8888888888888888,
             "#fdca26"
            ],
            [
             1,
             "#f0f921"
            ]
           ]
          },
          "colorway": [
           "#636efa",
           "#EF553B",
           "#00cc96",
           "#ab63fa",
           "#FFA15A",
           "#19d3f3",
           "#FF6692",
           "#B6E880",
           "#FF97FF",
           "#FECB52"
          ],
          "font": {
           "color": "#2a3f5f"
          },
          "geo": {
           "bgcolor": "white",
           "lakecolor": "white",
           "landcolor": "#E5ECF6",
           "showlakes": true,
           "showland": true,
           "subunitcolor": "white"
          },
          "hoverlabel": {
           "align": "left"
          },
          "hovermode": "closest",
          "mapbox": {
           "style": "light"
          },
          "paper_bgcolor": "white",
          "plot_bgcolor": "#E5ECF6",
          "polar": {
           "angularaxis": {
            "gridcolor": "white",
            "linecolor": "white",
            "ticks": ""
           },
           "bgcolor": "#E5ECF6",
           "radialaxis": {
            "gridcolor": "white",
            "linecolor": "white",
            "ticks": ""
           }
          },
          "scene": {
           "xaxis": {
            "backgroundcolor": "#E5ECF6",
            "gridcolor": "white",
            "gridwidth": 2,
            "linecolor": "white",
            "showbackground": true,
            "ticks": "",
            "zerolinecolor": "white"
           },
           "yaxis": {
            "backgroundcolor": "#E5ECF6",
            "gridcolor": "white",
            "gridwidth": 2,
            "linecolor": "white",
            "showbackground": true,
            "ticks": "",
            "zerolinecolor": "white"
           },
           "zaxis": {
            "backgroundcolor": "#E5ECF6",
            "gridcolor": "white",
            "gridwidth": 2,
            "linecolor": "white",
            "showbackground": true,
            "ticks": "",
            "zerolinecolor": "white"
           }
          },
          "shapedefaults": {
           "line": {
            "color": "#2a3f5f"
           }
          },
          "ternary": {
           "aaxis": {
            "gridcolor": "white",
            "linecolor": "white",
            "ticks": ""
           },
           "baxis": {
            "gridcolor": "white",
            "linecolor": "white",
            "ticks": ""
           },
           "bgcolor": "#E5ECF6",
           "caxis": {
            "gridcolor": "white",
            "linecolor": "white",
            "ticks": ""
           }
          },
          "title": {
           "x": 0.05
          },
          "xaxis": {
           "automargin": true,
           "gridcolor": "white",
           "linecolor": "white",
           "ticks": "",
           "title": {
            "standoff": 15
           },
           "zerolinecolor": "white",
           "zerolinewidth": 2
          },
          "yaxis": {
           "automargin": true,
           "gridcolor": "white",
           "linecolor": "white",
           "ticks": "",
           "title": {
            "standoff": 15
           },
           "zerolinecolor": "white",
           "zerolinewidth": 2
          }
         }
        },
        "xaxis": {
         "dtick": 1,
         "gridwidth": 2,
         "showticklabels": false,
         "tick0": -0.5,
         "ticks": "",
         "zeroline": false
        },
        "yaxis": {
         "autorange": "reversed",
         "dtick": 1,
         "gridwidth": 2,
         "showticklabels": false,
         "tick0": 0.5,
         "ticks": "",
         "zeroline": false
        }
       }
      },
      "text/html": [
       "<div>                            <div id=\"1cc1666b-bc68-40c3-a054-c7e2a2a79e98\" class=\"plotly-graph-div\" style=\"height:710px; width:100%;\"></div>            <script type=\"text/javascript\">                require([\"plotly\"], function(Plotly) {                    window.PLOTLYENV=window.PLOTLYENV || {};                                    if (document.getElementById(\"1cc1666b-bc68-40c3-a054-c7e2a2a79e98\")) {                    Plotly.newPlot(                        \"1cc1666b-bc68-40c3-a054-c7e2a2a79e98\",                        [{\"colorscale\":[[0,\"#00083e\"],[0.5,\"#ededee\"],[1,\"#ffffff\"]],\"hoverinfo\":\"none\",\"opacity\":0.75,\"showscale\":false,\"z\":[[0,0,0,0],[0.5,0.5,0.5,0.5],[1,1,1,1],[0.5,0.5,0.5,0.5],[1,1,1,1],[0.5,0.5,0.5,0.5],[1,1,1,1],[0.5,0.5,0.5,0.5],[1,1,1,1],[0.5,0.5,0.5,0.5],[1,1,1,1],[0.5,0.5,0.5,0.5],[1,1,1,1],[0.5,0.5,0.5,0.5],[1,1,1,1],[0.5,0.5,0.5,0.5],[1,1,1,1],[0.5,0.5,0.5,0.5],[1,1,1,1],[0.5,0.5,0.5,0.5],[1,1,1,1],[0.5,0.5,0.5,0.5]],\"type\":\"heatmap\"}],                        {\"annotations\":[{\"align\":\"left\",\"font\":{\"color\":\"#ffffff\"},\"showarrow\":false,\"text\":\"<b>School</b>\",\"x\":-0.45,\"xanchor\":\"left\",\"xref\":\"x\",\"y\":0,\"yref\":\"y\"},{\"align\":\"left\",\"font\":{\"color\":\"#ffffff\"},\"showarrow\":false,\"text\":\"<b>Women</b>\",\"x\":0.55,\"xanchor\":\"left\",\"xref\":\"x\",\"y\":0,\"yref\":\"y\"},{\"align\":\"left\",\"font\":{\"color\":\"#ffffff\"},\"showarrow\":false,\"text\":\"<b>Men</b>\",\"x\":1.55,\"xanchor\":\"left\",\"xref\":\"x\",\"y\":0,\"yref\":\"y\"},{\"align\":\"left\",\"font\":{\"color\":\"#ffffff\"},\"showarrow\":false,\"text\":\"<b>Gap</b>\",\"x\":2.55,\"xanchor\":\"left\",\"xref\":\"x\",\"y\":0,\"yref\":\"y\"},{\"align\":\"left\",\"font\":{\"color\":\"#000000\"},\"showarrow\":false,\"text\":\"MIT\",\"x\":-0.45,\"xanchor\":\"left\",\"xref\":\"x\",\"y\":1,\"yref\":\"y\"},{\"align\":\"left\",\"font\":{\"color\":\"#000000\"},\"showarrow\":false,\"text\":\"94\",\"x\":0.55,\"xanchor\":\"left\",\"xref\":\"x\",\"y\":1,\"yref\":\"y\"},{\"align\":\"left\",\"font\":{\"color\":\"#000000\"},\"showarrow\":false,\"text\":\"152\",\"x\":1.55,\"xanchor\":\"left\",\"xref\":\"x\",\"y\":1,\"yref\":\"y\"},{\"align\":\"left\",\"font\":{\"color\":\"#000000\"},\"showarrow\":false,\"text\":\"58\",\"x\":2.55,\"xanchor\":\"left\",\"xref\":\"x\",\"y\":1,\"yref\":\"y\"},{\"align\":\"left\",\"font\":{\"color\":\"#000000\"},\"showarrow\":false,\"text\":\"Stanford\",\"x\":-0.45,\"xanchor\":\"left\",\"xref\":\"x\",\"y\":2,\"yref\":\"y\"},{\"align\":\"left\",\"font\":{\"color\":\"#000000\"},\"showarrow\":false,\"text\":\"96\",\"x\":0.55,\"xanchor\":\"left\",\"xref\":\"x\",\"y\":2,\"yref\":\"y\"},{\"align\":\"left\",\"font\":{\"color\":\"#000000\"},\"showarrow\":false,\"text\":\"151\",\"x\":1.55,\"xanchor\":\"left\",\"xref\":\"x\",\"y\":2,\"yref\":\"y\"},{\"align\":\"left\",\"font\":{\"color\":\"#000000\"},\"showarrow\":false,\"text\":\"55\",\"x\":2.55,\"xanchor\":\"left\",\"xref\":\"x\",\"y\":2,\"yref\":\"y\"},{\"align\":\"left\",\"font\":{\"color\":\"#000000\"},\"showarrow\":false,\"text\":\"Harvard\",\"x\":-0.45,\"xanchor\":\"left\",\"xref\":\"x\",\"y\":3,\"yref\":\"y\"},{\"align\":\"left\",\"font\":{\"color\":\"#000000\"},\"showarrow\":false,\"text\":\"112\",\"x\":0.55,\"xanchor\":\"left\",\"xref\":\"x\",\"y\":3,\"yref\":\"y\"},{\"align\":\"left\",\"font\":{\"color\":\"#000000\"},\"showarrow\":false,\"text\":\"165\",\"x\":1.55,\"xanchor\":\"left\",\"xref\":\"x\",\"y\":3,\"yref\":\"y\"},{\"align\":\"left\",\"font\":{\"color\":\"#000000\"},\"showarrow\":false,\"text\":\"53\",\"x\":2.55,\"xanchor\":\"left\",\"xref\":\"x\",\"y\":3,\"yref\":\"y\"},{\"align\":\"left\",\"font\":{\"color\":\"#000000\"},\"showarrow\":false,\"text\":\"U.Penn\",\"x\":-0.45,\"xanchor\":\"left\",\"xref\":\"x\",\"y\":4,\"yref\":\"y\"},{\"align\":\"left\",\"font\":{\"color\":\"#000000\"},\"showarrow\":false,\"text\":\"92\",\"x\":0.55,\"xanchor\":\"left\",\"xref\":\"x\",\"y\":4,\"yref\":\"y\"},{\"align\":\"left\",\"font\":{\"color\":\"#000000\"},\"showarrow\":false,\"text\":\"141\",\"x\":1.55,\"xanchor\":\"left\",\"xref\":\"x\",\"y\":4,\"yref\":\"y\"},{\"align\":\"left\",\"font\":{\"color\":\"#000000\"},\"showarrow\":false,\"text\":\"49\",\"x\":2.55,\"xanchor\":\"left\",\"xref\":\"x\",\"y\":4,\"yref\":\"y\"},{\"align\":\"left\",\"font\":{\"color\":\"#000000\"},\"showarrow\":false,\"text\":\"Princeton\",\"x\":-0.45,\"xanchor\":\"left\",\"xref\":\"x\",\"y\":5,\"yref\":\"y\"},{\"align\":\"left\",\"font\":{\"color\":\"#000000\"},\"showarrow\":false,\"text\":\"90\",\"x\":0.55,\"xanchor\":\"left\",\"xref\":\"x\",\"y\":5,\"yref\":\"y\"},{\"align\":\"left\",\"font\":{\"color\":\"#000000\"},\"showarrow\":false,\"text\":\"137\",\"x\":1.55,\"xanchor\":\"left\",\"xref\":\"x\",\"y\":5,\"yref\":\"y\"},{\"align\":\"left\",\"font\":{\"color\":\"#000000\"},\"showarrow\":false,\"text\":\"47\",\"x\":2.55,\"xanchor\":\"left\",\"xref\":\"x\",\"y\":5,\"yref\":\"y\"},{\"align\":\"left\",\"font\":{\"color\":\"#000000\"},\"showarrow\":false,\"text\":\"Chicago\",\"x\":-0.45,\"xanchor\":\"left\",\"xref\":\"x\",\"y\":6,\"yref\":\"y\"},{\"align\":\"left\",\"font\":{\"color\":\"#000000\"},\"showarrow\":false,\"text\":\"78\",\"x\":0.55,\"xanchor\":\"left\",\"xref\":\"x\",\"y\":6,\"yref\":\"y\"},{\"align\":\"left\",\"font\":{\"color\":\"#000000\"},\"showarrow\":false,\"text\":\"118\",\"x\":1.55,\"xanchor\":\"left\",\"xref\":\"x\",\"y\":6,\"yref\":\"y\"},{\"align\":\"left\",\"font\":{\"color\":\"#000000\"},\"showarrow\":false,\"text\":\"40\",\"x\":2.55,\"xanchor\":\"left\",\"xref\":\"x\",\"y\":6,\"yref\":\"y\"},{\"align\":\"left\",\"font\":{\"color\":\"#000000\"},\"showarrow\":false,\"text\":\"Georgetown\",\"x\":-0.45,\"xanchor\":\"left\",\"xref\":\"x\",\"y\":7,\"yref\":\"y\"},{\"align\":\"left\",\"font\":{\"color\":\"#000000\"},\"showarrow\":false,\"text\":\"94\",\"x\":0.55,\"xanchor\":\"left\",\"xref\":\"x\",\"y\":7,\"yref\":\"y\"},{\"align\":\"left\",\"font\":{\"color\":\"#000000\"},\"showarrow\":false,\"text\":\"131\",\"x\":1.55,\"xanchor\":\"left\",\"xref\":\"x\",\"y\":7,\"yref\":\"y\"},{\"align\":\"left\",\"font\":{\"color\":\"#000000\"},\"showarrow\":false,\"text\":\"37\",\"x\":2.55,\"xanchor\":\"left\",\"xref\":\"x\",\"y\":7,\"yref\":\"y\"},{\"align\":\"left\",\"font\":{\"color\":\"#000000\"},\"showarrow\":false,\"text\":\"Tufts\",\"x\":-0.45,\"xanchor\":\"left\",\"xref\":\"x\",\"y\":8,\"yref\":\"y\"},{\"align\":\"left\",\"font\":{\"color\":\"#000000\"},\"showarrow\":false,\"text\":\"76\",\"x\":0.55,\"xanchor\":\"left\",\"xref\":\"x\",\"y\":8,\"yref\":\"y\"},{\"align\":\"left\",\"font\":{\"color\":\"#000000\"},\"showarrow\":false,\"text\":\"112\",\"x\":1.55,\"xanchor\":\"left\",\"xref\":\"x\",\"y\":8,\"yref\":\"y\"},{\"align\":\"left\",\"font\":{\"color\":\"#000000\"},\"showarrow\":false,\"text\":\"36\",\"x\":2.55,\"xanchor\":\"left\",\"xref\":\"x\",\"y\":8,\"yref\":\"y\"},{\"align\":\"left\",\"font\":{\"color\":\"#000000\"},\"showarrow\":false,\"text\":\"Yale\",\"x\":-0.45,\"xanchor\":\"left\",\"xref\":\"x\",\"y\":9,\"yref\":\"y\"},{\"align\":\"left\",\"font\":{\"color\":\"#000000\"},\"showarrow\":false,\"text\":\"79\",\"x\":0.55,\"xanchor\":\"left\",\"xref\":\"x\",\"y\":9,\"yref\":\"y\"},{\"align\":\"left\",\"font\":{\"color\":\"#000000\"},\"showarrow\":false,\"text\":\"114\",\"x\":1.55,\"xanchor\":\"left\",\"xref\":\"x\",\"y\":9,\"yref\":\"y\"},{\"align\":\"left\",\"font\":{\"color\":\"#000000\"},\"showarrow\":false,\"text\":\"35\",\"x\":2.55,\"xanchor\":\"left\",\"xref\":\"x\",\"y\":9,\"yref\":\"y\"},{\"align\":\"left\",\"font\":{\"color\":\"#000000\"},\"showarrow\":false,\"text\":\"Columbia\",\"x\":-0.45,\"xanchor\":\"left\",\"xref\":\"x\",\"y\":10,\"yref\":\"y\"},{\"align\":\"left\",\"font\":{\"color\":\"#000000\"},\"showarrow\":false,\"text\":\"86\",\"x\":0.55,\"xanchor\":\"left\",\"xref\":\"x\",\"y\":10,\"yref\":\"y\"},{\"align\":\"left\",\"font\":{\"color\":\"#000000\"},\"showarrow\":false,\"text\":\"119\",\"x\":1.55,\"xanchor\":\"left\",\"xref\":\"x\",\"y\":10,\"yref\":\"y\"},{\"align\":\"left\",\"font\":{\"color\":\"#000000\"},\"showarrow\":false,\"text\":\"33\",\"x\":2.55,\"xanchor\":\"left\",\"xref\":\"x\",\"y\":10,\"yref\":\"y\"},{\"align\":\"left\",\"font\":{\"color\":\"#000000\"},\"showarrow\":false,\"text\":\"Duke\",\"x\":-0.45,\"xanchor\":\"left\",\"xref\":\"x\",\"y\":11,\"yref\":\"y\"},{\"align\":\"left\",\"font\":{\"color\":\"#000000\"},\"showarrow\":false,\"text\":\"93\",\"x\":0.55,\"xanchor\":\"left\",\"xref\":\"x\",\"y\":11,\"yref\":\"y\"},{\"align\":\"left\",\"font\":{\"color\":\"#000000\"},\"showarrow\":false,\"text\":\"124\",\"x\":1.55,\"xanchor\":\"left\",\"xref\":\"x\",\"y\":11,\"yref\":\"y\"},{\"align\":\"left\",\"font\":{\"color\":\"#000000\"},\"showarrow\":false,\"text\":\"31\",\"x\":2.55,\"xanchor\":\"left\",\"xref\":\"x\",\"y\":11,\"yref\":\"y\"},{\"align\":\"left\",\"font\":{\"color\":\"#000000\"},\"showarrow\":false,\"text\":\"Dartmouth\",\"x\":-0.45,\"xanchor\":\"left\",\"xref\":\"x\",\"y\":12,\"yref\":\"y\"},{\"align\":\"left\",\"font\":{\"color\":\"#000000\"},\"showarrow\":false,\"text\":\"84\",\"x\":0.55,\"xanchor\":\"left\",\"xref\":\"x\",\"y\":12,\"yref\":\"y\"},{\"align\":\"left\",\"font\":{\"color\":\"#000000\"},\"showarrow\":false,\"text\":\"114\",\"x\":1.55,\"xanchor\":\"left\",\"xref\":\"x\",\"y\":12,\"yref\":\"y\"},{\"align\":\"left\",\"font\":{\"color\":\"#000000\"},\"showarrow\":false,\"text\":\"30\",\"x\":2.55,\"xanchor\":\"left\",\"xref\":\"x\",\"y\":12,\"yref\":\"y\"},{\"align\":\"left\",\"font\":{\"color\":\"#000000\"},\"showarrow\":false,\"text\":\"NYU\",\"x\":-0.45,\"xanchor\":\"left\",\"xref\":\"x\",\"y\":13,\"yref\":\"y\"},{\"align\":\"left\",\"font\":{\"color\":\"#000000\"},\"showarrow\":false,\"text\":\"67\",\"x\":0.55,\"xanchor\":\"left\",\"xref\":\"x\",\"y\":13,\"yref\":\"y\"},{\"align\":\"left\",\"font\":{\"color\":\"#000000\"},\"showarrow\":false,\"text\":\"94\",\"x\":1.55,\"xanchor\":\"left\",\"xref\":\"x\",\"y\":13,\"yref\":\"y\"},{\"align\":\"left\",\"font\":{\"color\":\"#000000\"},\"showarrow\":false,\"text\":\"27\",\"x\":2.55,\"xanchor\":\"left\",\"xref\":\"x\",\"y\":13,\"yref\":\"y\"},{\"align\":\"left\",\"font\":{\"color\":\"#000000\"},\"showarrow\":false,\"text\":\"Notre Dame\",\"x\":-0.45,\"xanchor\":\"left\",\"xref\":\"x\",\"y\":14,\"yref\":\"y\"},{\"align\":\"left\",\"font\":{\"color\":\"#000000\"},\"showarrow\":false,\"text\":\"73\",\"x\":0.55,\"xanchor\":\"left\",\"xref\":\"x\",\"y\":14,\"yref\":\"y\"},{\"align\":\"left\",\"font\":{\"color\":\"#000000\"},\"showarrow\":false,\"text\":\"100\",\"x\":1.55,\"xanchor\":\"left\",\"xref\":\"x\",\"y\":14,\"yref\":\"y\"},{\"align\":\"left\",\"font\":{\"color\":\"#000000\"},\"showarrow\":false,\"text\":\"27\",\"x\":2.55,\"xanchor\":\"left\",\"xref\":\"x\",\"y\":14,\"yref\":\"y\"},{\"align\":\"left\",\"font\":{\"color\":\"#000000\"},\"showarrow\":false,\"text\":\"Cornell\",\"x\":-0.45,\"xanchor\":\"left\",\"xref\":\"x\",\"y\":15,\"yref\":\"y\"},{\"align\":\"left\",\"font\":{\"color\":\"#000000\"},\"showarrow\":false,\"text\":\"80\",\"x\":0.55,\"xanchor\":\"left\",\"xref\":\"x\",\"y\":15,\"yref\":\"y\"},{\"align\":\"left\",\"font\":{\"color\":\"#000000\"},\"showarrow\":false,\"text\":\"107\",\"x\":1.55,\"xanchor\":\"left\",\"xref\":\"x\",\"y\":15,\"yref\":\"y\"},{\"align\":\"left\",\"font\":{\"color\":\"#000000\"},\"showarrow\":false,\"text\":\"27\",\"x\":2.55,\"xanchor\":\"left\",\"xref\":\"x\",\"y\":15,\"yref\":\"y\"},{\"align\":\"left\",\"font\":{\"color\":\"#000000\"},\"showarrow\":false,\"text\":\"Michigan\",\"x\":-0.45,\"xanchor\":\"left\",\"xref\":\"x\",\"y\":16,\"yref\":\"y\"},{\"align\":\"left\",\"font\":{\"color\":\"#000000\"},\"showarrow\":false,\"text\":\"62\",\"x\":0.55,\"xanchor\":\"left\",\"xref\":\"x\",\"y\":16,\"yref\":\"y\"},{\"align\":\"left\",\"font\":{\"color\":\"#000000\"},\"showarrow\":false,\"text\":\"84\",\"x\":1.55,\"xanchor\":\"left\",\"xref\":\"x\",\"y\":16,\"yref\":\"y\"},{\"align\":\"left\",\"font\":{\"color\":\"#000000\"},\"showarrow\":false,\"text\":\"22\",\"x\":2.55,\"xanchor\":\"left\",\"xref\":\"x\",\"y\":16,\"yref\":\"y\"},{\"align\":\"left\",\"font\":{\"color\":\"#000000\"},\"showarrow\":false,\"text\":\"Brown\",\"x\":-0.45,\"xanchor\":\"left\",\"xref\":\"x\",\"y\":17,\"yref\":\"y\"},{\"align\":\"left\",\"font\":{\"color\":\"#000000\"},\"showarrow\":false,\"text\":\"72\",\"x\":0.55,\"xanchor\":\"left\",\"xref\":\"x\",\"y\":17,\"yref\":\"y\"},{\"align\":\"left\",\"font\":{\"color\":\"#000000\"},\"showarrow\":false,\"text\":\"92\",\"x\":1.55,\"xanchor\":\"left\",\"xref\":\"x\",\"y\":17,\"yref\":\"y\"},{\"align\":\"left\",\"font\":{\"color\":\"#000000\"},\"showarrow\":false,\"text\":\"20\",\"x\":2.55,\"xanchor\":\"left\",\"xref\":\"x\",\"y\":17,\"yref\":\"y\"},{\"align\":\"left\",\"font\":{\"color\":\"#000000\"},\"showarrow\":false,\"text\":\"Berkeley\",\"x\":-0.45,\"xanchor\":\"left\",\"xref\":\"x\",\"y\":18,\"yref\":\"y\"},{\"align\":\"left\",\"font\":{\"color\":\"#000000\"},\"showarrow\":false,\"text\":\"71\",\"x\":0.55,\"xanchor\":\"left\",\"xref\":\"x\",\"y\":18,\"yref\":\"y\"},{\"align\":\"left\",\"font\":{\"color\":\"#000000\"},\"showarrow\":false,\"text\":\"88\",\"x\":1.55,\"xanchor\":\"left\",\"xref\":\"x\",\"y\":18,\"yref\":\"y\"},{\"align\":\"left\",\"font\":{\"color\":\"#000000\"},\"showarrow\":false,\"text\":\"17\",\"x\":2.55,\"xanchor\":\"left\",\"xref\":\"x\",\"y\":18,\"yref\":\"y\"},{\"align\":\"left\",\"font\":{\"color\":\"#000000\"},\"showarrow\":false,\"text\":\"Emory\",\"x\":-0.45,\"xanchor\":\"left\",\"xref\":\"x\",\"y\":19,\"yref\":\"y\"},{\"align\":\"left\",\"font\":{\"color\":\"#000000\"},\"showarrow\":false,\"text\":\"68\",\"x\":0.55,\"xanchor\":\"left\",\"xref\":\"x\",\"y\":19,\"yref\":\"y\"},{\"align\":\"left\",\"font\":{\"color\":\"#000000\"},\"showarrow\":false,\"text\":\"82\",\"x\":1.55,\"xanchor\":\"left\",\"xref\":\"x\",\"y\":19,\"yref\":\"y\"},{\"align\":\"left\",\"font\":{\"color\":\"#000000\"},\"showarrow\":false,\"text\":\"14\",\"x\":2.55,\"xanchor\":\"left\",\"xref\":\"x\",\"y\":19,\"yref\":\"y\"},{\"align\":\"left\",\"font\":{\"color\":\"#000000\"},\"showarrow\":false,\"text\":\"UCLA\",\"x\":-0.45,\"xanchor\":\"left\",\"xref\":\"x\",\"y\":20,\"yref\":\"y\"},{\"align\":\"left\",\"font\":{\"color\":\"#000000\"},\"showarrow\":false,\"text\":\"64\",\"x\":0.55,\"xanchor\":\"left\",\"xref\":\"x\",\"y\":20,\"yref\":\"y\"},{\"align\":\"left\",\"font\":{\"color\":\"#000000\"},\"showarrow\":false,\"text\":\"78\",\"x\":1.55,\"xanchor\":\"left\",\"xref\":\"x\",\"y\":20,\"yref\":\"y\"},{\"align\":\"left\",\"font\":{\"color\":\"#000000\"},\"showarrow\":false,\"text\":\"14\",\"x\":2.55,\"xanchor\":\"left\",\"xref\":\"x\",\"y\":20,\"yref\":\"y\"},{\"align\":\"left\",\"font\":{\"color\":\"#000000\"},\"showarrow\":false,\"text\":\"SoCal\",\"x\":-0.45,\"xanchor\":\"left\",\"xref\":\"x\",\"y\":21,\"yref\":\"y\"},{\"align\":\"left\",\"font\":{\"color\":\"#000000\"},\"showarrow\":false,\"text\":\"72\",\"x\":0.55,\"xanchor\":\"left\",\"xref\":\"x\",\"y\":21,\"yref\":\"y\"},{\"align\":\"left\",\"font\":{\"color\":\"#000000\"},\"showarrow\":false,\"text\":\"81\",\"x\":1.55,\"xanchor\":\"left\",\"xref\":\"x\",\"y\":21,\"yref\":\"y\"},{\"align\":\"left\",\"font\":{\"color\":\"#000000\"},\"showarrow\":false,\"text\":\"9\",\"x\":2.55,\"xanchor\":\"left\",\"xref\":\"x\",\"y\":21,\"yref\":\"y\"}],\"height\":710,\"margin\":{\"b\":0,\"l\":0,\"r\":0,\"t\":0},\"template\":{\"data\":{\"barpolar\":[{\"marker\":{\"line\":{\"color\":\"#E5ECF6\",\"width\":0.5},\"pattern\":{\"fillmode\":\"overlay\",\"size\":10,\"solidity\":0.2}},\"type\":\"barpolar\"}],\"bar\":[{\"error_x\":{\"color\":\"#2a3f5f\"},\"error_y\":{\"color\":\"#2a3f5f\"},\"marker\":{\"line\":{\"color\":\"#E5ECF6\",\"width\":0.5},\"pattern\":{\"fillmode\":\"overlay\",\"size\":10,\"solidity\":0.2}},\"type\":\"bar\"}],\"carpet\":[{\"aaxis\":{\"endlinecolor\":\"#2a3f5f\",\"gridcolor\":\"white\",\"linecolor\":\"white\",\"minorgridcolor\":\"white\",\"startlinecolor\":\"#2a3f5f\"},\"baxis\":{\"endlinecolor\":\"#2a3f5f\",\"gridcolor\":\"white\",\"linecolor\":\"white\",\"minorgridcolor\":\"white\",\"startlinecolor\":\"#2a3f5f\"},\"type\":\"carpet\"}],\"choropleth\":[{\"colorbar\":{\"outlinewidth\":0,\"ticks\":\"\"},\"type\":\"choropleth\"}],\"contourcarpet\":[{\"colorbar\":{\"outlinewidth\":0,\"ticks\":\"\"},\"type\":\"contourcarpet\"}],\"contour\":[{\"colorbar\":{\"outlinewidth\":0,\"ticks\":\"\"},\"colorscale\":[[0.0,\"#0d0887\"],[0.1111111111111111,\"#46039f\"],[0.2222222222222222,\"#7201a8\"],[0.3333333333333333,\"#9c179e\"],[0.4444444444444444,\"#bd3786\"],[0.5555555555555556,\"#d8576b\"],[0.6666666666666666,\"#ed7953\"],[0.7777777777777778,\"#fb9f3a\"],[0.8888888888888888,\"#fdca26\"],[1.0,\"#f0f921\"]],\"type\":\"contour\"}],\"heatmapgl\":[{\"colorbar\":{\"outlinewidth\":0,\"ticks\":\"\"},\"colorscale\":[[0.0,\"#0d0887\"],[0.1111111111111111,\"#46039f\"],[0.2222222222222222,\"#7201a8\"],[0.3333333333333333,\"#9c179e\"],[0.4444444444444444,\"#bd3786\"],[0.5555555555555556,\"#d8576b\"],[0.6666666666666666,\"#ed7953\"],[0.7777777777777778,\"#fb9f3a\"],[0.8888888888888888,\"#fdca26\"],[1.0,\"#f0f921\"]],\"type\":\"heatmapgl\"}],\"heatmap\":[{\"colorbar\":{\"outlinewidth\":0,\"ticks\":\"\"},\"colorscale\":[[0.0,\"#0d0887\"],[0.1111111111111111,\"#46039f\"],[0.2222222222222222,\"#7201a8\"],[0.3333333333333333,\"#9c179e\"],[0.4444444444444444,\"#bd3786\"],[0.5555555555555556,\"#d8576b\"],[0.6666666666666666,\"#ed7953\"],[0.7777777777777778,\"#fb9f3a\"],[0.8888888888888888,\"#fdca26\"],[1.0,\"#f0f921\"]],\"type\":\"heatmap\"}],\"histogram2dcontour\":[{\"colorbar\":{\"outlinewidth\":0,\"ticks\":\"\"},\"colorscale\":[[0.0,\"#0d0887\"],[0.1111111111111111,\"#46039f\"],[0.2222222222222222,\"#7201a8\"],[0.3333333333333333,\"#9c179e\"],[0.4444444444444444,\"#bd3786\"],[0.5555555555555556,\"#d8576b\"],[0.6666666666666666,\"#ed7953\"],[0.7777777777777778,\"#fb9f3a\"],[0.8888888888888888,\"#fdca26\"],[1.0,\"#f0f921\"]],\"type\":\"histogram2dcontour\"}],\"histogram2d\":[{\"colorbar\":{\"outlinewidth\":0,\"ticks\":\"\"},\"colorscale\":[[0.0,\"#0d0887\"],[0.1111111111111111,\"#46039f\"],[0.2222222222222222,\"#7201a8\"],[0.3333333333333333,\"#9c179e\"],[0.4444444444444444,\"#bd3786\"],[0.5555555555555556,\"#d8576b\"],[0.6666666666666666,\"#ed7953\"],[0.7777777777777778,\"#fb9f3a\"],[0.8888888888888888,\"#fdca26\"],[1.0,\"#f0f921\"]],\"type\":\"histogram2d\"}],\"histogram\":[{\"marker\":{\"pattern\":{\"fillmode\":\"overlay\",\"size\":10,\"solidity\":0.2}},\"type\":\"histogram\"}],\"mesh3d\":[{\"colorbar\":{\"outlinewidth\":0,\"ticks\":\"\"},\"type\":\"mesh3d\"}],\"parcoords\":[{\"line\":{\"colorbar\":{\"outlinewidth\":0,\"ticks\":\"\"}},\"type\":\"parcoords\"}],\"pie\":[{\"automargin\":true,\"type\":\"pie\"}],\"scatter3d\":[{\"line\":{\"colorbar\":{\"outlinewidth\":0,\"ticks\":\"\"}},\"marker\":{\"colorbar\":{\"outlinewidth\":0,\"ticks\":\"\"}},\"type\":\"scatter3d\"}],\"scattercarpet\":[{\"marker\":{\"colorbar\":{\"outlinewidth\":0,\"ticks\":\"\"}},\"type\":\"scattercarpet\"}],\"scattergeo\":[{\"marker\":{\"colorbar\":{\"outlinewidth\":0,\"ticks\":\"\"}},\"type\":\"scattergeo\"}],\"scattergl\":[{\"marker\":{\"colorbar\":{\"outlinewidth\":0,\"ticks\":\"\"}},\"type\":\"scattergl\"}],\"scattermapbox\":[{\"marker\":{\"colorbar\":{\"outlinewidth\":0,\"ticks\":\"\"}},\"type\":\"scattermapbox\"}],\"scatterpolargl\":[{\"marker\":{\"colorbar\":{\"outlinewidth\":0,\"ticks\":\"\"}},\"type\":\"scatterpolargl\"}],\"scatterpolar\":[{\"marker\":{\"colorbar\":{\"outlinewidth\":0,\"ticks\":\"\"}},\"type\":\"scatterpolar\"}],\"scatter\":[{\"marker\":{\"colorbar\":{\"outlinewidth\":0,\"ticks\":\"\"}},\"type\":\"scatter\"}],\"scatterternary\":[{\"marker\":{\"colorbar\":{\"outlinewidth\":0,\"ticks\":\"\"}},\"type\":\"scatterternary\"}],\"surface\":[{\"colorbar\":{\"outlinewidth\":0,\"ticks\":\"\"},\"colorscale\":[[0.0,\"#0d0887\"],[0.1111111111111111,\"#46039f\"],[0.2222222222222222,\"#7201a8\"],[0.3333333333333333,\"#9c179e\"],[0.4444444444444444,\"#bd3786\"],[0.5555555555555556,\"#d8576b\"],[0.6666666666666666,\"#ed7953\"],[0.7777777777777778,\"#fb9f3a\"],[0.8888888888888888,\"#fdca26\"],[1.0,\"#f0f921\"]],\"type\":\"surface\"}],\"table\":[{\"cells\":{\"fill\":{\"color\":\"#EBF0F8\"},\"line\":{\"color\":\"white\"}},\"header\":{\"fill\":{\"color\":\"#C8D4E3\"},\"line\":{\"color\":\"white\"}},\"type\":\"table\"}]},\"layout\":{\"annotationdefaults\":{\"arrowcolor\":\"#2a3f5f\",\"arrowhead\":0,\"arrowwidth\":1},\"autotypenumbers\":\"strict\",\"coloraxis\":{\"colorbar\":{\"outlinewidth\":0,\"ticks\":\"\"}},\"colorscale\":{\"diverging\":[[0,\"#8e0152\"],[0.1,\"#c51b7d\"],[0.2,\"#de77ae\"],[0.3,\"#f1b6da\"],[0.4,\"#fde0ef\"],[0.5,\"#f7f7f7\"],[0.6,\"#e6f5d0\"],[0.7,\"#b8e186\"],[0.8,\"#7fbc41\"],[0.9,\"#4d9221\"],[1,\"#276419\"]],\"sequential\":[[0.0,\"#0d0887\"],[0.1111111111111111,\"#46039f\"],[0.2222222222222222,\"#7201a8\"],[0.3333333333333333,\"#9c179e\"],[0.4444444444444444,\"#bd3786\"],[0.5555555555555556,\"#d8576b\"],[0.6666666666666666,\"#ed7953\"],[0.7777777777777778,\"#fb9f3a\"],[0.8888888888888888,\"#fdca26\"],[1.0,\"#f0f921\"]],\"sequentialminus\":[[0.0,\"#0d0887\"],[0.1111111111111111,\"#46039f\"],[0.2222222222222222,\"#7201a8\"],[0.3333333333333333,\"#9c179e\"],[0.4444444444444444,\"#bd3786\"],[0.5555555555555556,\"#d8576b\"],[0.6666666666666666,\"#ed7953\"],[0.7777777777777778,\"#fb9f3a\"],[0.8888888888888888,\"#fdca26\"],[1.0,\"#f0f921\"]]},\"colorway\":[\"#636efa\",\"#EF553B\",\"#00cc96\",\"#ab63fa\",\"#FFA15A\",\"#19d3f3\",\"#FF6692\",\"#B6E880\",\"#FF97FF\",\"#FECB52\"],\"font\":{\"color\":\"#2a3f5f\"},\"geo\":{\"bgcolor\":\"white\",\"lakecolor\":\"white\",\"landcolor\":\"#E5ECF6\",\"showlakes\":true,\"showland\":true,\"subunitcolor\":\"white\"},\"hoverlabel\":{\"align\":\"left\"},\"hovermode\":\"closest\",\"mapbox\":{\"style\":\"light\"},\"paper_bgcolor\":\"white\",\"plot_bgcolor\":\"#E5ECF6\",\"polar\":{\"angularaxis\":{\"gridcolor\":\"white\",\"linecolor\":\"white\",\"ticks\":\"\"},\"bgcolor\":\"#E5ECF6\",\"radialaxis\":{\"gridcolor\":\"white\",\"linecolor\":\"white\",\"ticks\":\"\"}},\"scene\":{\"xaxis\":{\"backgroundcolor\":\"#E5ECF6\",\"gridcolor\":\"white\",\"gridwidth\":2,\"linecolor\":\"white\",\"showbackground\":true,\"ticks\":\"\",\"zerolinecolor\":\"white\"},\"yaxis\":{\"backgroundcolor\":\"#E5ECF6\",\"gridcolor\":\"white\",\"gridwidth\":2,\"linecolor\":\"white\",\"showbackground\":true,\"ticks\":\"\",\"zerolinecolor\":\"white\"},\"zaxis\":{\"backgroundcolor\":\"#E5ECF6\",\"gridcolor\":\"white\",\"gridwidth\":2,\"linecolor\":\"white\",\"showbackground\":true,\"ticks\":\"\",\"zerolinecolor\":\"white\"}},\"shapedefaults\":{\"line\":{\"color\":\"#2a3f5f\"}},\"ternary\":{\"aaxis\":{\"gridcolor\":\"white\",\"linecolor\":\"white\",\"ticks\":\"\"},\"baxis\":{\"gridcolor\":\"white\",\"linecolor\":\"white\",\"ticks\":\"\"},\"bgcolor\":\"#E5ECF6\",\"caxis\":{\"gridcolor\":\"white\",\"linecolor\":\"white\",\"ticks\":\"\"}},\"title\":{\"x\":0.05},\"xaxis\":{\"automargin\":true,\"gridcolor\":\"white\",\"linecolor\":\"white\",\"ticks\":\"\",\"title\":{\"standoff\":15},\"zerolinecolor\":\"white\",\"zerolinewidth\":2},\"yaxis\":{\"automargin\":true,\"gridcolor\":\"white\",\"linecolor\":\"white\",\"ticks\":\"\",\"title\":{\"standoff\":15},\"zerolinecolor\":\"white\",\"zerolinewidth\":2}}},\"xaxis\":{\"dtick\":1,\"gridwidth\":2,\"showticklabels\":false,\"tick0\":-0.5,\"ticks\":\"\",\"zeroline\":false},\"yaxis\":{\"autorange\":\"reversed\",\"dtick\":1,\"gridwidth\":2,\"showticklabels\":false,\"tick0\":0.5,\"ticks\":\"\",\"zeroline\":false}},                        {\"responsive\": true}                    ).then(function(){\n",
       "                            \n",
       "var gd = document.getElementById('1cc1666b-bc68-40c3-a054-c7e2a2a79e98');\n",
       "var x = new MutationObserver(function (mutations, observer) {{\n",
       "        var display = window.getComputedStyle(gd).display;\n",
       "        if (!display || display === 'none') {{\n",
       "            console.log([gd, 'removed!']);\n",
       "            Plotly.purge(gd);\n",
       "            observer.disconnect();\n",
       "        }}\n",
       "}});\n",
       "\n",
       "// Listen for the removal of the full notebook cells\n",
       "var notebookContainer = gd.closest('#notebook-container');\n",
       "if (notebookContainer) {{\n",
       "    x.observe(notebookContainer, {childList: true});\n",
       "}}\n",
       "\n",
       "// Listen for the clearing of the current output cell\n",
       "var outputEl = gd.closest('.output');\n",
       "if (outputEl) {{\n",
       "    x.observe(outputEl, {childList: true});\n",
       "}}\n",
       "\n",
       "                        })                };                });            </script>        </div>"
      ]
     },
     "metadata": {},
     "output_type": "display_data"
    },
    {
     "data": {
      "application/vnd.plotly.v1+json": {
       "config": {
        "linkText": "Export to plotly.com",
        "plotlyServerURL": "https://plotly.com",
        "showLink": false
       },
       "data": [
        {
         "type": "bar",
         "x": [
          "MIT",
          "Stanford",
          "Harvard",
          "U.Penn",
          "Princeton",
          "Chicago",
          "Georgetown",
          "Tufts",
          "Yale",
          "Columbia",
          "Duke",
          "Dartmouth",
          "NYU",
          "Notre Dame",
          "Cornell",
          "Michigan",
          "Brown",
          "Berkeley",
          "Emory",
          "UCLA",
          "SoCal"
         ],
         "y": [
          58,
          55,
          53,
          49,
          47,
          40,
          37,
          36,
          35,
          33,
          31,
          30,
          27,
          27,
          27,
          22,
          20,
          17,
          14,
          14,
          9
         ]
        }
       ],
       "layout": {
        "template": {
         "data": {
          "bar": [
           {
            "error_x": {
             "color": "#2a3f5f"
            },
            "error_y": {
             "color": "#2a3f5f"
            },
            "marker": {
             "line": {
              "color": "#E5ECF6",
              "width": 0.5
             },
             "pattern": {
              "fillmode": "overlay",
              "size": 10,
              "solidity": 0.2
             }
            },
            "type": "bar"
           }
          ],
          "barpolar": [
           {
            "marker": {
             "line": {
              "color": "#E5ECF6",
              "width": 0.5
             },
             "pattern": {
              "fillmode": "overlay",
              "size": 10,
              "solidity": 0.2
             }
            },
            "type": "barpolar"
           }
          ],
          "carpet": [
           {
            "aaxis": {
             "endlinecolor": "#2a3f5f",
             "gridcolor": "white",
             "linecolor": "white",
             "minorgridcolor": "white",
             "startlinecolor": "#2a3f5f"
            },
            "baxis": {
             "endlinecolor": "#2a3f5f",
             "gridcolor": "white",
             "linecolor": "white",
             "minorgridcolor": "white",
             "startlinecolor": "#2a3f5f"
            },
            "type": "carpet"
           }
          ],
          "choropleth": [
           {
            "colorbar": {
             "outlinewidth": 0,
             "ticks": ""
            },
            "type": "choropleth"
           }
          ],
          "contour": [
           {
            "colorbar": {
             "outlinewidth": 0,
             "ticks": ""
            },
            "colorscale": [
             [
              0,
              "#0d0887"
             ],
             [
              0.1111111111111111,
              "#46039f"
             ],
             [
              0.2222222222222222,
              "#7201a8"
             ],
             [
              0.3333333333333333,
              "#9c179e"
             ],
             [
              0.4444444444444444,
              "#bd3786"
             ],
             [
              0.5555555555555556,
              "#d8576b"
             ],
             [
              0.6666666666666666,
              "#ed7953"
             ],
             [
              0.7777777777777778,
              "#fb9f3a"
             ],
             [
              0.8888888888888888,
              "#fdca26"
             ],
             [
              1,
              "#f0f921"
             ]
            ],
            "type": "contour"
           }
          ],
          "contourcarpet": [
           {
            "colorbar": {
             "outlinewidth": 0,
             "ticks": ""
            },
            "type": "contourcarpet"
           }
          ],
          "heatmap": [
           {
            "colorbar": {
             "outlinewidth": 0,
             "ticks": ""
            },
            "colorscale": [
             [
              0,
              "#0d0887"
             ],
             [
              0.1111111111111111,
              "#46039f"
             ],
             [
              0.2222222222222222,
              "#7201a8"
             ],
             [
              0.3333333333333333,
              "#9c179e"
             ],
             [
              0.4444444444444444,
              "#bd3786"
             ],
             [
              0.5555555555555556,
              "#d8576b"
             ],
             [
              0.6666666666666666,
              "#ed7953"
             ],
             [
              0.7777777777777778,
              "#fb9f3a"
             ],
             [
              0.8888888888888888,
              "#fdca26"
             ],
             [
              1,
              "#f0f921"
             ]
            ],
            "type": "heatmap"
           }
          ],
          "heatmapgl": [
           {
            "colorbar": {
             "outlinewidth": 0,
             "ticks": ""
            },
            "colorscale": [
             [
              0,
              "#0d0887"
             ],
             [
              0.1111111111111111,
              "#46039f"
             ],
             [
              0.2222222222222222,
              "#7201a8"
             ],
             [
              0.3333333333333333,
              "#9c179e"
             ],
             [
              0.4444444444444444,
              "#bd3786"
             ],
             [
              0.5555555555555556,
              "#d8576b"
             ],
             [
              0.6666666666666666,
              "#ed7953"
             ],
             [
              0.7777777777777778,
              "#fb9f3a"
             ],
             [
              0.8888888888888888,
              "#fdca26"
             ],
             [
              1,
              "#f0f921"
             ]
            ],
            "type": "heatmapgl"
           }
          ],
          "histogram": [
           {
            "marker": {
             "pattern": {
              "fillmode": "overlay",
              "size": 10,
              "solidity": 0.2
             }
            },
            "type": "histogram"
           }
          ],
          "histogram2d": [
           {
            "colorbar": {
             "outlinewidth": 0,
             "ticks": ""
            },
            "colorscale": [
             [
              0,
              "#0d0887"
             ],
             [
              0.1111111111111111,
              "#46039f"
             ],
             [
              0.2222222222222222,
              "#7201a8"
             ],
             [
              0.3333333333333333,
              "#9c179e"
             ],
             [
              0.4444444444444444,
              "#bd3786"
             ],
             [
              0.5555555555555556,
              "#d8576b"
             ],
             [
              0.6666666666666666,
              "#ed7953"
             ],
             [
              0.7777777777777778,
              "#fb9f3a"
             ],
             [
              0.8888888888888888,
              "#fdca26"
             ],
             [
              1,
              "#f0f921"
             ]
            ],
            "type": "histogram2d"
           }
          ],
          "histogram2dcontour": [
           {
            "colorbar": {
             "outlinewidth": 0,
             "ticks": ""
            },
            "colorscale": [
             [
              0,
              "#0d0887"
             ],
             [
              0.1111111111111111,
              "#46039f"
             ],
             [
              0.2222222222222222,
              "#7201a8"
             ],
             [
              0.3333333333333333,
              "#9c179e"
             ],
             [
              0.4444444444444444,
              "#bd3786"
             ],
             [
              0.5555555555555556,
              "#d8576b"
             ],
             [
              0.6666666666666666,
              "#ed7953"
             ],
             [
              0.7777777777777778,
              "#fb9f3a"
             ],
             [
              0.8888888888888888,
              "#fdca26"
             ],
             [
              1,
              "#f0f921"
             ]
            ],
            "type": "histogram2dcontour"
           }
          ],
          "mesh3d": [
           {
            "colorbar": {
             "outlinewidth": 0,
             "ticks": ""
            },
            "type": "mesh3d"
           }
          ],
          "parcoords": [
           {
            "line": {
             "colorbar": {
              "outlinewidth": 0,
              "ticks": ""
             }
            },
            "type": "parcoords"
           }
          ],
          "pie": [
           {
            "automargin": true,
            "type": "pie"
           }
          ],
          "scatter": [
           {
            "marker": {
             "colorbar": {
              "outlinewidth": 0,
              "ticks": ""
             }
            },
            "type": "scatter"
           }
          ],
          "scatter3d": [
           {
            "line": {
             "colorbar": {
              "outlinewidth": 0,
              "ticks": ""
             }
            },
            "marker": {
             "colorbar": {
              "outlinewidth": 0,
              "ticks": ""
             }
            },
            "type": "scatter3d"
           }
          ],
          "scattercarpet": [
           {
            "marker": {
             "colorbar": {
              "outlinewidth": 0,
              "ticks": ""
             }
            },
            "type": "scattercarpet"
           }
          ],
          "scattergeo": [
           {
            "marker": {
             "colorbar": {
              "outlinewidth": 0,
              "ticks": ""
             }
            },
            "type": "scattergeo"
           }
          ],
          "scattergl": [
           {
            "marker": {
             "colorbar": {
              "outlinewidth": 0,
              "ticks": ""
             }
            },
            "type": "scattergl"
           }
          ],
          "scattermapbox": [
           {
            "marker": {
             "colorbar": {
              "outlinewidth": 0,
              "ticks": ""
             }
            },
            "type": "scattermapbox"
           }
          ],
          "scatterpolar": [
           {
            "marker": {
             "colorbar": {
              "outlinewidth": 0,
              "ticks": ""
             }
            },
            "type": "scatterpolar"
           }
          ],
          "scatterpolargl": [
           {
            "marker": {
             "colorbar": {
              "outlinewidth": 0,
              "ticks": ""
             }
            },
            "type": "scatterpolargl"
           }
          ],
          "scatterternary": [
           {
            "marker": {
             "colorbar": {
              "outlinewidth": 0,
              "ticks": ""
             }
            },
            "type": "scatterternary"
           }
          ],
          "surface": [
           {
            "colorbar": {
             "outlinewidth": 0,
             "ticks": ""
            },
            "colorscale": [
             [
              0,
              "#0d0887"
             ],
             [
              0.1111111111111111,
              "#46039f"
             ],
             [
              0.2222222222222222,
              "#7201a8"
             ],
             [
              0.3333333333333333,
              "#9c179e"
             ],
             [
              0.4444444444444444,
              "#bd3786"
             ],
             [
              0.5555555555555556,
              "#d8576b"
             ],
             [
              0.6666666666666666,
              "#ed7953"
             ],
             [
              0.7777777777777778,
              "#fb9f3a"
             ],
             [
              0.8888888888888888,
              "#fdca26"
             ],
             [
              1,
              "#f0f921"
             ]
            ],
            "type": "surface"
           }
          ],
          "table": [
           {
            "cells": {
             "fill": {
              "color": "#EBF0F8"
             },
             "line": {
              "color": "white"
             }
            },
            "header": {
             "fill": {
              "color": "#C8D4E3"
             },
             "line": {
              "color": "white"
             }
            },
            "type": "table"
           }
          ]
         },
         "layout": {
          "annotationdefaults": {
           "arrowcolor": "#2a3f5f",
           "arrowhead": 0,
           "arrowwidth": 1
          },
          "autotypenumbers": "strict",
          "coloraxis": {
           "colorbar": {
            "outlinewidth": 0,
            "ticks": ""
           }
          },
          "colorscale": {
           "diverging": [
            [
             0,
             "#8e0152"
            ],
            [
             0.1,
             "#c51b7d"
            ],
            [
             0.2,
             "#de77ae"
            ],
            [
             0.3,
             "#f1b6da"
            ],
            [
             0.4,
             "#fde0ef"
            ],
            [
             0.5,
             "#f7f7f7"
            ],
            [
             0.6,
             "#e6f5d0"
            ],
            [
             0.7,
             "#b8e186"
            ],
            [
             0.8,
             "#7fbc41"
            ],
            [
             0.9,
             "#4d9221"
            ],
            [
             1,
             "#276419"
            ]
           ],
           "sequential": [
            [
             0,
             "#0d0887"
            ],
            [
             0.1111111111111111,
             "#46039f"
            ],
            [
             0.2222222222222222,
             "#7201a8"
            ],
            [
             0.3333333333333333,
             "#9c179e"
            ],
            [
             0.4444444444444444,
             "#bd3786"
            ],
            [
             0.5555555555555556,
             "#d8576b"
            ],
            [
             0.6666666666666666,
             "#ed7953"
            ],
            [
             0.7777777777777778,
             "#fb9f3a"
            ],
            [
             0.8888888888888888,
             "#fdca26"
            ],
            [
             1,
             "#f0f921"
            ]
           ],
           "sequentialminus": [
            [
             0,
             "#0d0887"
            ],
            [
             0.1111111111111111,
             "#46039f"
            ],
            [
             0.2222222222222222,
             "#7201a8"
            ],
            [
             0.3333333333333333,
             "#9c179e"
            ],
            [
             0.4444444444444444,
             "#bd3786"
            ],
            [
             0.5555555555555556,
             "#d8576b"
            ],
            [
             0.6666666666666666,
             "#ed7953"
            ],
            [
             0.7777777777777778,
             "#fb9f3a"
            ],
            [
             0.8888888888888888,
             "#fdca26"
            ],
            [
             1,
             "#f0f921"
            ]
           ]
          },
          "colorway": [
           "#636efa",
           "#EF553B",
           "#00cc96",
           "#ab63fa",
           "#FFA15A",
           "#19d3f3",
           "#FF6692",
           "#B6E880",
           "#FF97FF",
           "#FECB52"
          ],
          "font": {
           "color": "#2a3f5f"
          },
          "geo": {
           "bgcolor": "white",
           "lakecolor": "white",
           "landcolor": "#E5ECF6",
           "showlakes": true,
           "showland": true,
           "subunitcolor": "white"
          },
          "hoverlabel": {
           "align": "left"
          },
          "hovermode": "closest",
          "mapbox": {
           "style": "light"
          },
          "paper_bgcolor": "white",
          "plot_bgcolor": "#E5ECF6",
          "polar": {
           "angularaxis": {
            "gridcolor": "white",
            "linecolor": "white",
            "ticks": ""
           },
           "bgcolor": "#E5ECF6",
           "radialaxis": {
            "gridcolor": "white",
            "linecolor": "white",
            "ticks": ""
           }
          },
          "scene": {
           "xaxis": {
            "backgroundcolor": "#E5ECF6",
            "gridcolor": "white",
            "gridwidth": 2,
            "linecolor": "white",
            "showbackground": true,
            "ticks": "",
            "zerolinecolor": "white"
           },
           "yaxis": {
            "backgroundcolor": "#E5ECF6",
            "gridcolor": "white",
            "gridwidth": 2,
            "linecolor": "white",
            "showbackground": true,
            "ticks": "",
            "zerolinecolor": "white"
           },
           "zaxis": {
            "backgroundcolor": "#E5ECF6",
            "gridcolor": "white",
            "gridwidth": 2,
            "linecolor": "white",
            "showbackground": true,
            "ticks": "",
            "zerolinecolor": "white"
           }
          },
          "shapedefaults": {
           "line": {
            "color": "#2a3f5f"
           }
          },
          "ternary": {
           "aaxis": {
            "gridcolor": "white",
            "linecolor": "white",
            "ticks": ""
           },
           "baxis": {
            "gridcolor": "white",
            "linecolor": "white",
            "ticks": ""
           },
           "bgcolor": "#E5ECF6",
           "caxis": {
            "gridcolor": "white",
            "linecolor": "white",
            "ticks": ""
           }
          },
          "title": {
           "x": 0.05
          },
          "xaxis": {
           "automargin": true,
           "gridcolor": "white",
           "linecolor": "white",
           "ticks": "",
           "title": {
            "standoff": 15
           },
           "zerolinecolor": "white",
           "zerolinewidth": 2
          },
          "yaxis": {
           "automargin": true,
           "gridcolor": "white",
           "linecolor": "white",
           "ticks": "",
           "title": {
            "standoff": 15
           },
           "zerolinecolor": "white",
           "zerolinewidth": 2
          }
         }
        }
       }
      },
      "text/html": [
       "<div>                            <div id=\"784ed0f4-f3dc-42af-8a2b-9c9e8478183a\" class=\"plotly-graph-div\" style=\"height:525px; width:100%;\"></div>            <script type=\"text/javascript\">                require([\"plotly\"], function(Plotly) {                    window.PLOTLYENV=window.PLOTLYENV || {};                                    if (document.getElementById(\"784ed0f4-f3dc-42af-8a2b-9c9e8478183a\")) {                    Plotly.newPlot(                        \"784ed0f4-f3dc-42af-8a2b-9c9e8478183a\",                        [{\"x\":[\"MIT\",\"Stanford\",\"Harvard\",\"U.Penn\",\"Princeton\",\"Chicago\",\"Georgetown\",\"Tufts\",\"Yale\",\"Columbia\",\"Duke\",\"Dartmouth\",\"NYU\",\"Notre Dame\",\"Cornell\",\"Michigan\",\"Brown\",\"Berkeley\",\"Emory\",\"UCLA\",\"SoCal\"],\"y\":[58,55,53,49,47,40,37,36,35,33,31,30,27,27,27,22,20,17,14,14,9],\"type\":\"bar\"}],                        {\"template\":{\"data\":{\"barpolar\":[{\"marker\":{\"line\":{\"color\":\"#E5ECF6\",\"width\":0.5},\"pattern\":{\"fillmode\":\"overlay\",\"size\":10,\"solidity\":0.2}},\"type\":\"barpolar\"}],\"bar\":[{\"error_x\":{\"color\":\"#2a3f5f\"},\"error_y\":{\"color\":\"#2a3f5f\"},\"marker\":{\"line\":{\"color\":\"#E5ECF6\",\"width\":0.5},\"pattern\":{\"fillmode\":\"overlay\",\"size\":10,\"solidity\":0.2}},\"type\":\"bar\"}],\"carpet\":[{\"aaxis\":{\"endlinecolor\":\"#2a3f5f\",\"gridcolor\":\"white\",\"linecolor\":\"white\",\"minorgridcolor\":\"white\",\"startlinecolor\":\"#2a3f5f\"},\"baxis\":{\"endlinecolor\":\"#2a3f5f\",\"gridcolor\":\"white\",\"linecolor\":\"white\",\"minorgridcolor\":\"white\",\"startlinecolor\":\"#2a3f5f\"},\"type\":\"carpet\"}],\"choropleth\":[{\"colorbar\":{\"outlinewidth\":0,\"ticks\":\"\"},\"type\":\"choropleth\"}],\"contourcarpet\":[{\"colorbar\":{\"outlinewidth\":0,\"ticks\":\"\"},\"type\":\"contourcarpet\"}],\"contour\":[{\"colorbar\":{\"outlinewidth\":0,\"ticks\":\"\"},\"colorscale\":[[0.0,\"#0d0887\"],[0.1111111111111111,\"#46039f\"],[0.2222222222222222,\"#7201a8\"],[0.3333333333333333,\"#9c179e\"],[0.4444444444444444,\"#bd3786\"],[0.5555555555555556,\"#d8576b\"],[0.6666666666666666,\"#ed7953\"],[0.7777777777777778,\"#fb9f3a\"],[0.8888888888888888,\"#fdca26\"],[1.0,\"#f0f921\"]],\"type\":\"contour\"}],\"heatmapgl\":[{\"colorbar\":{\"outlinewidth\":0,\"ticks\":\"\"},\"colorscale\":[[0.0,\"#0d0887\"],[0.1111111111111111,\"#46039f\"],[0.2222222222222222,\"#7201a8\"],[0.3333333333333333,\"#9c179e\"],[0.4444444444444444,\"#bd3786\"],[0.5555555555555556,\"#d8576b\"],[0.6666666666666666,\"#ed7953\"],[0.7777777777777778,\"#fb9f3a\"],[0.8888888888888888,\"#fdca26\"],[1.0,\"#f0f921\"]],\"type\":\"heatmapgl\"}],\"heatmap\":[{\"colorbar\":{\"outlinewidth\":0,\"ticks\":\"\"},\"colorscale\":[[0.0,\"#0d0887\"],[0.1111111111111111,\"#46039f\"],[0.2222222222222222,\"#7201a8\"],[0.3333333333333333,\"#9c179e\"],[0.4444444444444444,\"#bd3786\"],[0.5555555555555556,\"#d8576b\"],[0.6666666666666666,\"#ed7953\"],[0.7777777777777778,\"#fb9f3a\"],[0.8888888888888888,\"#fdca26\"],[1.0,\"#f0f921\"]],\"type\":\"heatmap\"}],\"histogram2dcontour\":[{\"colorbar\":{\"outlinewidth\":0,\"ticks\":\"\"},\"colorscale\":[[0.0,\"#0d0887\"],[0.1111111111111111,\"#46039f\"],[0.2222222222222222,\"#7201a8\"],[0.3333333333333333,\"#9c179e\"],[0.4444444444444444,\"#bd3786\"],[0.5555555555555556,\"#d8576b\"],[0.6666666666666666,\"#ed7953\"],[0.7777777777777778,\"#fb9f3a\"],[0.8888888888888888,\"#fdca26\"],[1.0,\"#f0f921\"]],\"type\":\"histogram2dcontour\"}],\"histogram2d\":[{\"colorbar\":{\"outlinewidth\":0,\"ticks\":\"\"},\"colorscale\":[[0.0,\"#0d0887\"],[0.1111111111111111,\"#46039f\"],[0.2222222222222222,\"#7201a8\"],[0.3333333333333333,\"#9c179e\"],[0.4444444444444444,\"#bd3786\"],[0.5555555555555556,\"#d8576b\"],[0.6666666666666666,\"#ed7953\"],[0.7777777777777778,\"#fb9f3a\"],[0.8888888888888888,\"#fdca26\"],[1.0,\"#f0f921\"]],\"type\":\"histogram2d\"}],\"histogram\":[{\"marker\":{\"pattern\":{\"fillmode\":\"overlay\",\"size\":10,\"solidity\":0.2}},\"type\":\"histogram\"}],\"mesh3d\":[{\"colorbar\":{\"outlinewidth\":0,\"ticks\":\"\"},\"type\":\"mesh3d\"}],\"parcoords\":[{\"line\":{\"colorbar\":{\"outlinewidth\":0,\"ticks\":\"\"}},\"type\":\"parcoords\"}],\"pie\":[{\"automargin\":true,\"type\":\"pie\"}],\"scatter3d\":[{\"line\":{\"colorbar\":{\"outlinewidth\":0,\"ticks\":\"\"}},\"marker\":{\"colorbar\":{\"outlinewidth\":0,\"ticks\":\"\"}},\"type\":\"scatter3d\"}],\"scattercarpet\":[{\"marker\":{\"colorbar\":{\"outlinewidth\":0,\"ticks\":\"\"}},\"type\":\"scattercarpet\"}],\"scattergeo\":[{\"marker\":{\"colorbar\":{\"outlinewidth\":0,\"ticks\":\"\"}},\"type\":\"scattergeo\"}],\"scattergl\":[{\"marker\":{\"colorbar\":{\"outlinewidth\":0,\"ticks\":\"\"}},\"type\":\"scattergl\"}],\"scattermapbox\":[{\"marker\":{\"colorbar\":{\"outlinewidth\":0,\"ticks\":\"\"}},\"type\":\"scattermapbox\"}],\"scatterpolargl\":[{\"marker\":{\"colorbar\":{\"outlinewidth\":0,\"ticks\":\"\"}},\"type\":\"scatterpolargl\"}],\"scatterpolar\":[{\"marker\":{\"colorbar\":{\"outlinewidth\":0,\"ticks\":\"\"}},\"type\":\"scatterpolar\"}],\"scatter\":[{\"marker\":{\"colorbar\":{\"outlinewidth\":0,\"ticks\":\"\"}},\"type\":\"scatter\"}],\"scatterternary\":[{\"marker\":{\"colorbar\":{\"outlinewidth\":0,\"ticks\":\"\"}},\"type\":\"scatterternary\"}],\"surface\":[{\"colorbar\":{\"outlinewidth\":0,\"ticks\":\"\"},\"colorscale\":[[0.0,\"#0d0887\"],[0.1111111111111111,\"#46039f\"],[0.2222222222222222,\"#7201a8\"],[0.3333333333333333,\"#9c179e\"],[0.4444444444444444,\"#bd3786\"],[0.5555555555555556,\"#d8576b\"],[0.6666666666666666,\"#ed7953\"],[0.7777777777777778,\"#fb9f3a\"],[0.8888888888888888,\"#fdca26\"],[1.0,\"#f0f921\"]],\"type\":\"surface\"}],\"table\":[{\"cells\":{\"fill\":{\"color\":\"#EBF0F8\"},\"line\":{\"color\":\"white\"}},\"header\":{\"fill\":{\"color\":\"#C8D4E3\"},\"line\":{\"color\":\"white\"}},\"type\":\"table\"}]},\"layout\":{\"annotationdefaults\":{\"arrowcolor\":\"#2a3f5f\",\"arrowhead\":0,\"arrowwidth\":1},\"autotypenumbers\":\"strict\",\"coloraxis\":{\"colorbar\":{\"outlinewidth\":0,\"ticks\":\"\"}},\"colorscale\":{\"diverging\":[[0,\"#8e0152\"],[0.1,\"#c51b7d\"],[0.2,\"#de77ae\"],[0.3,\"#f1b6da\"],[0.4,\"#fde0ef\"],[0.5,\"#f7f7f7\"],[0.6,\"#e6f5d0\"],[0.7,\"#b8e186\"],[0.8,\"#7fbc41\"],[0.9,\"#4d9221\"],[1,\"#276419\"]],\"sequential\":[[0.0,\"#0d0887\"],[0.1111111111111111,\"#46039f\"],[0.2222222222222222,\"#7201a8\"],[0.3333333333333333,\"#9c179e\"],[0.4444444444444444,\"#bd3786\"],[0.5555555555555556,\"#d8576b\"],[0.6666666666666666,\"#ed7953\"],[0.7777777777777778,\"#fb9f3a\"],[0.8888888888888888,\"#fdca26\"],[1.0,\"#f0f921\"]],\"sequentialminus\":[[0.0,\"#0d0887\"],[0.1111111111111111,\"#46039f\"],[0.2222222222222222,\"#7201a8\"],[0.3333333333333333,\"#9c179e\"],[0.4444444444444444,\"#bd3786\"],[0.5555555555555556,\"#d8576b\"],[0.6666666666666666,\"#ed7953\"],[0.7777777777777778,\"#fb9f3a\"],[0.8888888888888888,\"#fdca26\"],[1.0,\"#f0f921\"]]},\"colorway\":[\"#636efa\",\"#EF553B\",\"#00cc96\",\"#ab63fa\",\"#FFA15A\",\"#19d3f3\",\"#FF6692\",\"#B6E880\",\"#FF97FF\",\"#FECB52\"],\"font\":{\"color\":\"#2a3f5f\"},\"geo\":{\"bgcolor\":\"white\",\"lakecolor\":\"white\",\"landcolor\":\"#E5ECF6\",\"showlakes\":true,\"showland\":true,\"subunitcolor\":\"white\"},\"hoverlabel\":{\"align\":\"left\"},\"hovermode\":\"closest\",\"mapbox\":{\"style\":\"light\"},\"paper_bgcolor\":\"white\",\"plot_bgcolor\":\"#E5ECF6\",\"polar\":{\"angularaxis\":{\"gridcolor\":\"white\",\"linecolor\":\"white\",\"ticks\":\"\"},\"bgcolor\":\"#E5ECF6\",\"radialaxis\":{\"gridcolor\":\"white\",\"linecolor\":\"white\",\"ticks\":\"\"}},\"scene\":{\"xaxis\":{\"backgroundcolor\":\"#E5ECF6\",\"gridcolor\":\"white\",\"gridwidth\":2,\"linecolor\":\"white\",\"showbackground\":true,\"ticks\":\"\",\"zerolinecolor\":\"white\"},\"yaxis\":{\"backgroundcolor\":\"#E5ECF6\",\"gridcolor\":\"white\",\"gridwidth\":2,\"linecolor\":\"white\",\"showbackground\":true,\"ticks\":\"\",\"zerolinecolor\":\"white\"},\"zaxis\":{\"backgroundcolor\":\"#E5ECF6\",\"gridcolor\":\"white\",\"gridwidth\":2,\"linecolor\":\"white\",\"showbackground\":true,\"ticks\":\"\",\"zerolinecolor\":\"white\"}},\"shapedefaults\":{\"line\":{\"color\":\"#2a3f5f\"}},\"ternary\":{\"aaxis\":{\"gridcolor\":\"white\",\"linecolor\":\"white\",\"ticks\":\"\"},\"baxis\":{\"gridcolor\":\"white\",\"linecolor\":\"white\",\"ticks\":\"\"},\"bgcolor\":\"#E5ECF6\",\"caxis\":{\"gridcolor\":\"white\",\"linecolor\":\"white\",\"ticks\":\"\"}},\"title\":{\"x\":0.05},\"xaxis\":{\"automargin\":true,\"gridcolor\":\"white\",\"linecolor\":\"white\",\"ticks\":\"\",\"title\":{\"standoff\":15},\"zerolinecolor\":\"white\",\"zerolinewidth\":2},\"yaxis\":{\"automargin\":true,\"gridcolor\":\"white\",\"linecolor\":\"white\",\"ticks\":\"\",\"title\":{\"standoff\":15},\"zerolinecolor\":\"white\",\"zerolinewidth\":2}}}},                        {\"responsive\": true}                    ).then(function(){\n",
       "                            \n",
       "var gd = document.getElementById('784ed0f4-f3dc-42af-8a2b-9c9e8478183a');\n",
       "var x = new MutationObserver(function (mutations, observer) {{\n",
       "        var display = window.getComputedStyle(gd).display;\n",
       "        if (!display || display === 'none') {{\n",
       "            console.log([gd, 'removed!']);\n",
       "            Plotly.purge(gd);\n",
       "            observer.disconnect();\n",
       "        }}\n",
       "}});\n",
       "\n",
       "// Listen for the removal of the full notebook cells\n",
       "var notebookContainer = gd.closest('#notebook-container');\n",
       "if (notebookContainer) {{\n",
       "    x.observe(notebookContainer, {childList: true});\n",
       "}}\n",
       "\n",
       "// Listen for the clearing of the current output cell\n",
       "var outputEl = gd.closest('.output');\n",
       "if (outputEl) {{\n",
       "    x.observe(outputEl, {childList: true});\n",
       "}}\n",
       "\n",
       "                        })                };                });            </script>        </div>"
      ]
     },
     "metadata": {},
     "output_type": "display_data"
    }
   ],
   "source": [
    "import plotly\n",
    "import chart_studio\n",
    "chart_studio.tools.set_credentials_file(username='username', api_key='api_key')\n",
    "import chart_studio.plotly as py\n",
    "import plotly.graph_objs as go\n",
    "import plotly.figure_factory as ff\n",
    "import pandas as pd\n",
    "\n",
    "df = pd.read_csv(\"https://raw.githubusercontent.com/plotly/datasets/master/school_earnings.csv\")\n",
    "\n",
    "table = ff.create_table(df)\n",
    "plotly.offline.iplot(table, filename='jupyter-table1')\n",
    "\n",
    "data = [go.Bar(x=df.School, y=df.Gap)]\n",
    "plotly.offline.iplot(data, filename='jupyter-basic_bar')"
   ]
  },
  {
   "cell_type": "markdown",
   "id": "e7e2ddb7",
   "metadata": {},
   "source": [
    "folium - 지도를 이용한 시각화 - html로 생성하는 것이 가능\n",
    "folium : 지도기반의 시각화를 지원하는 라이브러리"
   ]
  },
  {
   "cell_type": "code",
   "execution_count": 27,
   "id": "c02f77f5",
   "metadata": {},
   "outputs": [
    {
     "ename": "AssertionError",
     "evalue": "You cannot render this Element if it is not in a Figure.",
     "output_type": "error",
     "traceback": [
      "\u001b[1;31m---------------------------------------------------------------------------\u001b[0m",
      "\u001b[1;31mAssertionError\u001b[0m                            Traceback (most recent call last)",
      "\u001b[1;32mC:\\ProgramData\\Anaconda3\\lib\\site-packages\\IPython\\core\\formatters.py\u001b[0m in \u001b[0;36m__call__\u001b[1;34m(self, obj)\u001b[0m\n\u001b[0;32m    343\u001b[0m             \u001b[0mmethod\u001b[0m \u001b[1;33m=\u001b[0m \u001b[0mget_real_method\u001b[0m\u001b[1;33m(\u001b[0m\u001b[0mobj\u001b[0m\u001b[1;33m,\u001b[0m \u001b[0mself\u001b[0m\u001b[1;33m.\u001b[0m\u001b[0mprint_method\u001b[0m\u001b[1;33m)\u001b[0m\u001b[1;33m\u001b[0m\u001b[1;33m\u001b[0m\u001b[0m\n\u001b[0;32m    344\u001b[0m             \u001b[1;32mif\u001b[0m \u001b[0mmethod\u001b[0m \u001b[1;32mis\u001b[0m \u001b[1;32mnot\u001b[0m \u001b[1;32mNone\u001b[0m\u001b[1;33m:\u001b[0m\u001b[1;33m\u001b[0m\u001b[1;33m\u001b[0m\u001b[0m\n\u001b[1;32m--> 345\u001b[1;33m                 \u001b[1;32mreturn\u001b[0m \u001b[0mmethod\u001b[0m\u001b[1;33m(\u001b[0m\u001b[1;33m)\u001b[0m\u001b[1;33m\u001b[0m\u001b[1;33m\u001b[0m\u001b[0m\n\u001b[0m\u001b[0;32m    346\u001b[0m             \u001b[1;32mreturn\u001b[0m \u001b[1;32mNone\u001b[0m\u001b[1;33m\u001b[0m\u001b[1;33m\u001b[0m\u001b[0m\n\u001b[0;32m    347\u001b[0m         \u001b[1;32melse\u001b[0m\u001b[1;33m:\u001b[0m\u001b[1;33m\u001b[0m\u001b[1;33m\u001b[0m\u001b[0m\n",
      "\u001b[1;32mC:\\ProgramData\\Anaconda3\\lib\\site-packages\\folium\\folium.py\u001b[0m in \u001b[0;36m_repr_html_\u001b[1;34m(self, **kwargs)\u001b[0m\n\u001b[0;32m    297\u001b[0m             \u001b[0mself\u001b[0m\u001b[1;33m.\u001b[0m\u001b[0m_parent\u001b[0m \u001b[1;33m=\u001b[0m \u001b[1;32mNone\u001b[0m\u001b[1;33m\u001b[0m\u001b[1;33m\u001b[0m\u001b[0m\n\u001b[0;32m    298\u001b[0m         \u001b[1;32melse\u001b[0m\u001b[1;33m:\u001b[0m\u001b[1;33m\u001b[0m\u001b[1;33m\u001b[0m\u001b[0m\n\u001b[1;32m--> 299\u001b[1;33m             \u001b[0mout\u001b[0m \u001b[1;33m=\u001b[0m \u001b[0mself\u001b[0m\u001b[1;33m.\u001b[0m\u001b[0m_parent\u001b[0m\u001b[1;33m.\u001b[0m\u001b[0m_repr_html_\u001b[0m\u001b[1;33m(\u001b[0m\u001b[1;33m**\u001b[0m\u001b[0mkwargs\u001b[0m\u001b[1;33m)\u001b[0m\u001b[1;33m\u001b[0m\u001b[1;33m\u001b[0m\u001b[0m\n\u001b[0m\u001b[0;32m    300\u001b[0m         \u001b[1;32mreturn\u001b[0m \u001b[0mout\u001b[0m\u001b[1;33m\u001b[0m\u001b[1;33m\u001b[0m\u001b[0m\n\u001b[0;32m    301\u001b[0m \u001b[1;33m\u001b[0m\u001b[0m\n",
      "\u001b[1;32mC:\\ProgramData\\Anaconda3\\lib\\site-packages\\branca\\element.py\u001b[0m in \u001b[0;36m_repr_html_\u001b[1;34m(self, **kwargs)\u001b[0m\n\u001b[0;32m    329\u001b[0m \u001b[1;33m\u001b[0m\u001b[0m\n\u001b[0;32m    330\u001b[0m         \"\"\"\n\u001b[1;32m--> 331\u001b[1;33m         \u001b[0mhtml\u001b[0m \u001b[1;33m=\u001b[0m \u001b[0murllib\u001b[0m\u001b[1;33m.\u001b[0m\u001b[0mparse\u001b[0m\u001b[1;33m.\u001b[0m\u001b[0mquote\u001b[0m\u001b[1;33m(\u001b[0m\u001b[0mself\u001b[0m\u001b[1;33m.\u001b[0m\u001b[0mrender\u001b[0m\u001b[1;33m(\u001b[0m\u001b[1;33m**\u001b[0m\u001b[0mkwargs\u001b[0m\u001b[1;33m)\u001b[0m\u001b[1;33m)\u001b[0m\u001b[1;33m\u001b[0m\u001b[1;33m\u001b[0m\u001b[0m\n\u001b[0m\u001b[0;32m    332\u001b[0m         onload = (\n\u001b[0;32m    333\u001b[0m             \u001b[1;34m'this.contentDocument.open();'\u001b[0m\u001b[1;33m\u001b[0m\u001b[1;33m\u001b[0m\u001b[0m\n",
      "\u001b[1;32mC:\\ProgramData\\Anaconda3\\lib\\site-packages\\branca\\element.py\u001b[0m in \u001b[0;36mrender\u001b[1;34m(self, **kwargs)\u001b[0m\n\u001b[0;32m    317\u001b[0m         \u001b[1;34m\"\"\"Renders the HTML representation of the element.\"\"\"\u001b[0m\u001b[1;33m\u001b[0m\u001b[1;33m\u001b[0m\u001b[0m\n\u001b[0;32m    318\u001b[0m         \u001b[1;32mfor\u001b[0m \u001b[0mname\u001b[0m\u001b[1;33m,\u001b[0m \u001b[0mchild\u001b[0m \u001b[1;32min\u001b[0m \u001b[0mself\u001b[0m\u001b[1;33m.\u001b[0m\u001b[0m_children\u001b[0m\u001b[1;33m.\u001b[0m\u001b[0mitems\u001b[0m\u001b[1;33m(\u001b[0m\u001b[1;33m)\u001b[0m\u001b[1;33m:\u001b[0m\u001b[1;33m\u001b[0m\u001b[1;33m\u001b[0m\u001b[0m\n\u001b[1;32m--> 319\u001b[1;33m             \u001b[0mchild\u001b[0m\u001b[1;33m.\u001b[0m\u001b[0mrender\u001b[0m\u001b[1;33m(\u001b[0m\u001b[1;33m**\u001b[0m\u001b[0mkwargs\u001b[0m\u001b[1;33m)\u001b[0m\u001b[1;33m\u001b[0m\u001b[1;33m\u001b[0m\u001b[0m\n\u001b[0m\u001b[0;32m    320\u001b[0m         \u001b[1;32mreturn\u001b[0m \u001b[0mself\u001b[0m\u001b[1;33m.\u001b[0m\u001b[0m_template\u001b[0m\u001b[1;33m.\u001b[0m\u001b[0mrender\u001b[0m\u001b[1;33m(\u001b[0m\u001b[0mthis\u001b[0m\u001b[1;33m=\u001b[0m\u001b[0mself\u001b[0m\u001b[1;33m,\u001b[0m \u001b[0mkwargs\u001b[0m\u001b[1;33m=\u001b[0m\u001b[0mkwargs\u001b[0m\u001b[1;33m)\u001b[0m\u001b[1;33m\u001b[0m\u001b[1;33m\u001b[0m\u001b[0m\n\u001b[0;32m    321\u001b[0m \u001b[1;33m\u001b[0m\u001b[0m\n",
      "\u001b[1;32mC:\\ProgramData\\Anaconda3\\lib\\site-packages\\folium\\folium.py\u001b[0m in \u001b[0;36mrender\u001b[1;34m(self, **kwargs)\u001b[0m\n\u001b[0;32m    366\u001b[0m             '</style>'), name='map_style')\n\u001b[0;32m    367\u001b[0m \u001b[1;33m\u001b[0m\u001b[0m\n\u001b[1;32m--> 368\u001b[1;33m         \u001b[0msuper\u001b[0m\u001b[1;33m(\u001b[0m\u001b[0mMap\u001b[0m\u001b[1;33m,\u001b[0m \u001b[0mself\u001b[0m\u001b[1;33m)\u001b[0m\u001b[1;33m.\u001b[0m\u001b[0mrender\u001b[0m\u001b[1;33m(\u001b[0m\u001b[1;33m**\u001b[0m\u001b[0mkwargs\u001b[0m\u001b[1;33m)\u001b[0m\u001b[1;33m\u001b[0m\u001b[1;33m\u001b[0m\u001b[0m\n\u001b[0m\u001b[0;32m    369\u001b[0m \u001b[1;33m\u001b[0m\u001b[0m\n\u001b[0;32m    370\u001b[0m     def fit_bounds(self, bounds, padding_top_left=None,\n",
      "\u001b[1;32mC:\\ProgramData\\Anaconda3\\lib\\site-packages\\folium\\elements.py\u001b[0m in \u001b[0;36mrender\u001b[1;34m(self, **kwargs)\u001b[0m\n\u001b[0;32m     19\u001b[0m             \u001b[0mfigure\u001b[0m\u001b[1;33m.\u001b[0m\u001b[0mheader\u001b[0m\u001b[1;33m.\u001b[0m\u001b[0madd_child\u001b[0m\u001b[1;33m(\u001b[0m\u001b[0mCssLink\u001b[0m\u001b[1;33m(\u001b[0m\u001b[0murl\u001b[0m\u001b[1;33m)\u001b[0m\u001b[1;33m,\u001b[0m \u001b[0mname\u001b[0m\u001b[1;33m=\u001b[0m\u001b[0mname\u001b[0m\u001b[1;33m)\u001b[0m\u001b[1;33m\u001b[0m\u001b[1;33m\u001b[0m\u001b[0m\n\u001b[0;32m     20\u001b[0m \u001b[1;33m\u001b[0m\u001b[0m\n\u001b[1;32m---> 21\u001b[1;33m         \u001b[0msuper\u001b[0m\u001b[1;33m(\u001b[0m\u001b[1;33m)\u001b[0m\u001b[1;33m.\u001b[0m\u001b[0mrender\u001b[0m\u001b[1;33m(\u001b[0m\u001b[1;33m**\u001b[0m\u001b[0mkwargs\u001b[0m\u001b[1;33m)\u001b[0m\u001b[1;33m\u001b[0m\u001b[1;33m\u001b[0m\u001b[0m\n\u001b[0m",
      "\u001b[1;32mC:\\ProgramData\\Anaconda3\\lib\\site-packages\\branca\\element.py\u001b[0m in \u001b[0;36mrender\u001b[1;34m(self, **kwargs)\u001b[0m\n\u001b[0;32m    641\u001b[0m \u001b[1;33m\u001b[0m\u001b[0m\n\u001b[0;32m    642\u001b[0m         \u001b[1;32mfor\u001b[0m \u001b[0mname\u001b[0m\u001b[1;33m,\u001b[0m \u001b[0melement\u001b[0m \u001b[1;32min\u001b[0m \u001b[0mself\u001b[0m\u001b[1;33m.\u001b[0m\u001b[0m_children\u001b[0m\u001b[1;33m.\u001b[0m\u001b[0mitems\u001b[0m\u001b[1;33m(\u001b[0m\u001b[1;33m)\u001b[0m\u001b[1;33m:\u001b[0m\u001b[1;33m\u001b[0m\u001b[1;33m\u001b[0m\u001b[0m\n\u001b[1;32m--> 643\u001b[1;33m             \u001b[0melement\u001b[0m\u001b[1;33m.\u001b[0m\u001b[0mrender\u001b[0m\u001b[1;33m(\u001b[0m\u001b[1;33m**\u001b[0m\u001b[0mkwargs\u001b[0m\u001b[1;33m)\u001b[0m\u001b[1;33m\u001b[0m\u001b[1;33m\u001b[0m\u001b[0m\n\u001b[0m",
      "\u001b[1;32mC:\\ProgramData\\Anaconda3\\lib\\site-packages\\branca\\element.py\u001b[0m in \u001b[0;36mrender\u001b[1;34m(self, **kwargs)\u001b[0m\n\u001b[0;32m    622\u001b[0m         \u001b[1;34m\"\"\"Renders the HTML representation of the element.\"\"\"\u001b[0m\u001b[1;33m\u001b[0m\u001b[1;33m\u001b[0m\u001b[0m\n\u001b[0;32m    623\u001b[0m         \u001b[0mfigure\u001b[0m \u001b[1;33m=\u001b[0m \u001b[0mself\u001b[0m\u001b[1;33m.\u001b[0m\u001b[0mget_root\u001b[0m\u001b[1;33m(\u001b[0m\u001b[1;33m)\u001b[0m\u001b[1;33m\u001b[0m\u001b[1;33m\u001b[0m\u001b[0m\n\u001b[1;32m--> 624\u001b[1;33m         assert isinstance(figure, Figure), ('You cannot render this Element '\n\u001b[0m\u001b[0;32m    625\u001b[0m                                             'if it is not in a Figure.')\n\u001b[0;32m    626\u001b[0m \u001b[1;33m\u001b[0m\u001b[0m\n",
      "\u001b[1;31mAssertionError\u001b[0m: You cannot render this Element if it is not in a Figure."
     ]
    },
    {
     "data": {
      "text/plain": [
       "<folium.folium.Map at 0x1660f121bb0>"
      ]
     },
     "execution_count": 27,
     "metadata": {},
     "output_type": "execute_result"
    }
   ],
   "source": [
    "#기본지도\n",
    "import folium\n",
    "#지도의 중앙점과 확대 축소 배열을 설정\n",
    "m = folium.Map(location=[37.572656, 126.973304], zoom_start=15)\n",
    "\n",
    "#마커출력\n",
    "#이미지 마커\n",
    "folium.Marker(location=[37.572656, 126.973304], popup='KB 카드', icon=folium.Icon(icon='cloud').add_to(m))\n",
    "#색상 마커\n",
    "folium.Marker(location=[37.572656, 126.987279], popup='우리 카드', icon=folium.Icon(icon='red').add_to(m))\n",
    "#도형 그리기 - 단계 구분도에 이용\n",
    "folium.RegularPolygonMarker(location=[37.5710, 126.98], popup='다각형 마커', number_of_sides=8, fill_color='#769d96', radius=30).add_to(m)\n",
    "m\n",
    "\n",
    "#jupyter notebook이 아닌 경우\n",
    "#m.save('./data/map.html')"
   ]
  },
  {
   "cell_type": "code",
   "execution_count": 20,
   "id": "156addef",
   "metadata": {},
   "outputs": [
    {
     "name": "stdout",
     "output_type": "stream",
     "text": [
      "     Unnamed: 0         위도          경도\n",
      "0  KAIST 서울캠퍼스   37.592573  127.046737\n",
      "1         KC대학교  37.548345  126.854797\n",
      "2  가톨릭대학교(성신교정)  37.585922  127.004328\n",
      "3  가톨릭대학교(성의교정)  37.499623  127.006065\n",
      "4      감리교신학대학교  37.567645  126.961610\n",
      "\n",
      "<class 'pandas.core.frame.DataFrame'>\n",
      "RangeIndex: 47 entries, 0 to 46\n",
      "Data columns (total 3 columns):\n",
      " #   Column      Non-Null Count  Dtype  \n",
      "---  ------      --------------  -----  \n",
      " 0   Unnamed: 0  47 non-null     object \n",
      " 1   위도          47 non-null     float64\n",
      " 2   경도          47 non-null     float64\n",
      "dtypes: float64(2), object(1)\n",
      "memory usage: 1.2+ KB\n"
     ]
    },
    {
     "ename": "NameError",
     "evalue": "name 'folium' is not defined",
     "output_type": "error",
     "traceback": [
      "\u001b[1;31m---------------------------------------------------------------------------\u001b[0m",
      "\u001b[1;31mNameError\u001b[0m                                 Traceback (most recent call last)",
      "\u001b[1;32m~\\AppData\\Local\\Temp/ipykernel_16660/4048296082.py\u001b[0m in \u001b[0;36m<module>\u001b[1;34m\u001b[0m\n\u001b[0;32m      8\u001b[0m \u001b[1;33m\u001b[0m\u001b[0m\n\u001b[0;32m      9\u001b[0m \u001b[1;31m#서울 지도 생성\u001b[0m\u001b[1;33m\u001b[0m\u001b[1;33m\u001b[0m\u001b[0m\n\u001b[1;32m---> 10\u001b[1;33m \u001b[0mm\u001b[0m \u001b[1;33m=\u001b[0m \u001b[0mfolium\u001b[0m\u001b[1;33m.\u001b[0m\u001b[0mMap\u001b[0m\u001b[1;33m(\u001b[0m\u001b[0mlocation\u001b[0m\u001b[1;33m=\u001b[0m\u001b[1;33m[\u001b[0m\u001b[1;36m37.55\u001b[0m\u001b[1;33m,\u001b[0m \u001b[1;36m126.98\u001b[0m\u001b[1;33m]\u001b[0m\u001b[1;33m,\u001b[0m \u001b[0mzoom_start\u001b[0m\u001b[1;33m=\u001b[0m\u001b[1;36m11\u001b[0m\u001b[1;33m)\u001b[0m\u001b[1;33m\u001b[0m\u001b[1;33m\u001b[0m\u001b[0m\n\u001b[0m\u001b[0;32m     11\u001b[0m \u001b[1;33m\u001b[0m\u001b[0m\n\u001b[0;32m     12\u001b[0m \u001b[1;31m#3개열을 묶어서 각각 접근하도록 하기\u001b[0m\u001b[1;33m\u001b[0m\u001b[1;33m\u001b[0m\u001b[0m\n",
      "\u001b[1;31mNameError\u001b[0m: name 'folium' is not defined"
     ]
    }
   ],
   "source": [
    "#엑셀 파일의 데이터를 읽어서 원형 마커를 출력\n",
    "\n",
    "#엑셀 파일 읽어오기 - read_excel인데 read_csv와 옵션이 유사\n",
    "df = pd.read_excel('c://programming/python/pandasdata/서울지역_대학교_위치.xlsx')\n",
    "print(df.head())\n",
    "print()\n",
    "df.info()\n",
    "\n",
    "#서울 지도 생성\n",
    "m = folium.Map(location=[37.55, 126.98], zoom_start=11)\n",
    "\n",
    "#3개열을 묶어서 각각 접근하도록 하기\n",
    "for name, lat, lng in zip(df['Unnamed:0'], df['위도'], df['경도']):\n",
    "    print(name, lat, lng)\n",
    "    folium.CircleMarker(location=[lat, lng], radius=10, color='brown', fill=True, fill_color='coral', fill_opacity=0.2,popup=name).add_to(m)\n",
    "    \n",
    "#서울 지도 출력\n",
    "m"
   ]
  },
  {
   "cell_type": "markdown",
   "id": "34c3236b",
   "metadata": {},
   "source": [
    "#단계구분도"
   ]
  },
  {
   "cell_type": "code",
   "execution_count": 28,
   "id": "686a9cdf",
   "metadata": {
    "scrolled": false
   },
   "outputs": [
    {
     "name": "stdout",
     "output_type": "stream",
     "text": [
      "{'type': 'FeatureCollection', 'features': [{'type': 'Feature', 'properties': {'code': 31380, 'name': '양평군', 'name_eng': 'Yangpyeong-gun', 'base_year': 2013}, 'geometry': {'type': 'Polygon', 'coordinates': [[[127.56113535909492, 37.6256560539258], [127.57290963929243, 37.61087369350498], [127.56366973908277, 37.5842624297699], [127.52226606559191, 37.5828628697518], [127.50048767007603, 37.569036373178626], [127.47687473909174, 37.574448241913856], [127.47565866803647, 37.60512112601634], [127.44699730711024, 37.64497584741164], [127.4272349102434, 37.66284420898682], [127.40156700708162, 37.64806970784708], [127.3732642199939, 37.6453987554284], [127.3542931884407, 37.6250006376975], [127.34360057873045, 37.588997440929354], [127.31002843450217, 37.53523876142835], [127.30923294884336, 37.5135706079458], [127.32809611134748, 37.53133849534739], [127.3663244453597, 37.52716845880826], [127.38286320755414, 37.50147517965334], [127.39046783039153, 37.47413422098595], [127.37490698722792, 37.455072688441305], [127.39174400683049, 37.4256483411369], [127.40276739880215, 37.41856433413549], [127.4250053080982, 37.43669952587185], [127.4817900304572, 37.42084413829662], [127.51015267026155, 37.43699555518635], [127.52501209957308, 37.43192043868044], [127.53910572062166, 37.40849283821634], [127.60528700481163, 37.416969769508924], [127.63754040237271, 37.41065607591271], [127.6491838950862, 37.402042953108506], [127.66976823475012, 37.40884431255766], [127.71071536074867, 37.40736583858037], [127.70347417929173, 37.371054026073324], [127.76165381178268, 37.36421926003675], [127.77952402154285, 37.368441789396854], [127.80397287036232, 37.432516049235865], [127.79833492163134, 37.460500237870505], [127.77664798308412, 37.48883635932707], [127.77611527652192, 37.50328615763377], [127.80855972024105, 37.53220450961153], [127.8445769305193, 37.53621789699497], [127.85162286006927, 37.55037340096326], [127.81507964099751, 37.5618389022189], [127.79492564827493, 37.58252978378627], [127.76838776707211, 37.580178216134605], [127.75614914198108, 37.589477424718204], [127.7102810556826, 37.58360128682645], [127.69869383868397, 37.59757031454811], [127.65553070991882, 37.61954565135447], [127.62972032693943, 37.63983122973888], [127.60450569091653, 37.648548552427314], [127.58166701442097, 37.63033393389168], [127.56113535909492, 37.6256560539258]]]}}, {'type': 'Feature', 'properties': {'code': 31370, 'name': '가평군', 'name_eng': 'Gapyeong-gun', 'base_year': 2013}, 'geometry': {'type': 'Polygon', 'coordinates': [[[127.44780328408541, 38.048238751068475], [127.42042182072485, 38.01200319871128], [127.41516664705571, 37.995046525366845], [127.39194666896421, 37.97992649728499], [127.37828420492166, 37.958773972665476], [127.3864253692493, 37.940789082655876], [127.35796486335995, 37.918888706648104], [127.33112989323685, 37.9192732427266], [127.32585628843694, 37.8708665787365], [127.31427495278925, 37.86338279582678], [127.29023239060183, 37.867156223189305], [127.27621937205707, 37.823925522993584], [127.28134774958465, 37.81350552459983], [127.2686525155809, 37.777676803810074], [127.32070791913966, 37.76445271893134], [127.34501289752937, 37.7266690692075], [127.35759057077398, 37.720909295881434], [127.35557114419971, 37.701041217064585], [127.38133544278186, 37.67180837890239], [127.3732642199939, 37.6453987554284], [127.40156700708162, 37.64806970784708], [127.4272349102434, 37.66284420898682], [127.44699730711024, 37.64497584741164], [127.47565866803647, 37.60512112601634], [127.47687473909174, 37.574448241913856], [127.50048767007603, 37.569036373178626], [127.52226606559191, 37.5828628697518], [127.56366973908277, 37.5842624297699], [127.57290963929243, 37.61087369350498], [127.56113535909492, 37.6256560539258], [127.53917031861263, 37.64021056192394], [127.5549605217701, 37.658757758392326], [127.55230133599949, 37.6826768602848], [127.5620152520609, 37.72573118147031], [127.54295591487076, 37.71630823574417], [127.50979807707056, 37.72791553253582], [127.5466892772679, 37.757547899640265], [127.52374487270039, 37.788564076302706], [127.53790811514408, 37.806297142430786], [127.5278056459557, 37.8205934650677], [127.53467866263196, 37.8391134107185], [127.5645808687282, 37.852710085354005], [127.586513542654, 37.87296654527047], [127.60326048844294, 37.87185797528634], [127.61988365348992, 37.90376621474279], [127.61592274592837, 37.93662873141094], [127.60515472290533, 37.95233960186072], [127.54648191805605, 37.96536690082484], [127.54189684816376, 37.99843118565868], [127.50356426725331, 37.99680815824825], [127.47430810833019, 38.00331531710267], [127.46013793737187, 38.01348603532302], [127.44780328408541, 38.048238751068475]]]}}, {'type': 'Feature', 'properties': {'code': 31350, 'name': '연천군', 'name_eng': 'Yeoncheon-gun', 'base_year': 2013}, 'geometry': {'type': 'Polygon', 'coordinates': [[[127.1114029794941, 38.289324698353205], [127.07249919657463, 38.26801218962005], [127.02801007414642, 38.254549706273764], [126.99286312502117, 38.234131621017674], [126.97740008434542, 38.23136042526893], [126.98606173199121, 38.209401424377816], [126.96711105593987, 38.19506065700263], [126.95459011862387, 38.20786522832632], [126.92781480981668, 38.200854654628984], [126.8974333001951, 38.20180521598681], [126.87506682979435, 38.220357253330604], [126.8278790877819, 38.195486974451406], [126.77187664076929, 38.15202258772112], [126.75014823067355, 38.125072772241225], [126.78709379586621, 38.09626689678258], [126.79823368085893, 38.079396242822355], [126.85234589355446, 38.09221072381945], [126.86904468579002, 38.077582436479354], [126.89538167413222, 38.071648142471204], [126.89492205681401, 38.04859999954147], [126.87463524911628, 38.01581963256826], [126.85568764143953, 38.02873639803942], [126.83392985136591, 38.03100700061125], [126.8252320653152, 38.00913397816309], [126.83164256576254, 37.99035429677792], [126.8029965558113, 37.989251239637596], [126.80659958939793, 37.9680012097748], [126.8388723334759, 37.96197909365746], [126.8423229135476, 37.97819760433225], [126.85859300440933, 37.98329485669624], [126.8739356423477, 37.968400924665225], [126.89755470110721, 37.9683523617657], [126.90034044420747, 37.99438948257985], [126.93929997962098, 37.9789601448141], [126.97166918547234, 38.000587999007735], [126.99425287672854, 38.000624488107924], [127.01739022262282, 37.989561835400195], [126.97545924731331, 37.93928140597955], [127.01215278654801, 37.924817815480985], [127.02968085272437, 37.9404013715077], [127.05589127856165, 37.978154747876275], [127.09382742820131, 37.968691278173], [127.09290535753887, 37.98459431234087], [127.12231622589134, 37.976745791642564], [127.14982270353039, 37.99413348520078], [127.1474423860908, 38.01290337564081], [127.11440133420174, 38.04821685684721], [127.14326850224882, 38.070002354405226], [127.15086136346409, 38.05496212563221], [127.1888339288906, 38.06204029940796], [127.19437916578538, 38.0797568774465], [127.17503254383571, 38.13882932478672], [127.18150182398624, 38.181927191525546], [127.16857086007771, 38.19681089627724], [127.16461628401596, 38.22949766461027], [127.15063615800273, 38.239791315402336], [127.13243747984255, 38.22986476152822], [127.11224663908298, 38.23944312080941], [127.11610682730382, 38.26255766722931], [127.1114029794941, 38.289324698353205]]]}}, {'type': 'Feature', 'properties': {'code': 31280, 'name': '여주시', 'name_eng': 'Yeoju-si', 'base_year': 2013}, 'geometry': {'type': 'Polygon', 'coordinates': [[[127.40276739880215, 37.41856433413549], [127.41955611640327, 37.386674887879835], [127.44514756834636, 37.3842770721951], [127.44459662819855, 37.35562085049101], [127.47263652805968, 37.35869263849808], [127.49167370715485, 37.339527598960764], [127.51574229064994, 37.336561285567946], [127.54853754663094, 37.29860192066929], [127.53106721989582, 37.27115011578052], [127.5395160453677, 37.24379045683148], [127.52770097674612, 37.23765094459253], [127.53342604855668, 37.19715010635273], [127.51957698997381, 37.18188687027366], [127.52893461217018, 37.170618598276], [127.55830514005798, 37.17381401041668], [127.5785248984445, 37.186311208078585], [127.5999013564347, 37.1854997199498], [127.63091754409567, 37.150947430524305], [127.66246837559255, 37.13682554779843], [127.69759568854894, 37.137598675963744], [127.6981539994774, 37.14931076846793], [127.73893911466041, 37.20715818139463], [127.75008528183503, 37.21383642183904], [127.75102511570132, 37.24464129242011], [127.76047537750615, 37.25518935399549], [127.75697503302167, 37.29496921027118], [127.77073902372764, 37.30499906774147], [127.76193527300671, 37.32724708852886], [127.76165381178268, 37.36421926003675], [127.70347417929173, 37.371054026073324], [127.71071536074867, 37.40736583858037], [127.66976823475012, 37.40884431255766], [127.6491838950862, 37.402042953108506], [127.63754040237271, 37.41065607591271], [127.60528700481163, 37.416969769508924], [127.53910572062166, 37.40849283821634], [127.52501209957308, 37.43192043868044], [127.51015267026155, 37.43699555518635], [127.4817900304572, 37.42084413829662], [127.4250053080982, 37.43669952587185], [127.40276739880215, 37.41856433413549]]]}}, {'type': 'Feature', 'properties': {'code': 31270, 'name': '포천시', 'name_eng': 'Pocheonsi', 'base_year': 2013}, 'geometry': {'type': 'Polygon', 'coordinates': [[[127.18150182398624, 38.181927191525546], [127.17503254383571, 38.13882932478672], [127.19437916578538, 38.0797568774465], [127.1888339288906, 38.06204029940796], [127.15086136346409, 38.05496212563221], [127.14326850224882, 38.070002354405226], [127.11440133420174, 38.04821685684721], [127.1474423860908, 38.01290337564081], [127.14982270353039, 37.99413348520078], [127.12231622589134, 37.976745791642564], [127.09290535753887, 37.98459431234087], [127.09382742820131, 37.968691278173], [127.1240834119586, 37.913726790414486], [127.1480788721724, 37.909108279220675], [127.15777209998105, 37.89291633342494], [127.14908802054492, 37.87326470277757], [127.13067707221735, 37.87115064756639], [127.1113003891929, 37.85708813371199], [127.12400943178396, 37.82538075264934], [127.12412178020936, 37.80931541475853], [127.10645686970089, 37.776897580693586], [127.14177735342194, 37.76129795333661], [127.14882403466048, 37.75206030443599], [127.17524551122212, 37.751938183429424], [127.18575971970597, 37.76186443408089], [127.21510645674604, 37.75873586709106], [127.22719439323131, 37.750666435161854], [127.26186907661463, 37.765678541736996], [127.2686525155809, 37.777676803810074], [127.28134774958465, 37.81350552459983], [127.27621937205707, 37.823925522993584], [127.29023239060183, 37.867156223189305], [127.31427495278925, 37.86338279582678], [127.32585628843694, 37.8708665787365], [127.33112989323685, 37.9192732427266], [127.35796486335995, 37.918888706648104], [127.3864253692493, 37.940789082655876], [127.37828420492166, 37.958773972665476], [127.39194666896421, 37.97992649728499], [127.41516664705571, 37.995046525366845], [127.42042182072485, 38.01200319871128], [127.44780328408541, 38.048238751068475], [127.44645416125843, 38.09506926769056], [127.43271157644212, 38.11254491261849], [127.38575924845978, 38.111650021865444], [127.32332897924549, 38.09248746131129], [127.31342794935864, 38.113239178580145], [127.28533797240796, 38.11374536112377], [127.27790641954418, 38.13449032094295], [127.28937067741944, 38.1495974983685], [127.29146727692374, 38.17417076323154], [127.27319981021783, 38.1790866530056], [127.25802935713429, 38.16048880005979], [127.22539552047925, 38.144128217872485], [127.19211744512407, 38.157963139766544], [127.18150182398624, 38.181927191525546]]]}}, {'type': 'Feature', 'properties': {'code': 31260, 'name': '양주시', 'name_eng': 'Yangjusi', 'base_year': 2013}, 'geometry': {'type': 'Polygon', 'coordinates': [[[126.97545924731331, 37.93928140597955], [126.94883433502994, 37.89688479787927], [126.9484401545115, 37.86422401203834], [126.93661135445112, 37.843479475117995], [126.9160273881691, 37.83830532663158], [126.9073114617216, 37.790560159793145], [126.93838979622467, 37.771436009953916], [126.93180653905974, 37.74575671706106], [126.92470886562188, 37.72916078041937], [126.92290257733573, 37.66907383915535], [126.94191948970435, 37.66797237250146], [126.94689093217877, 37.68234333447953], [126.96734461801938, 37.68969305565268], [126.99383903424, 37.676681761199085], [127.01039666042071, 37.681894589603594], [127.01795099203432, 37.69824412775662], [127.01477890845196, 37.722832167524864], [127.00430024727942, 37.73792676357612], [127.00437834122181, 37.75999833868866], [127.02081299427202, 37.76581418787214], [127.05297245855259, 37.75816755994106], [127.10645686970089, 37.776897580693586], [127.12412178020936, 37.80931541475853], [127.12400943178396, 37.82538075264934], [127.1113003891929, 37.85708813371199], [127.09509254572018, 37.86843288571378], [127.06250430862417, 37.86658619508279], [127.04837406784853, 37.891090496591005], [127.01281974367026, 37.90171539201257], [127.01215278654801, 37.924817815480985], [126.97545924731331, 37.93928140597955]]]}}, {'type': 'Feature', 'properties': {'code': 31250, 'name': '광주시', 'name_eng': 'Gwangju', 'base_year': 2013}, 'geometry': {'type': 'Polygon', 'coordinates': [[[127.30923294884336, 37.5135706079458], [127.28971082577908, 37.51069218442014], [127.25539313999657, 37.50044702706516], [127.26066872639333, 37.4867746581613], [127.23892819551556, 37.47240158876339], [127.21785285379218, 37.479493796173465], [127.1831716097913, 37.47048077053623], [127.19808034941583, 37.441066604883545], [127.19594474070001, 37.421269309284035], [127.17637586604776, 37.40261052326208], [127.15506886795262, 37.36076173403712], [127.13605700285002, 37.35565614606753], [127.13845652996186, 37.336816804055495], [127.1439713536275, 37.33349026702227], [127.19373839709431, 37.34441869868583], [127.21042746205282, 37.32805374935785], [127.23072982952925, 37.35607967407726], [127.26708575818817, 37.33990127392118], [127.28543362549937, 37.3425335272208], [127.2795205391003, 37.306809952638524], [127.28383871402815, 37.2658807760632], [127.32142008240551, 37.27215636613311], [127.34092967480524, 37.26770614318737], [127.34227600003884, 37.28528169366774], [127.37829628277709, 37.317936247676194], [127.38906532153541, 37.31608103967859], [127.42277946655206, 37.33526375647856], [127.44459662819855, 37.35562085049101], [127.44514756834636, 37.3842770721951], [127.41955611640327, 37.386674887879835], [127.40276739880215, 37.41856433413549], [127.39174400683049, 37.4256483411369], [127.37490698722792, 37.455072688441305], [127.39046783039153, 37.47413422098595], [127.38286320755414, 37.50147517965334], [127.3663244453597, 37.52716845880826], [127.32809611134748, 37.53133849534739], [127.30923294884336, 37.5135706079458]]]}}, {'type': 'Feature', 'properties': {'code': 31240, 'name': '화성시', 'name_eng': 'Hwaseongsi', 'base_year': 2013}, 'geometry': {'type': 'Polygon', 'coordinates': [[[126.92946761531998, 37.275967848758626], [126.9159468889861, 37.28864104563552], [126.84641021832398, 37.26433293772644], [126.81930541992186, 37.29590550406618], [126.77604675292967, 37.28552626562424], [126.76918029785156, 37.28334098034544], [126.73210144042969, 37.29098920118597], [126.71836853027344, 37.286072577028555], [126.68403625488283, 37.267495764381856], [126.6510772705078, 37.25328687335229], [126.66481018066405, 37.21994010868952], [126.65794372558594, 37.19478361329807], [126.66271935011406, 37.15926986163073], [126.6846290670714, 37.14600860455114], [126.67514463500929, 37.13507063838445], [126.69054868899676, 37.11326932983634], [126.7301407699343, 37.135914524793805], [126.74720764160156, 37.14225609389272], [126.7719268798828, 37.14663478158564], [126.79458618164062, 37.14827672411748], [126.80659259648279, 37.148624224069174], [126.7547607421875, 37.137329767248794], [126.72454833984374, 37.11543110112874], [126.73072814941408, 37.092430683283474], [126.7327880859375, 37.07544970503028], [126.75132751464844, 37.0601087778919], [126.75044219493901, 37.04618007006251], [126.75308052062115, 37.02639369248519], [126.79113814421088, 37.02631450535446], [126.79899352215931, 37.0092005991418], [126.84014623559027, 37.01079503386266], [126.85940022959993, 37.022131594683266], [126.8846211892453, 37.05795114472113], [126.90291323437098, 37.06724127811693], [126.94247588185057, 37.057958386286046], [126.95290081243859, 37.06545814826726], [126.98672297136514, 37.06879655242586], [127.00102521866197, 37.08973596266607], [127.00593012741142, 37.124105707924144], [127.03746950511537, 37.13336771678679], [127.03019615684671, 37.16027870494751], [127.00186863458882, 37.1747343711991], [127.02929563655235, 37.19787494412135], [127.06660498380589, 37.19589230774365], [127.07609473440765, 37.16092553278145], [127.09596808287752, 37.1566082978686], [127.10575417734016, 37.1407283236673], [127.12480483538663, 37.14166379699704], [127.13469226704495, 37.165565916914176], [127.16278322754954, 37.17771519608909], [127.15371679380591, 37.215705679231036], [127.09106338919456, 37.21351968359228], [127.06878518378286, 37.23731339587258], [127.04178611512381, 37.24066886027782], [127.02475029106094, 37.22207898080851], [126.97491964707861, 37.22588531228192], [126.95229769733274, 37.2524826245201], [126.93110125729105, 37.260824951129344], [126.92946761531998, 37.275967848758626]]]}}, {'type': 'Feature', 'properties': {'code': 31230, 'name': '김포시', 'name_eng': 'Gimpo-si', 'base_year': 2013}, 'geometry': {'type': 'Polygon', 'coordinates': [[[126.67862254618308, 37.697305342702336], [126.68687028203884, 37.72287270233232], [126.66907840308846, 37.78174793493798], [126.64101439012131, 37.77566349630024], [126.61153655783419, 37.75013666485523], [126.56882602841813, 37.7532565431125], [126.55721894228033, 37.76621180168271], [126.51662409600848, 37.76417822326665], [126.52807816920034, 37.73531846953613], [126.52057497424896, 37.70995131425922], [126.5293420651622, 37.70036377653783], [126.52504262045373, 37.67373626287928], [126.53101689696972, 37.65019057730887], [126.55161765645468, 37.624298554715594], [126.55623106969898, 37.60651221746275], [126.57464273966109, 37.58499252358352], [126.61067265871806, 37.601000735347455], [126.6298186792055, 37.60410987353396], [126.63835822769396, 37.62500980457943], [126.6591800896809, 37.63521787385032], [126.70070861456485, 37.6146734329379], [126.72720375328538, 37.589208895921956], [126.74570339076207, 37.59055779256247], [126.79575768552907, 37.57881087633202], [126.80702115023597, 37.60123001013228], [126.77608157956732, 37.61940269153496], [126.74300328815525, 37.63613822400079], [126.6733552623039, 37.67370888254625], [126.67862254618308, 37.697305342702336]]]}}, {'type': 'Feature', 'properties': {'code': 31220, 'name': '안성시', 'name_eng': 'Anseong-si', 'base_year': 2013}, 'geometry': {'type': 'Polygon', 'coordinates': [[[127.4921007211045, 37.04995601187854], [127.50695269820937, 37.05753483878351], [127.5183736840388, 37.08503753187909], [127.50508537419512, 37.115382889205684], [127.45481750751989, 37.132580597361105], [127.43195960102275, 37.144888798316245], [127.4230458143012, 37.123216212193206], [127.42631296061737, 37.09684636395198], [127.40130784690913, 37.09245087525459], [127.36035341650685, 37.104395022706164], [127.34555940652085, 37.10116608411004], [127.32884755687247, 37.11659174326816], [127.3127600393989, 37.10253147019345], [127.29016455856019, 37.1284169582523], [127.2524045686932, 37.142247323045744], [127.25314613987028, 37.120146872115946], [127.23808463453801, 37.11859194998404], [127.21070673321714, 37.1015342900424], [127.19738813790079, 37.08621655572156], [127.16831604852223, 37.083742477354726], [127.12516729074011, 37.08849523189945], [127.12948838054707, 37.04966079815856], [127.10740090841584, 37.0328875639127], [127.15517998352519, 37.026613262831916], [127.14747724307254, 37.0138188945719], [127.15496570056612, 36.99487383420599], [127.13779801966723, 36.99041291045364], [127.1216062947912, 36.96626164975953], [127.1464102583773, 36.96864576891614], [127.20400548086619, 36.94924588348929], [127.2223238977499, 36.92742980980818], [127.24613652503862, 36.91453164371645], [127.27227784491541, 36.910372298119825], [127.2919237698698, 36.89094292918124], [127.31127137227124, 36.92622202120876], [127.35186324388168, 36.94969761594173], [127.38065822509601, 36.94859652718182], [127.40398967704995, 36.96488092382215], [127.38707184117484, 36.981534293776996], [127.39617030040874, 36.99507985079591], [127.43189913129159, 36.99902770852865], [127.4488413674345, 37.008168187910805], [127.46014553759977, 37.01772149607737], [127.45985706240288, 37.0407398003885], [127.4921007211045, 37.04995601187854]]]}}, {'type': 'Feature', 'properties': {'code': 31210, 'name': '이천시', 'name_eng': 'Icheon-si', 'base_year': 2013}, 'geometry': {'type': 'Polygon', 'coordinates': [[[127.44459662819855, 37.35562085049101], [127.42277946655206, 37.33526375647856], [127.38906532153541, 37.31608103967859], [127.37829628277709, 37.317936247676194], [127.34227600003884, 37.28528169366774], [127.34092967480524, 37.26770614318737], [127.33185727826834, 37.21877880590886], [127.3504254442421, 37.20158943522061], [127.38033957366586, 37.19271119046181], [127.38451468391715, 37.17989930552182], [127.41620898203362, 37.17029801090558], [127.41445191048162, 37.152220061925426], [127.43195960102275, 37.144888798316245], [127.45481750751989, 37.132580597361105], [127.50508537419512, 37.115382889205684], [127.5183736840388, 37.08503753187909], [127.50695269820937, 37.05753483878351], [127.4921007211045, 37.04995601187854], [127.5328452994501, 37.052947456094785], [127.55489094869193, 37.04147062932325], [127.56834352033556, 37.06015560613134], [127.60303992687903, 37.08267817797425], [127.63326599440494, 37.09343317631327], [127.6399897481202, 37.13818503173906], [127.63091754409567, 37.150947430524305], [127.5999013564347, 37.1854997199498], [127.5785248984445, 37.186311208078585], [127.55830514005798, 37.17381401041668], [127.52893461217018, 37.170618598276], [127.51957698997381, 37.18188687027366], [127.53342604855668, 37.19715010635273], [127.52770097674612, 37.23765094459253], [127.5395160453677, 37.24379045683148], [127.53106721989582, 37.27115011578052], [127.54853754663094, 37.29860192066929], [127.51574229064994, 37.336561285567946], [127.49167370715485, 37.339527598960764], [127.47263652805968, 37.35869263849808], [127.44459662819855, 37.35562085049101]]]}}, {'type': 'Feature', 'properties': {'code': 31200, 'name': '파주시', 'name_eng': 'Paju-si', 'base_year': 2013}, 'geometry': {'type': 'Polygon', 'coordinates': [[[126.8029965558113, 37.989251239637596], [126.78238542753242, 37.980043641136376], [126.76520529808869, 37.98230780004701], [126.7420462951568, 37.96995265840659], [126.74668441679131, 37.94913356897888], [126.71646858457899, 37.93722236122983], [126.69257364928472, 37.941147151072606], [126.67501771549766, 37.95271495350346], [126.66763541566303, 37.91838340624898], [126.67945067210682, 37.89497402505224], [126.67382346217423, 37.88401755835065], [126.69348896006609, 37.86442957434648], [126.6622706417164, 37.83606410322825], [126.67603874694878, 37.82828427203144], [126.66423330880171, 37.78738456951397], [126.66907840308846, 37.78174793493798], [126.68687028203884, 37.72287270233232], [126.67862254618308, 37.697305342702336], [126.69372674409394, 37.687413022894034], [126.72711651649912, 37.70166318681986], [126.77635483402547, 37.70188604497484], [126.79766531143225, 37.730785143520876], [126.81634118925638, 37.72071803262515], [126.83772078982989, 37.72529130369535], [126.85856020555829, 37.73179451375736], [126.88536540501534, 37.717034664244366], [126.90425036668735, 37.72565605361581], [126.91088793086112, 37.74418199544871], [126.93180653905974, 37.74575671706106], [126.93838979622467, 37.771436009953916], [126.9073114617216, 37.790560159793145], [126.9160273881691, 37.83830532663158], [126.93661135445112, 37.843479475117995], [126.9484401545115, 37.86422401203834], [126.94883433502994, 37.89688479787927], [126.97545924731331, 37.93928140597955], [127.01739022262282, 37.989561835400195], [126.99425287672854, 38.000624488107924], [126.97166918547234, 38.000587999007735], [126.93929997962098, 37.9789601448141], [126.90034044420747, 37.99438948257985], [126.89755470110721, 37.9683523617657], [126.8739356423477, 37.968400924665225], [126.85859300440933, 37.98329485669624], [126.8423229135476, 37.97819760433225], [126.8388723334759, 37.96197909365746], [126.80659958939793, 37.9680012097748], [126.8029965558113, 37.989251239637596]]]}}, {'type': 'Feature', 'properties': {'code': 31193, 'name': '용인시수지구', 'name_eng': 'Yonginsisujigu', 'base_year': 2013}, 'geometry': {'type': 'Polygon', 'coordinates': [[[127.03004539569396, 37.36932312139811], [127.02090967499298, 37.348741503905366], [127.03554038078946, 37.341941908872045], [127.04202153059128, 37.318511731862884], [127.06304327683587, 37.30610813773979], [127.06269400142102, 37.293755190822594], [127.09199113357242, 37.295585212583866], [127.10392750030913, 37.31946377620277], [127.13936654068314, 37.321564168361974], [127.1439713536275, 37.33349026702227], [127.13845652996186, 37.336816804055495], [127.11899182435063, 37.33059044022546], [127.07299151640797, 37.35485426174942], [127.03004539569396, 37.36932312139811]]]}}, {'type': 'Feature', 'properties': {'code': 31192, 'name': '용인시기흥구', 'name_eng': 'Yonginsigiheunggu', 'base_year': 2013}, 'geometry': {'type': 'Polygon', 'coordinates': [[[127.09199113357242, 37.295585212583866], [127.09104881579566, 37.284308786190785], [127.06718840393803, 37.26860748709257], [127.08680542938673, 37.253775982641194], [127.06878518378286, 37.23731339587258], [127.09106338919456, 37.21351968359228], [127.15371679380591, 37.215705679231036], [127.15133830848096, 37.23783513168847], [127.17714136480691, 37.255352775734025], [127.17921513238925, 37.282153169636494], [127.13936654068314, 37.321564168361974], [127.10392750030913, 37.31946377620277], [127.09199113357242, 37.295585212583866]]]}}, {'type': 'Feature', 'properties': {'code': 31191, 'name': '용인시처인구', 'name_eng': 'Yonginsicheoingu', 'base_year': 2013}, 'geometry': {'type': 'Polygon', 'coordinates': [[[127.34092967480524, 37.26770614318737], [127.32142008240551, 37.27215636613311], [127.28383871402815, 37.2658807760632], [127.2795205391003, 37.306809952638524], [127.28543362549937, 37.3425335272208], [127.26708575818817, 37.33990127392118], [127.23072982952925, 37.35607967407726], [127.21042746205282, 37.32805374935785], [127.19373839709431, 37.34441869868583], [127.1439713536275, 37.33349026702227], [127.13936654068314, 37.321564168361974], [127.17921513238925, 37.282153169636494], [127.17714136480691, 37.255352775734025], [127.15133830848096, 37.23783513168847], [127.15371679380591, 37.215705679231036], [127.16278322754954, 37.17771519608909], [127.13469226704495, 37.165565916914176], [127.12480483538663, 37.14166379699704], [127.11116461643066, 37.123859739458304], [127.12516729074011, 37.08849523189945], [127.16831604852223, 37.083742477354726], [127.19738813790079, 37.08621655572156], [127.21070673321714, 37.1015342900424], [127.23808463453801, 37.11859194998404], [127.25314613987028, 37.120146872115946], [127.2524045686932, 37.142247323045744], [127.29016455856019, 37.1284169582523], [127.3127600393989, 37.10253147019345], [127.32884755687247, 37.11659174326816], [127.34555940652085, 37.10116608411004], [127.36035341650685, 37.104395022706164], [127.40130784690913, 37.09245087525459], [127.42631296061737, 37.09684636395198], [127.4230458143012, 37.123216212193206], [127.43195960102275, 37.144888798316245], [127.41445191048162, 37.152220061925426], [127.41620898203362, 37.17029801090558], [127.38451468391715, 37.17989930552182], [127.38033957366586, 37.19271119046181], [127.3504254442421, 37.20158943522061], [127.33185727826834, 37.21877880590886], [127.34092967480524, 37.26770614318737]]]}}, {'type': 'Feature', 'properties': {'code': 31180, 'name': '하남시', 'name_eng': 'Hanam-si', 'base_year': 2013}, 'geometry': {'type': 'Polygon', 'coordinates': [[[127.16683184366129, 37.57672487388627], [127.18408792330152, 37.55814280369575], [127.16530984307447, 37.54221851258693], [127.14672806823502, 37.51415680680291], [127.1634944215765, 37.497445406097484], [127.14206058413274, 37.47089819098501], [127.17807401290999, 37.46939077799968], [127.1831716097913, 37.47048077053623], [127.21785285379218, 37.479493796173465], [127.23892819551556, 37.47240158876339], [127.26066872639333, 37.4867746581613], [127.25539313999657, 37.50044702706516], [127.28971082577908, 37.51069218442014], [127.28111702399318, 37.523561821461996], [127.23688890922413, 37.546307321113254], [127.23635034049964, 37.55494536243556], [127.20140811211739, 37.58834877432742], [127.16683184366129, 37.57672487388627]]]}}, {'type': 'Feature', 'properties': {'code': 31170, 'name': '의왕시', 'name_eng': 'Uiwang-si', 'base_year': 2013}, 'geometry': {'type': 'Polygon', 'coordinates': [[[127.04377994345505, 37.41281928664435], [127.0154646349186, 37.411005997724835], [126.98466887829045, 37.39785909018114], [126.96423328330341, 37.358735102948096], [126.94893535067122, 37.32100738175514], [126.93252071350132, 37.30423856869929], [126.93504702033805, 37.3002209928663], [126.96633916587045, 37.29989574204989], [126.98303616696394, 37.32376927812144], [127.02090967499298, 37.348741503905366], [127.03004539569396, 37.36932312139811], [127.04580444799605, 37.40139072056455], [127.04377994345505, 37.41281928664435]]]}}, {'type': 'Feature', 'properties': {'code': 31160, 'name': '군포시', 'name_eng': 'Gunpo-si', 'base_year': 2013}, 'geometry': {'type': 'Polygon', 'coordinates': [[[126.96423328330341, 37.358735102948096], [126.9429122120182, 37.37630880537034], [126.9163870114383, 37.37253977179312], [126.89932903785872, 37.35524703438324], [126.88015838809775, 37.316795632219964], [126.9092771218202, 37.318694910599305], [126.93252071350132, 37.30423856869929], [126.94893535067122, 37.32100738175514], [126.96423328330341, 37.358735102948096]]]}}, {'type': 'Feature', 'properties': {'code': 31150, 'name': '시흥시', 'name_eng': 'Siheung-si', 'base_year': 2013}, 'geometry': {'type': 'Polygon', 'coordinates': [[[126.78024890848009, 37.469000573789124], [126.78043371089171, 37.44800343708732], [126.77110599967482, 37.42452961090748], [126.75529287233691, 37.41984217802103], [126.73861862061078, 37.39261185865545], [126.7029884306089, 37.352119573644295], [126.69453406156698, 37.331064777919245], [126.7248752674955, 37.31058440885402], [126.74059726902762, 37.32685692943894], [126.76357575956314, 37.33864505297868], [126.79105964941944, 37.33699094698096], [126.82580289305967, 37.360321842249355], [126.84283747134161, 37.360869895636554], [126.86691937294266, 37.358697064350324], [126.88400175928666, 37.37340263600163], [126.879093453746, 37.399239167854816], [126.85964157227416, 37.398615706957116], [126.8484052155556, 37.40965572330444], [126.8280587234361, 37.456596986921056], [126.78024890848009, 37.469000573789124]]]}}, {'type': 'Feature', 'properties': {'code': 31140, 'name': '오산시', 'name_eng': 'Osan-si', 'base_year': 2013}, 'geometry': {'type': 'Polygon', 'coordinates': [[[127.10575417734016, 37.1407283236673], [127.09596808287752, 37.1566082978686], [127.07609473440765, 37.16092553278145], [127.06660498380589, 37.19589230774365], [127.02929563655235, 37.19787494412135], [127.00186863458882, 37.1747343711991], [127.03019615684671, 37.16027870494751], [127.03746950511537, 37.13336771678679], [127.04304406837494, 37.126222304219084], [127.09127893510457, 37.12882078023335], [127.10575417734016, 37.1407283236673]]]}}, {'type': 'Feature', 'properties': {'code': 31130, 'name': '남양주시', 'name_eng': 'Namyangju-si', 'base_year': 2013}, 'geometry': {'type': 'Polygon', 'coordinates': [[[127.2686525155809, 37.777676803810074], [127.26186907661463, 37.765678541736996], [127.22719439323131, 37.750666435161854], [127.21510645674604, 37.75873586709106], [127.18575971970597, 37.76186443408089], [127.17524551122212, 37.751938183429424], [127.14882403466048, 37.75206030443599], [127.13060037316637, 37.74504865443316], [127.12788299600184, 37.72469254066713], [127.0838752703195, 37.69359534202034], [127.09706391309695, 37.686383719372294], [127.09440766298717, 37.64713490473045], [127.11326795855199, 37.639622905315925], [127.1523782881412, 37.63663639743511], [127.14554907981939, 37.61784095180692], [127.16683184366129, 37.57672487388627], [127.20140811211739, 37.58834877432742], [127.23635034049964, 37.55494536243556], [127.23688890922413, 37.546307321113254], [127.28111702399318, 37.523561821461996], [127.28971082577908, 37.51069218442014], [127.30923294884336, 37.5135706079458], [127.31002843450217, 37.53523876142835], [127.34360057873045, 37.588997440929354], [127.3542931884407, 37.6250006376975], [127.3732642199939, 37.6453987554284], [127.38133544278186, 37.67180837890239], [127.35557114419971, 37.701041217064585], [127.35759057077398, 37.720909295881434], [127.34501289752937, 37.7266690692075], [127.32070791913966, 37.76445271893134], [127.2686525155809, 37.777676803810074]]]}}, {'type': 'Feature', 'properties': {'code': 31120, 'name': '구리시', 'name_eng': 'Guri-si', 'base_year': 2013}, 'geometry': {'type': 'Polygon', 'coordinates': [[[127.11326795855199, 37.639622905315925], [127.10782277688129, 37.61804244241069], [127.1201246020114, 37.60178457598188], [127.10304174249214, 37.57076342290955], [127.11519584981606, 37.557533180704915], [127.16683184366129, 37.57672487388627], [127.14554907981939, 37.61784095180692], [127.1523782881412, 37.63663639743511], [127.11326795855199, 37.639622905315925]]]}}, {'type': 'Feature', 'properties': {'code': 31110, 'name': '과천시', 'name_eng': 'Gwacheon-si', 'base_year': 2013}, 'geometry': {'type': 'Polygon', 'coordinates': [[[126.99072073195462, 37.455326143310025], [126.96520439085143, 37.438249784006246], [126.96342494806345, 37.42289846046814], [126.98466887829045, 37.39785909018114], [127.0154646349186, 37.411005997724835], [127.04377994345505, 37.41281928664435], [127.04957232987142, 37.42805836845694], [127.03881782597922, 37.45382039851715], [126.99072073195462, 37.455326143310025]]]}}, {'type': 'Feature', 'properties': {'code': 31104, 'name': '고양시일산서구', 'name_eng': 'Goyangsiilsanseogu', 'base_year': 2013}, 'geometry': {'type': 'Polygon', 'coordinates': [[[126.67862254618308, 37.697305342702336], [126.6733552623039, 37.67370888254625], [126.74300328815525, 37.63613822400079], [126.74294383613385, 37.6511173927548], [126.77194259250199, 37.665292527690774], [126.78018904849759, 37.678448868614744], [126.77635483402547, 37.70188604497484], [126.72711651649912, 37.70166318681986], [126.69372674409394, 37.687413022894034], [126.67862254618308, 37.697305342702336]]]}}, {'type': 'Feature', 'properties': {'code': 31103, 'name': '고양시일산동구', 'name_eng': 'Goyangsiilsandonggu', 'base_year': 2013}, 'geometry': {'type': 'Polygon', 'coordinates': [[[126.77635483402547, 37.70188604497484], [126.78018904849759, 37.678448868614744], [126.77194259250199, 37.665292527690774], [126.74294383613385, 37.6511173927548], [126.74300328815525, 37.63613822400079], [126.77608157956732, 37.61940269153496], [126.79710848915354, 37.6372950352041], [126.83512162789108, 37.680020660541864], [126.85703023929057, 37.68935027811791], [126.83772078982989, 37.72529130369535], [126.81634118925638, 37.72071803262515], [126.79766531143225, 37.730785143520876], [126.77635483402547, 37.70188604497484]]]}}, {'type': 'Feature', 'properties': {'code': 31101, 'name': '고양시덕양구', 'name_eng': 'Goyangsideogyanggu', 'base_year': 2013}, 'geometry': {'type': 'Polygon', 'coordinates': [[[126.83772078982989, 37.72529130369535], [126.85703023929057, 37.68935027811791], [126.83512162789108, 37.680020660541864], [126.79710848915354, 37.6372950352041], [126.77608157956732, 37.61940269153496], [126.80702115023597, 37.60123001013228], [126.82251438477105, 37.5880430810082], [126.85984199399667, 37.571847855292745], [126.88433284773288, 37.588143322880526], [126.90396681003595, 37.59227403419942], [126.90303066177668, 37.609977911401344], [126.91455481429648, 37.64150050996935], [126.956473797387, 37.652480737339445], [126.9738864128702, 37.62949634786888], [126.977175406416, 37.62859715400388], [126.98672705513869, 37.63377641288196], [126.9817452676551, 37.65209769387776], [126.99383903424, 37.676681761199085], [126.96734461801938, 37.68969305565268], [126.94689093217877, 37.68234333447953], [126.94191948970435, 37.66797237250146], [126.92290257733573, 37.66907383915535], [126.92470886562188, 37.72916078041937], [126.93180653905974, 37.74575671706106], [126.91088793086112, 37.74418199544871], [126.90425036668735, 37.72565605361581], [126.88536540501534, 37.717034664244366], [126.85856020555829, 37.73179451375736], [126.83772078982989, 37.72529130369535]]]}}, {'type': 'Feature', 'properties': {'code': 31092, 'name': '안산시단원구', 'name_eng': 'Ansansidanwongu', 'base_year': 2013}, 'geometry': {'type': 'MultiPolygon', 'coordinates': [[[[126.61008573444688, 37.30616739414492], [126.58105759521007, 37.2931329422869], [126.5698046807071, 37.27852472009729], [126.55067246352256, 37.27712401368454], [126.56507568780702, 37.25336773744705], [126.56255063831487, 37.239416423702146], [126.54375626154638, 37.22229105408503], [126.546463851695, 37.20350714902179], [126.5705815554123, 37.2014655738836], [126.58721308393721, 37.21775435498544], [126.64889918632674, 37.20793069915704], [126.65235349062866, 37.22264393643188], [126.62465751982253, 37.233811135502776], [126.61085741500113, 37.260209230779175], [126.59892279766748, 37.25959717398652], [126.57228115154807, 37.277020701082655], [126.61008573444688, 37.30616739414492]]], [[[126.84283747134161, 37.360869895636554], [126.82580289305967, 37.360321842249355], [126.79105964941944, 37.33699094698096], [126.76357575956314, 37.33864505297868], [126.74059726902762, 37.32685692943894], [126.7248752674955, 37.31058440885402], [126.72765029203323, 37.29949771063766], [126.77466340206773, 37.286577751987956], [126.8184033400877, 37.295179006004226], [126.84357462735869, 37.30283998653071], [126.84283747134161, 37.360869895636554]]]]}}, {'type': 'Feature', 'properties': {'code': 31091, 'name': '안산시상록구', 'name_eng': 'Ansansisangnokgu', 'base_year': 2013}, 'geometry': {'type': 'Polygon', 'coordinates': [[[126.84283747134161, 37.360869895636554], [126.84357462735869, 37.30283998653071], [126.8184033400877, 37.295179006004226], [126.84641021832398, 37.26433293772644], [126.9159468889861, 37.28864104563552], [126.92946761531998, 37.275967848758626], [126.93504702033805, 37.3002209928663], [126.93252071350132, 37.30423856869929], [126.9092771218202, 37.318694910599305], [126.88015838809775, 37.316795632219964], [126.89932903785872, 37.35524703438324], [126.88400175928666, 37.37340263600163], [126.86691937294266, 37.358697064350324], [126.84283747134161, 37.360869895636554]]]}}, {'type': 'Feature', 'properties': {'code': 31080, 'name': '동두천시', 'name_eng': 'Dongducheon-si', 'base_year': 2013}, 'geometry': {'type': 'Polygon', 'coordinates': [[[127.01215278654801, 37.924817815480985], [127.01281974367026, 37.90171539201257], [127.04837406784853, 37.891090496591005], [127.06250430862417, 37.86658619508279], [127.09509254572018, 37.86843288571378], [127.1113003891929, 37.85708813371199], [127.13067707221735, 37.87115064756639], [127.14908802054492, 37.87326470277757], [127.15777209998105, 37.89291633342494], [127.1480788721724, 37.909108279220675], [127.1240834119586, 37.913726790414486], [127.09382742820131, 37.968691278173], [127.05589127856165, 37.978154747876275], [127.02968085272437, 37.9404013715077], [127.01215278654801, 37.924817815480985]]]}}, {'type': 'Feature', 'properties': {'code': 31070, 'name': '평택시', 'name_eng': 'Pyeongtaek-si', 'base_year': 2013}, 'geometry': {'type': 'Polygon', 'coordinates': [[[127.10575417734016, 37.1407283236673], [127.09127893510457, 37.12882078023335], [127.04304406837494, 37.126222304219084], [127.03746950511537, 37.13336771678679], [127.00593012741142, 37.124105707924144], [127.00102521866197, 37.08973596266607], [126.98672297136514, 37.06879655242586], [126.95290081243859, 37.06545814826726], [126.94247588185057, 37.057958386286046], [126.90291323437098, 37.06724127811693], [126.8846211892453, 37.05795114472113], [126.85940022959993, 37.022131594683266], [126.84014623559027, 37.01079503386266], [126.79899352215931, 37.0092005991418], [126.79429045878248, 37.002375311346476], [126.82743835677269, 36.984262588052744], [126.84836832892641, 36.9565513163949], [126.86448993272457, 36.94597945683675], [126.86630821363053, 36.92982214702114], [126.88907059918661, 36.933221090048846], [126.90658712032098, 36.92311369494381], [126.91083667953751, 36.90208156398722], [126.99750165503437, 36.93264776697853], [127.03383288513524, 36.925469265383704], [127.07603768486679, 36.935523531907464], [127.11553676419611, 36.969747255651924], [127.1216062947912, 36.96626164975953], [127.13779801966723, 36.99041291045364], [127.15496570056612, 36.99487383420599], [127.14747724307254, 37.0138188945719], [127.15517998352519, 37.026613262831916], [127.10740090841584, 37.0328875639127], [127.12948838054707, 37.04966079815856], [127.12516729074011, 37.08849523189945], [127.11116461643066, 37.123859739458304], [127.12480483538663, 37.14166379699704], [127.10575417734016, 37.1407283236673]]]}}, {'type': 'Feature', 'properties': {'code': 31060, 'name': '광명시', 'name_eng': 'Gwangmyeong-si', 'base_year': 2013}, 'geometry': {'type': 'Polygon', 'coordinates': [[[126.83549485076196, 37.474098236975095], [126.8280587234361, 37.456596986921056], [126.8484052155556, 37.40965572330444], [126.85964157227416, 37.398615706957116], [126.879093453746, 37.399239167854816], [126.9025831711697, 37.434549366349124], [126.87683271502428, 37.482576591607305], [126.84762676054953, 37.47146723936323], [126.83549485076196, 37.474098236975095]]]}}, {'type': 'Feature', 'properties': {'code': 31053, 'name': '부천시오정구', 'name_eng': 'Bucheonsiojeonggu', 'base_year': 2013}, 'geometry': {'type': 'Polygon', 'coordinates': [[[126.76979180579352, 37.55139183008809], [126.76241572251033, 37.52129679978721], [126.76236682035514, 37.51516388559986], [126.79948253277924, 37.50297839620806], [126.82504736331406, 37.50302612640443], [126.82688081517314, 37.50548972232896], [126.8242331426722, 37.53788078753248], [126.77324417717703, 37.5459123450554], [126.76979180579352, 37.55139183008809]]]}}, {'type': 'Feature', 'properties': {'code': 31052, 'name': '부천시소사구', 'name_eng': 'Bucheonsisosagu', 'base_year': 2013}, 'geometry': {'type': 'Polygon', 'coordinates': [[[126.82264796791348, 37.4878476492147], [126.80525536231318, 37.479599517462205], [126.74449661749888, 37.48568861244349], [126.76982226270037, 37.468955688388995], [126.78024890848009, 37.469000573789124], [126.8280587234361, 37.456596986921056], [126.83549485076196, 37.474098236975095], [126.82264796791348, 37.4878476492147]]]}}, {'type': 'Feature', 'properties': {'code': 31051, 'name': '부천시원미구', 'name_eng': 'Bucheonsiwonmigu', 'base_year': 2013}, 'geometry': {'type': 'Polygon', 'coordinates': [[[126.76236682035514, 37.51516388559986], [126.74717949233765, 37.511283448979185], [126.74449661749888, 37.48568861244349], [126.80525536231318, 37.479599517462205], [126.82264796791348, 37.4878476492147], [126.82504736331406, 37.50302612640443], [126.79948253277924, 37.50297839620806], [126.76236682035514, 37.51516388559986]]]}}, {'type': 'Feature', 'properties': {'code': 31042, 'name': '안양시동안구', 'name_eng': 'Anyangsidongangu', 'base_year': 2013}, 'geometry': {'type': 'Polygon', 'coordinates': [[[126.95000001010182, 37.43613451165719], [126.949527627869, 37.419039331795105], [126.92899112782491, 37.41260755123917], [126.9429122120182, 37.37630880537034], [126.96423328330341, 37.358735102948096], [126.98466887829045, 37.39785909018114], [126.96342494806345, 37.42289846046814], [126.96520439085143, 37.438249784006246], [126.95000001010182, 37.43613451165719]]]}}, {'type': 'Feature', 'properties': {'code': 31041, 'name': '안양시만안구', 'name_eng': 'Anyangsimanangu', 'base_year': 2013}, 'geometry': {'type': 'Polygon', 'coordinates': [[[126.93084408056525, 37.447382928333994], [126.9025831711697, 37.434549366349124], [126.879093453746, 37.399239167854816], [126.88400175928666, 37.37340263600163], [126.89932903785872, 37.35524703438324], [126.9163870114383, 37.37253977179312], [126.9429122120182, 37.37630880537034], [126.92899112782491, 37.41260755123917], [126.949527627869, 37.419039331795105], [126.95000001010182, 37.43613451165719], [126.93084408056525, 37.447382928333994]]]}}, {'type': 'Feature', 'properties': {'code': 31030, 'name': '의정부시', 'name_eng': 'Uijeongbu-si', 'base_year': 2013}, 'geometry': {'type': 'Polygon', 'coordinates': [[[127.10645686970089, 37.776897580693586], [127.05297245855259, 37.75816755994106], [127.02081299427202, 37.76581418787214], [127.00437834122181, 37.75999833868866], [127.00430024727942, 37.73792676357612], [127.01477890845196, 37.722832167524864], [127.01795099203432, 37.69824412775662], [127.05288479710485, 37.68423857084347], [127.0838752703195, 37.69359534202034], [127.12788299600184, 37.72469254066713], [127.13060037316637, 37.74504865443316], [127.14882403466048, 37.75206030443599], [127.14177735342194, 37.76129795333661], [127.10645686970089, 37.776897580693586]]]}}, {'type': 'Feature', 'properties': {'code': 31023, 'name': '성남시분당구', 'name_eng': 'Seongnamsibundanggu', 'base_year': 2013}, 'geometry': {'type': 'Polygon', 'coordinates': [[[127.17637586604776, 37.40261052326208], [127.13644513246508, 37.41439912020601], [127.12007310029206, 37.41239460373164], [127.08636547533024, 37.39425612519828], [127.04580444799605, 37.40139072056455], [127.03004539569396, 37.36932312139811], [127.07299151640797, 37.35485426174942], [127.11899182435063, 37.33059044022546], [127.13845652996186, 37.336816804055495], [127.13605700285002, 37.35565614606753], [127.15506886795262, 37.36076173403712], [127.17637586604776, 37.40261052326208]]]}}, {'type': 'Feature', 'properties': {'code': 31022, 'name': '성남시중원구', 'name_eng': 'Seongnamsijungwongu', 'base_year': 2013}, 'geometry': {'type': 'Polygon', 'coordinates': [[[127.17807401290999, 37.46939077799968], [127.1582459546436, 37.44164184148139], [127.12050056435223, 37.429512812695165], [127.12007310029206, 37.41239460373164], [127.13644513246508, 37.41439912020601], [127.17637586604776, 37.40261052326208], [127.19594474070001, 37.421269309284035], [127.19808034941583, 37.441066604883545], [127.1831716097913, 37.47048077053623], [127.17807401290999, 37.46939077799968]]]}}, {'type': 'Feature', 'properties': {'code': 31021, 'name': '성남시수정구', 'name_eng': 'Seongnamsisujeonggu', 'base_year': 2013}, 'geometry': {'type': 'Polygon', 'coordinates': [[[127.17807401290999, 37.46939077799968], [127.14206058413274, 37.47089819098501], [127.12440571080893, 37.46240445587048], [127.09842759318751, 37.45862253857461], [127.09046928565951, 37.44296826114185], [127.06778107605433, 37.426197424057314], [127.04957232987142, 37.42805836845694], [127.04377994345505, 37.41281928664435], [127.04580444799605, 37.40139072056455], [127.08636547533024, 37.39425612519828], [127.12007310029206, 37.41239460373164], [127.12050056435223, 37.429512812695165], [127.1582459546436, 37.44164184148139], [127.17807401290999, 37.46939077799968]]]}}, {'type': 'Feature', 'properties': {'code': 31014, 'name': '수원시영통구', 'name_eng': 'Suwonsiyeongtonggu', 'base_year': 2013}, 'geometry': {'type': 'Polygon', 'coordinates': [[[127.09199113357242, 37.295585212583866], [127.06269400142102, 37.293755190822594], [127.06304327683587, 37.30610813773979], [127.04202153059128, 37.318511731862884], [127.03603479622558, 37.29037288813064], [127.04615738146016, 37.271876342625866], [127.03877682368464, 37.253688200306506], [127.04178611512381, 37.24066886027782], [127.06878518378286, 37.23731339587258], [127.08680542938673, 37.253775982641194], [127.06718840393803, 37.26860748709257], [127.09104881579566, 37.284308786190785], [127.09199113357242, 37.295585212583866]]]}}, {'type': 'Feature', 'properties': {'code': 31013, 'name': '수원시팔달구', 'name_eng': 'Suwonsipaldalgu', 'base_year': 2013}, 'geometry': {'type': 'Polygon', 'coordinates': [[[127.03603479622558, 37.29037288813064], [127.01130838681644, 37.28269167363659], [126.98086459483812, 37.283743689221225], [127.03877682368464, 37.253688200306506], [127.04615738146016, 37.271876342625866], [127.03603479622558, 37.29037288813064]]]}}, {'type': 'Feature', 'properties': {'code': 31012, 'name': '수원시권선구', 'name_eng': 'Suwonsigwonseongu', 'base_year': 2013}, 'geometry': {'type': 'Polygon', 'coordinates': [[[126.96633916587045, 37.29989574204989], [126.93504702033805, 37.3002209928663], [126.92946761531998, 37.275967848758626], [126.93110125729105, 37.260824951129344], [126.95229769733274, 37.2524826245201], [126.97491964707861, 37.22588531228192], [127.02475029106094, 37.22207898080851], [127.04178611512381, 37.24066886027782], [127.03877682368464, 37.253688200306506], [126.98086459483812, 37.283743689221225], [126.96633916587045, 37.29989574204989]]]}}, {'type': 'Feature', 'properties': {'code': 31011, 'name': '수원시장안구', 'name_eng': 'Suwonsijangangu', 'base_year': 2013}, 'geometry': {'type': 'Polygon', 'coordinates': [[[127.02090967499298, 37.348741503905366], [126.98303616696394, 37.32376927812144], [126.96633916587045, 37.29989574204989], [126.98086459483812, 37.283743689221225], [127.01130838681644, 37.28269167363659], [127.03603479622558, 37.29037288813064], [127.04202153059128, 37.318511731862884], [127.03554038078946, 37.341941908872045], [127.02090967499298, 37.348741503905366]]]}}]}\n"
     ]
    },
    {
     "data": {
      "text/html": [
       "<div style=\"width:100%;\"><div style=\"position:relative;width:100%;height:0;padding-bottom:60%;\"><span style=\"color:#565656\">Make this Notebook Trusted to load map: File -> Trust Notebook</span><iframe src=\"about:blank\" style=\"position:absolute;width:100%;height:100%;left:0;top:0;border:none !important;\" data-html=%3C%21DOCTYPE%20html%3E%0A%3Chead%3E%20%20%20%20%0A%20%20%20%20%3Cmeta%20http-equiv%3D%22content-type%22%20content%3D%22text/html%3B%20charset%3DUTF-8%22%20/%3E%0A%20%20%20%20%0A%20%20%20%20%20%20%20%20%3Cscript%3E%0A%20%20%20%20%20%20%20%20%20%20%20%20L_NO_TOUCH%20%3D%20false%3B%0A%20%20%20%20%20%20%20%20%20%20%20%20L_DISABLE_3D%20%3D%20false%3B%0A%20%20%20%20%20%20%20%20%3C/script%3E%0A%20%20%20%20%0A%20%20%20%20%3Cstyle%3Ehtml%2C%20body%20%7Bwidth%3A%20100%25%3Bheight%3A%20100%25%3Bmargin%3A%200%3Bpadding%3A%200%3B%7D%3C/style%3E%0A%20%20%20%20%3Cstyle%3E%23map%20%7Bposition%3Aabsolute%3Btop%3A0%3Bbottom%3A0%3Bright%3A0%3Bleft%3A0%3B%7D%3C/style%3E%0A%20%20%20%20%3Cscript%20src%3D%22https%3A//cdn.jsdelivr.net/npm/leaflet%401.6.0/dist/leaflet.js%22%3E%3C/script%3E%0A%20%20%20%20%3Cscript%20src%3D%22https%3A//code.jquery.com/jquery-1.12.4.min.js%22%3E%3C/script%3E%0A%20%20%20%20%3Cscript%20src%3D%22https%3A//maxcdn.bootstrapcdn.com/bootstrap/3.2.0/js/bootstrap.min.js%22%3E%3C/script%3E%0A%20%20%20%20%3Cscript%20src%3D%22https%3A//cdnjs.cloudflare.com/ajax/libs/Leaflet.awesome-markers/2.0.2/leaflet.awesome-markers.js%22%3E%3C/script%3E%0A%20%20%20%20%3Clink%20rel%3D%22stylesheet%22%20href%3D%22https%3A//cdn.jsdelivr.net/npm/leaflet%401.6.0/dist/leaflet.css%22/%3E%0A%20%20%20%20%3Clink%20rel%3D%22stylesheet%22%20href%3D%22https%3A//maxcdn.bootstrapcdn.com/bootstrap/3.2.0/css/bootstrap.min.css%22/%3E%0A%20%20%20%20%3Clink%20rel%3D%22stylesheet%22%20href%3D%22https%3A//maxcdn.bootstrapcdn.com/bootstrap/3.2.0/css/bootstrap-theme.min.css%22/%3E%0A%20%20%20%20%3Clink%20rel%3D%22stylesheet%22%20href%3D%22https%3A//maxcdn.bootstrapcdn.com/font-awesome/4.6.3/css/font-awesome.min.css%22/%3E%0A%20%20%20%20%3Clink%20rel%3D%22stylesheet%22%20href%3D%22https%3A//cdnjs.cloudflare.com/ajax/libs/Leaflet.awesome-markers/2.0.2/leaflet.awesome-markers.css%22/%3E%0A%20%20%20%20%3Clink%20rel%3D%22stylesheet%22%20href%3D%22https%3A//cdn.jsdelivr.net/gh/python-visualization/folium/folium/templates/leaflet.awesome.rotate.min.css%22/%3E%0A%20%20%20%20%0A%20%20%20%20%20%20%20%20%20%20%20%20%3Cmeta%20name%3D%22viewport%22%20content%3D%22width%3Ddevice-width%2C%0A%20%20%20%20%20%20%20%20%20%20%20%20%20%20%20%20initial-scale%3D1.0%2C%20maximum-scale%3D1.0%2C%20user-scalable%3Dno%22%20/%3E%0A%20%20%20%20%20%20%20%20%20%20%20%20%3Cstyle%3E%0A%20%20%20%20%20%20%20%20%20%20%20%20%20%20%20%20%23map_33ad1d87ca04491180d11b791798f3c2%20%7B%0A%20%20%20%20%20%20%20%20%20%20%20%20%20%20%20%20%20%20%20%20position%3A%20relative%3B%0A%20%20%20%20%20%20%20%20%20%20%20%20%20%20%20%20%20%20%20%20width%3A%20100.0%25%3B%0A%20%20%20%20%20%20%20%20%20%20%20%20%20%20%20%20%20%20%20%20height%3A%20100.0%25%3B%0A%20%20%20%20%20%20%20%20%20%20%20%20%20%20%20%20%20%20%20%20left%3A%200.0%25%3B%0A%20%20%20%20%20%20%20%20%20%20%20%20%20%20%20%20%20%20%20%20top%3A%200.0%25%3B%0A%20%20%20%20%20%20%20%20%20%20%20%20%20%20%20%20%7D%0A%20%20%20%20%20%20%20%20%20%20%20%20%3C/style%3E%0A%20%20%20%20%20%20%20%20%0A%20%20%20%20%3Cscript%20src%3D%22https%3A//cdnjs.cloudflare.com/ajax/libs/d3/3.5.5/d3.min.js%22%3E%3C/script%3E%0A%3C/head%3E%0A%3Cbody%3E%20%20%20%20%0A%20%20%20%20%0A%20%20%20%20%20%20%20%20%20%20%20%20%3Cdiv%20class%3D%22folium-map%22%20id%3D%22map_33ad1d87ca04491180d11b791798f3c2%22%20%3E%3C/div%3E%0A%20%20%20%20%20%20%20%20%0A%3C/body%3E%0A%3Cscript%3E%20%20%20%20%0A%20%20%20%20%0A%20%20%20%20%20%20%20%20%20%20%20%20var%20map_33ad1d87ca04491180d11b791798f3c2%20%3D%20L.map%28%0A%20%20%20%20%20%20%20%20%20%20%20%20%20%20%20%20%22map_33ad1d87ca04491180d11b791798f3c2%22%2C%0A%20%20%20%20%20%20%20%20%20%20%20%20%20%20%20%20%7B%0A%20%20%20%20%20%20%20%20%20%20%20%20%20%20%20%20%20%20%20%20center%3A%20%5B37.5502%2C%20126.982%5D%2C%0A%20%20%20%20%20%20%20%20%20%20%20%20%20%20%20%20%20%20%20%20crs%3A%20L.CRS.EPSG3857%2C%0A%20%20%20%20%20%20%20%20%20%20%20%20%20%20%20%20%20%20%20%20zoom%3A%209%2C%0A%20%20%20%20%20%20%20%20%20%20%20%20%20%20%20%20%20%20%20%20zoomControl%3A%20true%2C%0A%20%20%20%20%20%20%20%20%20%20%20%20%20%20%20%20%20%20%20%20preferCanvas%3A%20false%2C%0A%20%20%20%20%20%20%20%20%20%20%20%20%20%20%20%20%7D%0A%20%20%20%20%20%20%20%20%20%20%20%20%29%3B%0A%0A%20%20%20%20%20%20%20%20%20%20%20%20%0A%0A%20%20%20%20%20%20%20%20%0A%20%20%20%20%0A%20%20%20%20%20%20%20%20%20%20%20%20var%20tile_layer_24f0858fdfb84012bdbc5263dbdf3a33%20%3D%20L.tileLayer%28%0A%20%20%20%20%20%20%20%20%20%20%20%20%20%20%20%20%22https%3A//%7Bs%7D.tile.openstreetmap.org/%7Bz%7D/%7Bx%7D/%7By%7D.png%22%2C%0A%20%20%20%20%20%20%20%20%20%20%20%20%20%20%20%20%7B%22attribution%22%3A%20%22Data%20by%20%5Cu0026copy%3B%20%5Cu003ca%20href%3D%5C%22http%3A//openstreetmap.org%5C%22%5Cu003eOpenStreetMap%5Cu003c/a%5Cu003e%2C%20under%20%5Cu003ca%20href%3D%5C%22http%3A//www.openstreetmap.org/copyright%5C%22%5Cu003eODbL%5Cu003c/a%5Cu003e.%22%2C%20%22detectRetina%22%3A%20false%2C%20%22maxNativeZoom%22%3A%2018%2C%20%22maxZoom%22%3A%2018%2C%20%22minZoom%22%3A%200%2C%20%22noWrap%22%3A%20false%2C%20%22opacity%22%3A%201%2C%20%22subdomains%22%3A%20%22abc%22%2C%20%22tms%22%3A%20false%7D%0A%20%20%20%20%20%20%20%20%20%20%20%20%29.addTo%28map_33ad1d87ca04491180d11b791798f3c2%29%3B%0A%20%20%20%20%20%20%20%20%0A%20%20%20%20%0A%20%20%20%20%20%20%20%20%20%20%20%20var%20choropleth_72191e734d6e4cc99877526086bf1f9b%20%3D%20L.featureGroup%28%0A%20%20%20%20%20%20%20%20%20%20%20%20%20%20%20%20%7B%7D%0A%20%20%20%20%20%20%20%20%20%20%20%20%29.addTo%28map_33ad1d87ca04491180d11b791798f3c2%29%3B%0A%20%20%20%20%20%20%20%20%0A%20%20%20%20%0A%20%20%20%20%20%20%20%20function%20geo_json_69229eead18e4d1ebf6c0eec993226d7_styler%28feature%29%20%7B%0A%20%20%20%20%20%20%20%20%20%20%20%20switch%28feature.properties.code%29%20%7B%0A%20%20%20%20%20%20%20%20%20%20%20%20%20%20%20%20case%2031380%3A%20case%2031370%3A%20case%2031350%3A%20case%2031280%3A%20case%2031110%3A%20case%2031080%3A%20%0A%20%20%20%20%20%20%20%20%20%20%20%20%20%20%20%20%20%20%20%20return%20%7B%22color%22%3A%20%22black%22%2C%20%22fillColor%22%3A%20%22%23ffffb2%22%2C%20%22fillOpacity%22%3A%200.5%2C%20%22opacity%22%3A%200.2%2C%20%22weight%22%3A%201%7D%3B%0A%20%20%20%20%20%20%20%20%20%20%20%20%20%20%20%20case%2031270%3A%20case%2031260%3A%20case%2031220%3A%20case%2031180%3A%20case%2031170%3A%20case%2031140%3A%20case%2031053%3A%20%0A%20%20%20%20%20%20%20%20%20%20%20%20%20%20%20%20%20%20%20%20return%20%7B%22color%22%3A%20%22black%22%2C%20%22fillColor%22%3A%20%22%23fed976%22%2C%20%22fillOpacity%22%3A%200.5%2C%20%22opacity%22%3A%200.2%2C%20%22weight%22%3A%201%7D%3B%0A%20%20%20%20%20%20%20%20%20%20%20%20%20%20%20%20case%2031240%3A%20case%2031150%3A%20case%2031101%3A%20case%2031091%3A%20case%2031070%3A%20case%2031042%3A%20%0A%20%20%20%20%20%20%20%20%20%20%20%20%20%20%20%20%20%20%20%20return%20%7B%22color%22%3A%20%22black%22%2C%20%22fillColor%22%3A%20%22%23f03b20%22%2C%20%22fillOpacity%22%3A%200.5%2C%20%22opacity%22%3A%200.2%2C%20%22weight%22%3A%201%7D%3B%0A%20%20%20%20%20%20%20%20%20%20%20%20%20%20%20%20case%2031200%3A%20case%2031193%3A%20case%2031192%3A%20case%2031160%3A%20case%2031104%3A%20case%2031092%3A%20case%2031060%3A%20case%2031012%3A%20case%2031011%3A%20%0A%20%20%20%20%20%20%20%20%20%20%20%20%20%20%20%20%20%20%20%20return%20%7B%22color%22%3A%20%22black%22%2C%20%22fillColor%22%3A%20%22%23fd8d3c%22%2C%20%22fillOpacity%22%3A%200.5%2C%20%22opacity%22%3A%200.2%2C%20%22weight%22%3A%201%7D%3B%0A%20%20%20%20%20%20%20%20%20%20%20%20%20%20%20%20case%2031130%3A%20case%2031051%3A%20case%2031030%3A%20case%2031023%3A%20%0A%20%20%20%20%20%20%20%20%20%20%20%20%20%20%20%20%20%20%20%20return%20%7B%22color%22%3A%20%22black%22%2C%20%22fillColor%22%3A%20%22%23bd0026%22%2C%20%22fillOpacity%22%3A%200.5%2C%20%22opacity%22%3A%200.2%2C%20%22weight%22%3A%201%7D%3B%0A%20%20%20%20%20%20%20%20%20%20%20%20%20%20%20%20default%3A%0A%20%20%20%20%20%20%20%20%20%20%20%20%20%20%20%20%20%20%20%20return%20%7B%22color%22%3A%20%22black%22%2C%20%22fillColor%22%3A%20%22%23feb24c%22%2C%20%22fillOpacity%22%3A%200.5%2C%20%22opacity%22%3A%200.2%2C%20%22weight%22%3A%201%7D%3B%0A%20%20%20%20%20%20%20%20%20%20%20%20%7D%0A%20%20%20%20%20%20%20%20%7D%0A%0A%20%20%20%20%20%20%20%20function%20geo_json_69229eead18e4d1ebf6c0eec993226d7_onEachFeature%28feature%2C%20layer%29%20%7B%0A%20%20%20%20%20%20%20%20%20%20%20%20layer.on%28%7B%0A%20%20%20%20%20%20%20%20%20%20%20%20%7D%29%3B%0A%20%20%20%20%20%20%20%20%7D%3B%0A%20%20%20%20%20%20%20%20var%20geo_json_69229eead18e4d1ebf6c0eec993226d7%20%3D%20L.geoJson%28null%2C%20%7B%0A%20%20%20%20%20%20%20%20%20%20%20%20%20%20%20%20onEachFeature%3A%20geo_json_69229eead18e4d1ebf6c0eec993226d7_onEachFeature%2C%0A%20%20%20%20%20%20%20%20%20%20%20%20%0A%20%20%20%20%20%20%20%20%20%20%20%20%20%20%20%20style%3A%20geo_json_69229eead18e4d1ebf6c0eec993226d7_styler%2C%0A%20%20%20%20%20%20%20%20%7D%29%3B%0A%0A%20%20%20%20%20%20%20%20function%20geo_json_69229eead18e4d1ebf6c0eec993226d7_add%20%28data%29%20%7B%0A%20%20%20%20%20%20%20%20%20%20%20%20geo_json_69229eead18e4d1ebf6c0eec993226d7%0A%20%20%20%20%20%20%20%20%20%20%20%20%20%20%20%20.addData%28data%29%0A%20%20%20%20%20%20%20%20%20%20%20%20%20%20%20%20.addTo%28choropleth_72191e734d6e4cc99877526086bf1f9b%29%3B%0A%20%20%20%20%20%20%20%20%7D%0A%20%20%20%20%20%20%20%20%20%20%20%20geo_json_69229eead18e4d1ebf6c0eec993226d7_add%28%7B%22features%22%3A%20%5B%7B%22geometry%22%3A%20%7B%22coordinates%22%3A%20%5B%5B%5B127.56113535909492%2C%2037.6256560539258%5D%2C%20%5B127.57290963929243%2C%2037.61087369350498%5D%2C%20%5B127.56366973908277%2C%2037.5842624297699%5D%2C%20%5B127.52226606559191%2C%2037.5828628697518%5D%2C%20%5B127.50048767007603%2C%2037.569036373178626%5D%2C%20%5B127.47687473909174%2C%2037.574448241913856%5D%2C%20%5B127.47565866803647%2C%2037.60512112601634%5D%2C%20%5B127.44699730711024%2C%2037.64497584741164%5D%2C%20%5B127.4272349102434%2C%2037.66284420898682%5D%2C%20%5B127.40156700708162%2C%2037.64806970784708%5D%2C%20%5B127.3732642199939%2C%2037.6453987554284%5D%2C%20%5B127.3542931884407%2C%2037.6250006376975%5D%2C%20%5B127.34360057873045%2C%2037.588997440929354%5D%2C%20%5B127.31002843450217%2C%2037.53523876142835%5D%2C%20%5B127.30923294884336%2C%2037.5135706079458%5D%2C%20%5B127.32809611134748%2C%2037.53133849534739%5D%2C%20%5B127.3663244453597%2C%2037.52716845880826%5D%2C%20%5B127.38286320755414%2C%2037.50147517965334%5D%2C%20%5B127.39046783039153%2C%2037.47413422098595%5D%2C%20%5B127.37490698722792%2C%2037.455072688441305%5D%2C%20%5B127.39174400683049%2C%2037.4256483411369%5D%2C%20%5B127.40276739880215%2C%2037.41856433413549%5D%2C%20%5B127.4250053080982%2C%2037.43669952587185%5D%2C%20%5B127.4817900304572%2C%2037.42084413829662%5D%2C%20%5B127.51015267026155%2C%2037.43699555518635%5D%2C%20%5B127.52501209957308%2C%2037.43192043868044%5D%2C%20%5B127.53910572062166%2C%2037.40849283821634%5D%2C%20%5B127.60528700481163%2C%2037.416969769508924%5D%2C%20%5B127.63754040237271%2C%2037.41065607591271%5D%2C%20%5B127.6491838950862%2C%2037.402042953108506%5D%2C%20%5B127.66976823475012%2C%2037.40884431255766%5D%2C%20%5B127.71071536074867%2C%2037.40736583858037%5D%2C%20%5B127.70347417929173%2C%2037.371054026073324%5D%2C%20%5B127.76165381178268%2C%2037.36421926003675%5D%2C%20%5B127.77952402154285%2C%2037.368441789396854%5D%2C%20%5B127.80397287036232%2C%2037.432516049235865%5D%2C%20%5B127.79833492163134%2C%2037.460500237870505%5D%2C%20%5B127.77664798308412%2C%2037.48883635932707%5D%2C%20%5B127.77611527652192%2C%2037.50328615763377%5D%2C%20%5B127.80855972024105%2C%2037.53220450961153%5D%2C%20%5B127.8445769305193%2C%2037.53621789699497%5D%2C%20%5B127.85162286006927%2C%2037.55037340096326%5D%2C%20%5B127.81507964099751%2C%2037.5618389022189%5D%2C%20%5B127.79492564827493%2C%2037.58252978378627%5D%2C%20%5B127.76838776707211%2C%2037.580178216134605%5D%2C%20%5B127.75614914198108%2C%2037.589477424718204%5D%2C%20%5B127.7102810556826%2C%2037.58360128682645%5D%2C%20%5B127.69869383868397%2C%2037.59757031454811%5D%2C%20%5B127.65553070991882%2C%2037.61954565135447%5D%2C%20%5B127.62972032693943%2C%2037.63983122973888%5D%2C%20%5B127.60450569091653%2C%2037.648548552427314%5D%2C%20%5B127.58166701442097%2C%2037.63033393389168%5D%2C%20%5B127.56113535909492%2C%2037.6256560539258%5D%5D%5D%2C%20%22type%22%3A%20%22Polygon%22%7D%2C%20%22properties%22%3A%20%7B%22base_year%22%3A%202013%2C%20%22code%22%3A%2031380%2C%20%22name%22%3A%20%22%5Cuc591%5Cud3c9%5Cuad70%22%2C%20%22name_eng%22%3A%20%22Yangpyeong-gun%22%7D%2C%20%22type%22%3A%20%22Feature%22%7D%2C%20%7B%22geometry%22%3A%20%7B%22coordinates%22%3A%20%5B%5B%5B127.44780328408541%2C%2038.048238751068475%5D%2C%20%5B127.42042182072485%2C%2038.01200319871128%5D%2C%20%5B127.41516664705571%2C%2037.995046525366845%5D%2C%20%5B127.39194666896421%2C%2037.97992649728499%5D%2C%20%5B127.37828420492166%2C%2037.958773972665476%5D%2C%20%5B127.3864253692493%2C%2037.940789082655876%5D%2C%20%5B127.35796486335995%2C%2037.918888706648104%5D%2C%20%5B127.33112989323685%2C%2037.9192732427266%5D%2C%20%5B127.32585628843694%2C%2037.8708665787365%5D%2C%20%5B127.31427495278925%2C%2037.86338279582678%5D%2C%20%5B127.29023239060183%2C%2037.867156223189305%5D%2C%20%5B127.27621937205707%2C%2037.823925522993584%5D%2C%20%5B127.28134774958465%2C%2037.81350552459983%5D%2C%20%5B127.2686525155809%2C%2037.777676803810074%5D%2C%20%5B127.32070791913966%2C%2037.76445271893134%5D%2C%20%5B127.34501289752937%2C%2037.7266690692075%5D%2C%20%5B127.35759057077398%2C%2037.720909295881434%5D%2C%20%5B127.35557114419971%2C%2037.701041217064585%5D%2C%20%5B127.38133544278186%2C%2037.67180837890239%5D%2C%20%5B127.3732642199939%2C%2037.6453987554284%5D%2C%20%5B127.40156700708162%2C%2037.64806970784708%5D%2C%20%5B127.4272349102434%2C%2037.66284420898682%5D%2C%20%5B127.44699730711024%2C%2037.64497584741164%5D%2C%20%5B127.47565866803647%2C%2037.60512112601634%5D%2C%20%5B127.47687473909174%2C%2037.574448241913856%5D%2C%20%5B127.50048767007603%2C%2037.569036373178626%5D%2C%20%5B127.52226606559191%2C%2037.5828628697518%5D%2C%20%5B127.56366973908277%2C%2037.5842624297699%5D%2C%20%5B127.57290963929243%2C%2037.61087369350498%5D%2C%20%5B127.56113535909492%2C%2037.6256560539258%5D%2C%20%5B127.53917031861263%2C%2037.64021056192394%5D%2C%20%5B127.5549605217701%2C%2037.658757758392326%5D%2C%20%5B127.55230133599949%2C%2037.6826768602848%5D%2C%20%5B127.5620152520609%2C%2037.72573118147031%5D%2C%20%5B127.54295591487076%2C%2037.71630823574417%5D%2C%20%5B127.50979807707056%2C%2037.72791553253582%5D%2C%20%5B127.5466892772679%2C%2037.757547899640265%5D%2C%20%5B127.52374487270039%2C%2037.788564076302706%5D%2C%20%5B127.53790811514408%2C%2037.806297142430786%5D%2C%20%5B127.5278056459557%2C%2037.8205934650677%5D%2C%20%5B127.53467866263196%2C%2037.8391134107185%5D%2C%20%5B127.5645808687282%2C%2037.852710085354005%5D%2C%20%5B127.586513542654%2C%2037.87296654527047%5D%2C%20%5B127.60326048844294%2C%2037.87185797528634%5D%2C%20%5B127.61988365348992%2C%2037.90376621474279%5D%2C%20%5B127.61592274592837%2C%2037.93662873141094%5D%2C%20%5B127.60515472290533%2C%2037.95233960186072%5D%2C%20%5B127.54648191805605%2C%2037.96536690082484%5D%2C%20%5B127.54189684816376%2C%2037.99843118565868%5D%2C%20%5B127.50356426725331%2C%2037.99680815824825%5D%2C%20%5B127.47430810833019%2C%2038.00331531710267%5D%2C%20%5B127.46013793737187%2C%2038.01348603532302%5D%2C%20%5B127.44780328408541%2C%2038.048238751068475%5D%5D%5D%2C%20%22type%22%3A%20%22Polygon%22%7D%2C%20%22properties%22%3A%20%7B%22base_year%22%3A%202013%2C%20%22code%22%3A%2031370%2C%20%22name%22%3A%20%22%5Cuac00%5Cud3c9%5Cuad70%22%2C%20%22name_eng%22%3A%20%22Gapyeong-gun%22%7D%2C%20%22type%22%3A%20%22Feature%22%7D%2C%20%7B%22geometry%22%3A%20%7B%22coordinates%22%3A%20%5B%5B%5B127.1114029794941%2C%2038.289324698353205%5D%2C%20%5B127.07249919657463%2C%2038.26801218962005%5D%2C%20%5B127.02801007414642%2C%2038.254549706273764%5D%2C%20%5B126.99286312502117%2C%2038.234131621017674%5D%2C%20%5B126.97740008434542%2C%2038.23136042526893%5D%2C%20%5B126.98606173199121%2C%2038.209401424377816%5D%2C%20%5B126.96711105593987%2C%2038.19506065700263%5D%2C%20%5B126.95459011862387%2C%2038.20786522832632%5D%2C%20%5B126.92781480981668%2C%2038.200854654628984%5D%2C%20%5B126.8974333001951%2C%2038.20180521598681%5D%2C%20%5B126.87506682979435%2C%2038.220357253330604%5D%2C%20%5B126.8278790877819%2C%2038.195486974451406%5D%2C%20%5B126.77187664076929%2C%2038.15202258772112%5D%2C%20%5B126.75014823067355%2C%2038.125072772241225%5D%2C%20%5B126.78709379586621%2C%2038.09626689678258%5D%2C%20%5B126.79823368085893%2C%2038.079396242822355%5D%2C%20%5B126.85234589355446%2C%2038.09221072381945%5D%2C%20%5B126.86904468579002%2C%2038.077582436479354%5D%2C%20%5B126.89538167413222%2C%2038.071648142471204%5D%2C%20%5B126.89492205681401%2C%2038.04859999954147%5D%2C%20%5B126.87463524911628%2C%2038.01581963256826%5D%2C%20%5B126.85568764143953%2C%2038.02873639803942%5D%2C%20%5B126.83392985136591%2C%2038.03100700061125%5D%2C%20%5B126.8252320653152%2C%2038.00913397816309%5D%2C%20%5B126.83164256576254%2C%2037.99035429677792%5D%2C%20%5B126.8029965558113%2C%2037.989251239637596%5D%2C%20%5B126.80659958939793%2C%2037.9680012097748%5D%2C%20%5B126.8388723334759%2C%2037.96197909365746%5D%2C%20%5B126.8423229135476%2C%2037.97819760433225%5D%2C%20%5B126.85859300440933%2C%2037.98329485669624%5D%2C%20%5B126.8739356423477%2C%2037.968400924665225%5D%2C%20%5B126.89755470110721%2C%2037.9683523617657%5D%2C%20%5B126.90034044420747%2C%2037.99438948257985%5D%2C%20%5B126.93929997962098%2C%2037.9789601448141%5D%2C%20%5B126.97166918547234%2C%2038.000587999007735%5D%2C%20%5B126.99425287672854%2C%2038.000624488107924%5D%2C%20%5B127.01739022262282%2C%2037.989561835400195%5D%2C%20%5B126.97545924731331%2C%2037.93928140597955%5D%2C%20%5B127.01215278654801%2C%2037.924817815480985%5D%2C%20%5B127.02968085272437%2C%2037.9404013715077%5D%2C%20%5B127.05589127856165%2C%2037.978154747876275%5D%2C%20%5B127.09382742820131%2C%2037.968691278173%5D%2C%20%5B127.09290535753887%2C%2037.98459431234087%5D%2C%20%5B127.12231622589134%2C%2037.976745791642564%5D%2C%20%5B127.14982270353039%2C%2037.99413348520078%5D%2C%20%5B127.1474423860908%2C%2038.01290337564081%5D%2C%20%5B127.11440133420174%2C%2038.04821685684721%5D%2C%20%5B127.14326850224882%2C%2038.070002354405226%5D%2C%20%5B127.15086136346409%2C%2038.05496212563221%5D%2C%20%5B127.1888339288906%2C%2038.06204029940796%5D%2C%20%5B127.19437916578538%2C%2038.0797568774465%5D%2C%20%5B127.17503254383571%2C%2038.13882932478672%5D%2C%20%5B127.18150182398624%2C%2038.181927191525546%5D%2C%20%5B127.16857086007771%2C%2038.19681089627724%5D%2C%20%5B127.16461628401596%2C%2038.22949766461027%5D%2C%20%5B127.15063615800273%2C%2038.239791315402336%5D%2C%20%5B127.13243747984255%2C%2038.22986476152822%5D%2C%20%5B127.11224663908298%2C%2038.23944312080941%5D%2C%20%5B127.11610682730382%2C%2038.26255766722931%5D%2C%20%5B127.1114029794941%2C%2038.289324698353205%5D%5D%5D%2C%20%22type%22%3A%20%22Polygon%22%7D%2C%20%22properties%22%3A%20%7B%22base_year%22%3A%202013%2C%20%22code%22%3A%2031350%2C%20%22name%22%3A%20%22%5Cuc5f0%5Cucc9c%5Cuad70%22%2C%20%22name_eng%22%3A%20%22Yeoncheon-gun%22%7D%2C%20%22type%22%3A%20%22Feature%22%7D%2C%20%7B%22geometry%22%3A%20%7B%22coordinates%22%3A%20%5B%5B%5B127.40276739880215%2C%2037.41856433413549%5D%2C%20%5B127.41955611640327%2C%2037.386674887879835%5D%2C%20%5B127.44514756834636%2C%2037.3842770721951%5D%2C%20%5B127.44459662819855%2C%2037.35562085049101%5D%2C%20%5B127.47263652805968%2C%2037.35869263849808%5D%2C%20%5B127.49167370715485%2C%2037.339527598960764%5D%2C%20%5B127.51574229064994%2C%2037.336561285567946%5D%2C%20%5B127.54853754663094%2C%2037.29860192066929%5D%2C%20%5B127.53106721989582%2C%2037.27115011578052%5D%2C%20%5B127.5395160453677%2C%2037.24379045683148%5D%2C%20%5B127.52770097674612%2C%2037.23765094459253%5D%2C%20%5B127.53342604855668%2C%2037.19715010635273%5D%2C%20%5B127.51957698997381%2C%2037.18188687027366%5D%2C%20%5B127.52893461217018%2C%2037.170618598276%5D%2C%20%5B127.55830514005798%2C%2037.17381401041668%5D%2C%20%5B127.5785248984445%2C%2037.186311208078585%5D%2C%20%5B127.5999013564347%2C%2037.1854997199498%5D%2C%20%5B127.63091754409567%2C%2037.150947430524305%5D%2C%20%5B127.66246837559255%2C%2037.13682554779843%5D%2C%20%5B127.69759568854894%2C%2037.137598675963744%5D%2C%20%5B127.6981539994774%2C%2037.14931076846793%5D%2C%20%5B127.73893911466041%2C%2037.20715818139463%5D%2C%20%5B127.75008528183503%2C%2037.21383642183904%5D%2C%20%5B127.75102511570132%2C%2037.24464129242011%5D%2C%20%5B127.76047537750615%2C%2037.25518935399549%5D%2C%20%5B127.75697503302167%2C%2037.29496921027118%5D%2C%20%5B127.77073902372764%2C%2037.30499906774147%5D%2C%20%5B127.76193527300671%2C%2037.32724708852886%5D%2C%20%5B127.76165381178268%2C%2037.36421926003675%5D%2C%20%5B127.70347417929173%2C%2037.371054026073324%5D%2C%20%5B127.71071536074867%2C%2037.40736583858037%5D%2C%20%5B127.66976823475012%2C%2037.40884431255766%5D%2C%20%5B127.6491838950862%2C%2037.402042953108506%5D%2C%20%5B127.63754040237271%2C%2037.41065607591271%5D%2C%20%5B127.60528700481163%2C%2037.416969769508924%5D%2C%20%5B127.53910572062166%2C%2037.40849283821634%5D%2C%20%5B127.52501209957308%2C%2037.43192043868044%5D%2C%20%5B127.51015267026155%2C%2037.43699555518635%5D%2C%20%5B127.4817900304572%2C%2037.42084413829662%5D%2C%20%5B127.4250053080982%2C%2037.43669952587185%5D%2C%20%5B127.40276739880215%2C%2037.41856433413549%5D%5D%5D%2C%20%22type%22%3A%20%22Polygon%22%7D%2C%20%22properties%22%3A%20%7B%22base_year%22%3A%202013%2C%20%22code%22%3A%2031280%2C%20%22name%22%3A%20%22%5Cuc5ec%5Cuc8fc%5Cuc2dc%22%2C%20%22name_eng%22%3A%20%22Yeoju-si%22%7D%2C%20%22type%22%3A%20%22Feature%22%7D%2C%20%7B%22geometry%22%3A%20%7B%22coordinates%22%3A%20%5B%5B%5B127.18150182398624%2C%2038.181927191525546%5D%2C%20%5B127.17503254383571%2C%2038.13882932478672%5D%2C%20%5B127.19437916578538%2C%2038.0797568774465%5D%2C%20%5B127.1888339288906%2C%2038.06204029940796%5D%2C%20%5B127.15086136346409%2C%2038.05496212563221%5D%2C%20%5B127.14326850224882%2C%2038.070002354405226%5D%2C%20%5B127.11440133420174%2C%2038.04821685684721%5D%2C%20%5B127.1474423860908%2C%2038.01290337564081%5D%2C%20%5B127.14982270353039%2C%2037.99413348520078%5D%2C%20%5B127.12231622589134%2C%2037.976745791642564%5D%2C%20%5B127.09290535753887%2C%2037.98459431234087%5D%2C%20%5B127.09382742820131%2C%2037.968691278173%5D%2C%20%5B127.1240834119586%2C%2037.913726790414486%5D%2C%20%5B127.1480788721724%2C%2037.909108279220675%5D%2C%20%5B127.15777209998105%2C%2037.89291633342494%5D%2C%20%5B127.14908802054492%2C%2037.87326470277757%5D%2C%20%5B127.13067707221735%2C%2037.87115064756639%5D%2C%20%5B127.1113003891929%2C%2037.85708813371199%5D%2C%20%5B127.12400943178396%2C%2037.82538075264934%5D%2C%20%5B127.12412178020936%2C%2037.80931541475853%5D%2C%20%5B127.10645686970089%2C%2037.776897580693586%5D%2C%20%5B127.14177735342194%2C%2037.76129795333661%5D%2C%20%5B127.14882403466048%2C%2037.75206030443599%5D%2C%20%5B127.17524551122212%2C%2037.751938183429424%5D%2C%20%5B127.18575971970597%2C%2037.76186443408089%5D%2C%20%5B127.21510645674604%2C%2037.75873586709106%5D%2C%20%5B127.22719439323131%2C%2037.750666435161854%5D%2C%20%5B127.26186907661463%2C%2037.765678541736996%5D%2C%20%5B127.2686525155809%2C%2037.777676803810074%5D%2C%20%5B127.28134774958465%2C%2037.81350552459983%5D%2C%20%5B127.27621937205707%2C%2037.823925522993584%5D%2C%20%5B127.29023239060183%2C%2037.867156223189305%5D%2C%20%5B127.31427495278925%2C%2037.86338279582678%5D%2C%20%5B127.32585628843694%2C%2037.8708665787365%5D%2C%20%5B127.33112989323685%2C%2037.9192732427266%5D%2C%20%5B127.35796486335995%2C%2037.918888706648104%5D%2C%20%5B127.3864253692493%2C%2037.940789082655876%5D%2C%20%5B127.37828420492166%2C%2037.958773972665476%5D%2C%20%5B127.39194666896421%2C%2037.97992649728499%5D%2C%20%5B127.41516664705571%2C%2037.995046525366845%5D%2C%20%5B127.42042182072485%2C%2038.01200319871128%5D%2C%20%5B127.44780328408541%2C%2038.048238751068475%5D%2C%20%5B127.44645416125843%2C%2038.09506926769056%5D%2C%20%5B127.43271157644212%2C%2038.11254491261849%5D%2C%20%5B127.38575924845978%2C%2038.111650021865444%5D%2C%20%5B127.32332897924549%2C%2038.09248746131129%5D%2C%20%5B127.31342794935864%2C%2038.113239178580145%5D%2C%20%5B127.28533797240796%2C%2038.11374536112377%5D%2C%20%5B127.27790641954418%2C%2038.13449032094295%5D%2C%20%5B127.28937067741944%2C%2038.1495974983685%5D%2C%20%5B127.29146727692374%2C%2038.17417076323154%5D%2C%20%5B127.27319981021783%2C%2038.1790866530056%5D%2C%20%5B127.25802935713429%2C%2038.16048880005979%5D%2C%20%5B127.22539552047925%2C%2038.144128217872485%5D%2C%20%5B127.19211744512407%2C%2038.157963139766544%5D%2C%20%5B127.18150182398624%2C%2038.181927191525546%5D%5D%5D%2C%20%22type%22%3A%20%22Polygon%22%7D%2C%20%22properties%22%3A%20%7B%22base_year%22%3A%202013%2C%20%22code%22%3A%2031270%2C%20%22name%22%3A%20%22%5Cud3ec%5Cucc9c%5Cuc2dc%22%2C%20%22name_eng%22%3A%20%22Pocheonsi%22%7D%2C%20%22type%22%3A%20%22Feature%22%7D%2C%20%7B%22geometry%22%3A%20%7B%22coordinates%22%3A%20%5B%5B%5B126.97545924731331%2C%2037.93928140597955%5D%2C%20%5B126.94883433502994%2C%2037.89688479787927%5D%2C%20%5B126.9484401545115%2C%2037.86422401203834%5D%2C%20%5B126.93661135445112%2C%2037.843479475117995%5D%2C%20%5B126.9160273881691%2C%2037.83830532663158%5D%2C%20%5B126.9073114617216%2C%2037.790560159793145%5D%2C%20%5B126.93838979622467%2C%2037.771436009953916%5D%2C%20%5B126.93180653905974%2C%2037.74575671706106%5D%2C%20%5B126.92470886562188%2C%2037.72916078041937%5D%2C%20%5B126.92290257733573%2C%2037.66907383915535%5D%2C%20%5B126.94191948970435%2C%2037.66797237250146%5D%2C%20%5B126.94689093217877%2C%2037.68234333447953%5D%2C%20%5B126.96734461801938%2C%2037.68969305565268%5D%2C%20%5B126.99383903424%2C%2037.676681761199085%5D%2C%20%5B127.01039666042071%2C%2037.681894589603594%5D%2C%20%5B127.01795099203432%2C%2037.69824412775662%5D%2C%20%5B127.01477890845196%2C%2037.722832167524864%5D%2C%20%5B127.00430024727942%2C%2037.73792676357612%5D%2C%20%5B127.00437834122181%2C%2037.75999833868866%5D%2C%20%5B127.02081299427202%2C%2037.76581418787214%5D%2C%20%5B127.05297245855259%2C%2037.75816755994106%5D%2C%20%5B127.10645686970089%2C%2037.776897580693586%5D%2C%20%5B127.12412178020936%2C%2037.80931541475853%5D%2C%20%5B127.12400943178396%2C%2037.82538075264934%5D%2C%20%5B127.1113003891929%2C%2037.85708813371199%5D%2C%20%5B127.09509254572018%2C%2037.86843288571378%5D%2C%20%5B127.06250430862417%2C%2037.86658619508279%5D%2C%20%5B127.04837406784853%2C%2037.891090496591005%5D%2C%20%5B127.01281974367026%2C%2037.90171539201257%5D%2C%20%5B127.01215278654801%2C%2037.924817815480985%5D%2C%20%5B126.97545924731331%2C%2037.93928140597955%5D%5D%5D%2C%20%22type%22%3A%20%22Polygon%22%7D%2C%20%22properties%22%3A%20%7B%22base_year%22%3A%202013%2C%20%22code%22%3A%2031260%2C%20%22name%22%3A%20%22%5Cuc591%5Cuc8fc%5Cuc2dc%22%2C%20%22name_eng%22%3A%20%22Yangjusi%22%7D%2C%20%22type%22%3A%20%22Feature%22%7D%2C%20%7B%22geometry%22%3A%20%7B%22coordinates%22%3A%20%5B%5B%5B127.30923294884336%2C%2037.5135706079458%5D%2C%20%5B127.28971082577908%2C%2037.51069218442014%5D%2C%20%5B127.25539313999657%2C%2037.50044702706516%5D%2C%20%5B127.26066872639333%2C%2037.4867746581613%5D%2C%20%5B127.23892819551556%2C%2037.47240158876339%5D%2C%20%5B127.21785285379218%2C%2037.479493796173465%5D%2C%20%5B127.1831716097913%2C%2037.47048077053623%5D%2C%20%5B127.19808034941583%2C%2037.441066604883545%5D%2C%20%5B127.19594474070001%2C%2037.421269309284035%5D%2C%20%5B127.17637586604776%2C%2037.40261052326208%5D%2C%20%5B127.15506886795262%2C%2037.36076173403712%5D%2C%20%5B127.13605700285002%2C%2037.35565614606753%5D%2C%20%5B127.13845652996186%2C%2037.336816804055495%5D%2C%20%5B127.1439713536275%2C%2037.33349026702227%5D%2C%20%5B127.19373839709431%2C%2037.34441869868583%5D%2C%20%5B127.21042746205282%2C%2037.32805374935785%5D%2C%20%5B127.23072982952925%2C%2037.35607967407726%5D%2C%20%5B127.26708575818817%2C%2037.33990127392118%5D%2C%20%5B127.28543362549937%2C%2037.3425335272208%5D%2C%20%5B127.2795205391003%2C%2037.306809952638524%5D%2C%20%5B127.28383871402815%2C%2037.2658807760632%5D%2C%20%5B127.32142008240551%2C%2037.27215636613311%5D%2C%20%5B127.34092967480524%2C%2037.26770614318737%5D%2C%20%5B127.34227600003884%2C%2037.28528169366774%5D%2C%20%5B127.37829628277709%2C%2037.317936247676194%5D%2C%20%5B127.38906532153541%2C%2037.31608103967859%5D%2C%20%5B127.42277946655206%2C%2037.33526375647856%5D%2C%20%5B127.44459662819855%2C%2037.35562085049101%5D%2C%20%5B127.44514756834636%2C%2037.3842770721951%5D%2C%20%5B127.41955611640327%2C%2037.386674887879835%5D%2C%20%5B127.40276739880215%2C%2037.41856433413549%5D%2C%20%5B127.39174400683049%2C%2037.4256483411369%5D%2C%20%5B127.37490698722792%2C%2037.455072688441305%5D%2C%20%5B127.39046783039153%2C%2037.47413422098595%5D%2C%20%5B127.38286320755414%2C%2037.50147517965334%5D%2C%20%5B127.3663244453597%2C%2037.52716845880826%5D%2C%20%5B127.32809611134748%2C%2037.53133849534739%5D%2C%20%5B127.30923294884336%2C%2037.5135706079458%5D%5D%5D%2C%20%22type%22%3A%20%22Polygon%22%7D%2C%20%22properties%22%3A%20%7B%22base_year%22%3A%202013%2C%20%22code%22%3A%2031250%2C%20%22name%22%3A%20%22%5Cuad11%5Cuc8fc%5Cuc2dc%22%2C%20%22name_eng%22%3A%20%22Gwangju%22%7D%2C%20%22type%22%3A%20%22Feature%22%7D%2C%20%7B%22geometry%22%3A%20%7B%22coordinates%22%3A%20%5B%5B%5B126.92946761531998%2C%2037.275967848758626%5D%2C%20%5B126.9159468889861%2C%2037.28864104563552%5D%2C%20%5B126.84641021832398%2C%2037.26433293772644%5D%2C%20%5B126.81930541992186%2C%2037.29590550406618%5D%2C%20%5B126.77604675292967%2C%2037.28552626562424%5D%2C%20%5B126.76918029785156%2C%2037.28334098034544%5D%2C%20%5B126.73210144042969%2C%2037.29098920118597%5D%2C%20%5B126.71836853027344%2C%2037.286072577028555%5D%2C%20%5B126.68403625488283%2C%2037.267495764381856%5D%2C%20%5B126.6510772705078%2C%2037.25328687335229%5D%2C%20%5B126.66481018066405%2C%2037.21994010868952%5D%2C%20%5B126.65794372558594%2C%2037.19478361329807%5D%2C%20%5B126.66271935011406%2C%2037.15926986163073%5D%2C%20%5B126.6846290670714%2C%2037.14600860455114%5D%2C%20%5B126.67514463500929%2C%2037.13507063838445%5D%2C%20%5B126.69054868899676%2C%2037.11326932983634%5D%2C%20%5B126.7301407699343%2C%2037.135914524793805%5D%2C%20%5B126.74720764160156%2C%2037.14225609389272%5D%2C%20%5B126.7719268798828%2C%2037.14663478158564%5D%2C%20%5B126.79458618164062%2C%2037.14827672411748%5D%2C%20%5B126.80659259648279%2C%2037.148624224069174%5D%2C%20%5B126.7547607421875%2C%2037.137329767248794%5D%2C%20%5B126.72454833984374%2C%2037.11543110112874%5D%2C%20%5B126.73072814941408%2C%2037.092430683283474%5D%2C%20%5B126.7327880859375%2C%2037.07544970503028%5D%2C%20%5B126.75132751464844%2C%2037.0601087778919%5D%2C%20%5B126.75044219493901%2C%2037.04618007006251%5D%2C%20%5B126.75308052062115%2C%2037.02639369248519%5D%2C%20%5B126.79113814421088%2C%2037.02631450535446%5D%2C%20%5B126.79899352215931%2C%2037.0092005991418%5D%2C%20%5B126.84014623559027%2C%2037.01079503386266%5D%2C%20%5B126.85940022959993%2C%2037.022131594683266%5D%2C%20%5B126.8846211892453%2C%2037.05795114472113%5D%2C%20%5B126.90291323437098%2C%2037.06724127811693%5D%2C%20%5B126.94247588185057%2C%2037.057958386286046%5D%2C%20%5B126.95290081243859%2C%2037.06545814826726%5D%2C%20%5B126.98672297136514%2C%2037.06879655242586%5D%2C%20%5B127.00102521866197%2C%2037.08973596266607%5D%2C%20%5B127.00593012741142%2C%2037.124105707924144%5D%2C%20%5B127.03746950511537%2C%2037.13336771678679%5D%2C%20%5B127.03019615684671%2C%2037.16027870494751%5D%2C%20%5B127.00186863458882%2C%2037.1747343711991%5D%2C%20%5B127.02929563655235%2C%2037.19787494412135%5D%2C%20%5B127.06660498380589%2C%2037.19589230774365%5D%2C%20%5B127.07609473440765%2C%2037.16092553278145%5D%2C%20%5B127.09596808287752%2C%2037.1566082978686%5D%2C%20%5B127.10575417734016%2C%2037.1407283236673%5D%2C%20%5B127.12480483538663%2C%2037.14166379699704%5D%2C%20%5B127.13469226704495%2C%2037.165565916914176%5D%2C%20%5B127.16278322754954%2C%2037.17771519608909%5D%2C%20%5B127.15371679380591%2C%2037.215705679231036%5D%2C%20%5B127.09106338919456%2C%2037.21351968359228%5D%2C%20%5B127.06878518378286%2C%2037.23731339587258%5D%2C%20%5B127.04178611512381%2C%2037.24066886027782%5D%2C%20%5B127.02475029106094%2C%2037.22207898080851%5D%2C%20%5B126.97491964707861%2C%2037.22588531228192%5D%2C%20%5B126.95229769733274%2C%2037.2524826245201%5D%2C%20%5B126.93110125729105%2C%2037.260824951129344%5D%2C%20%5B126.92946761531998%2C%2037.275967848758626%5D%5D%5D%2C%20%22type%22%3A%20%22Polygon%22%7D%2C%20%22properties%22%3A%20%7B%22base_year%22%3A%202013%2C%20%22code%22%3A%2031240%2C%20%22name%22%3A%20%22%5Cud654%5Cuc131%5Cuc2dc%22%2C%20%22name_eng%22%3A%20%22Hwaseongsi%22%7D%2C%20%22type%22%3A%20%22Feature%22%7D%2C%20%7B%22geometry%22%3A%20%7B%22coordinates%22%3A%20%5B%5B%5B126.67862254618308%2C%2037.697305342702336%5D%2C%20%5B126.68687028203884%2C%2037.72287270233232%5D%2C%20%5B126.66907840308846%2C%2037.78174793493798%5D%2C%20%5B126.64101439012131%2C%2037.77566349630024%5D%2C%20%5B126.61153655783419%2C%2037.75013666485523%5D%2C%20%5B126.56882602841813%2C%2037.7532565431125%5D%2C%20%5B126.55721894228033%2C%2037.76621180168271%5D%2C%20%5B126.51662409600848%2C%2037.76417822326665%5D%2C%20%5B126.52807816920034%2C%2037.73531846953613%5D%2C%20%5B126.52057497424896%2C%2037.70995131425922%5D%2C%20%5B126.5293420651622%2C%2037.70036377653783%5D%2C%20%5B126.52504262045373%2C%2037.67373626287928%5D%2C%20%5B126.53101689696972%2C%2037.65019057730887%5D%2C%20%5B126.55161765645468%2C%2037.624298554715594%5D%2C%20%5B126.55623106969898%2C%2037.60651221746275%5D%2C%20%5B126.57464273966109%2C%2037.58499252358352%5D%2C%20%5B126.61067265871806%2C%2037.601000735347455%5D%2C%20%5B126.6298186792055%2C%2037.60410987353396%5D%2C%20%5B126.63835822769396%2C%2037.62500980457943%5D%2C%20%5B126.6591800896809%2C%2037.63521787385032%5D%2C%20%5B126.70070861456485%2C%2037.6146734329379%5D%2C%20%5B126.72720375328538%2C%2037.589208895921956%5D%2C%20%5B126.74570339076207%2C%2037.59055779256247%5D%2C%20%5B126.79575768552907%2C%2037.57881087633202%5D%2C%20%5B126.80702115023597%2C%2037.60123001013228%5D%2C%20%5B126.77608157956732%2C%2037.61940269153496%5D%2C%20%5B126.74300328815525%2C%2037.63613822400079%5D%2C%20%5B126.6733552623039%2C%2037.67370888254625%5D%2C%20%5B126.67862254618308%2C%2037.697305342702336%5D%5D%5D%2C%20%22type%22%3A%20%22Polygon%22%7D%2C%20%22properties%22%3A%20%7B%22base_year%22%3A%202013%2C%20%22code%22%3A%2031230%2C%20%22name%22%3A%20%22%5Cuae40%5Cud3ec%5Cuc2dc%22%2C%20%22name_eng%22%3A%20%22Gimpo-si%22%7D%2C%20%22type%22%3A%20%22Feature%22%7D%2C%20%7B%22geometry%22%3A%20%7B%22coordinates%22%3A%20%5B%5B%5B127.4921007211045%2C%2037.04995601187854%5D%2C%20%5B127.50695269820937%2C%2037.05753483878351%5D%2C%20%5B127.5183736840388%2C%2037.08503753187909%5D%2C%20%5B127.50508537419512%2C%2037.115382889205684%5D%2C%20%5B127.45481750751989%2C%2037.132580597361105%5D%2C%20%5B127.43195960102275%2C%2037.144888798316245%5D%2C%20%5B127.4230458143012%2C%2037.123216212193206%5D%2C%20%5B127.42631296061737%2C%2037.09684636395198%5D%2C%20%5B127.40130784690913%2C%2037.09245087525459%5D%2C%20%5B127.36035341650685%2C%2037.104395022706164%5D%2C%20%5B127.34555940652085%2C%2037.10116608411004%5D%2C%20%5B127.32884755687247%2C%2037.11659174326816%5D%2C%20%5B127.3127600393989%2C%2037.10253147019345%5D%2C%20%5B127.29016455856019%2C%2037.1284169582523%5D%2C%20%5B127.2524045686932%2C%2037.142247323045744%5D%2C%20%5B127.25314613987028%2C%2037.120146872115946%5D%2C%20%5B127.23808463453801%2C%2037.11859194998404%5D%2C%20%5B127.21070673321714%2C%2037.1015342900424%5D%2C%20%5B127.19738813790079%2C%2037.08621655572156%5D%2C%20%5B127.16831604852223%2C%2037.083742477354726%5D%2C%20%5B127.12516729074011%2C%2037.08849523189945%5D%2C%20%5B127.12948838054707%2C%2037.04966079815856%5D%2C%20%5B127.10740090841584%2C%2037.0328875639127%5D%2C%20%5B127.15517998352519%2C%2037.026613262831916%5D%2C%20%5B127.14747724307254%2C%2037.0138188945719%5D%2C%20%5B127.15496570056612%2C%2036.99487383420599%5D%2C%20%5B127.13779801966723%2C%2036.99041291045364%5D%2C%20%5B127.1216062947912%2C%2036.96626164975953%5D%2C%20%5B127.1464102583773%2C%2036.96864576891614%5D%2C%20%5B127.20400548086619%2C%2036.94924588348929%5D%2C%20%5B127.2223238977499%2C%2036.92742980980818%5D%2C%20%5B127.24613652503862%2C%2036.91453164371645%5D%2C%20%5B127.27227784491541%2C%2036.910372298119825%5D%2C%20%5B127.2919237698698%2C%2036.89094292918124%5D%2C%20%5B127.31127137227124%2C%2036.92622202120876%5D%2C%20%5B127.35186324388168%2C%2036.94969761594173%5D%2C%20%5B127.38065822509601%2C%2036.94859652718182%5D%2C%20%5B127.40398967704995%2C%2036.96488092382215%5D%2C%20%5B127.38707184117484%2C%2036.981534293776996%5D%2C%20%5B127.39617030040874%2C%2036.99507985079591%5D%2C%20%5B127.43189913129159%2C%2036.99902770852865%5D%2C%20%5B127.4488413674345%2C%2037.008168187910805%5D%2C%20%5B127.46014553759977%2C%2037.01772149607737%5D%2C%20%5B127.45985706240288%2C%2037.0407398003885%5D%2C%20%5B127.4921007211045%2C%2037.04995601187854%5D%5D%5D%2C%20%22type%22%3A%20%22Polygon%22%7D%2C%20%22properties%22%3A%20%7B%22base_year%22%3A%202013%2C%20%22code%22%3A%2031220%2C%20%22name%22%3A%20%22%5Cuc548%5Cuc131%5Cuc2dc%22%2C%20%22name_eng%22%3A%20%22Anseong-si%22%7D%2C%20%22type%22%3A%20%22Feature%22%7D%2C%20%7B%22geometry%22%3A%20%7B%22coordinates%22%3A%20%5B%5B%5B127.44459662819855%2C%2037.35562085049101%5D%2C%20%5B127.42277946655206%2C%2037.33526375647856%5D%2C%20%5B127.38906532153541%2C%2037.31608103967859%5D%2C%20%5B127.37829628277709%2C%2037.317936247676194%5D%2C%20%5B127.34227600003884%2C%2037.28528169366774%5D%2C%20%5B127.34092967480524%2C%2037.26770614318737%5D%2C%20%5B127.33185727826834%2C%2037.21877880590886%5D%2C%20%5B127.3504254442421%2C%2037.20158943522061%5D%2C%20%5B127.38033957366586%2C%2037.19271119046181%5D%2C%20%5B127.38451468391715%2C%2037.17989930552182%5D%2C%20%5B127.41620898203362%2C%2037.17029801090558%5D%2C%20%5B127.41445191048162%2C%2037.152220061925426%5D%2C%20%5B127.43195960102275%2C%2037.144888798316245%5D%2C%20%5B127.45481750751989%2C%2037.132580597361105%5D%2C%20%5B127.50508537419512%2C%2037.115382889205684%5D%2C%20%5B127.5183736840388%2C%2037.08503753187909%5D%2C%20%5B127.50695269820937%2C%2037.05753483878351%5D%2C%20%5B127.4921007211045%2C%2037.04995601187854%5D%2C%20%5B127.5328452994501%2C%2037.052947456094785%5D%2C%20%5B127.55489094869193%2C%2037.04147062932325%5D%2C%20%5B127.56834352033556%2C%2037.06015560613134%5D%2C%20%5B127.60303992687903%2C%2037.08267817797425%5D%2C%20%5B127.63326599440494%2C%2037.09343317631327%5D%2C%20%5B127.6399897481202%2C%2037.13818503173906%5D%2C%20%5B127.63091754409567%2C%2037.150947430524305%5D%2C%20%5B127.5999013564347%2C%2037.1854997199498%5D%2C%20%5B127.5785248984445%2C%2037.186311208078585%5D%2C%20%5B127.55830514005798%2C%2037.17381401041668%5D%2C%20%5B127.52893461217018%2C%2037.170618598276%5D%2C%20%5B127.51957698997381%2C%2037.18188687027366%5D%2C%20%5B127.53342604855668%2C%2037.19715010635273%5D%2C%20%5B127.52770097674612%2C%2037.23765094459253%5D%2C%20%5B127.5395160453677%2C%2037.24379045683148%5D%2C%20%5B127.53106721989582%2C%2037.27115011578052%5D%2C%20%5B127.54853754663094%2C%2037.29860192066929%5D%2C%20%5B127.51574229064994%2C%2037.336561285567946%5D%2C%20%5B127.49167370715485%2C%2037.339527598960764%5D%2C%20%5B127.47263652805968%2C%2037.35869263849808%5D%2C%20%5B127.44459662819855%2C%2037.35562085049101%5D%5D%5D%2C%20%22type%22%3A%20%22Polygon%22%7D%2C%20%22properties%22%3A%20%7B%22base_year%22%3A%202013%2C%20%22code%22%3A%2031210%2C%20%22name%22%3A%20%22%5Cuc774%5Cucc9c%5Cuc2dc%22%2C%20%22name_eng%22%3A%20%22Icheon-si%22%7D%2C%20%22type%22%3A%20%22Feature%22%7D%2C%20%7B%22geometry%22%3A%20%7B%22coordinates%22%3A%20%5B%5B%5B126.8029965558113%2C%2037.989251239637596%5D%2C%20%5B126.78238542753242%2C%2037.980043641136376%5D%2C%20%5B126.76520529808869%2C%2037.98230780004701%5D%2C%20%5B126.7420462951568%2C%2037.96995265840659%5D%2C%20%5B126.74668441679131%2C%2037.94913356897888%5D%2C%20%5B126.71646858457899%2C%2037.93722236122983%5D%2C%20%5B126.69257364928472%2C%2037.941147151072606%5D%2C%20%5B126.67501771549766%2C%2037.95271495350346%5D%2C%20%5B126.66763541566303%2C%2037.91838340624898%5D%2C%20%5B126.67945067210682%2C%2037.89497402505224%5D%2C%20%5B126.67382346217423%2C%2037.88401755835065%5D%2C%20%5B126.69348896006609%2C%2037.86442957434648%5D%2C%20%5B126.6622706417164%2C%2037.83606410322825%5D%2C%20%5B126.67603874694878%2C%2037.82828427203144%5D%2C%20%5B126.66423330880171%2C%2037.78738456951397%5D%2C%20%5B126.66907840308846%2C%2037.78174793493798%5D%2C%20%5B126.68687028203884%2C%2037.72287270233232%5D%2C%20%5B126.67862254618308%2C%2037.697305342702336%5D%2C%20%5B126.69372674409394%2C%2037.687413022894034%5D%2C%20%5B126.72711651649912%2C%2037.70166318681986%5D%2C%20%5B126.77635483402547%2C%2037.70188604497484%5D%2C%20%5B126.79766531143225%2C%2037.730785143520876%5D%2C%20%5B126.81634118925638%2C%2037.72071803262515%5D%2C%20%5B126.83772078982989%2C%2037.72529130369535%5D%2C%20%5B126.85856020555829%2C%2037.73179451375736%5D%2C%20%5B126.88536540501534%2C%2037.717034664244366%5D%2C%20%5B126.90425036668735%2C%2037.72565605361581%5D%2C%20%5B126.91088793086112%2C%2037.74418199544871%5D%2C%20%5B126.93180653905974%2C%2037.74575671706106%5D%2C%20%5B126.93838979622467%2C%2037.771436009953916%5D%2C%20%5B126.9073114617216%2C%2037.790560159793145%5D%2C%20%5B126.9160273881691%2C%2037.83830532663158%5D%2C%20%5B126.93661135445112%2C%2037.843479475117995%5D%2C%20%5B126.9484401545115%2C%2037.86422401203834%5D%2C%20%5B126.94883433502994%2C%2037.89688479787927%5D%2C%20%5B126.97545924731331%2C%2037.93928140597955%5D%2C%20%5B127.01739022262282%2C%2037.989561835400195%5D%2C%20%5B126.99425287672854%2C%2038.000624488107924%5D%2C%20%5B126.97166918547234%2C%2038.000587999007735%5D%2C%20%5B126.93929997962098%2C%2037.9789601448141%5D%2C%20%5B126.90034044420747%2C%2037.99438948257985%5D%2C%20%5B126.89755470110721%2C%2037.9683523617657%5D%2C%20%5B126.8739356423477%2C%2037.968400924665225%5D%2C%20%5B126.85859300440933%2C%2037.98329485669624%5D%2C%20%5B126.8423229135476%2C%2037.97819760433225%5D%2C%20%5B126.8388723334759%2C%2037.96197909365746%5D%2C%20%5B126.80659958939793%2C%2037.9680012097748%5D%2C%20%5B126.8029965558113%2C%2037.989251239637596%5D%5D%5D%2C%20%22type%22%3A%20%22Polygon%22%7D%2C%20%22properties%22%3A%20%7B%22base_year%22%3A%202013%2C%20%22code%22%3A%2031200%2C%20%22name%22%3A%20%22%5Cud30c%5Cuc8fc%5Cuc2dc%22%2C%20%22name_eng%22%3A%20%22Paju-si%22%7D%2C%20%22type%22%3A%20%22Feature%22%7D%2C%20%7B%22geometry%22%3A%20%7B%22coordinates%22%3A%20%5B%5B%5B127.03004539569396%2C%2037.36932312139811%5D%2C%20%5B127.02090967499298%2C%2037.348741503905366%5D%2C%20%5B127.03554038078946%2C%2037.341941908872045%5D%2C%20%5B127.04202153059128%2C%2037.318511731862884%5D%2C%20%5B127.06304327683587%2C%2037.30610813773979%5D%2C%20%5B127.06269400142102%2C%2037.293755190822594%5D%2C%20%5B127.09199113357242%2C%2037.295585212583866%5D%2C%20%5B127.10392750030913%2C%2037.31946377620277%5D%2C%20%5B127.13936654068314%2C%2037.321564168361974%5D%2C%20%5B127.1439713536275%2C%2037.33349026702227%5D%2C%20%5B127.13845652996186%2C%2037.336816804055495%5D%2C%20%5B127.11899182435063%2C%2037.33059044022546%5D%2C%20%5B127.07299151640797%2C%2037.35485426174942%5D%2C%20%5B127.03004539569396%2C%2037.36932312139811%5D%5D%5D%2C%20%22type%22%3A%20%22Polygon%22%7D%2C%20%22properties%22%3A%20%7B%22base_year%22%3A%202013%2C%20%22code%22%3A%2031193%2C%20%22name%22%3A%20%22%5Cuc6a9%5Cuc778%5Cuc2dc%5Cuc218%5Cuc9c0%5Cuad6c%22%2C%20%22name_eng%22%3A%20%22Yonginsisujigu%22%7D%2C%20%22type%22%3A%20%22Feature%22%7D%2C%20%7B%22geometry%22%3A%20%7B%22coordinates%22%3A%20%5B%5B%5B127.09199113357242%2C%2037.295585212583866%5D%2C%20%5B127.09104881579566%2C%2037.284308786190785%5D%2C%20%5B127.06718840393803%2C%2037.26860748709257%5D%2C%20%5B127.08680542938673%2C%2037.253775982641194%5D%2C%20%5B127.06878518378286%2C%2037.23731339587258%5D%2C%20%5B127.09106338919456%2C%2037.21351968359228%5D%2C%20%5B127.15371679380591%2C%2037.215705679231036%5D%2C%20%5B127.15133830848096%2C%2037.23783513168847%5D%2C%20%5B127.17714136480691%2C%2037.255352775734025%5D%2C%20%5B127.17921513238925%2C%2037.282153169636494%5D%2C%20%5B127.13936654068314%2C%2037.321564168361974%5D%2C%20%5B127.10392750030913%2C%2037.31946377620277%5D%2C%20%5B127.09199113357242%2C%2037.295585212583866%5D%5D%5D%2C%20%22type%22%3A%20%22Polygon%22%7D%2C%20%22properties%22%3A%20%7B%22base_year%22%3A%202013%2C%20%22code%22%3A%2031192%2C%20%22name%22%3A%20%22%5Cuc6a9%5Cuc778%5Cuc2dc%5Cuae30%5Cud765%5Cuad6c%22%2C%20%22name_eng%22%3A%20%22Yonginsigiheunggu%22%7D%2C%20%22type%22%3A%20%22Feature%22%7D%2C%20%7B%22geometry%22%3A%20%7B%22coordinates%22%3A%20%5B%5B%5B127.34092967480524%2C%2037.26770614318737%5D%2C%20%5B127.32142008240551%2C%2037.27215636613311%5D%2C%20%5B127.28383871402815%2C%2037.2658807760632%5D%2C%20%5B127.2795205391003%2C%2037.306809952638524%5D%2C%20%5B127.28543362549937%2C%2037.3425335272208%5D%2C%20%5B127.26708575818817%2C%2037.33990127392118%5D%2C%20%5B127.23072982952925%2C%2037.35607967407726%5D%2C%20%5B127.21042746205282%2C%2037.32805374935785%5D%2C%20%5B127.19373839709431%2C%2037.34441869868583%5D%2C%20%5B127.1439713536275%2C%2037.33349026702227%5D%2C%20%5B127.13936654068314%2C%2037.321564168361974%5D%2C%20%5B127.17921513238925%2C%2037.282153169636494%5D%2C%20%5B127.17714136480691%2C%2037.255352775734025%5D%2C%20%5B127.15133830848096%2C%2037.23783513168847%5D%2C%20%5B127.15371679380591%2C%2037.215705679231036%5D%2C%20%5B127.16278322754954%2C%2037.17771519608909%5D%2C%20%5B127.13469226704495%2C%2037.165565916914176%5D%2C%20%5B127.12480483538663%2C%2037.14166379699704%5D%2C%20%5B127.11116461643066%2C%2037.123859739458304%5D%2C%20%5B127.12516729074011%2C%2037.08849523189945%5D%2C%20%5B127.16831604852223%2C%2037.083742477354726%5D%2C%20%5B127.19738813790079%2C%2037.08621655572156%5D%2C%20%5B127.21070673321714%2C%2037.1015342900424%5D%2C%20%5B127.23808463453801%2C%2037.11859194998404%5D%2C%20%5B127.25314613987028%2C%2037.120146872115946%5D%2C%20%5B127.2524045686932%2C%2037.142247323045744%5D%2C%20%5B127.29016455856019%2C%2037.1284169582523%5D%2C%20%5B127.3127600393989%2C%2037.10253147019345%5D%2C%20%5B127.32884755687247%2C%2037.11659174326816%5D%2C%20%5B127.34555940652085%2C%2037.10116608411004%5D%2C%20%5B127.36035341650685%2C%2037.104395022706164%5D%2C%20%5B127.40130784690913%2C%2037.09245087525459%5D%2C%20%5B127.42631296061737%2C%2037.09684636395198%5D%2C%20%5B127.4230458143012%2C%2037.123216212193206%5D%2C%20%5B127.43195960102275%2C%2037.144888798316245%5D%2C%20%5B127.41445191048162%2C%2037.152220061925426%5D%2C%20%5B127.41620898203362%2C%2037.17029801090558%5D%2C%20%5B127.38451468391715%2C%2037.17989930552182%5D%2C%20%5B127.38033957366586%2C%2037.19271119046181%5D%2C%20%5B127.3504254442421%2C%2037.20158943522061%5D%2C%20%5B127.33185727826834%2C%2037.21877880590886%5D%2C%20%5B127.34092967480524%2C%2037.26770614318737%5D%5D%5D%2C%20%22type%22%3A%20%22Polygon%22%7D%2C%20%22properties%22%3A%20%7B%22base_year%22%3A%202013%2C%20%22code%22%3A%2031191%2C%20%22name%22%3A%20%22%5Cuc6a9%5Cuc778%5Cuc2dc%5Cucc98%5Cuc778%5Cuad6c%22%2C%20%22name_eng%22%3A%20%22Yonginsicheoingu%22%7D%2C%20%22type%22%3A%20%22Feature%22%7D%2C%20%7B%22geometry%22%3A%20%7B%22coordinates%22%3A%20%5B%5B%5B127.16683184366129%2C%2037.57672487388627%5D%2C%20%5B127.18408792330152%2C%2037.55814280369575%5D%2C%20%5B127.16530984307447%2C%2037.54221851258693%5D%2C%20%5B127.14672806823502%2C%2037.51415680680291%5D%2C%20%5B127.1634944215765%2C%2037.497445406097484%5D%2C%20%5B127.14206058413274%2C%2037.47089819098501%5D%2C%20%5B127.17807401290999%2C%2037.46939077799968%5D%2C%20%5B127.1831716097913%2C%2037.47048077053623%5D%2C%20%5B127.21785285379218%2C%2037.479493796173465%5D%2C%20%5B127.23892819551556%2C%2037.47240158876339%5D%2C%20%5B127.26066872639333%2C%2037.4867746581613%5D%2C%20%5B127.25539313999657%2C%2037.50044702706516%5D%2C%20%5B127.28971082577908%2C%2037.51069218442014%5D%2C%20%5B127.28111702399318%2C%2037.523561821461996%5D%2C%20%5B127.23688890922413%2C%2037.546307321113254%5D%2C%20%5B127.23635034049964%2C%2037.55494536243556%5D%2C%20%5B127.20140811211739%2C%2037.58834877432742%5D%2C%20%5B127.16683184366129%2C%2037.57672487388627%5D%5D%5D%2C%20%22type%22%3A%20%22Polygon%22%7D%2C%20%22properties%22%3A%20%7B%22base_year%22%3A%202013%2C%20%22code%22%3A%2031180%2C%20%22name%22%3A%20%22%5Cud558%5Cub0a8%5Cuc2dc%22%2C%20%22name_eng%22%3A%20%22Hanam-si%22%7D%2C%20%22type%22%3A%20%22Feature%22%7D%2C%20%7B%22geometry%22%3A%20%7B%22coordinates%22%3A%20%5B%5B%5B127.04377994345505%2C%2037.41281928664435%5D%2C%20%5B127.0154646349186%2C%2037.411005997724835%5D%2C%20%5B126.98466887829045%2C%2037.39785909018114%5D%2C%20%5B126.96423328330341%2C%2037.358735102948096%5D%2C%20%5B126.94893535067122%2C%2037.32100738175514%5D%2C%20%5B126.93252071350132%2C%2037.30423856869929%5D%2C%20%5B126.93504702033805%2C%2037.3002209928663%5D%2C%20%5B126.96633916587045%2C%2037.29989574204989%5D%2C%20%5B126.98303616696394%2C%2037.32376927812144%5D%2C%20%5B127.02090967499298%2C%2037.348741503905366%5D%2C%20%5B127.03004539569396%2C%2037.36932312139811%5D%2C%20%5B127.04580444799605%2C%2037.40139072056455%5D%2C%20%5B127.04377994345505%2C%2037.41281928664435%5D%5D%5D%2C%20%22type%22%3A%20%22Polygon%22%7D%2C%20%22properties%22%3A%20%7B%22base_year%22%3A%202013%2C%20%22code%22%3A%2031170%2C%20%22name%22%3A%20%22%5Cuc758%5Cuc655%5Cuc2dc%22%2C%20%22name_eng%22%3A%20%22Uiwang-si%22%7D%2C%20%22type%22%3A%20%22Feature%22%7D%2C%20%7B%22geometry%22%3A%20%7B%22coordinates%22%3A%20%5B%5B%5B126.96423328330341%2C%2037.358735102948096%5D%2C%20%5B126.9429122120182%2C%2037.37630880537034%5D%2C%20%5B126.9163870114383%2C%2037.37253977179312%5D%2C%20%5B126.89932903785872%2C%2037.35524703438324%5D%2C%20%5B126.88015838809775%2C%2037.316795632219964%5D%2C%20%5B126.9092771218202%2C%2037.318694910599305%5D%2C%20%5B126.93252071350132%2C%2037.30423856869929%5D%2C%20%5B126.94893535067122%2C%2037.32100738175514%5D%2C%20%5B126.96423328330341%2C%2037.358735102948096%5D%5D%5D%2C%20%22type%22%3A%20%22Polygon%22%7D%2C%20%22properties%22%3A%20%7B%22base_year%22%3A%202013%2C%20%22code%22%3A%2031160%2C%20%22name%22%3A%20%22%5Cuad70%5Cud3ec%5Cuc2dc%22%2C%20%22name_eng%22%3A%20%22Gunpo-si%22%7D%2C%20%22type%22%3A%20%22Feature%22%7D%2C%20%7B%22geometry%22%3A%20%7B%22coordinates%22%3A%20%5B%5B%5B126.78024890848009%2C%2037.469000573789124%5D%2C%20%5B126.78043371089171%2C%2037.44800343708732%5D%2C%20%5B126.77110599967482%2C%2037.42452961090748%5D%2C%20%5B126.75529287233691%2C%2037.41984217802103%5D%2C%20%5B126.73861862061078%2C%2037.39261185865545%5D%2C%20%5B126.7029884306089%2C%2037.352119573644295%5D%2C%20%5B126.69453406156698%2C%2037.331064777919245%5D%2C%20%5B126.7248752674955%2C%2037.31058440885402%5D%2C%20%5B126.74059726902762%2C%2037.32685692943894%5D%2C%20%5B126.76357575956314%2C%2037.33864505297868%5D%2C%20%5B126.79105964941944%2C%2037.33699094698096%5D%2C%20%5B126.82580289305967%2C%2037.360321842249355%5D%2C%20%5B126.84283747134161%2C%2037.360869895636554%5D%2C%20%5B126.86691937294266%2C%2037.358697064350324%5D%2C%20%5B126.88400175928666%2C%2037.37340263600163%5D%2C%20%5B126.879093453746%2C%2037.399239167854816%5D%2C%20%5B126.85964157227416%2C%2037.398615706957116%5D%2C%20%5B126.8484052155556%2C%2037.40965572330444%5D%2C%20%5B126.8280587234361%2C%2037.456596986921056%5D%2C%20%5B126.78024890848009%2C%2037.469000573789124%5D%5D%5D%2C%20%22type%22%3A%20%22Polygon%22%7D%2C%20%22properties%22%3A%20%7B%22base_year%22%3A%202013%2C%20%22code%22%3A%2031150%2C%20%22name%22%3A%20%22%5Cuc2dc%5Cud765%5Cuc2dc%22%2C%20%22name_eng%22%3A%20%22Siheung-si%22%7D%2C%20%22type%22%3A%20%22Feature%22%7D%2C%20%7B%22geometry%22%3A%20%7B%22coordinates%22%3A%20%5B%5B%5B127.10575417734016%2C%2037.1407283236673%5D%2C%20%5B127.09596808287752%2C%2037.1566082978686%5D%2C%20%5B127.07609473440765%2C%2037.16092553278145%5D%2C%20%5B127.06660498380589%2C%2037.19589230774365%5D%2C%20%5B127.02929563655235%2C%2037.19787494412135%5D%2C%20%5B127.00186863458882%2C%2037.1747343711991%5D%2C%20%5B127.03019615684671%2C%2037.16027870494751%5D%2C%20%5B127.03746950511537%2C%2037.13336771678679%5D%2C%20%5B127.04304406837494%2C%2037.126222304219084%5D%2C%20%5B127.09127893510457%2C%2037.12882078023335%5D%2C%20%5B127.10575417734016%2C%2037.1407283236673%5D%5D%5D%2C%20%22type%22%3A%20%22Polygon%22%7D%2C%20%22properties%22%3A%20%7B%22base_year%22%3A%202013%2C%20%22code%22%3A%2031140%2C%20%22name%22%3A%20%22%5Cuc624%5Cuc0b0%5Cuc2dc%22%2C%20%22name_eng%22%3A%20%22Osan-si%22%7D%2C%20%22type%22%3A%20%22Feature%22%7D%2C%20%7B%22geometry%22%3A%20%7B%22coordinates%22%3A%20%5B%5B%5B127.2686525155809%2C%2037.777676803810074%5D%2C%20%5B127.26186907661463%2C%2037.765678541736996%5D%2C%20%5B127.22719439323131%2C%2037.750666435161854%5D%2C%20%5B127.21510645674604%2C%2037.75873586709106%5D%2C%20%5B127.18575971970597%2C%2037.76186443408089%5D%2C%20%5B127.17524551122212%2C%2037.751938183429424%5D%2C%20%5B127.14882403466048%2C%2037.75206030443599%5D%2C%20%5B127.13060037316637%2C%2037.74504865443316%5D%2C%20%5B127.12788299600184%2C%2037.72469254066713%5D%2C%20%5B127.0838752703195%2C%2037.69359534202034%5D%2C%20%5B127.09706391309695%2C%2037.686383719372294%5D%2C%20%5B127.09440766298717%2C%2037.64713490473045%5D%2C%20%5B127.11326795855199%2C%2037.639622905315925%5D%2C%20%5B127.1523782881412%2C%2037.63663639743511%5D%2C%20%5B127.14554907981939%2C%2037.61784095180692%5D%2C%20%5B127.16683184366129%2C%2037.57672487388627%5D%2C%20%5B127.20140811211739%2C%2037.58834877432742%5D%2C%20%5B127.23635034049964%2C%2037.55494536243556%5D%2C%20%5B127.23688890922413%2C%2037.546307321113254%5D%2C%20%5B127.28111702399318%2C%2037.523561821461996%5D%2C%20%5B127.28971082577908%2C%2037.51069218442014%5D%2C%20%5B127.30923294884336%2C%2037.5135706079458%5D%2C%20%5B127.31002843450217%2C%2037.53523876142835%5D%2C%20%5B127.34360057873045%2C%2037.588997440929354%5D%2C%20%5B127.3542931884407%2C%2037.6250006376975%5D%2C%20%5B127.3732642199939%2C%2037.6453987554284%5D%2C%20%5B127.38133544278186%2C%2037.67180837890239%5D%2C%20%5B127.35557114419971%2C%2037.701041217064585%5D%2C%20%5B127.35759057077398%2C%2037.720909295881434%5D%2C%20%5B127.34501289752937%2C%2037.7266690692075%5D%2C%20%5B127.32070791913966%2C%2037.76445271893134%5D%2C%20%5B127.2686525155809%2C%2037.777676803810074%5D%5D%5D%2C%20%22type%22%3A%20%22Polygon%22%7D%2C%20%22properties%22%3A%20%7B%22base_year%22%3A%202013%2C%20%22code%22%3A%2031130%2C%20%22name%22%3A%20%22%5Cub0a8%5Cuc591%5Cuc8fc%5Cuc2dc%22%2C%20%22name_eng%22%3A%20%22Namyangju-si%22%7D%2C%20%22type%22%3A%20%22Feature%22%7D%2C%20%7B%22geometry%22%3A%20%7B%22coordinates%22%3A%20%5B%5B%5B127.11326795855199%2C%2037.639622905315925%5D%2C%20%5B127.10782277688129%2C%2037.61804244241069%5D%2C%20%5B127.1201246020114%2C%2037.60178457598188%5D%2C%20%5B127.10304174249214%2C%2037.57076342290955%5D%2C%20%5B127.11519584981606%2C%2037.557533180704915%5D%2C%20%5B127.16683184366129%2C%2037.57672487388627%5D%2C%20%5B127.14554907981939%2C%2037.61784095180692%5D%2C%20%5B127.1523782881412%2C%2037.63663639743511%5D%2C%20%5B127.11326795855199%2C%2037.639622905315925%5D%5D%5D%2C%20%22type%22%3A%20%22Polygon%22%7D%2C%20%22properties%22%3A%20%7B%22base_year%22%3A%202013%2C%20%22code%22%3A%2031120%2C%20%22name%22%3A%20%22%5Cuad6c%5Cub9ac%5Cuc2dc%22%2C%20%22name_eng%22%3A%20%22Guri-si%22%7D%2C%20%22type%22%3A%20%22Feature%22%7D%2C%20%7B%22geometry%22%3A%20%7B%22coordinates%22%3A%20%5B%5B%5B126.99072073195462%2C%2037.455326143310025%5D%2C%20%5B126.96520439085143%2C%2037.438249784006246%5D%2C%20%5B126.96342494806345%2C%2037.42289846046814%5D%2C%20%5B126.98466887829045%2C%2037.39785909018114%5D%2C%20%5B127.0154646349186%2C%2037.411005997724835%5D%2C%20%5B127.04377994345505%2C%2037.41281928664435%5D%2C%20%5B127.04957232987142%2C%2037.42805836845694%5D%2C%20%5B127.03881782597922%2C%2037.45382039851715%5D%2C%20%5B126.99072073195462%2C%2037.455326143310025%5D%5D%5D%2C%20%22type%22%3A%20%22Polygon%22%7D%2C%20%22properties%22%3A%20%7B%22base_year%22%3A%202013%2C%20%22code%22%3A%2031110%2C%20%22name%22%3A%20%22%5Cuacfc%5Cucc9c%5Cuc2dc%22%2C%20%22name_eng%22%3A%20%22Gwacheon-si%22%7D%2C%20%22type%22%3A%20%22Feature%22%7D%2C%20%7B%22geometry%22%3A%20%7B%22coordinates%22%3A%20%5B%5B%5B126.67862254618308%2C%2037.697305342702336%5D%2C%20%5B126.6733552623039%2C%2037.67370888254625%5D%2C%20%5B126.74300328815525%2C%2037.63613822400079%5D%2C%20%5B126.74294383613385%2C%2037.6511173927548%5D%2C%20%5B126.77194259250199%2C%2037.665292527690774%5D%2C%20%5B126.78018904849759%2C%2037.678448868614744%5D%2C%20%5B126.77635483402547%2C%2037.70188604497484%5D%2C%20%5B126.72711651649912%2C%2037.70166318681986%5D%2C%20%5B126.69372674409394%2C%2037.687413022894034%5D%2C%20%5B126.67862254618308%2C%2037.697305342702336%5D%5D%5D%2C%20%22type%22%3A%20%22Polygon%22%7D%2C%20%22properties%22%3A%20%7B%22base_year%22%3A%202013%2C%20%22code%22%3A%2031104%2C%20%22name%22%3A%20%22%5Cuace0%5Cuc591%5Cuc2dc%5Cuc77c%5Cuc0b0%5Cuc11c%5Cuad6c%22%2C%20%22name_eng%22%3A%20%22Goyangsiilsanseogu%22%7D%2C%20%22type%22%3A%20%22Feature%22%7D%2C%20%7B%22geometry%22%3A%20%7B%22coordinates%22%3A%20%5B%5B%5B126.77635483402547%2C%2037.70188604497484%5D%2C%20%5B126.78018904849759%2C%2037.678448868614744%5D%2C%20%5B126.77194259250199%2C%2037.665292527690774%5D%2C%20%5B126.74294383613385%2C%2037.6511173927548%5D%2C%20%5B126.74300328815525%2C%2037.63613822400079%5D%2C%20%5B126.77608157956732%2C%2037.61940269153496%5D%2C%20%5B126.79710848915354%2C%2037.6372950352041%5D%2C%20%5B126.83512162789108%2C%2037.680020660541864%5D%2C%20%5B126.85703023929057%2C%2037.68935027811791%5D%2C%20%5B126.83772078982989%2C%2037.72529130369535%5D%2C%20%5B126.81634118925638%2C%2037.72071803262515%5D%2C%20%5B126.79766531143225%2C%2037.730785143520876%5D%2C%20%5B126.77635483402547%2C%2037.70188604497484%5D%5D%5D%2C%20%22type%22%3A%20%22Polygon%22%7D%2C%20%22properties%22%3A%20%7B%22base_year%22%3A%202013%2C%20%22code%22%3A%2031103%2C%20%22name%22%3A%20%22%5Cuace0%5Cuc591%5Cuc2dc%5Cuc77c%5Cuc0b0%5Cub3d9%5Cuad6c%22%2C%20%22name_eng%22%3A%20%22Goyangsiilsandonggu%22%7D%2C%20%22type%22%3A%20%22Feature%22%7D%2C%20%7B%22geometry%22%3A%20%7B%22coordinates%22%3A%20%5B%5B%5B126.83772078982989%2C%2037.72529130369535%5D%2C%20%5B126.85703023929057%2C%2037.68935027811791%5D%2C%20%5B126.83512162789108%2C%2037.680020660541864%5D%2C%20%5B126.79710848915354%2C%2037.6372950352041%5D%2C%20%5B126.77608157956732%2C%2037.61940269153496%5D%2C%20%5B126.80702115023597%2C%2037.60123001013228%5D%2C%20%5B126.82251438477105%2C%2037.5880430810082%5D%2C%20%5B126.85984199399667%2C%2037.571847855292745%5D%2C%20%5B126.88433284773288%2C%2037.588143322880526%5D%2C%20%5B126.90396681003595%2C%2037.59227403419942%5D%2C%20%5B126.90303066177668%2C%2037.609977911401344%5D%2C%20%5B126.91455481429648%2C%2037.64150050996935%5D%2C%20%5B126.956473797387%2C%2037.652480737339445%5D%2C%20%5B126.9738864128702%2C%2037.62949634786888%5D%2C%20%5B126.977175406416%2C%2037.62859715400388%5D%2C%20%5B126.98672705513869%2C%2037.63377641288196%5D%2C%20%5B126.9817452676551%2C%2037.65209769387776%5D%2C%20%5B126.99383903424%2C%2037.676681761199085%5D%2C%20%5B126.96734461801938%2C%2037.68969305565268%5D%2C%20%5B126.94689093217877%2C%2037.68234333447953%5D%2C%20%5B126.94191948970435%2C%2037.66797237250146%5D%2C%20%5B126.92290257733573%2C%2037.66907383915535%5D%2C%20%5B126.92470886562188%2C%2037.72916078041937%5D%2C%20%5B126.93180653905974%2C%2037.74575671706106%5D%2C%20%5B126.91088793086112%2C%2037.74418199544871%5D%2C%20%5B126.90425036668735%2C%2037.72565605361581%5D%2C%20%5B126.88536540501534%2C%2037.717034664244366%5D%2C%20%5B126.85856020555829%2C%2037.73179451375736%5D%2C%20%5B126.83772078982989%2C%2037.72529130369535%5D%5D%5D%2C%20%22type%22%3A%20%22Polygon%22%7D%2C%20%22properties%22%3A%20%7B%22base_year%22%3A%202013%2C%20%22code%22%3A%2031101%2C%20%22name%22%3A%20%22%5Cuace0%5Cuc591%5Cuc2dc%5Cub355%5Cuc591%5Cuad6c%22%2C%20%22name_eng%22%3A%20%22Goyangsideogyanggu%22%7D%2C%20%22type%22%3A%20%22Feature%22%7D%2C%20%7B%22geometry%22%3A%20%7B%22coordinates%22%3A%20%5B%5B%5B%5B126.61008573444688%2C%2037.30616739414492%5D%2C%20%5B126.58105759521007%2C%2037.2931329422869%5D%2C%20%5B126.5698046807071%2C%2037.27852472009729%5D%2C%20%5B126.55067246352256%2C%2037.27712401368454%5D%2C%20%5B126.56507568780702%2C%2037.25336773744705%5D%2C%20%5B126.56255063831487%2C%2037.239416423702146%5D%2C%20%5B126.54375626154638%2C%2037.22229105408503%5D%2C%20%5B126.546463851695%2C%2037.20350714902179%5D%2C%20%5B126.5705815554123%2C%2037.2014655738836%5D%2C%20%5B126.58721308393721%2C%2037.21775435498544%5D%2C%20%5B126.64889918632674%2C%2037.20793069915704%5D%2C%20%5B126.65235349062866%2C%2037.22264393643188%5D%2C%20%5B126.62465751982253%2C%2037.233811135502776%5D%2C%20%5B126.61085741500113%2C%2037.260209230779175%5D%2C%20%5B126.59892279766748%2C%2037.25959717398652%5D%2C%20%5B126.57228115154807%2C%2037.277020701082655%5D%2C%20%5B126.61008573444688%2C%2037.30616739414492%5D%5D%5D%2C%20%5B%5B%5B126.84283747134161%2C%2037.360869895636554%5D%2C%20%5B126.82580289305967%2C%2037.360321842249355%5D%2C%20%5B126.79105964941944%2C%2037.33699094698096%5D%2C%20%5B126.76357575956314%2C%2037.33864505297868%5D%2C%20%5B126.74059726902762%2C%2037.32685692943894%5D%2C%20%5B126.7248752674955%2C%2037.31058440885402%5D%2C%20%5B126.72765029203323%2C%2037.29949771063766%5D%2C%20%5B126.77466340206773%2C%2037.286577751987956%5D%2C%20%5B126.8184033400877%2C%2037.295179006004226%5D%2C%20%5B126.84357462735869%2C%2037.30283998653071%5D%2C%20%5B126.84283747134161%2C%2037.360869895636554%5D%5D%5D%5D%2C%20%22type%22%3A%20%22MultiPolygon%22%7D%2C%20%22properties%22%3A%20%7B%22base_year%22%3A%202013%2C%20%22code%22%3A%2031092%2C%20%22name%22%3A%20%22%5Cuc548%5Cuc0b0%5Cuc2dc%5Cub2e8%5Cuc6d0%5Cuad6c%22%2C%20%22name_eng%22%3A%20%22Ansansidanwongu%22%7D%2C%20%22type%22%3A%20%22Feature%22%7D%2C%20%7B%22geometry%22%3A%20%7B%22coordinates%22%3A%20%5B%5B%5B126.84283747134161%2C%2037.360869895636554%5D%2C%20%5B126.84357462735869%2C%2037.30283998653071%5D%2C%20%5B126.8184033400877%2C%2037.295179006004226%5D%2C%20%5B126.84641021832398%2C%2037.26433293772644%5D%2C%20%5B126.9159468889861%2C%2037.28864104563552%5D%2C%20%5B126.92946761531998%2C%2037.275967848758626%5D%2C%20%5B126.93504702033805%2C%2037.3002209928663%5D%2C%20%5B126.93252071350132%2C%2037.30423856869929%5D%2C%20%5B126.9092771218202%2C%2037.318694910599305%5D%2C%20%5B126.88015838809775%2C%2037.316795632219964%5D%2C%20%5B126.89932903785872%2C%2037.35524703438324%5D%2C%20%5B126.88400175928666%2C%2037.37340263600163%5D%2C%20%5B126.86691937294266%2C%2037.358697064350324%5D%2C%20%5B126.84283747134161%2C%2037.360869895636554%5D%5D%5D%2C%20%22type%22%3A%20%22Polygon%22%7D%2C%20%22properties%22%3A%20%7B%22base_year%22%3A%202013%2C%20%22code%22%3A%2031091%2C%20%22name%22%3A%20%22%5Cuc548%5Cuc0b0%5Cuc2dc%5Cuc0c1%5Cub85d%5Cuad6c%22%2C%20%22name_eng%22%3A%20%22Ansansisangnokgu%22%7D%2C%20%22type%22%3A%20%22Feature%22%7D%2C%20%7B%22geometry%22%3A%20%7B%22coordinates%22%3A%20%5B%5B%5B127.01215278654801%2C%2037.924817815480985%5D%2C%20%5B127.01281974367026%2C%2037.90171539201257%5D%2C%20%5B127.04837406784853%2C%2037.891090496591005%5D%2C%20%5B127.06250430862417%2C%2037.86658619508279%5D%2C%20%5B127.09509254572018%2C%2037.86843288571378%5D%2C%20%5B127.1113003891929%2C%2037.85708813371199%5D%2C%20%5B127.13067707221735%2C%2037.87115064756639%5D%2C%20%5B127.14908802054492%2C%2037.87326470277757%5D%2C%20%5B127.15777209998105%2C%2037.89291633342494%5D%2C%20%5B127.1480788721724%2C%2037.909108279220675%5D%2C%20%5B127.1240834119586%2C%2037.913726790414486%5D%2C%20%5B127.09382742820131%2C%2037.968691278173%5D%2C%20%5B127.05589127856165%2C%2037.978154747876275%5D%2C%20%5B127.02968085272437%2C%2037.9404013715077%5D%2C%20%5B127.01215278654801%2C%2037.924817815480985%5D%5D%5D%2C%20%22type%22%3A%20%22Polygon%22%7D%2C%20%22properties%22%3A%20%7B%22base_year%22%3A%202013%2C%20%22code%22%3A%2031080%2C%20%22name%22%3A%20%22%5Cub3d9%5Cub450%5Cucc9c%5Cuc2dc%22%2C%20%22name_eng%22%3A%20%22Dongducheon-si%22%7D%2C%20%22type%22%3A%20%22Feature%22%7D%2C%20%7B%22geometry%22%3A%20%7B%22coordinates%22%3A%20%5B%5B%5B127.10575417734016%2C%2037.1407283236673%5D%2C%20%5B127.09127893510457%2C%2037.12882078023335%5D%2C%20%5B127.04304406837494%2C%2037.126222304219084%5D%2C%20%5B127.03746950511537%2C%2037.13336771678679%5D%2C%20%5B127.00593012741142%2C%2037.124105707924144%5D%2C%20%5B127.00102521866197%2C%2037.08973596266607%5D%2C%20%5B126.98672297136514%2C%2037.06879655242586%5D%2C%20%5B126.95290081243859%2C%2037.06545814826726%5D%2C%20%5B126.94247588185057%2C%2037.057958386286046%5D%2C%20%5B126.90291323437098%2C%2037.06724127811693%5D%2C%20%5B126.8846211892453%2C%2037.05795114472113%5D%2C%20%5B126.85940022959993%2C%2037.022131594683266%5D%2C%20%5B126.84014623559027%2C%2037.01079503386266%5D%2C%20%5B126.79899352215931%2C%2037.0092005991418%5D%2C%20%5B126.79429045878248%2C%2037.002375311346476%5D%2C%20%5B126.82743835677269%2C%2036.984262588052744%5D%2C%20%5B126.84836832892641%2C%2036.9565513163949%5D%2C%20%5B126.86448993272457%2C%2036.94597945683675%5D%2C%20%5B126.86630821363053%2C%2036.92982214702114%5D%2C%20%5B126.88907059918661%2C%2036.933221090048846%5D%2C%20%5B126.90658712032098%2C%2036.92311369494381%5D%2C%20%5B126.91083667953751%2C%2036.90208156398722%5D%2C%20%5B126.99750165503437%2C%2036.93264776697853%5D%2C%20%5B127.03383288513524%2C%2036.925469265383704%5D%2C%20%5B127.07603768486679%2C%2036.935523531907464%5D%2C%20%5B127.11553676419611%2C%2036.969747255651924%5D%2C%20%5B127.1216062947912%2C%2036.96626164975953%5D%2C%20%5B127.13779801966723%2C%2036.99041291045364%5D%2C%20%5B127.15496570056612%2C%2036.99487383420599%5D%2C%20%5B127.14747724307254%2C%2037.0138188945719%5D%2C%20%5B127.15517998352519%2C%2037.026613262831916%5D%2C%20%5B127.10740090841584%2C%2037.0328875639127%5D%2C%20%5B127.12948838054707%2C%2037.04966079815856%5D%2C%20%5B127.12516729074011%2C%2037.08849523189945%5D%2C%20%5B127.11116461643066%2C%2037.123859739458304%5D%2C%20%5B127.12480483538663%2C%2037.14166379699704%5D%2C%20%5B127.10575417734016%2C%2037.1407283236673%5D%5D%5D%2C%20%22type%22%3A%20%22Polygon%22%7D%2C%20%22properties%22%3A%20%7B%22base_year%22%3A%202013%2C%20%22code%22%3A%2031070%2C%20%22name%22%3A%20%22%5Cud3c9%5Cud0dd%5Cuc2dc%22%2C%20%22name_eng%22%3A%20%22Pyeongtaek-si%22%7D%2C%20%22type%22%3A%20%22Feature%22%7D%2C%20%7B%22geometry%22%3A%20%7B%22coordinates%22%3A%20%5B%5B%5B126.83549485076196%2C%2037.474098236975095%5D%2C%20%5B126.8280587234361%2C%2037.456596986921056%5D%2C%20%5B126.8484052155556%2C%2037.40965572330444%5D%2C%20%5B126.85964157227416%2C%2037.398615706957116%5D%2C%20%5B126.879093453746%2C%2037.399239167854816%5D%2C%20%5B126.9025831711697%2C%2037.434549366349124%5D%2C%20%5B126.87683271502428%2C%2037.482576591607305%5D%2C%20%5B126.84762676054953%2C%2037.47146723936323%5D%2C%20%5B126.83549485076196%2C%2037.474098236975095%5D%5D%5D%2C%20%22type%22%3A%20%22Polygon%22%7D%2C%20%22properties%22%3A%20%7B%22base_year%22%3A%202013%2C%20%22code%22%3A%2031060%2C%20%22name%22%3A%20%22%5Cuad11%5Cuba85%5Cuc2dc%22%2C%20%22name_eng%22%3A%20%22Gwangmyeong-si%22%7D%2C%20%22type%22%3A%20%22Feature%22%7D%2C%20%7B%22geometry%22%3A%20%7B%22coordinates%22%3A%20%5B%5B%5B126.76979180579352%2C%2037.55139183008809%5D%2C%20%5B126.76241572251033%2C%2037.52129679978721%5D%2C%20%5B126.76236682035514%2C%2037.51516388559986%5D%2C%20%5B126.79948253277924%2C%2037.50297839620806%5D%2C%20%5B126.82504736331406%2C%2037.50302612640443%5D%2C%20%5B126.82688081517314%2C%2037.50548972232896%5D%2C%20%5B126.8242331426722%2C%2037.53788078753248%5D%2C%20%5B126.77324417717703%2C%2037.5459123450554%5D%2C%20%5B126.76979180579352%2C%2037.55139183008809%5D%5D%5D%2C%20%22type%22%3A%20%22Polygon%22%7D%2C%20%22properties%22%3A%20%7B%22base_year%22%3A%202013%2C%20%22code%22%3A%2031053%2C%20%22name%22%3A%20%22%5Cubd80%5Cucc9c%5Cuc2dc%5Cuc624%5Cuc815%5Cuad6c%22%2C%20%22name_eng%22%3A%20%22Bucheonsiojeonggu%22%7D%2C%20%22type%22%3A%20%22Feature%22%7D%2C%20%7B%22geometry%22%3A%20%7B%22coordinates%22%3A%20%5B%5B%5B126.82264796791348%2C%2037.4878476492147%5D%2C%20%5B126.80525536231318%2C%2037.479599517462205%5D%2C%20%5B126.74449661749888%2C%2037.48568861244349%5D%2C%20%5B126.76982226270037%2C%2037.468955688388995%5D%2C%20%5B126.78024890848009%2C%2037.469000573789124%5D%2C%20%5B126.8280587234361%2C%2037.456596986921056%5D%2C%20%5B126.83549485076196%2C%2037.474098236975095%5D%2C%20%5B126.82264796791348%2C%2037.4878476492147%5D%5D%5D%2C%20%22type%22%3A%20%22Polygon%22%7D%2C%20%22properties%22%3A%20%7B%22base_year%22%3A%202013%2C%20%22code%22%3A%2031052%2C%20%22name%22%3A%20%22%5Cubd80%5Cucc9c%5Cuc2dc%5Cuc18c%5Cuc0ac%5Cuad6c%22%2C%20%22name_eng%22%3A%20%22Bucheonsisosagu%22%7D%2C%20%22type%22%3A%20%22Feature%22%7D%2C%20%7B%22geometry%22%3A%20%7B%22coordinates%22%3A%20%5B%5B%5B126.76236682035514%2C%2037.51516388559986%5D%2C%20%5B126.74717949233765%2C%2037.511283448979185%5D%2C%20%5B126.74449661749888%2C%2037.48568861244349%5D%2C%20%5B126.80525536231318%2C%2037.479599517462205%5D%2C%20%5B126.82264796791348%2C%2037.4878476492147%5D%2C%20%5B126.82504736331406%2C%2037.50302612640443%5D%2C%20%5B126.79948253277924%2C%2037.50297839620806%5D%2C%20%5B126.76236682035514%2C%2037.51516388559986%5D%5D%5D%2C%20%22type%22%3A%20%22Polygon%22%7D%2C%20%22properties%22%3A%20%7B%22base_year%22%3A%202013%2C%20%22code%22%3A%2031051%2C%20%22name%22%3A%20%22%5Cubd80%5Cucc9c%5Cuc2dc%5Cuc6d0%5Cubbf8%5Cuad6c%22%2C%20%22name_eng%22%3A%20%22Bucheonsiwonmigu%22%7D%2C%20%22type%22%3A%20%22Feature%22%7D%2C%20%7B%22geometry%22%3A%20%7B%22coordinates%22%3A%20%5B%5B%5B126.95000001010182%2C%2037.43613451165719%5D%2C%20%5B126.949527627869%2C%2037.419039331795105%5D%2C%20%5B126.92899112782491%2C%2037.41260755123917%5D%2C%20%5B126.9429122120182%2C%2037.37630880537034%5D%2C%20%5B126.96423328330341%2C%2037.358735102948096%5D%2C%20%5B126.98466887829045%2C%2037.39785909018114%5D%2C%20%5B126.96342494806345%2C%2037.42289846046814%5D%2C%20%5B126.96520439085143%2C%2037.438249784006246%5D%2C%20%5B126.95000001010182%2C%2037.43613451165719%5D%5D%5D%2C%20%22type%22%3A%20%22Polygon%22%7D%2C%20%22properties%22%3A%20%7B%22base_year%22%3A%202013%2C%20%22code%22%3A%2031042%2C%20%22name%22%3A%20%22%5Cuc548%5Cuc591%5Cuc2dc%5Cub3d9%5Cuc548%5Cuad6c%22%2C%20%22name_eng%22%3A%20%22Anyangsidongangu%22%7D%2C%20%22type%22%3A%20%22Feature%22%7D%2C%20%7B%22geometry%22%3A%20%7B%22coordinates%22%3A%20%5B%5B%5B126.93084408056525%2C%2037.447382928333994%5D%2C%20%5B126.9025831711697%2C%2037.434549366349124%5D%2C%20%5B126.879093453746%2C%2037.399239167854816%5D%2C%20%5B126.88400175928666%2C%2037.37340263600163%5D%2C%20%5B126.89932903785872%2C%2037.35524703438324%5D%2C%20%5B126.9163870114383%2C%2037.37253977179312%5D%2C%20%5B126.9429122120182%2C%2037.37630880537034%5D%2C%20%5B126.92899112782491%2C%2037.41260755123917%5D%2C%20%5B126.949527627869%2C%2037.419039331795105%5D%2C%20%5B126.95000001010182%2C%2037.43613451165719%5D%2C%20%5B126.93084408056525%2C%2037.447382928333994%5D%5D%5D%2C%20%22type%22%3A%20%22Polygon%22%7D%2C%20%22properties%22%3A%20%7B%22base_year%22%3A%202013%2C%20%22code%22%3A%2031041%2C%20%22name%22%3A%20%22%5Cuc548%5Cuc591%5Cuc2dc%5Cub9cc%5Cuc548%5Cuad6c%22%2C%20%22name_eng%22%3A%20%22Anyangsimanangu%22%7D%2C%20%22type%22%3A%20%22Feature%22%7D%2C%20%7B%22geometry%22%3A%20%7B%22coordinates%22%3A%20%5B%5B%5B127.10645686970089%2C%2037.776897580693586%5D%2C%20%5B127.05297245855259%2C%2037.75816755994106%5D%2C%20%5B127.02081299427202%2C%2037.76581418787214%5D%2C%20%5B127.00437834122181%2C%2037.75999833868866%5D%2C%20%5B127.00430024727942%2C%2037.73792676357612%5D%2C%20%5B127.01477890845196%2C%2037.722832167524864%5D%2C%20%5B127.01795099203432%2C%2037.69824412775662%5D%2C%20%5B127.05288479710485%2C%2037.68423857084347%5D%2C%20%5B127.0838752703195%2C%2037.69359534202034%5D%2C%20%5B127.12788299600184%2C%2037.72469254066713%5D%2C%20%5B127.13060037316637%2C%2037.74504865443316%5D%2C%20%5B127.14882403466048%2C%2037.75206030443599%5D%2C%20%5B127.14177735342194%2C%2037.76129795333661%5D%2C%20%5B127.10645686970089%2C%2037.776897580693586%5D%5D%5D%2C%20%22type%22%3A%20%22Polygon%22%7D%2C%20%22properties%22%3A%20%7B%22base_year%22%3A%202013%2C%20%22code%22%3A%2031030%2C%20%22name%22%3A%20%22%5Cuc758%5Cuc815%5Cubd80%5Cuc2dc%22%2C%20%22name_eng%22%3A%20%22Uijeongbu-si%22%7D%2C%20%22type%22%3A%20%22Feature%22%7D%2C%20%7B%22geometry%22%3A%20%7B%22coordinates%22%3A%20%5B%5B%5B127.17637586604776%2C%2037.40261052326208%5D%2C%20%5B127.13644513246508%2C%2037.41439912020601%5D%2C%20%5B127.12007310029206%2C%2037.41239460373164%5D%2C%20%5B127.08636547533024%2C%2037.39425612519828%5D%2C%20%5B127.04580444799605%2C%2037.40139072056455%5D%2C%20%5B127.03004539569396%2C%2037.36932312139811%5D%2C%20%5B127.07299151640797%2C%2037.35485426174942%5D%2C%20%5B127.11899182435063%2C%2037.33059044022546%5D%2C%20%5B127.13845652996186%2C%2037.336816804055495%5D%2C%20%5B127.13605700285002%2C%2037.35565614606753%5D%2C%20%5B127.15506886795262%2C%2037.36076173403712%5D%2C%20%5B127.17637586604776%2C%2037.40261052326208%5D%5D%5D%2C%20%22type%22%3A%20%22Polygon%22%7D%2C%20%22properties%22%3A%20%7B%22base_year%22%3A%202013%2C%20%22code%22%3A%2031023%2C%20%22name%22%3A%20%22%5Cuc131%5Cub0a8%5Cuc2dc%5Cubd84%5Cub2f9%5Cuad6c%22%2C%20%22name_eng%22%3A%20%22Seongnamsibundanggu%22%7D%2C%20%22type%22%3A%20%22Feature%22%7D%2C%20%7B%22geometry%22%3A%20%7B%22coordinates%22%3A%20%5B%5B%5B127.17807401290999%2C%2037.46939077799968%5D%2C%20%5B127.1582459546436%2C%2037.44164184148139%5D%2C%20%5B127.12050056435223%2C%2037.429512812695165%5D%2C%20%5B127.12007310029206%2C%2037.41239460373164%5D%2C%20%5B127.13644513246508%2C%2037.41439912020601%5D%2C%20%5B127.17637586604776%2C%2037.40261052326208%5D%2C%20%5B127.19594474070001%2C%2037.421269309284035%5D%2C%20%5B127.19808034941583%2C%2037.441066604883545%5D%2C%20%5B127.1831716097913%2C%2037.47048077053623%5D%2C%20%5B127.17807401290999%2C%2037.46939077799968%5D%5D%5D%2C%20%22type%22%3A%20%22Polygon%22%7D%2C%20%22properties%22%3A%20%7B%22base_year%22%3A%202013%2C%20%22code%22%3A%2031022%2C%20%22name%22%3A%20%22%5Cuc131%5Cub0a8%5Cuc2dc%5Cuc911%5Cuc6d0%5Cuad6c%22%2C%20%22name_eng%22%3A%20%22Seongnamsijungwongu%22%7D%2C%20%22type%22%3A%20%22Feature%22%7D%2C%20%7B%22geometry%22%3A%20%7B%22coordinates%22%3A%20%5B%5B%5B127.17807401290999%2C%2037.46939077799968%5D%2C%20%5B127.14206058413274%2C%2037.47089819098501%5D%2C%20%5B127.12440571080893%2C%2037.46240445587048%5D%2C%20%5B127.09842759318751%2C%2037.45862253857461%5D%2C%20%5B127.09046928565951%2C%2037.44296826114185%5D%2C%20%5B127.06778107605433%2C%2037.426197424057314%5D%2C%20%5B127.04957232987142%2C%2037.42805836845694%5D%2C%20%5B127.04377994345505%2C%2037.41281928664435%5D%2C%20%5B127.04580444799605%2C%2037.40139072056455%5D%2C%20%5B127.08636547533024%2C%2037.39425612519828%5D%2C%20%5B127.12007310029206%2C%2037.41239460373164%5D%2C%20%5B127.12050056435223%2C%2037.429512812695165%5D%2C%20%5B127.1582459546436%2C%2037.44164184148139%5D%2C%20%5B127.17807401290999%2C%2037.46939077799968%5D%5D%5D%2C%20%22type%22%3A%20%22Polygon%22%7D%2C%20%22properties%22%3A%20%7B%22base_year%22%3A%202013%2C%20%22code%22%3A%2031021%2C%20%22name%22%3A%20%22%5Cuc131%5Cub0a8%5Cuc2dc%5Cuc218%5Cuc815%5Cuad6c%22%2C%20%22name_eng%22%3A%20%22Seongnamsisujeonggu%22%7D%2C%20%22type%22%3A%20%22Feature%22%7D%2C%20%7B%22geometry%22%3A%20%7B%22coordinates%22%3A%20%5B%5B%5B127.09199113357242%2C%2037.295585212583866%5D%2C%20%5B127.06269400142102%2C%2037.293755190822594%5D%2C%20%5B127.06304327683587%2C%2037.30610813773979%5D%2C%20%5B127.04202153059128%2C%2037.318511731862884%5D%2C%20%5B127.03603479622558%2C%2037.29037288813064%5D%2C%20%5B127.04615738146016%2C%2037.271876342625866%5D%2C%20%5B127.03877682368464%2C%2037.253688200306506%5D%2C%20%5B127.04178611512381%2C%2037.24066886027782%5D%2C%20%5B127.06878518378286%2C%2037.23731339587258%5D%2C%20%5B127.08680542938673%2C%2037.253775982641194%5D%2C%20%5B127.06718840393803%2C%2037.26860748709257%5D%2C%20%5B127.09104881579566%2C%2037.284308786190785%5D%2C%20%5B127.09199113357242%2C%2037.295585212583866%5D%5D%5D%2C%20%22type%22%3A%20%22Polygon%22%7D%2C%20%22properties%22%3A%20%7B%22base_year%22%3A%202013%2C%20%22code%22%3A%2031014%2C%20%22name%22%3A%20%22%5Cuc218%5Cuc6d0%5Cuc2dc%5Cuc601%5Cud1b5%5Cuad6c%22%2C%20%22name_eng%22%3A%20%22Suwonsiyeongtonggu%22%7D%2C%20%22type%22%3A%20%22Feature%22%7D%2C%20%7B%22geometry%22%3A%20%7B%22coordinates%22%3A%20%5B%5B%5B127.03603479622558%2C%2037.29037288813064%5D%2C%20%5B127.01130838681644%2C%2037.28269167363659%5D%2C%20%5B126.98086459483812%2C%2037.283743689221225%5D%2C%20%5B127.03877682368464%2C%2037.253688200306506%5D%2C%20%5B127.04615738146016%2C%2037.271876342625866%5D%2C%20%5B127.03603479622558%2C%2037.29037288813064%5D%5D%5D%2C%20%22type%22%3A%20%22Polygon%22%7D%2C%20%22properties%22%3A%20%7B%22base_year%22%3A%202013%2C%20%22code%22%3A%2031013%2C%20%22name%22%3A%20%22%5Cuc218%5Cuc6d0%5Cuc2dc%5Cud314%5Cub2ec%5Cuad6c%22%2C%20%22name_eng%22%3A%20%22Suwonsipaldalgu%22%7D%2C%20%22type%22%3A%20%22Feature%22%7D%2C%20%7B%22geometry%22%3A%20%7B%22coordinates%22%3A%20%5B%5B%5B126.96633916587045%2C%2037.29989574204989%5D%2C%20%5B126.93504702033805%2C%2037.3002209928663%5D%2C%20%5B126.92946761531998%2C%2037.275967848758626%5D%2C%20%5B126.93110125729105%2C%2037.260824951129344%5D%2C%20%5B126.95229769733274%2C%2037.2524826245201%5D%2C%20%5B126.97491964707861%2C%2037.22588531228192%5D%2C%20%5B127.02475029106094%2C%2037.22207898080851%5D%2C%20%5B127.04178611512381%2C%2037.24066886027782%5D%2C%20%5B127.03877682368464%2C%2037.253688200306506%5D%2C%20%5B126.98086459483812%2C%2037.283743689221225%5D%2C%20%5B126.96633916587045%2C%2037.29989574204989%5D%5D%5D%2C%20%22type%22%3A%20%22Polygon%22%7D%2C%20%22properties%22%3A%20%7B%22base_year%22%3A%202013%2C%20%22code%22%3A%2031012%2C%20%22name%22%3A%20%22%5Cuc218%5Cuc6d0%5Cuc2dc%5Cuad8c%5Cuc120%5Cuad6c%22%2C%20%22name_eng%22%3A%20%22Suwonsigwonseongu%22%7D%2C%20%22type%22%3A%20%22Feature%22%7D%2C%20%7B%22geometry%22%3A%20%7B%22coordinates%22%3A%20%5B%5B%5B127.02090967499298%2C%2037.348741503905366%5D%2C%20%5B126.98303616696394%2C%2037.32376927812144%5D%2C%20%5B126.96633916587045%2C%2037.29989574204989%5D%2C%20%5B126.98086459483812%2C%2037.283743689221225%5D%2C%20%5B127.01130838681644%2C%2037.28269167363659%5D%2C%20%5B127.03603479622558%2C%2037.29037288813064%5D%2C%20%5B127.04202153059128%2C%2037.318511731862884%5D%2C%20%5B127.03554038078946%2C%2037.341941908872045%5D%2C%20%5B127.02090967499298%2C%2037.348741503905366%5D%5D%5D%2C%20%22type%22%3A%20%22Polygon%22%7D%2C%20%22properties%22%3A%20%7B%22base_year%22%3A%202013%2C%20%22code%22%3A%2031011%2C%20%22name%22%3A%20%22%5Cuc218%5Cuc6d0%5Cuc2dc%5Cuc7a5%5Cuc548%5Cuad6c%22%2C%20%22name_eng%22%3A%20%22Suwonsijangangu%22%7D%2C%20%22type%22%3A%20%22Feature%22%7D%5D%2C%20%22type%22%3A%20%22FeatureCollection%22%7D%29%3B%0A%0A%20%20%20%20%20%20%20%20%0A%20%20%20%20%0A%20%20%20%20var%20color_map_2ce57ebdcb454d0b868eec95aaa8011e%20%3D%20%7B%7D%3B%0A%0A%20%20%20%20%0A%20%20%20%20color_map_2ce57ebdcb454d0b868eec95aaa8011e.color%20%3D%20d3.scale.threshold%28%29%0A%20%20%20%20%20%20%20%20%20%20%20%20%20%20.domain%28%5B45603.0%2C%2046498.27855711423%2C%2047393.55711422845%2C%2048288.835671342684%2C%2049184.114228456914%2C%2050079.392785571144%2C%2050974.67134268537%2C%2051869.9498997996%2C%2052765.22845691383%2C%2053660.50701402806%2C%2054555.78557114229%2C%2055451.06412825651%2C%2056346.34268537074%2C%2057241.621242484965%2C%2058136.899799599196%2C%2059032.178356713426%2C%2059927.45691382766%2C%2060822.73547094189%2C%2061718.01402805611%2C%2062613.29258517034%2C%2063508.57114228457%2C%2064403.849699398794%2C%2065299.128256513024%2C%2066194.40681362725%2C%2067089.68537074148%2C%2067984.96392785572%2C%2068880.24248496993%2C%2069775.52104208418%2C%2070670.79959919839%2C%2071566.07815631262%2C%2072461.35671342685%2C%2073356.63527054108%2C%2074251.91382765531%2C%2075147.19238476954%2C%2076042.47094188377%2C%2076937.74949899799%2C%2077833.02805611222%2C%2078728.30661322645%2C%2079623.58517034068%2C%2080518.86372745491%2C%2081414.14228456914%2C%2082309.42084168337%2C%2083204.69939879759%2C%2084099.97795591183%2C%2084995.25651302605%2C%2085890.53507014028%2C%2086785.81362725451%2C%2087681.09218436874%2C%2088576.37074148297%2C%2089471.64929859719%2C%2090366.92785571143%2C%2091262.20641282565%2C%2092157.48496993988%2C%2093052.7635270541%2C%2093948.04208416834%2C%2094843.32064128257%2C%2095738.59919839678%2C%2096633.87775551103%2C%2097529.15631262524%2C%2098424.43486973949%2C%2099319.7134268537%2C%20100214.99198396794%2C%20101110.27054108217%2C%20102005.5490981964%2C%20102900.82765531063%2C%20103796.10621242484%2C%20104691.38476953909%2C%20105586.6633266533%2C%20106481.94188376753%2C%20107377.22044088176%2C%20108272.498997996%2C%20109167.77755511022%2C%20110063.05611222444%2C%20110958.33466933868%2C%20111853.6132264529%2C%20112748.89178356713%2C%20113644.17034068136%2C%20114539.44889779559%2C%20115434.72745490982%2C%20116330.00601202405%2C%20117225.28456913828%2C%20118120.5631262525%2C%20119015.84168336673%2C%20119911.12024048096%2C%20120806.39879759519%2C%20121701.67735470942%2C%20122596.95591182365%2C%20123492.23446893788%2C%20124387.51302605211%2C%20125282.79158316633%2C%20126178.07014028056%2C%20127073.34869739479%2C%20127968.62725450902%2C%20128863.90581162325%2C%20129759.18436873748%2C%20130654.46292585171%2C%20131549.74148296594%2C%20132445.02004008016%2C%20133340.29859719437%2C%20134235.57715430862%2C%20135130.85571142286%2C%20136026.13426853708%2C%20136921.4128256513%2C%20137816.69138276554%2C%20138711.96993987975%2C%20139607.24849699397%2C%20140502.5270541082%2C%20141397.80561122246%2C%20142293.08416833667%2C%20143188.3627254509%2C%20144083.64128256514%2C%20144978.91983967938%2C%20145874.19839679357%2C%20146769.4769539078%2C%20147664.75551102206%2C%20148560.03406813627%2C%20149455.3126252505%2C%20150350.59118236473%2C%20151245.86973947898%2C%20152141.14829659316%2C%20153036.4268537074%2C%20153931.70541082165%2C%20154826.98396793587%2C%20155722.2625250501%2C%20156617.54108216433%2C%20157512.81963927858%2C%20158408.0981963928%2C%20159303.376753507%2C%20160198.65531062125%2C%20161093.93386773547%2C%20161989.21242484968%2C%20162884.49098196393%2C%20163779.76953907817%2C%20164675.0480961924%2C%20165570.3266533066%2C%20166465.60521042085%2C%20167360.88376753507%2C%20168256.16232464928%2C%20169151.44088176353%2C%20170046.71943887777%2C%20170941.997995992%2C%20171837.2765531062%2C%20172732.55511022045%2C%20173627.83366733466%2C%20174523.11222444888%2C%20175418.39078156312%2C%20176313.66933867737%2C%20177208.94789579159%2C%20178104.2264529058%2C%20178999.50501002005%2C%20179894.78356713426%2C%20180790.0621242485%2C%20181685.34068136272%2C%20182580.61923847697%2C%20183475.89779559118%2C%20184371.1763527054%2C%20185266.45490981964%2C%20186161.73346693386%2C%20187057.0120240481%2C%20187952.29058116232%2C%20188847.56913827657%2C%20189742.84769539078%2C%20190638.126252505%2C%20191533.40480961924%2C%20192428.68336673346%2C%20193323.9619238477%2C%20194219.24048096192%2C%20195114.51903807616%2C%20196009.79759519038%2C%20196905.0761523046%2C%20197800.35470941884%2C%20198695.63326653306%2C%20199590.9118236473%2C%20200486.19038076152%2C%20201381.46893787576%2C%20202276.74749498998%2C%20203172.02605210422%2C%20204067.30460921844%2C%20204962.58316633265%2C%20205857.8617234469%2C%20206753.1402805611%2C%20207648.41883767536%2C%20208543.69739478957%2C%20209438.97595190382%2C%20210334.25450901804%2C%20211229.53306613225%2C%20212124.8116232465%2C%20213020.0901803607%2C%20213915.36873747496%2C%20214810.64729458917%2C%20215705.92585170342%2C%20216601.20440881763%2C%20217496.48296593185%2C%20218391.7615230461%2C%20219287.0400801603%2C%20220182.31863727455%2C%20221077.59719438877%2C%20221972.87575150302%2C%20222868.15430861723%2C%20223763.43286573148%2C%20224658.7114228457%2C%20225553.9899799599%2C%20226449.26853707415%2C%20227344.54709418837%2C%20228239.8256513026%2C%20229135.10420841683%2C%20230030.38276553107%2C%20230925.6613226453%2C%20231820.9398797595%2C%20232716.21843687375%2C%20233611.49699398797%2C%20234506.7755511022%2C%20235402.05410821643%2C%20236297.33266533067%2C%20237192.6112224449%2C%20238087.8897795591%2C%20238983.16833667335%2C%20239878.44689378756%2C%20240773.7254509018%2C%20241669.00400801603%2C%20242564.28256513027%2C%20243459.5611222445%2C%20244354.83967935873%2C%20245250.11823647295%2C%20246145.39679358716%2C%20247040.6753507014%2C%20247935.95390781562%2C%20248831.23246492987%2C%20249726.51102204408%2C%20250621.78957915833%2C%20251517.06813627254%2C%20252412.34669338676%2C%20253307.625250501%2C%20254202.90380761522%2C%20255098.18236472947%2C%20255993.46092184368%2C%20256888.73947895793%2C%20257784.01803607214%2C%20258679.29659318636%2C%20259574.5751503006%2C%20260469.85370741482%2C%20261365.13226452906%2C%20262260.4108216433%2C%20263155.6893787575%2C%20264050.96793587174%2C%20264946.246492986%2C%20265841.5250501002%2C%20266736.8036072144%2C%20267632.08216432866%2C%20268527.36072144285%2C%20269422.63927855715%2C%20270317.91783567134%2C%20271213.1963927856%2C%20272108.4749498998%2C%20273003.753507014%2C%20273899.03206412826%2C%20274794.3106212425%2C%20275689.5891783567%2C%20276584.86773547094%2C%20277480.1462925852%2C%20278375.42484969937%2C%20279270.70340681367%2C%20280165.98196392786%2C%20281061.26052104204%2C%20281956.53907815635%2C%20282851.81763527053%2C%20283747.0961923848%2C%20284642.374749499%2C%20285537.6533066132%2C%20286432.93186372746%2C%20287328.2104208417%2C%20288223.4889779559%2C%20289118.76753507013%2C%20290014.0460921844%2C%20290909.32464929856%2C%20291804.60320641287%2C%20292699.88176352705%2C%20293595.16032064124%2C%20294490.43887775554%2C%20295385.71743486973%2C%20296280.995991984%2C%20297176.2745490982%2C%20298071.5531062124%2C%20298966.83166332665%2C%20299862.1102204409%2C%20300757.3887775551%2C%20301652.6673346693%2C%20302547.9458917836%2C%20303443.22444889776%2C%20304338.50300601206%2C%20305233.78156312625%2C%20306129.0601202405%2C%20307024.33867735474%2C%20307919.6172344689%2C%20308814.89579158317%2C%20309710.1743486974%2C%20310605.4529058116%2C%20311500.73146292585%2C%20312396.0100200401%2C%20313291.28857715434%2C%20314186.5671342685%2C%20315081.84569138277%2C%20315977.124248497%2C%20316872.4028056112%2C%20317767.68136272545%2C%20318662.9599198397%2C%20319558.23847695393%2C%20320453.5170340681%2C%20321348.79559118237%2C%20322244.0741482966%2C%20323139.3527054108%2C%20324034.63126252504%2C%20324929.9098196393%2C%20325825.18837675353%2C%20326720.4669338677%2C%20327615.74549098196%2C%20328511.0240480962%2C%20329406.3026052104%2C%20330301.58116232464%2C%20331196.8597194389%2C%20332092.13827655313%2C%20332987.4168336673%2C%20333882.69539078156%2C%20334777.9739478958%2C%20335673.25250501%2C%20336568.53106212424%2C%20337463.8096192385%2C%20338359.0881763527%2C%20339254.3667334669%2C%20340149.64529058116%2C%20341044.9238476954%2C%20341940.2024048096%2C%20342835.48096192384%2C%20343730.7595190381%2C%20344626.0380761523%2C%20345521.3166332665%2C%20346416.59519038076%2C%20347311.873747495%2C%20348207.1523046092%2C%20349102.43086172343%2C%20349997.7094188377%2C%20350892.9879759519%2C%20351788.2665330661%2C%20352683.54509018036%2C%20353578.8236472946%2C%20354474.10220440885%2C%20355369.38076152303%2C%20356264.6593186373%2C%20357159.9378757515%2C%20358055.2164328657%2C%20358950.49498997995%2C%20359845.7735470942%2C%20360741.05210420844%2C%20361636.33066132263%2C%20362531.6092184369%2C%20363426.8877755511%2C%20364322.1663326653%2C%20365217.44488977955%2C%20366112.7234468938%2C%20367008.00200400804%2C%20367903.2805611222%2C%20368798.5591182365%2C%20369693.8376753507%2C%20370589.1162324649%2C%20371484.39478957915%2C%20372379.6733466934%2C%20373274.95190380764%2C%20374170.2304609218%2C%20375065.5090180361%2C%20375960.7875751503%2C%20376856.0661322645%2C%20377751.34468937875%2C%20378646.623246493%2C%20379541.90180360724%2C%20380437.1803607214%2C%20381332.45891783567%2C%20382227.7374749499%2C%20383123.0160320641%2C%20384018.29458917835%2C%20384913.5731462926%2C%20385808.85170340684%2C%20386704.130260521%2C%20387599.40881763527%2C%20388494.6873747495%2C%20389389.9659318637%2C%20390285.24448897794%2C%20391180.5230460922%2C%20392075.80160320643%2C%20392971.0801603206%2C%20393866.35871743486%2C%20394761.6372745491%2C%20395656.91583166335%2C%20396552.19438877754%2C%20397447.4729458918%2C%20398342.75150300603%2C%20399238.0300601202%2C%20400133.30861723446%2C%20401028.5871743487%2C%20401923.86573146295%2C%20402819.14428857714%2C%20403714.4228456914%2C%20404609.70140280563%2C%20405504.9799599198%2C%20406400.25851703406%2C%20407295.5370741483%2C%20408190.81563126255%2C%20409086.09418837674%2C%20409981.372745491%2C%20410876.6513026052%2C%20411771.9298597194%2C%20412667.20841683366%2C%20413562.4869739479%2C%20414457.76553106215%2C%20415353.04408817634%2C%20416248.3226452906%2C%20417143.6012024048%2C%20418038.879759519%2C%20418934.15831663326%2C%20419829.4368737475%2C%20420724.71543086175%2C%20421619.99398797593%2C%20422515.2725450902%2C%20423410.5511022044%2C%20424305.8296593186%2C%20425201.10821643285%2C%20426096.3867735471%2C%20426991.66533066134%2C%20427886.94388777553%2C%20428782.2224448898%2C%20429677.501002004%2C%20430572.7795591182%2C%20431468.05811623245%2C%20432363.3366733467%2C%20433258.61523046094%2C%20434153.8937875751%2C%20435049.1723446894%2C%20435944.4509018036%2C%20436839.72945891786%2C%20437735.00801603205%2C%20438630.2865731463%2C%20439525.56513026054%2C%20440420.8436873747%2C%20441316.122244489%2C%20442211.4008016032%2C%20443106.67935871746%2C%20444001.95791583165%2C%20444897.2364729459%2C%20445792.51503006014%2C%20446687.7935871743%2C%20447583.07214428857%2C%20448478.3507014028%2C%20449373.62925851706%2C%20450268.90781563125%2C%20451164.1863727455%2C%20452059.46492985974%2C%20452954.7434869739%2C%20453850.02204408817%2C%20454745.3006012024%2C%20455640.57915831666%2C%20456535.85771543084%2C%20457431.1362725451%2C%20458326.41482965933%2C%20459221.6933867735%2C%20460116.97194388777%2C%20461012.250501002%2C%20461907.52905811626%2C%20462802.80761523044%2C%20463698.0861723447%2C%20464593.36472945893%2C%20465488.6432865731%2C%20466383.92184368736%2C%20467279.2004008016%2C%20468174.47895791585%2C%20469069.75751503004%2C%20469965.0360721443%2C%20470860.31462925853%2C%20471755.5931863727%2C%20472650.87174348696%2C%20473546.1503006012%2C%20474441.42885771545%2C%20475336.70741482964%2C%20476231.9859719439%2C%20477127.2645290581%2C%20478022.5430861724%2C%20478917.82164328656%2C%20479813.1002004008%2C%20480708.37875751505%2C%20481603.65731462924%2C%20482498.9358717435%2C%20483394.2144288577%2C%20484289.49298597197%2C%20485184.77154308616%2C%20486080.0501002004%2C%20486975.32865731465%2C%20487870.60721442883%2C%20488765.8857715431%2C%20489661.1643286573%2C%20490556.44288577157%2C%20491451.72144288576%2C%20492347.0%5D%29%0A%20%20%20%20%20%20%20%20%20%20%20%20%20%20.range%28%5B%27%23ffffb2ff%27%2C%20%27%23ffffb2ff%27%2C%20%27%23ffffb2ff%27%2C%20%27%23ffffb2ff%27%2C%20%27%23ffffb2ff%27%2C%20%27%23ffffb2ff%27%2C%20%27%23ffffb2ff%27%2C%20%27%23ffffb2ff%27%2C%20%27%23ffffb2ff%27%2C%20%27%23ffffb2ff%27%2C%20%27%23ffffb2ff%27%2C%20%27%23ffffb2ff%27%2C%20%27%23ffffb2ff%27%2C%20%27%23ffffb2ff%27%2C%20%27%23ffffb2ff%27%2C%20%27%23ffffb2ff%27%2C%20%27%23ffffb2ff%27%2C%20%27%23ffffb2ff%27%2C%20%27%23ffffb2ff%27%2C%20%27%23ffffb2ff%27%2C%20%27%23ffffb2ff%27%2C%20%27%23ffffb2ff%27%2C%20%27%23ffffb2ff%27%2C%20%27%23ffffb2ff%27%2C%20%27%23ffffb2ff%27%2C%20%27%23ffffb2ff%27%2C%20%27%23ffffb2ff%27%2C%20%27%23ffffb2ff%27%2C%20%27%23ffffb2ff%27%2C%20%27%23ffffb2ff%27%2C%20%27%23ffffb2ff%27%2C%20%27%23ffffb2ff%27%2C%20%27%23ffffb2ff%27%2C%20%27%23ffffb2ff%27%2C%20%27%23ffffb2ff%27%2C%20%27%23ffffb2ff%27%2C%20%27%23ffffb2ff%27%2C%20%27%23ffffb2ff%27%2C%20%27%23ffffb2ff%27%2C%20%27%23ffffb2ff%27%2C%20%27%23ffffb2ff%27%2C%20%27%23ffffb2ff%27%2C%20%27%23ffffb2ff%27%2C%20%27%23ffffb2ff%27%2C%20%27%23ffffb2ff%27%2C%20%27%23ffffb2ff%27%2C%20%27%23ffffb2ff%27%2C%20%27%23ffffb2ff%27%2C%20%27%23ffffb2ff%27%2C%20%27%23ffffb2ff%27%2C%20%27%23ffffb2ff%27%2C%20%27%23ffffb2ff%27%2C%20%27%23ffffb2ff%27%2C%20%27%23ffffb2ff%27%2C%20%27%23ffffb2ff%27%2C%20%27%23ffffb2ff%27%2C%20%27%23ffffb2ff%27%2C%20%27%23ffffb2ff%27%2C%20%27%23ffffb2ff%27%2C%20%27%23ffffb2ff%27%2C%20%27%23ffffb2ff%27%2C%20%27%23ffffb2ff%27%2C%20%27%23ffffb2ff%27%2C%20%27%23ffffb2ff%27%2C%20%27%23ffffb2ff%27%2C%20%27%23ffffb2ff%27%2C%20%27%23ffffb2ff%27%2C%20%27%23ffffb2ff%27%2C%20%27%23ffffb2ff%27%2C%20%27%23ffffb2ff%27%2C%20%27%23ffffb2ff%27%2C%20%27%23ffffb2ff%27%2C%20%27%23ffffb2ff%27%2C%20%27%23ffffb2ff%27%2C%20%27%23ffffb2ff%27%2C%20%27%23ffffb2ff%27%2C%20%27%23ffffb2ff%27%2C%20%27%23ffffb2ff%27%2C%20%27%23ffffb2ff%27%2C%20%27%23ffffb2ff%27%2C%20%27%23ffffb2ff%27%2C%20%27%23ffffb2ff%27%2C%20%27%23ffffb2ff%27%2C%20%27%23ffffb2ff%27%2C%20%27%23fed976ff%27%2C%20%27%23fed976ff%27%2C%20%27%23fed976ff%27%2C%20%27%23fed976ff%27%2C%20%27%23fed976ff%27%2C%20%27%23fed976ff%27%2C%20%27%23fed976ff%27%2C%20%27%23fed976ff%27%2C%20%27%23fed976ff%27%2C%20%27%23fed976ff%27%2C%20%27%23fed976ff%27%2C%20%27%23fed976ff%27%2C%20%27%23fed976ff%27%2C%20%27%23fed976ff%27%2C%20%27%23fed976ff%27%2C%20%27%23fed976ff%27%2C%20%27%23fed976ff%27%2C%20%27%23fed976ff%27%2C%20%27%23fed976ff%27%2C%20%27%23fed976ff%27%2C%20%27%23fed976ff%27%2C%20%27%23fed976ff%27%2C%20%27%23fed976ff%27%2C%20%27%23fed976ff%27%2C%20%27%23fed976ff%27%2C%20%27%23fed976ff%27%2C%20%27%23fed976ff%27%2C%20%27%23fed976ff%27%2C%20%27%23fed976ff%27%2C%20%27%23fed976ff%27%2C%20%27%23fed976ff%27%2C%20%27%23fed976ff%27%2C%20%27%23fed976ff%27%2C%20%27%23fed976ff%27%2C%20%27%23fed976ff%27%2C%20%27%23fed976ff%27%2C%20%27%23fed976ff%27%2C%20%27%23fed976ff%27%2C%20%27%23fed976ff%27%2C%20%27%23fed976ff%27%2C%20%27%23fed976ff%27%2C%20%27%23fed976ff%27%2C%20%27%23fed976ff%27%2C%20%27%23fed976ff%27%2C%20%27%23fed976ff%27%2C%20%27%23fed976ff%27%2C%20%27%23fed976ff%27%2C%20%27%23fed976ff%27%2C%20%27%23fed976ff%27%2C%20%27%23fed976ff%27%2C%20%27%23fed976ff%27%2C%20%27%23fed976ff%27%2C%20%27%23fed976ff%27%2C%20%27%23fed976ff%27%2C%20%27%23fed976ff%27%2C%20%27%23fed976ff%27%2C%20%27%23fed976ff%27%2C%20%27%23fed976ff%27%2C%20%27%23fed976ff%27%2C%20%27%23fed976ff%27%2C%20%27%23fed976ff%27%2C%20%27%23fed976ff%27%2C%20%27%23fed976ff%27%2C%20%27%23fed976ff%27%2C%20%27%23fed976ff%27%2C%20%27%23fed976ff%27%2C%20%27%23fed976ff%27%2C%20%27%23fed976ff%27%2C%20%27%23fed976ff%27%2C%20%27%23fed976ff%27%2C%20%27%23fed976ff%27%2C%20%27%23fed976ff%27%2C%20%27%23fed976ff%27%2C%20%27%23fed976ff%27%2C%20%27%23fed976ff%27%2C%20%27%23fed976ff%27%2C%20%27%23fed976ff%27%2C%20%27%23fed976ff%27%2C%20%27%23fed976ff%27%2C%20%27%23fed976ff%27%2C%20%27%23fed976ff%27%2C%20%27%23fed976ff%27%2C%20%27%23fed976ff%27%2C%20%27%23feb24cff%27%2C%20%27%23feb24cff%27%2C%20%27%23feb24cff%27%2C%20%27%23feb24cff%27%2C%20%27%23feb24cff%27%2C%20%27%23feb24cff%27%2C%20%27%23feb24cff%27%2C%20%27%23feb24cff%27%2C%20%27%23feb24cff%27%2C%20%27%23feb24cff%27%2C%20%27%23feb24cff%27%2C%20%27%23feb24cff%27%2C%20%27%23feb24cff%27%2C%20%27%23feb24cff%27%2C%20%27%23feb24cff%27%2C%20%27%23feb24cff%27%2C%20%27%23feb24cff%27%2C%20%27%23feb24cff%27%2C%20%27%23feb24cff%27%2C%20%27%23feb24cff%27%2C%20%27%23feb24cff%27%2C%20%27%23feb24cff%27%2C%20%27%23feb24cff%27%2C%20%27%23feb24cff%27%2C%20%27%23feb24cff%27%2C%20%27%23feb24cff%27%2C%20%27%23feb24cff%27%2C%20%27%23feb24cff%27%2C%20%27%23feb24cff%27%2C%20%27%23feb24cff%27%2C%20%27%23feb24cff%27%2C%20%27%23feb24cff%27%2C%20%27%23feb24cff%27%2C%20%27%23feb24cff%27%2C%20%27%23feb24cff%27%2C%20%27%23feb24cff%27%2C%20%27%23feb24cff%27%2C%20%27%23feb24cff%27%2C%20%27%23feb24cff%27%2C%20%27%23feb24cff%27%2C%20%27%23feb24cff%27%2C%20%27%23feb24cff%27%2C%20%27%23feb24cff%27%2C%20%27%23feb24cff%27%2C%20%27%23feb24cff%27%2C%20%27%23feb24cff%27%2C%20%27%23feb24cff%27%2C%20%27%23feb24cff%27%2C%20%27%23feb24cff%27%2C%20%27%23feb24cff%27%2C%20%27%23feb24cff%27%2C%20%27%23feb24cff%27%2C%20%27%23feb24cff%27%2C%20%27%23feb24cff%27%2C%20%27%23feb24cff%27%2C%20%27%23feb24cff%27%2C%20%27%23feb24cff%27%2C%20%27%23feb24cff%27%2C%20%27%23feb24cff%27%2C%20%27%23feb24cff%27%2C%20%27%23feb24cff%27%2C%20%27%23feb24cff%27%2C%20%27%23feb24cff%27%2C%20%27%23feb24cff%27%2C%20%27%23feb24cff%27%2C%20%27%23feb24cff%27%2C%20%27%23feb24cff%27%2C%20%27%23feb24cff%27%2C%20%27%23feb24cff%27%2C%20%27%23feb24cff%27%2C%20%27%23feb24cff%27%2C%20%27%23feb24cff%27%2C%20%27%23feb24cff%27%2C%20%27%23feb24cff%27%2C%20%27%23feb24cff%27%2C%20%27%23feb24cff%27%2C%20%27%23feb24cff%27%2C%20%27%23feb24cff%27%2C%20%27%23feb24cff%27%2C%20%27%23feb24cff%27%2C%20%27%23feb24cff%27%2C%20%27%23feb24cff%27%2C%20%27%23feb24cff%27%2C%20%27%23fd8d3cff%27%2C%20%27%23fd8d3cff%27%2C%20%27%23fd8d3cff%27%2C%20%27%23fd8d3cff%27%2C%20%27%23fd8d3cff%27%2C%20%27%23fd8d3cff%27%2C%20%27%23fd8d3cff%27%2C%20%27%23fd8d3cff%27%2C%20%27%23fd8d3cff%27%2C%20%27%23fd8d3cff%27%2C%20%27%23fd8d3cff%27%2C%20%27%23fd8d3cff%27%2C%20%27%23fd8d3cff%27%2C%20%27%23fd8d3cff%27%2C%20%27%23fd8d3cff%27%2C%20%27%23fd8d3cff%27%2C%20%27%23fd8d3cff%27%2C%20%27%23fd8d3cff%27%2C%20%27%23fd8d3cff%27%2C%20%27%23fd8d3cff%27%2C%20%27%23fd8d3cff%27%2C%20%27%23fd8d3cff%27%2C%20%27%23fd8d3cff%27%2C%20%27%23fd8d3cff%27%2C%20%27%23fd8d3cff%27%2C%20%27%23fd8d3cff%27%2C%20%27%23fd8d3cff%27%2C%20%27%23fd8d3cff%27%2C%20%27%23fd8d3cff%27%2C%20%27%23fd8d3cff%27%2C%20%27%23fd8d3cff%27%2C%20%27%23fd8d3cff%27%2C%20%27%23fd8d3cff%27%2C%20%27%23fd8d3cff%27%2C%20%27%23fd8d3cff%27%2C%20%27%23fd8d3cff%27%2C%20%27%23fd8d3cff%27%2C%20%27%23fd8d3cff%27%2C%20%27%23fd8d3cff%27%2C%20%27%23fd8d3cff%27%2C%20%27%23fd8d3cff%27%2C%20%27%23fd8d3cff%27%2C%20%27%23fd8d3cff%27%2C%20%27%23fd8d3cff%27%2C%20%27%23fd8d3cff%27%2C%20%27%23fd8d3cff%27%2C%20%27%23fd8d3cff%27%2C%20%27%23fd8d3cff%27%2C%20%27%23fd8d3cff%27%2C%20%27%23fd8d3cff%27%2C%20%27%23fd8d3cff%27%2C%20%27%23fd8d3cff%27%2C%20%27%23fd8d3cff%27%2C%20%27%23fd8d3cff%27%2C%20%27%23fd8d3cff%27%2C%20%27%23fd8d3cff%27%2C%20%27%23fd8d3cff%27%2C%20%27%23fd8d3cff%27%2C%20%27%23fd8d3cff%27%2C%20%27%23fd8d3cff%27%2C%20%27%23fd8d3cff%27%2C%20%27%23fd8d3cff%27%2C%20%27%23fd8d3cff%27%2C%20%27%23fd8d3cff%27%2C%20%27%23fd8d3cff%27%2C%20%27%23fd8d3cff%27%2C%20%27%23fd8d3cff%27%2C%20%27%23fd8d3cff%27%2C%20%27%23fd8d3cff%27%2C%20%27%23fd8d3cff%27%2C%20%27%23fd8d3cff%27%2C%20%27%23fd8d3cff%27%2C%20%27%23fd8d3cff%27%2C%20%27%23fd8d3cff%27%2C%20%27%23fd8d3cff%27%2C%20%27%23fd8d3cff%27%2C%20%27%23fd8d3cff%27%2C%20%27%23fd8d3cff%27%2C%20%27%23fd8d3cff%27%2C%20%27%23fd8d3cff%27%2C%20%27%23fd8d3cff%27%2C%20%27%23fd8d3cff%27%2C%20%27%23fd8d3cff%27%2C%20%27%23f03b20ff%27%2C%20%27%23f03b20ff%27%2C%20%27%23f03b20ff%27%2C%20%27%23f03b20ff%27%2C%20%27%23f03b20ff%27%2C%20%27%23f03b20ff%27%2C%20%27%23f03b20ff%27%2C%20%27%23f03b20ff%27%2C%20%27%23f03b20ff%27%2C%20%27%23f03b20ff%27%2C%20%27%23f03b20ff%27%2C%20%27%23f03b20ff%27%2C%20%27%23f03b20ff%27%2C%20%27%23f03b20ff%27%2C%20%27%23f03b20ff%27%2C%20%27%23f03b20ff%27%2C%20%27%23f03b20ff%27%2C%20%27%23f03b20ff%27%2C%20%27%23f03b20ff%27%2C%20%27%23f03b20ff%27%2C%20%27%23f03b20ff%27%2C%20%27%23f03b20ff%27%2C%20%27%23f03b20ff%27%2C%20%27%23f03b20ff%27%2C%20%27%23f03b20ff%27%2C%20%27%23f03b20ff%27%2C%20%27%23f03b20ff%27%2C%20%27%23f03b20ff%27%2C%20%27%23f03b20ff%27%2C%20%27%23f03b20ff%27%2C%20%27%23f03b20ff%27%2C%20%27%23f03b20ff%27%2C%20%27%23f03b20ff%27%2C%20%27%23f03b20ff%27%2C%20%27%23f03b20ff%27%2C%20%27%23f03b20ff%27%2C%20%27%23f03b20ff%27%2C%20%27%23f03b20ff%27%2C%20%27%23f03b20ff%27%2C%20%27%23f03b20ff%27%2C%20%27%23f03b20ff%27%2C%20%27%23f03b20ff%27%2C%20%27%23f03b20ff%27%2C%20%27%23f03b20ff%27%2C%20%27%23f03b20ff%27%2C%20%27%23f03b20ff%27%2C%20%27%23f03b20ff%27%2C%20%27%23f03b20ff%27%2C%20%27%23f03b20ff%27%2C%20%27%23f03b20ff%27%2C%20%27%23f03b20ff%27%2C%20%27%23f03b20ff%27%2C%20%27%23f03b20ff%27%2C%20%27%23f03b20ff%27%2C%20%27%23f03b20ff%27%2C%20%27%23f03b20ff%27%2C%20%27%23f03b20ff%27%2C%20%27%23f03b20ff%27%2C%20%27%23f03b20ff%27%2C%20%27%23f03b20ff%27%2C%20%27%23f03b20ff%27%2C%20%27%23f03b20ff%27%2C%20%27%23f03b20ff%27%2C%20%27%23f03b20ff%27%2C%20%27%23f03b20ff%27%2C%20%27%23f03b20ff%27%2C%20%27%23f03b20ff%27%2C%20%27%23f03b20ff%27%2C%20%27%23f03b20ff%27%2C%20%27%23f03b20ff%27%2C%20%27%23f03b20ff%27%2C%20%27%23f03b20ff%27%2C%20%27%23f03b20ff%27%2C%20%27%23f03b20ff%27%2C%20%27%23f03b20ff%27%2C%20%27%23f03b20ff%27%2C%20%27%23f03b20ff%27%2C%20%27%23f03b20ff%27%2C%20%27%23f03b20ff%27%2C%20%27%23f03b20ff%27%2C%20%27%23f03b20ff%27%2C%20%27%23f03b20ff%27%2C%20%27%23f03b20ff%27%2C%20%27%23bd0026ff%27%2C%20%27%23bd0026ff%27%2C%20%27%23bd0026ff%27%2C%20%27%23bd0026ff%27%2C%20%27%23bd0026ff%27%2C%20%27%23bd0026ff%27%2C%20%27%23bd0026ff%27%2C%20%27%23bd0026ff%27%2C%20%27%23bd0026ff%27%2C%20%27%23bd0026ff%27%2C%20%27%23bd0026ff%27%2C%20%27%23bd0026ff%27%2C%20%27%23bd0026ff%27%2C%20%27%23bd0026ff%27%2C%20%27%23bd0026ff%27%2C%20%27%23bd0026ff%27%2C%20%27%23bd0026ff%27%2C%20%27%23bd0026ff%27%2C%20%27%23bd0026ff%27%2C%20%27%23bd0026ff%27%2C%20%27%23bd0026ff%27%2C%20%27%23bd0026ff%27%2C%20%27%23bd0026ff%27%2C%20%27%23bd0026ff%27%2C%20%27%23bd0026ff%27%2C%20%27%23bd0026ff%27%2C%20%27%23bd0026ff%27%2C%20%27%23bd0026ff%27%2C%20%27%23bd0026ff%27%2C%20%27%23bd0026ff%27%2C%20%27%23bd0026ff%27%2C%20%27%23bd0026ff%27%2C%20%27%23bd0026ff%27%2C%20%27%23bd0026ff%27%2C%20%27%23bd0026ff%27%2C%20%27%23bd0026ff%27%2C%20%27%23bd0026ff%27%2C%20%27%23bd0026ff%27%2C%20%27%23bd0026ff%27%2C%20%27%23bd0026ff%27%2C%20%27%23bd0026ff%27%2C%20%27%23bd0026ff%27%2C%20%27%23bd0026ff%27%2C%20%27%23bd0026ff%27%2C%20%27%23bd0026ff%27%2C%20%27%23bd0026ff%27%2C%20%27%23bd0026ff%27%2C%20%27%23bd0026ff%27%2C%20%27%23bd0026ff%27%2C%20%27%23bd0026ff%27%2C%20%27%23bd0026ff%27%2C%20%27%23bd0026ff%27%2C%20%27%23bd0026ff%27%2C%20%27%23bd0026ff%27%2C%20%27%23bd0026ff%27%2C%20%27%23bd0026ff%27%2C%20%27%23bd0026ff%27%2C%20%27%23bd0026ff%27%2C%20%27%23bd0026ff%27%2C%20%27%23bd0026ff%27%2C%20%27%23bd0026ff%27%2C%20%27%23bd0026ff%27%2C%20%27%23bd0026ff%27%2C%20%27%23bd0026ff%27%2C%20%27%23bd0026ff%27%2C%20%27%23bd0026ff%27%2C%20%27%23bd0026ff%27%2C%20%27%23bd0026ff%27%2C%20%27%23bd0026ff%27%2C%20%27%23bd0026ff%27%2C%20%27%23bd0026ff%27%2C%20%27%23bd0026ff%27%2C%20%27%23bd0026ff%27%2C%20%27%23bd0026ff%27%2C%20%27%23bd0026ff%27%2C%20%27%23bd0026ff%27%2C%20%27%23bd0026ff%27%2C%20%27%23bd0026ff%27%2C%20%27%23bd0026ff%27%2C%20%27%23bd0026ff%27%2C%20%27%23bd0026ff%27%2C%20%27%23bd0026ff%27%2C%20%27%23bd0026ff%27%2C%20%27%23bd0026ff%27%5D%29%3B%0A%20%20%20%20%0A%0A%20%20%20%20color_map_2ce57ebdcb454d0b868eec95aaa8011e.x%20%3D%20d3.scale.linear%28%29%0A%20%20%20%20%20%20%20%20%20%20%20%20%20%20.domain%28%5B45603.0%2C%20492347.0%5D%29%0A%20%20%20%20%20%20%20%20%20%20%20%20%20%20.range%28%5B0%2C%20400%5D%29%3B%0A%0A%20%20%20%20color_map_2ce57ebdcb454d0b868eec95aaa8011e.legend%20%3D%20L.control%28%7Bposition%3A%20%27topright%27%7D%29%3B%0A%20%20%20%20color_map_2ce57ebdcb454d0b868eec95aaa8011e.legend.onAdd%20%3D%20function%20%28map%29%20%7Bvar%20div%20%3D%20L.DomUtil.create%28%27div%27%2C%20%27legend%27%29%3B%20return%20div%7D%3B%0A%20%20%20%20color_map_2ce57ebdcb454d0b868eec95aaa8011e.legend.addTo%28map_33ad1d87ca04491180d11b791798f3c2%29%3B%0A%0A%20%20%20%20color_map_2ce57ebdcb454d0b868eec95aaa8011e.xAxis%20%3D%20d3.svg.axis%28%29%0A%20%20%20%20%20%20%20%20.scale%28color_map_2ce57ebdcb454d0b868eec95aaa8011e.x%29%0A%20%20%20%20%20%20%20%20.orient%28%22top%22%29%0A%20%20%20%20%20%20%20%20.tickSize%281%29%0A%20%20%20%20%20%20%20%20.tickValues%28%5B45603.0%2C%20120060.33333333333%2C%20194517.66666666666%2C%20268975.0%2C%20343432.3333333333%2C%20417889.6666666666%2C%20492347.0%5D%29%3B%0A%0A%20%20%20%20color_map_2ce57ebdcb454d0b868eec95aaa8011e.svg%20%3D%20d3.select%28%22.legend.leaflet-control%22%29.append%28%22svg%22%29%0A%20%20%20%20%20%20%20%20.attr%28%22id%22%2C%20%27legend%27%29%0A%20%20%20%20%20%20%20%20.attr%28%22width%22%2C%20450%29%0A%20%20%20%20%20%20%20%20.attr%28%22height%22%2C%2040%29%3B%0A%0A%20%20%20%20color_map_2ce57ebdcb454d0b868eec95aaa8011e.g%20%3D%20color_map_2ce57ebdcb454d0b868eec95aaa8011e.svg.append%28%22g%22%29%0A%20%20%20%20%20%20%20%20.attr%28%22class%22%2C%20%22key%22%29%0A%20%20%20%20%20%20%20%20.attr%28%22transform%22%2C%20%22translate%2825%2C16%29%22%29%3B%0A%0A%20%20%20%20color_map_2ce57ebdcb454d0b868eec95aaa8011e.g.selectAll%28%22rect%22%29%0A%20%20%20%20%20%20%20%20.data%28color_map_2ce57ebdcb454d0b868eec95aaa8011e.color.range%28%29.map%28function%28d%2C%20i%29%20%7B%0A%20%20%20%20%20%20%20%20%20%20return%20%7B%0A%20%20%20%20%20%20%20%20%20%20%20%20x0%3A%20i%20%3F%20color_map_2ce57ebdcb454d0b868eec95aaa8011e.x%28color_map_2ce57ebdcb454d0b868eec95aaa8011e.color.domain%28%29%5Bi%20-%201%5D%29%20%3A%20color_map_2ce57ebdcb454d0b868eec95aaa8011e.x.range%28%29%5B0%5D%2C%0A%20%20%20%20%20%20%20%20%20%20%20%20x1%3A%20i%20%3C%20color_map_2ce57ebdcb454d0b868eec95aaa8011e.color.domain%28%29.length%20%3F%20color_map_2ce57ebdcb454d0b868eec95aaa8011e.x%28color_map_2ce57ebdcb454d0b868eec95aaa8011e.color.domain%28%29%5Bi%5D%29%20%3A%20color_map_2ce57ebdcb454d0b868eec95aaa8011e.x.range%28%29%5B1%5D%2C%0A%20%20%20%20%20%20%20%20%20%20%20%20z%3A%20d%0A%20%20%20%20%20%20%20%20%20%20%7D%3B%0A%20%20%20%20%20%20%20%20%7D%29%29%0A%20%20%20%20%20%20.enter%28%29.append%28%22rect%22%29%0A%20%20%20%20%20%20%20%20.attr%28%22height%22%2C%2010%29%0A%20%20%20%20%20%20%20%20.attr%28%22x%22%2C%20function%28d%29%20%7B%20return%20d.x0%3B%20%7D%29%0A%20%20%20%20%20%20%20%20.attr%28%22width%22%2C%20function%28d%29%20%7B%20return%20d.x1%20-%20d.x0%3B%20%7D%29%0A%20%20%20%20%20%20%20%20.style%28%22fill%22%2C%20function%28d%29%20%7B%20return%20d.z%3B%20%7D%29%3B%0A%0A%20%20%20%20color_map_2ce57ebdcb454d0b868eec95aaa8011e.g.call%28color_map_2ce57ebdcb454d0b868eec95aaa8011e.xAxis%29.append%28%22text%22%29%0A%20%20%20%20%20%20%20%20.attr%28%22class%22%2C%20%22caption%22%29%0A%20%20%20%20%20%20%20%20.attr%28%22y%22%2C%2021%29%0A%20%20%20%20%20%20%20%20.text%28%27%27%29%3B%0A%3C/script%3E onload=\"this.contentDocument.open();this.contentDocument.write(    decodeURIComponent(this.getAttribute('data-html')));this.contentDocument.close();\" allowfullscreen webkitallowfullscreen mozallowfullscreen></iframe></div></div>"
      ],
      "text/plain": [
       "<folium.folium.Map at 0x1660f14baf0>"
      ]
     },
     "execution_count": 28,
     "metadata": {},
     "output_type": "execute_result"
    }
   ],
   "source": [
    "#choropleth\n",
    "\n",
    "#엑셀 데이터 불러오기 - 구분과 각 연도로 컬럼이 구성\n",
    "#구분에는 지역명, 각 연도에는 인구수가 있음\n",
    "pop = pd.read_excel('c://programming/python/pandasdata/경기도인구데이터.xlsx')\n",
    "#print(pop.head())\n",
    "\n",
    "#pop.info()\n",
    "\n",
    "#컬럼이름을 전부 문자열로 전환 - 이름에 전부 str 함수 적용\n",
    "pop.columns = pop.columns.map(str)\n",
    "#print(pop.head())\n",
    "\n",
    "import json\n",
    "\n",
    "#json 데이터 읽어오기\n",
    "geo_path = 'c://programming/python/pandasdata/경기도행정구역경계.json'\n",
    "\n",
    "#java에서는 try와 catch 그리고 finally가 외부와 독립적인 블럭입니다.\n",
    "#파이썬에서는 하나의 모듈은 하나의 블럭입니다.\n",
    "#사용하기 전에 선언만 되어 있으면 됩니다.\n",
    "try:\n",
    "    geo_data = json.load(open(geo_path, encoding = 'utf-8'))\n",
    "except:\n",
    "    geo_data = json.load(open(geo_path, encoding = 'utf-8-sig'))\n",
    "print(geo_data)\n",
    "\n",
    "#경기도 지역 지도 생성\n",
    "g_map = folium.Map(location=[37.5502, 126.982], zoom_start=9)\n",
    "#지역 경계와 매핑하기 위해서 구분을 인덱스로 설정\n",
    "pop.index=pop['구분']\n",
    "#단계 구분도 생성\n",
    "folium.Choropleth(geo_data=geo_data, \n",
    "                  data=pop['2007'], \n",
    "                  columns=[pop.index, pop['2007']], \n",
    "                  fill_color='YlOrRd', \n",
    "                  fill_opacity=0.5, \n",
    "                  line_opacity=0.2, \n",
    "                  thresholdscale=[10000, 100000, 300000, 500000, 700000],\n",
    "                  key_on='feature.properties.name').add_to(g_map)\n",
    "g_map"
   ]
  },
  {
   "cell_type": "code",
   "execution_count": null,
   "id": "bceeb055",
   "metadata": {},
   "outputs": [],
   "source": [
    "#애니메이션"
   ]
  },
  {
   "cell_type": "code",
   "execution_count": 30,
   "id": "287c2dc2",
   "metadata": {},
   "outputs": [
    {
     "ename": "ModuleNotFoundError",
     "evalue": "No module named 'Python'",
     "output_type": "error",
     "traceback": [
      "\u001b[1;31m---------------------------------------------------------------------------\u001b[0m",
      "\u001b[1;31mModuleNotFoundError\u001b[0m                       Traceback (most recent call last)",
      "\u001b[1;32m~\\AppData\\Local\\Temp/ipykernel_18076/4285807621.py\u001b[0m in \u001b[0;36m<module>\u001b[1;34m\u001b[0m\n\u001b[1;32m----> 1\u001b[1;33m \u001b[1;32mfrom\u001b[0m \u001b[0mPython\u001b[0m\u001b[1;33m.\u001b[0m\u001b[0mdisplay\u001b[0m \u001b[1;32mimport\u001b[0m \u001b[0mHTML\u001b[0m\u001b[1;33m\u001b[0m\u001b[1;33m\u001b[0m\u001b[0m\n\u001b[0m\u001b[0;32m      2\u001b[0m \u001b[0mHTML\u001b[0m\u001b[1;33m(\u001b[0m\u001b[0mani\u001b[0m\u001b[1;33m.\u001b[0m\u001b[0mto_html5_video\u001b[0m\u001b[1;33m(\u001b[0m\u001b[1;33m)\u001b[0m\u001b[1;33m)\u001b[0m\u001b[1;33m\u001b[0m\u001b[1;33m\u001b[0m\u001b[0m\n",
      "\u001b[1;31mModuleNotFoundError\u001b[0m: No module named 'Python'"
     ]
    }
   ],
   "source": [
    "from Python.display import HTML\n",
    "HTML(ani.to_html5_video())"
   ]
  },
  {
   "cell_type": "markdown",
   "id": "9feb9475",
   "metadata": {},
   "source": [
    "pandas의 활용"
   ]
  },
  {
   "cell_type": "markdown",
   "id": "41a55c69",
   "metadata": {},
   "source": [
    "중복데이터 처리"
   ]
  },
  {
   "cell_type": "code",
   "execution_count": 33,
   "id": "d660cd8b",
   "metadata": {},
   "outputs": [
    {
     "name": "stdout",
     "output_type": "stream",
     "text": [
      "0    False\n",
      "1    False\n",
      "2    False\n",
      "3    False\n",
      "4     True\n",
      "dtype: bool\n",
      "      인사    국가\n",
      "0  안녕하세요  대한민국\n",
      "1    니하오    중국\n",
      "2    헬로우    미국\n",
      "3  키아 오라  뉴질랜드\n"
     ]
    }
   ],
   "source": [
    "#배열과 선형대수 관련 패키지 - 머신러닝과 딥러닝에서 필수\n",
    "import numpy as np\n",
    "\n",
    "#Series와 DataFrame과 데이터 전처리 및 시각화 패키지\n",
    "#머신러닝과 딥러닝에서 필수이기는 하지만\n",
    "#딥러닝에서는 ㅇㅣ 자료구조를 직접 이용하지 못합니다.\n",
    "#딥러닝에서는 values 속성으로 ndarray를 만들어서 사용해야함\n",
    "import pandas as pd\n",
    "from pandas import Series, DataFrame\n",
    "\n",
    "df_source = DataFrame([['안녕하세요', '니하오', '헬로우', '키아 오라', '안녕하세요'],\n",
    "               ['대한민국', '중국', '미국', '뉴질랜드', '대한민국']])\n",
    "\n",
    "#행과 열을 전치\n",
    "df = df_source.T\n",
    "\n",
    "#컬럼이름 설정\n",
    "df.columns = ['인사', '국가']\n",
    "\n",
    "#중복 확인 - 중복된 데이터는 True\n",
    "print(df.duplicated())\n",
    "\n",
    "#모든 컬럼의 값이 동일한 데이터 삭제\n",
    "#inplace=True때문에 데이터 프레임에 직접 작업\n",
    "df.drop_duplicates(inplace=True)\n",
    "\n",
    "print(df)"
   ]
  }
 ],
 "metadata": {
  "kernelspec": {
   "display_name": "Python 3 (ipykernel)",
   "language": "python",
   "name": "python3"
  },
  "language_info": {
   "codemirror_mode": {
    "name": "ipython",
    "version": 3
   },
   "file_extension": ".py",
   "mimetype": "text/x-python",
   "name": "python",
   "nbconvert_exporter": "python",
   "pygments_lexer": "ipython3",
   "version": "3.9.7"
  }
 },
 "nbformat": 4,
 "nbformat_minor": 5
}
