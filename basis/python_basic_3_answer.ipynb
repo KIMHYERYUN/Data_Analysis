{
 "cells": [
  {
   "cell_type": "markdown",
   "id": "ebc9eb14-5f07-42f9-8d28-242393a9234a",
   "metadata": {},
   "source": [
    "## 파일 읽기"
   ]
  },
  {
   "cell_type": "markdown",
   "id": "16059eb3-34d9-4418-9c85-c170579282d1",
   "metadata": {},
   "source": [
    "### log.txt 파일을 읽어서 행의 개수를 출력하시오."
   ]
  },
  {
   "cell_type": "code",
   "execution_count": 3,
   "id": "0413c999-e900-4c6e-82fa-91cabcb18319",
   "metadata": {},
   "outputs": [
    {
     "name": "stdout",
     "output_type": "stream",
     "text": [
      "총 페이지뷰: [327]\n"
     ]
    }
   ],
   "source": [
    "pageviews = 0\n",
    "\n",
    "with open('./log.txt', 'r') as f:\n",
    "   logs = f.readlines()\n",
    "   for log in logs:\n",
    "      log = log.split()\n",
    "      status = log[8]\n",
    "      if status == '200':\n",
    "         pageviews += 1\n",
    "\n",
    "print('총 페이지뷰: [%d]' %pageviews)"
   ]
  },
  {
   "cell_type": "markdown",
   "id": "82adc852-cc2f-404b-a58f-22aee6183c02",
   "metadata": {},
   "source": [
    "### 로그 파일을 읽어서 접속한 컴퓨터의 대수를 구하시오.\n",
    "\n",
    "- 각 행의 첫번째 데이터는 접속한 컴퓨터의 IP 입니다.\n",
    "- 이 데이터의 중복을 제거한 데이터의 개수가 컴퓨터의 개수 입니다."
   ]
  },
  {
   "cell_type": "code",
   "execution_count": 5,
   "id": "7583a76b-e0e2-4026-85f5-33e3ef08ba50",
   "metadata": {},
   "outputs": [
    {
     "name": "stdout",
     "output_type": "stream",
     "text": [
      "컴퓨터의 대수: [99]\n"
     ]
    }
   ],
   "source": [
    "visit_ip = []\n",
    "\n",
    "with open('./log.txt', 'r') as f:\n",
    "   logs = f.readlines()\n",
    "   for log in logs:\n",
    "      log = log.split()\n",
    "      ip = log[0]\n",
    "      if ip not in visit_ip:\n",
    "         visit_ip.append(ip)\n",
    "\n",
    "print('컴퓨터의 대수: [%d]' %len(visit_ip))"
   ]
  },
  {
   "cell_type": "code",
   "execution_count": null,
   "id": "724b3661-63cb-42f6-a456-690917a63d42",
   "metadata": {},
   "outputs": [],
   "source": []
  },
  {
   "cell_type": "markdown",
   "id": "20b79ab0-f1fe-4820-a321-2e8054e40e35",
   "metadata": {},
   "source": [
    "### 로그 파일을 읽어서 전체 트래픽을 구하시오.\n",
    "\n",
    "- 각 행의 마지막 데이터가 트래픽\n",
    "- 단위는 Byte 인데 KB 단위로 출력하시오\n",
    "1KB 는 1024 Byte"
   ]
  },
  {
   "cell_type": "code",
   "execution_count": 6,
   "id": "d55348a0-00a8-4967-aa8b-e60b0c7b0aaa",
   "metadata": {},
   "outputs": [
    {
     "name": "stdout",
     "output_type": "stream",
     "text": [
      "총 서비스 용량: 29289KB\n"
     ]
    }
   ],
   "source": [
    "KB = 1024\n",
    "total_service = 0\n",
    "\n",
    "with open('./log.txt', 'r') as f:\n",
    "   logs = f.readlines()\n",
    "   for log in logs:\n",
    "      log = log.split()\n",
    "      servicebyte = log[9]\n",
    "      if servicebyte.isdigit():\n",
    "         total_service += int(servicebyte)\n",
    "\n",
    "total_service /= KB\n",
    "print('총 서비스 용량: %dKB' %total_service)\n"
   ]
  },
  {
   "cell_type": "code",
   "execution_count": null,
   "id": "fed42195",
   "metadata": {},
   "outputs": [],
   "source": []
  },
  {
   "cell_type": "markdown",
   "id": "ab6e0b9e-a30f-4582-b095-fcd60f195093",
   "metadata": {},
   "source": [
    "### IP 별로 트래픽의 합계를 구하시오"
   ]
  },
  {
   "cell_type": "code",
   "execution_count": 7,
   "id": "41a366de-0829-41db-9086-c2364c35b29b",
   "metadata": {},
   "outputs": [
    {
     "name": "stdout",
     "output_type": "stream",
     "text": [
      "사용자IP – 서비스용량\n",
      "[223.62.67.5] – [26540048]\n",
      "[223.62.67.194] – [2062270]\n",
      "[64.79.100.43] – [444448]\n",
      "[222.186.21.90] – [149616]\n",
      "[180.76.15.144] – [34060]\n",
      "[180.76.15.145] – [27248]\n",
      "[180.76.15.6] – [20436]\n",
      "[180.76.15.15] – [20436]\n",
      "[180.76.15.149] – [20436]\n",
      "[180.76.15.151] – [20436]\n",
      "[180.76.15.158] – [20436]\n",
      "[180.76.15.25] – [17462]\n",
      "[180.76.15.16] – [17462]\n",
      "[40.77.167.61] – [14314]\n",
      "[180.76.15.10] – [13914]\n",
      "[180.76.15.5] – [13624]\n",
      "[180.76.15.24] – [13624]\n",
      "[180.76.15.34] – [13624]\n",
      "[180.76.15.7] – [13624]\n",
      "[180.76.15.152] – [13624]\n",
      "[180.76.15.146] – [13624]\n",
      "[180.76.15.161] – [13624]\n",
      "[180.76.15.28] – [13624]\n",
      "[180.76.15.142] – [13624]\n",
      "[180.76.15.136] – [13624]\n",
      "[180.76.15.12] – [13624]\n",
      "[180.76.15.141] – [13624]\n",
      "[180.76.15.29] – [13624]\n",
      "[180.76.15.9] – [13624]\n",
      "[180.76.15.30] – [13624]\n",
      "[180.76.15.156] – [13624]\n",
      "[180.76.15.17] – [13624]\n",
      "[180.76.15.11] – [13624]\n",
      "[180.76.15.147] – [13624]\n",
      "[180.76.15.18] – [13624]\n",
      "[95.213.177.122] – [11554]\n",
      "[157.55.39.218] – [11238]\n",
      "[118.46.34.94] – [8306]\n",
      "[157.55.39.130] – [7638]\n",
      "[66.249.74.48] – [7102]\n",
      "[180.76.15.140] – [7102]\n",
      "[66.249.79.123] – [7098]\n",
      "[95.213.177.126] – [6991]\n",
      "[180.76.15.143] – [6812]\n",
      "[180.76.15.134] – [6812]\n",
      "[180.76.15.163] – [6812]\n",
      "[180.76.15.22] – [6812]\n",
      "[180.76.15.33] – [6812]\n",
      "[180.76.15.19] – [6812]\n",
      "[59.38.97.177] – [6812]\n",
      "[180.76.15.154] – [6812]\n",
      "[180.76.15.23] – [6812]\n",
      "[157.55.39.245] – [6812]\n",
      "[180.76.15.138] – [6812]\n",
      "[180.76.15.137] – [6812]\n",
      "[180.76.15.27] – [6812]\n",
      "[54.215.216.163] – [6812]\n",
      "[180.76.15.159] – [6812]\n",
      "[180.76.15.135] – [6812]\n",
      "[207.46.13.142] – [6812]\n",
      "[180.76.15.13] – [6812]\n",
      "[180.76.15.20] – [6812]\n",
      "[180.97.106.161] – [6812]\n",
      "[180.76.15.162] – [6812]\n",
      "[180.76.15.21] – [6812]\n",
      "[180.76.15.8] – [6812]\n",
      "[180.76.15.139] – [6812]\n",
      "[185.25.148.240] – [6270]\n",
      "[95.213.177.125] – [6028]\n",
      "[95.213.177.124] – [4563]\n",
      "[121.185.175.231] – [4153]\n",
      "[223.33.160.85] – [4153]\n",
      "[175.116.86.22] – [4153]\n",
      "[208.100.26.232] – [4130]\n",
      "[208.100.26.231] – [4090]\n",
      "[61.160.213.55] – [2980]\n",
      "[95.213.177.123] – [2428]\n",
      "[91.196.50.33] – [2088]\n",
      "[222.186.50.24] – [2084]\n",
      "[222.186.51.205] – [2084]\n",
      "[222.121.52.157] – [2069]\n",
      "[125.130.222.50] – [2069]\n",
      "[223.62.163.24] – [2069]\n",
      "[221.152.184.9] – [2069]\n",
      "[54.214.205.186] – [2047]\n",
      "[93.174.93.218] – [2044]\n",
      "[54.183.189.102] – [2043]\n",
      "[61.160.213.32] – [894]\n",
      "[221.11.92.253] – [594]\n",
      "[141.212.122.80] – [318]\n",
      "[159.8.93.184] – [308]\n",
      "[61.160.247.231] – [289]\n",
      "[180.97.106.162] – [287]\n",
      "[52.27.124.159] – [0]\n",
      "[103.31.242.35] – [0]\n",
      "[180.76.15.160] – [0]\n",
      "[54.81.168.187] – [0]\n",
      "[203.67.9.74] – [0]\n",
      "[203.67.9.75] – [0]\n"
     ]
    }
   ],
   "source": [
    "services = {}\n",
    "\n",
    "with open('./log.txt', 'r') as f:\n",
    "   logs = f.readlines()\n",
    "   for log in logs:\n",
    "      log = log.split()\n",
    "      ip = log[0]\n",
    "      servicebyte = log[9]\n",
    "      if servicebyte.isdigit():\n",
    "         servicebyte = int(servicebyte)\n",
    "      else:\n",
    "         servicebyte = 0\n",
    "\n",
    "      if ip not in services:\n",
    "         services[ip] = servicebyte\n",
    "      else:\n",
    "         services[ip] += servicebyte\n",
    "\n",
    "ret = sorted(services.items(), key=lambda x: x[1], reverse=True)\n",
    "\n",
    "print('사용자IP – 서비스용량')\n",
    "for ip, b in ret:\n",
    "   print('[%s] – [%d]' %(ip, b))\n"
   ]
  },
  {
   "cell_type": "code",
   "execution_count": null,
   "id": "18cf5191-8d07-4493-8711-3e94013e29eb",
   "metadata": {},
   "outputs": [],
   "source": []
  }
 ],
 "metadata": {
  "kernelspec": {
   "display_name": "Python 3",
   "language": "python",
   "name": "python3"
  },
  "language_info": {
   "codemirror_mode": {
    "name": "ipython",
    "version": 3
   },
   "file_extension": ".py",
   "mimetype": "text/x-python",
   "name": "python",
   "nbconvert_exporter": "python",
   "pygments_lexer": "ipython3",
   "version": "3.8.8"
  }
 },
 "nbformat": 4,
 "nbformat_minor": 5
}
