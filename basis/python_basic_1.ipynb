{
 "cells": [
  {
   "cell_type": "markdown",
   "id": "96095ff7-0f36-433d-9238-378411290c4e",
   "metadata": {},
   "source": [
    "# 파이썬 기본 문법"
   ]
  },
  {
   "cell_type": "markdown",
   "id": "25706b07-c6b8-4307-bb11-6f1360bc6d43",
   "metadata": {},
   "source": [
    "## 변수 및 연산자"
   ]
  },
  {
   "cell_type": "code",
   "execution_count": null,
   "id": "0fb7356f-3edc-4053-a06e-d4676f1f8921",
   "metadata": {},
   "outputs": [],
   "source": [
    "1. 평균 구하기\n",
    "국어, 영어, 수학, 과학 점수가 입력받아서 평균 점수를 출력하는 프로그램을 만드세요(input 에서 안내 문자열은 과목 이름을 출력)\n",
    "평균 점수를 출력할 때는 소수점 이하 자리는 버림(정수로 출력)."
   ]
  },
  {
   "cell_type": "code",
   "execution_count": null,
   "id": "06a78ad7-f4cc-4432-b391-a33dab6f4029",
   "metadata": {},
   "outputs": [],
   "source": [
    "2. 소음이 가장 심한 층수 출력하기\n",
    "국립환경과학원에서는 아파트에서 소음이 가장 심한 층수를 구하는 계산식을 발표했는데 소음이 가장 심한 층은 0.2467 * 도로와의 거리(m) + 4.159\n",
    "도로 거리를 입력받아서 소음이 가장 심한 층수가 출력되게 만드세요.\n",
    "층수를 출력할 때는 소수점 이하 자리는 버림(정수로 출력)"
   ]
  },
  {
   "cell_type": "code",
   "execution_count": null,
   "id": "5b55e469-4b94-4452-a11b-bccd75eaf604",
   "metadata": {},
   "outputs": [],
   "source": [
    "3. 스킬 공격력 출력\n",
    "L이라는 게임에서 “왜곡”이라는 스킬이 AP * 0.6 + 225의 피해를 줍니다. 참고로 이 게임에서 AP(Ability Power, 주문력)는 마법 능력치를 뜻합니다. \n",
    "AP를 입력받아서 스킬의 피해량이 출력되게 만드세요."
   ]
  },
  {
   "cell_type": "markdown",
   "id": "7c5d013f-5f7f-48d9-a9c0-f820d2f2208d",
   "metadata": {},
   "source": [
    "## 제어문"
   ]
  },
  {
   "cell_type": "code",
   "execution_count": null,
   "id": "61c6bc04-02a2-4643-bb81-e0ea4e97911a",
   "metadata": {},
   "outputs": [],
   "source": [
    "1. 1부터 100까지 짝수의 합 구하기"
   ]
  },
  {
   "cell_type": "code",
   "execution_count": null,
   "id": "830aa876-385b-45fb-8349-fed1f45bfba3",
   "metadata": {},
   "outputs": [],
   "source": [
    "2. 교통 카드 잔액 출력\n",
    "표준 입력으로 인원 수가  입력됨\n",
    "1인당 요금은 1,350원으로 교통카드를 사용할 때마다 요금을 차감하고 각 줄에 잔액을 출력하는 프로그램을 작성\n",
    "최초 금액은 10,000 원으로 설정하고 출력하지 않음\n",
    "잔액은 음수가 될 수 없으며 잔액이 부족하면 출력을 종료"
   ]
  },
  {
   "cell_type": "code",
   "execution_count": null,
   "id": "e8be41dd-ca8b-4957-a5a7-81749a739243",
   "metadata": {},
   "outputs": [],
   "source": [
    "3. 2부터 1000까지 Prime(소수) 의 개수 구하기\n",
    "Prime은 1과 자기 자신으로만 나누어지는 수\n",
    "2부터 자신의 절반이 되는 숫자까지 나누어 떨어지지 않으면 Prime"
   ]
  },
  {
   "cell_type": "code",
   "execution_count": null,
   "id": "03b92055-9c7e-49e6-b609-8bdbfbd623f1",
   "metadata": {},
   "outputs": [],
   "source": [
    "4. 2부터 1000까지 완전수 출력 하기\n",
    "완전수는 자기 자신을 제외한 약수의 합이 자기 자신과 동일한 수\n",
    "6 : 1 + 2 + 3"
   ]
  },
  {
   "cell_type": "code",
   "execution_count": null,
   "id": "57a6797f-c69e-4ed9-8abc-2d7a5781ccba",
   "metadata": {},
   "outputs": [],
   "source": [
    "5. n번째 피보나치 수열의 값 출력하기 - 재귀를 사용하지 않고 반복문을 사용\n",
    "피보나치 수열은 1, 1, 2, 3, 5, 8, 13, 21, 34, 55, 89, 144 ..\n",
    "첫번째 와 두번째 숫자는 1\n",
    "세번째 숫자부터는 이전 2개의 항의 합\n",
    "n은 입력받아서 처리 - 15번째 숫자를 출력해보세요"
   ]
  },
  {
   "cell_type": "markdown",
   "id": "0d2dc946-3aa3-41a6-8a40-655751594311",
   "metadata": {},
   "source": [
    "## 함수"
   ]
  },
  {
   "cell_type": "code",
   "execution_count": null,
   "id": "29cc9e7a-0ad3-4d79-bf94-7d97350f447a",
   "metadata": {},
   "outputs": [],
   "source": [
    "1. n번째 피보나치 수열의 값을 출력하는 재귀 함수를 구현"
   ]
  }
 ],
 "metadata": {
  "kernelspec": {
   "display_name": "Python 3",
   "language": "python",
   "name": "python3"
  },
  "language_info": {
   "codemirror_mode": {
    "name": "ipython",
    "version": 3
   },
   "file_extension": ".py",
   "mimetype": "text/x-python",
   "name": "python",
   "nbconvert_exporter": "python",
   "pygments_lexer": "ipython3",
   "version": "3.8.8"
  }
 },
 "nbformat": 4,
 "nbformat_minor": 5
}
