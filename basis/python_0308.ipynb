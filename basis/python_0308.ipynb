{
 "cells": [
  {
   "cell_type": "code",
   "execution_count": 1,
   "id": "2c318094",
   "metadata": {},
   "outputs": [],
   "source": [
    "import numpy as np\n",
    "import pandas as pd\n",
    "\n",
    "#시각화 패키지\n",
    "import matplotlib.pyplot as plt\n",
    "import seaborn as sns\n",
    "\n",
    "#통계 관련 패키지\n",
    "import scipy as sp\n",
    "import scipy.stats\n",
    "\n",
    "#시각화에서 한글을 사용하기 위한 설정\n",
    "import platform\n",
    "from matplotlib import font_manager, rc\n",
    "\n",
    "if platform.system() == 'Darwin':\n",
    "    rc('font', family='AppleGothic')\n",
    "#윈도우의 경우\n",
    "elif platform.system() == 'Windows':\n",
    "    font_name = font_manager.FontProperties(fname=\"c:/Windows/Fonts/malgun.ttf\").get_name()\n",
    "    rc('font', family=font_name)\n",
    "    \n",
    "#시각화에서 음수를 표현하기 위한 설정\n",
    "import matplotlib\n",
    "matplotlib.rcParams['axes.unicode_minus'] = False \n",
    "\n",
    "# Jupyter Notebook의 출력을 소수점 이하 3자리로 제한 \n",
    "%precision 3\n",
    "# DataFrame의 출력을 소수점 이하 3자리로 제한 \n",
    "pd.set_option('precision', 3)"
   ]
  },
  {
   "cell_type": "markdown",
   "id": "428e226d",
   "metadata": {},
   "source": [
    "# 추론 통계"
   ]
  },
  {
   "cell_type": "markdown",
   "id": "cbd86975",
   "metadata": {},
   "source": [
    "## 분산 분석"
   ]
  },
  {
   "cell_type": "markdown",
   "id": "eb086437",
   "metadata": {},
   "source": [
    "### 분산의 값에 따른 분포의 변화"
   ]
  },
  {
   "cell_type": "code",
   "execution_count": 2,
   "id": "7f07a363",
   "metadata": {},
   "outputs": [],
   "source": [
    "centers = [5, 5, 4.5]\n",
    "colors = 'brg'"
   ]
  },
  {
   "cell_type": "code",
   "execution_count": 5,
   "id": "c7b8db28",
   "metadata": {},
   "outputs": [
    {
     "data": {
      "image/png": "[encoded data removed]",
      "text/plain": [
       "<Figure size 432x288 with 1 Axes>"
      ]
     },
     "metadata": {
      "needs_background": "light"
     },
     "output_type": "display_data"
    }
   ],
   "source": [
    "data_1 = []\n",
    "for i in range(3):\n",
    "    #정규분포로 시뮬레이션, 평균은 centers[i], 표준 편차는 0.1 데이터는 100개\n",
    "    data_1.append(sp.stats.norm(centers[i], 0.1).rvs(100))\n",
    "    plt.plot(np.arange(len(data_1[i])) + i*len(data_1[0]), \n",
    "            data_1[i], '.', color = colors[i])"
   ]
  },
  {
   "cell_type": "code",
   "execution_count": 6,
   "id": "0de81190",
   "metadata": {},
   "outputs": [
    {
     "data": {
      "image/png": "[encoded data removed]",
      "text/plain": [
       "<Figure size 432x288 with 1 Axes>"
      ]
     },
     "metadata": {
      "needs_background": "light"
     },
     "output_type": "display_data"
    }
   ],
   "source": [
    "data_2 = []\n",
    "for i in range(3):\n",
    "    #정규분포로 시뮬레이션, 평균은 centers[i], 표준 편차는 2 데이터는 100개\n",
    "    data_2.append(sp.stats.norm(centers[i], 2).rvs(100))\n",
    "    plt.plot(np.arange(len(data_2[i])) + i*len(data_2[0]), \n",
    "            data_2[i], '.', color = colors[i])"
   ]
  },
  {
   "cell_type": "code",
   "execution_count": null,
   "id": "aa747a47",
   "metadata": {},
   "outputs": [],
   "source": []
  },
  {
   "cell_type": "markdown",
   "id": "dec21954",
   "metadata": {},
   "source": [
    "### 일원 분산 분석\n",
    "#### 2개 변수(1개의 독립 변수, 1개의 종속 변수)를 가지고 분류가 의미를 갖는지 확인"
   ]
  },
  {
   "cell_type": "code",
   "execution_count": 10,
   "id": "d0f6d9cf",
   "metadata": {},
   "outputs": [
    {
     "data": {
      "image/png": "[encoded data removed]",
      "text/plain": [
       "<Figure size 432x288 with 1 Axes>"
      ]
     },
     "metadata": {
      "needs_background": "light"
     },
     "output_type": "display_data"
    }
   ],
   "source": [
    "import urllib.request\n",
    "\n",
    "url = 'https://raw.githubusercontent.com/thomas-haslwanter/statsintro_python/master/ipynb/Data/data_altman/altman_910.txt'\n",
    "data = np.genfromtxt(urllib.request.urlopen(url), delimiter=',')\n",
    "#print(data)\n",
    "\n",
    "#그룹별로 분할 - 엽산 수치 값들만 추출\n",
    "group1 = data[data[:,1] == 1, 0]\n",
    "group2 = data[data[:,1] == 2, 0]\n",
    "group3 = data[data[:,1] == 3, 0]\n",
    "\n",
    "#print(group1)\n",
    "\n",
    "plot_data = [group1, group2, group3]\n",
    "ax = plt.boxplot(plot_data)\n",
    "plt.show()"
   ]
  },
  {
   "cell_type": "code",
   "execution_count": 17,
   "id": "9cc441ba",
   "metadata": {},
   "outputs": [
    {
     "name": "stdout",
     "output_type": "stream",
     "text": [
      "0.043589334959178244\n",
      "3.7113359882669763\n",
      "귀무 가설을 기각해서 각 그룹의 분산의 차이는 유의미함\n"
     ]
    }
   ],
   "source": [
    "#일원 분산 분석\n",
    "F_statistic, p_value = sp.stats.f_oneway(group1, group2, group3)\n",
    "print(p_value)\n",
    "print(F_statistic)\n",
    "#유의 수준을 5% 로 적용\n",
    "#귀무 가설 - 모든 그룹의 분산이 동일하다\n",
    "if p_value < 0.05:\n",
    "    print(\"귀무 가설을 기각해서 각 그룹의 분산의 차이는 유의미함\")\n",
    "else:\n",
    "    print(\"귀무 가설을 기각하지 못해서 각 그룹의 분산의 차이는 무의미함\")"
   ]
  },
  {
   "cell_type": "code",
   "execution_count": 18,
   "id": "8f3bbb0f",
   "metadata": {},
   "outputs": [
    {
     "name": "stdout",
     "output_type": "stream",
     "text": [
      "                df     sum_sq   mean_sq      F  PR(>F)\n",
      "C(treatment)   2.0  15515.766  7757.883  3.711   0.044\n",
      "Residual      19.0  39716.097  2090.321    NaN     NaN\n"
     ]
    }
   ],
   "source": [
    "from statsmodels.formula.api import ols\n",
    "\n",
    "df = pd.DataFrame(data, columns=['value', 'treatment'])\n",
    "\n",
    "model = ols('value ~ C(treatment)', df).fit()\n",
    "\n",
    "import statsmodels.api as sm\n",
    "print(sm.stats.anova_lm(model)) #유의 확률은 0.044"
   ]
  },
  {
   "cell_type": "code",
   "execution_count": null,
   "id": "8aee131e",
   "metadata": {},
   "outputs": [],
   "source": []
  },
  {
   "cell_type": "markdown",
   "id": "4b959f80",
   "metadata": {},
   "source": [
    "### 이원 분산 분석"
   ]
  },
  {
   "cell_type": "code",
   "execution_count": 21,
   "id": "85d99820",
   "metadata": {},
   "outputs": [
    {
     "data": {
      "text/plain": [
       "<AxesSubplot:title={'center':'head_size'}, xlabel='fetus'>"
      ]
     },
     "execution_count": 21,
     "metadata": {},
     "output_type": "execute_result"
    },
    {
     "data": {
      "image/png": "[encoded data removed]",
      "text/plain": [
       "<Figure size 432x288 with 1 Axes>"
      ]
     },
     "metadata": {
      "needs_background": "light"
     },
     "output_type": "display_data"
    }
   ],
   "source": [
    "inFile = 'altman_12_6.txt'\n",
    "url_base = 'https://raw.githubusercontent.com/thomas-haslwanter/statsintro_python/master/ipynb/Data/data_altman/'\n",
    "url = url_base + inFile\n",
    "data = np.genfromtxt(urllib.request.urlopen(url), delimiter=',')\n",
    "#print(data)\n",
    "\n",
    "df = pd.DataFrame(data, columns=['head_size', 'fetus', 'observer'])\n",
    "#print(df)\n",
    "\n",
    "df.boxplot(column='head_size', by='fetus', grid=False)"
   ]
  },
  {
   "cell_type": "code",
   "execution_count": 22,
   "id": "5573a7b8",
   "metadata": {},
   "outputs": [
    {
     "name": "stdout",
     "output_type": "stream",
     "text": [
      "                        df   sum_sq  mean_sq         F     PR(>F)\n",
      "C(fetus)               2.0  324.009  162.004  2113.101  1.051e-27\n",
      "C(observer)            3.0    1.199    0.400     5.211  6.497e-03\n",
      "C(fetus):C(observer)   6.0    0.562    0.094     1.222  3.296e-01\n",
      "Residual              24.0    1.840    0.077       NaN        NaN\n"
     ]
    }
   ],
   "source": [
    "lm = ols('head_size ~ C(fetus) + C(observer) + C(fetus):C(observer)', \n",
    "        df).fit()\n",
    "print(sm.stats.anova_lm(lm))\n",
    "\n",
    "#p-value 값이 작아서 분산의 차이가 무의미"
   ]
  },
  {
   "cell_type": "code",
   "execution_count": null,
   "id": "b7f0adec",
   "metadata": {},
   "outputs": [],
   "source": []
  },
  {
   "cell_type": "markdown",
   "id": "f87422e4",
   "metadata": {},
   "source": [
    "## 카이 제곱 검정"
   ]
  },
  {
   "cell_type": "markdown",
   "id": "ea58b339",
   "metadata": {},
   "source": [
    "### 재표본 추출 알고리즘"
   ]
  },
  {
   "cell_type": "code",
   "execution_count": 38,
   "id": "a66e7e59",
   "metadata": {},
   "outputs": [
    {
     "name": "stdout",
     "output_type": "stream",
     "text": [
      "관측치의 카이 제곱 통계량: 1.6659394708658917\n",
      "0.4838\n"
     ]
    }
   ],
   "source": [
    "#데이터 읽어오기\n",
    "click_rate = pd.read_csv('./data/click_rates.csv')\n",
    "#print(click_rate)\n",
    "\n",
    "#관측치\n",
    "clicks = click_rate.pivot(index='Click', columns='Headline', values='Rate')\n",
    "#print(clicks)\n",
    "\n",
    "#기대치\n",
    "row_average = clicks.mean(axis=1)\n",
    "expectations = pd.DataFrame({'Headline A': row_average, \n",
    "                            'Headline B': row_average, \n",
    "                            'Headline C' : row_average})\n",
    "#print(expectations)\n",
    "\n",
    "#샘플링 할 데이터를 생성\n",
    "import random\n",
    "\n",
    "box = [1] * 34\n",
    "box.extend([0] * 2966)\n",
    "#print(box[:10])\n",
    "\n",
    "#랜덤하게 섞기\n",
    "random.shuffle(box)\n",
    "#print(box[:10])\n",
    "\n",
    "\n",
    "#카이 제곱 통계량 계산 함수\n",
    "def chi2(observed, expected):\n",
    "    pearson_residuals = []\n",
    "    for row, expect in zip(observed, expected):\n",
    "        pearson_residuals.append(\n",
    "            [(observe - expect) ** 2 / expect for observe in row])\n",
    "    return np.sum(pearson_residuals)\n",
    "\n",
    "#클릭의 기대치\n",
    "expected_clicks = 34/3\n",
    "#클릭하지 않을 기대치\n",
    "expected_noclicks = 1000 - expected_clicks\n",
    "\n",
    "expected = [expected_clicks, expected_noclicks]\n",
    "\n",
    "#관측치의 카이 제곱 통계량 계산\n",
    "chi2observed = chi2(clicks.values, expected)\n",
    "print(\"관측치의 카이 제곱 통계량:\", chi2observed)\n",
    "\n",
    "#샘플링한 데이터로 카이 제곱 통계량을 구해주는 함수\n",
    "def perm_fun(box):\n",
    "    sample_clicks = [sum(random.sample(box, 1000))\n",
    "                     , sum(random.sample(box, 1000))\n",
    "                     , sum(random.sample(box, 1000))]\n",
    "    sample_noclicks = [1000 - n for n in sample_clicks]\n",
    "    return chi2([sample_clicks, sample_noclicks], expected)\n",
    "\n",
    "perm_chi2 = [perm_fun(box) for _ in range(10000)]\n",
    "\n",
    "#p-value 계산\n",
    "#샘플링한 데이터의 카이 제곱 통계량 값이 관측치의 카이 제곱 통계량보다\n",
    "#큰 경우의 확률이 p_value\n",
    "p_value = sum(perm_chi2 > chi2observed) / len(perm_chi2)\n",
    "print(p_value)"
   ]
  },
  {
   "cell_type": "markdown",
   "id": "fe0640a4",
   "metadata": {},
   "source": [
    "### scipy 의 카이 제곱 검정"
   ]
  },
  {
   "cell_type": "code",
   "execution_count": 36,
   "id": "ca00c532",
   "metadata": {},
   "outputs": [
    {
     "name": "stdout",
     "output_type": "stream",
     "text": [
      "관측치의 카이 제곱 통계량: 1.6659394708658917\n",
      "유의 확률: 0.4347562562343731\n",
      "자유도: 2\n",
      "기대치: [[ 11.333  11.333  11.333]\n",
      " [988.667 988.667 988.667]]\n"
     ]
    }
   ],
   "source": [
    "chisq, pvalue, df, expected = sp.stats.chi2_contingency(clicks)\n",
    "print(\"관측치의 카이 제곱 통계량:\", chisq)\n",
    "print(\"유의 확률:\", pvalue)\n",
    "print(\"자유도:\", df) #3개의 그룹이 있어서 하나의 그룹을 제외하면 2\n",
    "print(\"기대치:\", expected)"
   ]
  },
  {
   "cell_type": "markdown",
   "id": "f2dcd552",
   "metadata": {},
   "source": [
    "### 일원 카이 제곱 검정"
   ]
  },
  {
   "cell_type": "code",
   "execution_count": 45,
   "id": "9b59ae05",
   "metadata": {},
   "outputs": [
    {
     "name": "stdout",
     "output_type": "stream",
     "text": [
      "[0.167 0.167 0.167 0.167 0.167 0.167]\n",
      "[2 5 4 3 0 0 0 5 3 4 0 5 4 1 1 1 1 3 2 1 3 0 1 2 2 4 1 3 3 0 3 1 0 5 5 4 1\n",
      " 0 4 2 0 2 0 5 1 3 1 3 3 1 5 4 5 5 3 5 0 1 0 1]\n",
      "[12 14  6 11  7 10]\n",
      "Power_divergenceResult(statistic=4.6000000000000005, pvalue=0.4666162741153308)\n",
      "0.4666162741153308\n"
     ]
    }
   ],
   "source": [
    "#주사위 게임을 했을 때 아래와 같은 결과가 나오면 이것은 공정한 주사위인가\n",
    "N = 60\n",
    "K = 6\n",
    "#주사위 기대 확률\n",
    "theta_0 = np.ones(K)/K\n",
    "print(theta_0)\n",
    "\n",
    "#실제 데이터\n",
    "np.random.seed(42)\n",
    "x = np.random.choice(K, N, p=theta_0)\n",
    "print(x)\n",
    "\n",
    "#횟수 카운트\n",
    "n = np.bincount(x, minlength=K)\n",
    "print(n)\n",
    "\n",
    "#일원 카이 제곱 검정\n",
    "result = sp.stats.chisquare(n)\n",
    "print(result)\n",
    "print(result.pvalue)\n",
    "\n",
    "#pvalue 가 0.05보다 커서 귀무 가설을 기각할 수 없음\n",
    "#이 주사위는 공평합니다."
   ]
  },
  {
   "cell_type": "code",
   "execution_count": 46,
   "id": "6cce1a37",
   "metadata": {},
   "outputs": [
    {
     "name": "stdout",
     "output_type": "stream",
     "text": [
      "Power_divergenceResult(statistic=20.488188976377952, pvalue=0.00039991784008227264)\n",
      "0.00039991784008227264\n"
     ]
    }
   ],
   "source": [
    "#5가지 스포츠 음료에 대한 선호도를 조사\n",
    "n = [41, 30, 51, 71, 61]\n",
    "result = sp.stats.chisquare(n)\n",
    "print(result)\n",
    "print(result.pvalue)\n",
    "#pvalue 가 0.05보다 작으므로 귀무 가설을 기각\n",
    "#선호도에 차이가 있습니다."
   ]
  },
  {
   "cell_type": "code",
   "execution_count": null,
   "id": "39e2ef24",
   "metadata": {},
   "outputs": [],
   "source": []
  },
  {
   "cell_type": "markdown",
   "id": "14b98ab0",
   "metadata": {},
   "source": [
    "## Z 검정\n",
    "\n",
    "### 모집단의 평균 과 표준 편차를 알고 있을 때 새로운 표본의 평균이 모집단의 평균과 차이가 없는지 여부를 검정"
   ]
  },
  {
   "cell_type": "markdown",
   "id": "dec64d32",
   "metadata": {},
   "source": [
    "### 단일 표본 z 검정"
   ]
  },
  {
   "cell_type": "code",
   "execution_count": 52,
   "id": "08736a84",
   "metadata": {},
   "outputs": [
    {
     "name": "stdout",
     "output_type": "stream",
     "text": [
      "[ 1.764  0.4    0.979  2.241  1.868 -0.977  0.95  -0.151 -0.103  0.411]\n"
     ]
    }
   ],
   "source": [
    "#샘플 데이터를 생성\n",
    "np.random.seed(0)\n",
    "N = 10\n",
    "mu_0 = 0\n",
    "x = sp.stats.norm(mu_0).rvs(N)\n",
    "print(x)"
   ]
  },
  {
   "cell_type": "code",
   "execution_count": 53,
   "id": "4cba88c8",
   "metadata": {},
   "outputs": [],
   "source": [
    "#단일 표본 z 검정을 수행해주는 함수\n",
    "def ztest_1samp(x, sigma2 = 1, mu = 0):\n",
    "    z = (x.mean() - mu) / np.sqrt(sigma2/len(x))\n",
    "    return z, 2 * sp.stats.norm().sf(np.abs(z))"
   ]
  },
  {
   "cell_type": "code",
   "execution_count": 54,
   "id": "ce0256ed",
   "metadata": {},
   "outputs": [
    {
     "data": {
      "text/plain": [
       "(2.3338341854824276, 0.019604406021683538)"
      ]
     },
     "execution_count": 54,
     "metadata": {},
     "output_type": "execute_result"
    }
   ],
   "source": [
    "ztest_1samp(x)"
   ]
  },
  {
   "cell_type": "code",
   "execution_count": 55,
   "id": "0d0f6f5b",
   "metadata": {},
   "outputs": [
    {
     "data": {
      "text/plain": [
       "(0.18477539979956745, 0.8534052037078499)"
      ]
     },
     "execution_count": 55,
     "metadata": {},
     "output_type": "execute_result"
    }
   ],
   "source": [
    "#샘플의 개수를 늘림\n",
    "N = 100\n",
    "x = sp.stats.norm(mu_0).rvs(N)\n",
    "ztest_1samp(x)"
   ]
  },
  {
   "cell_type": "code",
   "execution_count": null,
   "id": "df8638e5",
   "metadata": {},
   "outputs": [],
   "source": []
  },
  {
   "cell_type": "markdown",
   "id": "18d60370",
   "metadata": {},
   "source": [
    "### 비율 검정"
   ]
  },
  {
   "cell_type": "code",
   "execution_count": 57,
   "id": "46477f22",
   "metadata": {},
   "outputs": [
    {
     "name": "stdout",
     "output_type": "stream",
     "text": [
      "(6.80413817439772, 1.0165593635824276e-11)\n"
     ]
    }
   ],
   "source": [
    "from statsmodels.stats.proportion import proportions_ztest\n",
    "\n",
    "result = proportions_ztest(count=135, nobs=150, value=110/150)\n",
    "print(result)"
   ]
  },
  {
   "cell_type": "code",
   "execution_count": null,
   "id": "de83f0a9",
   "metadata": {},
   "outputs": [],
   "source": []
  },
  {
   "cell_type": "markdown",
   "id": "afd32a94",
   "metadata": {},
   "source": [
    "## 정규성 검정"
   ]
  },
  {
   "cell_type": "code",
   "execution_count": 60,
   "id": "00425d5b",
   "metadata": {},
   "outputs": [
    {
     "name": "stderr",
     "output_type": "stream",
     "text": [
      "C:\\ProgramData\\Anaconda3\\lib\\site-packages\\seaborn\\distributions.py:2619: FutureWarning: `distplot` is a deprecated function and will be removed in a future version. Please adapt your code to use either `displot` (a figure-level function with similar flexibility) or `histplot` (an axes-level function for histograms).\n",
      "  warnings.warn(msg, FutureWarning)\n",
      "C:\\ProgramData\\Anaconda3\\lib\\site-packages\\seaborn\\distributions.py:2619: FutureWarning: `distplot` is a deprecated function and will be removed in a future version. Please adapt your code to use either `displot` (a figure-level function with similar flexibility) or `histplot` (an axes-level function for histograms).\n",
      "  warnings.warn(msg, FutureWarning)\n"
     ]
    },
    {
     "data": {
      "image/png": "[encoded data removed]",
      "text/plain": [
       "<Figure size 432x288 with 1 Axes>"
      ]
     },
     "metadata": {
      "needs_background": "light"
     },
     "output_type": "display_data"
    },
    {
     "name": "stdout",
     "output_type": "stream",
     "text": [
      "KstestResult(statistic=0.23, pvalue=0.05550723364321564)\n"
     ]
    }
   ],
   "source": [
    "np.random.seed(0)\n",
    "\n",
    "N1 = 50\n",
    "N2 = 100\n",
    "\n",
    "#평균이 0 표준편차가 1인 정규 분포 데이터 50개 생성\n",
    "x1 = sp.stats.norm(0,1).rvs(N1)\n",
    "#평균이 0.5 표준편차가 1.5인 정규 분포 데이터 100개 생성\n",
    "x2 = sp.stats.norm(0.5,1.5).rvs(N2)\n",
    "\n",
    "ax = sns.distplot(x1, kde=False, fit=sp.stats.norm, label='1번 데이터 집합')\n",
    "ax = sns.distplot(x2, kde=False, fit=sp.stats.norm, label='2번 데이터 집합')\n",
    "ax.lines[0].set_linestyle(\":\")\n",
    "plt.legend()\n",
    "plt.show()\n",
    "\n",
    "#x1 과 x2 의 분포가 같은지 확인\n",
    "print(sp.stats.ks_2samp(x1, x2))\n",
    "\n",
    "#유의 수준 5% 이면 pvalue 가 더 크므로 귀무가설을 채택\n",
    "#2개의 데이터 분포는 동일"
   ]
  },
  {
   "cell_type": "code",
   "execution_count": null,
   "id": "160bde17",
   "metadata": {},
   "outputs": [],
   "source": []
  },
  {
   "cell_type": "markdown",
   "id": "5ba0db6d",
   "metadata": {},
   "source": [
    "# 붓꽃 데이터 셋"
   ]
  },
  {
   "cell_type": "code",
   "execution_count": 63,
   "id": "dd811920",
   "metadata": {},
   "outputs": [
    {
     "name": "stdout",
     "output_type": "stream",
     "text": [
      "[[5.1 3.5 1.4 0.2]\n",
      " [4.9 3.  1.4 0.2]\n",
      " [4.7 3.2 1.3 0.2]\n",
      " [4.6 3.1 1.5 0.2]\n",
      " [5.  3.6 1.4 0.2]\n",
      " [5.4 3.9 1.7 0.4]\n",
      " [4.6 3.4 1.4 0.3]\n",
      " [5.  3.4 1.5 0.2]\n",
      " [4.4 2.9 1.4 0.2]\n",
      " [4.9 3.1 1.5 0.1]\n",
      " [5.4 3.7 1.5 0.2]\n",
      " [4.8 3.4 1.6 0.2]\n",
      " [4.8 3.  1.4 0.1]\n",
      " [4.3 3.  1.1 0.1]\n",
      " [5.8 4.  1.2 0.2]\n",
      " [5.7 4.4 1.5 0.4]\n",
      " [5.4 3.9 1.3 0.4]\n",
      " [5.1 3.5 1.4 0.3]\n",
      " [5.7 3.8 1.7 0.3]\n",
      " [5.1 3.8 1.5 0.3]\n",
      " [5.4 3.4 1.7 0.2]\n",
      " [5.1 3.7 1.5 0.4]\n",
      " [4.6 3.6 1.  0.2]\n",
      " [5.1 3.3 1.7 0.5]\n",
      " [4.8 3.4 1.9 0.2]\n",
      " [5.  3.  1.6 0.2]\n",
      " [5.  3.4 1.6 0.4]\n",
      " [5.2 3.5 1.5 0.2]\n",
      " [5.2 3.4 1.4 0.2]\n",
      " [4.7 3.2 1.6 0.2]\n",
      " [4.8 3.1 1.6 0.2]\n",
      " [5.4 3.4 1.5 0.4]\n",
      " [5.2 4.1 1.5 0.1]\n",
      " [5.5 4.2 1.4 0.2]\n",
      " [4.9 3.1 1.5 0.2]\n",
      " [5.  3.2 1.2 0.2]\n",
      " [5.5 3.5 1.3 0.2]\n",
      " [4.9 3.6 1.4 0.1]\n",
      " [4.4 3.  1.3 0.2]\n",
      " [5.1 3.4 1.5 0.2]\n",
      " [5.  3.5 1.3 0.3]\n",
      " [4.5 2.3 1.3 0.3]\n",
      " [4.4 3.2 1.3 0.2]\n",
      " [5.  3.5 1.6 0.6]\n",
      " [5.1 3.8 1.9 0.4]\n",
      " [4.8 3.  1.4 0.3]\n",
      " [5.1 3.8 1.6 0.2]\n",
      " [4.6 3.2 1.4 0.2]\n",
      " [5.3 3.7 1.5 0.2]\n",
      " [5.  3.3 1.4 0.2]\n",
      " [7.  3.2 4.7 1.4]\n",
      " [6.4 3.2 4.5 1.5]\n",
      " [6.9 3.1 4.9 1.5]\n",
      " [5.5 2.3 4.  1.3]\n",
      " [6.5 2.8 4.6 1.5]\n",
      " [5.7 2.8 4.5 1.3]\n",
      " [6.3 3.3 4.7 1.6]\n",
      " [4.9 2.4 3.3 1. ]\n",
      " [6.6 2.9 4.6 1.3]\n",
      " [5.2 2.7 3.9 1.4]\n",
      " [5.  2.  3.5 1. ]\n",
      " [5.9 3.  4.2 1.5]\n",
      " [6.  2.2 4.  1. ]\n",
      " [6.1 2.9 4.7 1.4]\n",
      " [5.6 2.9 3.6 1.3]\n",
      " [6.7 3.1 4.4 1.4]\n",
      " [5.6 3.  4.5 1.5]\n",
      " [5.8 2.7 4.1 1. ]\n",
      " [6.2 2.2 4.5 1.5]\n",
      " [5.6 2.5 3.9 1.1]\n",
      " [5.9 3.2 4.8 1.8]\n",
      " [6.1 2.8 4.  1.3]\n",
      " [6.3 2.5 4.9 1.5]\n",
      " [6.1 2.8 4.7 1.2]\n",
      " [6.4 2.9 4.3 1.3]\n",
      " [6.6 3.  4.4 1.4]\n",
      " [6.8 2.8 4.8 1.4]\n",
      " [6.7 3.  5.  1.7]\n",
      " [6.  2.9 4.5 1.5]\n",
      " [5.7 2.6 3.5 1. ]\n",
      " [5.5 2.4 3.8 1.1]\n",
      " [5.5 2.4 3.7 1. ]\n",
      " [5.8 2.7 3.9 1.2]\n",
      " [6.  2.7 5.1 1.6]\n",
      " [5.4 3.  4.5 1.5]\n",
      " [6.  3.4 4.5 1.6]\n",
      " [6.7 3.1 4.7 1.5]\n",
      " [6.3 2.3 4.4 1.3]\n",
      " [5.6 3.  4.1 1.3]\n",
      " [5.5 2.5 4.  1.3]\n",
      " [5.5 2.6 4.4 1.2]\n",
      " [6.1 3.  4.6 1.4]\n",
      " [5.8 2.6 4.  1.2]\n",
      " [5.  2.3 3.3 1. ]\n",
      " [5.6 2.7 4.2 1.3]\n",
      " [5.7 3.  4.2 1.2]\n",
      " [5.7 2.9 4.2 1.3]\n",
      " [6.2 2.9 4.3 1.3]\n",
      " [5.1 2.5 3.  1.1]\n",
      " [5.7 2.8 4.1 1.3]\n",
      " [6.3 3.3 6.  2.5]\n",
      " [5.8 2.7 5.1 1.9]\n",
      " [7.1 3.  5.9 2.1]\n",
      " [6.3 2.9 5.6 1.8]\n",
      " [6.5 3.  5.8 2.2]\n",
      " [7.6 3.  6.6 2.1]\n",
      " [4.9 2.5 4.5 1.7]\n",
      " [7.3 2.9 6.3 1.8]\n",
      " [6.7 2.5 5.8 1.8]\n",
      " [7.2 3.6 6.1 2.5]\n",
      " [6.5 3.2 5.1 2. ]\n",
      " [6.4 2.7 5.3 1.9]\n",
      " [6.8 3.  5.5 2.1]\n",
      " [5.7 2.5 5.  2. ]\n",
      " [5.8 2.8 5.1 2.4]\n",
      " [6.4 3.2 5.3 2.3]\n",
      " [6.5 3.  5.5 1.8]\n",
      " [7.7 3.8 6.7 2.2]\n",
      " [7.7 2.6 6.9 2.3]\n",
      " [6.  2.2 5.  1.5]\n",
      " [6.9 3.2 5.7 2.3]\n",
      " [5.6 2.8 4.9 2. ]\n",
      " [7.7 2.8 6.7 2. ]\n",
      " [6.3 2.7 4.9 1.8]\n",
      " [6.7 3.3 5.7 2.1]\n",
      " [7.2 3.2 6.  1.8]\n",
      " [6.2 2.8 4.8 1.8]\n",
      " [6.1 3.  4.9 1.8]\n",
      " [6.4 2.8 5.6 2.1]\n",
      " [7.2 3.  5.8 1.6]\n",
      " [7.4 2.8 6.1 1.9]\n",
      " [7.9 3.8 6.4 2. ]\n",
      " [6.4 2.8 5.6 2.2]\n",
      " [6.3 2.8 5.1 1.5]\n",
      " [6.1 2.6 5.6 1.4]\n",
      " [7.7 3.  6.1 2.3]\n",
      " [6.3 3.4 5.6 2.4]\n",
      " [6.4 3.1 5.5 1.8]\n",
      " [6.  3.  4.8 1.8]\n",
      " [6.9 3.1 5.4 2.1]\n",
      " [6.7 3.1 5.6 2.4]\n",
      " [6.9 3.1 5.1 2.3]\n",
      " [5.8 2.7 5.1 1.9]\n",
      " [6.8 3.2 5.9 2.3]\n",
      " [6.7 3.3 5.7 2.5]\n",
      " [6.7 3.  5.2 2.3]\n",
      " [6.3 2.5 5.  1.9]\n",
      " [6.5 3.  5.2 2. ]\n",
      " [6.2 3.4 5.4 2.3]\n",
      " [5.9 3.  5.1 1.8]]\n"
     ]
    }
   ],
   "source": [
    "from sklearn.datasets import load_iris\n",
    "\n",
    "iris = load_iris()\n",
    "print(iris.data)"
   ]
  },
  {
   "cell_type": "code",
   "execution_count": null,
   "id": "c46d6387",
   "metadata": {},
   "outputs": [],
   "source": []
  },
  {
   "cell_type": "markdown",
   "id": "51a8ec1d",
   "metadata": {},
   "source": [
    "## 데이터 유형"
   ]
  },
  {
   "cell_type": "markdown",
   "id": "fc4a14c5",
   "metadata": {},
   "source": [
    "### 스칼라 데이터"
   ]
  },
  {
   "cell_type": "code",
   "execution_count": 64,
   "id": "20c37883",
   "metadata": {},
   "outputs": [
    {
     "name": "stdout",
     "output_type": "stream",
     "text": [
      "5.1\n"
     ]
    }
   ],
   "source": [
    "print(iris.data[0, 0])"
   ]
  },
  {
   "cell_type": "markdown",
   "id": "2a088c65",
   "metadata": {},
   "source": [
    "### 벡터 데이터"
   ]
  },
  {
   "cell_type": "code",
   "execution_count": 70,
   "id": "a9d2a890",
   "metadata": {},
   "outputs": [
    {
     "name": "stdout",
     "output_type": "stream",
     "text": [
      "[[5.1]\n",
      " [3.5]\n",
      " [1.4]\n",
      " [0.2]]\n",
      "[5.1 3.5 1.4 0.2]\n",
      "[5.1 3.5 1.4 0.2]\n",
      "[5.1 3.5 1.4 0.2]\n",
      "[[5.1]\n",
      " [3.5]\n",
      " [1.4]\n",
      " [0.2]]\n",
      "[[5.1]\n",
      " [3.5]\n",
      " [1.4]\n",
      " [0.2]]\n"
     ]
    }
   ],
   "source": [
    "#기본적인 표현법\n",
    "x1 = np.array([[5.1], [3.5], [1.4], [0.2]])\n",
    "print(x1)\n",
    "\n",
    "#1차원 배열도 벡터로 간주\n",
    "x2 = np.array([5.1, 3.5, 1.4, 0.2])\n",
    "print(x2)\n",
    "\n",
    "#다차원을 1차원으로 변경\n",
    "print(x1.flatten())\n",
    "print(x1.reshape(-1))\n",
    "\n",
    "#1차원을 2차원으로 변경 - 4, 1은 4행 1열로 변경하는 것이고 \n",
    "#4, -1 은 4행으로 변경\n",
    "print(x2.reshape((4, 1)))\n",
    "print(x2.reshape((4, -1)))"
   ]
  },
  {
   "cell_type": "markdown",
   "id": "40ac2144",
   "metadata": {},
   "source": [
    "### 행렬"
   ]
  },
  {
   "cell_type": "code",
   "execution_count": 71,
   "id": "2839744e",
   "metadata": {},
   "outputs": [
    {
     "name": "stdout",
     "output_type": "stream",
     "text": [
      "[[5.1 3.5 1.4 0.2]\n",
      " [4.9 3.  1.4 0.2]]\n"
     ]
    }
   ],
   "source": [
    "matrix = np.array([[5.1, 3.5, 1.4, 0.2], [4.9, 3.0, 1.4, 0.2]])\n",
    "print(matrix)"
   ]
  },
  {
   "cell_type": "code",
   "execution_count": null,
   "id": "2616d996",
   "metadata": {},
   "outputs": [],
   "source": []
  }
 ],
 "metadata": {
  "kernelspec": {
   "display_name": "Python 3 (ipykernel)",
   "language": "python",
   "name": "python3"
  },
  "language_info": {
   "codemirror_mode": {
    "name": "ipython",
    "version": 3
   },
   "file_extension": ".py",
   "mimetype": "text/x-python",
   "name": "python",
   "nbconvert_exporter": "python",
   "pygments_lexer": "ipython3",
   "version": "3.9.7"
  }
 },
 "nbformat": 4,
 "nbformat_minor": 5
}
