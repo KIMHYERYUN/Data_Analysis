{
 "cells": [
  {
   "cell_type": "markdown",
   "id": "ebc9eb14-5f07-42f9-8d28-242393a9234a",
   "metadata": {},
   "source": [
    "## 객체 지향 문법"
   ]
  },
  {
   "cell_type": "markdown",
   "id": "9a9a25b9-e38d-4969-93db-a5a3930a459e",
   "metadata": {},
   "source": [
    "1.이름 과 국어, 영어, 수학 점수를 저장할 수 있는 클래스를 생성하시오.\n",
    "- 이름 과 국어, 영어, 수학 점수를 저장할 변수를 초기화 메소드를 생성해서 기본값은 이름의 기본값은 \"noname\", 국어, 영어, 수학 점수는 0으로 설정하시오\n",
    "- 이름 및 국어, 영어, 수학 점수는 인스턴스가 직접 접근할 수 없도록 생성하시오.\n",
    "- 이름 및 국어, 영어, 수학 점수에 접근할 수 있는 getter 와 setter 메소드를 생성하시오.\n",
    "- 국어, 영어, 수학 점수의 평균을 구해서 리턴하는 메소드를 생성하시오."
   ]
  },
  {
   "cell_type": "code",
   "execution_count": null,
   "id": "5f438c65-04cc-4252-95d0-8e170608c29f",
   "metadata": {},
   "outputs": [],
   "source": []
  },
  {
   "cell_type": "markdown",
   "id": "7fc7bbb5-cba8-4d58-b9c1-0a5502baf7a4",
   "metadata": {},
   "source": [
    "2.call by value 와 call by reference 에 대해서 작성하세요\n",
    "- 2개의 차이를 명확하게 구분하는 것이 중요합니다."
   ]
  },
  {
   "cell_type": "code",
   "execution_count": null,
   "id": "724b3661-63cb-42f6-a456-690917a63d42",
   "metadata": {},
   "outputs": [],
   "source": []
  },
  {
   "cell_type": "markdown",
   "id": "20b79ab0-f1fe-4820-a321-2e8054e40e35",
   "metadata": {},
   "source": [
    "3.str 클래스를 상속받는 클래스를 작성하세요\n",
    "- 내용은 없어도 되므로 pass 로 설정"
   ]
  },
  {
   "cell_type": "code",
   "execution_count": null,
   "id": "d55348a0-00a8-4967-aa8b-e60b0c7b0aaa",
   "metadata": {},
   "outputs": [],
   "source": []
  },
  {
   "cell_type": "markdown",
   "id": "cc8104b8-630d-40ef-9d4e-70c7314786d6",
   "metadata": {},
   "source": [
    "4. Overloading 과 Overriding 의 개념을 작성하시오."
   ]
  },
  {
   "cell_type": "code",
   "execution_count": null,
   "id": "41a366de-0829-41db-9086-c2364c35b29b",
   "metadata": {},
   "outputs": [],
   "source": []
  },
  {
   "cell_type": "markdown",
   "id": "5461d1dd-2a67-42d4-8820-265363ca2425",
   "metadata": {},
   "source": [
    "5.추상 클래스의 개념을 작성하세요\n",
    "- 만드는 목적도 작성하세요"
   ]
  },
  {
   "cell_type": "code",
   "execution_count": null,
   "id": "63b9cc21-a649-4baf-86a4-e4496ed83ae9",
   "metadata": {},
   "outputs": [],
   "source": []
  },
  {
   "cell_type": "markdown",
   "id": "08cb3a62-9a1c-49d2-9427-45378c89309e",
   "metadata": {},
   "source": [
    "6.1~45 사이의 서로 다른 정수 6개를 입력받아서 list에 저장하는 코드를 작성하세요\n",
    "- 정수 이외의 데이터가 들어오면 다시 입력받도록 작성하세요\n",
    "- 1 ~ 45 사이의 숫자 이외의 데이터가 들어오면 다시 입력받도록 작성하세요\n",
    "- 중복된 데이터가 들어오면 다시 입력받도록 작성하세요\n",
    "- 숫자를 오름차순 정렬해서 출력하세요"
   ]
  },
  {
   "cell_type": "code",
   "execution_count": null,
   "id": "d9e3542e-d08c-4574-92db-11ac83cb85ab",
   "metadata": {},
   "outputs": [],
   "source": []
  },
  {
   "cell_type": "markdown",
   "id": "cfe51b40-df14-4b67-8981-6c54ce429c51",
   "metadata": {},
   "source": [
    "7. 1번에서 만든 클래스의 인스턴스를 3개 만들어서 list에 저장하세요"
   ]
  },
  {
   "cell_type": "code",
   "execution_count": null,
   "id": "5bdcb9ac-3233-4d52-96a7-fadcd457695d",
   "metadata": {},
   "outputs": [],
   "source": []
  },
  {
   "cell_type": "markdown",
   "id": "777473f4-87d1-432e-93e1-9d01cfdd384f",
   "metadata": {},
   "source": [
    "8. 6번에서 만든 내용을 set을 이용하도록 변경하세요"
   ]
  },
  {
   "cell_type": "code",
   "execution_count": null,
   "id": "9dbeb9b7-e2ea-43dd-85a7-f7c76a3efac2",
   "metadata": {},
   "outputs": [],
   "source": []
  },
  {
   "cell_type": "markdown",
   "id": "0f21f461-8d22-4473-84e0-5897443187b3",
   "metadata": {},
   "source": [
    "9. 7번의 내용을 1번에서 만든 클래스를 이용하지 않고 dict를 이용해서 작성하시요."
   ]
  },
  {
   "cell_type": "code",
   "execution_count": null,
   "id": "be862921-3623-4962-8536-c8fa3faf8892",
   "metadata": {},
   "outputs": [],
   "source": []
  },
  {
   "cell_type": "markdown",
   "id": "f071986a-1b7c-4680-bdd9-90eefc056432",
   "metadata": {},
   "source": [
    "10. 다음 list에 저장된 내용에서 각 단어가 등장한 횟수를 dict에 저장하는 코드를 작성하시오."
   ]
  },
  {
   "cell_type": "code",
   "execution_count": 1,
   "id": "69bd088c-ca14-4715-a327-bbf8b54c4f42",
   "metadata": {},
   "outputs": [],
   "source": [
    "words = ['python', 'java', 'python', 'R', 'python', 'python', 'sql', 'javascript', 'javascript', 'c++', 'c++', 'c++']"
   ]
  },
  {
   "cell_type": "code",
   "execution_count": null,
   "id": "18cf5191-8d07-4493-8711-3e94013e29eb",
   "metadata": {},
   "outputs": [],
   "source": []
  }
 ],
 "metadata": {
  "kernelspec": {
   "display_name": "Python 3",
   "language": "python",
   "name": "python3"
  },
  "language_info": {
   "codemirror_mode": {
    "name": "ipython",
    "version": 3
   },
   "file_extension": ".py",
   "mimetype": "text/x-python",
   "name": "python",
   "nbconvert_exporter": "python",
   "pygments_lexer": "ipython3",
   "version": "3.8.8"
  }
 },
 "nbformat": 4,
 "nbformat_minor": 5
}
