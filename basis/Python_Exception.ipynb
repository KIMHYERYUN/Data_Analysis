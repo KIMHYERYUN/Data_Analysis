{
 "cells": [
  {
   "cell_type": "markdown",
   "id": "4d88a4a8",
   "metadata": {},
   "source": [
    "Exception"
   ]
  },
  {
   "cell_type": "code",
   "execution_count": 4,
   "id": "fc4d5134",
   "metadata": {},
   "outputs": [
    {
     "name": "stdout",
     "output_type": "stream",
     "text": [
      "5.0\n"
     ]
    },
    {
     "ename": "ZeroDivisionError",
     "evalue": "division by zero",
     "output_type": "error",
     "traceback": [
      "\u001b[1;31m---------------------------------------------------------------------------\u001b[0m",
      "\u001b[1;31mZeroDivisionError\u001b[0m                         Traceback (most recent call last)",
      "\u001b[1;32m~\\AppData\\Local\\Temp/ipykernel_2516/2094355838.py\u001b[0m in \u001b[0;36m<module>\u001b[1;34m\u001b[0m\n\u001b[0;32m      4\u001b[0m \u001b[1;33m\u001b[0m\u001b[0m\n\u001b[0;32m      5\u001b[0m \u001b[0mprint\u001b[0m\u001b[1;33m(\u001b[0m\u001b[0mten_div\u001b[0m\u001b[1;33m(\u001b[0m\u001b[1;36m2\u001b[0m\u001b[1;33m)\u001b[0m\u001b[1;33m)\u001b[0m\u001b[1;33m\u001b[0m\u001b[1;33m\u001b[0m\u001b[0m\n\u001b[1;32m----> 6\u001b[1;33m \u001b[0mprint\u001b[0m\u001b[1;33m(\u001b[0m\u001b[0mten_div\u001b[0m\u001b[1;33m(\u001b[0m\u001b[1;36m0\u001b[0m\u001b[1;33m)\u001b[0m\u001b[1;33m)\u001b[0m\u001b[1;33m\u001b[0m\u001b[1;33m\u001b[0m\u001b[0m\n\u001b[0m\u001b[0;32m      7\u001b[0m \u001b[0mprint\u001b[0m\u001b[1;33m(\u001b[0m\u001b[1;34m\"프로그램 종료\"\u001b[0m\u001b[1;33m)\u001b[0m\u001b[1;33m\u001b[0m\u001b[1;33m\u001b[0m\u001b[0m\n",
      "\u001b[1;32m~\\AppData\\Local\\Temp/ipykernel_2516/2094355838.py\u001b[0m in \u001b[0;36mten_div\u001b[1;34m(x)\u001b[0m\n\u001b[0;32m      1\u001b[0m \u001b[1;31m#예외가 발생하는 상황\u001b[0m\u001b[1;33m\u001b[0m\u001b[1;33m\u001b[0m\u001b[0m\n\u001b[0;32m      2\u001b[0m \u001b[1;32mdef\u001b[0m \u001b[0mten_div\u001b[0m\u001b[1;33m(\u001b[0m\u001b[0mx\u001b[0m\u001b[1;33m)\u001b[0m\u001b[1;33m:\u001b[0m\u001b[1;33m\u001b[0m\u001b[1;33m\u001b[0m\u001b[0m\n\u001b[1;32m----> 3\u001b[1;33m     \u001b[1;32mreturn\u001b[0m \u001b[1;36m10\u001b[0m\u001b[1;33m/\u001b[0m\u001b[0mx\u001b[0m\u001b[1;33m\u001b[0m\u001b[1;33m\u001b[0m\u001b[0m\n\u001b[0m\u001b[0;32m      4\u001b[0m \u001b[1;33m\u001b[0m\u001b[0m\n\u001b[0;32m      5\u001b[0m \u001b[0mprint\u001b[0m\u001b[1;33m(\u001b[0m\u001b[0mten_div\u001b[0m\u001b[1;33m(\u001b[0m\u001b[1;36m2\u001b[0m\u001b[1;33m)\u001b[0m\u001b[1;33m)\u001b[0m\u001b[1;33m\u001b[0m\u001b[1;33m\u001b[0m\u001b[0m\n",
      "\u001b[1;31mZeroDivisionError\u001b[0m: division by zero"
     ]
    }
   ],
   "source": [
    "#예외가 발생하는 상황\n",
    "def ten_div(x):\n",
    "    return 10/x\n",
    "\n",
    "print(ten_div(2))\n",
    "print(ten_div(0))\n",
    "print(\"프로그램 종료\")"
   ]
  },
  {
   "cell_type": "code",
   "execution_count": 5,
   "id": "7b86ed80",
   "metadata": {},
   "outputs": [
    {
     "name": "stdout",
     "output_type": "stream",
     "text": [
      "5.0\n",
      "0으로 나누는 예외가 발생했습니다.\n",
      "프로그램 종료\n"
     ]
    }
   ],
   "source": [
    "#예외가 발생하는 상황\n",
    "def ten_div(x):\n",
    "    return 10/x\n",
    "\n",
    "#기본적인 예외처리 구문을 이용해서 예외가 발생하더라도 중지되지 않도록 함\n",
    "try:\n",
    "    print(ten_div(2))\n",
    "    print(ten_div(0))\n",
    "except:\n",
    "    print(\"0으로 나누는 예외가 발생했습니다.\")\n",
    "    \n",
    "print(\"프로그램 종료\")"
   ]
  },
  {
   "cell_type": "code",
   "execution_count": 6,
   "id": "ce8b3936",
   "metadata": {},
   "outputs": [
    {
     "name": "stdout",
     "output_type": "stream",
     "text": [
      "5.0\n",
      "division by zero\n",
      "프로그램 종료\n"
     ]
    }
   ],
   "source": [
    "#예외가 발생하는 상황\n",
    "def ten_div(x):\n",
    "    return 10/x\n",
    "\n",
    "#기본적인 예외처리 구문을 이용해서 예외가 발생하더라도 중지되지 않도록 함\n",
    "try:\n",
    "    print(ten_div(2))\n",
    "    print(ten_div(0))\n",
    "    \n",
    "#예외가 발생했을때 예외 메시지 출력\n",
    "except Exception as e:\n",
    "    print(e)\n",
    "    \n",
    "print(\"프로그램 종료\")"
   ]
  },
  {
   "cell_type": "code",
   "execution_count": 7,
   "id": "a3e0c62d",
   "metadata": {},
   "outputs": [
    {
     "name": "stdout",
     "output_type": "stream",
     "text": [
      "5.0\n",
      "division by zero\n",
      "프로그램 종료\n"
     ]
    }
   ],
   "source": [
    "#예외가 발생하는 상황\n",
    "def ten_div(x):\n",
    "    return 10/x\n",
    "\n",
    "#기본적인 예외처리 구문을 이용해서 예외가 발생하더라도 중지되지 않도록 함\n",
    "try:\n",
    "    print(ten_div(2))\n",
    "    print(ten_div(0))   #예외가 발생해서 종료\n",
    "    \n",
    "#예외가 발생했을때 예외 메시지 출력\n",
    "except Exception as e:\n",
    "    print(e)\n",
    "\n",
    "else:\n",
    "    print(\"예외가 발생하지 않은 경우 수행\")\n",
    "    \n",
    "finally:\n",
    "    print(\"프로그램 종료\")"
   ]
  },
  {
   "cell_type": "code",
   "execution_count": 8,
   "id": "c2d0b3a3",
   "metadata": {},
   "outputs": [
    {
     "name": "stdout",
     "output_type": "stream",
     "text": [
      "5.0\n",
      "division by zero\n",
      "프로그램 종료\n"
     ]
    }
   ],
   "source": [
    "#예외가 발생하는 상황\n",
    "def ten_div(x):\n",
    "    if x > 10:\n",
    "        #강제로 예외를 발생시켜서 아래 문장을 수행하지 않음\n",
    "        raise Exception(\"숫자가 너무 큽니다.\")\n",
    "    return 10/x\n",
    "\n",
    "#기본적인 예외처리 구문을 이용해서 예외가 발생하더라도 중지되지 않도록 함\n",
    "try:\n",
    "    print(ten_div(2))\n",
    "    print(ten_div(0))   #예외가 발생해서 종료\n",
    "    \n",
    "#예외가 발생했을때 예외 메시지 출력\n",
    "except Exception as e:\n",
    "    print(e)\n",
    "\n",
    "else:\n",
    "    print(\"예외가 발생하지 않은 경우 수행\")\n",
    "    \n",
    "finally:\n",
    "    print(\"프로그램 종료\")"
   ]
  },
  {
   "cell_type": "code",
   "execution_count": null,
   "id": "6d299a10",
   "metadata": {},
   "outputs": [],
   "source": [
    "#특정조건을 만족하지 못하는 겨우 예외를 발생시켜 프로그램 중단 - Assertion\n",
    "score = 101\n",
    "assert score <= 100, \"score는 100이 넘을 수 없습니다.\"\n",
    "print(score)"
   ]
  },
  {
   "cell_type": "code",
   "execution_count": null,
   "id": "bfaeba81",
   "metadata": {},
   "outputs": [],
   "source": []
  },
  {
   "cell_type": "code",
   "execution_count": null,
   "id": "9c037a9d",
   "metadata": {},
   "outputs": [],
   "source": []
  },
  {
   "cell_type": "code",
   "execution_count": null,
   "id": "b4369d86",
   "metadata": {},
   "outputs": [],
   "source": []
  }
 ],
 "metadata": {
  "kernelspec": {
   "display_name": "Python 3 (ipykernel)",
   "language": "python",
   "name": "python3"
  },
  "language_info": {
   "codemirror_mode": {
    "name": "ipython",
    "version": 3
   },
   "file_extension": ".py",
   "mimetype": "text/x-python",
   "name": "python",
   "nbconvert_exporter": "python",
   "pygments_lexer": "ipython3",
   "version": "3.9.7"
  }
 },
 "nbformat": 4,
 "nbformat_minor": 5
}
