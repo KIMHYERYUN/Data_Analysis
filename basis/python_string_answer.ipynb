{
 "cells": [
  {
   "cell_type": "markdown",
   "id": "c7b8aa09",
   "metadata": {},
   "source": [
    "# 문자열 학습"
   ]
  },
  {
   "cell_type": "markdown",
   "id": "ce2157bf",
   "metadata": {},
   "source": [
    "## palindrome\n",
    "\n",
    "앞뒤가 똑같은 단어나 문장으로 뒤집어도 같은 말이 되는 단어 또는 문장을 팰린드롬(Palindrome) 이라고 한다.\n",
    "우리말로는 회문(回文) 이라 부르며 문장 중에서는 대표적으로 소주 만 병만 주소 같은 문장이 이에 해당한다. \n",
    "이 문장은 뒤집어도 소주 만 병만 주소 가 된다.\n",
    "\n",
    "대소문자 여부를 구분하지 않으며 영문자, 숫자 만을 대상으로 함\n",
    "\n",
    "예1)\n",
    "입력:\n",
    "A man, a plan, a canal: Panama\n",
    "\n",
    "출력:\n",
    "true\n",
    "\n",
    "예2)\n",
    "입력:\n",
    "race a car\n",
    "\n",
    "출력:\n",
    "false"
   ]
  },
  {
   "cell_type": "code",
   "execution_count": 1,
   "id": "c01b6356",
   "metadata": {},
   "outputs": [
    {
     "name": "stdout",
     "output_type": "stream",
     "text": [
      "True\n",
      "False\n"
     ]
    }
   ],
   "source": [
    "#list 를 이용한 해결\n",
    "class Solution:\n",
    "    def isPalindrome(self, s) -> bool:\n",
    "        strs = []\n",
    "        for char in s:\n",
    "            if char.isalnum():\n",
    "                strs.append(char.lower())\n",
    "\n",
    "        # 팰린드롬 여부 판별\n",
    "        while len(strs) > 1:\n",
    "            if strs.pop(0) != strs.pop():\n",
    "                return False\n",
    "\n",
    "        return True\n",
    "    \n",
    "\n",
    "solution = Solution()\n",
    "print(solution.isPalindrome(\"A man, a plan, a canal: Panama\"))\n",
    "print(solution.isPalindrome(\"race a car\"))"
   ]
  },
  {
   "cell_type": "code",
   "execution_count": 2,
   "id": "d5cce30a",
   "metadata": {},
   "outputs": [
    {
     "name": "stdout",
     "output_type": "stream",
     "text": [
      "True\n",
      "False\n"
     ]
    }
   ],
   "source": [
    "# 데크를 이용한 해결\n",
    "import collections\n",
    "from typing import Deque\n",
    "\n",
    "\n",
    "class Solution:\n",
    "    def isPalindrome(self, s) -> bool:\n",
    "        # 자료형 데크로 선언\n",
    "        strs: Deque = collections.deque()\n",
    "\n",
    "        for char in s:\n",
    "            if char.isalnum():\n",
    "                strs.append(char.lower())\n",
    "\n",
    "        while len(strs) > 1:\n",
    "            if strs.popleft() != strs.pop():\n",
    "                return False\n",
    "\n",
    "        return True\n",
    "\n",
    "solution = Solution()\n",
    "print(solution.isPalindrome(\"A man, a plan, a canal: Panama\"))\n",
    "print(solution.isPalindrome(\"race a car\"))"
   ]
  },
  {
   "cell_type": "code",
   "execution_count": 3,
   "id": "b1a3093d",
   "metadata": {},
   "outputs": [
    {
     "name": "stdout",
     "output_type": "stream",
     "text": [
      "True\n",
      "False\n"
     ]
    }
   ],
   "source": [
    "# 정규식 과 슬라이싱을 이용한 해결\n",
    "import re\n",
    "\n",
    "class Solution:\n",
    "    def isPalindrome(self, s) -> bool:\n",
    "        s = s.lower()\n",
    "        # 정규식으로 불필요한 문자 필터링\n",
    "        s = re.sub('[^a-z0-9]', '', s)\n",
    "\n",
    "        return s == s[::-1]  # 슬라이싱\n",
    "    \n",
    "solution = Solution()\n",
    "print(solution.isPalindrome(\"A man, a plan, a canal: Panama\"))\n",
    "print(solution.isPalindrome(\"race a car\"))"
   ]
  },
  {
   "cell_type": "code",
   "execution_count": null,
   "id": "18c3946f",
   "metadata": {},
   "outputs": [],
   "source": []
  },
  {
   "cell_type": "markdown",
   "id": "3a71bb42",
   "metadata": {},
   "source": [
    "## 문자열 뒤집기\n",
    "앞뒤가 똑같은 단어나 문장으로 뒤집어도 같은 말이 되는 단어 또는 문장을 팰린드롬(Palindrome) 이라고 한다. 우리말로는 회문(回文) 이라 부르며 문장 중에서는 대표적으로 소주 만 병만 주소 같은 문장이 이에 해당한다. 이 문장은 뒤집어도 소주 만 병만 주소 가 된다.\n",
    "\n",
    "대소문자 여부를 구분하지 않으며 영문자, 숫자 만을 대상으로 함\n",
    "\n",
    "예1) 입력: [\"h\", \"e\", \"l\", \"l\", \"o\"]\n",
    "\n",
    "출력: [\"o\", \"l\", \"l\", \"e\", \"h\"]\n",
    "\n",
    "예2) 입력: [\"H\", \"a\", \"n\", \"n\", \"a\", \"h\"]\n",
    "\n",
    "출력: [\"h\", \"a\", \"n\", \"n\", \"a\", \"H\"]"
   ]
  },
  {
   "cell_type": "code",
   "execution_count": 4,
   "id": "31e315f0",
   "metadata": {},
   "outputs": [
    {
     "name": "stdout",
     "output_type": "stream",
     "text": [
      "['o', 'l', 'l', 'e', 'h']\n",
      "['h', 'a', 'n', 'n', 'a', 'H']\n"
     ]
    }
   ],
   "source": [
    "class Solution:\n",
    "    def reverseString(self, s) -> None:\n",
    "        left, right = 0, len(s) - 1\n",
    "        while left < right:\n",
    "            s[left], s[right] = s[right], s[left]\n",
    "            left += 1\n",
    "            right -= 1\n",
    "            \n",
    "solution = Solution()\n",
    "li = [\"h\", \"e\", \"l\", \"l\", \"o\"]\n",
    "solution.reverseString(li)\n",
    "print(li)\n",
    "\n",
    "li = [\"H\", \"a\", \"n\", \"n\", \"a\", \"h\"]\n",
    "solution.reverseString(li)\n",
    "print(li)"
   ]
  },
  {
   "cell_type": "code",
   "execution_count": 5,
   "id": "85af765a",
   "metadata": {},
   "outputs": [
    {
     "name": "stdout",
     "output_type": "stream",
     "text": [
      "['o', 'l', 'l', 'e', 'h']\n",
      "['h', 'a', 'n', 'n', 'a', 'H']\n"
     ]
    }
   ],
   "source": [
    "class Solution:\n",
    "    def reverseString(self, s) -> None:\n",
    "        s.reverse()\n",
    "        \n",
    "solution = Solution()\n",
    "li = [\"h\", \"e\", \"l\", \"l\", \"o\"]\n",
    "solution.reverseString(li)\n",
    "print(li)\n",
    "\n",
    "li = [\"H\", \"a\", \"n\", \"n\", \"a\", \"h\"]\n",
    "solution.reverseString(li)\n",
    "print(li)"
   ]
  },
  {
   "cell_type": "code",
   "execution_count": null,
   "id": "d5a791a5",
   "metadata": {},
   "outputs": [],
   "source": []
  },
  {
   "cell_type": "markdown",
   "id": "c6e8b774",
   "metadata": {},
   "source": [
    "## 로그 파일 재정렬\n",
    "\n",
    "### 제약조건\n",
    "#### 데이터는 공백으로 구분되어 있다.\n",
    "#### 로그의 가장 앞 부분은 식별자다.\n",
    "#### 식별자는 순서에 영향을 끼치지 않지만 문자가 동일할 경우 식별자 순으로 한다.\n",
    "#### 문자로 구성된 로그가 숫자 로그보다 앞에 온다.\n",
    "#### 숫자 로그는 입력 순서대로 \n",
    "\n",
    "입력:\n",
    " [\"dig1 8 1 5 l\",\"let1 art can\",\"dig2 3 6\",\"let2 own kit dig\",\"let3 art zero\"]\n",
    "\n",
    "출력: [\"let1 art can\",\"let3 art zero\",\"let2 own kit dig\",\"dig1 8 1 5 l\",\"dig2 3 6\"]\n"
   ]
  },
  {
   "cell_type": "code",
   "execution_count": 6,
   "id": "b7b9e26c",
   "metadata": {},
   "outputs": [
    {
     "name": "stdout",
     "output_type": "stream",
     "text": [
      "['let1 art can', 'let3 art zero', 'let2 own kit dig', 'dig1 8 1 5 l', 'dig2 3 6']\n"
     ]
    }
   ],
   "source": [
    "# 람다 와 + 연산자를 이용한 해결\n",
    "class Solution:\n",
    "    def reorderLogFiles(self, logs) -> [str]:\n",
    "        letters, digits = [], []\n",
    "        for log in logs:\n",
    "            if log.split()[1].isdigit():\n",
    "                digits.append(log)\n",
    "            else:\n",
    "                letters.append(log)\n",
    "\n",
    "        # 두 개의 키를 람다 표현식으로 정렬\n",
    "        letters.sort(key=lambda x: (x.split()[1:], x.split()[0]))\n",
    "        return letters + digits\n",
    "    \n",
    "solution = Solution()\n",
    "print(solution.reorderLogFiles([\"dig1 8 1 5 l\",\"let1 art can\",\"dig2 3 6\",\"let2 own kit dig\",\"let3 art zero\"]))"
   ]
  },
  {
   "cell_type": "code",
   "execution_count": null,
   "id": "6f823d48",
   "metadata": {},
   "outputs": [],
   "source": []
  },
  {
   "cell_type": "markdown",
   "id": "becbe0a5",
   "metadata": {},
   "source": [
    "## 금지어를 제외한 가장 흔한 단어\n",
    "\n",
    "### 제약조건\n",
    "#### 대소문자 구분을 하지 않음\n",
    "#### 구두점(마침표, 쉼표 등)\n",
    "\n",
    "##### 입력\n",
    "문장 = \"Bob hit a ball, the hit BALL flew far after it was hit.\" \n",
    "\n",
    "금지어 = [\"hit\"]\n",
    "\n",
    "\n",
    "##### 출력\n",
    "ball"
   ]
  },
  {
   "cell_type": "code",
   "execution_count": 7,
   "id": "d94a4bc6",
   "metadata": {},
   "outputs": [
    {
     "name": "stdout",
     "output_type": "stream",
     "text": [
      "ball\n"
     ]
    }
   ],
   "source": [
    "import collections\n",
    "import re\n",
    "\n",
    "class Solution:\n",
    "    def mostCommonWord(self, paragraph, banned) -> str:\n",
    "        words = [word for word in re.sub(r'[^\\w]', ' ', paragraph)\n",
    "            .lower().split()\n",
    "                 if word not in banned]\n",
    "\n",
    "        counts = collections.Counter(words)\n",
    "        # 가장 흔하게 등장하는 단어의 첫 번째 인덱스 리턴\n",
    "        return counts.most_common(1)[0][0]\n",
    "    \n",
    "solution = Solution()\n",
    "print(solution.mostCommonWord(\n",
    "    \"Bob hit a ball, the hit BALL flew far after it was hit.\",\n",
    "    [\"hit\"]))"
   ]
  },
  {
   "cell_type": "code",
   "execution_count": null,
   "id": "d1673deb",
   "metadata": {},
   "outputs": [],
   "source": []
  },
  {
   "cell_type": "markdown",
   "id": "40b0e316",
   "metadata": {},
   "source": [
    "## anagram\n",
    "### anagram 은 문자의 순서에 상관없이 구성이 같은 경우\n",
    "### 단어 목록에서 애너그램 단위로 별도의 list를 만들어서 출력\n",
    "### 대소문자 구분은 하지 않음\n",
    "\n",
    "입력: [\"eat\", \"tea\", \"tan\", \"ate\", \"nat\", \"bat\"]\n",
    "\n",
    "출력:\n",
    "[\n",
    "    [\"ate\",\"eat\",\"tea\"], \n",
    "    [\"nat\",\"tan\"],\n",
    "    [\"bat\"]\n",
    "]"
   ]
  },
  {
   "cell_type": "code",
   "execution_count": 8,
   "id": "a43a0a09",
   "metadata": {},
   "outputs": [
    {
     "name": "stdout",
     "output_type": "stream",
     "text": [
      "[['eat', 'tea', 'ate'], ['tan', 'nat'], ['bat']]\n"
     ]
    }
   ],
   "source": [
    "import collections\n",
    "\n",
    "class Solution:\n",
    "    def groupAnagrams(self, strs) -> [[str]]:\n",
    "        anagrams = collections.defaultdict(list)\n",
    "\n",
    "        for word in strs:\n",
    "            # 정렬하여 딕셔너리에 추가\n",
    "            anagrams[''.join(sorted(word))].append(word)\n",
    "        return list(anagrams.values())\n",
    "    \n",
    "solution = Solution()\n",
    "print(solution.groupAnagrams([\"eat\", \"tea\", \"tan\", \"ate\", \"nat\", \"bat\"]))    "
   ]
  },
  {
   "cell_type": "code",
   "execution_count": null,
   "id": "020e2673",
   "metadata": {},
   "outputs": [],
   "source": []
  }
 ],
 "metadata": {
  "kernelspec": {
   "display_name": "Python 3",
   "language": "python",
   "name": "python3"
  },
  "language_info": {
   "codemirror_mode": {
    "name": "ipython",
    "version": 3
   },
   "file_extension": ".py",
   "mimetype": "text/x-python",
   "name": "python",
   "nbconvert_exporter": "python",
   "pygments_lexer": "ipython3",
   "version": "3.8.8"
  }
 },
 "nbformat": 4,
 "nbformat_minor": 5
}
