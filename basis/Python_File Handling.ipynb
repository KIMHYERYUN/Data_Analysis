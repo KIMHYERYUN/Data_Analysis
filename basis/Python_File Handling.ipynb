{
 "cells": [
  {
   "cell_type": "markdown",
   "id": "be3b82c1",
   "metadata": {},
   "source": [
    "#csv파일 핸들링"
   ]
  },
  {
   "cell_type": "code",
   "execution_count": 27,
   "id": "a9bff4dd",
   "metadata": {},
   "outputs": [
    {
     "name": "stdout",
     "output_type": "stream",
     "text": [
      "<class 'list'>\n",
      "1\n",
      "태연\n",
      "3/9/1989\n",
      "소녀시대\n",
      "\n",
      "\n",
      "2\n",
      "재경\n",
      "12/24/1988\n",
      "레인보우\n",
      "\n",
      "\n",
      "3\n",
      "아이린\n",
      "3/29/1991\n",
      "레드벨벳\n",
      "\n",
      "\n",
      "\n",
      "\n",
      "\n",
      "\n",
      "\n",
      "\n",
      "\n",
      "\n",
      "\n",
      "\n",
      "\n",
      "\n",
      "\n",
      "\n",
      "\n",
      "\n",
      "\n",
      "\n",
      "\n",
      "\n",
      "\n",
      "\n",
      "\n",
      "\n",
      "4\n",
      "카리나\n",
      "2000-01-01\n",
      "aespa\n",
      "\n"
     ]
    }
   ],
   "source": [
    "#파일읽기를 이용해서 csv파일 읽기\n",
    "with open('C:/programming/python/data/singer.csv') as f:\n",
    "    #전체읽기\n",
    "    content = f.read()\n",
    "    #구분자 단위로 분할\n",
    "    data = content.split(',')\n",
    "    #자료형 확인\n",
    "    print(type(data)) \n",
    "    #전체출력\n",
    "    for imsi in data:\n",
    "        print(imsi)"
   ]
  },
  {
   "cell_type": "code",
   "execution_count": 9,
   "id": "c9d8e592",
   "metadata": {},
   "outputs": [
    {
     "name": "stdout",
     "output_type": "stream",
     "text": [
      "<class '_csv.reader'>\n",
      "['1', '태연', '1989-03-09', '소녀시대']\n",
      "['2', '재경', '1988-12-24', '레인보우']\n",
      "['3', '아이린', '1991-03-29', '레드벨벳']\n"
     ]
    }
   ],
   "source": [
    "#csv모듈을 이용해서 읽기 - csv.reader(file 객체)를 대입해서 읽음\n",
    "#줄 바꿈 별로 하나의 list를 별도로 생성\n",
    "\n",
    "import csv\n",
    "#파일읽기를 이용해서 csv파일 읽기 - 모든 데이터를 분할해서 list로 생성\n",
    "#한글이 깨지면 encoding 옵션에 인코딩 방식을설정해주면 됩니다.\n",
    "with open('C:/programming/python/data/singer.csv', 'r') as f:\n",
    "    #csv로 읽기\n",
    "    #구분자 ,가 아니면 delimeter에 구분자를 설정해주면 됩니다.\n",
    "    data = csv.reader(f)\n",
    "    #자료형 확인\n",
    "    print(type(data)) \n",
    "    #전체출력\n",
    "    for imsi in data:\n",
    "        print(imsi)"
   ]
  },
  {
   "cell_type": "code",
   "execution_count": 24,
   "id": "c31db933",
   "metadata": {},
   "outputs": [],
   "source": [
    "#기록하기\n",
    "import csv\n",
    "#newline 옵션을 이용해서 빈줄이 생기지않도록 설정\n",
    "#한글이 깨지면 encoding 옵션에 인코딩 방식을설정해주면 됩니다.\n",
    "with open('C:/programming/python/data/singer.csv', 'a', newline='') as f:\n",
    "    #csv로 기록\n",
    "    wr = csv.writer(f)\n",
    "    wr.writerow([4, '카리나', '2000-01-01', 'aespa'])"
   ]
  },
  {
   "cell_type": "code",
   "execution_count": null,
   "id": "64cf20d9",
   "metadata": {},
   "outputs": [],
   "source": []
  },
  {
   "cell_type": "markdown",
   "id": "6f3acc64",
   "metadata": {},
   "source": [
    "#바이트 단위로 파일에 읽고 쓰기(바이너리 파일)"
   ]
  },
  {
   "cell_type": "code",
   "execution_count": 18,
   "id": "8b08df85",
   "metadata": {},
   "outputs": [],
   "source": [
    "with open('C:/programming/python/data/test.bin', 'wb') as f:\n",
    "    f.write('안녕하세요'.encode())"
   ]
  },
  {
   "cell_type": "code",
   "execution_count": 21,
   "id": "c334690c",
   "metadata": {},
   "outputs": [
    {
     "name": "stdout",
     "output_type": "stream",
     "text": [
      "안녕하세요\n"
     ]
    }
   ],
   "source": [
    "with open('C:/programming/python/data/test.bin', 'rb') as f:\n",
    "    #print(f.read())\n",
    "    print(f.read().decode())"
   ]
  },
  {
   "cell_type": "code",
   "execution_count": 25,
   "id": "6819b4b3",
   "metadata": {},
   "outputs": [],
   "source": [
    "#Serializable(직렬화)-객체단위로 파일에 읽고 쓰는 것"
   ]
  },
  {
   "cell_type": "code",
   "execution_count": 26,
   "id": "59826f79",
   "metadata": {},
   "outputs": [],
   "source": [
    "class DTO:\n",
    "    def setNum(self, num):\n",
    "        self.num = num\n",
    "    def setName(self, name):\n",
    "        self.name = name\n",
    "        \n",
    "    def getNum(self):\n",
    "        return self.num\n",
    "    def setName(self):\n",
    "        return self.name\n",
    "    \n",
    "    def toString(self):\n",
    "        return \"{번호:{0} 이름:{1}}\".format(self.num, self.name)"
   ]
  },
  {
   "cell_type": "code",
   "execution_count": null,
   "id": "758bdb3f",
   "metadata": {},
   "outputs": [],
   "source": []
  },
  {
   "cell_type": "code",
   "execution_count": null,
   "id": "e9f97bb7",
   "metadata": {},
   "outputs": [],
   "source": []
  },
  {
   "cell_type": "code",
   "execution_count": null,
   "id": "999e9fc8",
   "metadata": {},
   "outputs": [],
   "source": []
  },
  {
   "cell_type": "code",
   "execution_count": null,
   "id": "6499980e",
   "metadata": {},
   "outputs": [],
   "source": []
  },
  {
   "cell_type": "code",
   "execution_count": null,
   "id": "068cbfe2",
   "metadata": {},
   "outputs": [],
   "source": []
  },
  {
   "cell_type": "code",
   "execution_count": null,
   "id": "b236c760",
   "metadata": {},
   "outputs": [],
   "source": []
  },
  {
   "cell_type": "code",
   "execution_count": null,
   "id": "1fc9711b",
   "metadata": {},
   "outputs": [],
   "source": []
  },
  {
   "cell_type": "code",
   "execution_count": null,
   "id": "d4af9e84",
   "metadata": {},
   "outputs": [],
   "source": []
  },
  {
   "cell_type": "code",
   "execution_count": null,
   "id": "b20b8e2a",
   "metadata": {},
   "outputs": [],
   "source": []
  },
  {
   "cell_type": "code",
   "execution_count": null,
   "id": "5bd24b7b",
   "metadata": {},
   "outputs": [],
   "source": []
  },
  {
   "cell_type": "code",
   "execution_count": null,
   "id": "d7646f94",
   "metadata": {},
   "outputs": [],
   "source": []
  },
  {
   "cell_type": "code",
   "execution_count": null,
   "id": "c8a621da",
   "metadata": {},
   "outputs": [],
   "source": []
  },
  {
   "cell_type": "code",
   "execution_count": null,
   "id": "2a3d821c",
   "metadata": {},
   "outputs": [],
   "source": []
  },
  {
   "cell_type": "code",
   "execution_count": null,
   "id": "ae5d8504",
   "metadata": {},
   "outputs": [],
   "source": []
  },
  {
   "cell_type": "code",
   "execution_count": null,
   "id": "901d1866",
   "metadata": {},
   "outputs": [],
   "source": []
  },
  {
   "cell_type": "code",
   "execution_count": null,
   "id": "bdccf36f",
   "metadata": {},
   "outputs": [],
   "source": []
  }
 ],
 "metadata": {
  "kernelspec": {
   "display_name": "Python 3 (ipykernel)",
   "language": "python",
   "name": "python3"
  },
  "language_info": {
   "codemirror_mode": {
    "name": "ipython",
    "version": 3
   },
   "file_extension": ".py",
   "mimetype": "text/x-python",
   "name": "python",
   "nbconvert_exporter": "python",
   "pygments_lexer": "ipython3",
   "version": "3.9.7"
  }
 },
 "nbformat": 4,
 "nbformat_minor": 5
}
