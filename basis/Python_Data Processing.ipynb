{
 "cells": [
  {
   "cell_type": "markdown",
   "id": "fdb5a140",
   "metadata": {},
   "source": [
    "Data Preprocessing"
   ]
  },
  {
   "cell_type": "code",
   "execution_count": 4,
   "id": "e05431d8",
   "metadata": {},
   "outputs": [],
   "source": [
    "import numpy as np\n",
    "import pandas as pd\n",
    "import seaborn as sns\n",
    "\n",
    "from pandas import Series, DataFrame \n",
    "\n",
    "#그래프\n",
    "import matplotlib.pyplot as plt\n",
    "\n",
    "#시각화할 때 한글을 출력하기 위해서\n",
    "import platform\n",
    "from matplotlib import font_manager, rc\n",
    "#한글처리\n",
    "#메켄도시의 경우\n",
    "if platform.system() == 'Darwin':\n",
    "    rc('font', family='AppleGothic')\n",
    "#윈도우의 경우\n",
    "elif platform.system() == 'Windows':\n",
    "    font_name = font_manager.FontProperties(fname = \"c://Windows/Fonts/malgun.ttf\").get_name()\n",
    "rc('font', family=font_name)\n",
    "\n",
    "#음수를 표시하기 위한 설정\n",
    "plt.rcParams['axes.unicode_minus'] = False"
   ]
  },
  {
   "cell_type": "code",
   "execution_count": 7,
   "id": "f2e08075",
   "metadata": {},
   "outputs": [
    {
     "name": "stdout",
     "output_type": "stream",
     "text": [
      "      0  1      2      3       4     5   6  7                          8\n",
      "0  18.0  8  307.0  130.0  3504.0  12.0  70  1  chevrolet chevelle malibu\n",
      "1  15.0  8  350.0  165.0  3693.0  11.5  70  1          buick skylark 320\n",
      "2  18.0  8  318.0  150.0  3436.0  11.0  70  1         plymouth satellite\n",
      "3  16.0  8  304.0  150.0  3433.0  12.0  70  1              amc rebel sst\n",
      "4  17.0  8  302.0  140.0  3449.0  10.5  70  1                ford torino\n",
      "<class 'pandas.core.frame.DataFrame'>\n",
      "RangeIndex: 398 entries, 0 to 397\n",
      "Data columns (total 9 columns):\n",
      " #   Column        Non-Null Count  Dtype  \n",
      "---  ------        --------------  -----  \n",
      " 0   mpg           398 non-null    float64\n",
      " 1   cylinders     398 non-null    int64  \n",
      " 2   displacement  398 non-null    float64\n",
      " 3   horsepower    398 non-null    object \n",
      " 4   weight        398 non-null    float64\n",
      " 5   acceleration  398 non-null    float64\n",
      " 6   model year    398 non-null    int64  \n",
      " 7   origin        398 non-null    int64  \n",
      " 8   name          398 non-null    object \n",
      "dtypes: float64(4), int64(3), object(2)\n",
      "memory usage: 28.1+ KB\n"
     ]
    }
   ],
   "source": [
    "#데이터 읽어오기\n",
    "mpg = pd.read_csv('c://programming/python/pandasdata/auto-mpg.csv', header=None)\n",
    "print(mpg.head())\n",
    "\n",
    "#컬럼이름 만들기\n",
    "mpg.columns = ['mpg', 'cylinders', 'displacement', 'horsepower', 'weight', \n",
    "               'acceleration', 'model year', 'origin', 'name']\n",
    "mpg.info()"
   ]
  },
  {
   "cell_type": "code",
   "execution_count": 8,
   "id": "0d892a2b",
   "metadata": {},
   "outputs": [
    {
     "name": "stdout",
     "output_type": "stream",
     "text": [
      "    mpg  cylinders  displacement horsepower  weight  acceleration  model year  \\\n",
      "0  18.0          8         307.0      130.0  3504.0          12.0          70   \n",
      "1  15.0          8         350.0      165.0  3693.0          11.5          70   \n",
      "2  18.0          8         318.0      150.0  3436.0          11.0          70   \n",
      "3  16.0          8         304.0      150.0  3433.0          12.0          70   \n",
      "4  17.0          8         302.0      140.0  3449.0          10.5          70   \n",
      "\n",
      "   origin                       name   kpl  \n",
      "0       1  chevrolet chevelle malibu  7.65  \n",
      "1       1          buick skylark 320  6.38  \n",
      "2       1         plymouth satellite  7.65  \n",
      "3       1              amc rebel sst  6.80  \n",
      "4       1                ford torino  7.23  \n"
     ]
    }
   ],
   "source": [
    "#mpg가 갤런당 마일이므로 리터당 킬로미터로 변환해서 열을 추가\n",
    "#1.60934 / 3.78541\n",
    "#소수 두번째자리에서 반올림\n",
    "mpg['kpl'] = (mpg['mpg'] * 1.60934 / 3.78541).round(2)\n",
    "\n",
    "print(mpg.head())"
   ]
  },
  {
   "cell_type": "markdown",
   "id": "070cd28c",
   "metadata": {},
   "source": [
    "자료형 확인"
   ]
  },
  {
   "cell_type": "code",
   "execution_count": 11,
   "id": "f529eeeb",
   "metadata": {},
   "outputs": [
    {
     "name": "stdout",
     "output_type": "stream",
     "text": [
      "<class 'pandas.core.frame.DataFrame'>\n",
      "RangeIndex: 398 entries, 0 to 397\n",
      "Data columns (total 10 columns):\n",
      " #   Column        Non-Null Count  Dtype  \n",
      "---  ------        --------------  -----  \n",
      " 0   mpg           398 non-null    float64\n",
      " 1   cylinders     398 non-null    int64  \n",
      " 2   displacement  398 non-null    float64\n",
      " 3   horsepower    398 non-null    object \n",
      " 4   weight        398 non-null    float64\n",
      " 5   acceleration  398 non-null    float64\n",
      " 6   model year    398 non-null    int64  \n",
      " 7   origin        398 non-null    int64  \n",
      " 8   name          398 non-null    object \n",
      " 9   kpl           398 non-null    float64\n",
      "dtypes: float64(5), int64(3), object(2)\n",
      "memory usage: 31.2+ KB\n",
      "mpg             float64\n",
      "cylinders         int64\n",
      "displacement    float64\n",
      "horsepower       object\n",
      "weight          float64\n",
      "acceleration    float64\n",
      "model year        int64\n",
      "origin            int64\n",
      "name             object\n",
      "kpl             float64\n",
      "dtype: object\n"
     ]
    }
   ],
   "source": [
    "mpg.info()\n",
    "print(mpg.dtypes)"
   ]
  },
  {
   "cell_type": "code",
   "execution_count": 14,
   "id": "79a89947",
   "metadata": {},
   "outputs": [
    {
     "name": "stdout",
     "output_type": "stream",
     "text": [
      "[130. 165. 150. 140. 198. 220. 215. 225. 190. 170. 160.  95.  97.  85.\n",
      "  88.  46.  87.  90. 113. 200. 210. 193.  nan 100. 105. 175. 153. 180.\n",
      " 110.  72.  86.  70.  76.  65.  69.  60.  80.  54. 208. 155. 112.  92.\n",
      " 145. 137. 158. 167.  94. 107. 230.  49.  75.  91. 122.  67.  83.  78.\n",
      "  52.  61.  93. 148. 129.  96.  71.  98. 115.  53.  81.  79. 120. 152.\n",
      " 102. 108.  68.  58. 149.  89.  63.  48.  66. 139. 103. 125. 133. 138.\n",
      " 135. 142.  77.  62. 132.  84.  64.  74. 116.  82.]\n",
      "<class 'pandas.core.frame.DataFrame'>\n",
      "RangeIndex: 398 entries, 0 to 397\n",
      "Data columns (total 10 columns):\n",
      " #   Column        Non-Null Count  Dtype  \n",
      "---  ------        --------------  -----  \n",
      " 0   mpg           398 non-null    float64\n",
      " 1   cylinders     398 non-null    int64  \n",
      " 2   displacement  398 non-null    float64\n",
      " 3   horsepower    392 non-null    float64\n",
      " 4   weight        398 non-null    float64\n",
      " 5   acceleration  398 non-null    float64\n",
      " 6   model year    398 non-null    int64  \n",
      " 7   origin        398 non-null    int64  \n",
      " 8   name          398 non-null    object \n",
      " 9   kpl           398 non-null    float64\n",
      "dtypes: float64(6), int64(3), object(1)\n",
      "memory usage: 31.2+ KB\n"
     ]
    }
   ],
   "source": [
    "#horsepower의 값들을 확인\n",
    "print(mpg['horsepower'].unique())  #?의 값이 존재\n",
    "\n",
    "#?를 NaN으로 변환\n",
    "mpg['horsepower'].replace('?', np.nan, inplace=True)\n",
    "mpg['horsepower'] = mpg['horsepower'].astype('float')\n",
    "mpg.info()"
   ]
  },
  {
   "cell_type": "code",
   "execution_count": 16,
   "id": "cdbf4e13",
   "metadata": {},
   "outputs": [
    {
     "data": {
      "text/html": [
       "<div>\n",
       "<style scoped>\n",
       "    .dataframe tbody tr th:only-of-type {\n",
       "        vertical-align: middle;\n",
       "    }\n",
       "\n",
       "    .dataframe tbody tr th {\n",
       "        vertical-align: top;\n",
       "    }\n",
       "\n",
       "    .dataframe thead th {\n",
       "        text-align: right;\n",
       "    }\n",
       "</style>\n",
       "<table border=\"1\" class=\"dataframe\">\n",
       "  <thead>\n",
       "    <tr style=\"text-align: right;\">\n",
       "      <th></th>\n",
       "      <th>mpg</th>\n",
       "      <th>cylinders</th>\n",
       "      <th>displacement</th>\n",
       "      <th>horsepower</th>\n",
       "      <th>weight</th>\n",
       "      <th>acceleration</th>\n",
       "      <th>model year</th>\n",
       "      <th>origin</th>\n",
       "      <th>name</th>\n",
       "      <th>kpl</th>\n",
       "    </tr>\n",
       "  </thead>\n",
       "  <tbody>\n",
       "    <tr>\n",
       "      <th>0</th>\n",
       "      <td>18.0</td>\n",
       "      <td>8</td>\n",
       "      <td>307.0</td>\n",
       "      <td>130.0</td>\n",
       "      <td>3504.0</td>\n",
       "      <td>12.0</td>\n",
       "      <td>70</td>\n",
       "      <td>USA</td>\n",
       "      <td>chevrolet chevelle malibu</td>\n",
       "      <td>7.65</td>\n",
       "    </tr>\n",
       "    <tr>\n",
       "      <th>1</th>\n",
       "      <td>15.0</td>\n",
       "      <td>8</td>\n",
       "      <td>350.0</td>\n",
       "      <td>165.0</td>\n",
       "      <td>3693.0</td>\n",
       "      <td>11.5</td>\n",
       "      <td>70</td>\n",
       "      <td>USA</td>\n",
       "      <td>buick skylark 320</td>\n",
       "      <td>6.38</td>\n",
       "    </tr>\n",
       "    <tr>\n",
       "      <th>2</th>\n",
       "      <td>18.0</td>\n",
       "      <td>8</td>\n",
       "      <td>318.0</td>\n",
       "      <td>150.0</td>\n",
       "      <td>3436.0</td>\n",
       "      <td>11.0</td>\n",
       "      <td>70</td>\n",
       "      <td>USA</td>\n",
       "      <td>plymouth satellite</td>\n",
       "      <td>7.65</td>\n",
       "    </tr>\n",
       "    <tr>\n",
       "      <th>3</th>\n",
       "      <td>16.0</td>\n",
       "      <td>8</td>\n",
       "      <td>304.0</td>\n",
       "      <td>150.0</td>\n",
       "      <td>3433.0</td>\n",
       "      <td>12.0</td>\n",
       "      <td>70</td>\n",
       "      <td>USA</td>\n",
       "      <td>amc rebel sst</td>\n",
       "      <td>6.80</td>\n",
       "    </tr>\n",
       "    <tr>\n",
       "      <th>4</th>\n",
       "      <td>17.0</td>\n",
       "      <td>8</td>\n",
       "      <td>302.0</td>\n",
       "      <td>140.0</td>\n",
       "      <td>3449.0</td>\n",
       "      <td>10.5</td>\n",
       "      <td>70</td>\n",
       "      <td>USA</td>\n",
       "      <td>ford torino</td>\n",
       "      <td>7.23</td>\n",
       "    </tr>\n",
       "  </tbody>\n",
       "</table>\n",
       "</div>"
      ],
      "text/plain": [
       "    mpg  cylinders  displacement  horsepower  weight  acceleration  \\\n",
       "0  18.0          8         307.0       130.0  3504.0          12.0   \n",
       "1  15.0          8         350.0       165.0  3693.0          11.5   \n",
       "2  18.0          8         318.0       150.0  3436.0          11.0   \n",
       "3  16.0          8         304.0       150.0  3433.0          12.0   \n",
       "4  17.0          8         302.0       140.0  3449.0          10.5   \n",
       "\n",
       "   model year origin                       name   kpl  \n",
       "0          70    USA  chevrolet chevelle malibu  7.65  \n",
       "1          70    USA          buick skylark 320  6.38  \n",
       "2          70    USA         plymouth satellite  7.65  \n",
       "3          70    USA              amc rebel sst  6.80  \n",
       "4          70    USA                ford torino  7.23  "
      ]
     },
     "execution_count": 16,
     "metadata": {},
     "output_type": "execute_result"
    }
   ],
   "source": [
    "#정수 데이터를 매핑이 되는 문자열로 변환\n",
    "mpg['origin'].replace({1:'USA', 2:'EU', 3:'JPN'}, inplace=True)\n",
    "mpg.head()"
   ]
  },
  {
   "cell_type": "code",
   "execution_count": 18,
   "id": "39cc372e",
   "metadata": {},
   "outputs": [
    {
     "name": "stdout",
     "output_type": "stream",
     "text": [
      "<class 'pandas.core.frame.DataFrame'>\n",
      "RangeIndex: 398 entries, 0 to 397\n",
      "Data columns (total 10 columns):\n",
      " #   Column        Non-Null Count  Dtype   \n",
      "---  ------        --------------  -----   \n",
      " 0   mpg           398 non-null    float64 \n",
      " 1   cylinders     398 non-null    int64   \n",
      " 2   displacement  398 non-null    float64 \n",
      " 3   horsepower    392 non-null    float64 \n",
      " 4   weight        398 non-null    float64 \n",
      " 5   acceleration  398 non-null    float64 \n",
      " 6   model year    398 non-null    int64   \n",
      " 7   origin        398 non-null    category\n",
      " 8   name          398 non-null    object  \n",
      " 9   kpl           398 non-null    float64 \n",
      "dtypes: category(1), float64(6), int64(2), object(1)\n",
      "memory usage: 28.6+ KB\n"
     ]
    }
   ],
   "source": [
    "#범주형으로 변환\n",
    "mpg['origin'] = mpg['origin'].astype('category')\n",
    "mpg.info()"
   ]
  },
  {
   "cell_type": "markdown",
   "id": "4b017ab4",
   "metadata": {},
   "source": [
    "표준값 구하기"
   ]
  },
  {
   "cell_type": "code",
   "execution_count": 21,
   "id": "c37d8c98",
   "metadata": {},
   "outputs": [
    {
     "name": "stdout",
     "output_type": "stream",
     "text": [
      "<class 'pandas.core.frame.DataFrame'>\n",
      "RangeIndex: 9 entries, 0 to 8\n",
      "Data columns (total 4 columns):\n",
      " #   Column  Non-Null Count  Dtype \n",
      "---  ------  --------------  ----- \n",
      " 0   이름      9 non-null      object\n",
      " 1   국어      9 non-null      int64 \n",
      " 2   영어      9 non-null      int64 \n",
      " 3   수학      9 non-null      int64 \n",
      "dtypes: int64(3), object(1)\n",
      "memory usage: 416.0+ bytes\n",
      "    이름  국어  영어  수학\n",
      "0  박지영  90  85  55\n",
      "1  김태함  70  65  80\n",
      "2  김효섭  92  95  76\n",
      "3  임경희  76  89  88\n",
      "4  권혁진  97  87  83\n"
     ]
    },
    {
     "data": {
      "text/plain": [
       "<AxesSubplot:>"
      ]
     },
     "execution_count": 21,
     "metadata": {},
     "output_type": "execute_result"
    },
    {
     "data": {
      "image/png": "[encoded data removed]",
      "text/plain": [
       "<Figure size 432x288 with 1 Axes>"
      ]
     },
     "metadata": {
      "needs_background": "light"
     },
     "output_type": "display_data"
    }
   ],
   "source": [
    "student = pd.read_csv('c://programming/python/pandasdata/student.csv', encoding='ms949')\n",
    "student.info()\n",
    "\n",
    "print(student.head())\n",
    "\n",
    "#인덱스 설정\n",
    "student_index = student['이름']\n",
    "\n",
    "student.plot(kind='bar')"
   ]
  },
  {
   "cell_type": "code",
   "execution_count": 24,
   "id": "986702fe",
   "metadata": {},
   "outputs": [
    {
     "name": "stdout",
     "output_type": "stream",
     "text": [
      "74.44444444444444 25.239409220062534\n",
      "73.22222222222223 21.247222040644385\n",
      "72.55555555555556 18.642096925447465\n"
     ]
    },
    {
     "data": {
      "text/plain": [
       "<AxesSubplot:>"
      ]
     },
     "execution_count": 24,
     "metadata": {},
     "output_type": "execute_result"
    },
    {
     "data": {
      "image/png": "[encoded data removed]",
      "text/plain": [
       "<Figure size 432x288 with 1 Axes>"
      ]
     },
     "metadata": {
      "needs_background": "light"
     },
     "output_type": "display_data"
    }
   ],
   "source": [
    "#표준값 구하기 - 평균 , 표준편차 필요\n",
    "kormean, korstd = student['국어'].mean(), student['국어'].std()\n",
    "print(kormean, korstd)\n",
    "engmean, engstd = student['영어'].mean(), student['영어'].std()\n",
    "print(engmean, engstd)\n",
    "matmean, matstd = student['수학'].mean(), student['수학'].std()\n",
    "print(matmean, matstd)\n",
    "\n",
    "student['국어표준값'] = (student['국어'] - kormean)/korstd\n",
    "student['영어표준값'] = (student['영어'] - engmean)/engstd\n",
    "student['수학표준값'] = (student['수학'] - matmean)/matstd\n",
    "\n",
    "#편차값 구하기\n",
    "student['국어편차값'] = student['국어표준값'] * 10 + 50\n",
    "student['영어편차값'] = student['영어표준값'] * 10 + 50\n",
    "student['수학편차값'] = student['수학표준값'] * 10 + 50\n",
    "\n",
    "student[['국어편차값', '영어편차값', '수학편차값']].plot(kind='bar')"
   ]
  },
  {
   "cell_type": "markdown",
   "id": "3ffa5e6d",
   "metadata": {},
   "source": [
    "표준화"
   ]
  },
  {
   "cell_type": "code",
   "execution_count": null,
   "id": "62aff416",
   "metadata": {},
   "outputs": [],
   "source": [
    "# 데이터 읽어오기\n",
    "df = pd.read_csv('data/auto-mpg.csv', header=None)\n",
    "# 열 이름을 설정\n",
    "df.columns = ['mpg','cylinders','displacement','horsepower','weight',\n",
    "'acceleration','model year','origin','name']\n",
    "# horsepower 열의 누락 데이터('?') 삭제하고 실수형으로 변환\n",
    "df['horsepower'].replace('?', np.nan, inplace=True) # '?'을 np.nan으로 변경\n",
    "df.dropna(subset=['horsepower'], axis=0, inplace=True) # 누락데이터 행을 삭제\n",
    "df['horsepower'] = df['horsepower'].astype('float') # 문자열을 실수형으로 변환\n",
    "# horsepower 열의 통계 요약정보로 최대값(max)을 확인\n",
    "print(df.horsepower.describe())\n",
    "print()\n",
    "# horsepower 열의 최대값의 절대값으로 모든 데이터를 나눠서 저장\n",
    "df.maxhorsepower = df.horsepower / abs(df.horsepower.max())\n",
    "print(df.maxhorsepower.head())\n",
    "print()\n",
    "print(df.maxhorsepower.describe())"
   ]
  },
  {
   "cell_type": "code",
   "execution_count": null,
   "id": "75b60fcc",
   "metadata": {},
   "outputs": [],
   "source": [
    "# horsepower 열에서 최소값을 빼기\n",
    "min_x = df.horsepower - df.horsepower.min()\n",
    "# horsepower 열의 최대값에서 최소값 빼기\n",
    "min_max = df.horsepower.max() - df.horsepower.min()\n",
    "# 최소값을 뺀 값을 최대-최소로 나누기\n",
    "df.minmaxhorsepower = min_x / min_max\n",
    "#0.0 ~ 1.0 사이의 값으로 만들기\n",
    "print(df.minmaxhorsepower.head())\n",
    "print()\n",
    "print(df.minmaxhorsepower.describe())"
   ]
  },
  {
   "cell_type": "code",
   "execution_count": null,
   "id": "8d9e215c",
   "metadata": {},
   "outputs": [],
   "source": [
    "scikit-learn 표준화 클래스\n",
    "from sklearn import preprocessing\n",
    "import numpy as np\n",
    "x = df[['horsepower']].values\n",
    "print('평균:', np.mean(x))\n",
    "print('표준편차:', np.std(x))\n",
    "print('최대값:', np.max(x))\n",
    "print('최소값:', np.min(x))\n",
    "print()\n",
    "scaler = preprocessing.StandardScaler()\n",
    "scaler.fit(x)\n",
    "x_scaled = scaler.transform(x)\n",
    "print('평균:', np.mean(x_scaled))\n",
    "print('표준편차:', np.std(x_scaled))\n",
    "print('최대값:', np.max(x_scaled))\n",
    "print('최소값:', np.min(x_scaled))\n",
    "print()\n",
    "\n",
    "scaler = preprocessing.MaxAbsScaler()\n",
    "scaler.fit(x)\n",
    "x_scaled = scaler.transform(x)\n",
    "print('평균:', np.mean(x_scaled))\n",
    "print('표준편차:', np.std(x_scaled))\n",
    "print('최대값:', np.max(x_scaled))\n",
    "print('최소값:', np.min(x_scaled))\n",
    "\n",
    "\n",
    "from sklearn.preprocessing import MaxAbsScaler\n",
    "X = [[ 1., -1., 2.],\n",
    "[ 2., 0., 0.],\n",
    "[ 0., 1., -1.]]\n",
    "transformer = MaxAbsScaler().fit(X)\n",
    "transformer.transform(X)"
   ]
  },
  {
   "cell_type": "code",
   "execution_count": null,
   "id": "6bb47eb7",
   "metadata": {},
   "outputs": [],
   "source": []
  }
 ],
 "metadata": {
  "kernelspec": {
   "display_name": "Python 3 (ipykernel)",
   "language": "python",
   "name": "python3"
  },
  "language_info": {
   "codemirror_mode": {
    "name": "ipython",
    "version": 3
   },
   "file_extension": ".py",
   "mimetype": "text/x-python",
   "name": "python",
   "nbconvert_exporter": "python",
   "pygments_lexer": "ipython3",
   "version": "3.9.7"
  }
 },
 "nbformat": 4,
 "nbformat_minor": 5
}
