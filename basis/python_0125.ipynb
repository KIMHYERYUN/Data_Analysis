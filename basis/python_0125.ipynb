{
 "cells": [
  {
   "cell_type": "markdown",
   "id": "2b0d71f2",
   "metadata": {},
   "source": [
    "## 들여쓰기"
   ]
  },
  {
   "cell_type": "code",
   "execution_count": 1,
   "id": "03e13f5a",
   "metadata": {},
   "outputs": [
    {
     "name": "stdout",
     "output_type": "stream",
     "text": [
      "10보다 크다\n"
     ]
    }
   ],
   "source": [
    "num = 20\n",
    "#파이썬은 하위 블럭을 만들 때 : 을 붙이고 일정한 크기만큼 들여쓰기를 해야 합니다.\n",
    "if num >= 10:\n",
    "    print(\"10보다 크다\")\n",
    "else:\n",
    "    print(\"10보다 크지 않다.\")"
   ]
  },
  {
   "cell_type": "code",
   "execution_count": 3,
   "id": "3cf5fb3d",
   "metadata": {},
   "outputs": [
    {
     "ename": "SyntaxError",
     "evalue": "invalid syntax (Temp/ipykernel_8248/1265776644.py, line 3)",
     "output_type": "error",
     "traceback": [
      "\u001b[1;36m  File \u001b[1;32m\"C:\\Users\\tj\\AppData\\Local\\Temp/ipykernel_8248/1265776644.py\"\u001b[1;36m, line \u001b[1;32m3\u001b[0m\n\u001b[1;33m    print(10) print(20)\u001b[0m\n\u001b[1;37m              ^\u001b[0m\n\u001b[1;31mSyntaxError\u001b[0m\u001b[1;31m:\u001b[0m invalid syntax\n"
     ]
    }
   ],
   "source": [
    "print(10)\n",
    "print(20)\n",
    "print(10) print(20) # 한 줄에 2개의 실행 문장이 있을 때는 ;으로 구분해야 함"
   ]
  },
  {
   "cell_type": "code",
   "execution_count": 7,
   "id": "b63123b8",
   "metadata": {},
   "outputs": [
    {
     "name": "stdout",
     "output_type": "stream",
     "text": [
      "10\n"
     ]
    },
    {
     "data": {
      "text/plain": [
       "'\\nprint(\"다른 명령\")\\n'"
      ]
     },
     "execution_count": 7,
     "metadata": {},
     "output_type": "execute_result"
    }
   ],
   "source": [
    "x = 10\n",
    "print(x)\n",
    "x #변수를 맨 마지막에 입력해도 출력됩니다.\n",
    "\n",
    "#이문장은 주석이 아니고 여러 줄 문자열을 만들어서 실행되지 않도록 한 것입니다.\n",
    "'''\n",
    "print(\"다른 명령\")\n",
    "'''"
   ]
  },
  {
   "cell_type": "code",
   "execution_count": 8,
   "id": "fbdaa30e",
   "metadata": {},
   "outputs": [
    {
     "name": "stdout",
     "output_type": "stream",
     "text": [
      "['__abs__', '__add__', '__and__', '__bool__', '__ceil__', '__class__', '__delattr__', '__dir__', '__divmod__', '__doc__', '__eq__', '__float__', '__floor__', '__floordiv__', '__format__', '__ge__', '__getattribute__', '__getnewargs__', '__gt__', '__hash__', '__index__', '__init__', '__init_subclass__', '__int__', '__invert__', '__le__', '__lshift__', '__lt__', '__mod__', '__mul__', '__ne__', '__neg__', '__new__', '__or__', '__pos__', '__pow__', '__radd__', '__rand__', '__rdivmod__', '__reduce__', '__reduce_ex__', '__repr__', '__rfloordiv__', '__rlshift__', '__rmod__', '__rmul__', '__ror__', '__round__', '__rpow__', '__rrshift__', '__rshift__', '__rsub__', '__rtruediv__', '__rxor__', '__setattr__', '__sizeof__', '__str__', '__sub__', '__subclasshook__', '__truediv__', '__trunc__', '__xor__', 'as_integer_ratio', 'bit_length', 'conjugate', 'denominator', 'from_bytes', 'imag', 'numerator', 'real', 'to_bytes']\n"
     ]
    }
   ],
   "source": [
    "x = 10\n",
    "print(dir(x))"
   ]
  },
  {
   "cell_type": "code",
   "execution_count": 11,
   "id": "23ba5b66",
   "metadata": {},
   "outputs": [
    {
     "name": "stdout",
     "output_type": "stream",
     "text": [
      "Help on built-in function max in module builtins:\n",
      "\n",
      "max(...)\n",
      "    max(iterable, *[, default=obj, key=func]) -> value\n",
      "    max(arg1, arg2, *args, *[, key=func]) -> value\n",
      "    \n",
      "    With a single iterable argument, return its biggest item. The\n",
      "    default keyword-only argument specifies an object to return if\n",
      "    the provided iterable is empty.\n",
      "    With two or more arguments, return the largest argument.\n",
      "\n",
      "6\n"
     ]
    }
   ],
   "source": [
    "help(max)\n",
    "print(max([1, 3, 6]))"
   ]
  },
  {
   "cell_type": "markdown",
   "id": "fec4515d",
   "metadata": {},
   "source": [
    "## 파이썬 예약어"
   ]
  },
  {
   "cell_type": "code",
   "execution_count": 12,
   "id": "96a19bba",
   "metadata": {},
   "outputs": [
    {
     "name": "stdout",
     "output_type": "stream",
     "text": [
      "['False', 'None', 'True', '__peg_parser__', 'and', 'as', 'assert', 'async', 'await', 'break', 'class', 'continue', 'def', 'del', 'elif', 'else', 'except', 'finally', 'for', 'from', 'global', 'if', 'import', 'in', 'is', 'lambda', 'nonlocal', 'not', 'or', 'pass', 'raise', 'return', 'try', 'while', 'with', 'yield']\n"
     ]
    }
   ],
   "source": [
    "import keyword\n",
    "print(keyword.kwlist)"
   ]
  },
  {
   "cell_type": "markdown",
   "id": "719c9884",
   "metadata": {},
   "source": [
    "## 모듈 찾는 순서 확인"
   ]
  },
  {
   "cell_type": "code",
   "execution_count": 13,
   "id": "acfd68d4",
   "metadata": {},
   "outputs": [
    {
     "name": "stdout",
     "output_type": "stream",
     "text": [
      "['C:\\\\Users\\\\tj', 'C:\\\\ProgramData\\\\Anaconda3\\\\python39.zip', 'C:\\\\ProgramData\\\\Anaconda3\\\\DLLs', 'C:\\\\ProgramData\\\\Anaconda3\\\\lib', 'C:\\\\ProgramData\\\\Anaconda3', '', 'C:\\\\ProgramData\\\\Anaconda3\\\\lib\\\\site-packages', 'C:\\\\ProgramData\\\\Anaconda3\\\\lib\\\\site-packages\\\\locket-0.2.1-py3.9.egg', 'C:\\\\ProgramData\\\\Anaconda3\\\\lib\\\\site-packages\\\\win32', 'C:\\\\ProgramData\\\\Anaconda3\\\\lib\\\\site-packages\\\\win32\\\\lib', 'C:\\\\ProgramData\\\\Anaconda3\\\\lib\\\\site-packages\\\\Pythonwin', 'C:\\\\ProgramData\\\\Anaconda3\\\\lib\\\\site-packages\\\\IPython\\\\extensions', 'C:\\\\Users\\\\tj\\\\.ipython']\n"
     ]
    }
   ],
   "source": [
    "import sys\n",
    "print(sys.path)"
   ]
  },
  {
   "cell_type": "code",
   "execution_count": 16,
   "id": "5a1f0499",
   "metadata": {},
   "outputs": [
    {
     "ename": "AttributeError",
     "evalue": "'int' object has no attribute 'lower'",
     "output_type": "error",
     "traceback": [
      "\u001b[1;31m---------------------------------------------------------------------------\u001b[0m",
      "\u001b[1;31mAttributeError\u001b[0m                            Traceback (most recent call last)",
      "\u001b[1;32m~\\AppData\\Local\\Temp/ipykernel_8248/3541446179.py\u001b[0m in \u001b[0;36m<module>\u001b[1;34m\u001b[0m\n\u001b[0;32m      1\u001b[0m \u001b[0mnation\u001b[0m \u001b[1;33m=\u001b[0m \u001b[1;34m'KOREA'\u001b[0m\u001b[1;33m\u001b[0m\u001b[1;33m\u001b[0m\u001b[0m\n\u001b[1;32m----> 2\u001b[1;33m \u001b[0mprint\u001b[0m\u001b[1;33m(\u001b[0m\u001b[0mstr\u001b[0m\u001b[1;33m.\u001b[0m\u001b[0mlower\u001b[0m\u001b[1;33m(\u001b[0m\u001b[0mnation\u001b[0m\u001b[1;33m)\u001b[0m\u001b[1;33m)\u001b[0m\u001b[1;33m\u001b[0m\u001b[1;33m\u001b[0m\u001b[0m\n\u001b[0m\u001b[0;32m      3\u001b[0m \u001b[0mstr\u001b[0m \u001b[1;33m=\u001b[0m \u001b[1;36m10\u001b[0m\u001b[1;33m\u001b[0m\u001b[1;33m\u001b[0m\u001b[0m\n\u001b[0;32m      4\u001b[0m \u001b[0mprint\u001b[0m\u001b[1;33m(\u001b[0m\u001b[0mstr\u001b[0m\u001b[1;33m.\u001b[0m\u001b[0mlower\u001b[0m\u001b[1;33m(\u001b[0m\u001b[0mnation\u001b[0m\u001b[1;33m)\u001b[0m\u001b[1;33m)\u001b[0m\u001b[1;33m\u001b[0m\u001b[1;33m\u001b[0m\u001b[0m\n",
      "\u001b[1;31mAttributeError\u001b[0m: 'int' object has no attribute 'lower'"
     ]
    }
   ],
   "source": [
    "nation = 'KOREA'\n",
    "#python 의 str을 사용하므로 소문자로 변환해서 출력\n",
    "print(str.lower(nation))\n",
    "#내 모듈에서 str을 10으로 정의\n",
    "str = 10\n",
    "#str 이 파이썬의 것이 아니고 내 모듈에서의 str 이므로 에러\n",
    "print(str.lower(nation))"
   ]
  },
  {
   "cell_type": "markdown",
   "id": "6801e52a",
   "metadata": {},
   "source": [
    "## 파이썬의 기본 데이터 자료형"
   ]
  },
  {
   "cell_type": "code",
   "execution_count": 19,
   "id": "6e3cd7f5",
   "metadata": {},
   "outputs": [
    {
     "name": "stdout",
     "output_type": "stream",
     "text": [
      "10\n",
      "2203160963664\n",
      "20\n",
      "2203160963984\n",
      "10\n",
      "2203160963664\n"
     ]
    }
   ],
   "source": [
    "#10을 저장하고 그 위치를 x 가 가리키는 것\n",
    "x = 10\n",
    "#값을 출력\n",
    "print(x)\n",
    "#가리키고 있는 곳의 위치\n",
    "print(id(x))\n",
    "\n",
    "#20을 저장하고 그 위치를 x 가 가리키는 것\n",
    "x = 20\n",
    "print(x)\n",
    "print(id(x))\n",
    "\n",
    "y = 10\n",
    "#값을 출력\n",
    "print(y)\n",
    "#가리키고 있는 곳의 위치\n",
    "print(id(y))"
   ]
  },
  {
   "cell_type": "markdown",
   "id": "2da91949",
   "metadata": {},
   "source": [
    "## 데이터에 이름 붙이기"
   ]
  },
  {
   "cell_type": "code",
   "execution_count": 20,
   "id": "d752c3bb",
   "metadata": {},
   "outputs": [
    {
     "name": "stdout",
     "output_type": "stream",
     "text": [
      "adam\n"
     ]
    }
   ],
   "source": [
    "#adam 이라는 문자열에 name 이라는 이름 붙이기\n",
    "name = 'adam'\n",
    "print(name)"
   ]
  },
  {
   "cell_type": "code",
   "execution_count": 21,
   "id": "aa5bf7f8",
   "metadata": {},
   "outputs": [
    {
     "name": "stdout",
     "output_type": "stream",
     "text": [
      "3\n"
     ]
    },
    {
     "ename": "TypeError",
     "evalue": "'int' object is not callable",
     "output_type": "error",
     "traceback": [
      "\u001b[1;31m---------------------------------------------------------------------------\u001b[0m",
      "\u001b[1;31mTypeError\u001b[0m                                 Traceback (most recent call last)",
      "\u001b[1;32m~\\AppData\\Local\\Temp/ipykernel_8248/1087940319.py\u001b[0m in \u001b[0;36m<module>\u001b[1;34m\u001b[0m\n\u001b[0;32m      1\u001b[0m \u001b[0mprint\u001b[0m\u001b[1;33m(\u001b[0m\u001b[0mabs\u001b[0m\u001b[1;33m(\u001b[0m\u001b[1;33m-\u001b[0m\u001b[1;36m3\u001b[0m\u001b[1;33m)\u001b[0m\u001b[1;33m)\u001b[0m\u001b[1;33m\u001b[0m\u001b[1;33m\u001b[0m\u001b[0m\n\u001b[0;32m      2\u001b[0m \u001b[0mabs\u001b[0m \u001b[1;33m=\u001b[0m \u001b[1;36m7\u001b[0m\u001b[1;33m\u001b[0m\u001b[1;33m\u001b[0m\u001b[0m\n\u001b[1;32m----> 3\u001b[1;33m \u001b[0mprint\u001b[0m\u001b[1;33m(\u001b[0m\u001b[0mabs\u001b[0m\u001b[1;33m(\u001b[0m\u001b[1;33m-\u001b[0m\u001b[1;36m3\u001b[0m\u001b[1;33m)\u001b[0m\u001b[1;33m)\u001b[0m\u001b[1;33m\u001b[0m\u001b[1;33m\u001b[0m\u001b[0m\n\u001b[0m",
      "\u001b[1;31mTypeError\u001b[0m: 'int' object is not callable"
     ]
    }
   ],
   "source": [
    "print(abs(-3))\n",
    "#abs 는 절대값을 구해주는 함수의 이름인데 정수를 저장한 곳을 가리키게 되서\n",
    "#기능이 변경되서 에러\n",
    "abs = 7\n",
    "print(abs(-3))"
   ]
  },
  {
   "cell_type": "code",
   "execution_count": 22,
   "id": "d67803d4",
   "metadata": {},
   "outputs": [
    {
     "ename": "SyntaxError",
     "evalue": "invalid syntax (Temp/ipykernel_8248/3701783566.py, line 1)",
     "output_type": "error",
     "traceback": [
      "\u001b[1;36m  File \u001b[1;32m\"C:\\Users\\tj\\AppData\\Local\\Temp/ipykernel_8248/3701783566.py\"\u001b[1;36m, line \u001b[1;32m1\u001b[0m\n\u001b[1;33m    and = 1\u001b[0m\n\u001b[1;37m    ^\u001b[0m\n\u001b[1;31mSyntaxError\u001b[0m\u001b[1;31m:\u001b[0m invalid syntax\n"
     ]
    }
   ],
   "source": [
    "#keyword 인 and 의 기능을 변경할려고 해서 에러\n",
    "and = 1\n",
    "print(and)"
   ]
  },
  {
   "cell_type": "markdown",
   "id": "99f12396",
   "metadata": {},
   "source": [
    "## Operator(연산자)"
   ]
  },
  {
   "cell_type": "code",
   "execution_count": 24,
   "id": "c3472435",
   "metadata": {},
   "outputs": [
    {
     "name": "stdout",
     "output_type": "stream",
     "text": [
      "40\n",
      "[100, 300, 200, 300, 300, 200]\n"
     ]
    },
    {
     "ename": "TypeError",
     "evalue": "can only concatenate list (not \"int\") to list",
     "output_type": "error",
     "traceback": [
      "\u001b[1;31m---------------------------------------------------------------------------\u001b[0m",
      "\u001b[1;31mTypeError\u001b[0m                                 Traceback (most recent call last)",
      "\u001b[1;32m~\\AppData\\Local\\Temp/ipykernel_8248/2209751350.py\u001b[0m in \u001b[0;36m<module>\u001b[1;34m\u001b[0m\n\u001b[0;32m      2\u001b[0m \u001b[0mprint\u001b[0m\u001b[1;33m(\u001b[0m\u001b[1;33m[\u001b[0m\u001b[1;36m100\u001b[0m\u001b[1;33m,\u001b[0m \u001b[1;36m300\u001b[0m\u001b[1;33m,\u001b[0m \u001b[1;36m200\u001b[0m\u001b[1;33m]\u001b[0m \u001b[1;33m+\u001b[0m \u001b[1;33m[\u001b[0m\u001b[1;36m300\u001b[0m\u001b[1;33m,\u001b[0m \u001b[1;36m300\u001b[0m\u001b[1;33m,\u001b[0m \u001b[1;36m200\u001b[0m\u001b[1;33m]\u001b[0m\u001b[1;33m)\u001b[0m\u001b[1;33m\u001b[0m\u001b[1;33m\u001b[0m\u001b[0m\n\u001b[0;32m      3\u001b[0m \u001b[1;33m\u001b[0m\u001b[0m\n\u001b[1;32m----> 4\u001b[1;33m \u001b[0mprint\u001b[0m\u001b[1;33m(\u001b[0m\u001b[1;33m[\u001b[0m\u001b[1;36m100\u001b[0m\u001b[1;33m,\u001b[0m \u001b[1;36m300\u001b[0m\u001b[1;33m,\u001b[0m \u001b[1;36m200\u001b[0m\u001b[1;33m]\u001b[0m \u001b[1;33m+\u001b[0m \u001b[1;36m10\u001b[0m\u001b[1;33m)\u001b[0m\u001b[1;33m\u001b[0m\u001b[1;33m\u001b[0m\u001b[0m\n\u001b[0m",
      "\u001b[1;31mTypeError\u001b[0m: can only concatenate list (not \"int\") to list"
     ]
    }
   ],
   "source": [
    "print(10+30) #숫자 데이터의 경우는 더하기\n",
    "print([100, 300, 200] + [300, 300, 200])\n",
    "\n",
    "print([100, 300, 200] + 10) #2개의 자료형이 달라서 에러"
   ]
  },
  {
   "cell_type": "code",
   "execution_count": 27,
   "id": "98f362b6",
   "metadata": {},
   "outputs": [
    {
     "name": "stdout",
     "output_type": "stream",
     "text": [
      "[100, 300, 200]\n",
      "[100 300 200]\n",
      "[200 400 300]\n"
     ]
    }
   ],
   "source": [
    "import numpy as np\n",
    "li = [100, 300, 200]\n",
    "ar = np.array([100, 300, 200])\n",
    "print(li)\n",
    "print(ar)\n",
    "print(ar + 100)"
   ]
  },
  {
   "cell_type": "code",
   "execution_count": 28,
   "id": "4f182b55",
   "metadata": {},
   "outputs": [
    {
     "name": "stdout",
     "output_type": "stream",
     "text": [
      "[10, 30, 10, 30, 10, 30]\n"
     ]
    }
   ],
   "source": [
    "#vector 와 정수가 곱셈을 하면 반복\n",
    "print([10, 30] * 3)"
   ]
  },
  {
   "cell_type": "code",
   "execution_count": 30,
   "id": "efc5c5b6",
   "metadata": {},
   "outputs": [
    {
     "name": "stdout",
     "output_type": "stream",
     "text": [
      "Hello\n",
      "Hello\n",
      "Hello\n",
      "\n"
     ]
    }
   ],
   "source": [
    "print(\"Hello\\n\" * 3)"
   ]
  },
  {
   "cell_type": "code",
   "execution_count": 31,
   "id": "fa9e8782",
   "metadata": {},
   "outputs": [
    {
     "name": "stdout",
     "output_type": "stream",
     "text": [
      "40\n",
      "2\n"
     ]
    }
   ],
   "source": [
    "print(10 << 2) # 왼쪽으로 2번 밀면 4배가 되서 40\n",
    "print(10 >> 2) # 오른쪽으로 2번 밀면 1/4이 되서 2"
   ]
  },
  {
   "cell_type": "code",
   "execution_count": 32,
   "id": "12668e5f",
   "metadata": {},
   "outputs": [
    {
     "name": "stdout",
     "output_type": "stream",
     "text": [
      "17\n",
      "23\n",
      "6\n"
     ]
    }
   ],
   "source": [
    "# 정수 사이의 산술 비트 연산\n",
    "x = 21  # 10101\n",
    "y = 19  # 10011\n",
    "print(x&y) # 17\n",
    "print(x|y) # 23\n",
    "print(x^y) # 6\n"
   ]
  },
  {
   "cell_type": "code",
   "execution_count": 39,
   "id": "06da1dcd",
   "metadata": {},
   "outputs": [
    {
     "name": "stdout",
     "output_type": "stream",
     "text": [
      "[200 300]\n"
     ]
    }
   ],
   "source": [
    "#print([True, True, False] & [True, True, False])\n",
    "#파이썬에서는 &, |, ^ 를 정수 데이터 사이의 연산에만 사용합니다.\n",
    "\n",
    "import numpy as np\n",
    "x = np.array([100, 200, 300])\n",
    "y = np.array([True, False, True])\n",
    "print(x[x > 150])\n",
    "\n",
    "#데이터 분석 라이브러리에서는 vector 자료형에 & 나 | 및 ^를 사용할 수 있음\n",
    "#이를 이용해서 조건에 맞는 데이터를 추출하는데 사용합니다.\n"
   ]
  },
  {
   "cell_type": "code",
   "execution_count": null,
   "id": "7e957597",
   "metadata": {},
   "outputs": [],
   "source": []
  }
 ],
 "metadata": {
  "kernelspec": {
   "display_name": "Python 3 (ipykernel)",
   "language": "python",
   "name": "python3"
  },
  "language_info": {
   "codemirror_mode": {
    "name": "ipython",
    "version": 3
   },
   "file_extension": ".py",
   "mimetype": "text/x-python",
   "name": "python",
   "nbconvert_exporter": "python",
   "pygments_lexer": "ipython3",
   "version": "3.9.7"
  }
 },
 "nbformat": 4,
 "nbformat_minor": 5
}
