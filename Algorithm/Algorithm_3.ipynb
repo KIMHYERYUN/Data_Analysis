{
 "cells": [
  {
   "cell_type": "markdown",
   "id": "1bf12237-8ad7-4712-bae5-7ae0908c7a8c",
   "metadata": {},
   "source": [
    "# 알고리즘"
   ]
  },
  {
   "cell_type": "markdown",
   "id": "e1005125-aa2d-4db9-815b-ea7ce43987d1",
   "metadata": {},
   "source": [
    "## 트리(Tree)\n",
    "![nn](tree.png)"
   ]
  },
  {
   "cell_type": "markdown",
   "id": "77518d38-6a35-4009-aff6-d0a541f04f50",
   "metadata": {},
   "source": [
    "- 데이터 계층 관계를 나타내는 자료구조\n",
    "\n",
    "- 용어\n",
    "  - 트리의 가장 윗부분에 위치하는 노드를 루트(root)라고 합니다.\n",
    "  - 트리의 가장 아랫부분에 위치하는 노드를 리프(leaf)라고 합니다. \n",
    "      - 가장 아래에 위치한다 라는 말은 물리적으로 가장 아랫부분에 위치한다는 의미가 아니라 더 이상 뻗어나갈 수 없는 마지막에 노드가 위치한다는 의미입니다.\n",
    "      - 다른 용어로는 끝 노드(terminal node) 또는 바깥 노드(external node)라고도 합니다.\n",
    "  - 자식\n",
    "      - 어떤 노드로부터 가지로 연결된 아래쪽노드를 자식(child)이라고 합니다. \n",
    "      - 노드는 자식을 여러 개 가질 수 있습니다. \n",
    "  - 부모\n",
    "      - 어떤 노드에서 가지로 연결된 위쪽 노드를 부모(parent)라고 합니다. \n",
    "      - 노드는 1개의 부모를 가집니다.\n",
    "      - 예를 들어 Y의 부모는 X\n",
    "  - 같은 부모를 가지는 노드를 형제(sibling)라고 합니다.\n",
    "  - 어떤 노드에서 가지로 연결된 위쪽 노드 모두를 조상(ancestor)이라고 합니다.\n",
    "  - 어떤 노드에서 가지로 연결된 아래쪽 노드 모두를 자손(descendant)이라고 합니다.\n",
    "  - 레벨\n",
    "     - 루트로부터 얼마나 떨어져 있는지에 대한 값을 레벨(level)이라고 합니다. \n",
    "     - 루트의 레벨은 0이고 루트로부터 가지가 하나씩 아래로 뻗어나갈 때마다 레벨이 1씩 늘어납니다. \n",
    "  - 차수\n",
    "     - 노드가 갖는 자식의 수를 차수(degree)라고 합니다.\n",
    "     - 예를 들어 X의 차수는 2, Y의 차수는 3입니다. \n",
    "     - 모든 노드의 차수가 n 이하인 트리를 n진 트리라고 합니다.\n",
    "     - 모든 노드의 자식 수가 2개 이하인 경우는 특별히 이진트리라고 합니다.\n",
    "  - 루트로부터 가장 멀리 떨어진 리프까지의 거리(리프 레벨의 최댓값)를 높이(height)라고합니다. \n",
    "  - 트리 안에서 다시 어떤 노드를 루트로 정하고 그 자손으로 이루어진 트리를 서브 트리(subtree)라고 합니다."
   ]
  },
  {
   "cell_type": "markdown",
   "id": "eaf671ae-4cc1-4d9b-af49-82c896373aae",
   "metadata": {},
   "source": [
    "-  트리의 순회(Traversal): 너비 우선 탐색\n",
    "    - 너비 우선 탐색(breadth-first Search)은 낮은 레벨에서 시작해 왼쪽에서 오른쪽 방향으로 검색하고 한 레벨에서의 검색이 끝나면 다음 레벨로 내려갑니다. \n",
    "    - 그림은 너비 우선 탐색으로 노드를 스캔하는 과정을 나타낸 것입니다. \n",
    "    - A -> B —> C -> D -> E -> F -> G -> H -> I -> J -> K -> L"
   ]
  },
  {
   "cell_type": "markdown",
   "id": "61432b55-f609-4433-8b53-c56ef8eab121",
   "metadata": {},
   "source": [
    "![nn](bfs.png)"
   ]
  },
  {
   "cell_type": "markdown",
   "id": "edb7a836-5b83-438e-b618-840fd3aec280",
   "metadata": {},
   "source": [
    "- 트리의 순회(Traversal): 깊이 우선 탐색\n",
    "  - 깊이 우선 탐색 (depth-first Search)은 리프까지 내려가면서 검색하는 것을 우선순위로 하는 탐색 방법\n",
    "  - 리프에 도달해 더 이상 검색을 진행할 곳이 없는 경우에는 부모에게 돌아가고 그런 다음 다시 자식 노드로 내려감\n",
    "  - 그림은 깊이 우선 탐색을 진행하는 과정을 나타낸 것\n"
   ]
  },
  {
   "cell_type": "markdown",
   "id": "0a6b38c9-7247-4ccc-8181-d925c587bcd2",
   "metadata": {},
   "source": [
    "  ![nn](dfs.png)"
   ]
  },
  {
   "cell_type": "markdown",
   "id": "fcc33138-262e-4895-b233-cb90e3aad9d6",
   "metadata": {},
   "source": [
    "  - 그림은 노드 A를 몇 번 지나갔는지를 나타낸 것\n",
    "  - 깊이 우선 탐색을 진행하면서 노드 A를 3 회 지나갔음을 알 수 있음"
   ]
  },
  {
   "cell_type": "markdown",
   "id": "950c74f8-3798-46c7-8697-824d2be5309c",
   "metadata": {},
   "source": [
    "  ![nn](traversal.png)"
   ]
  },
  {
   "cell_type": "markdown",
   "id": "62d7d957-e478-43d8-86cc-8812d48617e0",
   "metadata": {},
   "source": [
    "## 깊이 우선 탐색의 종류\n",
    "### 전위 순회(Preorder)\n",
    "- 노드방문 -> 왼쪽자식 -> 오른쪽자식\n",
    "- A -> B -> D -> H -> E —> I -> J -> C -> F -> K —> L —> G\n",
    "### 중위 순회(Inorder)\n",
    "- 왼쪽자식 -> 노드방문 -> 오른쪽자식\n",
    "- H -> D -> B -> I -> E -> J -> A -> K -> F -> L -> C -> G\n",
    "### 후위 순회(Postorder)\n",
    "- 왼쪽자식 -> 오른쪽자식 -> 노드방문\n",
    "- H -> D -> I -> J -> E -> B -> K -> L -> F -> G -> C -> A"
   ]
  },
  {
   "cell_type": "markdown",
   "id": "6afa1f37-8e43-4387-8327-88a5da27ca47",
   "metadata": {},
   "source": [
    "## 문제1\n",
    "- 이진 트리를 입력받아 전위 순회(preorder traversal), 중위 순회(inorder traversal), 후위 순회(postorder traversal)한 결과를 출력하는 프로그램을 작성하시오."
   ]
  },
  {
   "cell_type": "markdown",
   "id": "4f125451-5c3e-4b0d-a023-65f41e09bb33",
   "metadata": {},
   "source": [
    "![nn](tree_problem.png)"
   ]
  },
  {
   "cell_type": "markdown",
   "id": "7ac800e9-25ab-4954-817f-5e0b9fb66fc3",
   "metadata": {},
   "source": [
    "   - 예를 들어 위와 같은 이진 트리가 입력되면\n",
    "      - 전위 순회한 결과 : ABDCEFG // (루트) (왼쪽 자식) (오른쪽 자식)\n",
    "      - 중위 순회한 결과 : DBAECFG // (왼쪽 자식) (루트) (오른쪽 자식)\n",
    "      - 후위 순회한 결과 : DBEGFCA // (왼쪽 자식) (오른쪽 자식) (루트)\n",
    "      \n",
    "   - 입력\n",
    "      - 첫째 줄에는 이진 트리의 노드의 개수 N(1 ≤ N ≤ 26)이 주어진다. \n",
    "      - 둘째 줄부터 N개의 줄에 걸쳐 각 노드와 그의 왼쪽 자식 노드, 오른쪽 자식 노드가 주어진다. \n",
    "      - 노드의 이름은 A부터 차례대로 알파벳 대문자로 매겨지며, 항상 A가 루트 노드가 된다. \n",
    "      - 자식 노드가 없는 경우에는 .으로 표현한다.\n",
    "      \n",
    "   - 출력\n",
    "      - 첫째 줄에 전위 순회, 둘째 줄에 중위 순회, 셋째 줄에 후위 순회한 결과를 출력한다. \n",
    "      - 각 줄에 N개의 알파벳을 공백 없이 출력하면 된다."
   ]
  },
  {
   "cell_type": "code",
   "execution_count": null,
   "id": "959b7f50-3c57-43e5-91a1-10ae7d62940f",
   "metadata": {},
   "outputs": [],
   "source": [
    "예제 입력\n",
    "    7\n",
    "    A B C\n",
    "    B D .\n",
    "    C E F\n",
    "    E . .\n",
    "    F . G\n",
    "    D . .\n",
    "    G . .\n",
    "    \n",
    "예제 출력\n",
    "    ABDCEFG\n",
    "    DBAECFG\n",
    "    DBEGFCA"
   ]
  },
  {
   "cell_type": "code",
   "execution_count": 11,
   "id": "19643709-28f9-4202-b139-16d453e2713f",
   "metadata": {},
   "outputs": [
    {
     "name": "stdin",
     "output_type": "stream",
     "text": [
      " 7\n",
      " A B C\n",
      " B D .\n",
      " C E F\n",
      " E . .\n",
      " F . G\n",
      " D . .\n",
      " G . .\n"
     ]
    },
    {
     "name": "stdout",
     "output_type": "stream",
     "text": [
      "ABDCEFG\n",
      "DBAECFG\n",
      "DBEGFCA"
     ]
    }
   ],
   "source": [
    "class Node:\n",
    "    def __init__(self, data, left_node, right_node):\n",
    "        self.data = data\n",
    "        self.left_node = left_node\n",
    "        self.right_node = right_node\n",
    "\n",
    "def pre_order(node):\n",
    "    print(node.data, end='')\n",
    "    if node.left_node != '.':\n",
    "        pre_order(tree[node.left_node])\n",
    "    if node.right_node != '.':\n",
    "        pre_order(tree[node.right_node])\n",
    "\n",
    "def in_order(node):\n",
    "    if node.left_node != '.':\n",
    "        in_order(tree[node.left_node])\n",
    "    print(node.data, end='')\n",
    "    if node.right_node != '.':\n",
    "        in_order(tree[node.right_node])\n",
    "\n",
    "def post_order(node):\n",
    "    if node.left_node != '.':\n",
    "        post_order(tree[node.left_node])\n",
    "    if node.right_node != '.':\n",
    "        post_order(tree[node.right_node])\n",
    "    print(node.data, end='')\n",
    "\n",
    "n = int(input())\n",
    "tree = {}\n",
    "\n",
    "for i in range(n):\n",
    "    data, left_node, right_node = input().split()\n",
    "    tree[data] = Node(data, left_node, right_node)\n",
    "\n",
    "pre_order(tree['A'])\n",
    "print()\n",
    "in_order(tree['A'])\n",
    "print()\n",
    "post_order(tree['A'])"
   ]
  },
  {
   "cell_type": "code",
   "execution_count": null,
   "id": "e4ad8375-4791-4de8-af5b-50db6522a2b1",
   "metadata": {},
   "outputs": [],
   "source": []
  },
  {
   "cell_type": "markdown",
   "id": "58330f84-680c-4307-b3ce-053e0f96ec26",
   "metadata": {},
   "source": [
    "## 문제2\n",
    "- 크기가 2N × 2N인 2차원 배열을 Z모양으로 탐색하려고 한다. 예를 들어, 2×2배열을 왼쪽 위칸, 오른쪽 위칸, 왼쪽 아래칸, 오른쪽 아래칸 순서대로 방문하면 Z모양"
   ]
  },
  {
   "cell_type": "markdown",
   "id": "fa593c8e-38f6-44b4-ba4b-71627bc9c427",
   "metadata": {},
   "source": [
    "![nn](z1.png)"
   ]
  },
  {
   "cell_type": "markdown",
   "id": "56d77979-5dfb-45e3-8e10-9d1c71512cb4",
   "metadata": {},
   "source": [
    "- N > 1인 경우, 배열을 크기가 2<sup>N-1</sup> × 2<sup>N-1</sup>로 4등분 한 후에 재귀적으로 순서대로 방문한다.\n",
    "- 다음 예는 2<sup>2</sup> × 2<sup>2</sup> 크기의 배열을 방문한 순서이다."
   ]
  },
  {
   "cell_type": "markdown",
   "id": "aaa9ae57-693d-4c81-a690-609396afb31d",
   "metadata": {},
   "source": [
    "![nn](z2.png)"
   ]
  },
  {
   "cell_type": "markdown",
   "id": "a914f61c-724b-4742-ada6-8af329b02f29",
   "metadata": {},
   "source": [
    "- N이 주어졌을 때, r행 c열을 몇 번째로 방문하는지 출력하는 프로그램을 작성하시오.\n",
    "- 다음은 N=3일 때의 예이다."
   ]
  },
  {
   "cell_type": "markdown",
   "id": "589a25b9-dc43-46d3-9532-172cd0832f86",
   "metadata": {},
   "source": [
    "![nn](z3.png)"
   ]
  },
  {
   "cell_type": "markdown",
   "id": "47f8b82d-053f-4079-9487-cb8321c6a323",
   "metadata": {},
   "source": [
    "- 입력\n",
    "  - 첫째 줄에 정수 N, r, c가 주어진다.\n",
    "\n",
    "- 출력\n",
    "  - r행 c열을 몇 번째로 방문했는지 출력한다.\n",
    "    \n",
    "- 제한\n",
    "  - 1 <= N <= 15\n",
    "  - 0 <= r, c <= 2<sup>N</sup>\n",
    "  \n",
    "- 예제 입력\n",
    "  - 2 3 1\n",
    "  \n",
    "- 예제 출력\n",
    "  - 11\n",
    "  \n",
    "- 예제 입력\n",
    "  - 3 7 7\n",
    "  \n",
    "- 예제 출력\n",
    "  - 63  "
   ]
  },
  {
   "cell_type": "code",
   "execution_count": 13,
   "id": "5731bf2f-e9a9-4cba-b9ca-c231d47ce45d",
   "metadata": {},
   "outputs": [
    {
     "name": "stdout",
     "output_type": "stream",
     "text": [
      "3 7 7\n",
      "63\n"
     ]
    }
   ],
   "source": [
    "def solve(n, x, y):\n",
    "    global result\n",
    "    if n == 2:\n",
    "        if x == X and y == Y:\n",
    "            print(result)\n",
    "            return\n",
    "        result += 1\n",
    "        \n",
    "        if x == X and y + 1 == Y:\n",
    "            print(result)\n",
    "            return\n",
    "        result += 1\n",
    "        \n",
    "        if x + 1 == X and y == Y:\n",
    "            print(result)\n",
    "            return\n",
    "        result += 1\n",
    "        \n",
    "        if x + 1 == X and y + 1 == Y:\n",
    "            print(result)\n",
    "            return\n",
    "        result += 1\n",
    "        \n",
    "        return\n",
    "    solve(n / 2, x, y)\n",
    "    \n",
    "    solve(n / 2, x, y + n / 2)\n",
    "    \n",
    "    solve(n / 2, x + n / 2, y)\n",
    "    \n",
    "    solve(n / 2, x + n / 2, y + n / 2)\n",
    "\n",
    "result = 0\n",
    "\n",
    "N, X, Y = map(int, input().split(' '))\n",
    "solve(2 ** N, 0, 0)\n"
   ]
  },
  {
   "cell_type": "code",
   "execution_count": null,
   "id": "2cb1609c-5387-4888-a9db-983e0ca5d70c",
   "metadata": {},
   "outputs": [],
   "source": []
  },
  {
   "cell_type": "markdown",
   "id": "5eed7630-2723-4359-a20d-06e7a8d772d6",
   "metadata": {},
   "source": [
    "## 문제 3\n",
    "\n",
    "### 문제\n",
    "- N(2 ≤ N ≤ 10,000)개의 섬으로 이루어진 나라가 있다. \n",
    "- 이들 중 몇 개의 섬 사이에는 다리가 설치되어 있어서 차들이 다닐 수 있다.\n",
    "\n",
    "- 두 개의 섬에 공장을 세워 두고 물품을 생산하는 일을 하고 있다. \n",
    "- 물품을 생산하다 보면 공장에서 다른 공장으로 생산 중이던 물품을 수송해야 할 일이 생기곤 한다. \n",
    "- 그런데 각각의 다리마다 중량제한이 있기 때문에 무턱대고 물품을 옮길 순 없다. \n",
    "- 만약 중량제한을 초과하는 양의 물품이 다리를 지나게 되면 다리가 무너지게 된다.\n",
    "\n",
    "- 한 번의 이동에서 옮길 수 있는 물품들의 중량의 최댓값을 구하는 프로그램을 작성하시오.\n",
    "\n",
    "### 입력\n",
    "- 첫째 줄에 N, M(1 ≤ M ≤ 100,000)이 주어진다. \n",
    "- 다음 M개의 줄에는 다리에 대한 정보를 나타내는 세 정수 A, B(1 ≤ A, B ≤ N), C(1 ≤ C ≤ 1,000,000,000)가 주어진다. \n",
    "- 이는 A번 섬과 B번 섬 사이에 중량제한이 C인 다리가 존재한다는 의미이다. \n",
    "- 서로 같은 두 섬 사이에 여러 개의 다리가 있을 수도 있으며, 모든 다리는 양방향이다. \n",
    "- 마지막 줄에는 공장이 위치해 있는 섬의 번호를 나타내는 서로 다른 두 정수가 주어진다. \n",
    "- 공장이 있는 두 섬을 연결하는 경로는 항상 존재하는 데이터만 입력으로 주어진다.\n",
    "\n",
    "### 출력\n",
    "- 첫째 줄에 답을 출력한다.\n",
    "\n",
    "### 예제 입력\n",
    "- 3 3\n",
    "- 1 2 2\n",
    "- 3 1 3\n",
    "- 2 3 2\n",
    "- 1 3\n",
    "\n",
    "### 예제 출력\n",
    "- 3"
   ]
  },
  {
   "cell_type": "code",
   "execution_count": 12,
   "id": "3b334a19-1d74-47be-a396-9273fe6ef580",
   "metadata": {},
   "outputs": [
    {
     "name": "stdout",
     "output_type": "stream",
     "text": [
      "4 3\n",
      "1 2 3\n",
      "2 3 4\n",
      "2 1 5\n",
      "3 1\n",
      "4\n"
     ]
    }
   ],
   "source": [
    "from collections import deque\n",
    "\n",
    "#노드 와 다리의 개수를 입력받음\n",
    "n, m = map(int, input().split())\n",
    "#노드의 개수보다 1개 많은 2차원 배열을 생성\n",
    "adj = [[] for _ in range(n + 1)]\n",
    "\n",
    "start = 1000000000\n",
    "end = 1\n",
    "\n",
    "\n",
    "for _ in range(m):\n",
    "    #각 노드끼의 연결과 중량을 입력받아서 튜플로 각 리스트에 저장\n",
    "    x, y, weight = map(int, input().split())\n",
    "    adj[x].append((y, weight))\n",
    "    adj[y].append((x, weight))\n",
    "    \n",
    "    start = min(start, weight)\n",
    "    end = max(end, weight)\n",
    "\n",
    "    \n",
    "#출발점 과 도착점을 저장\n",
    "start_node, end_node = map(int, input().split())\n",
    "\n",
    "#이동 가능한지 확인하는 함수\n",
    "def bfs(c):\n",
    "    queue = deque([start_node])\n",
    "    #방문한 노드를 확인하기 위한 리스트를 생성\n",
    "    visited = [False] * (n + 1)\n",
    "    #시작 노드는 방문한 것으로 표시\n",
    "    visited[start_node] = True\n",
    "\n",
    "    while queue:\n",
    "        #첫번째 데이터를 꺼내기\n",
    "        x = queue.popleft()\n",
    "        for y, weight in adj[x]:\n",
    "            if not visited[y] and weight >= c:\n",
    "                visited[y] = True\n",
    "                queue.append(y)\n",
    "    return visited[end_node]\n",
    "\n",
    "\n",
    "\n",
    "#가장 작은 값에서 시작\n",
    "result = start\n",
    "#가장 작은 값보다 큰 값이 작아지면 중지\n",
    "#이동 가능 여부를 확인해서 이동 가능하면 중량을 하나씩 늘리고 이동 불가능한면 중량을 하나씩 감소\n",
    "while(start <= end):\n",
    "    mid = (start + end) // 2 # mid는 현재의 중량을 의미합니다.\n",
    "    if bfs(mid): # 이동이 가능하므로 중량을 증가시킵니다.\n",
    "        result = mid\n",
    "        start = mid + 1\n",
    "    else: # 이동이 불가능하므로, 중량을 감소시킵니다.\n",
    "        end = mid - 1\n",
    "\n",
    "print(result)\n"
   ]
  },
  {
   "cell_type": "code",
   "execution_count": null,
   "id": "bda38075-f918-45c4-824c-3083172ea0b1",
   "metadata": {},
   "outputs": [],
   "source": []
  },
  {
   "cell_type": "markdown",
   "id": "9c6d31c9-94c5-47a5-a43c-80285515f8d1",
   "metadata": {},
   "source": [
    "## 파일명 정렬\n",
    "- 나는 파일 저장소 서버 관리를 맡게 되었다.\n",
    "- 저장소 서버에는 프로그램의 과거 버전을 모두 담고 있어, 이름 순으로 정렬된 파일 목록은 보기가 불편했다.\n",
    "- 파일을 이름 순으로 정렬하면 나중에 만들어진 ver-10.zip이 ver-9.zip보다 먼저 표시되기 때문이다.\n",
    "- 버전 번호 외에도 숫자가 포함된 파일 목록은 여러 면에서 관리하기 불편했다. 예컨대 파일 목록이 [\"img12.png\", \"img10.png\", \"img2.png\", \"img1.png\"]일 경우, 일반적인 정렬은 [\"img1.png\", \"img10.png\", \"img12.png\", \"img2.png\"] 순이 되지만, 숫자 순으로 정렬된 [\"img1.png\", \"img2.png\", \"img10.png\", img12.png\"] 순이 훨씬 자연스럽다.\n",
    "\n",
    "- 나는 단순한 문자 코드 순이 아닌, 파일명에 포함된 숫자를 반영한 정렬 기능을 저장소 관리 프로그램에 구현하기로 했다.\n",
    "\n",
    "- 소스 파일 저장소에 저장된 파일명은 100 글자 이내로, 영문 대소문자, 숫자, 공백(\" \"), 마침표(\".\"), 빼기 부호(\"-\")만으로 이루어져 있다. 파일명은 영문자로 시작하며, 숫자를 하나 이상 포함하고 있다.\n",
    "\n",
    "- 파일명은 크게 HEAD, NUMBER, TAIL의 세 부분으로 구성된다.\n",
    "   - HEAD는 숫자가 아닌 문자로 이루어져 있으며, 최소한 한 글자 이상이다.\n",
    "   - NUMBER는 한 글자에서 최대 다섯 글자 사이의 연속된 숫자로 이루어져 있으며, 앞쪽에 0이 올 수 있다.    - 0부터 99999 사이의 숫자로, 00000이나 0101 등도 가능하다.\n",
    "   - TAIL은 그 나머지 부분으로, 여기에는 숫자가 다시 나타날 수도 있으며, 아무 글자도 없을 수 있다.\n",
    "\n",
    "<table>\n",
    "    <tr>\n",
    "        <th>파일명</th>\n",
    "        <th>HEAD</th>\n",
    "        <th>NUMBER</th>\n",
    "        <th>TAIL</th>\n",
    "    </tr>\n",
    "    <tr>\n",
    "        <td>foo9.txt</td>\n",
    "        <td>foo</td>\n",
    "        <td>9</td>\n",
    "        <td>txt</td>\n",
    "    </tr>\n",
    "    <tr>\n",
    "        <td>foo010bar020.zip</td>\n",
    "        <td>foo</td>\n",
    "        <td>010</td>\n",
    "        <td>bar020.zip</td>\n",
    "    </tr>\n",
    "    <tr>\n",
    "        <td>F-15</td>\n",
    "        <td>F-</td>\n",
    "        <td>15</td>\n",
    "        <td>(빈문자열)</td>\n",
    "    </tr>\n",
    "</table>\n",
    "\n",
    "- 파일명을 세 부분으로 나눈 후, 다음 기준에 따라 파일명을 정렬한다.\n",
    "   - 파일명은 우선 HEAD 부분을 기준으로 사전 순으로 정렬한다. 이때, 문자열 비교 시 대소문자 구분을 하지 않는다. MUZI와 muzi, MuZi는 정렬 시에 같은 순서로 취급된다.\n",
    "   - 파일명의 HEAD 부분이 대소문자 차이 외에는 같을 경우, NUMBER의 숫자 순으로 정렬한다. 9 < 10 < 0011 < 012 < 13 < 014 순으로 정렬된다. 숫자 앞의 0은 무시되며, 012와 12는 정렬 시에 같은 같은 값으로 처리된다.\n",
    "   - 두 파일의 HEAD 부분과, NUMBER의 숫자도 같을 경우, 원래 입력에 주어진 순서를 유지한다. MUZI01.zip과 muzi1.png가 입력으로 들어오면, 정렬 후에도 입력 시 주어진 두 파일의 순서가 바뀌어서는 안 된다.\n",
    "\n",
    "### 파일명 정렬 프로그램을 구현하라.\n",
    "\n",
    "- 입력 형식\n",
    "   - 입력으로 배열 files가 주어진다.\n",
    "   - files는 1000 개 이하의 파일명을 포함하는 문자열 배열이다.\n",
    "각 파일명은 100 글자 이하 길이로, 영문 대소문자, 숫자, 공백(\" \"), 마침표(\".\"), 빼기 부호(\"-\")만으로 이루어져 있다. 파일명은 영문자로 시작하며, 숫자를 하나 이상 포함하고 있다.\n",
    "   - 중복된 파일명은 없으나, 대소문자나 숫자 앞부분의 0 차이가 있는 경우는 함께 주어질 수 있다. (muzi1.txt, MUZI1.txt, muzi001.txt, muzi1.TXT는 함께 입력으로 주어질 수 있다.)\n",
    "\n",
    "- 출력 형식\n",
    "   - 위 기준에 따라 정렬된 배열을 출력한다.\n",
    "\n",
    "- 입출력 예제\n",
    "   - 입력: [\"img12.png\", \"img10.png\", \"img02.png\", \"img1.png\", \"IMG01.GIF\", \"img2.JPG\"]\n",
    "   - 출력: [\"img1.png\", \"IMG01.GIF\", \"img02.png\", \"img2.JPG\", \"img10.png\", \"img12.png\"]\n",
    "\n",
    "   - 입력: [\"F-5 Freedom Fighter\", \"B-50 Superfortress\", \"A-10 Thunderbolt II\", \"F-14 Tomcat\"]\n",
    "   - 출력: [\"A-10 Thunderbolt II\", \"B-50 Superfortress\", \"F-5 Freedom Fighter\", \"F-14 Tomcat\"]\n",
    "   \n",
    "- 힌트 : 정규식을 이용하면 쉽게 해결할 수 있음"
   ]
  },
  {
   "cell_type": "code",
   "execution_count": 47,
   "id": "3991e75a-3d16-44f4-bc92-600cf206a81c",
   "metadata": {},
   "outputs": [],
   "source": [
    "import re\n",
    "def solution(files):\n",
    "    spl = []\n",
    "    for i in range(len(files)):\n",
    "        spl.append([])\n",
    "    i = 0\n",
    "    for x in files:\n",
    "        result =''\n",
    "        idx = 0\n",
    "        for y in x:\n",
    "            if y.isdigit():\n",
    "                break\n",
    "            else:\n",
    "                result = result + y\n",
    "            idx = idx + 1\n",
    "        spl[i].append(result)\n",
    "        \n",
    "        result = ''\n",
    "        for y in x[idx:]:\n",
    "             if y.isdigit():\n",
    "                result = result + y\n",
    "             else:\n",
    "                break\n",
    "             idx = idx + 1\n",
    "        spl[i].append(result)\n",
    "        spl[i].append(x[idx:])\n",
    "        i = i + 1\n",
    "    sort = sorted(spl, key=lambda x: (str(x[0]).lower(), int(x[1])))\n",
    "    print(sort)\n",
    "    return [''.join(s) for s in sort]"
   ]
  },
  {
   "cell_type": "code",
   "execution_count": 49,
   "id": "42a46fdc-3fc0-487a-8ccc-6bc8eb0a77ef",
   "metadata": {},
   "outputs": [
    {
     "name": "stdout",
     "output_type": "stream",
     "text": [
      "[['image', '1', '.png'], ['image', '01', '.png'], ['image', '2', '.png']]\n"
     ]
    },
    {
     "data": {
      "text/plain": [
       "['image1.png', 'image01.png', 'image2.png']"
      ]
     },
     "execution_count": 49,
     "metadata": {},
     "output_type": "execute_result"
    }
   ],
   "source": [
    "filenames = ['image2.png', 'image1.png', 'image01.png']\n",
    "solution(filenames)"
   ]
  },
  {
   "cell_type": "code",
   "execution_count": null,
   "id": "abb89549-687c-4c80-a404-0204e3f5ca47",
   "metadata": {},
   "outputs": [],
   "source": []
  },
  {
   "cell_type": "code",
   "execution_count": 7,
   "id": "fe55e63f-d8fc-4d1b-8d96-8b8e1faa04dc",
   "metadata": {},
   "outputs": [],
   "source": [
    "import re\n",
    "def solution(files):\n",
    "    re_spl = re.compile('(^[a-z|A-Z|\\s|\\.|\\-]+)(\\d+)(.*)')\n",
    "    print(re_spl)\n",
    "    spl = [re_spl.findall(file)[0] for file in files]\n",
    "    print(spl)\n",
    "    sort = sorted(spl, key=lambda x: (str(x[0]).lower(), int(x[1])))\n",
    "    print(sort)\n",
    "    return [''.join(s) for s in sort]"
   ]
  },
  {
   "cell_type": "code",
   "execution_count": 48,
   "id": "b339a228-98be-49d9-b368-f4362a78ff20",
   "metadata": {},
   "outputs": [
    {
     "name": "stdout",
     "output_type": "stream",
     "text": [
      "[['image', '1', '.png'], ['image', '01', '.png'], ['image', '2', '.png']]\n"
     ]
    },
    {
     "data": {
      "text/plain": [
       "['image1.png', 'image01.png', 'image2.png']"
      ]
     },
     "execution_count": 48,
     "metadata": {},
     "output_type": "execute_result"
    }
   ],
   "source": [
    "filenames = ['image2.png', 'image1.png', 'image01.png']\n",
    "solution(filenames)"
   ]
  },
  {
   "cell_type": "code",
   "execution_count": null,
   "id": "41ca96c1-c61e-4926-8d15-583c615d1ead",
   "metadata": {},
   "outputs": [],
   "source": []
  },
  {
   "cell_type": "code",
   "execution_count": null,
   "id": "687bcf45-941b-48b7-91d3-e4bbc3d6c1dd",
   "metadata": {},
   "outputs": [],
   "source": []
  }
 ],
 "metadata": {
  "kernelspec": {
   "display_name": "Python 3",
   "language": "python",
   "name": "python3"
  },
  "language_info": {
   "codemirror_mode": {
    "name": "ipython",
    "version": 3
   },
   "file_extension": ".py",
   "mimetype": "text/x-python",
   "name": "python",
   "nbconvert_exporter": "python",
   "pygments_lexer": "ipython3",
   "version": "3.8.8"
  }
 },
 "nbformat": 4,
 "nbformat_minor": 5
}
