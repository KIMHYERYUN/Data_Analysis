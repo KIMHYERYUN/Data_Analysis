{
 "cells": [
  {
   "cell_type": "markdown",
   "id": "1bf12237-8ad7-4712-bae5-7ae0908c7a8c",
   "metadata": {},
   "source": [
    "# 알고리즘"
   ]
  },
  {
   "cell_type": "markdown",
   "id": "e1005125-aa2d-4db9-815b-ea7ce43987d1",
   "metadata": {},
   "source": [
    "## Graph\n",
    "- 연결되어 있는 원소 사이의 다:다 관계를 표현하는 자료구조\n",
    "- 표현 능력이 우수하여 현실 세계의 다양한 문제를 효과적으로 모델링하기 위한 자료구조\n",
    "- 리스트, 스택, 큐 등의 선형자료구조는 데이터를 순차적으로 저장하여 효율적으로 데이터를 저장하는 것이 목적이고 트리는 계층관계를 표현하기 위한 자료구조인데 트리는 계층구조가 아닌 일반적인 관계는 나타낼 수 없음\n",
    "- 트리는 순환 구조를 표현할 수 없음\n",
    "- 객체를 나타내는 정점(vertex)과 객체를 연결하는 간선(edge)의 집합\n",
    "- G = (V, E)\n",
    "  - V는 그래프에 있는 정점들의 집합\n",
    "  - E는 정점을 연결하는 간선들의 집합 \n",
    "\n",
    "![nn](graph.png)"
   ]
  },
  {
   "cell_type": "markdown",
   "id": "aca26128-bedb-44b6-aac9-6f40814084b3",
   "metadata": {},
   "source": [
    "- 그래프 구현\n",
    "\n",
    "![nn](graphimpl.png)"
   ]
  },
  {
   "cell_type": "markdown",
   "id": "77518d38-6a35-4009-aff6-d0a541f04f50",
   "metadata": {},
   "source": [
    "- 그래프의 순회(Graph Traversal, Graph Search)\n",
    "\n",
    "  - 그래프의 순회는 그래프의 한 정점에서 시작하여 그래프 안 모든 정점을 한 번씩 방문하는 것을 말하며 이를 위한 알고리즘은 DFS, BFS의 두 가지가 있다.\n",
    "     - 깊이 우선 탐색(DFS; Depth First Search): 시작 정점에서 한 방향으로 갈 수 있는 가장 먼 경로까지 탐색하다가 갈 곳이 없으면, 가장 마지막에 만났던 부모 노드로 돌아와서 다른 방향을 탐색하는 방법\n",
    "        - 루트 노드(혹은 다른 임의의 노드)에서 시작해서 다음 분기(branch)로 넘어가기 전에 해당 분기를 완벽하게 탐색하는 방법\n",
    "           - 미로를 탐색할 때 한 방향으로 갈 수 있을 때까지 계속 가다가 더 이상 갈 수 없게 되면 다시 가장 가까운 갈림길로 돌아와서 이곳으로부터 다른 방향으로 다시 탐색을 진행하는 방법과 유사\n",
    "           - 넓게(wide) 탐색하기 전에 깊게(deep) 탐색하는 것이다.\n",
    "           - 모든 노드를 방문 하고자 하는 경우에 이 방법을 선택한다.\n",
    "        - 깊이 우선 탐색(DFS)이 너비 우선 탐색(BFS)보다 좀 더 간단하다.\n",
    "        - 단순 검색 속도 자체는 너비 우선 탐색(BFS)에 비해서 느리다.\n",
    "        - 자기 자신을 호출하는 순환 알고리즘의 형태 를 가지고 있다.\n",
    "        - 전위 순회(Pre-Order Traversals)를 포함한 다른 형태의 트리 순회는 모두 DFS의 한 종류이다.\n",
    "        - 이 알고리즘을 구현할 때 가장 큰 차이점은, 그래프 탐색의 경우 어떤 노드를 방문했었는지 여부를 반드시 검사 해야 한다는 것이다.\n",
    "        - 이를 검사하지 않을 경우 무한루프에 빠질 위험이 있다.\n",
    "        - 과정"
   ]
  },
  {
   "cell_type": "markdown",
   "id": "f407b8be-9bc8-4fd4-a27a-9c127aca94a8",
   "metadata": {},
   "source": [
    "![nn](dfs.png)\n",
    "\n",
    "- a 노드(시작 노드)를 방문한다.\n",
    "  - 방문한 노드는 방문했다고 표시한다.\n",
    "- a와 인접한 노드들을 차례로 순회한다.\n",
    "  - a와 인접한 노드가 없다면 종료한다.\n",
    "- a와 이웃한 노드 b를 방문했다면, a와 인접한 또 다른 노드를 방문하기 전에 b의 이웃 노드들을 전부 방문해야 한다.\n",
    "  - b를 시작 정점으로 DFS를 다시 시작하여 b의 이웃 노드들을 방문한다.\n",
    "- b의 분기를 전부 완벽하게 탐색했다면 다시 a에 인접한 정점들 중에서 아직 방문이 안 된 정점을 찾는다.\n",
    "  - b의 분기를 전부 완벽하게 탐색한 뒤에야 a의 다른 이웃 노드를 방문할 수 있다는 뜻이다.\n",
    "  - 아직 방문이 안 된 정점이 없으면 종료한다.\n",
    "  - 있으면 다시 그 정점을 시작 정점으로 DFS를 시작한다.\n"
   ]
  },
  {
   "cell_type": "markdown",
   "id": "ffb158ca-2f2e-4f90-b93f-bee471d8d09d",
   "metadata": {},
   "source": [
    "![nn](dfsex.png)"
   ]
  },
  {
   "cell_type": "code",
   "execution_count": null,
   "id": "803219f7-f2b2-42b5-a106-66863c6f90d0",
   "metadata": {},
   "outputs": [],
   "source": [
    "그래프의 인접 행렬\n",
    "[[1, 1, 1, 1, 0, 0],\n",
    "[1, 1, 0, 0, 0, 0],\n",
    "[1, 0, 1, 0, 0, 1],\n",
    "[1, 0, 0, 1, 1, 0],\n",
    "[0, 0, 0, 1, 1, 0],\n",
    "[0, 0, 1, 0, 0, 1]]"
   ]
  },
  {
   "cell_type": "markdown",
   "id": "6cffff5a-f985-4b80-beba-685eadaade7f",
   "metadata": {},
   "source": [
    "### 반복문을 이용한 dfs 해결"
   ]
  },
  {
   "cell_type": "code",
   "execution_count": 1,
   "id": "164461cc-d98a-4ea7-be00-499fe80b506b",
   "metadata": {},
   "outputs": [
    {
     "name": "stdout",
     "output_type": "stream",
     "text": [
      "\n",
      "stack:  [0]\n",
      "pop된 노드:  0\n",
      "5\n",
      "\n",
      "stack:  [3, 2, 1]\n",
      "pop된 노드:  1\n",
      "5\n",
      "\n",
      "stack:  [3, 2]\n",
      "pop된 노드:  2\n",
      "5\n",
      "\n",
      "stack:  [3, 5]\n",
      "pop된 노드:  5\n",
      "5\n",
      "\n",
      "stack:  [3]\n",
      "pop된 노드:  3\n",
      "5\n",
      "\n",
      "stack:  [4]\n",
      "pop된 노드:  4\n",
      "5\n"
     ]
    },
    {
     "data": {
      "text/plain": [
       "[0, 1, 2, 5, 3, 4]"
      ]
     },
     "execution_count": 1,
     "metadata": {},
     "output_type": "execute_result"
    }
   ],
   "source": [
    "# 그래프를 반복적으로 dfs함\n",
    "def iterative_dfs_desc(graph, input_start):\n",
    "    #방문한 곳을 저장할 리스트 - 모든 곳을 방문하지 않았다고 0을 대입\n",
    "    visited = [0] * len(graph)\n",
    "    #방문한 곳을 순서대로 저장할 리스트\n",
    "    answer = []\n",
    "    #첫번째 요소를 저장\n",
    "    stack = [input_start]\n",
    "\n",
    "    #스택이 빌 때 까지 작업\n",
    "    while stack:\n",
    "        #스택을 출력\n",
    "        print(\"\\nstack: \", stack)\n",
    "        #방문한 요소를 출력\n",
    "        temp = stack.pop()\n",
    "        #방문한 곳을 출력\n",
    "        print(\"pop된 노드: \", temp)\n",
    "        #방문한 곳을 기록\n",
    "        visited[temp] = 1\n",
    "        #방문한 곳을 추가\n",
    "        answer.append(temp)\n",
    "        #마지막 부터 첫번째 요소까지 뒤에서부터 순서대로 접근\n",
    "        for i in range(len(graph[temp]) - 1, -1, -1):\n",
    "            if graph[temp][i] == 1 and visited[i] == 0 and temp != i:\n",
    "                stack.append(i)\n",
    "    return answer\n",
    "    \n",
    "graph = [[1, 1, 1, 1, 0, 0],\n",
    "         [1, 1, 0, 0, 0, 0],\n",
    "         [1, 0, 1, 0, 0, 1],\n",
    "         [1, 0, 0, 1, 1, 0],\n",
    "         [0, 0, 0, 1, 1, 0],\n",
    "         [0, 0, 1, 0, 0, 1]]\n",
    "\n",
    "start = 0\n",
    "iterative_dfs_desc(graph, start)"
   ]
  },
  {
   "cell_type": "markdown",
   "id": "79a79ef4-70af-418e-a8be-ff5c1d01393d",
   "metadata": {},
   "source": [
    "### 재귀를 이용한 해결"
   ]
  },
  {
   "cell_type": "code",
   "execution_count": 24,
   "id": "008da389-43bd-4585-b3cb-4c1853f54a67",
   "metadata": {},
   "outputs": [
    {
     "data": {
      "text/plain": [
       "[0, 1, 2, 5, 3, 4]"
      ]
     },
     "execution_count": 24,
     "metadata": {},
     "output_type": "execute_result"
    }
   ],
   "source": [
    "# 재귀함수\n",
    "def recurse(graph, start, visited, answer):\n",
    "    # print(start, \"방문\")\n",
    "    visited[start] = 1\n",
    "    answer.append(start)\n",
    "\n",
    "    for i in range(len(graph[start])):\n",
    "        if graph[start][i] == 1 and visited[i] == 0 and start != i:\n",
    "            recurse(graph, i, visited, answer)\n",
    "\n",
    "\n",
    "# 재귀함수를 이용한 풀이\n",
    "def recursive_dfs(graph, input_start):\n",
    "    visited = [0] * len(graph)\n",
    "    answer = []\n",
    "\n",
    "    recurse(graph, input_start, visited, answer)\n",
    "    return answer\n",
    "\n",
    "\n",
    "graph = [[1, 1, 1, 1, 0, 0],\n",
    "         [1, 1, 0, 0, 0, 0],\n",
    "         [1, 0, 1, 0, 0, 1],\n",
    "         [1, 0, 0, 1, 1, 0],\n",
    "         [0, 0, 0, 1, 1, 0],\n",
    "         [0, 0, 1, 0, 0, 1]]\n",
    "\n",
    "start = 0\n",
    "recursive_dfs(graph, start)"
   ]
  },
  {
   "cell_type": "code",
   "execution_count": null,
   "id": "2c91a7a3-058d-4899-85cc-8eadf442c25b",
   "metadata": {},
   "outputs": [],
   "source": []
  },
  {
   "cell_type": "markdown",
   "id": "eaf671ae-4cc1-4d9b-af49-82c896373aae",
   "metadata": {},
   "source": [
    "- 너비 우선 탐색(BFS; Breadth First Search): 시작 정점에서 인접한 정점들을 모두 방문한 후, 방문했던 정점들을 다시 시작점으로 하여, 인접한 정점들을 차례로 방문하는 것\n",
    "    - 시작 정점으로부터 가까운 정점을 먼저 방문하고 멀리 떨어져 있는 정점을 나중에 방문하는 순회 방법\n",
    "    - 깊게(deep) 탐색하기 전에 넓게(wide) 탐색하는 것이다.\n",
    "         - 두 노드 사이의 최단 경로 혹은 임의의 경로를 찾고 싶을 때 이 방법을 선택한다.\n",
    "         - 지구상에 존재하는 모든 친구 관계를 그래프로 표현한 후 Ash와 Vanessa 사이에 존재하는 경로를 찾는 경우\n",
    "             - 깊이 우선 탐색의 경우: 모든 친구 관계를 다 살펴봐야 할지도 모른다.\n",
    "             - 너비 우선 탐색의 경우: Ash와 가까운 관계부터 탐색\n",
    "         - 너비 우선 탐색(BFS)이 깊이 우선 탐색(DFS)보다 좀 더 복잡하다.\n",
    "       \n",
    "   - 너비 우선 탐색(BFS)의 특징\n",
    "         - 직관적이지 않은 면이 있다.\n",
    "             - BFS는 시작 노드에서 시작해서 거리에 따라 단계별로 탐색한다고 볼 수 있다.\n",
    "         - BFS는 재귀적으로 동작하지 않는다.\n",
    "         - 이 알고리즘을 구현할 때 가장 큰 차이점은, 그래프 탐색의 경우 어떤 노드를 방문했었는지 여부를 반드시 검사 해야 한다는 것이다.\n",
    "             - 이를 검사하지 않을 경우 무한루프에 빠질 위험이 있다.\n",
    "         - BFS는 방문한 노드들을 차례로 저장한 후 꺼낼 수 있는 자료 구조인 큐(Queue)를 사용한다.\n",
    "             - 즉, 선입선출(FIFO) 원칙으로 탐색\n",
    "             - 일반적으로 큐를 이용해서 반복적 형태로 구현하는 것이 가장 잘 동작한다.\n",
    "         - Prim, Dijkstra 알고리즘과 유사하다.\n",
    "         \n",
    "    - 너비 우선 탐색(BFS)의 과정\n",
    "         - 깊이가 1인 모든 노드를 방문하고 나서 그 다음에는 깊이가 2인 모든 노드를, 그 다음에는 깊이가 3인 모든 노드를 방문하는 식으로 계속 방문하다가 더 이상 방문할 곳이 없으면 탐색을 마친다.\n",
    "         \n",
    "         "
   ]
  },
  {
   "cell_type": "markdown",
   "id": "87edf90a-483f-4365-b2ae-bd6da55a6c83",
   "metadata": {},
   "source": [
    "![nn](bfs1.png)\n",
    "\n",
    "![nn](bfs2.png)\n",
    "\n",
    "    - a 노드(시작 노드)를 방문한다. (방문한 노드 체크)\n",
    "        - 큐에 방문된 노드를 삽입(enqueue)한다.\n",
    "        - 초기 상태의 큐에는 시작 노드만이 저장\n",
    "            - 즉, a 노드의 이웃 노드를 모두 방문한 다음에 이웃의 이웃들을 방문한다.\n",
    "    - 큐에서 꺼낸 노드과 인접한 노드들을 모두 차례로 방문한다.\n",
    "        - 큐에서 꺼낸 노드를 방문한다.\n",
    "        - 큐에서 커낸 노드과 인접한 노드들을 모두 방문한다.\n",
    "            - 인접한 노드가 없다면 큐의 앞에서 노드를 꺼낸다(dequeue).\n",
    "        - 큐에 방문된 노드를 삽입(enqueue)한다."
   ]
  },
  {
   "cell_type": "markdown",
   "id": "b44c3ae8-5b95-4f10-a126-b9f00b083589",
   "metadata": {},
   "source": [
    "### 기본적인 bfs"
   ]
  },
  {
   "cell_type": "code",
   "execution_count": 25,
   "id": "4a260ef5-547c-4d63-9cb5-c4e6ff9bb2e4",
   "metadata": {},
   "outputs": [
    {
     "name": "stdout",
     "output_type": "stream",
     "text": [
      "bfs 결과:  [0, 1, 2, 3, 5, 4]\n"
     ]
    }
   ],
   "source": [
    "def bfs(graph, input_start):\n",
    "    visited = [False] * len(graph)\n",
    "    answer = []\n",
    "    \n",
    "    queue = [input_start]\n",
    "    visited[input_start] = True\n",
    "    while queue:\n",
    "        node = queue.pop(0)\n",
    "        answer.append(node)\n",
    "        for i in range(len(graph[node])):\n",
    "            if graph[node][i] == 1 and not visited[i] and node != i:\n",
    "                queue.append(i)\n",
    "                visited[i] = True\n",
    "    return answer\n",
    "   \n",
    "graph = [[1, 1, 1, 1, 0, 0],\n",
    "         [1, 1, 0, 0, 0, 0],\n",
    "         [1, 0, 1, 0, 0, 1],\n",
    "         [1, 0, 0, 1, 1, 0],\n",
    "         [0, 0, 0, 1, 1, 0],\n",
    "         [0, 0, 1, 0, 0, 1]]\n",
    "\n",
    "start = 0\n",
    "print(\"bfs 결과: \", bfs(graph, start))"
   ]
  },
  {
   "cell_type": "markdown",
   "id": "540c5cbe-03ff-4820-a8c5-3c1cd3c56388",
   "metadata": {},
   "source": [
    "### n 번 만에 도달할 수 있는 노드"
   ]
  },
  {
   "cell_type": "code",
   "execution_count": 26,
   "id": "c56e85bf-1b45-488a-a403-8ec25e2944e4",
   "metadata": {},
   "outputs": [
    {
     "name": "stdout",
     "output_type": "stream",
     "text": [
      "queue:  [1]\n",
      "queue:  [0]\n",
      "queue:  [2, 3]\n",
      "[5, 4]\n"
     ]
    }
   ],
   "source": [
    "def solution(graph, input_start, n):\n",
    "    visited = [False] * len(graph)\n",
    "    queue = [input_start]\n",
    "    visited[input_start] = True\n",
    "    count = 0\n",
    "\n",
    "    while queue:\n",
    "        print(\"queue: \", queue)\n",
    "        count += 1\n",
    "        new_arr = []\n",
    "        for i in queue:\n",
    "            node = i\n",
    "            for j in range(len(graph[node])):\n",
    "                if graph[node][j] == 1 and not visited[j] and node != j:\n",
    "                    new_arr.append(j)\n",
    "                    visited[j] = True\n",
    "\n",
    "        queue = new_arr\n",
    "        if count == n:\n",
    "            return new_arr\n",
    "\n",
    "\n",
    "graph = [[1, 1, 1, 1, 0, 0],\n",
    "         [1, 1, 0, 0, 0, 0],\n",
    "         [1, 0, 1, 0, 0, 1],\n",
    "         [1, 0, 0, 1, 1, 0],\n",
    "         [0, 0, 0, 1, 1, 0],\n",
    "         [0, 0, 1, 0, 0, 1]]\n",
    "n = 3\n",
    "start = 1\n",
    "print(solution(graph, start, n))"
   ]
  },
  {
   "cell_type": "code",
   "execution_count": null,
   "id": "ce19365e-c6de-4f35-a14c-2f2a7a0bb76f",
   "metadata": {},
   "outputs": [],
   "source": []
  },
  {
   "cell_type": "markdown",
   "id": "69c7ef95-c49e-43c6-a801-424924b1ab8a",
   "metadata": {},
   "source": [
    "- 신장 트리(Spanning Tree): 그래프 안의 모든 정점을 포함하는 트리이며, 모든 정점들이 연결되어 있어야 하고 사이클을 포함해서는 안 된다.\n",
    "    - 신장 트리란, 주어진 그래프의 정점의 집합과 간선의 집합을 원소로 가지는 부분집합, 즉 sub-graph 중에서, 다음 조건을 만족하는 sub-graph(트리)를 말한다. \n",
    "       - 그래프 내의 모든 정점을 포함한다. \n",
    "       - 사이클이 존재해선 안된다. (사이클이란, 이동 가능한 경로 중, 출발점과 도착점이 같은 경로를 말한다.)\n",
    "    - N개의 정점을 가진 신장 트리는 N-1개의 정점을 가진다. 이러한 신장 트리는, 최소의 링크를 사용하는 네트워크를 구축하는데에 쓰인다. 신장 트리는 한 그래프 내에 여러 개가 존재할 수 있다. 그 중,  포함된 간선의 가중치의 합이 가장 작은 신장 트리를 최소 비용 신장 트리라고 한다. \n",
    "    - 신장 트리를 구하는 것은 DFS알고리즘으로도 구할 수 있다. 그러나, 신장 트리 중 가장 의미 있는 것은 최소 비용 신장 트리이다. \n",
    "\n",
    "    - 최소 비용 신장 트리는 가중치가 부여된 무방향 그래프의 신장 트리 비용의 최소화이다.\n",
    "       - 주어진 그래프에서 만들 수 있는 신장 트리 중, 그 값이 가장 작은 신장 트리를 말한다. 최소 신장 트리는 통신망, 도로망같은 네트워크를 최소의 비용으로 구축하는 문제의 답을 말한다. 주로 나오는 예제는 다음과 같다.\n",
    "          - 도로 건설: 도시들을 모두 연결하면서 도로의 길이를 최소가 되도록 하는 문제\n",
    "          - 정기 회로: 단자들을 모두 연결하면서, 전선의 길이를 가장 최소로 하는 문제\n",
    "          - 통신: 전화선의 길이가 최소가 되도록 하는 전화 케이블 망을 구성하는 문제\n",
    "          - 배관: 파이프를 모두 연결하면서, 파이프의 총 길이를 최소로 하는 문제"
   ]
  },
  {
   "cell_type": "code",
   "execution_count": null,
   "id": "7d732a24-31f3-4325-9eb9-85c1029b258a",
   "metadata": {},
   "outputs": [],
   "source": []
  },
  {
   "cell_type": "markdown",
   "id": "28f2083d-44cb-4bd2-8133-bf6f78abe917",
   "metadata": {},
   "source": [
    "      - Prim 방법: 각 노드에 최소값을 선정하고 이어진 노드에서 최소값을 계속 선정하는 것\n",
    "          - 시작 정점에서부터 출발해서, 신장 트리 집합을 단계적으로 확장한다. \n",
    "              - 시작 단계에서는 시작 정점만이 신장 트리 집합에 포함된다.\n",
    "          - 신장 트리 집합에 인접한 정점 중에서, 최저 간선으로 연결된 정점을 선택해서 신장 트리 집합에 추가한다. \n",
    "              - 반복을 통해서 신장 트리 집합을 만들 건데, 기존에 신장 트리 집합에서 도달할 수 있는 정점들 중에서, 가장 낮은 가중치로 도달할 수 있는 정점을 선택해서 신장 트리 집합에 추가한다는 뜻이다. \n",
    "          - 신장 트리 집합이 n-1개의 간선을 가질 때까지 반복한다. \n",
    "          \n",
    "          "
   ]
  },
  {
   "cell_type": "markdown",
   "id": "4f816fdf-8f85-42b0-baa9-e15b7bd00f2a",
   "metadata": {},
   "source": [
    "![nn](prim1.png)\n",
    "\n",
    "위 그림은 초기 상태이다. 반복을 하면서, 최소 신장 트리에 포함되는 노드를 주황색으로 칠할 것이다. 그리고 각 단계마다 신장 트리에 포함되는 노드를 visited배열에 True로 표시할 것이다. 그리고, 한 노드가 신장 트리에 포함됨에 따라, 현재 신장 트리에서 해당 노드를 포함하는데 드는 비용의 최솟값을 distances배열의 각 원소에 표현하고, 글씨 색을 빨간 색으로 칠할 것이다. \n",
    "\n",
    "시작하는 노드는, 아무 노드나 해도 상관 없다. 왜냐하면, 최소 신장 트리는 여러개일 수 있지만, 그 최소 신장 트리가 나타내는 비용의 총 합은 한 가지이기 때문이다. 그래서 시작 노드는 일단 0으로 하겠다. "
   ]
  },
  {
   "cell_type": "markdown",
   "id": "1a9f8a3c-bb25-44f1-8dbd-81005b7a5712",
   "metadata": {},
   "source": [
    "![nn](prim2.png)\n",
    "\n",
    "시작 노드를 최소 신장 트리에 포함했다. 그리고, 0번 노드를 방문했음을 표시했고, distances[0]의 값을 0으로 했다. 그리고 0에서 어떤 노드로 갈지를 정해야 하는데, 0에서 갈 수 있는 노드는 1번 노드와 5번 노드이다. 그런데 0번에서 1번으로 가는데는 29의 비용이 필요하고, 0번에서 5번으로 가는데는 10만큼의 비용이 필요하다. 5번 노드로 가는 것이 비용이 더 적게 듬으로, 5번 노드를 선택한다. 그럼 아래 그림이 나온다"
   ]
  },
  {
   "cell_type": "markdown",
   "id": "c1ac0db6-8830-4ff7-957a-5f180a447583",
   "metadata": {},
   "source": [
    "![nn](prim3.png)\n",
    "\n",
    "5번 노드가 신장 트리에 포함되었고, 방문했음을 표시했다. 또한, 5번으로부터 갈 수 있는 노드인 4번 노드의 distance 값이 INF에서 27로 갱신되었다. 다음에 최소 신장 트리에 포함시킬 노드는 1번 또는 4번 노드인데, 4번 노드로 가는 가중치가 가장 작으므로, 4번 노드를 포함시킨다. "
   ]
  },
  {
   "cell_type": "markdown",
   "id": "fbe8bb4a-c439-4857-82f7-5bc57e8b759f",
   "metadata": {},
   "source": [
    "![nn](prim4.png)\n",
    "\n",
    "4번 노드가 신장 트리에 포함되었고, 방문했음을 표시했다. 또한, 4번으로부터 갈 수 있는 노드인 3번 노드, 6번 노드의 distance 값이 INF에서 각각 22, 25로 갱신되었다. 다음에 최소 신장 트리에 포함시킬 노드는 1번 또는 3번 또는 6번 노드인데, 3번 노드로 가는 가중치가 가장 작으므로, 3번 노드를 포함시킨다. "
   ]
  },
  {
   "cell_type": "markdown",
   "id": "5659fd50-9f27-4762-ae60-2148566e5370",
   "metadata": {},
   "source": [
    "![nn](prim5.png)\n",
    "\n",
    "3번 노드가 신장 트리에 포함되었고, 방문했음을 표시했다. 또한, 3번으로부터 갈 수 있는 노드인 2번, 6번 노드의 distance값이 INF에서 12로, distances[6]의 값은 25에서 18로 갱신되었다. 다음에 최소 신장 트리에 포함시킬 노드는 1번 또는 2번 또는 6번 노드인데, 2번 노드로 가는 가중치가 가장 작으므로, 2번 노드를 포함시킨다. "
   ]
  },
  {
   "cell_type": "markdown",
   "id": "6796428b-cc2e-46fe-b8dc-7fb73444739d",
   "metadata": {},
   "source": [
    "![nn](prim6.png)\n",
    "\n",
    "2번 노드가 신장 트리에 포함되었고, 방문했음을 표시했다. 또한, 2번으로부터 갈 수 있는 노드인 1번 노드의 distance값이 29에서 16로 갱신되었다. 다음에 최소 신장 트리에 포함시킬 노드는 1번 또는 6번 노드인데, 1번 노드로 가는 가중치가 가장 작으므로, 1번 노드를 포함시킨다. "
   ]
  },
  {
   "cell_type": "markdown",
   "id": "6466a842-2866-434c-b7a9-d6773a40760e",
   "metadata": {},
   "source": [
    "![nn](prim7.png)\n",
    "\n",
    "1번 노드가 신장 트리에 포함되었고, 방문했음을 표시했다. 또한, 1번으로부터 갈 수 있는 노드인 6번 노드의 distance값이 18에서 15로 갱신되었다. 다음에 최소 신장 트리에 포함시킬 노드는 6번 노드이다. "
   ]
  },
  {
   "cell_type": "markdown",
   "id": "8c540467-b346-41dd-9998-6567d572d481",
   "metadata": {},
   "source": [
    "![nn](prim8.png)\n",
    "\n",
    "6번 노드가 포함되었다. 이로써 완성된 최소 비용값은 distances배열의 합인 102이고, 신장 트리는 다음과 같다. "
   ]
  },
  {
   "cell_type": "markdown",
   "id": "6be8f433-af83-44df-8afb-4b8041ad237a",
   "metadata": {},
   "source": [
    "![nn](prim9.png)\n"
   ]
  },
  {
   "cell_type": "code",
   "execution_count": 14,
   "id": "cb94d4ba-87c0-49cc-a5d5-4dcbb40aa116",
   "metadata": {},
   "outputs": [
    {
     "name": "stdout",
     "output_type": "stream",
     "text": [
      "--------------------\n",
      "prim 메소드 내부 반복 시작, 반복 회차:  0\n",
      "get_min_node 함수 진입했다\n",
      "아직 방문하지 않은 v:  0\n",
      "\n",
      "get_min_node 에서 선택된 노드:  0\n",
      "방금 포함된  0 와 연결되어있고, 아직 방문하지 않았으며, 기존의 신장트리로부터의 거리보다 작은 경로가 발견되어, distances[j]의 값을 갱신해야 하는 j:  1\n",
      "방금 포함된  0 와 연결되어있고, 아직 방문하지 않았으며, 기존의 신장트리로부터의 거리보다 작은 경로가 발견되어, distances[j]의 값을 갱신해야 하는 j:  5\n",
      "distances:  [0, 29, 999, 999, 999, 10, 999]\n",
      "--------------------\n",
      "--------------------\n",
      "prim 메소드 내부 반복 시작, 반복 회차:  1\n",
      "get_min_node 함수 진입했다\n",
      "아직 방문하지 않은 v:  1\n",
      "i:  5 \tv:  1\n",
      "distaces[i], distances[v]:  10 29\n",
      "아직 방문 안됐고, 기존 v보다 distances값 작은 정점 발견 교체, 최종 v:  5\n",
      "\n",
      "get_min_node 에서 선택된 노드:  5\n",
      "방금 포함된  5 와 연결되어있고, 아직 방문하지 않았으며, 기존의 신장트리로부터의 거리보다 작은 경로가 발견되어, distances[j]의 값을 갱신해야 하는 j:  4\n",
      "distances:  [0, 29, 999, 999, 27, 10, 999]\n",
      "--------------------\n",
      "--------------------\n",
      "prim 메소드 내부 반복 시작, 반복 회차:  2\n",
      "get_min_node 함수 진입했다\n",
      "아직 방문하지 않은 v:  1\n",
      "i:  4 \tv:  1\n",
      "distaces[i], distances[v]:  27 29\n",
      "아직 방문 안됐고, 기존 v보다 distances값 작은 정점 발견 교체, 최종 v:  4\n",
      "\n",
      "get_min_node 에서 선택된 노드:  4\n",
      "방금 포함된  4 와 연결되어있고, 아직 방문하지 않았으며, 기존의 신장트리로부터의 거리보다 작은 경로가 발견되어, distances[j]의 값을 갱신해야 하는 j:  3\n",
      "방금 포함된  4 와 연결되어있고, 아직 방문하지 않았으며, 기존의 신장트리로부터의 거리보다 작은 경로가 발견되어, distances[j]의 값을 갱신해야 하는 j:  6\n",
      "distances:  [0, 29, 999, 22, 27, 10, 25]\n",
      "--------------------\n",
      "--------------------\n",
      "prim 메소드 내부 반복 시작, 반복 회차:  3\n",
      "get_min_node 함수 진입했다\n",
      "아직 방문하지 않은 v:  1\n",
      "i:  3 \tv:  1\n",
      "distaces[i], distances[v]:  22 29\n",
      "아직 방문 안됐고, 기존 v보다 distances값 작은 정점 발견 교체, 최종 v:  3\n",
      "\n",
      "get_min_node 에서 선택된 노드:  3\n",
      "방금 포함된  3 와 연결되어있고, 아직 방문하지 않았으며, 기존의 신장트리로부터의 거리보다 작은 경로가 발견되어, distances[j]의 값을 갱신해야 하는 j:  2\n",
      "방금 포함된  3 와 연결되어있고, 아직 방문하지 않았으며, 기존의 신장트리로부터의 거리보다 작은 경로가 발견되어, distances[j]의 값을 갱신해야 하는 j:  6\n",
      "distances:  [0, 29, 12, 22, 27, 10, 18]\n",
      "--------------------\n",
      "--------------------\n",
      "prim 메소드 내부 반복 시작, 반복 회차:  4\n",
      "get_min_node 함수 진입했다\n",
      "아직 방문하지 않은 v:  1\n",
      "i:  2 \tv:  1\n",
      "distaces[i], distances[v]:  12 29\n",
      "아직 방문 안됐고, 기존 v보다 distances값 작은 정점 발견 교체, 최종 v:  2\n",
      "\n",
      "get_min_node 에서 선택된 노드:  2\n",
      "방금 포함된  2 와 연결되어있고, 아직 방문하지 않았으며, 기존의 신장트리로부터의 거리보다 작은 경로가 발견되어, distances[j]의 값을 갱신해야 하는 j:  1\n",
      "distances:  [0, 16, 12, 22, 27, 10, 18]\n",
      "--------------------\n",
      "--------------------\n",
      "prim 메소드 내부 반복 시작, 반복 회차:  5\n",
      "get_min_node 함수 진입했다\n",
      "아직 방문하지 않은 v:  1\n",
      "\n",
      "get_min_node 에서 선택된 노드:  1\n",
      "방금 포함된  1 와 연결되어있고, 아직 방문하지 않았으며, 기존의 신장트리로부터의 거리보다 작은 경로가 발견되어, distances[j]의 값을 갱신해야 하는 j:  6\n",
      "distances:  [0, 16, 12, 22, 27, 10, 15]\n",
      "--------------------\n",
      "--------------------\n",
      "prim 메소드 내부 반복 시작, 반복 회차:  6\n",
      "get_min_node 함수 진입했다\n",
      "아직 방문하지 않은 v:  6\n",
      "\n",
      "get_min_node 에서 선택된 노드:  6\n",
      "distances:  [0, 16, 12, 22, 27, 10, 15]\n",
      "--------------------\n",
      "None\n",
      "distances:  [0, 16, 12, 22, 27, 10, 15]\n",
      "minimum cost:  102\n"
     ]
    }
   ],
   "source": [
    "\"\"\"\n",
    "주어진 인접행렬에서, Prim 알고리즘을 통해 최소 신장 트리를 구한다.\n",
    "\n",
    "입력: 인접 행렬, 시작 정점\n",
    "출력: 시작 정점에서 만든 최소 신장 트리\n",
    "\n",
    "알고리즘:\n",
    "1. dist 배열을 INF로 초기화\n",
    "2. dist[start] = 0\n",
    "3. 우선 순위 큐 queue에 모든 정점 삽입(우선 순위는 dist[])\n",
    "4. i는 0부터 n-1까지 반복\n",
    "    1). u에 weight가 가장 작은 간선 삽입\n",
    "    2). u의 인접 정점들인 v를 반복\n",
    "        v가 Q의 원소이고, weight[u][v] < dist[v]라면\n",
    "            dist[v]에 weight[u][v]를 할당\n",
    "\n",
    "설명:\n",
    "0. 프림 알고리즘은 시작 정점을 최초의 신장 트리로 놓는다.\n",
    "1. 시작 정점만이 포함된 신장 트리에서, 더 포함시킬 수 있는 노드들을 찾아놓는다.\n",
    "2. 더 포함시킬수 있는 노드 중, 비용(가중치)가 가장 작은 노드를 포함시킨다.\n",
    "3. 2에서 포함된 정점에서 가장 낮은 비용으로 도달할 수 있는 노드를 찾아서, \n",
    "\t그 노드를 신장 트리에 포함시킨다.\n",
    "\"\"\"\n",
    "\n",
    "INF = 999\n",
    "adj_mat = [[0, 29, INF, INF, INF, 10, INF],\n",
    "           [29, 0, 16, INF, INF, INF, 15],\n",
    "           [INF, 16, 0, 12, INF, INF, INF],\n",
    "           [INF, INF, 12, 0, 22, INF, 18],\n",
    "           [INF, INF, INF, 22, 0, 27, 25],\n",
    "           [10, INF, INF, INF, 27, 0, INF],\n",
    "           [INF, 15, INF, 18, 25, INF, 0]]\n",
    "\n",
    "node_num = len(adj_mat)\n",
    "visited = [False] * node_num\n",
    "distances = [INF] * node_num\n",
    "\n",
    "\n",
    "\"\"\"\n",
    "get_min_node 메소드\n",
    "1. i가 0부터 node 갯수만큼 반복한다.\n",
    "    i 노드가 방문한 적 없는 노드라면, \n",
    "        v에 i를 저장한다. \n",
    "        멈춘다. \n",
    "    \n",
    "2. i가 0부터 node_num 만큼 반복한다.\n",
    "        i가 방문하지 않았고, 방금 저장한 v보다 비용이 작은(기존의 신장트리로부터의 거리가 작은) \n",
    "        노드 i를 발견한다면\n",
    "            v에 i를 덮어쓴다. \n",
    "    \n",
    "    v를 리턴한다. \n",
    "\"\"\"\n",
    "\n",
    "\n",
    "def get_min_node(node_num):\n",
    "    print(\"get_min_node 함수 진입했다\")\n",
    "    for i in range(node_num):\n",
    "        if not visited[i]:\n",
    "            v = i\n",
    "            break\n",
    "    print(\"아직 방문하지 않은 v: \", v)\n",
    "    for i in range(node_num):\n",
    "        if not visited[i] and distances[i] < distances[v]:\n",
    "            print(\"i: \", i, \"\\tv: \", v)\n",
    "            print(\"distaces[i], distances[v]: \", distances[i], distances[v])\n",
    "            v = i\n",
    "            print(\"아직 방문 안됐고, 기존 v보다 distances값 작은 정점 발견 교체, 최종 v: \", v)\n",
    "\n",
    "    return v\n",
    "\n",
    "\n",
    "def prim(start, node_num):\n",
    "    # distances 배열과 visted 배열 초기화\n",
    "    for i in range(node_num):\n",
    "        visited[i] = False\n",
    "        distances[i] = INF\n",
    "\n",
    "    # 시작노드의 distance 값을 0으로 초기화\n",
    "    distances[start] = 0\n",
    "    for i in range(node_num):\n",
    "        print(\"--------------------\")\n",
    "        print(\"prim 메소드 내부 반복 시작, 반복 회차: \", i)\n",
    "        node = get_min_node(node_num)\n",
    "        visited[node] = True    # node 를 방문했다 표시\n",
    "        print(\"\\nget_min_node 에서 선택된 노드: \", node)\n",
    "\n",
    "        for j in range(node_num):\n",
    "            if adj_mat[node][j] != INF:\n",
    "                if not visited[j] and adj_mat[node][j] < distances[j]:\n",
    "                    print(\"방금 포함된 \", node, \"와 연결되어있고, \"\n",
    "                                           \"아직 방문하지 않았으며, \"\n",
    "                                           \"기존의 신장트리로부터의 거리보다 작은 경로가 발견되어, \"\n",
    "                                           \"distances[j]의 값을 갱신해야 하는 j: \", j)\n",
    "                    distances[j] = adj_mat[node][j]\n",
    "\n",
    "        print(\"distances: \", distances)\n",
    "        print(\"--------------------\")\n",
    "\n",
    "\n",
    "print(prim(0, node_num))\n",
    "print(\"distances: \", distances)\n",
    "print(\"minimum cost: \", sum(distances))"
   ]
  },
  {
   "cell_type": "code",
   "execution_count": null,
   "id": "dbb6a7c7-98b5-403f-9556-0c8ddd42b550",
   "metadata": {},
   "outputs": [],
   "source": [
    "코드를 설명하면 아래와 같다. \n",
    "\n",
    "vistied 배열과 distances배열을 각각 False, INF(무한대)로 초기화 한다. \n",
    "ditances[start]의 값을 0으로 초기화한다. \n",
    "인덱스인 i가 (0부터 node의 갯수-1) 만큼 아래 과정을 반복한다. \n",
    "현재 신장 트리에서 도달할 수 있는 노드 중, 가장 비용이 작은 노드를 선택해서 node에 저장한다.\n",
    "visited[node]를 True로 한다\n",
    "인덱스 j가 0부터 노드의 갯수-1 만큼 아래 과정을 반복한다.\n",
    "node로부터 갈 수 있는 정점들 중에서, node와 연결되어 있고, 아직 방문하지 않았으며, 기존의 신장트리로부의 거리보다 distance 값이 작은 정점이 있다면, 그 정점의 distance값을 갱신한다."
   ]
  },
  {
   "cell_type": "code",
   "execution_count": null,
   "id": "c9490c59-dbd8-4f71-8317-8157c25a5b61",
   "metadata": {},
   "outputs": [],
   "source": []
  },
  {
   "cell_type": "code",
   "execution_count": null,
   "id": "ddec5511-27a8-4d69-a295-ec822eb845c2",
   "metadata": {},
   "outputs": [],
   "source": [
    "      - Kruskal 방법: 전체에서 최소값을 선정하고 또 전체에서 최소값을 선정하는 작업을 계속하는 것\n",
    "          - 모든 정점을 독립적인 집합으로 만든다.\n",
    "          - 모든 간선을 비용을 기준으로 정렬하고, 비용이 작은 간선부터 양 끝의 두 정점을 비교한다.\n",
    "          - 두 정점의 최상위 정점을 확인하고, 서로 다를 경우 두 정점을 연결한다. (최소 신장 트리는 사이클이 없으므로, 사이클이 생기지 않도록 하는 것임)"
   ]
  },
  {
   "cell_type": "markdown",
   "id": "2a225749-a077-4d9b-9f0b-9809c78e1611",
   "metadata": {},
   "source": [
    "![nn](kruskal1.png)"
   ]
  },
  {
   "cell_type": "markdown",
   "id": "0adf9e6a-2445-45a1-a36d-feea082ef502",
   "metadata": {},
   "source": [
    "![nn](kruskal2.png)"
   ]
  },
  {
   "cell_type": "code",
   "execution_count": 27,
   "id": "6542d205-c429-4021-b4a3-c4114c9775ea",
   "metadata": {},
   "outputs": [],
   "source": [
    "mygraph = {\n",
    "    'vertices': ['A', 'B', 'C', 'D', 'E', 'F', 'G'],\n",
    "    'edges': [\n",
    "        (7, 'A', 'B'),\n",
    "        (5, 'A', 'D'),\n",
    "        (7, 'B', 'A'),\n",
    "        (8, 'B', 'C'),\n",
    "        (9, 'B', 'D'),\n",
    "        (7, 'B', 'E'),\n",
    "        (8, 'C', 'B'),\n",
    "        (5, 'C', 'E'),\n",
    "        (5, 'D', 'A'),\n",
    "        (9, 'D', 'B'),\n",
    "        (7, 'D', 'E'),\n",
    "        (6, 'D', 'F'),\n",
    "        (7, 'E', 'B'),\n",
    "        (5, 'E', 'C'),\n",
    "        (7, 'E', 'D'),\n",
    "        (8, 'E', 'F'),\n",
    "        (9, 'E', 'G'),\n",
    "        (6, 'F', 'D'),\n",
    "        (8, 'F', 'E'),\n",
    "        (11, 'F', 'G'),\n",
    "        (9, 'G', 'E'),\n",
    "        (11, 'G', 'F')\n",
    "    ]\n",
    "}\n",
    "\n",
    "parent = dict()\n",
    "rank = dict()\n",
    "\n",
    "\n",
    "def find(node):\n",
    "    # path compression 기법\n",
    "    if parent[node] != node:\n",
    "        parent[node] = find(parent[node])\n",
    "    return parent[node]\n",
    "\n",
    "\n",
    "def union(node_v, node_u):\n",
    "    root1 = find(node_v)\n",
    "    root2 = find(node_u)\n",
    "    \n",
    "    # union-by-rank 기법\n",
    "    if rank[root1] > rank[root2]:\n",
    "        parent[root2] = root1\n",
    "    else:\n",
    "        parent[root1] = root2\n",
    "        if rank[root1] == rank[root2]:\n",
    "            rank[root2] += 1\n",
    "            \n",
    "def make_set(node):\n",
    "    parent[node] = node\n",
    "    rank[node] = 0\n",
    "\n",
    "def kruskal(graph):\n",
    "    mst = list()\n",
    "    \n",
    "    # 1. 초기화\n",
    "    for node in graph['vertices']:\n",
    "        make_set(node)\n",
    "    \n",
    "    # 2. 간선 weight 기반 sorting\n",
    "    edges = graph['edges']\n",
    "    edges.sort()\n",
    "    \n",
    "    # 3. 간선 연결 (사이클 없는)\n",
    "    for edge in edges:\n",
    "        weight, node_v, node_u = edge\n",
    "        if find(node_v) != find(node_u):\n",
    "            union(node_v, node_u)\n",
    "            mst.append(edge)\n",
    "    \n",
    "    return mst    "
   ]
  },
  {
   "cell_type": "code",
   "execution_count": 28,
   "id": "bf8cf213-4de4-4d32-9282-1f3a15d5a27f",
   "metadata": {},
   "outputs": [
    {
     "data": {
      "text/plain": [
       "[(5, 'A', 'D'),\n",
       " (5, 'C', 'E'),\n",
       " (6, 'D', 'F'),\n",
       " (7, 'A', 'B'),\n",
       " (7, 'B', 'E'),\n",
       " (9, 'E', 'G')]"
      ]
     },
     "execution_count": 28,
     "metadata": {},
     "output_type": "execute_result"
    }
   ],
   "source": [
    "kruskal(mygraph)"
   ]
  },
  {
   "cell_type": "markdown",
   "id": "6038a486-1a4d-434c-aed6-f743c75e4096",
   "metadata": {},
   "source": []
  },
  {
   "cell_type": "code",
   "execution_count": null,
   "id": "6d9609d8-8fb0-4656-969a-a031d55902f1",
   "metadata": {},
   "outputs": [],
   "source": []
  },
  {
   "cell_type": "markdown",
   "id": "ee8e16bd-f16f-4d16-8296-063cfd890f23",
   "metadata": {},
   "source": [
    "- 그래프의 응용\n",
    "  - PERT/CPM: 비용을 적게 사용하면서 최단 시간 안에 계획 완성을 위한 프로젝트 일정 관리 방법\n",
    "                Program Evaluation and Review Technique/Critical Path Method의 약자\n",
    "  - 최단 경로: 그래프에서 정점 a, b를 연결하는 경로 중에서 가중치의 합이 최소가 되는 경로를 찾는 방법\n",
    "                Dijkstra 알고리즘이 대표적이다. "
   ]
  },
  {
   "cell_type": "markdown",
   "id": "12df4560-104e-4000-8743-69323fc60853",
   "metadata": {},
   "source": [
    "- 최단 경로 알고리즘의 아이디어는 다음과 같습니다. \n",
    "   - 자료 구조로는 graph 를 사용하며, 노드와 가중치를 가진 간선 을 이용하여 실제 거리를 표현합니다. \n",
    "   - 알고리즘을 간단하게 설명 하자면, 다음과 같습니다.\n",
    "      - 출발 노드와, 도착 노드를 설정\n",
    "      - 알고 있는 모든 거리 값을 부여\n",
    "      - 출발 노드부터 시작하여, 방문하지 않은 인접 노드를 방문, 거리를 계산한 다음, 현재 알고있는 거리보다 짧으면 해당 값으로 갱신한다.\n",
    "      - 현재 노드에 인접한 모든 미방문 노드까지의 거리를 계산했다면, 현재 노드는 방문한 것이므로, 미방문 집합에서 제거한다.\n",
    "      - 도착 노드가 미방문 노드 집합에서 벗어나면, 알고리즘을 종료한다."
   ]
  },
  {
   "cell_type": "code",
   "execution_count": 29,
   "id": "b301308b-d9e6-4f96-858d-304b6c012d3c",
   "metadata": {},
   "outputs": [],
   "source": [
    "#출발 노드와, 도착 노드를 설정 (전체 거리를 알고 싶을 때는, 출발 노드만 설정 하여도 무방)\n",
    "#알고 있는 모든 거리 값을 부여 (Python에서는 dictionary 객체를 이용하여 graph를 표현 할 수 있다.)\n",
    "\n",
    "graph = {\n",
    "    'A': {'B': 8, 'C': 1, 'D': 2},\n",
    "    'B': {},\n",
    "    'C': {'B': 5, 'D': 2},\n",
    "    'D': {'E': 3, 'F': 5},\n",
    "    'E': {'F': 1},\n",
    "    'F': {'A': 5}\n",
    "}"
   ]
  },
  {
   "cell_type": "code",
   "execution_count": 30,
   "id": "e67b73a6-e798-4f5b-9fa9-04dd033aa6c3",
   "metadata": {},
   "outputs": [],
   "source": [
    "# 출발 노드부터 시작하여, 방문하지 않은 인접 노드를 방문, 거리를 계산한 다음, 현재 알고있는 거리보다 짧으면 해당 값으로 갱신한다.\n",
    "# 현재 노드에 인접한 모든 미방문 노드까지의 거리를 계산했다면, 현재 노드는 방문한 것이므로, 미방문 집합에서 제거한다.\n",
    "\n",
    "import heapq  # 우선순위 큐 구현을 위함\n",
    "\n",
    "def dijkstra(graph, start):\n",
    "  distances = {node: float('inf') for node in graph}  # start로 부터의 거리 값을 저장하기 위함\n",
    "  distances[start] = 0  # 시작 값은 0이어야 함\n",
    "  queue = []\n",
    "  heapq.heappush(queue, [distances[start], start])  # 시작 노드부터 탐색 시작 하기 위함.\n",
    "\n",
    "  while queue:  # queue에 남아 있는 노드가 없으면 끝\n",
    "    current_distance, current_destination = heapq.heappop(queue)  # 탐색 할 노드, 거리를 가져옴.\n",
    "\n",
    "    if distances[current_destination] < current_distance:  # 기존에 있는 거리보다 길다면, 볼 필요도 없음\n",
    "      continue\n",
    "    \n",
    "    for new_destination, new_distance in graph[current_destination].items():\n",
    "      distance = current_distance + new_distance  # 해당 노드를 거쳐 갈 때 거리\n",
    "      if distance < distances[new_destination]:  # 알고 있는 거리 보다 작으면 갱신\n",
    "        distances[new_destination] = distance\n",
    "        heapq.heappush(queue, [distance, new_destination])  # 다음 인접 거리를 계산 하기 위해 큐에 삽입\n",
    "    \n",
    "  return distances"
   ]
  },
  {
   "cell_type": "code",
   "execution_count": 31,
   "id": "d976c2dd-839f-4506-bbc2-a21bf27a3c80",
   "metadata": {},
   "outputs": [
    {
     "name": "stdout",
     "output_type": "stream",
     "text": [
      "{'A': 0, 'B': 6, 'C': 1, 'D': 2, 'E': 5, 'F': 6}\n"
     ]
    }
   ],
   "source": [
    "print(dijkstra(graph, 'A'))"
   ]
  },
  {
   "cell_type": "code",
   "execution_count": null,
   "id": "de600fed-72ae-432f-b50d-f18440f2e006",
   "metadata": {},
   "outputs": [],
   "source": []
  },
  {
   "cell_type": "code",
   "execution_count": null,
   "id": "b2c7588f-75d4-48df-b56a-96daf61d4a08",
   "metadata": {},
   "outputs": [],
   "source": []
  },
  {
   "cell_type": "markdown",
   "id": "61432b55-f609-4433-8b53-c56ef8eab121",
   "metadata": {},
   "source": [
    "## Heap Sort\n",
    "- 데이터를 오름차순으로 정리한다고 가정하면 부모 노드의 값은 항상 자식 노드보다 크다는 성질을 이용"
   ]
  },
  {
   "cell_type": "markdown",
   "id": "edb7a836-5b83-438e-b618-840fd3aec280",
   "metadata": {},
   "source": [
    "![nn](heap1.png)"
   ]
  },
  {
   "cell_type": "markdown",
   "id": "0a6b38c9-7247-4ccc-8181-d925c587bcd2",
   "metadata": {},
   "source": [
    "![nn](heap2.png)"
   ]
  },
  {
   "cell_type": "markdown",
   "id": "fcc33138-262e-4895-b233-cb90e3aad9d6",
   "metadata": {},
   "source": [
    "![nn](heap3.png)"
   ]
  },
  {
   "cell_type": "code",
   "execution_count": 5,
   "id": "78cba21c-80dd-4345-818f-12f6b617cb32",
   "metadata": {},
   "outputs": [
    {
     "name": "stdout",
     "output_type": "stream",
     "text": [
      "1\n",
      "2\n",
      "3\n",
      "4\n",
      "5\n"
     ]
    }
   ],
   "source": [
    "def heapify(li, idx, n):\n",
    "    l = idx * 2;\n",
    "    r = idx * 2 + 1\n",
    "    s_idx = idx\n",
    "    if (l <= n and li[s_idx] > li[l]):\n",
    "        s_idx = l\n",
    "    if (r <= n and li[s_idx] > li[r]):\n",
    "        s_idx = r\n",
    "    if s_idx != idx:\n",
    "        li[idx], li[s_idx] = li[s_idx], li[idx]\n",
    "        return heapify(li, s_idx, n)\n",
    " \n",
    "def heap_sort(v) :\n",
    "    # 인덱스를 1부터 시작하기 위해서 맨 앞에 0을 추가\n",
    "    n = len(v)\n",
    "    v = [0]+v\n",
    " \n",
    "    # min heap 생성\n",
    "    for i in range(n, 0, -1) :\n",
    "        heapify(v, i, n)\n",
    " \n",
    "    # min element 추출 & heap\n",
    "    for i in range(n, 0, -1) :\n",
    "        print(v[1])\n",
    "        v[i], v[1] = v[1], v[i]\n",
    "        heapify(v, 1, i-1)\n",
    " \n",
    "heap_sort([5,3,4,2,1])"
   ]
  },
  {
   "cell_type": "code",
   "execution_count": null,
   "id": "41ca96c1-c61e-4926-8d15-583c615d1ead",
   "metadata": {},
   "outputs": [],
   "source": []
  },
  {
   "cell_type": "markdown",
   "id": "1daa15d4-7d69-4dbb-9141-005ec78703b4",
   "metadata": {},
   "source": [
    "- 여러 언론사에서 쏟아지는 뉴스, 특히 속보성 뉴스를 보면 비슷비슷한 제목의 기사가 많아 정작 필요한 기사를 찾기가 어렵다. Daum 뉴스의 개발 업무를 맡게 된 신입사원 튜브는 사용자들이 편리하게 다양한 뉴스를 찾아볼 수 있도록 문제점을 개선하는 업무를 맡게 되었다.\n",
    "   - 개발의 방향을 잡기 위해 튜브는 우선 최근 화제가 되고 있는 \"카카오 신입 개발자 공채\" 관련 기사를 검색해보았다.\n",
    "      - 카카오 첫 공채..'블라인드' 방식 채용\n",
    "      - 카카오, 합병 후 첫 공채.. 블라인드 전형으로 개발자 채용\n",
    "      - 카카오, 블라인드 전형으로 신입 개발자 공채\n",
    "      - 카카오 공채, 신입 개발자 코딩 능력만 본다\n",
    "      - 카카오, 신입 공채.. \"코딩 실력만 본다\"\n",
    "      - 카카오 \"코딩 능력만으로 2018 신입 개발자 뽑는다\"\n",
    "   - 기사의 제목을 기준으로 \"블라인드 전형\"에 주목하는 기사와 \"코딩 테스트\"에 주목하는 기사로 나뉘는 걸 발견했다. \n",
    "   - 튜브는 이들을 각각 묶어서 보여주면 카카오 공채 관련 기사를 찾아보는 사용자에게 유용할 듯싶었다.\n",
    "   - 유사한 기사를 묶는 기준을 정하기 위해서 논문과 자료를 조사하던 튜브는 \"자카드 유사도\"라는 방법을 찾아냈다.\n",
    "   - 자카드 유사도는 집합 간의 유사도를 검사하는 여러 방법 중의 하나로 알려져 있다. \n",
    "      - 두 집합 A, B 사이의 자카드 유사도 J(A, B)는 두 집합의 교집합 크기를 두 집합의 합집합 크기로 나눈 값으로 정의된다.\n",
    "      - 예를 들어 집합 A = {1, 2, 3}, 집합 B = {2, 3, 4}라고 할 때, 교집합 A ∩ B = {2, 3}, 합집합 A ∪ B = {1, 2, 3, 4}이 되므로, 집합 A, B 사이의 자카드 유사도 J(A, B) = 2/4 = 0.5가 된다. 집합 A와 집합 B가 모두 공집합일 경우에는 나눗셈이 정의되지 않으니 따로 J(A, B) = 1로 정의한다.\n",
    "      - 자카드 유사도는 원소의 중복을 허용하는 다중집합에 대해서 확장할 수 있다. 다중집합 A는 원소 \"1\"을 3개 가지고 있고, 다중집합 B는 원소 \"1\"을 5개 가지고 있다고 하자. 이 다중집합의 교집합 A ∩ B는 원소 \"1\"을 min(3, 5)인 3개, 합집합 A ∪ B는 원소 \"1\"을 max(3, 5)인 5개 가지게 된다. 다중집합 A = {1, 1, 2, 2, 3}, 다중집합 B = {1, 2, 2, 4, 5}라고 하면, 교집합 A ∩ B = {1, 2, 2}, 합집합 A ∪ B = {1, 1, 2, 2, 3, 4, 5}가 되므로, 자카드 유사도 J(A, B) = 3/7, 약 0.42가 된다.\n",
    "      - 이를 이용하여 문자열 사이의 유사도를 계산하는데 이용할 수 있다. 문자열 \"FRANCE\"와 \"FRENCH\"가 주어졌을 때, 이를 두 글자씩 끊어서 다중집합을 만들 수 있다. 각각 {FR, RA, AN, NC, CE}, {FR, RE, EN, NC, CH}가 되며, 교집합은 {FR, NC}, 합집합은 {FR, RA, AN, NC, CE, RE, EN, CH}가 되므로, 두 문자열 사이의 자카드 유사도 J(\"FRANCE\", \"FRENCH\") = 2/8 = 0.25가 된다.\n",
    "\n",
    "   - 입력 형식\n",
    "      - 입력으로는 str1과 str2의 두 문자열이 들어온다. 각 문자열의 길이는 2 이상, 1,000 이하이다.\n",
    "      - 입력으로 들어온 문자열은 두 글자씩 끊어서 다중집합의 원소로 만든다. 이때 영문자로 된 글자 쌍만 유효하고, 기타 공백이나 숫자, 특수 문자가 들어있는 경우는 그 글자 쌍을 버린다. 예를 들어 \"ab+\"가 입력으로 들어오면, \"ab\"만 다중집합의 원소로 삼고, \"b+\"는 버린다.\n",
    "      - 다중집합 원소 사이를 비교할 때, 대문자와 소문자의 차이는 무시한다. \"AB\"와 \"Ab\", \"ab\"는 같은 원소로 취급한다.\n",
    "\n",
    "   - 출력 형식\n",
    "      - 입력으로 들어온 두 문자열의 자카드 유사도를 출력한다. \n",
    "      - 유사도 값은 0에서 1 사이의 실수이므로, 이를 다루기 쉽도록 65536을 곱한 후에 소수점 아래를 버리고 정수부만 출력한다.\n",
    "      \n",
    "![nn](kakao.png)"
   ]
  },
  {
   "cell_type": "markdown",
   "id": "143fd7f8-3199-4a4f-812b-a66ccfa376fa",
   "metadata": {},
   "source": [
    "문제 해설: https://tech.kakao.com/2017/09/27/kakao-blind-recruitment-round-1/"
   ]
  },
  {
   "cell_type": "code",
   "execution_count": 10,
   "id": "cf7f5388-715e-4c06-ad99-88ecdc530d9f",
   "metadata": {},
   "outputs": [],
   "source": [
    "from collections import Counter\n",
    "from string import ascii_letters as alphabets\n",
    "\n",
    "def bigram(text):\n",
    "    return [text[i:i+2].lower() for i in range(len(text)-1)\n",
    "            if text[i] in alphabets and text[i+1] in alphabets]\n",
    "\n",
    "def solution(str1, str2):\n",
    "    s1, s2 = map(bigram, [str1, str2])\n",
    "    c1, c2 = Counter(s1), Counter(s2)\n",
    "    inter, union = c1 & c2, c1 | c2\n",
    "    val = sum(inter.values()) / sum(union.values()) if union.values() else 1\n",
    "    return int(val * 65536)"
   ]
  },
  {
   "cell_type": "code",
   "execution_count": 11,
   "id": "1897883f-f6ef-49f8-9548-8f3dc8692027",
   "metadata": {},
   "outputs": [
    {
     "name": "stdout",
     "output_type": "stream",
     "text": [
      "['aa', 'aa']\n",
      "['aa', 'aa', 'aa']\n",
      "Counter({'aa': 2})\n",
      "Counter({'aa': 3})\n"
     ]
    },
    {
     "data": {
      "text/plain": [
       "43690"
      ]
     },
     "execution_count": 11,
     "metadata": {},
     "output_type": "execute_result"
    }
   ],
   "source": [
    "solution('aa1+aa2', 'AAAA12')"
   ]
  },
  {
   "cell_type": "code",
   "execution_count": null,
   "id": "d6fec16e-02ef-49c1-a8db-170ce83c9ae7",
   "metadata": {},
   "outputs": [],
   "source": []
  }
 ],
 "metadata": {
  "kernelspec": {
   "display_name": "Python 3",
   "language": "python",
   "name": "python3"
  },
  "language_info": {
   "codemirror_mode": {
    "name": "ipython",
    "version": 3
   },
   "file_extension": ".py",
   "mimetype": "text/x-python",
   "name": "python",
   "nbconvert_exporter": "python",
   "pygments_lexer": "ipython3",
   "version": "3.8.8"
  }
 },
 "nbformat": 4,
 "nbformat_minor": 5
}
