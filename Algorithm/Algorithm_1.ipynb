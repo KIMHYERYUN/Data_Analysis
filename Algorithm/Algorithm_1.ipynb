{
 "cells": [
  {
   "cell_type": "markdown",
   "id": "1bf12237-8ad7-4712-bae5-7ae0908c7a8c",
   "metadata": {},
   "source": [
    "# 알고리즘"
   ]
  },
  {
   "cell_type": "markdown",
   "id": "e1005125-aa2d-4db9-815b-ea7ce43987d1",
   "metadata": {},
   "source": [
    "## 메모리 사용량 확인"
   ]
  },
  {
   "cell_type": "code",
   "execution_count": 1,
   "id": "2f5c7a40-ae6f-4504-b221-acd43a6fb43d",
   "metadata": {},
   "outputs": [
    {
     "data": {
      "text/plain": [
       "pmem(rss=46845952, vms=4619755520, pfaults=19418, pageins=63)"
      ]
     },
     "execution_count": 1,
     "metadata": {},
     "output_type": "execute_result"
    }
   ],
   "source": [
    "import psutil\n",
    "p = psutil.Process()\n",
    "#아래에서 rss 가 물리적인 메모리\n",
    "p.memory_info()"
   ]
  },
  {
   "cell_type": "code",
   "execution_count": 2,
   "id": "fbbedbf4-3290-445c-b2e9-ab415fbaf9f1",
   "metadata": {},
   "outputs": [],
   "source": [
    "def memory_usage(message: str = 'debug'):\n",
    "    p = psutil.Process()\n",
    "    rss = p.memory_info().rss / 2 ** 20 # Bytes to MB\n",
    "    print(f\"[{message}] memory usage: {rss: 10.5f} MB\")"
   ]
  },
  {
   "cell_type": "code",
   "execution_count": 4,
   "id": "e9390826-7933-4e56-9fcc-b085dc3e132b",
   "metadata": {},
   "outputs": [
    {
     "name": "stdout",
     "output_type": "stream",
     "text": [
      "[#1] memory usage:   44.91406 MB\n",
      "[#2] memory usage:   44.92188 MB\n"
     ]
    }
   ],
   "source": [
    "memory_usage('#1')\n",
    "\n",
    "i = 100\n",
    "memory_usage('#2')"
   ]
  },
  {
   "cell_type": "markdown",
   "id": "edb7a836-5b83-438e-b618-840fd3aec280",
   "metadata": {},
   "source": [
    "## 수행 시간 확인"
   ]
  },
  {
   "cell_type": "code",
   "execution_count": 5,
   "id": "2b93e332-f307-436b-9282-3da48f954c60",
   "metadata": {},
   "outputs": [
    {
     "name": "stdout",
     "output_type": "stream",
     "text": [
      "499999999500000000\n",
      "91.63262486457825\n"
     ]
    }
   ],
   "source": [
    "import time\n",
    "start = time.time()\n",
    "\n",
    "tot = 0\n",
    "for i in range(1, 1000000000):\n",
    "    tot = tot + i\n",
    "print(tot)\n",
    "\n",
    "end = time.time()\n",
    "\n",
    "print(end-start)"
   ]
  },
  {
   "cell_type": "code",
   "execution_count": null,
   "id": "cefbed6e-335d-4359-b18b-f19d928c86f8",
   "metadata": {},
   "outputs": [],
   "source": []
  },
  {
   "cell_type": "markdown",
   "id": "62d7d957-e478-43d8-86cc-8812d48617e0",
   "metadata": {},
   "source": [
    "## Stack\n",
    "- Python 의 list는 Stack 기능을 수행할 수 있음\n",
    "- push 동작은 append 메소드를 이용하면 되고 pop 동작은 pop 메소드를 이용하면 됨\n",
    "\n",
    "- 시간제한 : 2초, 메모리 제한 128MB\n",
    "\n",
    "### 문제\n",
    "- 1부터 n까지의 수를 스택에 넣었다가 뽑아 늘어놓음으로써, 하나의 수열을 만들 수 있다. \n",
    "- 이때, 스택에 push하는 순서는 반드시 오름차순을 지키도록 한다고 하자. \n",
    "- 임의의 수열이 주어졌을 때 스택을 이용해 그 수열을 만들 수 있는지 없는지, 있다면 어떤 순서로 push와 pop 연산을 수행해야 하는지를 알아낼 수 있다. 이를 계산하는 프로그램을 작성하라.\n",
    "\n",
    "### 입력\n",
    "- 첫 줄에 n (1 ≤ n ≤ 100,000)이 주어진다. \n",
    "- 둘째 줄부터 n개의 줄에는 수열을 이루는 1이상 n이하의 정수가 하나씩 순서대로 주어진다. \n",
    "- 물론 같은 정수가 두 번 나오는 일은 없다.\n",
    "\n",
    "### 출력\n",
    "- 입력된 수열을 만들기 위해 필요한 연산을 한 줄에 한 개씩 출력한다. \n",
    "- push연산은 +로, pop 연산은 -로 표현하도록 한다. 불가능한 경우 NO를 출력한다.\n",
    "\n",
    "### 예제 입력\n",
    "8\n",
    "4\n",
    "3\n",
    "6\n",
    "8\n",
    "7\n",
    "5\n",
    "2\n",
    "1\n",
    "\n",
    "### 예제 출력\n",
    "+\n",
    "+\n",
    "+\n",
    "+\n",
    "-\n",
    "-\n",
    "+\n",
    "+\n",
    "-\n",
    "+\n",
    "+\n",
    "-\n",
    "-\n",
    "-\n",
    "-\n",
    "-\n",
    "\n",
    "### 예제 입력\n",
    "5\n",
    "1\n",
    "2\n",
    "5\n",
    "3\n",
    "4\n",
    "\n",
    "### 예제 출력\n",
    "NO"
   ]
  },
  {
   "cell_type": "code",
   "execution_count": 6,
   "id": "f917d608-97f6-4c9b-a1d1-5a058fe9030a",
   "metadata": {},
   "outputs": [
    {
     "name": "stdin",
     "output_type": "stream",
     "text": [
      " 8\n",
      " 4\n",
      " 3\n",
      " 6\n",
      " 8\n",
      " 7\n",
      " 5\n",
      " 2\n",
      " 1\n"
     ]
    },
    {
     "name": "stdout",
     "output_type": "stream",
     "text": [
      "+\n",
      "+\n",
      "+\n",
      "+\n",
      "-\n",
      "-\n",
      "+\n",
      "+\n",
      "-\n",
      "+\n",
      "+\n",
      "-\n",
      "-\n",
      "-\n",
      "-\n",
      "-\n"
     ]
    }
   ],
   "source": [
    "n = int(input())\n",
    "\n",
    "count = 1\n",
    "stack = []\n",
    "result = []\n",
    "\n",
    "for i in range(1, n + 1): # 데이터 개수만큼 반복\n",
    "    data = int(input())\n",
    "    while count <= data: # 입력 받은 데이터에 도달할 때까지 삽입\n",
    "        stack.append(count)\n",
    "        count += 1\n",
    "        result.append('+')\n",
    "    if stack[-1] == data: # 스택의 최상위 원소가 데이터와 같을 때 출력\n",
    "        stack.pop()\n",
    "        result.append('-')\n",
    "    else: # 불가능한 경우\n",
    "        print('NO')\n",
    "        exit(0)\n",
    "\n",
    "print('\\n'.join(result)) # 가능한 경우"
   ]
  },
  {
   "cell_type": "code",
   "execution_count": null,
   "id": "f8fc835a-c415-4e5a-9466-f769415095ea",
   "metadata": {},
   "outputs": [],
   "source": []
  },
  {
   "cell_type": "markdown",
   "id": "58330f84-680c-4307-b3ce-053e0f96ec26",
   "metadata": {},
   "source": [
    "## Key Logger\n",
    "- 시간제한은 1초, 메모리 제한 64MB\n",
    "\n",
    "### 문제\n",
    "- 키로거는 사용자가 키보드를 누른 명령을 모두 기록한다. \n",
    "- 키로거가 설치된 컴퓨터에서 비밀번호를 입력할 때 화살표나 백스페이스를 입력해도 정확한 비밀번호를 알아낼 수 있다. \n",
    "- 비밀번호 창에서 입력한 키가 주어졌을 때 비밀번호를 알아내는 프로그램을 작성하시오. \n",
    "- 키보드로 입력한 키는 알파벳 대문자, 소문자, 숫자, 백스페이스, 화살표이다.\n",
    "\n",
    "### 입력\n",
    "- 첫째 줄에 테스트 케이스의 개수가 주어진다. \n",
    "- 각 테스트 케이스는 한줄로 이루어져 있고 입력한 순서대로 길이가 L인 문자열이 주어진다.(1 ≤ L ≤ 1,000,000) \n",
    "- 백스페이스를 입력했다면, '-'가 주어진다. 이때 커서의 바로 앞에 글자가 존재한다면, 그 글자를 지운다. \n",
    "- 화살표의 입력은 '<'와 '>'로 주어진다. 이때는 커서의 위치를 움직일 수 있다면, 왼쪽 또는 오른쪽으로 1만큼 움직인다. \n",
    "- 나머지 문자는 비밀번호의 일부이다.\n",
    "- 물론, 나중에 백스페이스를 통해서 지울 수는 있다. \n",
    "- 만약 커서의 위치가 줄의 마지막이 아니라면, 커서 및 커서 오른쪽에 있는 모든 문자는 오른쪽으로 한 칸 이동한다.\n",
    "\n",
    "### 출력\n",
    "- 각 테스트 케이스에 대해서, 강산이의 비밀번호를 출력한다. 비밀번호의 길이는 항상 0보다 크다.\n",
    "\n",
    "### 예제 입력\n",
    "- 2\n",
    "- <<BP<A>>Cd-\n",
    "- ThIsIsS3Cr3t\n",
    "\n",
    "### 예제 출력\n",
    "- BAPC\n",
    "- ThIsIsS3Cr3t"
   ]
  },
  {
   "cell_type": "code",
   "execution_count": null,
   "id": "a9f218fa-de42-4f2c-9d44-7904f5b80717",
   "metadata": {},
   "outputs": [],
   "source": [
    "test_case = int(input())\n",
    "\n",
    "for _ in range(test_case):\n",
    "    data = input()\n",
    "    left_stack = []\n",
    "    right_stack = []\n",
    "\n",
    "    for i in data:\n",
    "        if i == '-':\n",
    "            if left_stack:\n",
    "                left_stack.pop()\n",
    "        elif i == '<':\n",
    "            if left_stack:\n",
    "                right_stack.append(left_stack.pop())\n",
    "        elif i == '>':\n",
    "            if right_stack:\n",
    "                left_stack.append(right_stack.pop())\n",
    "        else:\n",
    "            left_stack.append(i)\n",
    "\n",
    "    left_stack.extend(reversed(right_stack))\n",
    "    print(''.join(left_stack))"
   ]
  },
  {
   "cell_type": "code",
   "execution_count": null,
   "id": "05fd5bb1-7907-4188-8968-0d706e0c819d",
   "metadata": {},
   "outputs": [],
   "source": []
  },
  {
   "cell_type": "markdown",
   "id": "a914f61c-724b-4742-ada6-8af329b02f29",
   "metadata": {},
   "source": [
    "## 다음 데이터를 퀵정렬 하시오.\n",
    "- Quick Sort 방법은 첨부된 이미지를 참고 하세요\n",
    "### 개념\n",
    "- 찰스 앤터니 리처드 호어(Charles Antony Richard Hoare)가 개발한 정렬 알고리즘\n",
    "- 퀵 정렬은 불안정 정렬 에 속하며, 다른 원소와의 비교만으로 정렬을 수행하는 비교 정렬 에 속한다.\n",
    "- 분할 정복 알고리즘의 하나로, 평균적으로 매우 빠른 수행 속도를 자랑하는 정렬 방법\n",
    "- 합병 정렬(merge sort)과 달리 퀵 정렬은 리스트를 비균등하게 분할한다.\n",
    "- 분할 정복(divide and conquer) 방법\n",
    "- 문제를 작은 2개의 문제로 분리하고 각각을 해결한 다음, 결과를 모아서 원래의 문제를 해결하는 전략이다.\n",
    "- 분할 정복 방법은 대개 순환 호출을 이용하여 구현한다.\n",
    "\n",
    "### 과정 설명\n",
    "- 리스트 안에 있는 한 요소를 선택한다. 이렇게 고른 원소를 피벗(pivot) 이라고 한다.\n",
    "- 피벗을 기준으로 피벗보다 작은 요소들은 모두 피벗의 왼쪽으로 옮겨지고 피벗보다 큰 요소들은 모두 피벗의 오른쪽으로 옮겨진다. (피벗을 중심으로 왼쪽: 피벗보다 작은 요소들, 오른쪽: 피벗보다 큰 요소들)\n",
    "- 피벗을 제외한 왼쪽 리스트와 오른쪽 리스트를 다시 정렬한다.\n",
    "- 분할된 부분 리스트에 대하여 순환 호출 을 이용하여 정렬을 반복한다.\n",
    "- 부분 리스트에서도 다시 피벗을 정하고 피벗을 기준으로 2개의 부분 리스트로 나누는 과정을 반복한다.\n",
    "- 부분 리스트들이 더 이상 분할이 불가능할 때까지 반복한다.\n",
    "- 리스트의 크기가 0이나 1이 될 때까지 반복한다."
   ]
  },
  {
   "cell_type": "code",
   "execution_count": 10,
   "id": "b12a6d74-b773-47cb-820b-b69e72f037a7",
   "metadata": {},
   "outputs": [
    {
     "name": "stdout",
     "output_type": "stream",
     "text": [
      "[8, 14, 15, 19, 26, 27, 30, 32, 72, 93]\n"
     ]
    }
   ],
   "source": [
    "array = [15, 27, 93, 30, 32, 19, 26, 72, 14, 8]\n",
    "\n",
    "def quick_sort(array, start, end):\n",
    "    if start >= end: # 원소가 1개인 경우 종료\n",
    "        return\n",
    "    pivot = start # 피벗은 첫 번째 원소\n",
    "    left = start + 1\n",
    "    right = end\n",
    "    \n",
    "    while(left <= right):\n",
    "        # 피벗보다 큰 데이터를 찾을 때까지 반복 \n",
    "        while(left <= end and array[left] <= array[pivot]):\n",
    "            left += 1\n",
    "        # 피벗보다 작은 데이터를 찾을 때까지 반복\n",
    "        while(right > start and array[right] >= array[pivot]):\n",
    "            right -= 1\n",
    "        if(left > right): # 엇갈렸다면 작은 데이터와 피벗을 교체\n",
    "            array[right], array[pivot] = array[pivot], array[right]\n",
    "        else: # 엇갈리지 않았다면 작은 데이터와 큰 데이터를 교체\n",
    "            array[left], array[right] = array[right], array[left]\n",
    "    # 분할 이후 왼쪽 부분과 오른쪽 부분에서 각각 정렬 수행\n",
    "    quick_sort(array, start, right - 1)\n",
    "    quick_sort(array, right + 1, end)\n",
    "\n",
    "quick_sort(array, 0, len(array) - 1)\n",
    "print(array)"
   ]
  },
  {
   "cell_type": "code",
   "execution_count": null,
   "id": "6ea0911a-7bed-4261-a871-1c139ac23dab",
   "metadata": {},
   "outputs": [],
   "source": []
  },
  {
   "cell_type": "markdown",
   "id": "9c6d31c9-94c5-47a5-a43c-80285515f8d1",
   "metadata": {},
   "source": [
    "## 2019 카카오 블라인드 테스트 문제\n",
    "### 후보키 개수 찾기 문제\n",
    "\n",
    " - 관계 데이터베이스에서 릴레이션(Relation)의 튜플(Tuple)을 유일하게 식별할 수 있는 속성(Attribute) 또는 속성의 집합 중, 다음 두 성질을 만족하는 것을 후보 키(Candidate Key)라고 한다.\n",
    "   - 유일성(uniqueness) : 릴레이션에 있는 모든 튜플에 대해 유일하게 식별되어야 한다.\n",
    "   - 최소성(minimality) : 유일성을 가진 키를 구성하는 속성(Attribute) 중 하나라도 제외하는 경우 유일성이 깨지는 것을 의미한다. 즉, 릴레이션의 모든 튜플을 유일하게 식별하는 데 꼭 필요한 속성들로만 구성되어야 한다.\n",
    "   \n",
    " - 아래와 같은 데이터가 주어졌을 때 후보키의 개수를 구하시오.\n",
    " \n",
    "<table border=\"1\">\n",
    "  <tr>\n",
    "    <th>학번</th>\n",
    "    <th>이름</th>\n",
    "    <th>전공</th>\n",
    "    <th>학년</th>\n",
    "  </tr>\n",
    "  <tr>\n",
    "    <td>100</td>\n",
    "    <td>안중근</td>\n",
    "    <td>체육</td>\n",
    "    <td>3</td>\n",
    "  </tr>\n",
    "  <tr>\n",
    "    <td>200</td>\n",
    "    <td>윤봉길</td>\n",
    "    <td>컴퓨터</td>\n",
    "    <td>2</td>\n",
    "  </tr>\n",
    "    <tr>\n",
    "    <td>300</td>\n",
    "    <td>유관순</td>\n",
    "    <td>컴퓨터</td>\n",
    "    <td>3</td>\n",
    "  </tr>\n",
    "    <tr>\n",
    "    <td>400</td>\n",
    "    <td>윤동주</td>\n",
    "    <td>국문학</td>\n",
    "    <td>1</td>\n",
    "  </tr>\n",
    "  <tr>\n",
    "    <td>500</td>\n",
    "    <td>김좌진</td>\n",
    "    <td>원자력</td>\n",
    "    <td>4</td>\n",
    "  </tr>\n",
    "   <tr>\n",
    "    <td>600</td>\n",
    "    <td>안중근</td>\n",
    "    <td>물리</td>\n",
    "    <td>3</td>\n",
    "  </tr>\n",
    "</table>\n",
    "\n",
    "  - 위의 예를 설명하면, 학생의 인적사항 릴레이션에서 모든 학생은 각자 유일한 \"학번\"을 가지고 있다. 따라서 \"학번\"은 릴레이션의 후보 키가 될 수 있다.\n",
    "  - 만약 [\"이름\", '전공']을 함께 사용한다면 릴레이션의 모든 튜플을 유일하게 식별 가능하므로 후보키가 될 수 있음\n",
    "  - 하지만 [\"이름\", \"전공\", \"학년\"]을 이용하는 경우에도 식별은 가능하지만 최소성을 만족하지 못하기 때문에 후보 키가 될 수 없다.\n",
    "  - 위의 학생 인적사항의 후보키는 \"학번\", \"이름\"두 개가 된다.\n",
    "\n",
    "- 릴레이션을 나타내는 문자열 배열 relation이 매개변수로 주어질 때, 이 릴레이션에서 후보 키의 개수를 return 하도록 solution 함수를 완성하라."
   ]
  },
  {
   "cell_type": "code",
   "execution_count": 48,
   "id": "3991e75a-3d16-44f4-bc92-600cf206a81c",
   "metadata": {},
   "outputs": [],
   "source": [
    "from collections import deque\n",
    "\n",
    "\n",
    "def solution(relation):\n",
    "    #행의 개수 와 열의 개수를 저장\n",
    "    n_rows, n_cols = len(relation), len(relation[0])\n",
    "    #열 번호를 deque에 저장\n",
    "    q = deque([[i] for i in range(n_cols)])\n",
    "\n",
    "    answer = 0\n",
    "    #중복되지 않은 인덱스 조합을 저장할 리스트를 생성\n",
    "    uniques = []\n",
    "    \n",
    "    while q:\n",
    "        #맨 앞에서부터 순서대로 추출\n",
    "        indices = q.popleft()\n",
    "        search = [tuple(row[i] for i in indices) for row in relation]\n",
    "        \n",
    "        #중복된 데이터가 없는 경우에만 uniques에 추가\n",
    "        if len(set(search)) == n_rows:\n",
    "            uniques.append(indices)\n",
    "        # 0부터 열의 개수까지 나올 수 있는 모든 조합을 추가\n",
    "        q.extend([indices + [add_i] for add_i in range(indices[-1] + 1, n_cols)])\n",
    "    \n",
    "    #길이를 이용해서 내림차순 정렬\n",
    "    uniques = sorted(uniques, key=lambda x: len(x), reverse=True)\n",
    "    answer = 0\n",
    "    \n",
    "    for i in range(len(uniques)):\n",
    "        k = False\n",
    "        for j in range(i+1, len(uniques)):\n",
    "            flag = False\n",
    "            for k in uniques[j]:\n",
    "                if k not in uniques[i]:\n",
    "                    flag = True\n",
    "                    break\n",
    "            if flag == False:\n",
    "                break\n",
    "        else:\n",
    "            print(uniques[i])\n",
    "            answer = answer + 1\n",
    "            \n",
    "    '''\n",
    "    for i in range(len(uniques)):\n",
    "        if sum([set(uniques[i] + smallsets) == set(uniques[i]) for smallsets in uniques[i + 1:]\n",
    "                if i < len(uniques) - 1]) == 0:\n",
    "            answer += 1\n",
    "    '''\n",
    "        \n",
    "    return answer"
   ]
  },
  {
   "cell_type": "code",
   "execution_count": 49,
   "id": "b339a228-98be-49d9-b368-f4362a78ff20",
   "metadata": {},
   "outputs": [
    {
     "name": "stdout",
     "output_type": "stream",
     "text": [
      "[1, 2]\n",
      "[0]\n",
      "2\n"
     ]
    }
   ],
   "source": [
    "table = [[\"100\",\"안중근\",\"물리\",\"2\"],\n",
    "         [\"200\",\"윤봉길\",\"컴퓨터\",\"2\"],\n",
    "         [\"300\",\"유관순\",\"컴퓨터\",\"2\"],\n",
    "         [\"400\",\"윤동주\",\"국문학\",\"1\"],\n",
    "         [\"500\",\"김좌진\",\"원자력\",\"4\"],\n",
    "         [\"600\",\"안중근\",\"국문학\",\"2\"]]\n",
    "\n",
    "result = solution(table)\n",
    "print(result)"
   ]
  },
  {
   "cell_type": "code",
   "execution_count": 4,
   "id": "41ca96c1-c61e-4926-8d15-583c615d1ead",
   "metadata": {},
   "outputs": [
    {
     "name": "stdout",
     "output_type": "stream",
     "text": [
      "Hello Client\n"
     ]
    }
   ],
   "source": [
    "#클라이언트 코드\n",
    "from socket import *\n",
    "try:\n",
    "    sock = socket(AF_INET, SOCK_STREAM)\n",
    "    sock.connect(('172.30.1.22', 8000))\n",
    "    sock.send('Hello Server'.encode())\n",
    "    b = sock.recv(1024)\n",
    "    print(b.decode())\n",
    "except Exception as e:\n",
    "    print(\"접속 에러:\", e)\n",
    "finally:\n",
    "    sock.close()"
   ]
  },
  {
   "cell_type": "code",
   "execution_count": null,
   "id": "687bcf45-941b-48b7-91d3-e4bbc3d6c1dd",
   "metadata": {},
   "outputs": [],
   "source": []
  }
 ],
 "metadata": {
  "kernelspec": {
   "display_name": "Python 3 (ipykernel)",
   "language": "python",
   "name": "python3"
  },
  "language_info": {
   "codemirror_mode": {
    "name": "ipython",
    "version": 3
   },
   "file_extension": ".py",
   "mimetype": "text/x-python",
   "name": "python",
   "nbconvert_exporter": "python",
   "pygments_lexer": "ipython3",
   "version": "3.9.7"
  }
 },
 "nbformat": 4,
 "nbformat_minor": 5
}
