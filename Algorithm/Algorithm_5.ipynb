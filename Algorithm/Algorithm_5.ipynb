{
 "cells": [
  {
   "cell_type": "markdown",
   "id": "e70ce28b-60b2-49f8-a0a3-7872b6a11e41",
   "metadata": {},
   "source": [
    "문제1 - 거스름 돈\n",
    "유저는 잡화점에서 물건을 산다. \n",
    "잡화점에는 잔돈으로 500원, 100원, 50원, 10원, 5원, 1원이 충분히 있고 언제나 거스름돈 개수가 가장 적게 잔돈을 준다. \n",
    "유저가 잡화점에서 물건을 사고 카운터에서 1000원 지폐를 한장 냈을 때 받을 잔돈에 포함된 잔돈의 개수를 구하는 프로그램을 작성하시오.\n",
    "\n",
    "입력\n",
    "입력은 한줄로 이루어져있고 지불할 돈(1 이상 1000 미만의 정수) 1개가 쓰여져 있음\n",
    "\n",
    "출력\n",
    "제출할 출력 파일은 1행으로만 되어 있다. 잔돈에 포함된 매수를 출력하시오."
   ]
  },
  {
   "cell_type": "code",
   "execution_count": null,
   "id": "b15e4edc-f8e0-4239-8c91-75ae16963929",
   "metadata": {},
   "outputs": [],
   "source": []
  },
  {
   "cell_type": "code",
   "execution_count": null,
   "id": "910fe89a-3db8-4368-9532-13ef6acf7869",
   "metadata": {},
   "outputs": [],
   "source": []
  },
  {
   "cell_type": "code",
   "execution_count": null,
   "id": "ff5e89a0-7f25-40f4-9e06-ebb2aa625b97",
   "metadata": {},
   "outputs": [],
   "source": [
    "문제2 - 뒤집기\n",
    "0과 1로만 이루어진 문자열 S를 가지고 있다. \n",
    "이 문자열 S에 있는 모든 숫자를 전부 같게 만들려고 한다. \n",
    "할 수 있는 행동은 S에서 연속된 하나 이상의 숫자를 잡고 모두 뒤집는 것이다. \n",
    "뒤집는 것은 1을 0으로, 0을 1로 바꾸는 것을 의미\n",
    "\n",
    "예를 들어 S=0001100 일 때,\n",
    "전체를 뒤집으면 1110011이 된다.\n",
    "4번째 문자부터 5번째 문자까지 뒤집으면 1111111이 되어서 2번 만에 모두 같은 숫자로 만들 수 있다.\n",
    "하지만, 처음부터 4번째 문자부터 5번째 문자까지 문자를 뒤집으면 한 번에 0000000이 되어서 1번 만에 모두 같은 숫자로 만들 수 있다.\n",
    "\n",
    "문자열 S가 주어졌을 때 다솜이가 해야하는 행동의 최소 횟수를 출력하시오.\n",
    "\n",
    "입력\n",
    "첫째 줄에 문자열 S가 주어진다. S의 길이는 100만보다 작다.\n",
    "\n",
    "출력\n",
    "첫째 줄에 다솜이가 해야하는 행동의 최소 횟수를 출력한다.\n",
    "\n",
    "예제 입력 \n",
    "0001100\n",
    "\n",
    "예제 출력 1 \n",
    "1"
   ]
  },
  {
   "cell_type": "code",
   "execution_count": null,
   "id": "7a80edd6-3ff5-4da9-8ced-1e05407da0dc",
   "metadata": {},
   "outputs": [],
   "source": []
  },
  {
   "cell_type": "code",
   "execution_count": null,
   "id": "2c2f377f-397b-4cde-914f-d088237f36f1",
   "metadata": {},
   "outputs": [],
   "source": []
  },
  {
   "cell_type": "code",
   "execution_count": null,
   "id": "40342d02-7cd2-45c8-802f-79da5efd6a53",
   "metadata": {},
   "outputs": [],
   "source": [
    "문제3 - 순위 매기기\n",
    "KOI에 N명의 학생들이 참가하였다. \n",
    "경시일 전날인 예비소집일에 모든 학생들은 자신이 N명 중에서 몇 등을 할 것인지 예상 등수를 적어서 제출하도록 하였다.\n",
    "KOI 담당조교로 참가한 조교는 실수로 모든 학생의 프로그램을 날려 버렸다.\n",
    "1등부터 N등까지 동석차 없이 등수를 매겨야 하는 조교는 어쩔 수 없이 각 사람이 제출한 예상 등수를 바탕으로 임의로 등수를 매기기로 했다.\n",
    "자신의 등수를 A등으로 예상하였는데 실제 등수가 B등이 될 경우 이 사람의 불만도는 A와 B의 차이 (|A - B|)로 수치화할 수 있다. \n",
    "당신은 N명의 사람들의 불만도의 총 합을 최소로 하면서, 학생들의 등수를 매기려고 한다.\n",
    "각 사람의 예상 등수가 주어졌을 때 조교를 도와 이러한 불만도의 합을 최소로 하는 프로그램을 작성하시오.\n",
    "\n",
    "입력\n",
    "첫째 줄에 자연수 N이 주어진다. \n",
    "(1 ≤ N ≤ 500,000) 둘째 줄부터 N개의 줄에 걸쳐 각 사람의 예상 등수가 순서대로 주어진다. \n",
    "예상 등수는 500,000 이하의 자연수이다.\n",
    "\n",
    "출력\n",
    "첫째 줄에 불만도의 합을 최소로 할 때, 그 불만도를 출력한다.\n",
    "\n",
    "예제 입력 \n",
    "5\n",
    "1\n",
    "5\n",
    "3\n",
    "1\n",
    "2\n",
    "예제 출력\n",
    "3"
   ]
  },
  {
   "cell_type": "code",
   "execution_count": null,
   "id": "53b1650f-878c-41a9-9a85-9fcbb6c9d6df",
   "metadata": {},
   "outputs": [],
   "source": []
  },
  {
   "cell_type": "code",
   "execution_count": null,
   "id": "e1d0017b-0f95-4a5d-a3f8-c3ffba95f8d9",
   "metadata": {},
   "outputs": [],
   "source": []
  },
  {
   "cell_type": "markdown",
   "id": "4d758036-d54f-424e-be4c-5bcbdad61054",
   "metadata": {},
   "source": [
    "문제4 - 크레인 박스 옮기기\n",
    "유저는 항구에서 일한다. 그리고 화물을 배에 실어야 한다. \n",
    "모든 화물은 박스에 안에 넣어져 있다. \n",
    "항구에는 크레인이 N대 있고, 1분에 박스를 하나씩 배에 실을 수 있다. \n",
    "모든 크레인은 동시에 움직인다.\n",
    "각 크레인은 무게 제한이 있다. \n",
    "이 무게 제한보다 무거운 박스는 크레인으로 움직일 수 없다. \n",
    "모든 박스를 배로 옮기는데 드는 시간의 최솟값을 구하는 프로그램을 작성하시오.\n",
    " \n",
    "입력\n",
    "첫째 줄에 N이 주어진다. N은 50보다 작거나 같은 자연수이다. \n",
    "둘째 줄에는 각 크레인의 무게 제한이 주어진다. 이 값은 1,000,000보다 작거나 같다. \n",
    "셋째 줄에는 박스의 수 M이 주어진다. M은 10,000보다 작거나 같은 자연수이다. \n",
    "넷째 줄에는 각 박스의 무게가 주어진다. 이 값도 1,000,000보다 작거나 같은 자연수이다.\n",
    "\n",
    "출력\n",
    "첫째 줄에 모든 박스를 배로 옮기는데 드는 시간의 최솟값을 출력한다. \n",
    "만약 모든 박스를 배로 옮길 수 없으면 -1을 출력한다.\n",
    "\n",
    "예제 입력\n",
    "3\n",
    "6 8 9\n",
    "5\n",
    "2 5 2 4 7\n",
    "\n",
    "예제 출력 \n",
    "2"
   ]
  },
  {
   "cell_type": "code",
   "execution_count": null,
   "id": "809e2faf-499f-4d65-8ec6-a3fcd0565ac8",
   "metadata": {},
   "outputs": [],
   "source": []
  },
  {
   "cell_type": "code",
   "execution_count": null,
   "id": "11fef9c6-39f3-415a-ae0d-2e7a7c013c3d",
   "metadata": {},
   "outputs": [],
   "source": []
  }
 ],
 "metadata": {
  "kernelspec": {
   "display_name": "Python 3 (ipykernel)",
   "language": "python",
   "name": "python3"
  },
  "language_info": {
   "codemirror_mode": {
    "name": "ipython",
    "version": 3
   },
   "file_extension": ".py",
   "mimetype": "text/x-python",
   "name": "python",
   "nbconvert_exporter": "python",
   "pygments_lexer": "ipython3",
   "version": "3.9.7"
  }
 },
 "nbformat": 4,
 "nbformat_minor": 5
}
